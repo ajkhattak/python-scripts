{
 "cells": [
  {
   "cell_type": "markdown",
   "metadata": {},
   "source": [
    "### Comparing mass balance in four column runs\n",
    "### 1. 3D column run\n",
    "### 2. no-subgrid (intermediate-model) column run\n",
    "### 2. subgrid (intermediate-model) column run with del_max = del_ex = depr_depth = 0 (trial parameters)\n",
    "### 2. subgrid (intermediate-model) column run with del_max = 0.4, del_ex = 0.2 , depr_depth = 0.15 (typical LCP)"
   ]
  },
  {
   "cell_type": "code",
   "execution_count": 1,
   "metadata": {},
   "outputs": [],
   "source": [
    "import sys, os\n",
    "import numpy as np\n",
    "import pandas as pd\n",
    "from matplotlib import pyplot as plt\n",
    "import scipy.signal\n",
    "import importlib\n",
    "import h5py\n",
    "sys.path.append('/Users/ajc/Core/PreProcessing/PyScript')\n",
    "import readdata"
   ]
  },
  {
   "cell_type": "code",
   "execution_count": 2,
   "metadata": {},
   "outputs": [],
   "source": [
    "path ='/Users/ajc/FUSE/simulations/tests/ats-intermediate-ngee-up/single_column/'\n",
    "path = \"/Users/ajc/Core/simulations/tests/ats-intermediate-ngee-up/single_column/\"\n",
    "Simulations = [['CESM_5050_R10_3D'], ['CESM_5050_R10_B'],['CESM_5050_R30_B'],['CESM_5050_R30_BX']]\n",
    "Sim_name = ['S1','S2','S3','S3X']\n",
    "f_name = ['ats_vis_surface_data.h5','ats_vis_surface_column_0_data.h5', 'ats_vis_surface_column_0_data.h5','ats_vis_surface_column_0_data.h5']\n",
    "snow_f_name = ['ats_vis_snow_data.h5','ats_vis_snow_column_0_data.h5', 'ats_vis_snow_column_0_data.h5','ats_vis_snow_column_0_data.h5']\n",
    "ss_f_name = ['ats_vis_data.h5','ats_vis_column_0_data.h5', 'ats_vis_column_0_data.h5','ats_vis_column_0_data.h5']\n",
    "\n",
    "var_name = ['surface', 'surface_column_0','surface_column_0','surface_column_0']\n",
    "snow_var_name = ['snow', 'snow_column_0','snow_column_0','snow_column_0']\n",
    "ss_var_name = ['domain', 'column_0','column_0','column_0']\n"
   ]
  },
  {
   "cell_type": "code",
   "execution_count": 3,
   "metadata": {},
   "outputs": [],
   "source": [
    "to_day_mm = 86400 * 1000\n",
    "to_day_year_mm = 86400 * 365 * 1000\n",
    "to_mm = 1000.\n",
    "surface_area = 1#61.92\n",
    "molar_den = 55500."
   ]
  },
  {
   "cell_type": "code",
   "execution_count": 4,
   "metadata": {},
   "outputs": [],
   "source": [
    "def getSurfaceData(i,var,hdf_file='ats_vis_surface_data.h5',yr_len=365, average=True):\n",
    "    Data = []\n",
    "    for s in Simulations[i]:\n",
    "        infile = os.path.join(path,s,hdf_file)\n",
    "        dx=h5py.File(infile,'r')\n",
    "        d = np.array(readdata.GetSurfVarFromVis_All(infile,var)[var])\n",
    "        if (average):\n",
    "            d = d.mean(axis=1)\n",
    "        else:\n",
    "            d = d.sum(axis=1)\n",
    "        L = len(d)%yr_len\n",
    "        if L >0:\n",
    "            d = d[:-L]\n",
    "        Data.append(d)\n",
    "    d = dict()\n",
    "    d[var] = np.concatenate(Data)\n",
    "    \n",
    "    return d"
   ]
  },
  {
   "cell_type": "code",
   "execution_count": 5,
   "metadata": {},
   "outputs": [],
   "source": [
    "def Evaporation(yr_len):\n",
    "    #time = 2006 + np.linspace(0,94,94,dtype='int')\n",
    "    d3_sf = []\n",
    "    sf_change = 0\n",
    "    Evap = dict()\n",
    "    for i,sim in enumerate(Simulations):\n",
    "        var = var_name[i] + '-evaporative_flux'\n",
    "        d1 = getSurfaceData(i, var, hdf_file=f_name[i],yr_len=yr_len)[var]\n",
    "        d2 = [x*to_day_mm for x in d1]\n",
    "        d3_sf = [x*to_day_mm for x in d2] \n",
    "        Evap[Sim_name[i]] = np.reshape(d1,(-1,yr_len)).mean(axis=1)*to_day_year_mm\n",
    "        print (len(Evap[Sim_name[i]]))\n",
    "    return Evap"
   ]
  },
  {
   "cell_type": "code",
   "execution_count": 6,
   "metadata": {},
   "outputs": [
    {
     "name": "stdout",
     "output_type": "stream",
     "text": [
      "5\n",
      "5\n",
      "5\n",
      "5\n"
     ]
    }
   ],
   "source": [
    "E_annual = Evaporation(yr_len=365)"
   ]
  },
  {
   "cell_type": "code",
   "execution_count": 29,
   "metadata": {},
   "outputs": [],
   "source": [
    "def SF_WaterContent(yr_len=365):\n",
    "    SF_WC = dict()\n",
    "    for i,sim in enumerate(Simulations):\n",
    "        var = var_name[i] + '-water_content'\n",
    "        d1_sf = getSurfaceData(i, var, hdf_file=f_name[i],yr_len=yr_len)[var]\n",
    "\n",
    "        factor = 1/(molar_den *surface_area)*to_mm\n",
    "        d2_sf = [x*factor for x in d1_sf]\n",
    "        d3_sf = np.reshape(d2_sf,(-1,yr_len))\n",
    "        d_c = []\n",
    "        for d in d3_sf:\n",
    "            d_c.append(d[-1] - d[0])\n",
    "        SF_WC[Sim_name[i]] = d_c\n",
    "        print (len(SF_WC[Sim_name[i]]),SF_WC[Sim_name[i]])\n",
    "    return SF_WC"
   ]
  },
  {
   "cell_type": "code",
   "execution_count": 30,
   "metadata": {},
   "outputs": [
    {
     "name": "stdout",
     "output_type": "stream",
     "text": [
      "5 [0.0, 0.0, 6.962402929939931, -6.962402929939931, 0.0]\n",
      "5 [0.0, 0.0, 7.229120223241786, -7.229120223241786, 0.0]\n",
      "5 [0.0, 0.0, 8.744225782354867, -8.744225782354869, 0.0]\n",
      "5 [0.0, 0.0, 5.715687215785874, -5.715687215668908, 0.0]\n"
     ]
    }
   ],
   "source": [
    "SF_WC = SF_WaterContent(yr_len=365)"
   ]
  },
  {
   "cell_type": "code",
   "execution_count": 9,
   "metadata": {},
   "outputs": [],
   "source": [
    "def getSubSurfaceData(i,hdf_file='visdump_data.h5',yr_len=365,average=False):\n",
    "    Data = []\n",
    "    if 'column' in ss_var_name[i]:\n",
    "        var = ss_var_name[i] + '-water_content'\n",
    "    else:\n",
    "        var = 'water_content'\n",
    "    hdf_file = ss_f_name[i]\n",
    "    #print ('getSubSurfaceData: ',i, var,hdf_file)\n",
    "    for s in Simulations[i]:\n",
    "        infile=os.path.join(path,s,hdf_file)\n",
    "        #print (infile)\n",
    "        d1_ss = readdata.GetSumSurfVarFromVis(file=infile, var=var)[var]\n",
    "        L = len(d1_ss)%yr_len\n",
    "        if L >0:\n",
    "            d1_ss = d1_ss[:-L]\n",
    "            \n",
    "        Data.append(d1_ss)\n",
    "    d = np.concatenate(Data)\n",
    "    \n",
    "    return d"
   ]
  },
  {
   "cell_type": "code",
   "execution_count": 31,
   "metadata": {},
   "outputs": [],
   "source": [
    "from multiprocessing import Pool\n",
    "from functools import partial\n",
    "num_processors = 4\n",
    "\n",
    "pool=Pool(processes = num_processors)\n",
    "\n",
    "def SS_WaterContent(yr_len=365):\n",
    "    SS_WC = dict()\n",
    "\n",
    "    prod_x=partial(getSubSurfaceData,hdf_file=f_name[0],yr_len=yr_len)\n",
    "    global DataS1, DataS2, DataS3\n",
    "    DataS1, DataS2, DataS3, DataS4 = pool.map(prod_x,[i for i in range(len(Simulations))])\n",
    "    d1 = [DataS1, DataS2,DataS3, DataS4]\n",
    "    for i in range(4):\n",
    "        d1_ss = d1[i]\n",
    "        factor = 1/(molar_den *surface_area)*to_mm\n",
    "        d2_ss = [x*factor for x in d1_ss]\n",
    "        d3_ss = np.reshape(d2_ss,(-1,yr_len))\n",
    "        d_c = []\n",
    "        for d in d3_ss:\n",
    "            d_c.append(d[-1] - d[0])\n",
    "        SS_WC[Sim_name[i]] = np.array(d_c)\n",
    "        print (SS_WC[Sim_name[i]])\n",
    "    return SS_WC"
   ]
  },
  {
   "cell_type": "code",
   "execution_count": 32,
   "metadata": {},
   "outputs": [
    {
     "name": "stdout",
     "output_type": "stream",
     "text": [
      "[69.49113818 89.64675106  6.11202279 -5.98408695 -8.78068533]\n",
      "[66.80960127 92.38116227  5.98853875 -5.23992982 -8.28910635]\n",
      "[ 67.7789983   91.97162699   5.45862636  -1.26222914 -12.33478714]\n",
      "[ 68.7805122   78.96584267  17.55178043 -15.19012273   0.8304029 ]\n"
     ]
    }
   ],
   "source": [
    "SS_WC = SS_WaterContent(yr_len=365)"
   ]
  },
  {
   "cell_type": "code",
   "execution_count": 33,
   "metadata": {},
   "outputs": [],
   "source": [
    "def Snow_WaterContent(yr_len=365):\n",
    "    SF_SC = dict()\n",
    "    for i,sim in enumerate(Simulations):\n",
    "        if 'column' in snow_var_name[i]: \n",
    "            var = snow_var_name[i] + '-snow_water_equivalent'\n",
    "        else:\n",
    "            var = 'snow-water_equivalent'\n",
    "\n",
    "        d1_sf = getSurfaceData(i, var, hdf_file=snow_f_name[i],yr_len=yr_len)[var]\n",
    "\n",
    "        factor = 1./(surface_area)*to_mm\n",
    "        d2_sf = [x*factor for x in d1_sf]\n",
    "        d3_sf = np.reshape(d2_sf,(-1,yr_len))\n",
    "        d_c = []\n",
    "        for d in d3_sf:\n",
    "            d_c.append(d[-1] - d[0])\n",
    "        SF_SC[Sim_name[i]] = np.array(d_c)\n",
    "        print (SF_SC[Sim_name[i]])\n",
    "    return SF_SC"
   ]
  },
  {
   "cell_type": "code",
   "execution_count": 34,
   "metadata": {},
   "outputs": [
    {
     "name": "stdout",
     "output_type": "stream",
     "text": [
      "[ 73.49153081 -30.39315673  51.24771654 -56.74586857 -27.227042  ]\n",
      "[ 72.93009726 -29.93951194  53.93625464 -58.59648728 -27.95920213]\n",
      "[ 74.68522357 -31.27299022  55.66912394 -60.59983394 -28.08938059]\n",
      "[ 79.05769116 -24.60411025  44.88799064 -48.45018884 -29.14460123]\n"
     ]
    }
   ],
   "source": [
    "SNOW_WC = Snow_WaterContent(yr_len=365)"
   ]
  },
  {
   "cell_type": "code",
   "execution_count": 14,
   "metadata": {},
   "outputs": [
    {
     "name": "stdout",
     "output_type": "stream",
     "text": [
      "5 5 5 5\n"
     ]
    }
   ],
   "source": [
    "print (len(E_annual['S1']), len(SS_WC['S1']), len(SF_WC['S1']), len(SNOW_WC['S1']))\n",
    "Total_S1 = E_annual['S1'] + SS_WC['S1'] + SF_WC['S1'] + SNOW_WC['S1'] \n",
    "Total_S2 = E_annual['S2'] + SS_WC['S2'] + SF_WC['S2'] + SNOW_WC['S2'] \n",
    "Total_S3 = E_annual['S3'] + SS_WC['S3'] + SF_WC['S3'] + SNOW_WC['S3'] \n",
    "Total_S3X = E_annual['S3X'] + SS_WC['S3X'] + SF_WC['S3X'] + SNOW_WC['S3X'] "
   ]
  },
  {
   "cell_type": "code",
   "execution_count": 15,
   "metadata": {},
   "outputs": [
    {
     "name": "stdout",
     "output_type": "stream",
     "text": [
      "[271.04934641 241.0641075  267.67086538 196.35346198 319.37246965] [269.64662733 240.43666292 284.47669907 201.54367047 324.89931719] [270.64411973 240.73224381 283.54288225 199.73606474 327.39550584] [270.44019194 241.11916345 283.01391422 199.71943977 328.75637964]\n"
     ]
    }
   ],
   "source": [
    "print (Total_S1, Total_S2,Total_S3, Total_S3X) "
   ]
  },
  {
   "cell_type": "code",
   "execution_count": 16,
   "metadata": {},
   "outputs": [],
   "source": [
    "forcing_watershed_FM = h5py.File(\"/Users/ajc/Core/PreProcessing/ats-intermediate-ngee/data/SNAP/CESM-RCP8.5-2006-2100_dm1985-2015-FM_2006.h5\",'r')"
   ]
  },
  {
   "cell_type": "code",
   "execution_count": 17,
   "metadata": {},
   "outputs": [],
   "source": [
    "d1 = forcing_watershed_FM['precipitation rain [m s^-1]']\n",
    "d2 = forcing_watershed_FM['precipitation snow [m SWE s^-1]']\n",
    "rain_mm = np.reshape(d1,(-1,365)).mean(axis=1)*86400*365*1000\n",
    "snow_mm = np.reshape(d2,(-1,365)).mean(axis=1)*86400*365*1000\n",
    "precip_annual = snow_mm + rain_mm\n",
    "r1 = np.array(d1)*86400*1000\n",
    "r2 = np.array(d2)*86400*1000\n",
    "precip_daily = r1 + r2"
   ]
  },
  {
   "cell_type": "code",
   "execution_count": 40,
   "metadata": {},
   "outputs": [
    {
     "data": {
      "image/png": "[encoded data removed]",
      "text/plain": [
       "<Figure size 432x288 with 1 Axes>"
      ]
     },
     "metadata": {
      "needs_background": "light"
     },
     "output_type": "display_data"
    }
   ],
   "source": [
    "plt.plot(precip_annual[0:5] - Total_S1, 'r-',label='3D')\n",
    "plt.plot(precip_annual[0:5] - Total_S2, 'g-',label='no_sg')\n",
    "plt.plot(precip_annual[0:5] - Total_S3, 'b-',label='sg_null')\n",
    "plt.plot(precip_annual[0:5] - Total_S3X,'k-',label='sg')\n",
    "plt.title(r'P - (ET + $\\Delta$ S + $\\Delta$ SF + $\\Delta$ SWE), Q=0')\n",
    "plt.xlim(0,4)\n",
    "plt.xlabel('Year')\n",
    "plt.legend(loc='upper left')\n",
    "plt.show()"
   ]
  },
  {
   "cell_type": "code",
   "execution_count": 19,
   "metadata": {},
   "outputs": [
    {
     "name": "stdout",
     "output_type": "stream",
     "text": [
      "[128.06667742 181.81051317 203.34872312 266.04582043 355.38019698] [129.9069288  177.99501259 217.32278545 272.60920779 361.14762566] [128.17989786 180.03360704 213.67090617 270.34235361 367.81967357] [122.60198858 186.75743103 214.85845593 269.07543855 357.07057797]\n",
      "[69.49113818368278, 89.64675105662536, 6.112022789769981, -5.984086953547376, -8.780685333444126] [66.80960126599166, 92.38116226639977, 5.988538754776528, -5.23992982162963, -8.28910634566273] [67.77899829606395, 91.97162699451292, 5.458626355706656, -1.26222914313621, -12.334787139483524] [68.7805121951751, 78.96584266579521, 17.551780432469968, -15.190122725940455, 0.8304028966631449]\n",
      "[0.0, 0.0, 6.962402929939931, -6.962402929939931, 0.0] [0.0, 0.0, 7.229120223241786, -7.229120223241786, 0.0] [0.0, 0.0, 8.744225782354867, -8.744225782354869, 0.0] [0.0, 0.0, 5.715687215785874, -5.715687215668908, 0.0]\n",
      "[73.4915308052356, -30.39315673271225, 51.24771653912046, -56.74586857377538, -27.22704199579907] [72.93009726131524, -29.93951193691651, 53.936254642313244, -58.59648728174436, -27.95920212649355] [74.68522357363965, -31.272990222286886, 55.66912394111482, -60.5998339449254, -28.08938058728243] [79.05769116105328, -24.60411024709795, 44.88799063874701, -48.45018883806826, -29.144601227815198]\n"
     ]
    }
   ],
   "source": [
    "print (E_annual['S1'], E_annual['S2'], E_annual['S3'], E_annual['S3X'])\n",
    "print (SS_WC['S1'], SS_WC['S2'], SS_WC['S3'], SS_WC['S3X'])\n",
    "print (SF_WC['S1'], SF_WC['S2'], SF_WC['S3'], SF_WC['S3X'])\n",
    "print (SNOW_WC['S1'], SNOW_WC['S2'], SNOW_WC['S3'], SNOW_WC['S3X'])"
   ]
  },
  {
   "cell_type": "code",
   "execution_count": null,
   "metadata": {},
   "outputs": [],
   "source": []
  },
  {
   "cell_type": "code",
   "execution_count": null,
   "metadata": {},
   "outputs": [],
   "source": []
  }
 ],
 "metadata": {
  "kernelspec": {
   "display_name": "Python 3",
   "language": "python",
   "name": "python3"
  },
  "language_info": {
   "codemirror_mode": {
    "name": "ipython",
    "version": 3
   },
   "file_extension": ".py",
   "mimetype": "text/x-python",
   "name": "python",
   "nbconvert_exporter": "python",
   "pygments_lexer": "ipython3",
   "version": "3.7.6"
  }
 },
 "nbformat": 4,
 "nbformat_minor": 4
}
