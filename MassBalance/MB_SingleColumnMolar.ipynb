{
 "cells": [
  {
   "cell_type": "markdown",
   "metadata": {},
   "source": [
    "### Comparing mass balance in four column runs\n",
    "### 1. 3D column run\n",
    "### 2. no-subgrid (intermediate-model) column run\n",
    "### 2. subgrid (intermediate-model) column run with del_max = del_ex = depr_depth = 0 (trial parameters)\n",
    "### 2. subgrid (intermediate-model) column run with del_max = 0.4, del_ex = 0.2 , depr_depth = 0.15 (typical LCP)"
   ]
  },
  {
   "cell_type": "code",
   "execution_count": 1,
   "metadata": {},
   "outputs": [],
   "source": [
    "import sys, os\n",
    "import numpy as np\n",
    "import pandas as pd\n",
    "from matplotlib import pyplot as plt\n",
    "import scipy.signal\n",
    "import importlib\n",
    "import h5py\n",
    "sys.path.append('/Users/ajc/Core/PreProcessing/PyScript')\n",
    "import readdata"
   ]
  },
  {
   "cell_type": "code",
   "execution_count": 2,
   "metadata": {},
   "outputs": [],
   "source": [
    "path ='/Users/ajc/FUSE/simulations/tests/ats-intermediate-ngee-up/single_column/'\n",
    "path = \"/Users/ajc/Core/simulations/tests/ats-intermediate-ngee-up/single_column/\"\n",
    "Simulations = [['CESM_5050_R10_3D'], ['CESM_5050_R10_B'],['CESM_5050_R30_B'],['CESM_5050_R30_BX']]\n",
    "Sim_name = ['S1','S2','S3','S3X']\n",
    "f_name = ['ats_vis_surface_data.h5','ats_vis_surface_column_0_data.h5', 'ats_vis_surface_column_0_data.h5','ats_vis_surface_column_0_data.h5']\n",
    "snow_f_name = ['ats_vis_snow_data.h5','ats_vis_snow_column_0_data.h5', 'ats_vis_snow_column_0_data.h5','ats_vis_snow_column_0_data.h5']\n",
    "ss_f_name = ['ats_vis_data.h5','ats_vis_column_0_data.h5', 'ats_vis_column_0_data.h5','ats_vis_column_0_data.h5']\n",
    "\n",
    "var_name = ['surface', 'surface_column_0','surface_column_0','surface_column_0']\n",
    "snow_var_name = ['snow', 'snow_column_0','snow_column_0','snow_column_0']\n",
    "ss_var_name = ['domain', 'column_0','column_0','column_0']\n"
   ]
  },
  {
   "cell_type": "code",
   "execution_count": 27,
   "metadata": {},
   "outputs": [],
   "source": [
    "to_day_mm = 86400 * 1000\n",
    "to_day_year_mm = 86400 * 365 * 1000\n",
    "to_day_year = 86400 * 365 \n",
    "to_mm = 1000.\n",
    "surface_area = 1#61.92\n",
    "molar_den = 1000./0.018\n"
   ]
  },
  {
   "cell_type": "code",
   "execution_count": 4,
   "metadata": {},
   "outputs": [],
   "source": [
    "def getSurfaceData(i,var,hdf_file='ats_vis_surface_data.h5',yr_len=365, average=True):\n",
    "    Data = []\n",
    "    for s in Simulations[i]:\n",
    "        infile = os.path.join(path,s,hdf_file)\n",
    "        dx=h5py.File(infile,'r')\n",
    "        d = np.array(readdata.GetSurfVarFromVis_All(infile,var)[var])\n",
    "        if (average):\n",
    "            d = d.mean(axis=1)\n",
    "        else:\n",
    "            d = d.sum(axis=1)\n",
    "        L = len(d)%yr_len\n",
    "        if L >0:\n",
    "            d = d[:-L]\n",
    "        Data.append(d)\n",
    "    d = dict()\n",
    "    d[var] = np.concatenate(Data)\n",
    "    \n",
    "    return d"
   ]
  },
  {
   "cell_type": "code",
   "execution_count": 43,
   "metadata": {},
   "outputs": [],
   "source": [
    "def Evaporation(yr_len):\n",
    "    #time = 2006 + np.linspace(0,94,94,dtype='int')\n",
    "    d3_sf = []\n",
    "    sf_change = 0\n",
    "    Evap = dict()\n",
    "    for i,sim in enumerate(Simulations):\n",
    "        var = var_name[i] + '-evaporative_flux'\n",
    "        d1 = getSurfaceData(i, var, hdf_file=f_name[i],yr_len=yr_len)[var]\n",
    "        d2 = [x*molar_den*surface_area for x in d1] # m/s --> m/s * moles/m^3 * m^2 = moles/sec\n",
    "        \n",
    "        Evap[Sim_name[i]] = np.reshape(d2,(-1,yr_len)).mean(axis=1)*to_day_year\n",
    "        print (Evap[Sim_name[i]])\n",
    "        print (Evap[Sim_name[i]]/molar_den*1000)\n",
    "        print ('---------_')\n",
    "    return Evap"
   ]
  },
  {
   "cell_type": "code",
   "execution_count": 44,
   "metadata": {},
   "outputs": [
    {
     "name": "stdout",
     "output_type": "stream",
     "text": [
      "[ 7114.81541228 10100.58406522 11297.15128447 14780.32335743\n",
      " 19743.34427655]\n",
      "[128.06667742 181.81051317 203.34872312 266.04582043 355.38019698]\n",
      "---------_\n",
      "[ 7217.05160014  9888.61181081 12073.4880804  15144.9559885\n",
      " 20063.75698119]\n",
      "[129.9069288  177.99501259 217.32278545 272.60920779 361.14762566]\n",
      "---------_\n",
      "[ 7121.10543664 10001.86705773 11870.60589861 15019.01964501\n",
      " 20434.42630918]\n",
      "[128.17989786 180.03360704 213.67090617 270.34235361 367.81967357]\n",
      "---------_\n",
      "[ 6811.22158774 10375.41283487 11936.58088505 14948.63547495\n",
      " 19837.25433158]\n",
      "[122.60198858 186.75743103 214.85845593 269.07543855 357.07057797]\n",
      "---------_\n"
     ]
    }
   ],
   "source": [
    "E_annual = Evaporation(yr_len=365)\n",
    "#print (E_annual['S1'], E_annual['S2'], E_annual['S3'], E_annual['S3X'])\n",
    "#print (E_annual['S1']/molar_den*1000,E_annual['S2']/molar_den*1000)"
   ]
  },
  {
   "cell_type": "code",
   "execution_count": 53,
   "metadata": {},
   "outputs": [],
   "source": [
    "def SF_WaterContent(yr_len=365):\n",
    "    SF_WC = dict()\n",
    "    for i,sim in enumerate(Simulations):\n",
    "        var = var_name[i] + '-water_content'\n",
    "        d1_sf = getSurfaceData(i, var, hdf_file=f_name[i],yr_len=yr_len)[var]\n",
    "\n",
    "        d3_sf = np.reshape(d1_sf,(-1,yr_len))\n",
    "        d_c = []\n",
    "        for d in d3_sf:\n",
    "            c1 = (d[-1] - d[0])#/365. # dt = 365 - 0\n",
    "            d_c.append(c1)\n",
    "        SF_WC[Sim_name[i]] = np.array(d_c)\n",
    "        print (SF_WC[Sim_name[i]])\n",
    "        print (SF_WC[Sim_name[i]]/molar_den*1000)\n",
    "    return SF_WC"
   ]
  },
  {
   "cell_type": "code",
   "execution_count": 54,
   "metadata": {},
   "outputs": [
    {
     "name": "stdout",
     "output_type": "stream",
     "text": [
      "[   0.            0.          386.41336261 -386.41336261    0.        ]\n",
      "[ 0.          0.          6.95544053 -6.95544053  0.        ]\n",
      "[   0.            0.          401.21617239 -401.21617239    0.        ]\n",
      "[ 0.         0.         7.2218911 -7.2218911  0.       ]\n",
      "[   0.            0.          485.30453092 -485.30453092    0.        ]\n",
      "[ 0.          0.          8.73548156 -8.73548156  0.        ]\n",
      "[   0.            0.          317.22064048 -317.22064047    0.        ]\n",
      "[ 0.          0.          5.70997153 -5.70997153  0.        ]\n"
     ]
    }
   ],
   "source": [
    "SF_WC = SF_WaterContent(yr_len=365)"
   ]
  },
  {
   "cell_type": "code",
   "execution_count": 9,
   "metadata": {},
   "outputs": [],
   "source": [
    "def getSubSurfaceData(i,hdf_file='visdump_data.h5',yr_len=365,average=False):\n",
    "    Data = []\n",
    "    if 'column' in ss_var_name[i]:\n",
    "        var = ss_var_name[i] + '-water_content'\n",
    "    else:\n",
    "        var = 'water_content'\n",
    "    hdf_file = ss_f_name[i]\n",
    "    #print ('getSubSurfaceData: ',i, var,hdf_file)\n",
    "    for s in Simulations[i]:\n",
    "        infile=os.path.join(path,s,hdf_file)\n",
    "        #print (infile)\n",
    "        d1_ss = readdata.GetSumSurfVarFromVis(file=infile, var=var)[var]\n",
    "        L = len(d1_ss)%yr_len\n",
    "        if L >0:\n",
    "            d1_ss = d1_ss[:-L]\n",
    "            \n",
    "        Data.append(d1_ss)\n",
    "    d = np.concatenate(Data)\n",
    "    \n",
    "    return d"
   ]
  },
  {
   "cell_type": "code",
   "execution_count": 55,
   "metadata": {},
   "outputs": [],
   "source": [
    "from multiprocessing import Pool\n",
    "from functools import partial\n",
    "num_processors = 4\n",
    "\n",
    "pool=Pool(processes = num_processors)\n",
    "\n",
    "def SS_WaterContent(yr_len=365):\n",
    "    SS_WC = dict()\n",
    "\n",
    "    prod_x=partial(getSubSurfaceData,hdf_file=f_name[0],yr_len=yr_len)\n",
    "    global DataS1, DataS2, DataS3\n",
    "    DataS1, DataS2, DataS3, DataS4 = pool.map(prod_x,[i for i in range(len(Simulations))])\n",
    "    d1 = [DataS1, DataS2,DataS3, DataS4]\n",
    "    for i in range(4):\n",
    "        d1_ss = d1[i]\n",
    "        d3_ss = np.reshape(d1_ss,(-1,yr_len))\n",
    "        d_c = []\n",
    "        for d in d3_ss:\n",
    "            c1 = (d[-1] - d[0])#/365. # dt = 365 -0 \n",
    "            d_c.append(c1)\n",
    "        SS_WC[Sim_name[i]] = np.array(d_c)\n",
    "        print (SS_WC[Sim_name[i]])\n",
    "        print (SS_WC[Sim_name[i]]/molar_den*1000)\n",
    "    return SS_WC"
   ]
  },
  {
   "cell_type": "code",
   "execution_count": 56,
   "metadata": {},
   "outputs": [
    {
     "name": "stdout",
     "output_type": "stream",
     "text": [
      "[3856.75816919 4975.39468364  339.21726483 -332.11682592 -487.32803601]\n",
      "[69.42164705 89.55710431  6.10591077 -5.97810287 -8.77190465]\n",
      "[3707.93287026 5127.15450579  332.36390089 -290.8161051  -460.04540218]\n",
      "[66.74279166 92.2887811   5.98255022 -5.23468989 -8.28081724]\n",
      "[3761.73440543 5104.4252982   302.95376274  -70.05371744 -684.58068624]\n",
      "[ 67.7112193   91.87965537   5.45316773  -1.26096691 -12.32245235]\n",
      "[3817.31842683 4382.60426795  974.123814   -843.05181129   46.08736076]\n",
      "[ 68.71173168  78.88687682  17.53422865 -15.1749326    0.82957249]\n"
     ]
    }
   ],
   "source": [
    "SS_WC = SS_WaterContent(yr_len=365)"
   ]
  },
  {
   "cell_type": "code",
   "execution_count": 59,
   "metadata": {},
   "outputs": [],
   "source": [
    "def Snow_WaterContent(yr_len=365):\n",
    "    SF_SC = dict()\n",
    "    for i,sim in enumerate(Simulations):\n",
    "        if 'column' in snow_var_name[i]: \n",
    "            var = snow_var_name[i] + '-snow_water_equivalent'\n",
    "        else:\n",
    "            var = 'snow-water_equivalent'\n",
    "\n",
    "        d1_sf = getSurfaceData(i, var, hdf_file=snow_f_name[i],yr_len=yr_len)[var]\n",
    "\n",
    "        d3_sf = np.reshape(d1_sf,(-1,yr_len))\n",
    "        d_c = []\n",
    "        for d in d3_sf:\n",
    "            c1 = (d[-1] - d[0]) * molar_den\n",
    "            d_c.append(c1)\n",
    "        SF_SC[Sim_name[i]] = np.array(d_c)\n",
    "        print (SF_SC[Sim_name[i]])\n",
    "        print (SF_SC[Sim_name[i]]/molar_den*1000)\n",
    "    return SF_SC"
   ]
  },
  {
   "cell_type": "code",
   "execution_count": 60,
   "metadata": {},
   "outputs": [
    {
     "name": "stdout",
     "output_type": "stream",
     "text": [
      "[ 4082.86282251 -1688.50870737  2847.09536328 -3152.5482541\n",
      " -1512.61344421]\n",
      "[ 73.49153081 -30.39315673  51.24771654 -56.74586857 -27.227042  ]\n",
      "[ 4051.67207007 -1663.30621872  2996.45859124 -3255.36040454\n",
      " -1553.28900703]\n",
      "[ 72.93009726 -29.93951194  53.93625464 -58.59648728 -27.95920213]\n",
      "[ 4149.17908742 -1737.38834568  3092.72910784 -3366.65744138\n",
      " -1560.52114374]\n",
      "[ 74.68522357 -31.27299022  55.66912394 -60.59983394 -28.08938059]\n",
      "[ 4392.09395339 -1366.89501373  2493.77725771 -2691.67715767\n",
      " -1619.14451266]\n",
      "[ 79.05769116 -24.60411025  44.88799064 -48.45018884 -29.14460123]\n"
     ]
    }
   ],
   "source": [
    "SNOW_WC = Snow_WaterContent(yr_len=365)"
   ]
  },
  {
   "cell_type": "code",
   "execution_count": 14,
   "metadata": {},
   "outputs": [
    {
     "name": "stdout",
     "output_type": "stream",
     "text": [
      "5 5 5 5\n"
     ]
    }
   ],
   "source": [
    "print (len(E_annual['S1']), len(SS_WC['S1']), len(SF_WC['S1']), len(SNOW_WC['S1']))\n",
    "Total_S1 = E_annual['S1'] + SS_WC['S1'] + SF_WC['S1'] + SNOW_WC['S1'] \n",
    "Total_S2 = E_annual['S2'] + SS_WC['S2'] + SF_WC['S2'] + SNOW_WC['S2'] \n",
    "Total_S3 = E_annual['S3'] + SS_WC['S3'] + SF_WC['S3'] + SNOW_WC['S3'] \n",
    "Total_S3X = E_annual['S3X'] + SS_WC['S3X'] + SF_WC['S3X'] + SNOW_WC['S3X'] "
   ]
  },
  {
   "cell_type": "code",
   "execution_count": 61,
   "metadata": {},
   "outputs": [
    {
     "name": "stdout",
     "output_type": "stream",
     "text": [
      "[270.97985527 240.97446075 267.65779095 196.36640847 319.38125033] [269.57981773 240.34428176 284.46348141 201.55613952 324.9076063 ] [270.57634073 240.64027218 283.5286794  199.74607119 327.40784063] [270.37141142 241.0401976  282.99064675 199.74034558 328.75554923]\n"
     ]
    }
   ],
   "source": [
    "#in mm\n",
    "#print (len(E_annual['S1']), len(SS_WC['S1']), len(SF_WC['S1']), len(SNOW_WC['S1']))\n",
    "Total_S1mm = (E_annual['S1'] + SS_WC['S1'] + SF_WC['S1'] + SNOW_WC['S1'])/molar_den*1000\n",
    "Total_S2mm = (E_annual['S2'] + SS_WC['S2'] + SF_WC['S2'] + SNOW_WC['S2'] )/molar_den*1000\n",
    "Total_S3mm = (E_annual['S3'] + SS_WC['S3'] + SF_WC['S3'] + SNOW_WC['S3'] )/molar_den*1000\n",
    "Total_S3Xmm = (E_annual['S3X'] + SS_WC['S3X'] + SF_WC['S3X'] + SNOW_WC['S3X'] )/molar_den*1000\n",
    "print (Total_S1mm,Total_S2mm,Total_S3mm,Total_S3Xmm)"
   ]
  },
  {
   "cell_type": "code",
   "execution_count": 16,
   "metadata": {},
   "outputs": [],
   "source": [
    "forcing_watershed_FM = h5py.File(\"/Users/ajc/Core/PreProcessing/ats-intermediate-ngee/data/SNAP/CESM-RCP8.5-2006-2100_dm1985-2015-FM_2006.h5\",'r')"
   ]
  },
  {
   "cell_type": "code",
   "execution_count": 17,
   "metadata": {},
   "outputs": [],
   "source": [
    "d1 = forcing_watershed_FM['precipitation rain [m s^-1]']\n",
    "d2 = forcing_watershed_FM['precipitation snow [m SWE s^-1]']\n",
    "\n",
    "d3 = [x +y for x,y in zip(d1,d2)]\n",
    "precip_annual = np.reshape(d3, (-1,365)).mean(axis=1)*molar_den*surface_area*to_day_year\n"
   ]
  },
  {
   "cell_type": "code",
   "execution_count": 64,
   "metadata": {},
   "outputs": [
    {
     "name": "stdout",
     "output_type": "stream",
     "text": [
      "259.0004231955746\n",
      "[-11.97943208  18.02596245  -8.65736776  62.63401473 -60.38082714] [-10.57939453  18.65614143 -25.46305821  57.44428368 -65.9071831 ]\n"
     ]
    }
   ],
   "source": [
    "print (precip_annual[0]/molar_den*1000) \n",
    "print ((precip_annual[0] - Total_S1)/molar_den*1000,(precip_annual[0] - Total_S2)/molar_den*1000)"
   ]
  },
  {
   "cell_type": "code",
   "execution_count": 66,
   "metadata": {},
   "outputs": [
    {
     "data": {
      "image/png": "[encoded data removed]",
      "text/plain": [
       "<Figure size 432x288 with 1 Axes>"
      ]
     },
     "metadata": {
      "needs_background": "light"
     },
     "output_type": "display_data"
    },
    {
     "name": "stdout",
     "output_type": "stream",
     "text": [
      "10.799999999999999\n"
     ]
    }
   ],
   "source": [
    "S1 = [(p - s) for p,s in zip(precip_annual,Total_S1)]\n",
    "S2 = [(p - s) for p,s in zip(precip_annual,Total_S2)]\n",
    "S3 = [(p - s) for p,s in zip(precip_annual,Total_S3)]\n",
    "S3X = [(p - s) for p,s in zip(precip_annual,Total_S3X)]\n",
    "\n",
    "plt.plot(S1, 'r-',label='3D')\n",
    "plt.plot(S2, 'g-',label='no_sg')\n",
    "plt.plot(S3, 'b-',label='sg_null')\n",
    "plt.plot(S3X,'k-',label='sg')\n",
    "plt.legend()\n",
    "plt.show()\n",
    "print (600/molar_den*1000)"
   ]
  },
  {
   "cell_type": "code",
   "execution_count": null,
   "metadata": {},
   "outputs": [],
   "source": []
  },
  {
   "cell_type": "code",
   "execution_count": null,
   "metadata": {},
   "outputs": [],
   "source": [
    "print (E_annual['S1'], E_annual['S2'], E_annual['S3'], E_annual['S3X'])\n",
    "print (SS_WC['S1'], SS_WC['S2'], SS_WC['S3'], SS_WC['S3X'])\n",
    "print (SF_WC['S1'], SF_WC['S2'], SF_WC['S3'], SF_WC['S3X'])\n",
    "print (SNOW_WC['S1'], SNOW_WC['S2'], SNOW_WC['S3'], SNOW_WC['S3X'])"
   ]
  },
  {
   "cell_type": "code",
   "execution_count": null,
   "metadata": {},
   "outputs": [],
   "source": [
    "128+ 69 + 73"
   ]
  },
  {
   "cell_type": "code",
   "execution_count": null,
   "metadata": {},
   "outputs": [],
   "source": []
  }
 ],
 "metadata": {
  "kernelspec": {
   "display_name": "Python 3",
   "language": "python",
   "name": "python3"
  },
  "language_info": {
   "codemirror_mode": {
    "name": "ipython",
    "version": 3
   },
   "file_extension": ".py",
   "mimetype": "text/x-python",
   "name": "python",
   "nbconvert_exporter": "python",
   "pygments_lexer": "ipython3",
   "version": "3.7.6"
  }
 },
 "nbformat": 4,
 "nbformat_minor": 4
}
