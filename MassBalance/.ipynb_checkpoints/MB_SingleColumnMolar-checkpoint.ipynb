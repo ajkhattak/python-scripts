{
 "cells": [
  {
   "cell_type": "markdown",
   "metadata": {},
   "source": [
    "### Comparing mass balance in four column runs\n",
    "### 1. 3D column run\n",
    "### 2. no-subgrid (intermediate-model) column run\n",
    "### 2. subgrid (intermediate-model) column run with del_max = del_ex = depr_depth = 0 (trial parameters)\n",
    "### 2. subgrid (intermediate-model) column run with del_max = 0.4, del_ex = 0.2 , depr_depth = 0.15 (typical LCP)"
   ]
  },
  {
   "cell_type": "code",
   "execution_count": 1,
   "metadata": {},
   "outputs": [],
   "source": [
    "import sys, os\n",
    "import numpy as np\n",
    "import pandas as pd\n",
    "from matplotlib import pyplot as plt\n",
    "import scipy.signal\n",
    "import importlib\n",
    "import h5py\n",
    "sys.path.append('/Users/ajc/Core/PreProcessing/PyScript')\n",
    "import readdata"
   ]
  },
  {
   "cell_type": "code",
   "execution_count": 2,
   "metadata": {},
   "outputs": [],
   "source": [
    "path ='/Users/ajc/FUSE/simulations/tests/ats-intermediate-ngee-up/single_column/'\n",
    "Simulations = [['CESM_5050_R10_3D'], ['CESM_5050_R10_B'],['CESM_5050_R30_B'],['CESM_5050_R30_BX']]\n",
    "Sim_name = ['S1','S2','S3','S3X']\n",
    "f_name = ['ats_vis_surface_data.h5','ats_vis_surface_column_0_data.h5', 'ats_vis_surface_column_0_data.h5','ats_vis_surface_column_0_data.h5']\n",
    "snow_f_name = ['ats_vis_snow_data.h5','ats_vis_snow_column_0_data.h5', 'ats_vis_snow_column_0_data.h5','ats_vis_snow_column_0_data.h5']\n",
    "ss_f_name = ['ats_vis_data.h5','ats_vis_column_0_data.h5', 'ats_vis_column_0_data.h5','ats_vis_column_0_data.h5']\n",
    "\n",
    "var_name = ['surface', 'surface_column_0','surface_column_0','surface_column_0']\n",
    "snow_var_name = ['snow', 'snow_column_0','snow_column_0','snow_column_0']\n",
    "ss_var_name = ['domain', 'column_0','column_0','column_0']\n"
   ]
  },
  {
   "cell_type": "code",
   "execution_count": 28,
   "metadata": {},
   "outputs": [],
   "source": [
    "to_day_mm = 86400 * 1000\n",
    "to_day_year_mm = 86400 * 365 * 1000\n",
    "to_mm = 1000.\n",
    "surface_area = 1#61.92\n",
    "molar_den = 55500."
   ]
  },
  {
   "cell_type": "code",
   "execution_count": 29,
   "metadata": {},
   "outputs": [],
   "source": [
    "def getSurfaceData(i,var,hdf_file='ats_vis_surface_data.h5',yr_len=365, average=True):\n",
    "    Data = []\n",
    "    for s in Simulations[i]:\n",
    "        infile = os.path.join(path,s,hdf_file)\n",
    "        dx=h5py.File(infile,'r')\n",
    "        d = np.array(readdata.GetSurfVarFromVis_All(infile,var)[var])\n",
    "        if (average):\n",
    "            d = d.mean(axis=1)\n",
    "        else:\n",
    "            d = d.sum(axis=1)\n",
    "        L = len(d)%yr_len\n",
    "        if L >0:\n",
    "            d = d[:-L]\n",
    "        Data.append(d)\n",
    "    d = dict()\n",
    "    d[var] = np.concatenate(Data)\n",
    "    \n",
    "    return d"
   ]
  },
  {
   "cell_type": "code",
   "execution_count": 30,
   "metadata": {},
   "outputs": [],
   "source": [
    "def Evaporation(yr_len):\n",
    "    #time = 2006 + np.linspace(0,94,94,dtype='int')\n",
    "    d3_sf = []\n",
    "    sf_change = 0\n",
    "    Evap = dict()\n",
    "    for i,sim in enumerate(Simulations):\n",
    "        var = var_name[i] + '-evaporative_flux'\n",
    "        d1 = getSurfaceData(i, var, hdf_file=f_name[i],yr_len=yr_len)[var]\n",
    "        d2 = [x*to_day_mm for x in d1]\n",
    "        d3_sf = [x*to_day_mm for x in d2] \n",
    "        Evap[Sim_name[i]] = np.reshape(d1,(-1,yr_len)).mean(axis=1)*to_day_year_mm\n",
    "        print (len(Evap[Sim_name[i]]))\n",
    "    return Evap"
   ]
  },
  {
   "cell_type": "code",
   "execution_count": 31,
   "metadata": {},
   "outputs": [
    {
     "name": "stdout",
     "output_type": "stream",
     "text": [
      "1\n",
      "1\n",
      "1\n",
      "1\n"
     ]
    }
   ],
   "source": [
    "E_annual = Evaporation(yr_len=365)"
   ]
  },
  {
   "cell_type": "code",
   "execution_count": 32,
   "metadata": {},
   "outputs": [],
   "source": [
    "def SF_WaterContent(yr_len=365):\n",
    "    SF_WC = dict()\n",
    "    for i,sim in enumerate(Simulations):\n",
    "        var = var_name[i] + '-water_content'\n",
    "        d1_sf = getSurfaceData(i, var, hdf_file=f_name[i],yr_len=yr_len)[var]\n",
    "\n",
    "        factor = 1/(molar_den *surface_area)*to_mm\n",
    "        d2_sf = [x*factor for x in d1_sf]\n",
    "        d3_sf = np.reshape(d2_sf,(-1,yr_len))\n",
    "        d_c = []\n",
    "        for d in d3_sf:\n",
    "            d_c.append(d[-1] - d[0])\n",
    "        SF_WC[Sim_name[i]] = d_c\n",
    "        print (len(SF_WC[Sim_name[i]]))\n",
    "    return SF_WC"
   ]
  },
  {
   "cell_type": "code",
   "execution_count": 33,
   "metadata": {},
   "outputs": [
    {
     "name": "stdout",
     "output_type": "stream",
     "text": [
      "1\n",
      "1\n",
      "1\n",
      "1\n"
     ]
    }
   ],
   "source": [
    "SF_WC = SF_WaterContent(yr_len=365)"
   ]
  },
  {
   "cell_type": "code",
   "execution_count": 34,
   "metadata": {},
   "outputs": [],
   "source": [
    "def getSubSurfaceData(i,hdf_file='visdump_data.h5',yr_len=365,average=False):\n",
    "    Data = []\n",
    "    if 'column' in ss_var_name[i]:\n",
    "        var = ss_var_name[i] + '-water_content'\n",
    "    else:\n",
    "        var = 'water_content'\n",
    "    hdf_file = ss_f_name[i]\n",
    "    #print ('getSubSurfaceData: ',i, var,hdf_file)\n",
    "    for s in Simulations[i]:\n",
    "        infile=os.path.join(path,s,hdf_file)\n",
    "        #print (infile)\n",
    "        d1_ss = readdata.GetSumSurfVarFromVis(file=infile, var=var)[var]\n",
    "        L = len(d1_ss)%yr_len\n",
    "        if L >0:\n",
    "            d1_ss = d1_ss[:-L]\n",
    "            \n",
    "        Data.append(d1_ss)\n",
    "    d = np.concatenate(Data)\n",
    "    \n",
    "    return d"
   ]
  },
  {
   "cell_type": "code",
   "execution_count": 35,
   "metadata": {},
   "outputs": [],
   "source": [
    "from multiprocessing import Pool\n",
    "from functools import partial\n",
    "num_processors = 4\n",
    "\n",
    "pool=Pool(processes = num_processors)\n",
    "\n",
    "def SS_WaterContent(yr_len=365):\n",
    "    SS_WC = dict()\n",
    "\n",
    "    prod_x=partial(getSubSurfaceData,hdf_file=f_name[0],yr_len=yr_len)\n",
    "    global DataS1, DataS2, DataS3\n",
    "    DataS1, DataS2, DataS3, DataS4 = pool.map(prod_x,[i for i in range(len(Simulations))])\n",
    "    d1 = [DataS1, DataS2,DataS3, DataS4]\n",
    "    for i in range(4):\n",
    "        d1_ss = d1[i]\n",
    "        factor = 1/(molar_den *surface_area)*to_mm\n",
    "        d2_ss = [x*factor for x in d1_ss]\n",
    "        d3_ss = np.reshape(d2_ss,(-1,yr_len))\n",
    "        d_c = []\n",
    "        for d in d3_ss:\n",
    "            d_c.append(d[-1] - d[0])\n",
    "        SS_WC[Sim_name[i]] = d_c\n",
    "        print (len(SS_WC[Sim_name[i]]))\n",
    "    return SS_WC"
   ]
  },
  {
   "cell_type": "code",
   "execution_count": 36,
   "metadata": {},
   "outputs": [
    {
     "name": "stdout",
     "output_type": "stream",
     "text": [
      "1\n",
      "1\n",
      "1\n",
      "1\n"
     ]
    }
   ],
   "source": [
    "SS_WC = SS_WaterContent(yr_len=365)"
   ]
  },
  {
   "cell_type": "code",
   "execution_count": 37,
   "metadata": {},
   "outputs": [],
   "source": [
    "def Snow_WaterContent(yr_len=365):\n",
    "    SF_SC = dict()\n",
    "    for i,sim in enumerate(Simulations):\n",
    "        if 'column' in snow_var_name[i]: \n",
    "            var = snow_var_name[i] + '-snow_water_equivalent'\n",
    "        else:\n",
    "            var = 'snow-water_equivalent'\n",
    "\n",
    "        d1_sf = getSurfaceData(i, var, hdf_file=snow_f_name[i],yr_len=yr_len)[var]\n",
    "\n",
    "        factor = 1./(surface_area)*to_mm\n",
    "        d2_sf = [x*factor for x in d1_sf]\n",
    "        d3_sf = np.reshape(d2_sf,(-1,yr_len))\n",
    "        d_c = []\n",
    "        for d in d3_sf:\n",
    "            d_c.append(d[-1] - d[0])\n",
    "        SF_SC[Sim_name[i]] = d_c\n",
    "        print (len(SF_SC[Sim_name[i]]))\n",
    "    return SF_SC"
   ]
  },
  {
   "cell_type": "code",
   "execution_count": 38,
   "metadata": {},
   "outputs": [
    {
     "name": "stdout",
     "output_type": "stream",
     "text": [
      "1\n",
      "1\n",
      "1\n",
      "1\n"
     ]
    }
   ],
   "source": [
    "SNOW_WC = Snow_WaterContent(yr_len=365)"
   ]
  },
  {
   "cell_type": "code",
   "execution_count": 39,
   "metadata": {},
   "outputs": [
    {
     "name": "stdout",
     "output_type": "stream",
     "text": [
      "1 1 1 1\n"
     ]
    }
   ],
   "source": [
    "print (len(E_annual['S1']), len(SS_WC['S1']), len(SF_WC['S1']), len(SNOW_WC['S1']))\n",
    "Total_S1 = E_annual['S1'] + SS_WC['S1'] + SF_WC['S1'] + SNOW_WC['S1'] \n",
    "Total_S2 = E_annual['S2'] + SS_WC['S2'] + SF_WC['S2'] + SNOW_WC['S2'] \n",
    "Total_S3 = E_annual['S3'] + SS_WC['S3'] + SF_WC['S3'] + SNOW_WC['S3'] \n",
    "Total_S3X = E_annual['S3X'] + SS_WC['S3X'] + SF_WC['S3X'] + SNOW_WC['S3X'] "
   ]
  },
  {
   "cell_type": "code",
   "execution_count": 40,
   "metadata": {},
   "outputs": [
    {
     "name": "stdout",
     "output_type": "stream",
     "text": [
      "[271.47636406] [270.93940523] [270.80626677] [271.87255676]\n"
     ]
    }
   ],
   "source": [
    "print (Total_S1, Total_S2,Total_S3, Total_S3X) "
   ]
  },
  {
   "cell_type": "code",
   "execution_count": 41,
   "metadata": {},
   "outputs": [],
   "source": [
    "forcing_watershed_FM = h5py.File(\"/Users/ajc/Core/PreProcessing/ats-intermediate-ngee/data/SNAP/CESM-RCP8.5-2006-2100_dm1985-2015-FM_2006.h5\",'r')"
   ]
  },
  {
   "cell_type": "code",
   "execution_count": 42,
   "metadata": {},
   "outputs": [],
   "source": [
    "d1 = forcing_watershed_FM['precipitation rain [m s^-1]']\n",
    "d2 = forcing_watershed_FM['precipitation snow [m SWE s^-1]']\n",
    "rain_mm = np.reshape(d1,(-1,365)).mean(axis=1)*86400*365*1000\n",
    "snow_mm = np.reshape(d2,(-1,365)).mean(axis=1)*86400*365*1000\n",
    "precip_annual = snow_mm + rain_mm\n",
    "r1 = np.array(d1)*86400*1000\n",
    "r2 = np.array(d2)*86400*1000\n",
    "precip_daily = r1 + r2"
   ]
  },
  {
   "cell_type": "code",
   "execution_count": 43,
   "metadata": {},
   "outputs": [
    {
     "data": {
      "text/plain": [
       "259.0004231955746"
      ]
     },
     "execution_count": 43,
     "metadata": {},
     "output_type": "execute_result"
    }
   ],
   "source": [
    "precip_annual[0]"
   ]
  },
  {
   "cell_type": "code",
   "execution_count": 47,
   "metadata": {},
   "outputs": [
    {
     "name": "stdout",
     "output_type": "stream",
     "text": [
      "[128.28787273] [129.09115638] [128.33252145] [123.57727389]\n",
      "[69.66846153391089] [67.35586069647252] [67.78856553413425] [69.16004580542722]\n",
      "[0.0] [0.0] [0.0] [0.0]\n",
      "[73.52002979577588] [74.49238815061913] [74.6851797817539] [79.13523706336586]\n"
     ]
    }
   ],
   "source": [
    "print (E_annual['S1'], E_annual['S2'], E_annual['S3'], E_annual['S3X'])\n",
    "print (SS_WC['S1'], SS_WC['S2'], SS_WC['S3'], SS_WC['S3X'])\n",
    "print (SF_WC['S1'], SF_WC['S2'], SF_WC['S3'], SF_WC['S3X'])\n",
    "print (SNOW_WC['S1'], SNOW_WC['S2'], SNOW_WC['S3'], SNOW_WC['S3X'])"
   ]
  },
  {
   "cell_type": "code",
   "execution_count": 49,
   "metadata": {},
   "outputs": [
    {
     "data": {
      "text/plain": [
       "270"
      ]
     },
     "execution_count": 49,
     "metadata": {},
     "output_type": "execute_result"
    }
   ],
   "source": [
    "128+ 69 + 73"
   ]
  },
  {
   "cell_type": "code",
   "execution_count": null,
   "metadata": {},
   "outputs": [],
   "source": []
  }
 ],
 "metadata": {
  "kernelspec": {
   "display_name": "Python 3",
   "language": "python",
   "name": "python3"
  },
  "language_info": {
   "codemirror_mode": {
    "name": "ipython",
    "version": 3
   },
   "file_extension": ".py",
   "mimetype": "text/x-python",
   "name": "python",
   "nbconvert_exporter": "python",
   "pygments_lexer": "ipython3",
   "version": "3.7.6"
  }
 },
 "nbformat": 4,
 "nbformat_minor": 4
}
