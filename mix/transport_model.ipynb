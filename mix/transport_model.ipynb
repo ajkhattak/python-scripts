{
 "cells": [
  {
   "cell_type": "code",
   "execution_count": 1,
   "metadata": {},
   "outputs": [],
   "source": [
    "import numpy as np\n",
    "import matplotlib\n",
    "import matplotlib.pyplot as plt\n",
    "import sys,os\n"
   ]
  },
  {
   "cell_type": "code",
   "execution_count": 2,
   "metadata": {},
   "outputs": [
    {
     "ename": "OSError",
     "evalue": "/Users/ajc/FUSE/simulations/tests/ats-transport-subgrid-testsuite/tests/logical-surface-twoway/transport-logical/test0/surface-outlet.dat not found.",
     "output_type": "error",
     "traceback": [
      "\u001b[0;31m---------------------------------------------------------------------------\u001b[0m",
      "\u001b[0;31mOSError\u001b[0m                                   Traceback (most recent call last)",
      "\u001b[0;32m<ipython-input-2-26644dad39cf>\u001b[0m in \u001b[0;36m<module>\u001b[0;34m\u001b[0m\n\u001b[1;32m      1\u001b[0m \u001b[0msim\u001b[0m \u001b[0;34m=\u001b[0m \u001b[0;34m'test0'\u001b[0m\u001b[0;34m\u001b[0m\u001b[0;34m\u001b[0m\u001b[0m\n\u001b[1;32m      2\u001b[0m \u001b[0mpath\u001b[0m \u001b[0;34m=\u001b[0m \u001b[0;34m'/Users/ajc/FUSE/simulations/tests/ats-transport-subgrid-testsuite/tests/logical-surface-twoway/transport-logical/%s/'\u001b[0m\u001b[0;34m%\u001b[0m\u001b[0msim\u001b[0m\u001b[0;34m\u001b[0m\u001b[0;34m\u001b[0m\u001b[0m\n\u001b[0;32m----> 3\u001b[0;31m \u001b[0mTime_ATS\u001b[0m \u001b[0;34m=\u001b[0m \u001b[0mnp\u001b[0m\u001b[0;34m.\u001b[0m\u001b[0mloadtxt\u001b[0m\u001b[0;34m(\u001b[0m\u001b[0mos\u001b[0m\u001b[0;34m.\u001b[0m\u001b[0mpath\u001b[0m\u001b[0;34m.\u001b[0m\u001b[0mjoin\u001b[0m\u001b[0;34m(\u001b[0m\u001b[0mpath\u001b[0m\u001b[0;34m,\u001b[0m\u001b[0;34m'surface-outlet.dat'\u001b[0m\u001b[0;34m)\u001b[0m\u001b[0;34m,\u001b[0m\u001b[0musecols\u001b[0m\u001b[0;34m=\u001b[0m\u001b[0;36m0\u001b[0m\u001b[0;34m,\u001b[0m\u001b[0mskiprows\u001b[0m\u001b[0;34m=\u001b[0m\u001b[0;36m6\u001b[0m\u001b[0;34m)\u001b[0m\u001b[0;34m\u001b[0m\u001b[0;34m\u001b[0m\u001b[0m\n\u001b[0m\u001b[1;32m      4\u001b[0m \u001b[0mTime_ATS\u001b[0m \u001b[0;34m=\u001b[0m \u001b[0;34m[\u001b[0m\u001b[0mt\u001b[0m\u001b[0;34m/\u001b[0m\u001b[0;36m3600\u001b[0m \u001b[0;32mfor\u001b[0m \u001b[0mt\u001b[0m \u001b[0;32min\u001b[0m \u001b[0mTime_ATS\u001b[0m\u001b[0;34m]\u001b[0m\u001b[0;34m\u001b[0m\u001b[0;34m\u001b[0m\u001b[0m\n\u001b[1;32m      5\u001b[0m \u001b[0mData_ATS\u001b[0m \u001b[0;34m=\u001b[0m \u001b[0mnp\u001b[0m\u001b[0;34m.\u001b[0m\u001b[0mloadtxt\u001b[0m\u001b[0;34m(\u001b[0m\u001b[0mos\u001b[0m\u001b[0;34m.\u001b[0m\u001b[0mpath\u001b[0m\u001b[0;34m.\u001b[0m\u001b[0mjoin\u001b[0m\u001b[0;34m(\u001b[0m\u001b[0mpath\u001b[0m\u001b[0;34m,\u001b[0m\u001b[0;34m'surface-outlet.dat'\u001b[0m\u001b[0;34m)\u001b[0m\u001b[0;34m,\u001b[0m\u001b[0musecols\u001b[0m\u001b[0;34m=\u001b[0m\u001b[0;36m1\u001b[0m\u001b[0;34m,\u001b[0m\u001b[0mskiprows\u001b[0m\u001b[0;34m=\u001b[0m\u001b[0;36m6\u001b[0m\u001b[0;34m)\u001b[0m\u001b[0;34m\u001b[0m\u001b[0;34m\u001b[0m\u001b[0m\n",
      "\u001b[0;32m~/opt/anaconda3/lib/python3.7/site-packages/numpy/lib/npyio.py\u001b[0m in \u001b[0;36mloadtxt\u001b[0;34m(fname, dtype, comments, delimiter, converters, skiprows, usecols, unpack, ndmin, encoding, max_rows)\u001b[0m\n\u001b[1;32m    979\u001b[0m             \u001b[0mfname\u001b[0m \u001b[0;34m=\u001b[0m \u001b[0mos_fspath\u001b[0m\u001b[0;34m(\u001b[0m\u001b[0mfname\u001b[0m\u001b[0;34m)\u001b[0m\u001b[0;34m\u001b[0m\u001b[0;34m\u001b[0m\u001b[0m\n\u001b[1;32m    980\u001b[0m         \u001b[0;32mif\u001b[0m \u001b[0m_is_string_like\u001b[0m\u001b[0;34m(\u001b[0m\u001b[0mfname\u001b[0m\u001b[0;34m)\u001b[0m\u001b[0;34m:\u001b[0m\u001b[0;34m\u001b[0m\u001b[0;34m\u001b[0m\u001b[0m\n\u001b[0;32m--> 981\u001b[0;31m             \u001b[0mfh\u001b[0m \u001b[0;34m=\u001b[0m \u001b[0mnp\u001b[0m\u001b[0;34m.\u001b[0m\u001b[0mlib\u001b[0m\u001b[0;34m.\u001b[0m\u001b[0m_datasource\u001b[0m\u001b[0;34m.\u001b[0m\u001b[0mopen\u001b[0m\u001b[0;34m(\u001b[0m\u001b[0mfname\u001b[0m\u001b[0;34m,\u001b[0m \u001b[0;34m'rt'\u001b[0m\u001b[0;34m,\u001b[0m \u001b[0mencoding\u001b[0m\u001b[0;34m=\u001b[0m\u001b[0mencoding\u001b[0m\u001b[0;34m)\u001b[0m\u001b[0;34m\u001b[0m\u001b[0;34m\u001b[0m\u001b[0m\n\u001b[0m\u001b[1;32m    982\u001b[0m             \u001b[0mfencoding\u001b[0m \u001b[0;34m=\u001b[0m \u001b[0mgetattr\u001b[0m\u001b[0;34m(\u001b[0m\u001b[0mfh\u001b[0m\u001b[0;34m,\u001b[0m \u001b[0;34m'encoding'\u001b[0m\u001b[0;34m,\u001b[0m \u001b[0;34m'latin1'\u001b[0m\u001b[0;34m)\u001b[0m\u001b[0;34m\u001b[0m\u001b[0;34m\u001b[0m\u001b[0m\n\u001b[1;32m    983\u001b[0m             \u001b[0mfh\u001b[0m \u001b[0;34m=\u001b[0m \u001b[0miter\u001b[0m\u001b[0;34m(\u001b[0m\u001b[0mfh\u001b[0m\u001b[0;34m)\u001b[0m\u001b[0;34m\u001b[0m\u001b[0;34m\u001b[0m\u001b[0m\n",
      "\u001b[0;32m~/opt/anaconda3/lib/python3.7/site-packages/numpy/lib/_datasource.py\u001b[0m in \u001b[0;36mopen\u001b[0;34m(path, mode, destpath, encoding, newline)\u001b[0m\n\u001b[1;32m    267\u001b[0m \u001b[0;34m\u001b[0m\u001b[0m\n\u001b[1;32m    268\u001b[0m     \u001b[0mds\u001b[0m \u001b[0;34m=\u001b[0m \u001b[0mDataSource\u001b[0m\u001b[0;34m(\u001b[0m\u001b[0mdestpath\u001b[0m\u001b[0;34m)\u001b[0m\u001b[0;34m\u001b[0m\u001b[0;34m\u001b[0m\u001b[0m\n\u001b[0;32m--> 269\u001b[0;31m     \u001b[0;32mreturn\u001b[0m \u001b[0mds\u001b[0m\u001b[0;34m.\u001b[0m\u001b[0mopen\u001b[0m\u001b[0;34m(\u001b[0m\u001b[0mpath\u001b[0m\u001b[0;34m,\u001b[0m \u001b[0mmode\u001b[0m\u001b[0;34m,\u001b[0m \u001b[0mencoding\u001b[0m\u001b[0;34m=\u001b[0m\u001b[0mencoding\u001b[0m\u001b[0;34m,\u001b[0m \u001b[0mnewline\u001b[0m\u001b[0;34m=\u001b[0m\u001b[0mnewline\u001b[0m\u001b[0;34m)\u001b[0m\u001b[0;34m\u001b[0m\u001b[0;34m\u001b[0m\u001b[0m\n\u001b[0m\u001b[1;32m    270\u001b[0m \u001b[0;34m\u001b[0m\u001b[0m\n\u001b[1;32m    271\u001b[0m \u001b[0;34m\u001b[0m\u001b[0m\n",
      "\u001b[0;32m~/opt/anaconda3/lib/python3.7/site-packages/numpy/lib/_datasource.py\u001b[0m in \u001b[0;36mopen\u001b[0;34m(self, path, mode, encoding, newline)\u001b[0m\n\u001b[1;32m    621\u001b[0m                                       encoding=encoding, newline=newline)\n\u001b[1;32m    622\u001b[0m         \u001b[0;32melse\u001b[0m\u001b[0;34m:\u001b[0m\u001b[0;34m\u001b[0m\u001b[0;34m\u001b[0m\u001b[0m\n\u001b[0;32m--> 623\u001b[0;31m             \u001b[0;32mraise\u001b[0m \u001b[0mIOError\u001b[0m\u001b[0;34m(\u001b[0m\u001b[0;34m\"%s not found.\"\u001b[0m \u001b[0;34m%\u001b[0m \u001b[0mpath\u001b[0m\u001b[0;34m)\u001b[0m\u001b[0;34m\u001b[0m\u001b[0;34m\u001b[0m\u001b[0m\n\u001b[0m\u001b[1;32m    624\u001b[0m \u001b[0;34m\u001b[0m\u001b[0m\n\u001b[1;32m    625\u001b[0m \u001b[0;34m\u001b[0m\u001b[0m\n",
      "\u001b[0;31mOSError\u001b[0m: /Users/ajc/FUSE/simulations/tests/ats-transport-subgrid-testsuite/tests/logical-surface-twoway/transport-logical/test0/surface-outlet.dat not found."
     ]
    }
   ],
   "source": [
    "sim = 'test0'\n",
    "path = '/Users/ajc/FUSE/simulations/tests/ats-transport-subgrid-testsuite/tests/logical-surface-twoway/transport-logical/%s/'%sim\n",
    "Time_ATS = np.loadtxt(os.path.join(path,'surface-outlet.dat'),usecols=0,skiprows=6)\n",
    "Time_ATS = [t/3600 for t in Time_ATS]\n",
    "Data_ATS = np.loadtxt(os.path.join(path,'surface-outlet.dat'),usecols=1,skiprows=6)"
   ]
  },
  {
   "cell_type": "code",
   "execution_count": null,
   "metadata": {},
   "outputs": [],
   "source": [
    "A = 0.5496 # cross-sectional area\n",
    "Q = 0.1 # m^3/second\n",
    "a, b = 0, 1000\n",
    "dx = 100\n",
    "N = int((b-a)/dx) + 1#ncells\n",
    "print (N)\n",
    "T = 2*86400 # hour\n",
    "dt = 450\n",
    "Nt = int(T/dt) +1\n",
    "D = 0 #dispersion\n",
    "X = np.linspace(0,N,N)\n",
    "print (N)\n",
    "Vel = Q/A\n",
    "CFL = (Q/A) * dt /dx \n",
    "print ('CFL: ', CFL,Vel)\n",
    "\n",
    "Time_hr = [i*dt/3600 for i in range(Nt)]"
   ]
  },
  {
   "cell_type": "code",
   "execution_count": null,
   "metadata": {},
   "outputs": [],
   "source": [
    "#subgrid\n",
    "alpha = 1.7e-5\n"
   ]
  },
  {
   "cell_type": "code",
   "execution_count": null,
   "metadata": {},
   "outputs": [],
   "source": [
    "#Coef1 = 1 + 2 *dt*D/(dx**2) + dt * Q / (A*dx)\n",
    "#Coef2 = Q*dt/(A*dx) + dt * D /(dx**2)\n",
    "#Coef3 = dt * D /(dx**2) \n",
    "Coef1 = 1 - (Q * dt) / (A*dx)\n",
    "Coef2 = (Q * dt) / (A*dx)\n",
    "r = (dt/dx) *(Q/A)\n",
    "\n",
    "\n"
   ]
  },
  {
   "cell_type": "code",
   "execution_count": null,
   "metadata": {},
   "outputs": [],
   "source": [
    "Tstep = int(T/dt)\n",
    "\n",
    "Tau_0 = [3649.63, 1805.57, 1626.54, 1613.26, 1678.51, 1801.08, 1978.1, 2215.79, 2527.87, 2937.04, 3479.01, 4210.42, 5224.11, 6679.84, 8870.96, 12384.6, 18542.1, 30867.6, 61695.7, 185036.]\n",
    "\n",
    "Tau = np.cumsum(Tau_0)\n",
    "\n",
    "N_sg = len(Tau) + 1\n",
    "C_subgrid = np.zeros((Tstep+1,N+1,N_sg))\n",
    "\n",
    "def subgrid(j_sg,C_s):\n",
    "    global  C_subgrid\n",
    "    Gamma = []\n",
    "    for i in range(N):\n",
    "        \n",
    "        for k in range(N_sg):\n",
    "            if k == 0:\n",
    "                C_subgrid[j_sg,i,k] = C_s[i]\n",
    "            elif (k== N_sg -1):\n",
    "                C_subgrid[j_sg,i,k] = C_subgrid[j_sg-1,i,k-1]\n",
    "            else:\n",
    "                #print (i)\n",
    "                del_tau = Tau[k] - Tau[k-1]\n",
    "                r_sg = dt/del_tau\n",
    "                \n",
    "                C_subgrid[j_sg,i,k] = (1-r_sg) * C_subgrid[j_sg-1,i,k] + r_sg * C_subgrid[j_sg-1,i,k-1]\n",
    "       \n",
    "        s1 = np.sum(C_subgrid[j_sg,i,:])/len(Tau)\n",
    "        \n",
    "        Gamma.append(s1)\n",
    "        \n",
    "    return Gamma\n",
    "    "
   ]
  },
  {
   "cell_type": "code",
   "execution_count": null,
   "metadata": {},
   "outputs": [],
   "source": []
  },
  {
   "cell_type": "code",
   "execution_count": null,
   "metadata": {},
   "outputs": [],
   "source": [
    "\n",
    "C = np.zeros((Tstep+1,N))\n",
    "G = np.zeros(N)\n",
    "for j in range (Tstep):\n",
    "    #print ('----------------',j)\n",
    "    for i in range(N):\n",
    "        \n",
    "        if i == 0:\n",
    "            if j*dt <= 86400:\n",
    "                C[j+1,i] = 1 #- alpha*A*C[j,i]*dt + alpha*G[i]*dt\n",
    "                #print (alpha*A*C[j,i], alpha*G[i])\n",
    "            else:\n",
    "                C[j+1,i] = 0.0 - 0*alpha*C[j,i]*dt + 0*alpha*G[i]*dt\n",
    "        elif (i==N-1):\n",
    "            C[j+1,i] = C[j+1,i-1] - 1*alpha*C[j,i]*dt + 1*alpha*G[i]*dt\n",
    "        else:\n",
    "            C[j+1,i] = (1-r) * C[j,i] + r * C[j,i-1] - alpha*C[j,i]*dt  + alpha*G[i]*dt #have divided everything by A (cross-sectional area)\n",
    "            \n",
    "            \n",
    "    \n",
    "    G = subgrid(j+1,C_s=C[j+1,:])\n",
    "    "
   ]
  },
  {
   "cell_type": "code",
   "execution_count": null,
   "metadata": {},
   "outputs": [],
   "source": [
    "#plt.plot(X,C[Tstep,-1])\n",
    "%matplotlib qt\n",
    "plt.plot(Time_ATS,Data_ATS,'r',label='ATS')\n",
    "plt.plot(Time_hr,C[:,9],'k',label='mine')\n",
    "plt.legend()\n",
    "\n",
    "print (np.max(C[:,-1]))"
   ]
  },
  {
   "cell_type": "code",
   "execution_count": null,
   "metadata": {},
   "outputs": [],
   "source": []
  },
  {
   "cell_type": "code",
   "execution_count": null,
   "metadata": {},
   "outputs": [],
   "source": []
  }
 ],
 "metadata": {
  "kernelspec": {
   "display_name": "Python 3",
   "language": "python",
   "name": "python3"
  },
  "language_info": {
   "codemirror_mode": {
    "name": "ipython",
    "version": 3
   },
   "file_extension": ".py",
   "mimetype": "text/x-python",
   "name": "python",
   "nbconvert_exporter": "python",
   "pygments_lexer": "ipython3",
   "version": "3.7.6"
  }
 },
 "nbformat": 4,
 "nbformat_minor": 4
}
