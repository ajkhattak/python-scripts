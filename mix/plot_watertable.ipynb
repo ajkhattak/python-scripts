{
 "cells": [
  {
   "cell_type": "code",
   "execution_count": 1,
   "metadata": {},
   "outputs": [],
   "source": [
    "import numpy as np\n",
    "import os, sys\n",
    "import h5py\n",
    "import pandas as pd\n",
    "import matplotlib.pyplot as plt\n",
    "\n",
    "import datetime as DT\n",
    "import matplotlib.dates as mdates\n",
    "\n",
    "#sys.path.append('/Users/ajc/research/PreProcessing/python-scripts')\n",
    "#sys.path.append('/Users/ajc/Core/PostProcessData/PyScript')\n",
    "#sys.path.append('/Users/ajc/research/PreProcessing/python-scripts/ats-tools')\n",
    "#print (sys.path)\n",
    "sys.path.remove(sys.path[0])\n",
    "#print (sys.path)\n",
    "sys.path.append('/Users/ajc/Core/codes/simulator/debug/ats/tools/utils/')\n",
    "\n",
    "#import readdata as rd\n",
    "import plot_water_table2D\n",
    "#sys.path.append(os.getcwd())\n",
    "\n",
    "import importlib as imp\n",
    "#print (plot_water_table2D.__file__)"
   ]
  },
  {
   "cell_type": "code",
   "execution_count": 2,
   "metadata": {},
   "outputs": [],
   "source": [
    "import re\n",
    "def sorted_nicely( l ):\n",
    "    convert = lambda text: int(text) if text.isdigit() else text\n",
    "    alphanum_key = lambda key: [convert(c) for c in re.split('([0-9]+)', key)]\n",
    "    return sorted(l, key = alphanum_key)"
   ]
  },
  {
   "cell_type": "code",
   "execution_count": 3,
   "metadata": {},
   "outputs": [],
   "source": [
    "path = \"/Users/ajc/FUSE2/simulations/barrow_icewedges/hydrologic_connection/ProjectionsE/\""
   ]
  },
  {
   "cell_type": "code",
   "execution_count": null,
   "metadata": {},
   "outputs": [],
   "source": []
  },
  {
   "cell_type": "code",
   "execution_count": null,
   "metadata": {},
   "outputs": [],
   "source": []
  },
  {
   "cell_type": "code",
   "execution_count": null,
   "metadata": {},
   "outputs": [],
   "source": []
  },
  {
   "cell_type": "code",
   "execution_count": null,
   "metadata": {},
   "outputs": [],
   "source": [
    "simulation = 'CESM_C3A'\n",
    "Time, WaterLevelCenter, ThawDepthC, Z_c = plot_water_table2D.water_table2D(path + '%s/'%simulation)#,x_pos= 36)\n",
    "#Time, WaterLevelTrough, ThawDepthT, Z_t = plot_water_table2D.water_table2D(path + '%s/'%simulation, location='trough')#,x_pos=75)\n",
    "\n",
    "simulation = 'CESM_C4A'\n",
    "Time21, WaterLevelCenter21, ThawDepthC21, Z_c21 = plot_water_table2D.water_table2D(path + '%s/'%simulation)#,x_pos= 36)\n",
    "#Time, WaterLevelTrough, ThawDepthT, Z_t = plot_water_table2D.water_table2D(path + '%s/'%simulation, location='trough')#,x_pos=75)"
   ]
  },
  {
   "cell_type": "code",
   "execution_count": null,
   "metadata": {},
   "outputs": [],
   "source": [
    "simulation = 'CESM_C3A'\n",
    "Time, WaterLevelTrough, ThawDepthT, Z_t = plot_water_table2D.water_table2D(path + '%s/'%simulation, location='trough')\n",
    "simulation = 'CESM_C4A'\n",
    "Time21, WaterLevelTrough21, ThawDepthT21, Z_t21 = plot_water_table2D.water_table2D(path + '%s/'%simulation, location='trough')#,x_pos=75)"
   ]
  },
  {
   "cell_type": "code",
   "execution_count": 13,
   "metadata": {},
   "outputs": [
    {
     "name": "stdout",
     "output_type": "stream",
     "text": [
      "<HDF5 file \"visdump_surface_data.h5\" (mode r)>\n",
      "Location:  center 45\n",
      "Datum (surface elevation) [4.78019973]\n",
      "Mesh type:  HEX\n",
      "4 61 45 85\n",
      "<HDF5 file \"visdump_surface_data.h5\" (mode r)>\n",
      "Location:  center 45\n",
      "Datum (surface elevation) [4.78019973]\n",
      "Mesh type:  HEX\n",
      "4 61 45 85\n"
     ]
    }
   ],
   "source": [
    "simulation = 'test1'\n",
    "Time, WaterLevelCenter, ThawDepthC, Z_c = plot_water_table2D.water_table2D(path + '%s/'%simulation)#,x_pos= 36)\n",
    "Time21, WaterLevelCenter21, ThawDepthC21, Z_c21 = plot_water_table2D.water_table2D(path + '%s/'%simulation)#,x_pos= 36)\n",
    "#Time, WaterLevelTrough, ThawDepthT, Z_t = plot_water_table2D.water_table2D(path + '%s/'%simulation, location='trough')#,x_pos=75)\n",
    "#simulation = 'test1'\n",
    "#Time211, WaterLevelTrough211, ThawDepthT211, Z_t211 = plot_water_table2D.water_table2D(path + '%s/'%simulation, location='trough')#,x_pos=75)"
   ]
  },
  {
   "cell_type": "code",
   "execution_count": null,
   "metadata": {},
   "outputs": [],
   "source": []
  },
  {
   "cell_type": "code",
   "execution_count": 14,
   "metadata": {},
   "outputs": [
    {
     "name": "stdout",
     "output_type": "stream",
     "text": [
      "0.0013689253935660506 0.8227241615331964\n",
      "0.0013689253935660506 0.8227241615331964\n",
      "61\n"
     ]
    }
   ],
   "source": [
    "print (Time[0], Time[-1])\n",
    "print (Time21[0], Time21[-1])\n",
    "print (len(ThawDepthC))"
   ]
  },
  {
   "cell_type": "code",
   "execution_count": 15,
   "metadata": {},
   "outputs": [],
   "source": [
    "center = True\n",
    "trough = False"
   ]
  },
  {
   "cell_type": "code",
   "execution_count": 16,
   "metadata": {},
   "outputs": [
    {
     "name": "stdout",
     "output_type": "stream",
     "text": [
      "1: 61 61\n",
      "2: 61 61 61\n",
      "2: 61 61 61\n",
      "dict_keys(['time', 'WL_center', 'TD_center', 'water_level_center', 'time_center', 'thaw_depth_center'])\n"
     ]
    }
   ],
   "source": [
    "if (center):\n",
    "    DataSim =dict()\n",
    "    time = [t*365.25 for t in Time]\n",
    "\n",
    "    DataSim['time'] = time\n",
    "    print ('1:',len(ThawDepthC), len(WaterLevelCenter))\n",
    "    \n",
    "    DataSim['WL_center'] = WaterLevelCenter\n",
    "    DataSim['TD_center'] = [t + Z_c for t in ThawDepthC]\n",
    "\n",
    "    Data_C = []\n",
    "    Time_C = []\n",
    "\n",
    "    for i,d in enumerate(DataSim['WL_center']):\n",
    "        Data_C.append(d + Z_c)\n",
    "        Time_C.append(DataSim['time'][i])\n",
    "    DataSim['water_level_center'] = np.concatenate(Data_C)\n",
    "    DataSim['time_center'] = np.array(Time_C)\n",
    "    DataSim['thaw_depth_center'] = np.array(DataSim['TD_center'])\n",
    "    print ('2:',len(DataSim['thaw_depth_center']), len(DataSim['water_level_center']), len(DataSim['time_center']))\n",
    "\n",
    "\n",
    "    #-----------------------------------------------------------\n",
    "\n",
    "    DataSim21 =dict()\n",
    "    time = [t*365.25 for t in Time21]\n",
    "    DataSim21['time'] = time\n",
    "    \n",
    "    DataSim21['WL_center'] = WaterLevelCenter21\n",
    "    DataSim21['TD_center'] = [t + Z_c for t in ThawDepthC21]\n",
    "\n",
    "    Data_C = []\n",
    "    Time_C = []\n",
    "\n",
    "    for i,d in enumerate(DataSim21['WL_center']):\n",
    "        Data_C.append(d + Z_c)\n",
    "        Time_C.append(DataSim21['time'][i])\n",
    "\n",
    "    DataSim21['water_level_center'] = np.concatenate(Data_C)\n",
    "    DataSim21['time_center'] = np.array(Time_C)\n",
    "    DataSim21['thaw_depth_center'] = np.array(DataSim21['TD_center'])\n",
    "    print ('2:',len(DataSim21['thaw_depth_center']), len(DataSim21['water_level_center']), len(DataSim21['time_center']))\n",
    "    print (DataSim.keys())"
   ]
  },
  {
   "cell_type": "code",
   "execution_count": 17,
   "metadata": {},
   "outputs": [],
   "source": [
    "if (trough):\n",
    "    DataSim =dict()\n",
    "    time = [t*365.25 for t in Time]\n",
    "\n",
    "    DataSim['time'] = time\n",
    "    print ('1:',len(ThawDepthC), len(WaterLevelCenter))\n",
    "    \n",
    "    DataSim['WL_trough'] = WaterLevelCenter\n",
    "    DataSim['TD_trough'] = [t + Z_c for t in ThawDepthC]\n",
    "\n",
    "    Data_C = []\n",
    "    Time_C = []\n",
    "\n",
    "    for i,d in enumerate(DataSim['WL_trough']):\n",
    "        Data_C.append(d + Z_c)\n",
    "        Time_C.append(DataSim['time'][i])\n",
    "    \n",
    "\n",
    "    DataSim['water_level_trough'] = np.concatenate(Data_C)\n",
    "    DataSim['time_trough'] = np.array(Time_C)\n",
    "    DataSim['thaw_depth_trough'] = np.concatenate(DataSim['TD_trough'])\n",
    "    print ('1:',len(DataSim['thaw_depth_trough']), len(DataSim['water_level_trough']), len(DataSim['time_trough']))\n",
    "    \n",
    "    #-----------------------------------------------------------\n",
    "\n",
    "    DataSim21 =dict()\n",
    "    time = [t*365.25 for t in Time21]\n",
    "    DataSim21['time'] = time\n",
    "    \n",
    "    DataSim21['WL_trough'] = WaterLevelCenter21\n",
    "    DataSim21['TD_trough'] = [t + Z_c for t in ThawDepthC21]\n",
    "\n",
    "    Data_C = []\n",
    "    Time_C = []\n",
    "\n",
    "    for i,d in enumerate(DataSim21['WL_trough']):\n",
    "        Data_C.append(d + Z_c)\n",
    "        Time_C.append(DataSim21['time'][i])\n",
    "\n",
    "    DataSim21['water_level_trough'] = np.concatenate(Data_C)\n",
    "    DataSim21['time_trough'] = np.array(Time_C)\n",
    "    DataSim21['thaw_depth_trough'] = np.concatenate(DataSim21['TD_trough'])\n",
    "    print ('2:',len(DataSim21['thaw_depth_trough']), len(DataSim21['water_level_trough']), len(DataSim21['time_trough']))"
   ]
  },
  {
   "cell_type": "code",
   "execution_count": 18,
   "metadata": {},
   "outputs": [],
   "source": [
    "if center == True:\n",
    "    l = len(DataSim['TD_center'])%365\n",
    "    DataSim['TD_center_yr'] = np.reshape(DataSim['TD_center'][:-l],(-1,365)).min(axis=1)\n",
    "    l = len(DataSim21['TD_center'])%365\n",
    "    DataSim21['TD_center_yr'] = np.reshape(DataSim21['TD_center'][:-l],(-1,365)).min(axis=1)\n",
    "\n",
    "#l = len(DataSim['TD_trough'])%365\n",
    "#DataSim['TD_trough_yr'] = np.reshape(DataSim['TD_trough'][:-l],(-1,365)).min(axis=1)\n",
    "#l = len(DataSim21['TD_trough'])%365\n",
    "#DataSim21['TD_trough_yr'] = np.reshape(DataSim21['TD_trough'][:-l],(-1,365)).min(axis=1)"
   ]
  },
  {
   "cell_type": "code",
   "execution_count": 19,
   "metadata": {},
   "outputs": [],
   "source": [
    "if (trough):\n",
    "    plt.plot(DataSim['time_trough'], DataSim['water_level_trough'],'y',markersize='4',label='Simulated')\n",
    "    plt.plot(DataSim21['time_trough'],DataSim21['water_level_trough'],'m',markersize='4',label='Simulated')\n",
    "\n",
    "    plt.axhline(y=Z_t21+0.1-0.0025,linestyle='--',color='c')\n",
    "    plt.axhline(y=Z_t21+0.0025,linestyle='--',color='g')\n",
    "\n",
    "\n"
   ]
  },
  {
   "cell_type": "code",
   "execution_count": 20,
   "metadata": {},
   "outputs": [
    {
     "name": "stdout",
     "output_type": "stream",
     "text": [
      "dict_keys(['time', 'WL_center', 'TD_center', 'water_level_center', 'time_center', 'thaw_depth_center', 'TD_center_yr'])\n"
     ]
    }
   ],
   "source": [
    "print (DataSim.keys())"
   ]
  },
  {
   "cell_type": "code",
   "execution_count": 21,
   "metadata": {},
   "outputs": [
    {
     "data": {
      "image/png": "[encoded data removed]",
      "text/plain": [
       "<Figure size 432x288 with 1 Axes>"
      ]
     },
     "metadata": {
      "needs_background": "light"
     },
     "output_type": "display_data"
    }
   ],
   "source": [
    "if (center):\n",
    "\n",
    "    plt.plot(DataSim['time_center'], DataSim['water_level_center'],'y',markersize='4',label='Simulated')\n",
    "    plt.plot(DataSim21['time_center'],DataSim21['water_level_center'],'m',markersize='4',label='Simulated')\n",
    "\n",
    "    plt.axhline(y=Z_c,linestyle='--',color='g')\n"
   ]
  },
  {
   "cell_type": "code",
   "execution_count": null,
   "metadata": {},
   "outputs": [],
   "source": [
    "fig, axs = plt.subplots(1,1, figsize=(8,4), facecolor='w', edgecolor='k',gridspec_kw={'width_ratios':[1]})\n",
    "fig.subplots_adjust(hspace =.02, wspace=1.02)\n",
    "plt.tight_layout()\n",
    "plt.axhline(y=Z_c,linestyle='--',color='g')\n",
    "i1 =0\n",
    "x,y=73,0\n",
    "i2= i1 + 30\n",
    "print (len(DataSim['time_center']),len(DataSim['water_level_center']),len(DataSim['TD_center']))\n",
    "print (i1*x,i2*x,DataSim['time_center'][i1*x],DataSim['time_center'][i2*x])\n",
    "#print (DataSim['thaw_depth_center'][i1*x:i2*x])\n",
    "plt.plot(DataSim['time_center'][i1*x:i2*x+y],DataSim['thaw_depth_center'][i1*x:i2*x+y],'k',markersize='4',label='Simulated')\n",
    "plt.plot(DataSim21['time_center'][i1*x:i2*x+y],DataSim21['thaw_depth_center'][i1*x:i2*x+y],'r',markersize='4',label='Simulated')"
   ]
  },
  {
   "cell_type": "code",
   "execution_count": null,
   "metadata": {},
   "outputs": [],
   "source": [
    "#Effect of wetter/drier ice wedge polygon center on ice wedge and polygon trough"
   ]
  }
 ],
 "metadata": {
  "kernelspec": {
   "display_name": "Python 3",
   "language": "python",
   "name": "python3"
  },
  "language_info": {
   "codemirror_mode": {
    "name": "ipython",
    "version": 3
   },
   "file_extension": ".py",
   "mimetype": "text/x-python",
   "name": "python",
   "nbconvert_exporter": "python",
   "pygments_lexer": "ipython3",
   "version": "3.7.6"
  }
 },
 "nbformat": 4,
 "nbformat_minor": 2
}
