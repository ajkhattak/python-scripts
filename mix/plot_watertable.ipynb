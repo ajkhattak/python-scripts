{
 "cells": [
  {
   "cell_type": "code",
   "execution_count": 3,
   "metadata": {},
   "outputs": [],
   "source": [
    "import numpy as np\n",
    "import os, sys\n",
    "import h5py\n",
    "import pandas as pd\n",
    "import matplotlib.pyplot as plt\n",
    "\n",
    "import datetime as DT\n",
    "import matplotlib.dates as mdates\n",
    "\n",
    "sys.path.append('/Users/ajc/Core/SimDataInputs/ats-repo/ats-Aug6/tools/utils/')\n",
    "sys.path.append('/Users/ajc/Core/PostProcessData/PyScript')\n",
    "sys.path.append('/Users/ajc/Core/PostProcessData/PyScript/barrow')\n",
    "\n",
    "import readdata as rd\n",
    "import plot_water_table2D\n",
    "sys.path.append(os.getcwd())\n",
    "import SiteC_2012_2014WL \n",
    "\n",
    "import importlib as imp"
   ]
  },
  {
   "cell_type": "code",
   "execution_count": 4,
   "metadata": {},
   "outputs": [],
   "source": [
    "import re\n",
    "def sorted_nicely( l ):\n",
    "    convert = lambda text: int(text) if text.isdigit() else text\n",
    "    alphanum_key = lambda key: [convert(c) for c in re.split('([0-9]+)', key)]\n",
    "    return sorted(l, key = alphanum_key)"
   ]
  },
  {
   "cell_type": "code",
   "execution_count": 5,
   "metadata": {},
   "outputs": [],
   "source": [
    "path = \"/Users/ajc/FUSE/barrow_icewedges/hydrologic_connection/ProjectionsE/\""
   ]
  },
  {
   "cell_type": "code",
   "execution_count": 6,
   "metadata": {},
   "outputs": [
    {
     "name": "stdout",
     "output_type": "stream",
     "text": [
      "Location:  center 45\n",
      "Datum (surface elevation) [4.78019973]\n",
      "Location:  center 45\n",
      "Datum (surface elevation) [4.78019973]\n"
     ]
    }
   ],
   "source": [
    "simulation = 'CESM_C12'\n",
    "Time, WaterLevelCenter, ThawDepthC, Z_c = plot_water_table2D.water_table2D(path + '%s/'%simulation)#,x_pos= 36)\n",
    "#Time, WaterLevelTrough, ThawDepthT, Z_t = plot_water_table2D.water_table2D(path + '%s/'%simulation, location='trough')#,x_pos=75)\n",
    "\n",
    "simulation = 'CESM_C21'\n",
    "Time21, WaterLevelCenter21, ThawDepthC21, Z_c21 = plot_water_table2D.water_table2D(path + '%s/'%simulation)#,x_pos= 36)\n",
    "#Time, WaterLevelTrough, ThawDepthT, Z_t = plot_water_table2D.water_table2D(path + '%s/'%simulation, location='trough')#,x_pos=75)"
   ]
  },
  {
   "cell_type": "code",
   "execution_count": 7,
   "metadata": {},
   "outputs": [],
   "source": [
    "DataSim =dict()\n",
    "time = [3*365*0 + t*365.25 for t in Time]\n",
    "\n",
    "DataSim['time'] = time\n",
    "DataSim['WL_center'] = WaterLevelCenter\n",
    "#DataSim['WL_trough'] = WaterLevelTrough\n",
    "DataSim['TD_center'] = [t + Z_c for t in ThawDepthC]\n",
    "#DataSim['TD_trough'] = [t + Z_t for t in ThawDepthT]\n",
    "\n",
    "Data_C = []\n",
    "#Data_T = []\n",
    "Time_C = []\n",
    "#Time_T = []\n",
    "for i,d in enumerate(DataSim['WL_center']):\n",
    "    if d != 0:\n",
    "        Data_C.append(d + Z_c)\n",
    "        Time_C.append(DataSim['time'][i])\n",
    "\n",
    "\n",
    "DataSim['water_level_center'] = np.array(Data_C)\n",
    "#DataSim['water_level_trough'] = np.array(Data_T)\n",
    "DataSim['time_center'] = np.array(Time_C)\n",
    "#DataSim['time_trough'] = np.array(Time_T)\n",
    "\n",
    "#-----------------------------------------------------------\n",
    "\n",
    "DataSim21 =dict()\n",
    "time = [3*365*0 + t*365.25 for t in Time21]\n",
    "\n",
    "DataSim21['time'] = time\n",
    "DataSim21['WL_center'] = WaterLevelCenter21\n",
    "#DataSim['WL_trough'] = WaterLevelTrough\n",
    "DataSim21['TD_center'] = [t + Z_c for t in ThawDepthC21]\n",
    "#DataSim21['TD_trough'] = [t + Z_t for t in ThawDepthT21]\n",
    "\n",
    "Data_C = []\n",
    "#Data_T = []\n",
    "Time_C = []\n",
    "#Time_T = []\n",
    "for i,d in enumerate(DataSim21['WL_center']):\n",
    "    if d != 0:\n",
    "        Data_C.append(d + Z_c)\n",
    "        Time_C.append(DataSim21['time'][i])\n",
    "\n",
    "\n",
    "DataSim21['water_level_center'] = np.array(Data_C)\n",
    "#DataSim['water_level_trough'] = np.array(Data_T)\n",
    "DataSim21['time_center'] = np.array(Time_C)\n",
    "#DataSim['time_trough'] = np.array(Time_T)"
   ]
  },
  {
   "cell_type": "code",
   "execution_count": 16,
   "metadata": {},
   "outputs": [
    {
     "data": {
      "text/plain": [
       "[<matplotlib.lines.Line2D at 0x12beac908>]"
      ]
     },
     "execution_count": 16,
     "metadata": {},
     "output_type": "execute_result"
    }
   ],
   "source": [
    "%matplotlib tk\n",
    "#plt.plot(DataSim['time_center'][-365:], DataSim['water_level_center'][-365:],'k-',markersize='4',label='Simulated')\n",
    "#plt.plot(DataSim21['time_center'][-365:], DataSim21['water_level_center'][-365:],'r-',markersize='4',label='Simulated')\n",
    "plt.axhline(y=Z_c,linestyle='--',color='g')\n",
    "\n",
    "plt.plot(DataSim['time'], DataSim['TD_center'],'k-',markersize='4',label='Simulated')\n",
    "plt.plot(DataSim21['time'], DataSim21['TD_center'],'r-',markersize='4',label='Simulated')"
   ]
  },
  {
   "cell_type": "code",
   "execution_count": null,
   "metadata": {},
   "outputs": [],
   "source": []
  }
 ],
 "metadata": {
  "kernelspec": {
   "display_name": "Python 3",
   "language": "python",
   "name": "python3"
  },
  "language_info": {
   "codemirror_mode": {
    "name": "ipython",
    "version": 3
   },
   "file_extension": ".py",
   "mimetype": "text/x-python",
   "name": "python",
   "nbconvert_exporter": "python",
   "pygments_lexer": "ipython3",
   "version": "3.7.3"
  }
 },
 "nbformat": 4,
 "nbformat_minor": 2
}
