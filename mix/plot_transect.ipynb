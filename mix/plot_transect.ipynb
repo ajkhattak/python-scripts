{
 "cells": [
  {
   "cell_type": "code",
   "execution_count": 21,
   "metadata": {},
   "outputs": [],
   "source": [
    "import sys, os\n",
    "import math\n",
    "import h5py\n",
    "import matplotlib.pyplot as plt\n",
    "\n",
    "import math\n",
    "import scipy\n",
    "import numpy as np\n",
    "import csv\n",
    "sys.path.append('/Users/ajc/codes/simulator/debug/ats/tools/utils/')\n",
    "import parse_ats\n",
    "import h5py\n",
    "import mesh\n",
    "import transect_data\n",
    "from matplotlib.cm import get_cmap\n",
    "from scipy.interpolate import interp2d\n",
    "from scipy import interpolate"
   ]
  },
  {
   "cell_type": "code",
   "execution_count": 2,
   "metadata": {},
   "outputs": [],
   "source": [
    "path='/Users/ajc/FUSE/simulations/barrow_icewedges/hydrologic_connection/Spinup/test/'\n",
    "#Projections/CESM_C3/'\n"
   ]
  },
  {
   "cell_type": "code",
   "execution_count": 3,
   "metadata": {},
   "outputs": [
    {
     "name": "stdout",
     "output_type": "stream",
     "text": [
      "<HDF5 file \"visdump_data.h5\" (mode r)>\n"
     ]
    }
   ],
   "source": [
    "cycles, times, dat = parse_ats.readATS(path)#,timeunits='noleap')"
   ]
  },
  {
   "cell_type": "code",
   "execution_count": 4,
   "metadata": {},
   "outputs": [],
   "source": [
    "#print (dat.keys())"
   ]
  },
  {
   "cell_type": "code",
   "execution_count": 5,
   "metadata": {},
   "outputs": [],
   "source": [
    "#data = h5py.File(path + 'visdump_data.h5','r')\n",
    "#print (data)\n",
    "#print(data.keys(),keys)\n",
    "#cycles = list(data['base_porosity.cell.0'])\n",
    "#cycles"
   ]
  },
  {
   "cell_type": "code",
   "execution_count": null,
   "metadata": {},
   "outputs": [],
   "source": []
  },
  {
   "cell_type": "code",
   "execution_count": null,
   "metadata": {},
   "outputs": [],
   "source": []
  },
  {
   "cell_type": "code",
   "execution_count": 6,
   "metadata": {},
   "outputs": [],
   "source": [
    "d = list(dat[list(dat.keys())[0]][cycles[0]])"
   ]
  },
  {
   "cell_type": "code",
   "execution_count": 7,
   "metadata": {},
   "outputs": [
    {
     "name": "stdout",
     "output_type": "stream",
     "text": [
      "Mesh type:  HEX\n"
     ]
    }
   ],
   "source": [
    "col_dat, xyz = transect_data.transect_data(['temperature'], directory=path,return_map=True)"
   ]
  },
  {
   "cell_type": "code",
   "execution_count": 8,
   "metadata": {},
   "outputs": [],
   "source": [
    "def get_meshgrid():\n",
    "    lx = len(col_dat[0,0,:,0])\n",
    "    ly = len(col_dat[1,0,0,:])\n",
    "    Mx = np.zeros((ly,lx))\n",
    "    My = np.zeros((ly,lx))\n",
    "    for i in range(lx):\n",
    "        My[:,i] = np.array(col_dat[1,0,i,:][::-1])\n",
    "    for i in range(ly):\n",
    "        Mx[i,:] = col_dat[0,0,:,0]\n",
    "    return Mx,My\n",
    "\n",
    "def get_data_per_cycle(cycle = -1):\n",
    "    return np.transpose(col_dat[2,0,:,:])"
   ]
  },
  {
   "cell_type": "code",
   "execution_count": 9,
   "metadata": {},
   "outputs": [
    {
     "name": "stdout",
     "output_type": "stream",
     "text": [
      "(85, 38) (85, 38) (85, 38)\n",
      "[[0.09508 0.28525 0.47543 ... 8.01526 8.255   8.49476]\n",
      " [0.09508 0.28525 0.47543 ... 8.01526 8.255   8.49476]\n",
      " [0.09508 0.28525 0.47543 ... 8.01526 8.255   8.49476]\n",
      " ...\n",
      " [0.09508 0.28525 0.47543 ... 8.01526 8.255   8.49476]\n",
      " [0.09508 0.28525 0.47543 ... 8.01526 8.255   8.49476]\n",
      " [0.09508 0.28525 0.47543 ... 8.01526 8.255   8.49476]]\n"
     ]
    }
   ],
   "source": [
    "X,Y = get_meshgrid()\n",
    "Z = get_data_per_cycle(cycle=0)\n",
    "print (Z.shape, Y.shape, X.shape)\n",
    "print (X)"
   ]
  },
  {
   "cell_type": "code",
   "execution_count": null,
   "metadata": {},
   "outputs": [],
   "source": [
    "print (col_dat.shape,38*85)\n",
    "#col_dat[0,0,:,:] x-coord centroid\n",
    "#col_dat[1,0,:,:] z-coord centroid\n",
    "#col_dat[2,0,:,:] variable data at 0th time step\n",
    "#col_dat[2,1,:,:] variable data at 1st time step and so on\n",
    "#rint (col_dat[2,0,:,:])\n",
    "#print (col_dat[0,0,:,0])\n",
    "#print (col_dat[2,0,:,:])\n",
    "lx = len(col_dat[0,0,:,0])\n",
    "ly = len(col_dat[1,0,0,:])\n",
    "Mx = np.zeros((ly,lx))\n",
    "MY = np.zeros((ly,lx))\n",
    "X1 = col_dat[0,0,:,0]\n",
    "Y1 = col_dat[1,0,0,:][::-1]\n",
    "\n",
    "#print (lx,ly)\n",
    "print (Y1.shape)\n",
    "for i in range(lx):\n",
    "    MY[:,i] = np.array(col_dat[1,0,i,:][::-1])\n",
    "    Mx[i,:] = np.array(col_dat[1,0,:,i][::-1])\n",
    "X,Y = np.meshgrid(X1,Y1)\n",
    "Z= np.transpose(col_dat[2,0,:,:])\n",
    "#Z= col_dat[2,0,:,:]\n",
    "print (Y.shape, MY.shape, X.shape, Mx.shape)\n",
    "print (X)"
   ]
  },
  {
   "cell_type": "code",
   "execution_count": null,
   "metadata": {},
   "outputs": [],
   "source": []
  },
  {
   "cell_type": "code",
   "execution_count": 39,
   "metadata": {},
   "outputs": [
    {
     "data": {
      "image/png": "[encoded data removed]",
      "text/plain": [
       "<Figure size 864x648 with 2 Axes>"
      ]
     },
     "metadata": {
      "needs_background": "light"
     },
     "output_type": "display_data"
    }
   ],
   "source": [
    "from matplotlib.colors import BoundaryNorm\n",
    "fig,ax = plt.subplots(figsize=(12,9))\n",
    "#wspd_contours = plt.contourf(X,MY,Z,cmap=get_cmap(\"rainbow\"))\n",
    "#plt.colorbar(wspd_contours, ax=ax, orientation=\"vertical\", pad=.05)\n",
    "\n",
    "levels = list(range(260, 265, 1))\n",
    "cmap = plt.get_cmap('rainbow')\n",
    "norm = BoundaryNorm(levels, ncolors=cmap.N, clip=True)\n",
    "wspd_contours = ax.pcolormesh(X, Y, Z, cmap=get_cmap(\"rainbow\"), vmin=260, vmax=265,norm=norm)\n",
    "plt.colorbar(wspd_contours, ax=ax, orientation=\"vertical\", pad=.05)\n",
    "\n",
    "#plt.grid()\n",
    "ax.grid(True, which='minor', axis='both', linestyle='-', color='k')\n",
    "plt.ylim(3,)\n",
    "plt.xlabel('Distance [m]',fontsize=14,fontweight='bold')\n",
    "plt.ylabel('Depth [m]',fontsize=14)\n",
    "plt.show()"
   ]
  },
  {
   "cell_type": "code",
   "execution_count": null,
   "metadata": {},
   "outputs": [],
   "source": [
    "fig, ax = plt.subplots(1,1,figsize=(10,4))\n",
    "d = col_dat[2,0,:,:]#np.concatenate(col_dat[2,0,:,:])\n",
    "#a = transect_data.plot(d,ax,directory=path)"
   ]
  },
  {
   "cell_type": "code",
   "execution_count": null,
   "metadata": {},
   "outputs": [],
   "source": [
    "x= col_dat[0,0,:,:]\n",
    "print (x.shape)\n",
    "y = col_dat[1,0,:,:]\n",
    "print (y.shape)\n",
    "coords = np.array([[x],[y]])\n",
    "coords.shape"
   ]
  },
  {
   "cell_type": "code",
   "execution_count": null,
   "metadata": {},
   "outputs": [],
   "source": [
    "print (x,y)"
   ]
  },
  {
   "cell_type": "code",
   "execution_count": null,
   "metadata": {},
   "outputs": [],
   "source": [
    "%matplotlib inline\n",
    "fig = plt.figure()\n",
    "im = ax.imshow(coords)"
   ]
  },
  {
   "cell_type": "code",
   "execution_count": null,
   "metadata": {},
   "outputs": [],
   "source": [
    "delta = 0.025\n",
    "x = y = np.arange(-3.0, 3.0, delta)\n",
    "X, Y = np.meshgrid(x, y)\n",
    "Z1 = np.exp(-X**2 - Y**2)\n",
    "Z2 = np.exp(-(X - 1)**2 - (Y - 1)**2)\n",
    "Z = (Z1 - Z2) * 2"
   ]
  },
  {
   "cell_type": "code",
   "execution_count": null,
   "metadata": {},
   "outputs": [],
   "source": [
    "Z.shape"
   ]
  },
  {
   "cell_type": "code",
   "execution_count": null,
   "metadata": {},
   "outputs": [],
   "source": []
  }
 ],
 "metadata": {
  "kernelspec": {
   "display_name": "Python 3",
   "language": "python",
   "name": "python3"
  },
  "language_info": {
   "codemirror_mode": {
    "name": "ipython",
    "version": 3
   },
   "file_extension": ".py",
   "mimetype": "text/x-python",
   "name": "python",
   "nbconvert_exporter": "python",
   "pygments_lexer": "ipython3",
   "version": "3.7.3"
  }
 },
 "nbformat": 4,
 "nbformat_minor": 2
}
