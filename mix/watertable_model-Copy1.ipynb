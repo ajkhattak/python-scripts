{
 "cells": [
  {
   "cell_type": "code",
   "execution_count": null,
   "metadata": {},
   "outputs": [],
   "source": []
  },
  {
   "cell_type": "code",
   "execution_count": 1,
   "metadata": {},
   "outputs": [],
   "source": [
    "#************************* MAIN SCRIPT **********************************\n",
    "import sys\n",
    "import math\n",
    "import h5py\n",
    "import matplotlib.pyplot as plt\n",
    "import os\n",
    "import math\n",
    "from scipy import integrate\n",
    "import numpy as np\n",
    "import csv\n",
    "#os.path.append('/Users/ajc/Core/Projects/ATS-Data/OR-CONDO/PyScript')\n",
    "#import readdata\n",
    "\n",
    "import datetime as DT\n",
    "import matplotlib.dates as mdates\n",
    "import matplotlib\n",
    "font = {'family' : 'normal',\n",
    "        'weight' : 'normal',\n",
    "        'size'   : 12}\n",
    "matplotlib.rc('font', **font)"
   ]
  },
  {
   "cell_type": "code",
   "execution_count": 2,
   "metadata": {},
   "outputs": [],
   "source": [
    "time_origin = DT.datetime(2012,1,1,0,0,0)"
   ]
  },
  {
   "cell_type": "code",
   "execution_count": 3,
   "metadata": {},
   "outputs": [],
   "source": [
    "#path ='/Users/ajc/FUSE/simulations/forcing_data/Barrow-Validation/Barrow-2010_2016-updated-smooth.h5'\n",
    "path ='/Users/ajc/Core/PreProcessing/ats-intermediate-ngee/data/Barrow_Alaska/Barrow-2010_2016-updated-smooth-30pc.h5'\n",
    "\n",
    "\n",
    "#path_cesm ='/Users/ajc/FUSE/simulations/production/barrow_watershed/data/CESM/CESM-RCP8.5-2006-2100_dm1985-2018.h5' #old projection data with rain trend error\n",
    "#path_cesm ='/Users/ajc/Core/PreProcessing/ats-intermediate-ngee/data/SNAP/CESM-RCP8.5-2006-2100_dm1985-2015-FM.h5' # data with my script and single linear trend\n",
    "\n",
    "path_cesm ='/Users/ajc/Core/PreProcessing/ats-intermediate-ngee/data/SNAP/CESM-RCP8.5-2006-2100_dm1985-2015-ET.h5' # data with Ethan script and double linear trend\n",
    "\n",
    "\n",
    "path_wl_full = '/Users/ajc/Core/PreProcessing/barrow_icewedges/hydro_connectivity/waterlevel-3D-wellC37-2012-2014.h5'\n",
    "\n"
   ]
  },
  {
   "cell_type": "code",
   "execution_count": 4,
   "metadata": {},
   "outputs": [],
   "source": [
    "forcing = h5py.File(path,'r')\n",
    "forcing_cesm = h5py.File(path_cesm,'r')\n",
    "observed_path = h5py.File(path_wl_full,'r')\n"
   ]
  },
  {
   "cell_type": "code",
   "execution_count": 5,
   "metadata": {},
   "outputs": [],
   "source": [
    "r = int(len(forcing['precipitation rain [m s^-1]'])%365.)\n",
    "def reshape_forcing(forcing_data,nyear=-1,s=0,e=-1):\n",
    "    rain1 = [r*86400*10 for r in forcing_data['precipitation rain [m s^-1]'][s:e]]\n",
    "    L = len(rain1)%nyear\n",
    "    if L != 0:\n",
    "        rain1.append(rain1[-1])\n",
    "    rain = np.reshape(rain1, (nyear,365))\n",
    "    rain_time = [r/86400. - 2*365*0 for r in forcing_data['time [s]'][s:e]]\n",
    "\n",
    "    temp1 = [r for r in forcing_data['air temperature [K]'][s:e]]\n",
    "    if L != 0:\n",
    "        temp1.append(temp1[-1])\n",
    "    temp = np.reshape(temp1, (nyear,365))\n",
    "    temp_time = [r/86400. for r in forcing_data['time [s]'][s:e]]\n",
    "    if L != 0:\n",
    "        rain_time.append(rain_time[-1]+86400)\n",
    "    rain_time = [2010 + t/365. for t in rain_time] # ADDED today\n",
    "    time = np.reshape(rain_time, (nyear,365))\n",
    "\n",
    "    return rain, time, temp\n",
    "#------------------- 2014 ----------------------------\n",
    "observed_wt = dict()\n",
    "\n",
    "observed_wt['watertable'] = np.array([ (w-101325)/(1000*9.8) for w in observed_path['ponded depth C37 [m]), left']])\n",
    "observed_wt['time'] = np.array([t/86400 - 2*365*0 for t in observed_path['time [s]']])\n"
   ]
  },
  {
   "cell_type": "code",
   "execution_count": 6,
   "metadata": {},
   "outputs": [],
   "source": [
    "s = 2*365\n",
    "e = s + 3*365\n",
    "\n",
    "Prain, Time, Temp = reshape_forcing(forcing_data=forcing,nyear=3,s=s,e=e)\n",
    "Prain_cesm, Time_cesm, Temp_cesm = reshape_forcing(forcing_data=forcing_cesm,nyear=95)"
   ]
  },
  {
   "cell_type": "code",
   "execution_count": null,
   "metadata": {},
   "outputs": [],
   "source": []
  },
  {
   "cell_type": "code",
   "execution_count": 7,
   "metadata": {},
   "outputs": [],
   "source": [
    "def consecutive(datad, stepsize=1):\n",
    "    d = np.split(datad, np.where(np.diff(datad) != stepsize)[0]+1)\n",
    "    #l = np.argmax(np.array([len(x) for x in d]))\n",
    "    L = np.array([len(x) for x in d])\n",
    "    d2 = []\n",
    "    for i, l in enumerate(L):\n",
    "        if l > 7:\n",
    "            d2.append(d[i])\n",
    "    flat_d2 = [item for sublist in d2 for item in sublist]\n",
    "    return flat_d2\n",
    "\n",
    "def get_time_format(dat):\n",
    "    Dat = []\n",
    "    year = int(dat[0])\n",
    "    year_start = DT.date(year,1,1)\n",
    "    dateFormatted = year_start.strftime(\"%y\")\n",
    "    #year_start = format(dateFormatted)\n",
    "    for i in dat:\n",
    "        f = float(i)\n",
    "        delta = year_start + DT.timedelta(days = int((i-year)*365) )\n",
    "        #delta = format(dateFormatted) + DT.timedelta(days = int((i-year)*365) )\n",
    "        Dat.append(delta)\n",
    "    print ('Time formate:', len(dat), len(Dat), Dat[0], year_start)\n",
    "    return Dat"
   ]
  },
  {
   "cell_type": "code",
   "execution_count": null,
   "metadata": {},
   "outputs": [],
   "source": [
    "def get_water_level(Prain_,Time_,Temp_):\n",
    "    color = ['k','r','g','m','c','y']\n",
    "    fitted_wt = [] #dict()\n",
    "    fitted_Time = []\n",
    "    nyear = len(Prain_)\n",
    "    for i in range(nyear):\n",
    "        \n",
    "        temp_interval = consecutive(np.where(Temp_[i] > 273.15)[0])\n",
    "        I0, In = temp_interval[0]-1,temp_interval[-1]+1\n",
    "        \n",
    "        Rain = Prain_[i][I0:In]*100\n",
    "        \n",
    "        watertable = []\n",
    "        if i >-1:\n",
    "            watertable.append(0.1)\n",
    "            fitted_Time.append(Time_[i][I0-1:In+1])\n",
    "            fitted_Time = [0 + t for t in fitted_Time]\n",
    "        else:\n",
    "            fitted_Time.append(Time_[i][I0:In+1])\n",
    "        Rain_interval = np.where(Rain > 2.5)[0]\n",
    "        print (Rain_interval)\n",
    "        #print ('WL:', i, watertable[-1])\n",
    "        #fitted_Time.append(0)\n",
    "        s = 0.2 - 0.01*(Rain_interval[1] - Rain_interval[0])/7 # 0.01 m per week decrease\n",
    "        print ('S: ',s)\n",
    "        for j in range(Rain_interval[0]):\n",
    "            drain1 = s - 0.008*j\n",
    "\n",
    "            watertable.append(drain1)\n",
    "        print ('WL1\" ',i, watertable)\n",
    "        for j, val in enumerate(Rain_interval):\n",
    "            r1 = watertable[-1] + (Rain[val]/1000)**0.65\n",
    "            if watertable[-1] >0.1 and watertable[-1] <0.2:#heavy rain\n",
    "                r1 = watertable[-1] + (Rain[val]/1000)**1.1\n",
    "            if (val<Rain_interval[-1]):\n",
    "                dI = Rain_interval[j+1] - Rain_interval[j]\n",
    "            else:\n",
    "                dI = len(Rain) - (Rain_interval[-1])\n",
    "            water_2 = []\n",
    "            for k in range(dI):\n",
    "                if j < 3:\n",
    "                    drain = r1 - k*0.005\n",
    "                else:\n",
    "                    drain = r1 - k*0.0025\n",
    "                if drain > 0 :\n",
    "                    water_2.append(drain)\n",
    "                else:\n",
    "                    water_2.append(0.0)\n",
    "\n",
    "            for d1 in water_2:\n",
    "                watertable.append(d1)\n",
    "        watertable.append(0.1)\n",
    "        fitted_wt.append(watertable)\n",
    "        \n",
    "        \n",
    "        \n",
    "    #print ('Length: ', len(fitted_Time), len(fitted_wt),fitted_Time[0])\n",
    "    return np.array(fitted_Time), np.array(fitted_wt)"
   ]
  },
  {
   "cell_type": "code",
   "execution_count": null,
   "metadata": {},
   "outputs": [],
   "source": [
    "#fitted_Time,fitted_wt = get_water_level(Prain_=Prain,Time_=Time,Temp_=Temp)"
   ]
  },
  {
   "cell_type": "code",
   "execution_count": null,
   "metadata": {},
   "outputs": [],
   "source": []
  },
  {
   "cell_type": "code",
   "execution_count": 8,
   "metadata": {},
   "outputs": [],
   "source": [
    "def get_water_level_Modified(Prain_,Time_,Temp_):\n",
    "    color = ['k','r','g','m','c','y']\n",
    "    fitted_wt = [] #dict()\n",
    "    fitted_Time = []\n",
    "    nyear = len(Prain_)\n",
    "    for i in range(nyear):\n",
    "        \n",
    "        temp_interval = consecutive(np.where(Temp_[i] > 273.15)[0])\n",
    "        I0, In = temp_interval[0]-1,temp_interval[-1]+1\n",
    "        \n",
    "        temp_I_orig = np.where(Temp_[i] > 273.15)[0]\n",
    "        #print (temp_I_orig[0], I0)\n",
    "        Rain = Prain_[i][I0:In]*100\n",
    "        \n",
    "        watertable = []\n",
    "        if i >-1:\n",
    "            watertable.append(0.1)\n",
    "            fitted_Time.append(Time_[i][I0-1:In+1])\n",
    "            fitted_Time = [0 + t for t in fitted_Time]\n",
    "        else:\n",
    "            fitted_Time.append(Time_[i][I0:In+1])\n",
    "        Rain_interval = np.where(Rain > 2.5)[0]\n",
    "        if (I0 - temp_I_orig[0] > 0):\n",
    "            s = 0.2 - 0.001*(I0 - temp_I_orig[0]) # 1 mm per day drainage\n",
    "        else:\n",
    "            s = 0.2\n",
    "        print ('S: ', s, I0, temp_I_orig[0])\n",
    "        for j in range(Rain_interval[0]):\n",
    "            drain1 = s - 0.005*j\n",
    "            watertable.append(drain1)\n",
    "\n",
    "        for j, val in enumerate(Rain_interval):\n",
    "            #print ('A:', watertable[-1])\n",
    "            if (val<Rain_interval[-1]):\n",
    "                dI = Rain_interval[j+1] - Rain_interval[j]\n",
    "            else:\n",
    "                dI = len(Rain) - (Rain_interval[-1])\n",
    "            #print ('F: ',j,Rain_interval,dI)\n",
    "            water_2 = []\n",
    "            if watertable[-1] <=0.1:\n",
    "                r1 = watertable[-1] + (Rain[val]/1000)**0.75\n",
    "                #print (1./dI*0.001)\n",
    "                for k in range(dI):\n",
    "                    rate = 0.002 \n",
    "                    drain = r1 - k*rate\n",
    "                    if drain > 0 :\n",
    "                        water_2.append(drain)\n",
    "                    else:\n",
    "                        water_2.append(0.0)\n",
    "            elif watertable[-1] >0.1 and watertable[-1] <=0.2:# high water table more run-off and less run-on\n",
    "                r1 = watertable[-1] + (Rain[val]/1000)**4.0\n",
    "                rate = 0.005 \n",
    "                #print ('R: ',rate)\n",
    "                for k in range(dI):\n",
    "                    drain = r1 - k*rate\n",
    "                    if drain > 0 :\n",
    "                        water_2.append(drain)\n",
    "                    else:\n",
    "                        water_2.append(0.0)\n",
    "            else:\n",
    "                r1 = 0.2 + (Rain[val]/1000)**4.0\n",
    "                r1 = watertable[-1] + (Rain[val]/1000)**4.0\n",
    "                rate = 0.005\n",
    "                for k in range(dI):\n",
    "                    drain = r1 - k*rate\n",
    "                    if drain > 0 :\n",
    "                        water_2.append(drain)\n",
    "                    else:\n",
    "                        water_2.append(0.0)\n",
    "                        \n",
    "                    \n",
    "                print ('Water Table greater than 0.2',watertable[-1])\n",
    "\n",
    "\n",
    "            for d1 in water_2:\n",
    "                watertable.append(d1)\n",
    "        watertable.append(0.1)\n",
    "        fitted_wt.append(watertable)\n",
    "        \n",
    "        #print (len(np.concatenate(fitted_Time)),len(np.concatenate(fitted_wt)))\n",
    "        \n",
    "    print ('Length: ', len(fitted_Time), len(fitted_wt))#,fitted_Time[0])\n",
    "    return np.array(fitted_Time), np.array(fitted_wt)"
   ]
  },
  {
   "cell_type": "code",
   "execution_count": null,
   "metadata": {},
   "outputs": [],
   "source": []
  },
  {
   "cell_type": "code",
   "execution_count": 9,
   "metadata": {},
   "outputs": [
    {
     "name": "stdout",
     "output_type": "stream",
     "text": [
      "S:  0.182 157 139\n",
      "S:  0.183 159 142\n",
      "S:  0.15600000000000003 166 122\n",
      "Length:  3 3\n"
     ]
    }
   ],
   "source": [
    "fitted_Time,fitted_wt = get_water_level_Modified(Prain_=Prain,Time_=Time,Temp_=Temp)"
   ]
  },
  {
   "cell_type": "code",
   "execution_count": null,
   "metadata": {},
   "outputs": [],
   "source": []
  },
  {
   "cell_type": "code",
   "execution_count": 10,
   "metadata": {},
   "outputs": [],
   "source": [
    "outfile='/Users/ajc/Documents/MyPapers/TroughBC/figures/'"
   ]
  },
  {
   "cell_type": "code",
   "execution_count": 11,
   "metadata": {},
   "outputs": [
    {
     "name": "stderr",
     "output_type": "stream",
     "text": [
      "findfont: Font family ['normal'] not found. Falling back to DejaVu Sans.\n",
      "findfont: Font family ['normal'] not found. Falling back to DejaVu Sans.\n"
     ]
    },
    {
     "name": "stdout",
     "output_type": "stream",
     "text": [
      "Time formate: 313 313 2012-06-08 2012-01-01\n",
      "Time formate: 1095 1095 2012-01-01 2012-01-01\n",
      "Time formate: 115 115 2012-06-05 2012-01-01\n",
      "2012-06-05 2012-09-27 2012-06-08\n",
      "Time formate: 101 101 2013-06-08 2013-01-01\n",
      "2013-06-08 2013-09-16 2012-06-08\n",
      "Time formate: 100 100 2014-06-15 2014-01-01\n",
      "2014-06-15 2014-09-22 2012-06-08\n",
      "/Users/ajc/Documents/MyPapers/TroughBC/figures/\n"
     ]
    }
   ],
   "source": [
    "%matplotlib qt\n",
    "fig, axs = plt.subplots(3,1, figsize=(6,8), facecolor='w', edgecolor='k',gridspec_kw={'width_ratios':[1]})\n",
    "fig.subplots_adjust(hspace =.02, wspace=1.02)\n",
    "plt.tight_layout()\n",
    "ax = axs.ravel()\n",
    "\n",
    "time_ob = [2010 + t/365. for t in observed_wt['time']]\n",
    "time_ob = get_time_format(time_ob)\n",
    "Z_t = 4.71264\n",
    "#print (time_ob[0])\n",
    "\n",
    "Time_rainf = get_time_format(np.concatenate(Time))\n",
    "\n",
    "time_tt = []\n",
    "for i in range(0,3):\n",
    "    #ax = plt.subplot(311)\n",
    "    xfmt = mdates.DateFormatter('%m/%y')\n",
    "    ax[i].xaxis.set_major_formatter(xfmt)\n",
    "\n",
    "    ob_lower = [ x - 0.03 if x != 0.1 else 0.1 for x in observed_wt['watertable']]\n",
    "    ob_upper = [ x + 0.03 if x != 0.1 else 0.1 for x in observed_wt['watertable']]\n",
    "    ob_lower = [x + Z_t for x in ob_lower]\n",
    "    ob_upper = [x + Z_t for x in ob_upper]\n",
    "    \n",
    "    if (i==2):\n",
    "        ax[i].plot(time_ob[1:],observed_wt['watertable'][1:]+Z_t,'r',label='Observed')\n",
    "    else:\n",
    "        ax[i].plot(time_ob[1:],observed_wt['watertable'][1:]+Z_t,'r')\n",
    "    ax[i].fill_between(time_ob[1:], ob_lower[1:], ob_upper[1:], color='lightgray')\n",
    "\n",
    "    Time_f = get_time_format(fitted_Time[i])\n",
    "    print (Time_f[0],Time_f[-1], time_ob[0])\n",
    "    \n",
    "    d = [x + Z_t for x in fitted_wt[i]]\n",
    "    d = [x1 if x1 >Z_t else Z_t for x1 in d]\n",
    "    if i ==2:\n",
    "        ax[i].plot(Time_f,d,color='k',label='Modeled')\n",
    "        ax[i].axhline(y=Z_t,linestyle='--',color='g',label='Trough elevation')\n",
    "    else:\n",
    "        ax[i].plot(Time_f,d,color='k')\n",
    "        ax[i].axhline(y=Z_t,linestyle='--',color='g')\n",
    "    \n",
    "    ax[i].set_xticks(Time_f[::31])\n",
    "    ax[i].set_xlim((Time_f[0], Time_f[-1]))\n",
    "\n",
    "    if (i==2):\n",
    "        ax[i].set_xlabel('Time [m/y]',fontsize=12, fontweight='normal')\n",
    "\n",
    "    ax[i].set_ylim(4.4,5.1)\n",
    "    ax[i].set_ylabel('Water level [m]',fontsize=12, fontweight='normal')\n",
    "    \n",
    "\n",
    "\n",
    "    ax1 = ax[i].twinx()\n",
    "    ax1.xaxis.set_major_formatter(xfmt)\n",
    "    ax1.plot(Time_rainf,-100*np.concatenate(Prain),'b')\n",
    "   \n",
    "    ax1.set_ylabel('Precipitation Rain [mm]',color='b')\n",
    "    ax1.set_ylim([-50.0, 0.5])\n",
    "    ax1.set_yticklabels(np.round(np.linspace(50,0,6,dtype='i'),2))\n",
    "    ax1.set_xticks(Time_f[::31])\n",
    "\n",
    "    ax1.set_xlim((Time_f[0], Time_f[-1]))\n",
    "    \n",
    "    #ax1 = ax[i].twinx()\n",
    "    #ax1.xaxis.set_major_formatter(xfmt)\n",
    "    #ax1.plot(Time_rainf,-100*np.concatenate(Prain),'b')\n",
    "    #ax1.set_xticks(Time_rainf[::31])\n",
    "    #ax1.set_xlim((Time_rainf[0], Time_rainf[-1]))\n",
    "    #ax1.set_ylabel('Precipitation Rain [mm]',color='b',fontsize=12, fontweight='normal')\n",
    "    #ax1.set_ylim([-50, 0.5])\n",
    "    #ax1.set_yticklabels(np.round(np.linspace(50,0,6,dtype='i'),2))\n",
    "ax[2].legend(loc='upper right', fontsize=10, ncol=3, bbox_to_anchor=(0.9,-0.32, .1, .1))\n",
    "plt.tight_layout()\n",
    "print (outfile)\n",
    "#plt.savefig(outfile+'watertable_model-modified.pdf', bbox_inches='tight', dpi=400)\n"
   ]
  },
  {
   "cell_type": "code",
   "execution_count": null,
   "metadata": {},
   "outputs": [],
   "source": []
  },
  {
   "cell_type": "code",
   "execution_count": null,
   "metadata": {},
   "outputs": [],
   "source": []
  },
  {
   "cell_type": "code",
   "execution_count": 12,
   "metadata": {},
   "outputs": [
    {
     "name": "stdout",
     "output_type": "stream",
     "text": [
      "S:  0.187 156 143\n",
      "S:  0.2 153 154\n",
      "S:  0.19 153 143\n",
      "S:  0.167 150 117\n",
      "S:  0.192 155 147\n",
      "S:  0.17700000000000002 162 139\n",
      "S:  0.188 149 137\n",
      "S:  0.184 157 141\n",
      "S:  0.169 152 121\n",
      "S:  0.195 135 130\n",
      "S:  0.2 136 137\n",
      "S:  0.194 154 148\n",
      "S:  0.2 146 147\n",
      "S:  0.2 138 139\n",
      "S:  0.125 145 70\n",
      "S:  0.2 128 129\n",
      "S:  0.192 132 124\n",
      "S:  0.195 136 131\n",
      "S:  0.191 144 135\n",
      "S:  0.185 153 138\n",
      "S:  0.17200000000000001 143 115\n",
      "S:  0.2 126 127\n",
      "Water Table greater than 0.2 0.2000000004011011\n",
      "S:  0.18100000000000002 153 134\n",
      "S:  0.193 141 134\n",
      "S:  0.186 145 131\n",
      "S:  0.2 148 149\n",
      "S:  0.2 148 149\n",
      "S:  0.192 135 127\n",
      "S:  0.17 146 116\n",
      "S:  0.196 135 131\n",
      "S:  0.195 143 138\n",
      "S:  0.2 133 134\n",
      "S:  0.2 144 145\n",
      "S:  0.196 139 135\n",
      "S:  0.18100000000000002 135 116\n",
      "S:  0.2 138 139\n",
      "S:  0.2 134 135\n",
      "S:  0.2 133 134\n",
      "S:  0.189 138 127\n",
      "S:  0.192 128 120\n",
      "S:  0.2 127 128\n",
      "S:  0.191 135 126\n",
      "S:  0.2 122 123\n",
      "S:  0.191 136 127\n",
      "S:  0.17600000000000002 131 107\n",
      "S:  0.097 137 34\n",
      "S:  0.17500000000000002 127 102\n",
      "S:  0.2 121 122\n",
      "S:  0.2 129 130\n",
      "S:  0.2 126 127\n",
      "S:  0.189 136 125\n",
      "S:  0.2 112 113\n",
      "S:  0.2 125 126\n",
      "S:  0.2 131 132\n",
      "S:  0.17800000000000002 128 106\n",
      "S:  0.2 126 127\n",
      "S:  0.2 142 143\n",
      "S:  0.2 147 148\n",
      "S:  0.19 125 115\n",
      "S:  0.18100000000000002 134 115\n",
      "S:  0.2 129 130\n",
      "S:  0.183 136 119\n",
      "S:  0.11900000000000001 127 46\n",
      "S:  0.17300000000000001 138 111\n",
      "S:  0.17700000000000002 133 110\n",
      "S:  0.2 114 115\n",
      "S:  0.186 133 119\n",
      "S:  0.2 132 133\n",
      "S:  0.2 129 130\n",
      "S:  0.189 137 126\n",
      "S:  0.186 118 104\n",
      "S:  0.185 126 111\n",
      "S:  0.19 134 124\n",
      "S:  0.2 120 121\n",
      "S:  0.2 125 126\n",
      "S:  0.096 104 0\n",
      "S:  0.138 95 33\n",
      "S:  0.17500000000000002 125 100\n",
      "S:  0.196 117 113\n",
      "S:  0.18100000000000002 128 109\n",
      "S:  0.08000000000000002 125 5\n",
      "S:  0.11200000000000002 120 32\n",
      "S:  0.2 111 112\n",
      "S:  0.10500000000000001 124 29\n",
      "S:  0.15600000000000003 115 71\n",
      "S:  0.17900000000000002 100 79\n",
      "S:  0.195 125 120\n",
      "S:  0.187 141 128\n",
      "S:  0.2 131 132\n",
      "S:  0.15600000000000003 124 80\n",
      "S:  0.192 112 104\n",
      "S:  0.084 116 0\n",
      "S:  0.2 114 115\n",
      "S:  0.11900000000000001 126 45\n",
      "S:  0.182 106 88\n",
      "Length:  95 95\n"
     ]
    }
   ],
   "source": [
    "fitted_Time_m,fitted_wt_m = get_water_level_Modified(Prain_=Prain_cesm,Time_=Time_cesm,Temp_=Temp_cesm)"
   ]
  },
  {
   "cell_type": "code",
   "execution_count": 13,
   "metadata": {},
   "outputs": [
    {
     "name": "stdout",
     "output_type": "stream",
     "text": [
      "95\n",
      "(95,)\n",
      "14893 14893\n"
     ]
    }
   ],
   "source": [
    "for i in range(0,1,1):\n",
    "    plt.plot(fitted_Time_m[i],fitted_wt_m[i],'k.')\n",
    "print (len(fitted_wt_m))\n",
    "print (fitted_wt_m.shape)\n",
    "fitted_wt_m = np.concatenate(fitted_wt_m)\n",
    "\n",
    "fitted_Time_m = np.concatenate(fitted_Time_m)\n",
    "plt.plot(fitted_Time_m[:700],fitted_wt_m[:700],'r')\n",
    "print (len(fitted_wt_m), len(fitted_Time_m))\n",
    "#print (fitted_Time_m[0])\n"
   ]
  },
  {
   "cell_type": "code",
   "execution_count": 14,
   "metadata": {},
   "outputs": [
    {
     "data": {
      "text/plain": [
       "[<matplotlib.lines.Line2D at 0x7fb885f7e990>]"
      ]
     },
     "execution_count": 14,
     "metadata": {},
     "output_type": "execute_result"
    }
   ],
   "source": [
    "plt.plot(fitted_Time_m,fitted_wt_m)"
   ]
  },
  {
   "cell_type": "code",
   "execution_count": 15,
   "metadata": {},
   "outputs": [],
   "source": [
    "#print (fitted_Time_m[:2])\n",
    "# THIS TIME IS CONSISTENT WITH THE CESM start time, start time is half day\n",
    "Time_corrected = np.array([np.round((x - 2010)*86400*365,2) for x in fitted_Time_m]) \n",
    "#print (t0)\n",
    "\n",
    "#Time = np.array([t for t in range()])\n",
    "#Time = forcing_cesm['time [s]']\n"
   ]
  },
  {
   "cell_type": "code",
   "execution_count": 25,
   "metadata": {},
   "outputs": [
    {
     "name": "stdout",
     "output_type": "stream",
     "text": [
      "155.5 142.5\n"
     ]
    }
   ],
   "source": [
    "print (Time_corrected[0]/86400, 1.2312E7/86400.)\n"
   ]
  },
  {
   "cell_type": "code",
   "execution_count": 20,
   "metadata": {},
   "outputs": [],
   "source": [
    "path_wl_cesm = h5py.File('/Users/ajc/Core/PreProcessing/barrow_icewedges/hydro_connectivity/waterlevel-cesm-2006-2100_updated-ET.h5','w')\n",
    "fitted_wt_pres =  np.array([(f+0*0.0025)*1000*9.8 + 101325. for f in fitted_wt_m])\n",
    "fitted_wt_pres = np.where(fitted_wt_pres > 101325, fitted_wt_pres, 101325)\n",
    "fitted_wt_pres = np.array([np.round(f,2) for f in fitted_wt_pres])\n",
    "#fitted_Time_s =  np.array([f*86400 for f in fitted_Time_m]) # used in old simulations\n",
    "#fitted_Time_s = Time #Time_corrected ## commented on Feb 9 2021\n",
    "fitted_Time_s = Time_corrected\n",
    "path_wl_cesm.create_dataset('pressure [Pa]',data=fitted_wt_pres)\n",
    "path_wl_cesm.create_dataset('time [s]',data=fitted_Time_s)\n",
    "path_wl_cesm.close()"
   ]
  },
  {
   "cell_type": "code",
   "execution_count": null,
   "metadata": {},
   "outputs": [],
   "source": []
  },
  {
   "cell_type": "code",
   "execution_count": 27,
   "metadata": {},
   "outputs": [],
   "source": [
    "path_wl_cesm = h5py.File('/Users/ajc/Core/PreProcessing/barrow_icewedges/hydro_connectivity/waterlevel-cesm-2006-2100_updated_corrected.h5','r')\n",
    "path_wl_cesm2 = h5py.File('/Users/ajc/Core/PreProcessing/barrow_icewedges/hydro_connectivity/waterlevel-cesm-2006-2100_updated.h5','r')\n",
    "path_wl_cesm_et = h5py.File('/Users/ajc/Core/PreProcessing/barrow_icewedges/hydro_connectivity/waterlevel-cesm-2006-2100_updated-ET.h5','r')"
   ]
  },
  {
   "cell_type": "code",
   "execution_count": 30,
   "metadata": {},
   "outputs": [
    {
     "name": "stdout",
     "output_type": "stream",
     "text": [
      "155.5 34618.5\n"
     ]
    }
   ],
   "source": [
    "d = [ (p1-101325)/(9.8*1000) for p1 in path_wl_cesm['pressure [Pa]']]\n",
    "t = [t1/86400 for t1 in path_wl_cesm['time [s]']]\n",
    "\n",
    "#d2 = [ (p1-101325)/(9.8*1000) for p1 in path_wl_cesm2['pressure [Pa]']]\n",
    "#t2 = [t1/86400 for t1 in path_wl_cesm2['time [s]']]\n",
    "\n",
    "d2 = [ (p1-101325)/(9.8*1000) for p1 in path_wl_cesm_et['pressure [Pa]']]\n",
    "t2 = [t1/86400 for t1 in path_wl_cesm_et['time [s]']]\n",
    "\n",
    "plt.plot(t,d,'k')\n",
    "plt.plot(t2,d2,'r')\n",
    "#plt.xlim(0,300)\n",
    "print (t2[0],t2[-1])"
   ]
  },
  {
   "cell_type": "code",
   "execution_count": null,
   "metadata": {},
   "outputs": [],
   "source": []
  },
  {
   "cell_type": "code",
   "execution_count": null,
   "metadata": {},
   "outputs": [],
   "source": [
    "# projected water table \n",
    "cesm_data = h5py.File('/Users/ajc/FUSE/simulations/production/barrow_watershed/data/CESM/CESM-RCP8_5-2006-2100_snowadjusted_supersmoothDM_2006.h5','r')"
   ]
  },
  {
   "cell_type": "code",
   "execution_count": null,
   "metadata": {},
   "outputs": [],
   "source": [
    "cesm_rain = np.reshape(cesm_data['precipitation rain [m s^-1]'],(-1,365))\n",
    "cesm_temp = np.reshape(cesm_data['air temperature [K]'],(-1,365))\n",
    "\n",
    "barrow_rain2013 = rain[1]*100\n",
    "barrow_rain2014 = rain[2]*100\n",
    "#[r*86400*1000 for r in forcing['precipitation rain [m s^-1]'][365*3:365*4]]"
   ]
  },
  {
   "cell_type": "code",
   "execution_count": null,
   "metadata": {},
   "outputs": [],
   "source": [
    "plt.plot(cesm_rain[6]*1000*86400)\n",
    "plt.plot(barrow_rain2014,'r.')"
   ]
  },
  {
   "cell_type": "code",
   "execution_count": null,
   "metadata": {},
   "outputs": [],
   "source": []
  },
  {
   "cell_type": "code",
   "execution_count": null,
   "metadata": {},
   "outputs": [],
   "source": []
  },
  {
   "cell_type": "code",
   "execution_count": null,
   "metadata": {},
   "outputs": [],
   "source": []
  },
  {
   "cell_type": "code",
   "execution_count": null,
   "metadata": {},
   "outputs": [],
   "source": [
    "plt.plot(Temp,C)\n",
    "plt.xlabel('Soil temperature ')\n",
    "plt.ylabel('Decomposition rate')"
   ]
  },
  {
   "cell_type": "code",
   "execution_count": null,
   "metadata": {},
   "outputs": [],
   "source": []
  }
 ],
 "metadata": {
  "kernelspec": {
   "display_name": "Python 3",
   "language": "python",
   "name": "python3"
  },
  "language_info": {
   "codemirror_mode": {
    "name": "ipython",
    "version": 3
   },
   "file_extension": ".py",
   "mimetype": "text/x-python",
   "name": "python",
   "nbconvert_exporter": "python",
   "pygments_lexer": "ipython3",
   "version": "3.7.6"
  }
 },
 "nbformat": 4,
 "nbformat_minor": 2
}
