{
 "cells": [
  {
   "cell_type": "code",
   "execution_count": null,
   "metadata": {},
   "outputs": [],
   "source": [
    "#%matplotlib notebook"
   ]
  },
  {
   "cell_type": "code",
   "execution_count": 1,
   "metadata": {},
   "outputs": [],
   "source": [
    "#************************* MAIN SCRIPT **********************************\n",
    "\n",
    "import sys\n",
    "import math\n",
    "import h5py\n",
    "import matplotlib.pyplot as plt\n",
    "import os\n",
    "import math\n",
    "from scipy import integrate\n",
    "import numpy as np\n",
    "import csv\n",
    "#os.path.append('/Users/ajc/Core/Projects/ATS-Data/OR-CONDO/PyScript')\n",
    "import readdata"
   ]
  },
  {
   "cell_type": "code",
   "execution_count": null,
   "metadata": {},
   "outputs": [],
   "source": [
    "path = '/Users/ajc/Core/Projects/ATS-Data/OR-CONDO/simulations/tests/ats-intermediate-ngee-up/single_column'\n",
    "F = ['DayMet_R1_HCP1','DayMet_R1_LCP1','DayMet_R2_HCP1','DayMet_R2_LCP1']\n",
    "Files = [os.path.join(path,f,'visdump_surface_star_data.h5') for f in F]"
   ]
  },
  {
   "cell_type": "code",
   "execution_count": null,
   "metadata": {},
   "outputs": [],
   "source": []
  },
  {
   "cell_type": "code",
   "execution_count": null,
   "metadata": {},
   "outputs": [],
   "source": [
    "DayMet_R1_HCP1 = readdata.GetSurfVarFromVis_All(Files[0],'surface_star-thaw_depth')\n",
    "DayMet_R1_LCP1 = readdata.GetSurfVarFromVis_All(Files[1],'surface_star-thaw_depth')\n",
    "DayMet_R2_HCP1 = readdata.GetSurfVarFromVis_All(Files[2],'surface_star-thaw_depth')\n",
    "DayMet_R2_LCP1 = readdata.GetSurfVarFromVis_All(Files[3],'surface_star-thaw_depth')"
   ]
  },
  {
   "cell_type": "code",
   "execution_count": null,
   "metadata": {},
   "outputs": [],
   "source": []
  },
  {
   "cell_type": "code",
   "execution_count": null,
   "metadata": {},
   "outputs": [],
   "source": [
    "%matplotlib tk\n",
    "plt.plot(DayMet_R1_HCP1['surface_star-thaw_depth'],color='r',label='HCP')\n",
    "plt.plot(DayMet_R1_LCP1['surface_star-thaw_depth'],color='g',label='LCP')#'dessicated dz=0.1')\n",
    "#plt.plot(DayMet_R2_HCP1['surface_star-thaw_depth'],color='b')\n",
    "#plt.plot(DayMet_R2_LCP1['surface_star-thaw_depth'],color='k',label='dessicated dz=0.01')\n",
    "plt.legend()\n",
    "plt.show()"
   ]
  },
  {
   "cell_type": "code",
   "execution_count": 4,
   "metadata": {},
   "outputs": [],
   "source": [
    "path ='/Users/ajc/FUSE/simulations/tests/ats-intermediate-ngee-up/single_column/'\n",
    "path ='/Users/ajc/FUSE/tests/ats-intermediate-ngee-up/single_column/'\n",
    "maxTD_LCP = np.loadtxt(path + 'DayMet_R6A_LCP/surface_max-td.dat',skiprows=6,usecols=1)\n",
    "time = np.loadtxt(path + 'DayMet_R6A_LCP/surface_max-td.dat',skiprows=6,usecols=0)\n",
    "maxTD_LCP_time = [1985 + t/86500./365. for t in time]\n",
    "\n",
    "maxTD_HCP = np.loadtxt(path + 'DayMet_R6A_HCP/surface_max-td.dat',skiprows=6,usecols=1)\n",
    "time = np.loadtxt(path + 'DayMet_R6A_HCP/surface_max-td.dat',skiprows=6,usecols=0)\n",
    "maxTD_HCP_time = [1985 + t/86500./365. for t in time]"
   ]
  },
  {
   "cell_type": "code",
   "execution_count": 10,
   "metadata": {},
   "outputs": [
    {
     "data": {
      "image/png": "[encoded data removed]",
      "text/plain": [
       "<Figure size 432x288 with 1 Axes>"
      ]
     },
     "metadata": {
      "needs_background": "light"
     },
     "output_type": "display_data"
    }
   ],
   "source": [
    "plt.plot(maxTD_LCP_time, maxTD_LCP, label='LCP',color='r')\n",
    "plt.plot(maxTD_HCP_time, maxTD_HCP, label='HCP',color='k')\n",
    "plt.ylabel('Max thaw depth [m]')\n",
    "plt.xlabel('Time')\n",
    "plt.legend(loc='upper left')\n",
    "#plt.xlim(2005,2100)\n",
    "plt.ylim(0.6,1.4)\n",
    "plt.savefig('/Users/ajc/Core/PostProcessData/2019/simulations/projections/single_column/proj2100-lcp_hcp.pdf',dpi=100)"
   ]
  },
  {
   "cell_type": "code",
   "execution_count": null,
   "metadata": {},
   "outputs": [],
   "source": [
    "maxTD_HCP_time[0], time[0]/86400./365., len(time)"
   ]
  },
  {
   "cell_type": "code",
   "execution_count": 32,
   "metadata": {},
   "outputs": [],
   "source": [
    "max_tb = [0.0,0.4,0.6, 0.7443, 0.8886, 1.0329, 1.1772, 1.3214, 1.4657, 1.610, 1.7543]\n",
    "dmax = [0.361,0.361,0.361,0.376,0.428,0.499,0.58,0.666,0.753,0.846,0.938]\n",
    "dex =[0.185,0.185,0.185,0.196,0.234,0.284,0.338,0.395,0.454,0.516,0.576]\n",
    "d_delta =[0.18,0.18,0.18,0.176,0.174,0.143,0.148,0.165,0.178,0.198,0.213]\n",
    "delta = 0.1\n",
    "Storage = []\n",
    "for i in range(len(dmax)):\n",
    "    x = (2*dmax[i] - 3*dex[i]) *(delta/dmax[i])**2 + (2*dex[i] - dmax[i]) *(delta/dmax[i])**3\n",
    "    x = (2*dmax[i] - 3*dex[i]) *(d_delta[i]/dmax[i])**2 + (2*dex[i] - dmax[i]) *(d_delta[i]/dmax[i])**3\n",
    "    Storage.append(x*100)"
   ]
  },
  {
   "cell_type": "code",
   "execution_count": 40,
   "metadata": {},
   "outputs": [
    {
     "data": {
      "image/png": "[encoded data removed]",
      "text/plain": [
       "<Figure size 432x288 with 1 Axes>"
      ]
     },
     "metadata": {
      "needs_background": "light"
     },
     "output_type": "display_data"
    }
   ],
   "source": [
    "plt.plot(max_tb, Storage,color='r',label='Polygon storage')\n",
    "plt.axhline(y=4.26,color='k',label='LCP')\n",
    "plt.axhline(y=0.9,color='g',label='HCP')\n",
    "plt.ylabel('Polygon storage [cm]')\n",
    "plt.xlabel('Max TD')\n",
    "plt.legend()\n",
    "plt.savefig('/Users/ajc/Core/PostProcessData/2019/simulations/projections/polygon_storage-1.pdf',dpi=100)"
   ]
  },
  {
   "cell_type": "code",
   "execution_count": null,
   "metadata": {},
   "outputs": [],
   "source": []
  },
  {
   "cell_type": "code",
   "execution_count": 4,
   "metadata": {},
   "outputs": [],
   "source": [
    "path ='/Users/ajc/FUSE1/simulations/forcing_data/Barrow-Validation/Barrow-2010_2016-updated-smooth.h5'\n",
    "path_wl = '/Users/ajc/Core/SimDataInputs/forcing_data/Barrow/Barrow-Anna-WaterLevel/waterlevel-3D-wellC37-2012-2014.h5'"
   ]
  },
  {
   "cell_type": "code",
   "execution_count": 5,
   "metadata": {},
   "outputs": [
    {
     "data": {
      "text/plain": [
       "<KeysViewHDF5 ['ponded depth C37 [m]), left', 'ponded depth C37 [m]), off-left', 'ponded depth C37 [m]), off-right', 'ponded depth C37 [m]), right', 'time [s]']>"
      ]
     },
     "execution_count": 5,
     "metadata": {},
     "output_type": "execute_result"
    }
   ],
   "source": [
    "forcing = h5py.File(path,'r')\n",
    "wt = h5py.File(path_wl,'r')\n",
    "wt.keys()"
   ]
  },
  {
   "cell_type": "code",
   "execution_count": 15,
   "metadata": {},
   "outputs": [
    {
     "name": "stdout",
     "output_type": "stream",
     "text": [
      "[ 43200. 129600. 216000.]\n"
     ]
    }
   ],
   "source": [
    "r = int(len(forcing['precipitation rain [m s^-1]'])%365.)\n",
    "s = 2*365\n",
    "e = s + 3*365\n",
    "rain1 = [r*86400*10 for r in forcing['precipitation rain [m s^-1]'][s:e]]\n",
    "rain = np.reshape(rain1, (3,365))\n",
    "rain_time1 = [r/86400. for r in forcing['time [s]'][s:e]]\n",
    "print (forcing['time [s]'][:3])\n",
    "#print (rain_time1)\n",
    "time = np.reshape(rain_time1, (3,365))\n",
    "water_table = [ (w-101325)/(1000*9.8) for w in wt['ponded depth C37 [m]), left']]\n",
    "wt_time = [ t/86400 for t in wt['time [s]']]"
   ]
  },
  {
   "cell_type": "code",
   "execution_count": 115,
   "metadata": {},
   "outputs": [
    {
     "name": "stdout",
     "output_type": "stream",
     "text": [
      "313\n",
      "120\n"
     ]
    }
   ],
   "source": [
    "%matplotlib tk\n",
    "color = ['k','r','g','m','c','y']\n",
    "\"\"\"\n",
    "for i,p in enumerate(rain):\n",
    "    plt.plot(p,color=color[i])\n",
    "\"\"\"\n",
    "print (len(water_table))\n",
    "p_rain1 = np.linspace(0.2,0.1,30)\n",
    "p_rain2 = np.linspace(0.1,0.05,45)\n",
    "p_rain3 = np.linspace(0.05,0.0,45)\n",
    "p_rain = np.concatenate((p_rain1,p_rain2,p_rain3))\n",
    "print (len(p_rain))\n",
    "\"\"\"\n",
    "for i, r in enumerate(rain[1][150:270]):\n",
    "    r = r *100\n",
    "    if r < 4:\n",
    "        print (i,r)\n",
    "        continue\n",
    "    else:\n",
    "        new_val = p_rain[i-1] + r #10*r/1000.\n",
    "        #print (new_val)\n",
    "        if i <= 30:\n",
    "            p_rainX = np.linspace(new_val,0.1,30)\n",
    "            for p in p_rainX:\n",
    "                p_rain[i] = p\n",
    "        elif i > 30 and i <=75:\n",
    "            p_rainX = np.linspace(new_val,0.05,75-i)\n",
    "            for p in p_rainX:\n",
    "                p_rain[i] = p\n",
    "        elif i > 75 and i <=120:\n",
    "            p_rainX = np.linspace(new_val,0.0,120-i)\n",
    "            for p in p_rainX:\n",
    "                p_rain[i] = p\n",
    "                \n",
    "p_rain1 = np.linspace(0.24,0.12,30)\n",
    "p_rain2 = np.linspace(0.12,0.12,45)\n",
    "p_rain3 = np.linspace(0.06,0.06,45)\n",
    "p_rain = np.concatenate((p_rain1,p_rain2,p_rain3))\n",
    "\n",
    "print (len(p_rain))\n",
    "for i, r in enumerate(rain[1][142:262]):\n",
    "    r = r *100\n",
    "    if i < 30:\n",
    "        continue\n",
    "    elif r > 2.0 and r <4.0:\n",
    "        new_val = 0.06\n",
    "    elif r > 4.0:\n",
    "        new_val = 0.1\n",
    "    p_rain[i] = new_val\n",
    "\"\"\"\n",
    "#print (rain[1])\n",
    "water = []\n",
    "\n",
    "Rain_w = rain[1][150:270]*100\n",
    "interval = np.where(Rain_w > 1.5)[0]\n",
    "water_1 = np.linspace(0.2,0.1,interval[0])\n",
    "for i in range(interval[0]):\n",
    "        water.append(water_1[i])\n",
    "for i, val in enumerate(interval):\n",
    "    #print (i, interval[-1])\n",
    "    r1 = Rain_w[ val]/1000 + 0.1\n",
    "    if (val<interval[-1]):\n",
    "        #print (val, interval)\n",
    "        \n",
    "        water_2 = np.linspace(r1,0.05, (interval[i+1] - interval[i]))\n",
    "        for j in range(len(water_2)):\n",
    "            water.append(water_2[j])\n",
    "    else:\n",
    "        water_2 = np.linspace(0,0.05,len(Rain_w) - (interval[-1]))\n",
    "        for j in range(len(water_2)):\n",
    "            water.append(water_2[j])\n",
    "\n",
    "#print (len(water))"
   ]
  },
  {
   "cell_type": "code",
   "execution_count": 117,
   "metadata": {},
   "outputs": [],
   "source": [
    "#plt.plot(time[0], rain[0],color[0])\n",
    "plt.plot(time[1],rain[1],color[2])\n",
    "#plt.plot(time[2],rain[2],color[3])\n",
    "plt.plot(wt_time,water_table,'r')\n",
    "plt.plot(time[1][150:270],p_rain,color[4])\n",
    "plt.plot(time[1][150:270],water,color[3])\n",
    "plt.show()"
   ]
  },
  {
   "cell_type": "code",
   "execution_count": null,
   "metadata": {},
   "outputs": [],
   "source": []
  },
  {
   "cell_type": "code",
   "execution_count": null,
   "metadata": {},
   "outputs": [],
   "source": []
  }
 ],
 "metadata": {
  "kernelspec": {
   "display_name": "Python 3",
   "language": "python",
   "name": "python3"
  },
  "language_info": {
   "codemirror_mode": {
    "name": "ipython",
    "version": 3
   },
   "file_extension": ".py",
   "mimetype": "text/x-python",
   "name": "python",
   "nbconvert_exporter": "python",
   "pygments_lexer": "ipython3",
   "version": "3.7.3"
  }
 },
 "nbformat": 4,
 "nbformat_minor": 2
}
