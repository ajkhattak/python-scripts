{
 "cells": [
  {
   "cell_type": "code",
   "execution_count": null,
   "metadata": {},
   "outputs": [],
   "source": [
    "#%matplotlib notebook"
   ]
  },
  {
   "cell_type": "code",
   "execution_count": 1,
   "metadata": {},
   "outputs": [],
   "source": [
    "#************************* MAIN SCRIPT **********************************\n",
    "\n",
    "import sys\n",
    "import math\n",
    "import h5py\n",
    "import matplotlib.pyplot as plt\n",
    "import os\n",
    "import math\n",
    "from scipy import integrate\n",
    "import numpy as np\n",
    "import csv\n",
    "#os.path.append('/Users/ajc/Core/Projects/ATS-Data/OR-CONDO/PyScript')\n",
    "#import readdata"
   ]
  },
  {
   "cell_type": "code",
   "execution_count": null,
   "metadata": {},
   "outputs": [],
   "source": [
    "path = '/Users/ajc/Core/Projects/ATS-Data/OR-CONDO/simulations/tests/ats-intermediate-ngee-up/single_column'\n",
    "F = ['DayMet_R1_HCP1','DayMet_R1_LCP1','DayMet_R2_HCP1','DayMet_R2_LCP1']\n",
    "Files = [os.path.join(path,f,'visdump_surface_star_data.h5') for f in F]"
   ]
  },
  {
   "cell_type": "code",
   "execution_count": null,
   "metadata": {},
   "outputs": [],
   "source": []
  },
  {
   "cell_type": "code",
   "execution_count": null,
   "metadata": {},
   "outputs": [],
   "source": [
    "DayMet_R1_HCP1 = readdata.GetSurfVarFromVis_All(Files[0],'surface_star-thaw_depth')\n",
    "DayMet_R1_LCP1 = readdata.GetSurfVarFromVis_All(Files[1],'surface_star-thaw_depth')\n",
    "DayMet_R2_HCP1 = readdata.GetSurfVarFromVis_All(Files[2],'surface_star-thaw_depth')\n",
    "DayMet_R2_LCP1 = readdata.GetSurfVarFromVis_All(Files[3],'surface_star-thaw_depth')"
   ]
  },
  {
   "cell_type": "code",
   "execution_count": null,
   "metadata": {},
   "outputs": [],
   "source": []
  },
  {
   "cell_type": "code",
   "execution_count": null,
   "metadata": {},
   "outputs": [],
   "source": [
    "%matplotlib tk\n",
    "plt.plot(DayMet_R1_HCP1['surface_star-thaw_depth'],color='r',label='HCP')\n",
    "plt.plot(DayMet_R1_LCP1['surface_star-thaw_depth'],color='g',label='LCP')#'dessicated dz=0.1')\n",
    "#plt.plot(DayMet_R2_HCP1['surface_star-thaw_depth'],color='b')\n",
    "#plt.plot(DayMet_R2_LCP1['surface_star-thaw_depth'],color='k',label='dessicated dz=0.01')\n",
    "plt.legend()\n",
    "plt.show()"
   ]
  },
  {
   "cell_type": "code",
   "execution_count": null,
   "metadata": {},
   "outputs": [],
   "source": [
    "path ='/Users/ajc/FUSE/simulations/tests/ats-intermediate-ngee-up/single_column/'\n",
    "path ='/Users/ajc/FUSE/tests/ats-intermediate-ngee-up/single_column/'\n",
    "maxTD_LCP = np.loadtxt(path + 'DayMet_R6A_LCP/surface_max-td.dat',skiprows=6,usecols=1)\n",
    "time = np.loadtxt(path + 'DayMet_R6A_LCP/surface_max-td.dat',skiprows=6,usecols=0)\n",
    "maxTD_LCP_time = [1985 + t/86500./365. for t in time]\n",
    "\n",
    "maxTD_HCP = np.loadtxt(path + 'DayMet_R6A_HCP/surface_max-td.dat',skiprows=6,usecols=1)\n",
    "time = np.loadtxt(path + 'DayMet_R6A_HCP/surface_max-td.dat',skiprows=6,usecols=0)\n",
    "maxTD_HCP_time = [1985 + t/86500./365. for t in time]"
   ]
  },
  {
   "cell_type": "code",
   "execution_count": null,
   "metadata": {},
   "outputs": [],
   "source": [
    "plt.plot(maxTD_LCP_time, maxTD_LCP, label='LCP',color='r')\n",
    "plt.plot(maxTD_HCP_time, maxTD_HCP, label='HCP',color='k')\n",
    "plt.ylabel('Max thaw depth [m]')\n",
    "plt.xlabel('Time')\n",
    "plt.legend(loc='upper left')\n",
    "#plt.xlim(2005,2100)\n",
    "plt.ylim(0.6,1.4)\n",
    "plt.savefig('/Users/ajc/Core/PostProcessData/2019/simulations/projections/single_column/proj2100-lcp_hcp.pdf',dpi=100)"
   ]
  },
  {
   "cell_type": "code",
   "execution_count": null,
   "metadata": {},
   "outputs": [],
   "source": [
    "maxTD_HCP_time[0], time[0]/86400./365., len(time)"
   ]
  },
  {
   "cell_type": "code",
   "execution_count": null,
   "metadata": {},
   "outputs": [],
   "source": [
    "max_tb = [0.0,0.4,0.6, 0.7443, 0.8886, 1.0329, 1.1772, 1.3214, 1.4657, 1.610, 1.7543]\n",
    "dmax = [0.361,0.361,0.361,0.376,0.428,0.499,0.58,0.666,0.753,0.846,0.938]\n",
    "dex =[0.185,0.185,0.185,0.196,0.234,0.284,0.338,0.395,0.454,0.516,0.576]\n",
    "d_delta =[0.18,0.18,0.18,0.176,0.174,0.143,0.148,0.165,0.178,0.198,0.213]\n",
    "delta = 0.1\n",
    "Storage = []\n",
    "for i in range(len(dmax)):\n",
    "    x = (2*dmax[i] - 3*dex[i]) *(delta/dmax[i])**2 + (2*dex[i] - dmax[i]) *(delta/dmax[i])**3\n",
    "    x = (2*dmax[i] - 3*dex[i]) *(d_delta[i]/dmax[i])**2 + (2*dex[i] - dmax[i]) *(d_delta[i]/dmax[i])**3\n",
    "    Storage.append(x*100)"
   ]
  },
  {
   "cell_type": "code",
   "execution_count": null,
   "metadata": {},
   "outputs": [],
   "source": [
    "plt.plot(max_tb, Storage,color='r',label='Polygon storage')\n",
    "plt.axhline(y=4.26,color='k',label='LCP')\n",
    "plt.axhline(y=0.9,color='g',label='HCP')\n",
    "plt.ylabel('Polygon storage [cm]')\n",
    "plt.xlabel('Max TD')\n",
    "plt.legend()\n",
    "plt.savefig('/Users/ajc/Core/PostProcessData/2019/simulations/projections/polygon_storage-1.pdf',dpi=100)"
   ]
  },
  {
   "cell_type": "code",
   "execution_count": null,
   "metadata": {},
   "outputs": [],
   "source": []
  },
  {
   "cell_type": "code",
   "execution_count": null,
   "metadata": {},
   "outputs": [],
   "source": [
    "path ='/Users/ajc/FUSE/simulations/forcing_data/Barrow-Validation/Barrow-2010_2016-updated-smooth.h5'\n",
    "\n",
    "path_wl_full = '/Users/ajc/NFS/simulations/barrow_icewedges/BCData/waterlevel-3D-wellC37-2012-2014.h5'\n",
    "path_wl = '/Users/ajc/FUSE/simulations/forcing_data/Barrow-Anna/waterlevel-TransectBAreaC-wellC37-barrow2013.h5'\n",
    "path_wl_2014 = '/Users/ajc/FUSE/simulations/forcing_data/Barrow-Anna/waterlevel-TransectBAreaC-wellC37-barrow2014.h5'"
   ]
  },
  {
   "cell_type": "code",
   "execution_count": null,
   "metadata": {},
   "outputs": [],
   "source": [
    "forcing = h5py.File(path,'r')\n",
    "wt_full = h5py.File(path_wl_full,'r')\n",
    "wt = h5py.File(path_wl,'r')\n",
    "wt_2014 = h5py.File(path_wl_2014,'r')\n",
    "print (wt.keys(),wt_2014.keys())\n",
    "print (wt_full.keys())"
   ]
  },
  {
   "cell_type": "code",
   "execution_count": null,
   "metadata": {},
   "outputs": [],
   "source": [
    "r = int(len(forcing['precipitation rain [m s^-1]'])%365.)\n",
    "s = 2*365\n",
    "e = s + 3*365\n",
    "rain1 = [r*86400*10 for r in forcing['precipitation rain [m s^-1]'][s:e]]\n",
    "rain = np.reshape(rain1, (3,365))\n",
    "rain_time1 = [r/86400. for r in forcing['time [s]'][s:e]]\n",
    "\n",
    "temp1 = [r for r in forcing['air temperature [K]'][s:e]]\n",
    "temp = np.reshape(temp1, (3,365))\n",
    "temp_time1 = [r/86400. for r in forcing['time [s]'][s:e]]\n",
    "\n",
    "#------------------- 2012 ----------------------------\n",
    "water_table_2012 = [ (w-101325)/(1000*9.8) for w in wt_full['ponded depth C37 [m]), left']]\n",
    "wt_time_2012 = [ 365*2*0 + t/86400 for t in wt_full['time [s]']]\n",
    "\n",
    "time = np.reshape(rain_time1, (3,365))\n",
    "water_table = [ (w-101325)/(1000*9.8) for w in wt['ponded depth (2013-C37) [m]']]\n",
    "wt_time = [ 365*3 + t/86400 for t in wt['time (ponded depth) [s]']]\n",
    "\n",
    "#------------------- 2014 ----------------------------\n",
    "water_table_2014 = [ (w-101325)/(1000*9.8) for w in wt_2014['ponded depth (2014-C37) [m]']]\n",
    "wt_time_2014 = [ 365*4 + t/86400 for t in wt_2014['time (ponded depth) [s]']]\n",
    "\n",
    "print (wt_time[0], wt_time_2014[0])"
   ]
  },
  {
   "cell_type": "code",
   "execution_count": null,
   "metadata": {},
   "outputs": [],
   "source": []
  },
  {
   "cell_type": "code",
   "execution_count": null,
   "metadata": {},
   "outputs": [],
   "source": [
    "#2012\n",
    "#%matplotlib tk\n",
    "color = ['k','r','g','m','c','y']\n",
    "#print (rain[0][150:281]*100)\n",
    "Rain_w2012 = rain[0][157:281]*100\n",
    "\n",
    "interval2012 = np.where(Rain_w2012 > 2.5)[0]\n",
    "#print (Rain_w2012, Rain_w2012[52])\n",
    "temp_interval = np.where(temp[0] > 273.15)[0]\n",
    "#print (temp_interval)\n",
    "water2012 = []\n",
    "#print (interval2012)\n",
    "s = 0.2 - 0.01*(interval2012[1] - interval2012[0])/7\n",
    "\n",
    "for i in range(interval2012[0]):\n",
    "    drain1=s - 0.005*i\n",
    "    if (drain1>0 or True):\n",
    "        water2012.append(drain1)\n",
    "    else:\n",
    "        water2012.append(0)\n",
    "#print (water2012,r2,s)\n",
    "for i, val in enumerate(interval2012):\n",
    "    r1 = water2012[-1] + (Rain_w2012[val]/1000)**0.65\n",
    "    if water2012[-1] >0.1 and water2012[-1] <0.2:#heavy rain\n",
    "        r1 = water2012[-1] + (Rain_w2012[val]/1000)**1.0\n",
    "    if (val<interval2012[-1]):\n",
    "        dI = interval2012[i+1] - interval2012[i]\n",
    "    else:\n",
    "        dI = len(Rain_w2012) - (interval2012[-1])\n",
    "    D = []\n",
    "    for k in range(dI):\n",
    "        if i < 3:\n",
    "            drain = r1 - k*0.005\n",
    "        else:\n",
    "            drain = r1 - k*0.002\n",
    "        if drain > 0 :\n",
    "            D.append(drain)\n",
    "        else:\n",
    "            D.append(0.0)\n",
    "    water_2 = D\n",
    "    for j in range(len(water_2)):\n",
    "        water2012.append(water_2[j])\n",
    "#print (len(water2012))"
   ]
  },
  {
   "cell_type": "code",
   "execution_count": null,
   "metadata": {},
   "outputs": [],
   "source": []
  },
  {
   "cell_type": "code",
   "execution_count": null,
   "metadata": {},
   "outputs": [],
   "source": [
    "Rain_w2013 = rain[1][159:258]*100\n",
    "#Rain_w2013 = cesm_rain[5][159:258]*1000*86400\n",
    "#print (Rain_w2013)\n",
    "interval2013 = np.where(Rain_w2013 > 2.5)[0]\n",
    "\n",
    "temp_interval1 = np.where(temp[1] > 273.15)[0]\n",
    "\n",
    "s = 0.2 - 0.01*(interval2013[1] - interval2013[0])/7\n",
    "\n",
    "water2013 = []\n",
    "#print (temp_interval1)\n",
    "print (interval2013)\n",
    "#print (Rain_w2013)\n",
    "for i in range(interval2013[0]):\n",
    "    drain1=s - 0.005*i\n",
    "    if (drain1>0):\n",
    "        water2013.append(drain1)\n",
    "    else:\n",
    "        water2013.append(0)\n",
    "for i, val in enumerate(interval2013):\n",
    "    r1 = water2013[-1] + (Rain_w2013[val]/1000)**0.75\n",
    "    if water2013[-1] >0.1 and water2013[-1] <0.2:#heavy rain\n",
    "        r1 = water2013[-1] + (Rain_w2013[val]/1000)**1.0\n",
    "\n",
    "    if (val<interval2013[-1]):\n",
    "        dI = interval2013[i+1] - interval2013[i]\n",
    "    else:\n",
    "        dI = len(Rain_w2013) - (interval2013[-1])\n",
    "    D = []\n",
    "    for k in range(dI):\n",
    "        if i < 3:\n",
    "            drain = r1 - k*0.005\n",
    "        else:\n",
    "            drain = r1 - k*0.002\n",
    "        if drain > 0 :\n",
    "            D.append(drain)\n",
    "        else:\n",
    "            D.append(0.0)\n",
    "    water_2 = D\n",
    "    for j in range(len(water_2)):\n",
    "        water2013.append(water_2[j])\n",
    "   "
   ]
  },
  {
   "cell_type": "code",
   "execution_count": null,
   "metadata": {},
   "outputs": [],
   "source": []
  },
  {
   "cell_type": "code",
   "execution_count": null,
   "metadata": {},
   "outputs": [],
   "source": [
    "#2014\n",
    "#%matplotlib tk\n",
    "color = ['k','r','g','m','c','y']\n",
    "\n",
    "Rain_w2014 = rain[2][160:274]*100\n",
    "interval2014 = np.where(Rain_w2014 > 2.5)[0]\n",
    "\n",
    "temp_interval = np.where(temp[2] > 273.15)[0]\n",
    "\n",
    "water2014 = []\n",
    "\n",
    "s = 0.2 - 0.01*(interval2014[1] - interval2014[0])/7\n",
    "\n",
    "for i in range(interval2014[0]):\n",
    "    drain1=s - 0.005*i\n",
    "    if (drain1>0):\n",
    "        water2014.append(drain1)\n",
    "    else:\n",
    "        water2014.append(0)\n",
    "print (interval2014[0])\n",
    "for i, val in enumerate(interval2014):\n",
    "    r1 = water2014[-1] + (Rain_w2014[val]/1000)**0.75\n",
    "    if water2014[-1] >0.1 and water2014[-1] <0.2:#heavy rain\n",
    "        r1 = water2014[-1] + (Rain_w2014[val]/1000)**1.0\n",
    "    if (val<interval2014[-1]):\n",
    "        dI = interval2014[i+1] - interval2014[i]\n",
    "    else:\n",
    "        dI = len(Rain_w2014) - (interval2014[-1])\n",
    "    D = []\n",
    "    for k in range(dI):\n",
    "        if i < 3:\n",
    "            drain = r1 - k*0.005\n",
    "        else:\n",
    "            drain = r1 - k*0.002\n",
    "        if drain > 0 :\n",
    "            D.append(drain)\n",
    "        else:\n",
    "            D.append(0.0)\n",
    "    water_2 = D\n",
    "    for j in range(len(water_2)):\n",
    "        water2014.append(water_2[j])\n",
    "    "
   ]
  },
  {
   "cell_type": "code",
   "execution_count": null,
   "metadata": {},
   "outputs": [],
   "source": []
  },
  {
   "cell_type": "code",
   "execution_count": null,
   "metadata": {},
   "outputs": [],
   "source": [
    "t_z = 0\n",
    "\n",
    "#plt.plot(time[1],t_z+rain[1],color[2])\n",
    "#plt.plot(time[2],rain[2],color[2])\n",
    "plt.plot(wt_time_2012[1:],t_z+np.array(water_table_2012[1:]),'r')\n",
    "#plt.plot(wt_time[1:],t_z+np.array(water_table[1:]),'r')\n",
    "#plt.plot(wt_time_2014[1:],t_z+np.array(water_table_2014[1:]),'r')\n",
    "\n",
    "plt.plot(time[0][157:281],t_z+np.array(water2012),'k-',label='wt2012')\n",
    "plt.plot(time[1][159:258],t_z+np.array(water2013),'k-',label='wt2013')\n",
    "plt.plot(time[2][160:274],t_z+np.array(water2014),'k-',label='wt2014')\n",
    "plt.ylim(-0.1,)\n",
    "plt.legend(loc='lower right')\n",
    "plt.show()"
   ]
  },
  {
   "cell_type": "code",
   "execution_count": null,
   "metadata": {},
   "outputs": [],
   "source": [
    "#rain[1]"
   ]
  },
  {
   "cell_type": "code",
   "execution_count": null,
   "metadata": {},
   "outputs": [],
   "source": [
    "# projected water table \n",
    "cesm_data = h5py.File('/Users/ajc/FUSE/simulations/production/barrow_watershed/data/CESM/CESM-RCP8_5-2006-2100_snowadjusted_supersmoothDM_2006.h5','r')"
   ]
  },
  {
   "cell_type": "code",
   "execution_count": null,
   "metadata": {},
   "outputs": [],
   "source": [
    "cesm_rain = np.reshape(cesm_data['precipitation rain [m s^-1]'],(-1,365))\n",
    "cesm_temp = np.reshape(cesm_data['air temperature [K]'],(-1,365))\n",
    "\n",
    "barrow_rain2013 = rain[1]*100\n",
    "barrow_rain2014 = rain[2]*100\n",
    "#[r*86400*1000 for r in forcing['precipitation rain [m s^-1]'][365*3:365*4]]"
   ]
  },
  {
   "cell_type": "code",
   "execution_count": null,
   "metadata": {},
   "outputs": [],
   "source": [
    "plt.plot(cesm_rain[6]*1000*86400)\n",
    "plt.plot(barrow_rain2014,'r.')"
   ]
  },
  {
   "cell_type": "code",
   "execution_count": null,
   "metadata": {},
   "outputs": [],
   "source": []
  }
 ],
 "metadata": {
  "kernelspec": {
   "display_name": "Python 3",
   "language": "python",
   "name": "python3"
  },
  "language_info": {
   "codemirror_mode": {
    "name": "ipython",
    "version": 3
   },
   "file_extension": ".py",
   "mimetype": "text/x-python",
   "name": "python",
   "nbconvert_exporter": "python",
   "pygments_lexer": "ipython3",
   "version": "3.7.6"
  }
 },
 "nbformat": 4,
 "nbformat_minor": 2
}
