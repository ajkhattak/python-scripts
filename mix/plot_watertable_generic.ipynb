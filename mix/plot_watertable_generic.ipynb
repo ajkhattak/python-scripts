{
 "cells": [
  {
   "cell_type": "code",
   "execution_count": 1,
   "metadata": {},
   "outputs": [
    {
     "name": "stdout",
     "output_type": "stream",
     "text": [
      "/Users/ajc/Core/codes/simulator/debug/ats/tools/utils/plot_water_table2D.py\n"
     ]
    }
   ],
   "source": [
    "import numpy as np\n",
    "import os, sys\n",
    "import h5py\n",
    "import pandas as pd\n",
    "import matplotlib.pyplot as plt\n",
    "\n",
    "import datetime as DT\n",
    "import matplotlib.dates as mdates\n",
    "\n",
    "\n",
    "sys.path.remove(sys.path[0])\n",
    "#print (sys.path)\n",
    "sys.path.append('/Users/ajc/Core/codes/simulator/debug/ats/tools/utils/')\n",
    "\n",
    "#import readdata as rd\n",
    "import plot_water_table2D\n",
    "#sys.path.append(os.getcwd())\n",
    "\n",
    "import importlib as imp\n",
    "print (plot_water_table2D.__file__)"
   ]
  },
  {
   "cell_type": "code",
   "execution_count": 2,
   "metadata": {},
   "outputs": [],
   "source": [
    "import re\n",
    "def sorted_nicely( l ):\n",
    "    convert = lambda text: int(text) if text.isdigit() else text\n",
    "    alphanum_key = lambda key: [convert(c) for c in re.split('([0-9]+)', key)]\n",
    "    return sorted(l, key = alphanum_key)"
   ]
  },
  {
   "cell_type": "code",
   "execution_count": 3,
   "metadata": {},
   "outputs": [],
   "source": [
    "path = \"/Users/ajc/Core/simulations/barrow_icewedges/hydrologic_connection/ProjectionsK/\""
   ]
  },
  {
   "cell_type": "code",
   "execution_count": 4,
   "metadata": {},
   "outputs": [],
   "source": [
    "Simulations = [['CESM_C1','CESM_C1A','CESM_C1B'],['CESM_C2'], ['CESM_C3', 'CESM_C3A', 'CESM_C3B', 'CESM_C3C']]\n",
    "Simulations = [['CESM_C10','CESM_C11'], ['CESM_C20', 'CESM_C21','CESM_C22'],['CESM_C30', 'CESM_C31']]\n",
    "Simulations = [['CESM_C10','CESM_C11'], ['CESM_C20', 'CESM_C21'],['CESM_C30', 'CESM_C31']]\n",
    "Sim_name = ['S1','S2','S3']\n",
    "Location = ['trough', 'center']"
   ]
  },
  {
   "cell_type": "code",
   "execution_count": null,
   "metadata": {},
   "outputs": [],
   "source": []
  },
  {
   "cell_type": "code",
   "execution_count": 5,
   "metadata": {
    "code_folding": []
   },
   "outputs": [],
   "source": [
    "def getData(i,x_pos):\n",
    "    time_, wl_, td_, z_ = dict(), dict(), dict(), dict()\n",
    "    Time, WL,TD,z_elev = [], [],[],[]\n",
    "    #location = Location[0]\n",
    "    key = Sim_name[i] + '_' + str(x_pos)\n",
    "    \n",
    "    for s in Simulations[i]:\n",
    "        \n",
    "        infile = os.path.join(path,s)\n",
    "        #print (infile)\n",
    "        #if location_ == 'trough':\n",
    "        #    t, wl, td, z = plot_water_table2D.water_table2D(infile, location='trough')\n",
    "        #else:\n",
    "        #t, wl, td, z = plot_water_table2D.water_table2D(infile)#,x_pos= 36) # center last cell\n",
    "        t, wl, td, z = plot_water_table2D.water_table2D(infile,x_pos)  #trough\n",
    "        \n",
    "        a1 = len(t)%73\n",
    "        a2 = len(t) - a1\n",
    "        t = t[:a2]\n",
    "        wl = wl[:a2]\n",
    "        td = td[:a2]\n",
    "        Time.append(t)\n",
    "        WL.append(wl)\n",
    "        TD.append(td)\n",
    "        z_elev.append(z)\n",
    "        \n",
    "        #print ('TD:', i, len(td))\n",
    "    #print ('-----------------------')\n",
    "    #print ('Length1:',i, len(Time), len(WL), len(TD))\n",
    "    #print ('FUll TD: ',i, len(td))\n",
    "    if (x_pos == -1):\n",
    "        key = Sim_name[i] + '_' + str(len(z_elev))\n",
    "    time_[key+'_time'] = np.concatenate(Time)\n",
    "    wl_[key+'_wl'] = np.concatenate(WL)\n",
    "    td_[key+'_td'] = np.concatenate(TD)\n",
    "    z_[key+'_z'] = np.array(z_elev)\n",
    "    #print ('++++++++++++++++++++')\n",
    "    print ('Length2:',i, x_pos,len(time_[key+'_time']), len(wl_[key+'_wl']), len(td_[key+'_td']))\n",
    "    #print ('Length3:',i, time_[key+'_time'].shape, wl_[key+'_wl'].shape, td_[key+'_td'].shape)\n",
    "    return time_,wl_, td_,z_"
   ]
  },
  {
   "cell_type": "code",
   "execution_count": null,
   "metadata": {},
   "outputs": [],
   "source": []
  },
  {
   "cell_type": "code",
   "execution_count": 6,
   "metadata": {},
   "outputs": [
    {
     "name": "stdout",
     "output_type": "stream",
     "text": [
      "4 5038 45 85\n",
      "4 5044 45 85\n",
      "4 5261 45 85\n",
      "4 1898 45 85\n",
      "4 1679 45 85\n",
      "Length2: 2 0 6935 6935 6935\n",
      "Length2: 0 0 6935 6935 6935\n",
      "4 1971 45 85\n",
      "Length2: 1 0 7008 7008 7008\n",
      "4 5044 45 85\n",
      "4 5038 45 85\n",
      "4 5261 45 85\n",
      "4 1898 45 85\n",
      "Length2: 2 0 6935 6935 6935\n",
      "4 1679 45 85\n",
      "Length2: 0 0 6935 6935 6935\n",
      "4 1971 45 85\n",
      "Length2: 1 0 7008 7008 7008\n"
     ]
    }
   ],
   "source": [
    "Time = dict()\n",
    "WaterLevel = dict()\n",
    "ThawDepth = dict()\n",
    "Elevation = dict()\n",
    "\n",
    "from multiprocessing import Pool\n",
    "from functools import partial\n",
    "num_processors = 3\n",
    "#p=Pool(processes = num_processors)\n",
    "\n",
    "#DataS1, DataS2, DataS3 = p.map(getData,[i for i in range(len(Simulations))])\n",
    "#Data = [DataS1, DataS2,DataS3]\n",
    "\n",
    "pool=Pool(processes = num_processors)\n",
    "\n",
    "def call_data(x_pos):\n",
    "    #print (loc_flag, pos)\n",
    "    global DataS1, DataS2, DataS3\n",
    "    prod_x=partial(getData, x_pos=x_pos)\n",
    "    DataS1, DataS2, DataS3 = pool.map(prod_x,[i for i in range(len(Simulations))])"
   ]
  },
  {
   "cell_type": "code",
   "execution_count": null,
   "metadata": {},
   "outputs": [],
   "source": []
  },
  {
   "cell_type": "code",
   "execution_count": 9,
   "metadata": {},
   "outputs": [],
   "source": [
    "\n",
    "def getData_All(x_pos):\n",
    "    #global DataSimOrig\n",
    "    DataSimOrig = dict()\n",
    "    Data = call_data(x_pos)\n",
    "    #Data = [DataS1, DataS2,DataS3]\n",
    "    #print (Data)\n",
    "    for i in range(len(Sim_name)): #number of simulations\n",
    "        #print ('HERE: ', i)\n",
    "        for k in range(4): #number of keys = [time, water level, thaw depth, elevation]\n",
    "            print (Data[i][k].keys())\n",
    "            key = list(Data[i][k].keys())[0]\n",
    "            z_k = list(Data[i][3].keys())[0]\n",
    "            \n",
    "            z = Data[i][3][z_k]\n",
    "            \n",
    "            if 'time' in key:\n",
    "                DataSimOrig[key] = np.array([t for t in Data[i][k][key]])\n",
    "                DataSimOrig[key+'_yr'] = np.reshape(DataSimOrig[key],(-1,73)).mean(axis=1)\n",
    "                #print ('Time: ',DataSimOrig[key].shape)\n",
    "            if 'wl' in key:\n",
    "                DataSimOrig[key] = np.array([t + 0*z[0] for t in Data[i][k][key]])\n",
    "                print ('WL:', key, DataSimOrig[key].shape,z, DataSimOrig[key])\n",
    "                #print (DataSimOrig[key][1])\n",
    "            if 'td' in key:\n",
    "                DataSimOrig[key] = np.array([t + z[0] for t in Data[i][k][key]])\n",
    "                \n",
    "                DataSimOrig[key+'_max']  = np.reshape(DataSimOrig[key],(-1,73)).min(axis=1)\n",
    "                #print ('TD:', DataSimOrig[key].shape)\n",
    "                #print ('TD:', key, len(DataSimOrig[key]), len(Data[i][k][key]), DataSimOrig[key].shape)\n",
    "            if 'z' in key:\n",
    "                #print (key)\n",
    "                DataSimOrig[z_k] = z\n",
    "    return DataSimOrig"
   ]
  },
  {
   "cell_type": "code",
   "execution_count": 10,
   "metadata": {},
   "outputs": [
    {
     "ename": "TypeError",
     "evalue": "'NoneType' object is not subscriptable",
     "output_type": "error",
     "traceback": [
      "\u001b[0;31m---------------------------------------------------------------------------\u001b[0m",
      "\u001b[0;31mTypeError\u001b[0m                                 Traceback (most recent call last)",
      "\u001b[0;32m<ipython-input-10-22321ea77a7f>\u001b[0m in \u001b[0;36m<module>\u001b[0;34m\u001b[0m\n\u001b[0;32m----> 1\u001b[0;31m \u001b[0mDataSimTrough\u001b[0m \u001b[0;34m=\u001b[0m \u001b[0mgetData_All\u001b[0m\u001b[0;34m(\u001b[0m\u001b[0mx_pos\u001b[0m\u001b[0;34m=\u001b[0m\u001b[0;36m0\u001b[0m\u001b[0;34m)\u001b[0m\u001b[0;34m\u001b[0m\u001b[0;34m\u001b[0m\u001b[0m\n\u001b[0m",
      "\u001b[0;32m<ipython-input-9-f944a184c6c1>\u001b[0m in \u001b[0;36mgetData_All\u001b[0;34m(x_pos)\u001b[0m\n\u001b[1;32m      8\u001b[0m         \u001b[0;31m#print ('HERE: ', i)\u001b[0m\u001b[0;34m\u001b[0m\u001b[0;34m\u001b[0m\u001b[0;34m\u001b[0m\u001b[0m\n\u001b[1;32m      9\u001b[0m         \u001b[0;32mfor\u001b[0m \u001b[0mk\u001b[0m \u001b[0;32min\u001b[0m \u001b[0mrange\u001b[0m\u001b[0;34m(\u001b[0m\u001b[0;36m4\u001b[0m\u001b[0;34m)\u001b[0m\u001b[0;34m:\u001b[0m \u001b[0;31m#number of keys = [time, water level, thaw depth, elevation]\u001b[0m\u001b[0;34m\u001b[0m\u001b[0;34m\u001b[0m\u001b[0m\n\u001b[0;32m---> 10\u001b[0;31m             \u001b[0mprint\u001b[0m \u001b[0;34m(\u001b[0m\u001b[0mData\u001b[0m\u001b[0;34m[\u001b[0m\u001b[0mi\u001b[0m\u001b[0;34m]\u001b[0m\u001b[0;34m[\u001b[0m\u001b[0mk\u001b[0m\u001b[0;34m]\u001b[0m\u001b[0;34m.\u001b[0m\u001b[0mkeys\u001b[0m\u001b[0;34m(\u001b[0m\u001b[0;34m)\u001b[0m\u001b[0;34m)\u001b[0m\u001b[0;34m\u001b[0m\u001b[0;34m\u001b[0m\u001b[0m\n\u001b[0m\u001b[1;32m     11\u001b[0m             \u001b[0mkey\u001b[0m \u001b[0;34m=\u001b[0m \u001b[0mlist\u001b[0m\u001b[0;34m(\u001b[0m\u001b[0mData\u001b[0m\u001b[0;34m[\u001b[0m\u001b[0mi\u001b[0m\u001b[0;34m]\u001b[0m\u001b[0;34m[\u001b[0m\u001b[0mk\u001b[0m\u001b[0;34m]\u001b[0m\u001b[0;34m.\u001b[0m\u001b[0mkeys\u001b[0m\u001b[0;34m(\u001b[0m\u001b[0;34m)\u001b[0m\u001b[0;34m)\u001b[0m\u001b[0;34m[\u001b[0m\u001b[0;36m0\u001b[0m\u001b[0;34m]\u001b[0m\u001b[0;34m\u001b[0m\u001b[0;34m\u001b[0m\u001b[0m\n\u001b[1;32m     12\u001b[0m             \u001b[0mz_k\u001b[0m \u001b[0;34m=\u001b[0m \u001b[0mlist\u001b[0m\u001b[0;34m(\u001b[0m\u001b[0mData\u001b[0m\u001b[0;34m[\u001b[0m\u001b[0mi\u001b[0m\u001b[0;34m]\u001b[0m\u001b[0;34m[\u001b[0m\u001b[0;36m3\u001b[0m\u001b[0;34m]\u001b[0m\u001b[0;34m.\u001b[0m\u001b[0mkeys\u001b[0m\u001b[0;34m(\u001b[0m\u001b[0;34m)\u001b[0m\u001b[0;34m)\u001b[0m\u001b[0;34m[\u001b[0m\u001b[0;36m0\u001b[0m\u001b[0;34m]\u001b[0m\u001b[0;34m\u001b[0m\u001b[0;34m\u001b[0m\u001b[0m\n",
      "\u001b[0;31mTypeError\u001b[0m: 'NoneType' object is not subscriptable"
     ]
    }
   ],
   "source": [
    "DataSimTrough = getData_All(x_pos=0)\n"
   ]
  },
  {
   "cell_type": "code",
   "execution_count": null,
   "metadata": {},
   "outputs": [],
   "source": [
    "\n"
   ]
  },
  {
   "cell_type": "code",
   "execution_count": null,
   "metadata": {},
   "outputs": [],
   "source": []
  },
  {
   "cell_type": "code",
   "execution_count": null,
   "metadata": {},
   "outputs": [],
   "source": [
    "DataSimCenter = getData_All(-1)"
   ]
  },
  {
   "cell_type": "code",
   "execution_count": null,
   "metadata": {},
   "outputs": [],
   "source": []
  },
  {
   "cell_type": "code",
   "execution_count": null,
   "metadata": {},
   "outputs": [],
   "source": [
    "if (center):\n",
    "    DataSimOrig = dict()\n",
    "    for i in range(3):\n",
    "        #print (Data[i][0].keys())\n",
    "        for k in range(4):\n",
    "            key = list(Data[i][k].keys())[0]\n",
    "            z_k = list(Data[i][3].keys())[0]\n",
    "            \n",
    "            z = Data[i][3][z_k]\n",
    "            \n",
    "            if 'time' in key:\n",
    "                DataSimOrig[key] = np.array([t for t in Data[i][k][key]])\n",
    "                DataSimOrig[key+'_yr'] = np.reshape(DataSimOrig[key],(-1,73)).mean(axis=1)\n",
    "                print ('Time: ',DataSimOrig[key].shape)\n",
    "            if 'wl' in key:\n",
    "                DataSimOrig[key] = np.array([t + z[0] for t in Data[i][k][key]])\n",
    "                print ('WL:', DataSimOrig[key].shape,z)\n",
    "                print (DataSimOrig[key][1])\n",
    "            if 'td' in key:\n",
    "                DataSimOrig[key] = np.array([t + z[0] for t in Data[i][k][key]])\n",
    "                \n",
    "                DataSimOrig[key+'_max']  = np.reshape(DataSimOrig[key],(-1,73)).min(axis=1)\n",
    "                print ('TD:', DataSimOrig[key].shape)\n",
    "                #print ('TD:', key, len(DataSimOrig[key]), len(Data[i][k][key]), DataSimOrig[key].shape)\n",
    "            if 'z' in key:\n",
    "                #print (key)\n",
    "                DataSimOrig[z_k] = z\n",
    "            #if k ==3:\n",
    "            #    print (key,DataSimOrig['S1_center_td_max'].shape)  \n",
    "    print (len(DataSimOrig['S1_center_td']),DataSimOrig['S1_center_td'].shape)"
   ]
  },
  {
   "cell_type": "code",
   "execution_count": null,
   "metadata": {},
   "outputs": [],
   "source": []
  },
  {
   "cell_type": "code",
   "execution_count": null,
   "metadata": {},
   "outputs": [],
   "source": [
    "if (trough):\n",
    "    DataSimOrig = dict()\n",
    "    for i in range(3):\n",
    "        #print (Data[i][0].keys())\n",
    "        for k in range(4):\n",
    "            key = list(Data[i][k].keys())[0]\n",
    "            z_k = list(Data[i][3].keys())[0]\n",
    "            \n",
    "            z = Data[i][3][z_k]\n",
    "            \n",
    "            if 'time' in key:\n",
    "                DataSimOrig[key] = np.array([t for t in Data[i][k][key]])\n",
    "                DataSimOrig[key+'_yr'] = np.reshape(DataSimOrig[key],(-1,73)).mean(axis=1)\n",
    "                print ('Time: ',DataSimOrig[key].shape)\n",
    "            if 'wl' in key:\n",
    "                DataSimOrig[key] = np.array([t + z[0] for t in Data[i][k][key]])\n",
    "                print ('WL:', DataSimOrig[key].shape,z)\n",
    "                print (DataSimOrig[key][1])\n",
    "            if 'td' in key:\n",
    "                DataSimOrig[key] = np.array([t + z[0] for t in Data[i][k][key]])\n",
    "                \n",
    "                DataSimOrig[key+'_max']  = np.reshape(DataSimOrig[key],(-1,73)).min(axis=1)\n",
    "                print ('TD:', DataSimOrig[key].shape)\n",
    "                #print ('TD:', key, len(DataSimOrig[key]), len(Data[i][k][key]), DataSimOrig[key].shape)\n",
    "            if 'z' in key:\n",
    "                #print (key)\n",
    "                DataSimOrig[z_k] = z\n",
    "            #if k ==3:\n",
    "            #    print (key,DataSimOrig['S1_center_td_max'].shape)  \n",
    "#print (len(DataSimOrig['S1_center_td']),DataSimOrig['S1_center_td'].shape)"
   ]
  },
  {
   "cell_type": "code",
   "execution_count": null,
   "metadata": {},
   "outputs": [],
   "source": []
  },
  {
   "cell_type": "code",
   "execution_count": null,
   "metadata": {},
   "outputs": [],
   "source": [
    "outfile='/Users/ajc/Documents/MyPapers/TroughBC/figures/'\n",
    "def plot_data():\n",
    "    fig, axs = plt.subplots(3,2, figsize=(12,4), facecolor='w', edgecolor='k',gridspec_kw={'width_ratios':[1,1]})\n",
    "    fig.subplots_adjust(hspace =.02, wspace=1.02)\n",
    "\n",
    "    plt.tight_layout()\n",
    "    axs = axs.ravel()\n",
    "    #plt.axhline(y=Z_c,linestyle='--',color='g')\n",
    "    DataSim = [DataSimCenter]#,DataSimTrough]\n",
    "\n",
    "    year_on, thaw = True, False\n",
    "    Colors = ['k','b','r','r']\n",
    "    X = np.linspace(0,365,73)\n",
    "    dry_year = 22\n",
    "    wet_year =91\n",
    "    avg_year = [27,44,76]\n",
    "    Y = [wet_year,dry_year,avg_year[1]]\n",
    "    avg_year = [27,44,76]\n",
    "    Y = avg_year\n",
    "    for k in range(1):\n",
    "        #print ('K', k, DataSim[k])\n",
    "        dat = DataSim[k]\n",
    "        print (dat['S2_center_wl'])\n",
    "        for j in range(3):\n",
    "            s = 73*Y[j]\n",
    "            e = 73*(Y[j]+1)\n",
    "\n",
    "            for i in range(3):\n",
    "                #t_k = list(Data[i][0].keys())[0] #+ '_yr'\n",
    "\n",
    "                #wl_k = list(Data[i][1].keys())[0]\n",
    "                #td_k = list(Data[i][2].keys())[0] + '_max'\n",
    "                #z_k = list(Data[i][3].keys())[0]\n",
    "                \n",
    "                Keys = np.reshape(list(dat.keys()),(-1,6))\n",
    "                #print (Keys)\n",
    "                t_k, wl_k,z_k = Keys[i][0],Keys[i][2], Keys[i][5]\n",
    "                z = dat[z_k] #Data[i][3][z_k]\n",
    "                #print (t_k, wl_k, z_k)\n",
    "                #print (len(dat[t_k][s:e]), len(dat[wl_k][s:e]))\n",
    "                \"\"\"\n",
    "                if year_on and not thaw:\n",
    "                    axs[j].plot(DataSimOrig[t_k][s:e],DataSimOrig[wl_k][s:e],label=Sim_name[i],color=Colors[i])\n",
    "                elif not thaw:\n",
    "                    plt.plot(DataSimOrig[t_k],DataSimOrig[wl_k],label=Sim_name[i])\n",
    "                if (thaw):\n",
    "                    plt.plot(DataSimOrig[t_k],DataSimOrig[td_k],label=Sim_name[i])\n",
    "                \"\"\"\n",
    "                \n",
    "                if year_on and not thaw:\n",
    "                    print (2*(j)+k)\n",
    "                    axs[2*j+k].plot(dat[t_k][s:e],dat[wl_k][s:e],label=Sim_name[i],color=Colors[i])\n",
    "                #elif not thaw:\n",
    "                #    plt.plot(DataSimOrig[t_k],DataSimOrig[wl_k],label=Sim_name[i])\n",
    "                #if (thaw):\n",
    "                #    plt.plot(DataSimOrig[t_k],DataSimOrig[td_k],label=Sim_name[i])\n",
    "                    \n",
    "                #axs[2*j+k].axhline(y=z[0],linestyle='--',color='g')\n",
    "                #axs[2*j+k].set_ylim(4.4,5.0)\n",
    "                #axs[2*j+k].set_xlim((Y[j], Y[j]+1))\n",
    "                #axs[2*j+k].set_xticklabels(np.arange(0,366,73))\n",
    "        #plt.legend()\n",
    "        #plt.savefig(outfile+'watertable.pdf', bbox_inches='tight', dpi=400)\n",
    "plt.show()\n",
    "\n",
    "#plot 2nd row for high snow years"
   ]
  },
  {
   "cell_type": "code",
   "execution_count": null,
   "metadata": {},
   "outputs": [],
   "source": [
    "plot_data()"
   ]
  },
  {
   "cell_type": "code",
   "execution_count": null,
   "metadata": {},
   "outputs": [],
   "source": []
  },
  {
   "cell_type": "code",
   "execution_count": null,
   "metadata": {},
   "outputs": [],
   "source": [
    "outfile='/Users/ajc/Documents/MyPapers/TroughBC/figures/'\n",
    "\n",
    "fig, axs = plt.subplots(1,1, figsize=(6,4), facecolor='w', edgecolor='k',gridspec_kw={'width_ratios':[1]})\n",
    "fig.subplots_adjust(hspace =.02, wspace=1.02)\n",
    "plt.tight_layout()\n",
    "#axs = axs.ravel()\n",
    "#plt.axhline(y=Z_c,linestyle='--',color='g')\n",
    "Z_c = DataSimOrig[z_k][0,0]\n",
    "year_on, thaw = True, True\n",
    "Colors = ['k','b','r','r']\n",
    "X = np.linspace(0,365,73)\n",
    "dry_year = 22\n",
    "wet_year =91\n",
    "avg_year = [27,44,76]\n",
    "Y = [wet_year,dry_year,avg_year[1]]\n",
    "avg_year = [27,44,76]\n",
    "Y = avg_year\n",
    "def get_moving_average(key, m=5):\n",
    "    d_avg = []\n",
    "    len1 = len(DataSimOrig[key])\n",
    "    for i in range(len1):\n",
    "        if i < len1 - 5:\n",
    "            s1 = np.mean(DataSimOrig[td_k][i:i+5])\n",
    "        else:\n",
    "            s1 = np.mean(DataSimOrig[td_k][i:i+5])\n",
    "        d_avg.append(s1)\n",
    "    return d_avg\n",
    "for j in range(3):\n",
    "    t_k = list(Data[i][0].keys())[0] + '_yr'\n",
    "    td_k = list(Data[j][2].keys())[0] + '_max'\n",
    "    dd = get_moving_average(td_k)\n",
    "    #plt.plot(DataSimOrig[t_k],DataSimOrig[td_k],color=Colors[j],label=Sim_name[j])\n",
    "    ###plt.plot(2006 + DataSimOrig[t_k],dd,color=Colors[j],label=Sim_name[j])\n",
    "    #plt.axhline(y=Z_c,linestyle='--',color='g')\n",
    "    #print (Z_c)\n",
    "    xx = (dd[0] - dd[-1])/dd[0]*100\n",
    "    ddd = [k - dd[0] for k in dd]\n",
    "    print (xx, dd[0]-dd[-1])\n",
    "    plt.plot(2006 + DataSimOrig[t_k],dd - Z_c,color=Colors[j],label=Sim_name[j])\n",
    "    axs.set_ylim(-2.25,0)\n",
    "    #plt.gca().invert_yaxis()\n",
    "    axs.set_yticks(np.arange(0,-2.25,-0.5))\n",
    "    xlabels = np.arange(0,2.25,0.5)\n",
    "    #print (xlabels)\n",
    "    axs.set_yticklabels(xlabels)\n",
    "    #plt.ylim(3.2,3.5)\n",
    "    plt.xlabel('Calendar year',fontsize=12, fontweight='normal')\n",
    "    plt.ylabel('Maximum thaw depth [m]',fontsize=12, fontweight='normal')\n",
    "    #plt.xlim((2006, 2100))\n",
    "    #axs[j].set_xlim((Y[j], Y[j]+1))\n",
    "    #axs[j].set_xticklabels(np.arange(0,366,73))\n",
    "plt.legend()\n",
    "#plt.savefig(outfile+'thawdepth-trough.pdf', bbox_inches='tight', dpi=800)\n",
    "plt.show()\n",
    "\n",
    "#plot 2nd row for high snow years"
   ]
  },
  {
   "cell_type": "code",
   "execution_count": null,
   "metadata": {},
   "outputs": [],
   "source": [
    "x= (1.68 - 1.44)/1.44*100\n",
    "x"
   ]
  },
  {
   "cell_type": "code",
   "execution_count": null,
   "metadata": {},
   "outputs": [],
   "source": [
    "#how trough water table can impact polygon turn over\n",
    "# consider different peat in the center, trough and rim. since we see some differences in the trough thaw depth so\n",
    "# possible that polygon turnover will be affected\n",
    "# make a polygon turn over phenomenological model related to thaw depth at the center, trough and rim, and\n",
    "# wet peat and more peat in the trough can lead to deeper ALT,"
   ]
  },
  {
   "cell_type": "code",
   "execution_count": null,
   "metadata": {},
   "outputs": [],
   "source": []
  },
  {
   "cell_type": "code",
   "execution_count": null,
   "metadata": {},
   "outputs": [],
   "source": [
    "#Effect of wetter/drier ice wedge polygon center on ice wedge and polygon trough\n",
    "# Even fine-scale simulations need large scale flow behavior\n",
    "# ----- PLOTS -----\n",
    "# water table in the center and in the trough\n",
    "# evaporation [from the center, from the trough, entire polygon]\n",
    "# water content in the ALT\n",
    "# does it affect thaw timing, delayed fall freeze-up\n",
    "# pick a year and plot water table in the center for all cases, see responses of center water table to rain\n",
    "# pick a year and plot flux through vertial_rim, how flow directions is altered by run-on, run-off in rain event\n",
    "# discharge through trough boundary\n",
    "# Thaw depth [not affected?]"
   ]
  }
 ],
 "metadata": {
  "kernelspec": {
   "display_name": "Python 3",
   "language": "python",
   "name": "python3"
  },
  "language_info": {
   "codemirror_mode": {
    "name": "ipython",
    "version": 3
   },
   "file_extension": ".py",
   "mimetype": "text/x-python",
   "name": "python",
   "nbconvert_exporter": "python",
   "pygments_lexer": "ipython3",
   "version": "3.7.6"
  }
 },
 "nbformat": 4,
 "nbformat_minor": 2
}
