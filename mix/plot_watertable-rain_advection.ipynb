{
 "cells": [
  {
   "cell_type": "code",
   "execution_count": 6,
   "metadata": {},
   "outputs": [
    {
     "name": "stdout",
     "output_type": "stream",
     "text": [
      "/Users/ajc/Core/codes/simulator/repos/amanzi/src/physics/ats/tools/utils/plot_water_table2D.py\n",
      "/Users/ajc/Core/codes/simulator/repos/amanzi/src/physics/ats/tools/utils/parse_ats.py\n"
     ]
    }
   ],
   "source": [
    "import numpy as np\n",
    "import os, sys\n",
    "import h5py\n",
    "import pandas as pd\n",
    "import matplotlib.pyplot as plt\n",
    "import matplotlib\n",
    "import datetime as DT\n",
    "import matplotlib.dates as mdates\n",
    "\n",
    "#sys.path.remove(sys.path[0])\n",
    "#sys.path.append('/Users/ajc/Core/codes/simulator/debug/ats/tools/utils/')\n",
    "\n",
    "import plot_water_table2D\n",
    "\n",
    "import importlib as imp\n",
    "print (plot_water_table2D.__file__)\n",
    "font = {'family' : 'normal',\n",
    "        'weight' : 'normal',\n",
    "        'size'   : 12}\n",
    "matplotlib.rc('font', **font)\n",
    "import parse_ats\n",
    "print (parse_ats.__file__)"
   ]
  },
  {
   "cell_type": "code",
   "execution_count": null,
   "metadata": {},
   "outputs": [],
   "source": []
  },
  {
   "cell_type": "code",
   "execution_count": 7,
   "metadata": {},
   "outputs": [],
   "source": [
    "import re\n",
    "def sorted_nicely( l ):\n",
    "    convert = lambda text: int(text) if text.isdigit() else text\n",
    "    alphanum_key = lambda key: [convert(c) for c in re.split('([0-9]+)', key)]\n",
    "    return sorted(l, key = alphanum_key)"
   ]
  },
  {
   "cell_type": "code",
   "execution_count": 8,
   "metadata": {},
   "outputs": [],
   "source": [
    "path = \"/Users/ajc/Core/simulations/hillslope/rain_advection/SIM_04/\"\n"
   ]
  },
  {
   "cell_type": "code",
   "execution_count": 9,
   "metadata": {},
   "outputs": [
    {
     "name": "stdout",
     "output_type": "stream",
     "text": [
      "[['S3_P20_1X'], ['S3_P20_3X']]\n"
     ]
    }
   ],
   "source": [
    "#Dec 22, 2020: ProjectionsO\n",
    "Simulations = [['S3_P20_%sX'%(i+1) for i in range(1)], ['S3_P34_%sX'%(i+1) for i in range(1)],\n",
    "               ['S3_P50_%sX'%(i+1) for i in range(1)],\n",
    "               ['S3_P20_%sX'%(i+3) for i in range(1)], ['S3_P34_%sX'%(i+3) for i in range(1)],\n",
    "               ['S3_P50_%sX'%(i+3) for i in range(1)]]\n",
    "\n",
    "Simulations = [['S6_P20_%sX'%(i+1) for i in range(1)], ['S6_P34_%sX'%(i+1) for i in range(1)],\n",
    "               ['S6_P50_%sX'%(i+1) for i in range(1)],\n",
    "               ['S6_P20_%sX'%(i+3) for i in range(1)], ['S6_P34_%sX'%(i+3) for i in range(1)],\n",
    "               ['S6_P50_%sX'%(i+3) for i in range(1)]]\n",
    "\n",
    "Simulations = [['S3_P20_%sX'%(i+1) for i in range(1)], ['S3_P20_%sX'%(i+3) for i in range(1)]]\n",
    "\n",
    "print (Simulations)\n",
    "Sim_name = ['S3_P20_1x','S3_P34_1x','S3_P50_1x','S3_P20_3x','S3_P34_3x','S3_P50_3x']\n",
    "Sim_name = ['S3_P20_1x','S3_P20_3x']"
   ]
  },
  {
   "cell_type": "code",
   "execution_count": 10,
   "metadata": {},
   "outputs": [],
   "source": [
    "#We note that topography influences the spatial distribution of soil water content, \n",
    "#and the availability of soil water influences the type of vegetation that can grow."
   ]
  },
  {
   "cell_type": "code",
   "execution_count": 11,
   "metadata": {
    "code_folding": []
   },
   "outputs": [],
   "source": [
    "def getData(i,x_pos,Tref):\n",
    "    time_, wl_, td_, z_ = dict(), dict(), dict(), dict()\n",
    "    Time, WL,TD,z_elev = [], [],[],[]\n",
    "    #location = Location[0]\n",
    "    key = Sim_name[i] + '_' + str(x_pos)\n",
    "    \n",
    "    for s in Simulations[i]:\n",
    "        \n",
    "        infile = os.path.join(path,s)\n",
    "        t, wl, td, z = plot_water_table2D.water_table2D(infile,x_pos=x_pos,Tref=Tref)\n",
    "        a1 = len(t)%365\n",
    "        a2 = len(t) - a1\n",
    "        t = t[:a2]\n",
    "        wl = wl[:a2]\n",
    "        td = td[:a2]\n",
    "        Time.append(t*365.25/365.)\n",
    "        WL.append(wl)\n",
    "        TD.append(td)\n",
    "        z_elev.append(z)\n",
    "        \n",
    "    if (x_pos == -1):\n",
    "        key = Sim_name[i] + '_' + 'center'\n",
    "    else:\n",
    "        key = Sim_name[i] + '_' + str(x_pos) +'m'\n",
    "    time_[key+'_time'] = np.concatenate(Time)\n",
    "    wl_[key+'_wl'] = np.concatenate(WL)\n",
    "    td_[key+'_td'] = np.concatenate(TD)\n",
    "    z_[key+'_z'] = np.array(z_elev)\n",
    "    \n",
    "    print ('Length2:',i, x_pos,key)\n",
    "\n",
    "    return time_,wl_, td_,z_"
   ]
  },
  {
   "cell_type": "code",
   "execution_count": null,
   "metadata": {},
   "outputs": [],
   "source": []
  },
  {
   "cell_type": "code",
   "execution_count": null,
   "metadata": {},
   "outputs": [],
   "source": []
  },
  {
   "cell_type": "code",
   "execution_count": 12,
   "metadata": {},
   "outputs": [
    {
     "name": "stdout",
     "output_type": "stream",
     "text": [
      "Cell okay:  0 30\n",
      "Cell okay:  0 30\n",
      "Length2: 0 0 S3_P20_1x_0m\n",
      "Length2: 1 0 S3_P20_3x_0m\n"
     ]
    }
   ],
   "source": [
    "Time = dict()\n",
    "WaterLevel = dict()\n",
    "ThawDepth = dict()\n",
    "Elevation = dict()\n",
    "\n",
    "from multiprocessing import Pool\n",
    "from functools import partial\n",
    "num_processors = 2\n",
    "\n",
    "pool=Pool(processes = num_processors)\n",
    "\n",
    "def call_data(x_pos,Tref):\n",
    "    global DataS1, DataS2#, DataS3, DataS4, DataS5, DataS6\n",
    "    prod_x=partial(getData, x_pos=x_pos,Tref=Tref)\n",
    "    #DataS1, DataS2, DataS3,DataS4, DataS5, DataS6 = pool.map(prod_x,[i for i in range(len(Simulations))])\n",
    "    #Data = [DataS1, DataS2,DataS3,DataS4, DataS5, DataS6]\n",
    "    \n",
    "    DataS1, DataS2  = pool.map(prod_x,[i for i in range(len(Simulations))])\n",
    "    Data = [DataS1, DataS2]\n",
    "    return Data"
   ]
  },
  {
   "cell_type": "code",
   "execution_count": null,
   "metadata": {},
   "outputs": [],
   "source": []
  },
  {
   "cell_type": "code",
   "execution_count": 13,
   "metadata": {},
   "outputs": [],
   "source": [
    "\n",
    "def getData_All(x_pos,Tref):\n",
    "    DataSimOrig = dict()\n",
    "    Data = call_data(x_pos,Tref)\n",
    "    for i in range(len(Sim_name)): #number of simulations\n",
    "        for k in range(4): #number of keys = [time, water level, thaw depth, elevation]\n",
    "            \n",
    "            key = list(Data[i][k].keys())[0]\n",
    "            z_k = list(Data[i][3].keys())[0]\n",
    "            \n",
    "            z = Data[i][3][z_k]\n",
    "            \n",
    "            if 'time' in key:\n",
    "                DataSimOrig[key] = np.array([t for t in Data[i][k][key]])\n",
    "                DataSimOrig[key+'_yr'] = np.reshape(DataSimOrig[key],(-1,73)).mean(axis=1)\n",
    "                #print ('Time: ',DataSimOrig[key].shape)\n",
    "            if 'wl' in key:\n",
    "                DataSimOrig[key] = np.array([t + z[0] for t in Data[i][k][key]])\n",
    "            if 'td' in key:\n",
    "                DataSimOrig[key] = np.array([t + z[0] for t in Data[i][k][key]])\n",
    "                print ('Z',z)\n",
    "                DataSimOrig[key+'_max']  = np.reshape(DataSimOrig[key],(-1,73)).min(axis=1)\n",
    "            if 'z' in key:\n",
    "                DataSimOrig[z_k] = z\n",
    "    return DataSimOrig"
   ]
  },
  {
   "cell_type": "code",
   "execution_count": 14,
   "metadata": {},
   "outputs": [
    {
     "name": "stdout",
     "output_type": "stream",
     "text": [
      "Z [[5.]]\n",
      "Z [[5.]]\n"
     ]
    }
   ],
   "source": [
    "DataSim_x100m = getData_All(x_pos=0,Tref=273.55)"
   ]
  },
  {
   "cell_type": "code",
   "execution_count": 15,
   "metadata": {},
   "outputs": [],
   "source": [
    "#DataSim_x500m = getData_All(x_pos=49)\n"
   ]
  },
  {
   "cell_type": "code",
   "execution_count": 16,
   "metadata": {},
   "outputs": [
    {
     "data": {
      "text/plain": [
       "dict_keys(['S3_P20_1x_0m_time', 'S3_P20_1x_0m_time_yr', 'S3_P20_1x_0m_wl', 'S3_P20_1x_0m_td', 'S3_P20_1x_0m_td_max', 'S3_P20_1x_0m_z', 'S3_P20_3x_0m_time', 'S3_P20_3x_0m_time_yr', 'S3_P20_3x_0m_wl', 'S3_P20_3x_0m_td', 'S3_P20_3x_0m_td_max', 'S3_P20_3x_0m_z'])"
      ]
     },
     "execution_count": 16,
     "metadata": {},
     "output_type": "execute_result"
    }
   ],
   "source": [
    "DataSim_x100m.keys()"
   ]
  },
  {
   "cell_type": "code",
   "execution_count": 17,
   "metadata": {
    "code_folding": []
   },
   "outputs": [],
   "source": [
    "#outfile='/Users/ajc/Documents/MyPapers/TroughBC/figures/Nov20/'\n",
    "%matplotlib qt\n",
    "def plot_data():\n",
    "    fig, axs = plt.subplots(1,3, figsize=(8,4), facecolor='w', edgecolor='k',gridspec_kw={'width_ratios':[1,1,1]})\n",
    "    fig.subplots_adjust(hspace =.02, wspace=1.02)\n",
    "\n",
    "    plt.tight_layout()\n",
    "    axs = axs.ravel()\n",
    "    #plt.axhline(y=Z_c,linestyle='--',color='g')\n",
    "    DataSim = [DataSim_x100m]\n",
    "\n",
    "    year_on, thaw = True, False\n",
    "    Colors = ['k','r','k','r','r','r']\n",
    "    marks = ['solid','dashed']\n",
    "    X = np.linspace(0,365,365)\n",
    "    for k in range(1):\n",
    "        dat = DataSim[k]\n",
    "        \n",
    "        for i in range(2):\n",
    "            if i < 3:\n",
    "                c = i\n",
    "            else:\n",
    "                c = i - 3\n",
    "            Keys = np.reshape(list(dat.keys()),(-1,6))\n",
    "            t_k, wl_k, td_k, z_k = Keys[i][0],Keys[i][2], Keys[i][3], Keys[i][5]\n",
    "            z = dat[z_k]\n",
    "            #print (td_k,dat[td_k],z)\n",
    "            #break\n",
    "            if year_on and not thaw:\n",
    "                #print (j, i, t_k, wl_k, z_k)\n",
    "                #axs[2*j+k].plot(dat[t_k][s:e],dat[wl_k][s:e],label=Sim_name[i],color=Colors[i])\n",
    "                #print (dat[wl_k][s:e])\n",
    "                if i < 3:\n",
    "                    #axs[0].plot(dat[t_k],dat[wl_k]-z,label=Sim_name[i],color=Colors[i],linestyle=marks[0])\n",
    "                    axs[0].plot(dat[t_k],dat[td_k]-z,label=Sim_name[i],color=Colors[i],linestyle=marks[0])\n",
    "                else:\n",
    "                    axs[0].plot(dat[t_k],dat[wl_k]-z,label=Sim_name[i],color=Colors[i],linestyle=marks[1])\n",
    "                    #axs[0].plot(dat[t_k],dat[td_k]-z,label=Sim_name[i],color=Colors[i],linestyle=marks[1])\n",
    "\n",
    "            #axs[2*j+k].axhline(y=z[0],linestyle='--',color='g')\n",
    "            #axs[2*j+k].set_ylim(4.4,5.0)\n",
    "            #axs[c].set_ylim(-1, 0)\n",
    "            #axs[2*j+k].set_xticklabels(np.arange(0,366,73))\n",
    "            #if (k==0):\n",
    "            #    axs[c].set_ylabel('Water level [m]',fontsize=12, fontweight='normal')\n",
    "    #axs[5].legend(labelspacing=.05)\n",
    "    #axs[4].set_xlabel('Day of year',fontsize=12, fontweight='normal')\n",
    "    #axs[5].set_xlabel('Day of year',fontsize=12, fontweight='normal')\n",
    "\n",
    "    #plt.savefig(outfile+'watertable.pdf', bbox_inches='tight', dpi=500)\n",
    "#plt.show()\n",
    "\n",
    "#plot 2nd row for high snow years"
   ]
  },
  {
   "cell_type": "code",
   "execution_count": 18,
   "metadata": {},
   "outputs": [
    {
     "name": "stderr",
     "output_type": "stream",
     "text": [
      "findfont: Font family ['normal'] not found. Falling back to DejaVu Sans.\n"
     ]
    }
   ],
   "source": [
    "plot_data()"
   ]
  },
  {
   "cell_type": "code",
   "execution_count": null,
   "metadata": {},
   "outputs": [],
   "source": [
    "601/365."
   ]
  },
  {
   "cell_type": "code",
   "execution_count": null,
   "metadata": {},
   "outputs": [],
   "source": [
    "#%matplotlib qt\n",
    "outfile='/Users/ajc/Documents/MyPapers/TroughHydrodynamics/figures/Dec22_uniform_om/'\n",
    "\n",
    "def get_moving_average_forward(dat,key, m=5):\n",
    "        d_avg = []\n",
    "        len1 = len(dat[key])\n",
    "        for i in range(len1):\n",
    "            if i < len1 - m:\n",
    "                s1 = np.mean(dat[key][i:i+m])\n",
    "            else:\n",
    "                s1 = np.mean(dat[key][i:i+m])\n",
    "            d_avg.append(s1)\n",
    "        return d_avg\n",
    "    \n",
    "def get_moving_average(dat, key, m=5):\n",
    "    d_avg = []\n",
    "    len1 = len(dat[key])\n",
    "    for i in range(len1):\n",
    "        if i < m:\n",
    "            s1 = np.mean(dat[key][:i+1])\n",
    "        else:\n",
    "            s1= np.mean(dat[key][i-m:i])\n",
    "\n",
    "        d_avg.append(s1)\n",
    "    return d_avg\n",
    "Sim_nameL = ['NF (t)', 'FF (t)', 'HF (t)','NF (c)', 'FF (c)', 'HF (c)']\n",
    "Sim_nameL = ['zero-head (t)','specified-head (t)','dynamic-head (t)', 'zero-head (c)','specified-head (c)','dynamic-head (c)'\n",
    "            ,'zero-head (r)','specified-head (r)','dynamic-head (r)']\n",
    "#Sim_nameL = ['zero head (t)', 'free-flow (t)', 'hybrid-flow (t)','no-flow (c)', 'free-flow (c)', 'hybrid-flow (c)']\n",
    "def plot_ALT_MicroLocations():\n",
    "    fig, axs = plt.subplots(1,1, figsize=(5,3.5), facecolor='w', edgecolor='k',gridspec_kw={'width_ratios':[1]})\n",
    "    fig.subplots_adjust(hspace =.02, wspace=1.02)\n",
    "    plt.tight_layout()\n",
    "    #axs = axs.ravel()\n",
    "    #plt.axhline(y=Z_c,linestyle='--',color='g')\n",
    "    DataSim = [DataSimTrough,DataSimCenter,DataSimRim]\n",
    "    \n",
    "    Colors = ['b','k','r','r']\n",
    "    X = np.linspace(0,365,73)\n",
    "    dry_year = 22\n",
    "    wet_year =91\n",
    "    avg_year = [27,44,76]\n",
    "    Y = [wet_year,dry_year,avg_year[1]]\n",
    "    #avg_year = [27,44,76]\n",
    "    #Y = avg_year\n",
    "    Lstyle = ['solid', 'dashed', ':']\n",
    "    for i in range(0,3):\n",
    "        dat = DataSim[i]\n",
    "        #print (dat)\n",
    "        Keys = np.reshape(list(dat.keys()),(-1,6))\n",
    "        for j in range(3):\n",
    "            t_k, td_k, z_k = Keys[j][0], Keys[j][3], Keys[j][5]\n",
    "            #print (t_k, td_k)\n",
    "            t_k = t_k + '_yr'\n",
    "            td_k = td_k + '_max'\n",
    "            dd = get_moving_average(dat,key=td_k,m=5)\n",
    "            Z_c = dat[z_k][0,0]\n",
    "            \n",
    "            xx = (dd[0] - dd[-1])/dd[0]*100\n",
    "            ddd = [k - dd[0] for k in dd]\n",
    "            #print (xx, dd[0]-dd[-1])\n",
    "            if (i ==0 ):\n",
    "                xx = [round(x1,2) for x1 in Z_c-dd]\n",
    "                #print (Z_c,dd[-1])\n",
    "                print (\",\".join(map(str,xx)))#\n",
    "                ,dat[td_k],Z_c-dat[td_k][-1], len(dat[td_k]),dat[td_k][64])\n",
    "                print (\"-----\")\n",
    "            axs.plot(2006 + dat[t_k],dd - Z_c,color=Colors[j],label=Sim_nameL[3*i+j],linestyle=Lstyle[i])\n",
    "            axs.set_ylim(-2.0,0)\n",
    "            axs.set_yticks(np.arange(0,-2.5,-0.5))\n",
    "            xlabels = np.arange(0,2.5,0.5)\n",
    "            axs.set_yticklabels(xlabels)\n",
    "            \n",
    "            axs.set_xlabel('Calendar year',fontsize=12, fontweight='normal')\n",
    "            axs.set_ylabel('Maximum thaw depth [m]',fontsize=12, fontweight='normal')\n",
    "            axs.set_xlim((2006.5, 2100.5))\n",
    "            #axs[j].set_xlim((Y[j], Y[j]+1))\n",
    "            #axs[j].set_xticklabels(np.arange(0,366,73))\n",
    "        plt.legend(loc='lower left', fontsize=8)\n",
    "        plt.savefig(outfile+'thawdepth-micro_locations.pdf', bbox_inches='tight', dpi=500)\n",
    "        #plt.show()\n",
    "\n",
    "        #plot 2nd row for high snow years"
   ]
  },
  {
   "cell_type": "code",
   "execution_count": null,
   "metadata": {},
   "outputs": [],
   "source": [
    "plot_ALT_MicroLocations() #used to produced recent plots"
   ]
  },
  {
   "cell_type": "code",
   "execution_count": null,
   "metadata": {},
   "outputs": [],
   "source": []
  },
  {
   "cell_type": "code",
   "execution_count": null,
   "metadata": {},
   "outputs": [],
   "source": []
  },
  {
   "cell_type": "code",
   "execution_count": null,
   "metadata": {},
   "outputs": [],
   "source": [
    "%matplotlib qt\n",
    "outfile='/Users/ajc/Documents/MyPapers/TroughBC/figures/'\n",
    "\n",
    "Sim_nameL = ['NF (t)', 'FF (t)', 'HF (t)','NF (c)', 'FF (c)', 'HF (c)']\n",
    "Sim_nameL = ['no-flow (t)', 'free-flow (t)', 'hybrid-flow (t)','no-flow (c)', 'free-flow (c)', 'hybrid-flow (c)']\n",
    "def plot_ALT_Percentage():\n",
    "    fig, axs = plt.subplots(1,1, figsize=(5,3), facecolor='w', edgecolor='k',gridspec_kw={'width_ratios':[1]})\n",
    "    fig.subplots_adjust(hspace =.02, wspace=1.02)\n",
    "    plt.tight_layout()\n",
    "    #axs = axs.ravel()\n",
    "    #plt.axhline(y=Z_c,linestyle='--',color='g')\n",
    "    DataSim = [DataSimTrough,DataSimCenter]\n",
    "  \n",
    "    Colors = ['k','b','r','r']\n",
    "    X = np.linspace(0,365,73)\n",
    "    dry_year = 22\n",
    "    wet_year =91\n",
    "    avg_year = [27,44,76]\n",
    "    Y = [wet_year,dry_year,avg_year[1]]\n",
    "    #avg_year = [27,44,76]\n",
    "    #Y = avg_year\n",
    "    Lstyle = ['solid', 'dashed']\n",
    "    for i in range(2):\n",
    "        dat = DataSim[i]\n",
    "        #print (i)\n",
    "        Keys = np.reshape(list(dat.keys()),(-1,6))\n",
    "        for j in range(3):\n",
    "            t_k, td_k, z_k = Keys[j][0], Keys[j][3], Keys[j][5]\n",
    "            #print (t_k, td_k)\n",
    "            t_k = t_k + '_yr'\n",
    "            td_k = td_k + '_max'\n",
    "            dd = get_moving_average(dat,key=td_k)\n",
    "            Z_c = dat[z_k][0,0]\n",
    "            #print (Z_c)\n",
    "            print (dd[0])\n",
    "            ddd = [Z_c - kk for kk in dd]\n",
    "            xx = [(kk - ddd[0])/ddd[0]*100 for kk in ddd]\n",
    "            ddd = [k - dd[0] for k in dd]\n",
    "            #print (xx, dd[0]-dd[-1])\n",
    "            #if (i ==0 ):\n",
    "            #    print (dd - Z_c)\n",
    "            axs.plot(2006 + dat[t_k],xx,color=Colors[j],label=Sim_nameL[3*i+j],linestyle=Lstyle[i])\n",
    "            #axs.set_ylim(-2.75,0)\n",
    "            #plt.gca().invert_yaxis()\n",
    "            #axs.set_yticks(np.arange(0,-2.75,-0.5))\n",
    "            #xlabels = np.arange(0,2.75,0.5)\n",
    "            #print (xlabels)\n",
    "            #axs.set_yticklabels(xlabels)\n",
    "            #plt.ylim(3.2,3.5)\n",
    "            axs.set_xlabel('Calendar year',fontsize=12, fontweight='normal')\n",
    "            axs.set_ylabel('Maximum thaw depth [m]',fontsize=12, fontweight='normal')\n",
    "            axs.set_xlim((2006, 2100))\n",
    "            #axs[j].set_xlim((Y[j], Y[j]+1))\n",
    "            #axs[j].set_xticklabels(np.arange(0,366,73))\n",
    "        plt.legend()\n",
    "        #plt.savefig(outfile+'thawdepth-trough-dashed-center.pdf', bbox_inches='tight', dpi=500)\n",
    "        #plt.show()\n",
    "\n",
    "        #plot 2nd row for high snow years"
   ]
  },
  {
   "cell_type": "code",
   "execution_count": null,
   "metadata": {},
   "outputs": [],
   "source": [
    "plot_ALT_Percentage()"
   ]
  },
  {
   "cell_type": "code",
   "execution_count": null,
   "metadata": {},
   "outputs": [],
   "source": []
  },
  {
   "cell_type": "code",
   "execution_count": null,
   "metadata": {},
   "outputs": [],
   "source": [
    "outfile='/Users/ajc/Documents/MyPapers/TroughBC/figures/'\n",
    "\n",
    "fig, axs = plt.subplots(1,1, figsize=(6,4), facecolor='w', edgecolor='k',gridspec_kw={'width_ratios':[1]})\n",
    "fig.subplots_adjust(hspace =.02, wspace=1.02)\n",
    "plt.tight_layout()\n",
    "#axs = axs.ravel()\n",
    "#plt.axhline(y=Z_c,linestyle='--',color='g')\n",
    "Z_c = DataSimOrig[z_k][0,0]\n",
    "year_on, thaw = True, True\n",
    "Colors = ['k','b','r','r']\n",
    "X = np.linspace(0,365,73)\n",
    "dry_year = 22\n",
    "wet_year =91\n",
    "avg_year = [27,44,76]\n",
    "Y = [wet_year,dry_year,avg_year[1]]\n",
    "avg_year = [27,44,76]\n",
    "Y = avg_year\n",
    "def get_moving_average(key, m=5):\n",
    "    d_avg = []\n",
    "    len1 = len(DataSimOrig[key])\n",
    "    for i in range(len1):\n",
    "        if i < len1 - 5:\n",
    "            s1 = np.mean(DataSimOrig[td_k][i:i+5])\n",
    "        else:\n",
    "            s1 = np.mean(DataSimOrig[td_k][i:i+5])\n",
    "        d_avg.append(s1)\n",
    "    return d_avg\n",
    "for j in range(3):\n",
    "    t_k = list(Data[i][0].keys())[0] + '_yr'\n",
    "    td_k = list(Data[j][2].keys())[0] + '_max'\n",
    "    dd = get_moving_average(td_k)\n",
    "    #plt.plot(DataSimOrig[t_k],DataSimOrig[td_k],color=Colors[j],label=Sim_name[j])\n",
    "    ###plt.plot(2006 + DataSimOrig[t_k],dd,color=Colors[j],label=Sim_name[j])\n",
    "    #plt.axhline(y=Z_c,linestyle='--',color='g')\n",
    "    #print (Z_c)\n",
    "    xx = (dd[0] - dd[-1])/dd[0]*100\n",
    "    ddd = [k - dd[0] for k in dd]\n",
    "    print (xx, dd[0]-dd[-1])\n",
    "    plt.plot(2006 + DataSimOrig[t_k],dd - Z_c,color=Colors[j],label=Sim_name[j])\n",
    "    axs.set_ylim(-2.25,0)\n",
    "    #plt.gca().invert_yaxis()\n",
    "    axs.set_yticks(np.arange(0,-2.25,-0.5))\n",
    "    xlabels = np.arange(0,2.25,0.5)\n",
    "    #print (xlabels)\n",
    "    axs.set_yticklabels(xlabels)\n",
    "    #plt.ylim(3.2,3.5)\n",
    "    plt.xlabel('Calendar year',fontsize=12, fontweight='normal')\n",
    "    plt.ylabel('Maximum thaw depth [m]',fontsize=12, fontweight='normal')\n",
    "    #plt.xlim((2006, 2100))\n",
    "    #axs[j].set_xlim((Y[j], Y[j]+1))\n",
    "    #axs[j].set_xticklabels(np.arange(0,366,73))\n",
    "plt.legend()\n",
    "#plt.savefig(outfile+'thawdepth-trough.pdf', bbox_inches='tight', dpi=800)\n",
    "plt.show()\n",
    "\n",
    "#plot 2nd row for high snow years"
   ]
  },
  {
   "cell_type": "code",
   "execution_count": null,
   "metadata": {},
   "outputs": [],
   "source": []
  },
  {
   "cell_type": "code",
   "execution_count": null,
   "metadata": {},
   "outputs": [],
   "source": []
  },
  {
   "cell_type": "code",
   "execution_count": null,
   "metadata": {},
   "outputs": [],
   "source": []
  }
 ],
 "metadata": {
  "kernelspec": {
   "display_name": "Python 3",
   "language": "python",
   "name": "python3"
  },
  "language_info": {
   "codemirror_mode": {
    "name": "ipython",
    "version": 3
   },
   "file_extension": ".py",
   "mimetype": "text/x-python",
   "name": "python",
   "nbconvert_exporter": "python",
   "pygments_lexer": "ipython3",
   "version": "3.7.6"
  }
 },
 "nbformat": 4,
 "nbformat_minor": 2
}
