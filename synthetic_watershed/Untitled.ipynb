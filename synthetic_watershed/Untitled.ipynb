{
 "cells": [
  {
   "cell_type": "code",
   "execution_count": 1,
   "metadata": {},
   "outputs": [],
   "source": [
    "import sys, os\n",
    "import numpy as np\n",
    "import pandas as pd\n",
    "from matplotlib import pyplot as plt\n",
    "import scipy.signal\n",
    "import importlib\n",
    "import h5py\n",
    "sys.path.append('/Users/ajc/Core/PyScript')\n",
    "import readdata"
   ]
  },
  {
   "cell_type": "code",
   "execution_count": 18,
   "metadata": {},
   "outputs": [],
   "source": [
    "path = \"/Users/ajc/FUSE/simulations/synthetic_watershed/SIM_01/no_vis\"\n",
    "outfile ='/Users/ajc/Core/PostProcessing/synthetic_watershed/08_02_2021/July/'\n",
    "\n",
    "colors = ['r','blue','grey','green','darkgreen','k']\n",
    "marks = ['.','*', '+', 'o']\n",
    "#marks = ['-','-','-','-','-']\n",
    "\n",
    "SimLabels = ['S%s'%i for i in range(0,2,1)]"
   ]
  },
  {
   "cell_type": "code",
   "execution_count": 19,
   "metadata": {},
   "outputs": [],
   "source": [
    "S0 = [os.path.join(path, 'DM_I40_P80_S0_A0_N4/')]\n",
    "S1 = [os.path.join(path, 'DM_I40_P80_S0_A1_N4/')]\n",
    "S3 = [os.path.join(path, 'DM_I40_P80_S3_A1_N4/')]\n",
    "S6 = [os.path.join(path, 'DM_I40_P80_S6_A1_N4/')]\n",
    "\n",
    "Simulations = [S0, S1]\n",
    "#Simulations = [S1, S3, S6]\n",
    "Labels = ['flat','3%','6%']\n",
    "Simulations\n",
    "sim_len = len(Simulations)"
   ]
  },
  {
   "cell_type": "code",
   "execution_count": 20,
   "metadata": {},
   "outputs": [],
   "source": [
    "def get_vars_names(simul):\n",
    "    names = dict()\n",
    "    #file = os.path.join(Simulations[0][0],'data_collection.dat')\n",
    "    file = os.path.join(simul,'data_collection.dat')\n",
    "    with open(file) as fd:\n",
    "        count = 0\n",
    "        for f in fd:\n",
    "            if ('Observation Name' in f):\n",
    "                f1 = f.split(':')\n",
    "                #print (f1, f[-1])\n",
    "                if 'time [d]' in f1[-1]:\n",
    "                    names['Time'] = count\n",
    "                    #print (f1, f1[-1],names)\n",
    "                elif 'outlet discharge [mol d^-1]' in f1[-1]:\n",
    "                    names['Discharge'] = count \n",
    "                elif 'total evaporation [m d^-1]' in f1[-1]:\n",
    "                    names['ET'] = count\n",
    "                elif 'snow precipitation [m d^-1]' in f1[-1]:\n",
    "                    names['Psnow'] = count\n",
    "                elif 'rain precipitation [m d^-1]' in f1[-1]:\n",
    "                    names['Prain'] = count\n",
    "                elif 'subsurface water content [mol]' in f1[-1]:\n",
    "                    names['SS_wc'] = count\n",
    "                    #print (count)\n",
    "                elif 'surface water content [mol]' in f1[-1]:\n",
    "                    #print (count)\n",
    "                    names['Sf_wc'] = count\n",
    "                elif 'snow water content [mol]' in f1[-1]: #but this is in m^3 correction\n",
    "                    names['Snow_wc'] = count\n",
    "                elif 'surface air temperature [K]' in f1[-1]:\n",
    "                    names['Tair'] = count\n",
    "                elif 'surface carbon decomposition rate [-]' in f1[-1]:\n",
    "                    names['Sf_CDR'] = count\n",
    "                elif 'surface moisture content [-]' in f1[-1]:\n",
    "                    names['Sf_mc'] = count\n",
    "                elif 'surface gas content [-]' in f1[-1]:\n",
    "                    names['Sf_gc'] = count\n",
    "                elif 'surface volumetric wc [-]' in f1[-1]:\n",
    "                    names['Sf_vol_wc'] = count\n",
    "                elif 'surface gas content [-]' in f1[-1]:\n",
    "                    names['Sf_gc'] = count\n",
    "                elif 'surface column average temperature [K]' in f1[-1]:\n",
    "                    names['Sf_avg_T'] = count\n",
    "                elif 'surface ALT average temperature [K]' in f1[-1]:\n",
    "                    names['Sf_ALT_avg_T'] = count\n",
    "                elif 'surface saturated_fraction [-]' in f1[-1]:\n",
    "                    names['Sf_sat_frac'] = count\n",
    "                elif 'surface thaw depth min [m]' in f1[-1]:\n",
    "                    names['Sf_TD_min'] = count\n",
    "                elif 'surface thaw depth max [m]' in f1[-1]:\n",
    "                    names['Sf_TD_max'] = count\n",
    "                elif 'surface maximum thaw depth [m]' in f1[-1]:\n",
    "                    names['Sf_maxTD'] = count\n",
    "                elif 'surface water table [m]' in f1[-1]:\n",
    "                    names['Sf_WT'] = count\n",
    "                elif 'surface subsurface exchange [m]' in f1[-1]:\n",
    "                    names['Sf_exchangeFlux'] = count\n",
    "                elif 'surface initial elevation [m]' in f1[-1]:\n",
    "                    names['Sf_InitElev'] = count\n",
    "                elif 'surface mean subsidence [m]' in f1[-1]:\n",
    "                    names['Sf_mean_Subsidence'] = count\n",
    "                else:\n",
    "                    #names['Sf_DNE_%s'%count] = count\n",
    "                    print ('DNE:',count, f[-1])\n",
    "                count = count + 1\n",
    "    return names"
   ]
  },
  {
   "cell_type": "code",
   "execution_count": null,
   "metadata": {},
   "outputs": [],
   "source": []
  },
  {
   "cell_type": "code",
   "execution_count": 21,
   "metadata": {},
   "outputs": [
    {
     "name": "stdout",
     "output_type": "stream",
     "text": [
      "/Users/ajc/FUSE/simulations/synthetic_watershed/SIM_01/no_vis/DM_I40_P80_S0_A0_N4/data_collection.dat 23\n",
      "/Users/ajc/FUSE/simulations/synthetic_watershed/SIM_01/no_vis/DM_I40_P80_S0_A1_N4/data_collection.dat 23\n"
     ]
    }
   ],
   "source": [
    "\n",
    "def get_daily_data():\n",
    "    daily = dict()\n",
    "    for i,sim in enumerate(Simulations):\n",
    "        df = pd.DataFrame(columns=[''])\n",
    "        \n",
    "        for s in sim:\n",
    "            file = os.path.join(s,'data_collection.dat')\n",
    "            \n",
    "            df1 = pd.read_csv(file, comment='#')\n",
    "            names = get_vars_names(s)\n",
    "            print (file, len(names.keys()))\n",
    "            df1.columns = names.keys()\n",
    "            \n",
    "            rows,cols = df1.shape\n",
    "            rows = rows - rows%365.\n",
    "            df1 = df1.truncate(before=0,after=rows-1,axis='index')\n",
    "            \n",
    "            df = df.append(df1)\n",
    "            #print (df)\n",
    "        daily[SimLabels[i]] = df\n",
    "        \n",
    "    return daily\n",
    "\n",
    "SimData_daily = get_daily_data()"
   ]
  },
  {
   "cell_type": "code",
   "execution_count": null,
   "metadata": {},
   "outputs": [],
   "source": []
  },
  {
   "cell_type": "code",
   "execution_count": 22,
   "metadata": {},
   "outputs": [
    {
     "name": "stdout",
     "output_type": "stream",
     "text": [
      "dict_keys(['S0', 'S1']) ['S0', 'S1']\n",
      "dict_keys(['S0', 'S1']) ['S0', 'S1']\n"
     ]
    }
   ],
   "source": [
    "to_year = 365\n",
    "to_mm = 1000\n",
    "molar_density = 55500.\n",
    "surface_area = 1000 * 1000\n",
    "def get_discharge():\n",
    "    Q_daily = dict()\n",
    "    Q_annual = dict()\n",
    "    size = len(SimData_daily.keys())\n",
    "    keys = list(SimData_daily.keys())\n",
    "    print (SimData_daily.keys(),keys)\n",
    "    for i in range(size):\n",
    "        convert = 1/(molar_density*surface_area)\n",
    "        d = [x* convert for x in SimData_daily[keys[i]]['Discharge'] ]\n",
    "        Q_daily[keys[i]]= d*to_mm\n",
    "        #print (d.shape)\n",
    "        Q_annual[keys[i]]= np.reshape(d,(-1,365)).mean(axis=1)*to_year * to_mm\n",
    "    return Q_daily, Q_annual\n",
    "Q_daily, Q_annual = get_discharge()\n",
    "\n",
    "def get_time():\n",
    "    T_daily = dict()\n",
    "    T_annual = dict()\n",
    "    size = len(SimData_daily.keys())\n",
    "    keys = list(SimData_daily.keys())\n",
    "    print (SimData_daily.keys(),keys)\n",
    "    for i in range(size):\n",
    "        convert = 1./(365)\n",
    "        d = [1985 + x* convert for x in SimData_daily[keys[i]]['Time'] ]\n",
    "        T_daily[keys[i]]= d\n",
    "        T_annual[keys[i]]= np.reshape(d,(-1,365)).mean(axis=1)\n",
    "    return T_daily, T_annual\n",
    "T_daily, T_annual = get_time()"
   ]
  },
  {
   "cell_type": "code",
   "execution_count": 23,
   "metadata": {},
   "outputs": [],
   "source": [
    "def get_ET():\n",
    "    ET_daily = dict()\n",
    "    ET_annual = dict()\n",
    "    size = len(SimData_daily.keys())\n",
    "    keys = list(SimData_daily.keys())\n",
    "    #print (SimData_daily.keys(),keys)\n",
    "    for i in range(size):\n",
    "        convert = 1\n",
    "        d = [x* convert for x in SimData_daily[keys[i]]['ET'] ]\n",
    "        ET_daily[keys[i]]= d*to_mm\n",
    "        ET_annual[keys[i]]= np.reshape(d,(-1,365)).mean(axis=1)*to_year * to_mm\n",
    "    return ET_daily, ET_annual\n",
    "ET_daily, ET_annual = get_ET()"
   ]
  },
  {
   "cell_type": "code",
   "execution_count": 24,
   "metadata": {},
   "outputs": [
    {
     "data": {
      "text/plain": [
       "{'S0': array([156.30148421, 181.20014011, 178.1777012 , 187.13425307,\n",
       "        328.88514921, 144.06613943, 126.54995143, 141.72302932,\n",
       "        225.15109525, 170.68309481, 145.11341914,  99.3308225 ,\n",
       "        159.35582956, 166.21637384, 183.40495743, 208.40168478,\n",
       "        210.87319516, 205.46591786, 168.40192492, 293.64418029,\n",
       "        203.75504882, 232.77992992, 169.17209467, 223.45573194,\n",
       "        264.32002725, 252.00717798, 336.32056353, 281.76344891,\n",
       "        360.49205909, 293.35879888, 273.7073861 ]),\n",
       " 'S1': array([157.07509991, 180.51774189, 176.11010575, 188.19854649,\n",
       "        335.1666155 , 144.99150685, 126.64028759, 141.94455008,\n",
       "        224.22199259, 170.55130636, 145.1087207 ,  99.04918583,\n",
       "        158.08124066, 166.0694369 , 182.2009518 , 208.23287124,\n",
       "        210.70613376, 205.52784959, 167.11215057, 293.81174654,\n",
       "        206.46833907, 230.95543426, 168.25926948, 224.52541876,\n",
       "        265.54237786, 248.24943684, 338.90273786, 281.44328933,\n",
       "        359.6639986 , 293.1877931 , 272.60458467])}"
      ]
     },
     "execution_count": 24,
     "metadata": {},
     "output_type": "execute_result"
    }
   ],
   "source": [
    "ET_annual"
   ]
  },
  {
   "cell_type": "code",
   "execution_count": 25,
   "metadata": {},
   "outputs": [
    {
     "data": {
      "image/png": "[encoded data removed]",
      "text/plain": [
       "<Figure size 576x288 with 1 Axes>"
      ]
     },
     "metadata": {
      "needs_background": "light"
     },
     "output_type": "display_data"
    }
   ],
   "source": [
    "bars = False #True\n",
    "fig = plt.figure(figsize=(8,4))\n",
    "x = np.arange(0,4,1)\n",
    "Colors = ['r', 'g', 'b','grey']\n",
    "\n",
    "if not bars:\n",
    "    for i in range(sim_len):\n",
    "        s = SimLabels[i]\n",
    "        #d = get_moving_average(Q_annual[s],m=1)\n",
    "        d = Q_annual[s]\n",
    "        plt.plot(T_annual[s][:32],d[:32],label=Labels[i],color=colors[i],marker='*')\n",
    "        plt.legend()\n",
    "        plt.ylabel('Mean annual discharge [mm]',fontsize=12, fontweight='normal')\n",
    "        plt.xlabel('Year',fontsize=12, fontweight='normal')\n",
    "        plt.ylim(0,100)\n",
    "        #plt.xlim(2005.5,2099.5)\n",
    "    #for y in cesm_years_o:\n",
    "    #    plt.axvline(x=y)\n",
    "        \n",
    "        #plt.savefig(outfile+'/Projected-Q_linesA.pdf', bbox_inches='tight', dpi=500)\n",
    "        #plt.savefig(outfile+'/Projected-Q_por_sensivity_por.pdf', bbox_inches='tight', dpi=500)\n",
    "else:\n",
    "    dat = []\n",
    "    for i in [2,0,1]:\n",
    "        s = SimLabels[i]\n",
    "        d = []\n",
    "        \n",
    "        for k1,k in enumerate(cesm_years):\n",
    "            print (s, k, Q_annual[s][k], len(Q_annual[s]))\n",
    "            d.append(Q_annual[s][k])\n",
    "        print (d,cesm_years)\n",
    "        print ('--------_')\n",
    "        #d = [c/Q_annual[SimLabels[2]][0] for c in d]\n",
    "        dat.append(d)\n",
    "        plt.bar(x, height=d, width=0.2,color=Colors[i],alpha=1,label=Labels[i])\n",
    "   \n",
    "    #d1 = [dat[0][k4] - dat[1][k4] for k4 in range(4)]\n",
    "    #plt.bar(x+0.21, height=d1, width=0.2,color=Colors[3],alpha=1)#,label=Labels[i])\n",
    "    plt.legend()\n",
    "    plt.ylabel('Mean annual discharge [mm]',fontsize=12, fontweight='normal')\n",
    "    plt.xlabel('Year',fontsize=12, fontweight='normal')\n",
    "    plt.xticks(x, cesm_years_o)\n",
    "    plt.savefig(outfile+'/Projected-Q_lines.pdf', bbox_inches='tight', dpi=500)\n",
    "\n",
    "\n",
    "\n"
   ]
  },
  {
   "cell_type": "code",
   "execution_count": 27,
   "metadata": {},
   "outputs": [
    {
     "data": {
      "text/plain": [
       "Text(0.5, 0, 'Year')"
      ]
     },
     "execution_count": 27,
     "metadata": {},
     "output_type": "execute_result"
    },
    {
     "data": {
      "image/png": "[encoded data removed]",
      "text/plain": [
       "<Figure size 576x288 with 1 Axes>"
      ]
     },
     "metadata": {
      "needs_background": "light"
     },
     "output_type": "display_data"
    }
   ],
   "source": [
    "fig = plt.figure(figsize=(8,4))\n",
    "for i,s in enumerate(SimLabels):\n",
    "    d = ET_annual[s] #get_moving_average(ET_annual[s])\n",
    "    plt.plot(T_annual[s],d,label=Labels[i],color=colors[i])\n",
    "plt.legend()\n",
    "plt.ylabel('Annual average ET [mm]',fontsize=12, fontweight='normal')\n",
    "plt.xlabel('Year',fontsize=12, fontweight='normal')\n",
    "#plt.ylim(100,400)\n",
    "#plt.xlim(2006.5,2099.5)\n",
    "#plt.savefig(outfile+'/Projected-ET.pdf', bbox_inches='tight', dpi=500)\n",
    "#plt.savefig(outfile+'/Projected-ET_sensivity_por.pdf', bbox_inches='tight', dpi=500)"
   ]
  },
  {
   "cell_type": "code",
   "execution_count": null,
   "metadata": {},
   "outputs": [],
   "source": []
  }
 ],
 "metadata": {
  "kernelspec": {
   "display_name": "Python 3",
   "language": "python",
   "name": "python3"
  },
  "language_info": {
   "codemirror_mode": {
    "name": "ipython",
    "version": 3
   },
   "file_extension": ".py",
   "mimetype": "text/x-python",
   "name": "python",
   "nbconvert_exporter": "python",
   "pygments_lexer": "ipython3",
   "version": "3.7.6"
  }
 },
 "nbformat": 4,
 "nbformat_minor": 4
}
