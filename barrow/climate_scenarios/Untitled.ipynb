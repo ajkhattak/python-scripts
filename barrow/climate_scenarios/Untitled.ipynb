{
 "cells": [
  {
   "cell_type": "code",
   "execution_count": 1,
   "metadata": {},
   "outputs": [],
   "source": [
    "import sys, os\n",
    "import numpy as np\n",
    "import pandas as pd\n",
    "from matplotlib import pyplot as plt\n",
    "import scipy.signal\n",
    "import importlib\n",
    "import h5py\n",
    "sys.path.append('/Users/ajc/Core/PreProcessing/PyScript')\n",
    "import readdata"
   ]
  },
  {
   "cell_type": "code",
   "execution_count": 9,
   "metadata": {},
   "outputs": [],
   "source": [
    "path = \"/Users/ajc/Core/simulations/projections/climate_scenarios/\"\n",
    "\n",
    "#outfile ='/Users/ajc/Core/PostProcessing/barrow_watershed/2021/February/'"
   ]
  },
  {
   "cell_type": "code",
   "execution_count": 10,
   "metadata": {},
   "outputs": [],
   "source": [
    "colors = ['r','b','grey','darkgreen','k']\n",
    "marks = ['.','*', '+', 'o']\n",
    "marks = ['-','-','-','-','-']\n",
    "\n",
    "Labels = ['DW','WW','WC']\n",
    "SimLabels = ['S%s'%i for i in range(3,0,-1)]"
   ]
  },
  {
   "cell_type": "code",
   "execution_count": 26,
   "metadata": {},
   "outputs": [
    {
     "name": "stdout",
     "output_type": "stream",
     "text": [
      "['/Users/ajc/Core/simulations/projections/climate_scenarios/CESM_01/CESM_5050_R30', '/Users/ajc/Core/simulations/projections/climate_scenarios/CESM_01/CESM_5050_R31'] 3\n"
     ]
    }
   ],
   "source": [
    "S1 = [os.path.join(path, 'CESM_01/CESM_5050_R1%s'%i) for i in range(1)] \n",
    "S2 = [os.path.join(path, 'CESM_01/CESM_5050_R2%s'%i) for i in range(2)] \n",
    "\n",
    "S3 = [os.path.join(path, 'CESM_01/CESM_5050_R3%s'%i) for i in range(2)]\n",
    "\n",
    "\n",
    "Simulations = [S1, S2, S3]\n",
    "\n",
    "\n",
    "sim_len = len(Simulations)\n",
    "print (Simulations[2],sim_len)"
   ]
  },
  {
   "cell_type": "code",
   "execution_count": 27,
   "metadata": {},
   "outputs": [
    {
     "name": "stdout",
     "output_type": "stream",
     "text": [
      "112635.47903126487\n"
     ]
    }
   ],
   "source": [
    "#path_sf =\"/Users/ajc/Core/simulations/projections/barrow_watershed_02/CESM_15/CESM_5050_R60_B/visdump_surface_star_data.h5\"\n",
    "#file_surf= h5py.File(path_sf,'r')\n",
    "\n",
    "surface_area = 112635.47903126487 \n",
    "#np.sum(list(file_surf['surface_star-cell_volume.cell.0']['100095']))\n",
    "print (surface_area)\n",
    "molar_density = 55500."
   ]
  },
  {
   "cell_type": "code",
   "execution_count": 28,
   "metadata": {},
   "outputs": [],
   "source": [
    "def get_vars_names():\n",
    "    names = dict()\n",
    "    file = os.path.join(Simulations[0][0],'data_collection.dat')\n",
    "    with open(file) as fd:\n",
    "        count = 0\n",
    "        for f in fd:\n",
    "            if ('Observation Name' in f):\n",
    "                f1 = f.split(':')\n",
    "                #print (f1, f[-1])\n",
    "                if 'time [d]' in f1[-1]:\n",
    "                    names['Time'] = count\n",
    "                    #print (f1, f1[-1],names)\n",
    "                elif 'outlet discharge [mol d^-1]' in f1[-1]:\n",
    "                    names['Discharge'] = count \n",
    "                elif 'total evaporation [m d^-1]' in f1[-1]:\n",
    "                    names['ET'] = count\n",
    "                elif 'snow precipitation [m d^-1]' in f1[-1]:\n",
    "                    names['Psnow'] = count\n",
    "                elif 'rain precipitation [m d^-1]' in f1[-1]:\n",
    "                    names['Prain'] = count\n",
    "                elif 'subsurface water content [mol]' in f1[-1]:\n",
    "                    names['SS_wc'] = count\n",
    "                    #print (count)\n",
    "                elif 'surface water content [mol]' in f1[-1]:\n",
    "                    #print (count)\n",
    "                    names['Sf_wc'] = count\n",
    "                elif 'snow water content [mol]' in f1[-1]: #but this is in m^3 correction\n",
    "                    names['Snow_wc'] = count\n",
    "                elif 'surface air temperature [K]' in f1[-1]:\n",
    "                    names['Tair'] = count\n",
    "                elif 'surface carbon decomposition rate [-]' in f1[-1]:\n",
    "                    names['Sf_CDR'] = count\n",
    "                elif 'surface moisture content [-]' in f1[-1]:\n",
    "                    names['Sf_mc'] = count\n",
    "                elif 'surface gas content [-]' in f1[-1]:\n",
    "                    names['Sf_gc'] = count\n",
    "                elif 'surface volumetric wc [-]' in f1[-1]:\n",
    "                    names['Sf_vol_wc'] = count\n",
    "                elif 'surface gas content [-]' in f1[-1]:\n",
    "                    names['Sf_gc'] = count\n",
    "                elif 'surface column average temperature [K]' in f1[-1]:\n",
    "                    names['Sf_avg_T'] = count\n",
    "                elif 'surface ALT average temperature [K]' in f1[-1]:\n",
    "                    names['Sf_ALT_avg_T'] = count\n",
    "                elif 'surface saturated_fraction [-]' in f1[-1]:\n",
    "                    names['Sf_sat_frac'] = count\n",
    "                else:\n",
    "                    print ('DNE:',count, f[-1])\n",
    "                count = count + 1\n",
    "    return names"
   ]
  },
  {
   "cell_type": "code",
   "execution_count": 29,
   "metadata": {},
   "outputs": [],
   "source": [
    "names = get_vars_names()"
   ]
  },
  {
   "cell_type": "code",
   "execution_count": 30,
   "metadata": {},
   "outputs": [],
   "source": [
    "def get_moving_average(d, m=5):\n",
    "    d_avg = []\n",
    "    len1 = len(d)\n",
    "    for i in range(len1):\n",
    "        if i < m:\n",
    "            s1 = np.mean(d[:i+1])\n",
    "        else:\n",
    "            s1= np.mean(d[i-m:i])\n",
    "\n",
    "        d_avg.append(s1)\n",
    "    return d_avg"
   ]
  },
  {
   "cell_type": "code",
   "execution_count": 31,
   "metadata": {},
   "outputs": [],
   "source": [
    "#Read discharge\n",
    "\n",
    "time = 2006 + np.linspace(0,94,94,dtype='int')\n",
    "to_day_mm = 86400 * 1000\n",
    "to_year_mm = 86400 * 365 * 1000\n",
    "basin_area = 112635.48\n",
    "to_mm = 1000."
   ]
  },
  {
   "cell_type": "code",
   "execution_count": 32,
   "metadata": {},
   "outputs": [],
   "source": [
    "\n",
    "def get_daily_data():\n",
    "    daily = dict()\n",
    "    for i,sim in enumerate(Simulations):\n",
    "        df = pd.DataFrame(columns=names.keys())\n",
    "        #df.columns = names.keys()\n",
    "        \n",
    "        for s in sim:\n",
    "            file = os.path.join(s,'data_collection.dat')\n",
    "            df1 = pd.read_csv(file, comment='#')\n",
    "            df1.columns = names.keys()\n",
    "            rows,cols = df1.shape\n",
    "            rows = rows - rows%365.\n",
    "            df1 = df1.truncate(before=0,after=rows-1,axis='index')\n",
    "            \n",
    "            df = df.append(df1)\n",
    "            #print (df)\n",
    "        daily[SimLabels[i]] = df\n",
    "        \n",
    "    return daily\n",
    "\n",
    "SimData_daily = get_daily_data()"
   ]
  },
  {
   "cell_type": "code",
   "execution_count": 33,
   "metadata": {},
   "outputs": [
    {
     "name": "stdout",
     "output_type": "stream",
     "text": [
      "dict_keys(['S3', 'S2', 'S1']) ['S3', 'S2', 'S1']\n",
      "dict_keys(['S3', 'S2', 'S1']) ['S3', 'S2', 'S1']\n"
     ]
    }
   ],
   "source": [
    "#print (SimData_daily)\n",
    "to_year = 365\n",
    "to_mm = 1000\n",
    "def get_discharge():\n",
    "    Q_daily = dict()\n",
    "    Q_annual = dict()\n",
    "    size = len(SimData_daily.keys())\n",
    "    keys = list(SimData_daily.keys())\n",
    "    print (SimData_daily.keys(),keys)\n",
    "    for i in range(size):\n",
    "        convert = 1/(molar_density*surface_area)\n",
    "        d = [x* convert for x in SimData_daily[keys[i]]['Discharge'] ]\n",
    "        Q_daily[keys[i]]= d*to_mm\n",
    "        #print (d.shape)\n",
    "        Q_annual[keys[i]]= np.reshape(d,(-1,365)).mean(axis=1)*to_year * to_mm\n",
    "    return Q_daily, Q_annual\n",
    "Q_daily, Q_annual = get_discharge()\n",
    "\n",
    "def get_Pr():\n",
    "    Pr_daily = dict()\n",
    "    Pr_annual = dict()\n",
    "    size = len(SimData_daily.keys())\n",
    "    keys = list(SimData_daily.keys())\n",
    "    #print (SimData_daily.keys(),keys)\n",
    "    for i in range(size):\n",
    "        convert = 1\n",
    "        d = [x* convert for x in SimData_daily[keys[i]]['Prain'] ]\n",
    "        Pr_daily[keys[i]]= d*to_mm\n",
    "        Pr_annual[keys[i]]= np.reshape(d,(-1,365)).mean(axis=1)*to_year * to_mm\n",
    "    return Pr_daily, Pr_annual\n",
    "Pr_daily, Pr_annual = get_Pr()\n",
    "\n",
    "\n",
    "def get_Ps():\n",
    "    Ps_daily = dict()\n",
    "    Ps_annual = dict()\n",
    "    size = len(SimData_daily.keys())\n",
    "    keys = list(SimData_daily.keys())\n",
    "    #print (SimData_daily.keys(),keys)\n",
    "    for i in range(size):\n",
    "        convert = 1\n",
    "        d = [x* convert for x in SimData_daily[keys[i]]['Psnow'] ]\n",
    "        Ps_daily[keys[i]]= d*to_mm\n",
    "        Ps_annual[keys[i]]= np.reshape(d,(-1,365)).mean(axis=1)*to_year * to_mm\n",
    "    return Ps_daily, Ps_annual\n",
    "Ps_daily, Ps_annual = get_Ps()\n",
    "\n",
    "def get_time():\n",
    "    T_daily = dict()\n",
    "    T_annual = dict()\n",
    "    size = len(SimData_daily.keys())\n",
    "    keys = list(SimData_daily.keys())\n",
    "    print (SimData_daily.keys(),keys)\n",
    "    for i in range(size):\n",
    "        convert = 1./(365)\n",
    "        d = [1985 + x* convert for x in SimData_daily[keys[i]]['Time'] ]\n",
    "        T_daily[keys[i]]= d\n",
    "        T_annual[keys[i]]= np.reshape(d,(-1,365)).mean(axis=1)\n",
    "    return T_daily, T_annual\n",
    "T_daily, T_annual = get_time()"
   ]
  },
  {
   "cell_type": "code",
   "execution_count": 34,
   "metadata": {},
   "outputs": [],
   "source": [
    "def get_ET():\n",
    "    ET_daily = dict()\n",
    "    ET_annual = dict()\n",
    "    size = len(SimData_daily.keys())\n",
    "    keys = list(SimData_daily.keys())\n",
    "    #print (SimData_daily.keys(),keys)\n",
    "    for i in range(size):\n",
    "        convert = 1\n",
    "        d = [x* convert for x in SimData_daily[keys[i]]['ET'] ]\n",
    "        ET_daily[keys[i]]= d*to_mm\n",
    "        ET_annual[keys[i]]= np.reshape(d,(-1,365)).mean(axis=1)*to_year * to_mm\n",
    "    return ET_daily, ET_annual\n",
    "ET_daily, ET_annual = get_ET()"
   ]
  },
  {
   "cell_type": "code",
   "execution_count": 35,
   "metadata": {},
   "outputs": [],
   "source": [
    "def get_Storage():\n",
    "    ST_daily = dict()\n",
    "    ST_annual = dict()\n",
    "    size = len(SimData_daily.keys())\n",
    "    keys = list(SimData_daily.keys())\n",
    "    for i in range(size):\n",
    "        convert = 1/(molar_density*surface_area)\n",
    "        ss_d = [x * convert for x in SimData_daily[keys[i]]['SS_wc'] ] #moles --> m\n",
    "        sf_d = [x * convert for x in SimData_daily[keys[i]]['Sf_wc'] ] #moles --> m\n",
    "        snow_d = [x /surface_area for x in SimData_daily[keys[i]]['Snow_wc'] ] #m^3 --> m\n",
    "        d = [x+y+z for x,y,z in zip(ss_d, sf_d,snow_d)]\n",
    "        ST_daily[keys[i]]= d*to_mm\n",
    "        ST_annual[keys[i]]= np.reshape(d,(-1,365)).mean(axis=1)*to_year * to_mm\n",
    "    return ST_daily, ST_annual\n",
    "ST_daily, ST_annual = get_Storage()"
   ]
  },
  {
   "cell_type": "code",
   "execution_count": 36,
   "metadata": {},
   "outputs": [],
   "source": [
    "def get_Carbon():\n",
    "    CDR_daily = dict()\n",
    "    CDR_annual = dict()\n",
    "    size = len(SimData_daily.keys())\n",
    "    keys = list(SimData_daily.keys())\n",
    "    for i in range(size):\n",
    "        convert = 1#/(molar_density*surface_area)\n",
    "        d = [x * convert for x in SimData_daily[keys[i]]['Sf_CDR'] ] \n",
    "        CDR_daily[keys[i]]= d#*to_mm\n",
    "        CDR_annual[keys[i]]= np.reshape(d,(-1,365)).sum(axis=1)#*to_year #* to_mm\n",
    "    return CDR_daily, CDR_annual\n",
    "CDR_daily, CDR_annual = get_Carbon()\n",
    "\n"
   ]
  },
  {
   "cell_type": "code",
   "execution_count": 78,
   "metadata": {},
   "outputs": [
    {
     "data": {
      "text/plain": [
       "(2006.5, 2099.5)"
      ]
     },
     "execution_count": 78,
     "metadata": {},
     "output_type": "execute_result"
    }
   ],
   "source": [
    "fig = plt.figure(figsize=(8,4))\n",
    "for i in range(sim_len):\n",
    "    s = SimLabels[i]\n",
    "    d = get_moving_average(Q_annual[s],m=5)\n",
    "    d = np.cumsum(Q_annual[s])\n",
    "    #d=d/d[0]\n",
    "    plt.plot(T_annual[s],d,label=Labels[i],color=colors[i])\n",
    "    \n",
    "\n",
    "plt.legend()\n",
    "plt.ylabel('Mean annual discharge [mm]',fontsize=12, fontweight='normal')\n",
    "plt.xlabel('Year',fontsize=12, fontweight='normal')\n",
    "#plt.ylim(0,200)\n",
    "plt.xlim(2006.5,2099.5)\n",
    "#plt.savefig(outfile+'/Projected-Q.pdf', bbox_inches='tight', dpi=500)\n",
    "\n"
   ]
  },
  {
   "cell_type": "code",
   "execution_count": 82,
   "metadata": {},
   "outputs": [
    {
     "data": {
      "text/plain": [
       "(2006.5, 2099.5)"
      ]
     },
     "execution_count": 82,
     "metadata": {},
     "output_type": "execute_result"
    }
   ],
   "source": [
    "fig = plt.figure(figsize=(8,4))\n",
    "for i,s in enumerate(SimLabels):\n",
    "    d = get_moving_average(ET_annual[s])\n",
    "    #d = [ (x - d[0])/d[0]*100 for x in d]\n",
    "    #d = np.cumsum(ET_annual[s])\n",
    "    plt.plot(T_annual[s],d,label=Labels[i],color=colors[i])\n",
    "    \n",
    "plt.legend()\n",
    "plt.ylabel('Annual average ET [mm]',fontsize=12, fontweight='normal')\n",
    "plt.xlabel('Year',fontsize=12, fontweight='normal')\n",
    "#plt.ylim(100,400)\n",
    "plt.xlim(2006.5,2099.5)\n",
    "#plt.savefig(outfile+'/Projected-ET.pdf', bbox_inches='tight', dpi=500)"
   ]
  },
  {
   "cell_type": "code",
   "execution_count": 40,
   "metadata": {},
   "outputs": [
    {
     "data": {
      "text/plain": [
       "(2006.5, 2099.5)"
      ]
     },
     "execution_count": 40,
     "metadata": {},
     "output_type": "execute_result"
    },
    {
     "data": {
      "image/png": "[encoded data removed]",
      "text/plain": [
       "<Figure size 576x288 with 1 Axes>"
      ]
     },
     "metadata": {
      "needs_background": "light"
     },
     "output_type": "display_data"
    }
   ],
   "source": [
    "fig = plt.figure(figsize=(8,4))\n",
    "for i,s in enumerate(SimLabels):\n",
    "    #d = [ (x - ST_annual[s][0])/ST_annual[s][0]*100 for x in ST_annual[s]]\n",
    "    #d = get_moving_average(d)\n",
    "    d = get_moving_average(ST_annual[s])\n",
    "    d = [ (x - d[0])/d[0]*100 for x in d]\n",
    "    #d = [ x/d[0] for x in d]\n",
    "    plt.plot(T_annual[s],d,label=Labels[i],color=colors[i])\n",
    "plt.legend()\n",
    "plt.ylabel('Storage (% change) [-]',fontsize=12, fontweight='normal')\n",
    "plt.xlabel('Year',fontsize=12, fontweight='normal')\n",
    "plt.ylim(-1.0,0.4)\n",
    "plt.xlim(2006.5,2099.5)\n",
    "#plt.savefig(outfile+'/Projected-storage.pdf', bbox_inches='tight', dpi=500)"
   ]
  },
  {
   "cell_type": "code",
   "execution_count": 73,
   "metadata": {},
   "outputs": [
    {
     "data": {
      "text/plain": [
       "(2006.5, 2099.5)"
      ]
     },
     "execution_count": 73,
     "metadata": {},
     "output_type": "execute_result"
    }
   ],
   "source": [
    "%matplotlib qt\n",
    "fig = plt.figure(figsize=(8,4))\n",
    "for i,s in enumerate(SimLabels):\n",
    "    #d = get_moving_average(CDR_annual[s],m=5)\n",
    "    #d = d/d[0]\n",
    "    #plt.plot(T_annual[s],d,label=Labels[i],color=colors[i])\n",
    "    d = np.cumsum(CDR_annual[s])\n",
    "    #d = d/d[0]\n",
    "    plt.plot(T_annual[s],d,label=Labels[i],color=colors[i])\n",
    "plt.legend()\n",
    "plt.ylabel('Carbon decomposition rate [-]',fontsize=12, fontweight='normal')\n",
    "plt.xlabel('Year',fontsize=12, fontweight='normal')\n",
    "#plt.ylim(0,25)\n",
    "plt.xlim(2006.5,2099.5)\n",
    "#plt.savefig(outfile+'/Projected-CDR.pdf', bbox_inches='tight', dpi=500)"
   ]
  },
  {
   "cell_type": "code",
   "execution_count": null,
   "metadata": {},
   "outputs": [],
   "source": []
  }
 ],
 "metadata": {
  "kernelspec": {
   "display_name": "Python 3",
   "language": "python",
   "name": "python3"
  },
  "language_info": {
   "codemirror_mode": {
    "name": "ipython",
    "version": 3
   },
   "file_extension": ".py",
   "mimetype": "text/x-python",
   "name": "python",
   "nbconvert_exporter": "python",
   "pygments_lexer": "ipython3",
   "version": "3.7.6"
  }
 },
 "nbformat": 4,
 "nbformat_minor": 4
}
