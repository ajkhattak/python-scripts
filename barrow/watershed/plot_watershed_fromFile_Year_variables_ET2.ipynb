{
 "cells": [
  {
   "cell_type": "markdown",
   "metadata": {},
   "source": [
    "## Using three-year average for wet/dry/average year per Peter's suggestion"
   ]
  },
  {
   "cell_type": "code",
   "execution_count": 1,
   "metadata": {},
   "outputs": [],
   "source": [
    "\n",
    "import sys, os\n",
    "import numpy as np\n",
    "import pandas as pd\n",
    "from matplotlib import pyplot as plt\n",
    "import scipy.signal\n",
    "import importlib\n",
    "import h5py\n",
    "sys.path.append('/Users/ajc/Core/PyScript')\n",
    "import readdata"
   ]
  },
  {
   "cell_type": "code",
   "execution_count": null,
   "metadata": {},
   "outputs": [],
   "source": []
  },
  {
   "cell_type": "code",
   "execution_count": 334,
   "metadata": {},
   "outputs": [],
   "source": [
    "path = \"/Users/ajc/Core/simulations/barrow_watershed\"\n",
    "outfile ='/Users/ajc/Core/PostProcessing/barrow_watershed/2021/September/set_4_3yr_avg/'"
   ]
  },
  {
   "cell_type": "code",
   "execution_count": 3,
   "metadata": {},
   "outputs": [],
   "source": [
    "colors = ['r','blue','grey','green','darkgreen','k']\n",
    "marks = ['.','*', '+', 'o']\n",
    "marks = ['-','-','-','-','-']\n",
    "\n",
    "SimLabels = ['S%s'%i for i in range(3,0,-1)]"
   ]
  },
  {
   "cell_type": "code",
   "execution_count": 346,
   "metadata": {},
   "outputs": [],
   "source": [
    "#Set 1 : flow processes\n",
    "S1 = [os.path.join(path, 'CESM_04/CESM_5050_R1%s_B'%i) for i in range(3)]\n",
    "S3 = [os.path.join(path, 'CESM_05/CESM_I5050_P80_R3%s'%i) for i in range(1)] \n",
    "S5 = [os.path.join(path, 'CESM_05/CESM_I5050_P80_R5%s'%i) for i in range(1)]\n",
    "Simulations = [S5, S3, S1]\n",
    "Labels = ['dynamic-microtopography','static-microtopography','no-microtopography']\n",
    "#Labels = ['Realistic', '', 'Simplified']\n",
    "#Labels = ['Realistic', '', 'Simplistic']"
   ]
  },
  {
   "cell_type": "code",
   "execution_count": null,
   "metadata": {},
   "outputs": [],
   "source": []
  },
  {
   "cell_type": "code",
   "execution_count": null,
   "metadata": {},
   "outputs": [],
   "source": [
    "# Set 2: ice rich top porosity sensitivity \n",
    "S5_P80 = [os.path.join(path, 'CESM_05/CESM_I5050_P80_R5%s'%i) for i in range(1)]\n",
    "S5_P70 = [os.path.join(path, 'CESM_05/CESM_I5050_P70_R5%s'%i) for i in range(1)]\n",
    "S5_P90 = [os.path.join(path, 'CESM_05/CESM_I5050_P90_R5%s'%i) for i in range(1)]\n",
    "Simulations = [S5_P80, S5_P70, S5_P90]\n",
    "Labels = ['dynamic-microtopography (por = 80%)','dynamic-microtopography (por = 70%)','dynamic-microtopography (por = 90%)']"
   ]
  },
  {
   "cell_type": "code",
   "execution_count": null,
   "metadata": {},
   "outputs": [],
   "source": [
    "# Set 2: ice rich top porosity sensitivity\n",
    "S5_D0515 = [os.path.join(path, 'CESM_05/CESM_I5050_P80_R5%s'%i) for i in range(1)]\n",
    "S5_D0020 = [os.path.join(path, 'CESM_05/CESM_I5050_P80_R5%s_D0020'%i) for i in range(1)]\n",
    "S5_D1010 = [os.path.join(path, 'CESM_05/CESM_I5050_P80_R5%s_D1010'%i) for i in range(1)]\n",
    "S5_D2020 = [os.path.join(path, 'CESM_05/CESM_I5050_P80_R5%s_D2020'%i) for i in range(1)]\n",
    "Simulations = [S5_D0515, S5_D0020, S5_D1010,S5_D2020]\n",
    "Labels = ['dynamic-microtopography (d = [5,15])','dynamic-microtopography (d = [0,2])',\n",
    "          'dynamic-microtopography (d = [10,10])', 'dynamic-microtopography (d = [20,20])']\n",
    "\n"
   ]
  },
  {
   "cell_type": "code",
   "execution_count": 5,
   "metadata": {},
   "outputs": [
    {
     "data": {
      "text/plain": [
       "3"
      ]
     },
     "execution_count": 5,
     "metadata": {},
     "output_type": "execute_result"
    }
   ],
   "source": [
    "sim_len = len(Simulations)\n",
    "sim_len"
   ]
  },
  {
   "cell_type": "code",
   "execution_count": 6,
   "metadata": {},
   "outputs": [
    {
     "name": "stdout",
     "output_type": "stream",
     "text": [
      "112635.47903126487\n"
     ]
    }
   ],
   "source": [
    "#path_sf =\"/Users/ajc/Core/simulations/projections/barrow_watershed_02/CESM_15/CESM_5050_R60_B/visdump_surface_star_data.h5\"\n",
    "#file_surf= h5py.File(path_sf,'r')\n",
    "#surface_area = np.sum(list(file_surf['surface_star-cell_volume.cell.0']['100095']))\n",
    "surface_area = 112635.47903126487\n",
    "print (surface_area)\n",
    "molar_density = 55500."
   ]
  },
  {
   "cell_type": "code",
   "execution_count": 7,
   "metadata": {},
   "outputs": [],
   "source": [
    "def read_file(file):\n",
    "    d = np.loadtxt(file,usecols=1,skiprows=6)\n",
    "    t1 = np.loadtxt(file,usecols=0,skiprows=6)\n",
    "    t = np.array([x/86400./365. for x in t1])\n",
    "    #print (len(d),len(t))\n",
    "    l = np.minimum(len(d),len(t))\n",
    "    return d[:l],t[:l]\n",
    "\n",
    "def read_set(set,var='surface_flux-halfday.dat'):\n",
    "    dat = []\n",
    "    tim = []\n",
    "    for s in set:\n",
    "        file = os.path.join(path,s, var)\n",
    "        #print (file)\n",
    "        d = np.loadtxt(file,usecols=1,skiprows=6)\n",
    "        t1 = np.loadtxt(file,usecols=0,skiprows=6)\n",
    "        t = np.array([x/86400./365. for x in t1])\n",
    "        \n",
    "        L = len(d)%(365*2)\n",
    "        if L >0:\n",
    "            d = d[:-L]\n",
    "            t = t[:len(d)]\n",
    "            \n",
    "        dat.append(d)\n",
    "        tim.append(t)\n",
    "    dat = np.concatenate(dat)\n",
    "    tim = np.concatenate(tim)\n",
    "    \n",
    "    return dat, tim\n"
   ]
  },
  {
   "cell_type": "code",
   "execution_count": null,
   "metadata": {},
   "outputs": [],
   "source": []
  },
  {
   "cell_type": "code",
   "execution_count": 8,
   "metadata": {},
   "outputs": [],
   "source": [
    "def get_vars_names(simul):\n",
    "    names = dict()\n",
    "    #file = os.path.join(Simulations[0][0],'data_collection.dat')\n",
    "    file = os.path.join(simul,'data_collection.dat')\n",
    "    with open(file) as fd:\n",
    "        count = 0\n",
    "        for f in fd:\n",
    "            if ('Observation Name' in f):\n",
    "                f1 = f.split(':')\n",
    "                #print (f1, f[-1])\n",
    "                if 'time [d]' in f1[-1]:\n",
    "                    names['Time'] = count\n",
    "                    #print (f1, f1[-1],names)\n",
    "                elif 'outlet discharge [mol d^-1]' in f1[-1]:\n",
    "                    names['Discharge'] = count \n",
    "                elif 'total evaporation [m d^-1]' in f1[-1]:\n",
    "                    names['ET'] = count\n",
    "                elif 'snow precipitation [m d^-1]' in f1[-1]:\n",
    "                    names['Psnow'] = count\n",
    "                elif 'rain precipitation [m d^-1]' in f1[-1]:\n",
    "                    names['Prain'] = count\n",
    "                elif 'subsurface water content [mol]' in f1[-1]:\n",
    "                    names['SS_wc'] = count\n",
    "                    #print (count)\n",
    "                elif 'surface water content [mol]' in f1[-1]:\n",
    "                    #print (count)\n",
    "                    names['Sf_wc'] = count\n",
    "                elif 'snow water content [mol]' in f1[-1]: #but this is in m^3 correction\n",
    "                    names['Snow_wc'] = count\n",
    "                elif 'surface air temperature [K]' in f1[-1]:\n",
    "                    names['Tair'] = count\n",
    "                elif 'surface carbon decomposition rate [-]' in f1[-1]:\n",
    "                    names['Sf_CDR'] = count\n",
    "                elif 'surface moisture content [-]' in f1[-1]:\n",
    "                    names['Sf_mc'] = count\n",
    "                elif 'surface gas content [-]' in f1[-1]:\n",
    "                    names['Sf_gc'] = count\n",
    "                elif 'surface volumetric wc [-]' in f1[-1]:\n",
    "                    names['Sf_vol_wc'] = count\n",
    "                elif 'surface gas content [-]' in f1[-1]:\n",
    "                    names['Sf_gc'] = count\n",
    "                elif 'surface column average temperature [K]' in f1[-1]:\n",
    "                    names['Sf_avg_T'] = count\n",
    "                elif 'surface ALT average temperature [K]' in f1[-1]:\n",
    "                    names['Sf_ALT_avg_T'] = count\n",
    "                elif 'surface saturated_fraction [-]' in f1[-1]:\n",
    "                    names['Sf_sat_frac'] = count\n",
    "                elif 'surface thaw depth min [m]' in f1[-1]:\n",
    "                    names['Sf_TD_min'] = count\n",
    "                elif 'surface thaw depth max [m]' in f1[-1]:\n",
    "                    names['Sf_TD_max'] = count\n",
    "                elif 'surface maximum thaw depth [m]' in f1[-1]:\n",
    "                    names['Sf_maxTD'] = count\n",
    "                elif 'surface water table [m]' in f1[-1]:\n",
    "                    names['Sf_WT'] = count\n",
    "                elif 'surface subsurface exchange [m]' in f1[-1]:\n",
    "                    names['Sf_exchangeFlux'] = count\n",
    "                elif 'surface initial elevation [m]' in f1[-1]:\n",
    "                    names['Sf_InitElev'] = count\n",
    "                elif 'surface mean subsidence [m]' in f1[-1]:\n",
    "                    names['Sf_mean_Subsidence'] = count\n",
    "                else:\n",
    "                    #names['Sf_DNE_%s'%count] = count\n",
    "                    print ('DNE:',count, f[-1])\n",
    "                count = count + 1\n",
    "    return names"
   ]
  },
  {
   "cell_type": "code",
   "execution_count": null,
   "metadata": {},
   "outputs": [],
   "source": []
  },
  {
   "cell_type": "code",
   "execution_count": 9,
   "metadata": {},
   "outputs": [],
   "source": [
    "forcing_watershed_ET = h5py.File(\"/Users/ajc/Core/PreProcessing/ats-intermediate-ngee/data/SNAP/CESM-RCP8.5-2006-2100_dm1985-2015-ET_2006.h5\",'r')\n"
   ]
  },
  {
   "cell_type": "code",
   "execution_count": null,
   "metadata": {},
   "outputs": [],
   "source": []
  },
  {
   "cell_type": "code",
   "execution_count": null,
   "metadata": {},
   "outputs": [],
   "source": []
  },
  {
   "cell_type": "code",
   "execution_count": 156,
   "metadata": {},
   "outputs": [
    {
     "name": "stdout",
     "output_type": "stream",
     "text": [
      "298.6617268856559 442.80033994070186 (array([1]),) (array([7]),)\n",
      "Min  136.91912394364385 1 136.91912394364385\n",
      "Max  442.80033994070186 7 442.80033994070186\n",
      "Mean  298.6617268856559 23 299.8370056061752\n"
     ]
    },
    {
     "data": {
      "image/png": "[encoded data removed]",
      "text/plain": [
       "<Figure size 432x288 with 1 Axes>"
      ]
     },
     "metadata": {
      "needs_background": "light"
     },
     "output_type": "display_data"
    }
   ],
   "source": [
    "# Fengming data with ET loop\n",
    "d1 = forcing_watershed_ET['precipitation rain [m s^-1]']\n",
    "d2 = forcing_watershed_ET['precipitation snow [m SWE s^-1]']\n",
    "rain_mm = np.reshape(d1,(-1,365)).mean(axis=1)*86400*365*1000\n",
    "snow_mm = np.reshape(d2,(-1,365)).mean(axis=1)*86400*365*1000\n",
    "precip_annual = snow_mm + rain_mm\n",
    "r1 = np.array(d1)*86400*1000\n",
    "r2 = np.array(d2)*86400*1000\n",
    "precip_daily = r1 + r2\n",
    "\n",
    "s= 0\n",
    "e = s + 31\n",
    "pmax,pmin,pmean = np.max(precip_annual[s:e]), np.min(precip_annual[s:e]), np.mean(precip_annual[s:e])\n",
    "print (np.mean(precip_annual[s:e]), np.max(precip_annual[s:e]), np.where(precip_annual[s:e]== pmin), np.where(precip_annual[s:e]== pmax))\n",
    "\n",
    "print ('Min ', pmin, s+1, precip_annual[1])\n",
    "print ('Max ', pmax, s+7, precip_annual[7])\n",
    "print ('Mean ', pmean, s+23, precip_annual[23]) #typical\n",
    "x3 = np.arange(s,e,1)\n",
    "plt.plot(x3,precip_annual[s:e],'r*')\n",
    "plt.plot(precip_annual[:e],'k')\n",
    "plt.axhline(pmean)\n",
    "plt.vlines(x=[7,14,18],ymin=0, ymax=500,color='m')\n",
    "#plt.vlines(x=[1,16,20],ymin=0, ymax=500,color='g')\n",
    "#plt.vlines(x=[11,19,23],ymin=0, ymax=500,color='c')\n",
    "plt.ylim(100,450)\n",
    "typ_yr = [11,19,23]\n",
    "wet_yr = [7,14,18]\n",
    "dry_yr = [1,16,20]"
   ]
  },
  {
   "cell_type": "code",
   "execution_count": 11,
   "metadata": {},
   "outputs": [
    {
     "name": "stdout",
     "output_type": "stream",
     "text": [
      "[11, 19, 23] [7, 14, 18] [1, 16, 20]\n"
     ]
    }
   ],
   "source": [
    "print (typ_yr, wet_yr, dry_yr)"
   ]
  },
  {
   "cell_type": "code",
   "execution_count": 12,
   "metadata": {},
   "outputs": [],
   "source": [
    "#Read discharge\n",
    "\n",
    "time = 2006 + np.linspace(0,94,94,dtype='int')\n",
    "to_day_mm = 86400 * 1000\n",
    "to_year_mm = 86400 * 365 * 1000\n",
    "basin_area = 112635.48\n",
    "to_mm = 1000."
   ]
  },
  {
   "cell_type": "code",
   "execution_count": 13,
   "metadata": {},
   "outputs": [
    {
     "name": "stdout",
     "output_type": "stream",
     "text": [
      "/Users/ajc/Core/simulations/barrow_watershed/CESM_05/CESM_I5050_P80_R50 23\n",
      "/Users/ajc/Core/simulations/barrow_watershed/CESM_05/CESM_I5050_P80_R30 21\n",
      "/Users/ajc/Core/simulations/barrow_watershed/CESM_04/CESM_5050_R10_B 16\n",
      "/Users/ajc/Core/simulations/barrow_watershed/CESM_04/CESM_5050_R11_B 16\n",
      "/Users/ajc/Core/simulations/barrow_watershed/CESM_04/CESM_5050_R12_B 16\n",
      "Index(['', 'Time', 'Discharge', 'ET', 'Psnow', 'Prain', 'Sf_wc', 'SS_wc',\n",
      "       'Snow_wc', 'Tair', 'Sf_CDR', 'Sf_mc', 'Sf_gc', 'Sf_vol_wc', 'Sf_avg_T',\n",
      "       'Sf_ALT_avg_T', 'Sf_sat_frac'],\n",
      "      dtype='object')\n",
      "Index(['', 'Time', 'Discharge', 'ET', 'Psnow', 'Prain', 'Sf_wc', 'SS_wc',\n",
      "       'Snow_wc', 'Tair', 'Sf_CDR', 'Sf_mc', 'Sf_gc', 'Sf_vol_wc', 'Sf_avg_T',\n",
      "       'Sf_ALT_avg_T', 'Sf_sat_frac', 'Sf_TD_min', 'Sf_TD_max', 'Sf_maxTD',\n",
      "       'Sf_WT', 'Sf_exchangeFlux'],\n",
      "      dtype='object')\n",
      "Index(['', 'Time', 'Discharge', 'ET', 'Psnow', 'Prain', 'Sf_wc', 'SS_wc',\n",
      "       'Snow_wc', 'Tair', 'Sf_CDR', 'Sf_mc', 'Sf_gc', 'Sf_vol_wc', 'Sf_avg_T',\n",
      "       'Sf_ALT_avg_T', 'Sf_sat_frac', 'Sf_TD_min', 'Sf_TD_max', 'Sf_maxTD',\n",
      "       'Sf_WT', 'Sf_InitElev', 'Sf_mean_Subsidence', 'Sf_exchangeFlux'],\n",
      "      dtype='object')\n"
     ]
    }
   ],
   "source": [
    "def get_daily_data():\n",
    "    daily = dict()\n",
    "    for i,sim in enumerate(Simulations):\n",
    "        df = pd.DataFrame(columns=[''])\n",
    "        #df.columns = names.keys()\n",
    "        \n",
    "        for s in sim:\n",
    "            file = os.path.join(s,'data_collection.dat')\n",
    "            \n",
    "            df1 = pd.read_csv(file, comment='#')\n",
    "            names = get_vars_names(s)\n",
    "            #print (names)\n",
    "            print (s, len(names.keys()))\n",
    "            df1.columns = names.keys()\n",
    "            #print (names.keys())\n",
    "            rows,cols = df1.shape\n",
    "            rows = rows - rows%365.\n",
    "            df1 = df1.truncate(before=0,after=rows-1,axis='index')\n",
    "            #break\n",
    "            df = df.append(df1)\n",
    "            #print (df)\n",
    "        daily[SimLabels[i]] = df\n",
    "        \n",
    "    return daily\n",
    "\n",
    "SimData_daily = get_daily_data()\n",
    "print (SimData_daily['S1'].keys())\n",
    "print (SimData_daily['S2'].keys())\n",
    "print (SimData_daily['S3'].keys())"
   ]
  },
  {
   "cell_type": "code",
   "execution_count": 14,
   "metadata": {},
   "outputs": [],
   "source": [
    "def getSurfaceData():\n",
    "    Data = []\n",
    "    var ='surface_star-thaw_depth'\n",
    "    for i,sim in enumerate(Simulations[2]):\n",
    "\n",
    "        infile = os.path.join(sim,'ats_vis_surface_star_data.h5')\n",
    "        dx=h5py.File(infile,'r')\n",
    "        Dat11 = np.array(readdata.GetSurfVarFromVis_All(infile,var)[var])\n",
    "        Dat11 = Dat11.max(axis=1)\n",
    "        a1 = len(Dat11)%365\n",
    "        a2 = len(Dat11) - a1\n",
    "\n",
    "        Dat = Dat11[:a2]\n",
    "        Data.append(Dat)\n",
    "\n",
    "    #d = dict()\n",
    "    #d[var] = np.concatenate(Data)\n",
    "    d = np.concatenate(Data)\n",
    "    \n",
    "    return d"
   ]
  },
  {
   "cell_type": "code",
   "execution_count": 15,
   "metadata": {},
   "outputs": [],
   "source": [
    "SimData_daily['S1']['Sf_TD_max'] = getSurfaceData()"
   ]
  },
  {
   "cell_type": "code",
   "execution_count": null,
   "metadata": {},
   "outputs": [],
   "source": []
  },
  {
   "cell_type": "code",
   "execution_count": 16,
   "metadata": {},
   "outputs": [
    {
     "name": "stdout",
     "output_type": "stream",
     "text": [
      "dict_keys(['S3', 'S2', 'S1']) ['S3', 'S2', 'S1']\n",
      "dict_keys(['S3', 'S2', 'S1']) ['S3', 'S2', 'S1']\n"
     ]
    }
   ],
   "source": [
    "#print (SimData_daily)\n",
    "to_year = 365\n",
    "to_mm = 1000\n",
    "def get_discharge():\n",
    "    Q_daily = dict()\n",
    "    Q_annual = dict()\n",
    "    size = len(SimData_daily.keys())\n",
    "    keys = list(SimData_daily.keys())\n",
    "    print (SimData_daily.keys(),keys)\n",
    "    for i in range(size):\n",
    "        convert = 1/(molar_density*surface_area)\n",
    "        d = [x* convert for x in SimData_daily[keys[i]]['Discharge'] ]\n",
    "        Q_daily[keys[i]]= d*to_mm\n",
    "        #print (d.shape)\n",
    "        Q_annual[keys[i]]= np.reshape(d,(-1,365)).mean(axis=1)*to_year * to_mm\n",
    "    return Q_daily, Q_annual\n",
    "Q_daily, Q_annual = get_discharge()\n",
    "\n",
    "\n",
    "def get_time():\n",
    "    T_daily = dict()\n",
    "    T_annual = dict()\n",
    "    size = len(SimData_daily.keys())\n",
    "    keys = list(SimData_daily.keys())\n",
    "    print (SimData_daily.keys(),keys)\n",
    "    for i in range(size):\n",
    "        convert = 1./(365)\n",
    "        d = [1985 + x* convert for x in SimData_daily[keys[i]]['Time'] ]\n",
    "        T_daily[keys[i]]= d\n",
    "        T_annual[keys[i]]= np.reshape(d,(-1,365)).mean(axis=1)\n",
    "    return T_daily, T_annual\n",
    "T_daily, T_annual = get_time()"
   ]
  },
  {
   "cell_type": "code",
   "execution_count": 17,
   "metadata": {},
   "outputs": [],
   "source": [
    "def get_ET():\n",
    "    ET_daily = dict()\n",
    "    ET_annual = dict()\n",
    "    size = len(SimData_daily.keys())\n",
    "    keys = list(SimData_daily.keys())\n",
    "    #print (SimData_daily.keys(),keys)\n",
    "    for i in range(size):\n",
    "        convert = 1\n",
    "        d = [x* convert for x in SimData_daily[keys[i]]['ET'] ]\n",
    "        ET_daily[keys[i]]= d*to_mm\n",
    "        ET_annual[keys[i]]= np.reshape(d,(-1,365)).mean(axis=1)*to_year * to_mm\n",
    "    return ET_daily, ET_annual\n",
    "ET_daily, ET_annual = get_ET()"
   ]
  },
  {
   "cell_type": "code",
   "execution_count": 118,
   "metadata": {},
   "outputs": [],
   "source": [
    "def get_saturated_fraction():\n",
    "    SFrac_daily = dict()\n",
    "    SFrac_annual = dict()\n",
    "    size = len(SimData_daily.keys())\n",
    "    keys = list(SimData_daily.keys())\n",
    "    for i in range(size):\n",
    "        convert = 1\n",
    "        d = [x* convert for x in SimData_daily[keys[i]]['Sf_sat_frac'] ]\n",
    "        SFrac_daily[keys[i]]= d\n",
    "        SFrac_annual[keys[i]]= np.reshape(d,(-1,365)).mean(axis=1)\n",
    "    return SFrac_daily, SFrac_annual\n",
    "SFrac_daily, SFrac_annual = get_saturated_fraction()\n",
    "\n",
    "def get_volumetric_wc():\n",
    "    SFrac_daily = dict()\n",
    "    SFrac_annual = dict()\n",
    "    size = len(SimData_daily.keys())\n",
    "    keys = list(SimData_daily.keys())\n",
    "    for i in range(size):\n",
    "        convert = 1\n",
    "        d = [x* convert for x in SimData_daily[keys[i]]['Sf_vol_wc'] ]\n",
    "        SFrac_daily[keys[i]]= d\n",
    "        SFrac_annual[keys[i]]= np.reshape(d,(-1,365)).mean(axis=1)\n",
    "    return SFrac_daily, SFrac_annual\n",
    "VWC_daily, VWC_annual = get_volumetric_wc()\n",
    "\n",
    "def get_gas_content():\n",
    "    GC_daily = dict()\n",
    "    GC_annual = dict()\n",
    "    size = len(SimData_daily.keys())\n",
    "    keys = list(SimData_daily.keys())\n",
    "    for i in range(size):\n",
    "        convert = 1\n",
    "        d = [x* convert for x in SimData_daily[keys[i]]['Sf_gc'] ]\n",
    "        GC_daily[keys[i]]= d\n",
    "        GC_annual[keys[i]]= np.reshape(d,(-1,365)).mean(axis=1)\n",
    "    return GC_daily, GC_annual\n",
    "GC_daily, GC_annual = get_gas_content()\n",
    "\n",
    "\n",
    "def get_ave_TD():\n",
    "    ATD_daily = dict()\n",
    "    ATD_annual = dict()\n",
    "    ATDmin_annual = dict()\n",
    "    ATDmax_annual = dict()\n",
    "    size = len(SimData_daily.keys())\n",
    "    keys = list(SimData_daily.keys())\n",
    "    \n",
    "    for i in range(size):\n",
    "        dmax = np.array([x for x in SimData_daily[keys[i]]['Sf_TD_max'] ])\n",
    "        \n",
    "        dd = np.reshape(dmax,(-1,365))#.mean(axis=1)\n",
    "        dat = []\n",
    "        for d2 in dd:\n",
    "            x2 = np.mean(d2[np.nonzero(d2)])\n",
    "            dat.append(x2)\n",
    "        ATD_annual[keys[i]] = np.array(dat)\n",
    "\n",
    "    return ATD_daily, ATD_annual\n",
    "ATD_daily, ATD_annual = get_ave_TD()"
   ]
  },
  {
   "cell_type": "code",
   "execution_count": 38,
   "metadata": {},
   "outputs": [],
   "source": [
    "#Max thaw depth per day, then find mean over the summer"
   ]
  },
  {
   "cell_type": "code",
   "execution_count": 20,
   "metadata": {},
   "outputs": [],
   "source": [
    "def get_Carbon():\n",
    "    CDR_daily = dict()\n",
    "    CDR_annual = dict()\n",
    "    size = len(SimData_daily.keys())\n",
    "    keys = list(SimData_daily.keys())\n",
    "    for i in range(size):\n",
    "        convert = 1#/(molar_density*surface_area)\n",
    "        d = [x * convert for x in SimData_daily[keys[i]]['Sf_CDR'] ] \n",
    "        CDR_daily[keys[i]]= d#*to_mm\n",
    "        CDR_annual[keys[i]]= np.reshape(d,(-1,365)).sum(axis=1)#*to_year #* to_mm\n",
    "    return CDR_daily, CDR_annual\n",
    "CDR_daily, CDR_annual = get_Carbon()\n"
   ]
  },
  {
   "cell_type": "code",
   "execution_count": null,
   "metadata": {},
   "outputs": [],
   "source": []
  },
  {
   "cell_type": "markdown",
   "metadata": {},
   "source": [
    "# Typical year"
   ]
  },
  {
   "cell_type": "code",
   "execution_count": 349,
   "metadata": {},
   "outputs": [],
   "source": [
    "#Typical year\n",
    "years_typ = [[t for t in typ_yr], [t + 31 for t in typ_yr], [t + 31 * 2 for t in typ_yr]] \n",
    "\n",
    "#wet year loop\n",
    "#cesm_years_wet = [2006+wet_yr, 2006 + wet_yr + 31, 2006 + wet_yr + 31*2]  \n",
    "years_wet = [[t for t in wet_yr], [t + 31 for t in wet_yr], [t + 31 * 2 for t in wet_yr]] \n",
    "\n",
    "years_dry = [[t for t in dry_yr], [t + 31 for t in dry_yr], [t + 31 * 2 for t in dry_yr]] \n",
    "\n",
    "Years_o = ['Early', 'Mid', 'Late']\n",
    "Years = [years_dry, years_typ, years_wet]"
   ]
  },
  {
   "cell_type": "code",
   "execution_count": 350,
   "metadata": {},
   "outputs": [
    {
     "name": "stdout",
     "output_type": "stream",
     "text": [
      "[[7, 14, 18], [38, 45, 49], [69, 76, 80]] 2107\n"
     ]
    }
   ],
   "source": [
    "print (years_wet, years_wet[2][2]+2006 + 21)"
   ]
  },
  {
   "cell_type": "code",
   "execution_count": null,
   "metadata": {},
   "outputs": [],
   "source": []
  },
  {
   "cell_type": "code",
   "execution_count": 351,
   "metadata": {},
   "outputs": [
    {
     "name": "stdout",
     "output_type": "stream",
     "text": [
      "Early\n",
      "Mid\n",
      "Late\n"
     ]
    },
    {
     "data": {
      "image/png": "[encoded data removed]",
      "text/plain": [
       "<Figure size 576x216 with 3 Axes>"
      ]
     },
     "metadata": {},
     "output_type": "display_data"
    }
   ],
   "source": [
    "fig, axs = plt.subplots(1,3, figsize=(8,3), facecolor='w', edgecolor='k',gridspec_kw={'width_ratios':[1,1,1]})\n",
    "fig.subplots_adjust(hspace =.02, wspace=1.02)\n",
    "plt.tight_layout()\n",
    "axs = axs.ravel()\n",
    "\n",
    "x = np.arange(0,3,1)\n",
    "Colors = ['y', 'g', 'grey','grey']\n",
    "\n",
    "# Discharge\n",
    "for k in range(3):\n",
    "    for i1, i in enumerate([2,0]):\n",
    "        s = SimLabels[i]\n",
    "        d = []\n",
    "        for k1 in Years[k]:\n",
    "            sm = np.mean(Q_annual[s][k1])\n",
    "            d.append(sm)\n",
    "            #print (s, k1)\n",
    "        xx = x - 0.125 + i1*0.25\n",
    "        axs[k].bar(xx, height=d, width=0.25,color=Colors[i],alpha=0.9,label=Labels[i])\n",
    "\n",
    "\n",
    "    axs[0].set_ylabel('Discharge [mm]',fontsize=12, fontweight='normal')\n",
    "    #axs[k].set_xlabel('Year',fontsize=12, fontweight='normal')\n",
    "    axs[k].set_xticks(x)\n",
    "    print (Years_o[k])\n",
    "    axs[k].set_xticklabels(Years_o)\n",
    "\n",
    "    axs[k].set_yticks(np.arange(0,200.01,50))\n",
    "    axs[k].set_ylim(0,200)\n",
    "\n",
    "plt.tight_layout()\n",
    "axs[2].legend(loc='upper right', fontsize=8, ncol=2, bbox_to_anchor=(0.95,-0.2, .1, .1))\n",
    "\n",
    "A = ['(a) dry year','(b) average year', '(c) wet year' ]\n",
    "loc = [[-0.32,185] for i in [-0.25,137,0.77,1.33]]\n",
    "for i in range(3):\n",
    "    axs[i].text(loc[i][0],loc[i][1],'%s'%A[i],fontsize=12)\n",
    "\n",
    "plt.savefig(outfile+'/Q_wet_dry_avg_A.pdf', bbox_inches='tight', dpi=500)"
   ]
  },
  {
   "cell_type": "code",
   "execution_count": null,
   "metadata": {},
   "outputs": [],
   "source": []
  },
  {
   "cell_type": "markdown",
   "metadata": {},
   "source": [
    "# Wet Year"
   ]
  },
  {
   "cell_type": "code",
   "execution_count": 353,
   "metadata": {},
   "outputs": [
    {
     "data": {
      "image/png": "[encoded data removed]",
      "text/plain": [
       "<Figure size 576x216 with 3 Axes>"
      ]
     },
     "metadata": {},
     "output_type": "display_data"
    }
   ],
   "source": [
    "fig, axs = plt.subplots(1,3, figsize=(8,3), facecolor='w', edgecolor='k',gridspec_kw={'width_ratios':[1,1,1]})\n",
    "fig.subplots_adjust(hspace =.02, wspace=1.02)\n",
    "plt.tight_layout()\n",
    "axs = axs.ravel()\n",
    "\n",
    "x = np.arange(0,3,1)\n",
    "Colors = ['y', 'g', 'grey','grey']\n",
    "# Discharge\n",
    "for k in range(3):\n",
    "    for i1, i in enumerate([2,0]):\n",
    "        s = SimLabels[i]\n",
    "        d = []\n",
    "        for k1 in Years[k]:\n",
    "            sm = np.mean(ET_annual[s][k1])\n",
    "            d.append(sm)\n",
    "            #print (s, k1)\n",
    "        xx = x - 0.125 + i1*0.25\n",
    "        axs[k].bar(xx, height=d, width=0.25,color=Colors[i],alpha=0.9,label=Labels[i])\n",
    "\n",
    "    axs[0].set_ylabel('Evapotranspiration [mm]',fontsize=12, fontweight='normal')\n",
    "    #axs[k].set_xlabel('Year',fontsize=12, fontweight='normal')\n",
    "    axs[k].set_xticks(x)\n",
    "    axs[k].set_xticklabels(Years_o)\n",
    "\n",
    "    axs[k].set_yticks(np.arange(50,451,100))\n",
    "    axs[k].set_ylim(50,450)\n",
    "\n",
    "plt.tight_layout()\n",
    "axs[2].legend(loc='upper right', fontsize=8, ncol=2, bbox_to_anchor=(0.95,-0.2, .1, .1))\n",
    "\n",
    "#plt.tight_layout()\n",
    "A = ['(a) dry year','(b) average year', '(c) wet year' ]\n",
    "loc = [[-0.32,420] for i in [-0.25,137,0.77,1.33]]\n",
    "for i in range(3):\n",
    "    axs[i].text(loc[i][0],loc[i][1],'%s'%A[i],fontsize=12)\n",
    "#plt.tight_layout()\n",
    "plt.savefig(outfile+'/ET_wet_dry_avg_A.pdf', bbox_inches='tight', dpi=500)"
   ]
  },
  {
   "cell_type": "code",
   "execution_count": null,
   "metadata": {},
   "outputs": [],
   "source": []
  },
  {
   "cell_type": "code",
   "execution_count": null,
   "metadata": {},
   "outputs": [],
   "source": []
  },
  {
   "cell_type": "code",
   "execution_count": 354,
   "metadata": {},
   "outputs": [
    {
     "data": {
      "image/png": "[encoded data removed]",
      "text/plain": [
       "<Figure size 576x216 with 3 Axes>"
      ]
     },
     "metadata": {},
     "output_type": "display_data"
    }
   ],
   "source": [
    "fig, axs = plt.subplots(1,3, figsize=(8,3), facecolor='w', edgecolor='k',gridspec_kw={'width_ratios':[1,1,1]})\n",
    "fig.subplots_adjust(hspace =.02, wspace=1.02)\n",
    "plt.tight_layout()\n",
    "axs = axs.ravel()\n",
    "\n",
    "x = np.arange(0,3,1)\n",
    "Colors = ['y', 'g', 'grey','grey']\n",
    "\n",
    "# Discharge\n",
    "for k in range(3):\n",
    "    for i1, i in enumerate([2,0]):\n",
    "        s = SimLabels[i]\n",
    "        d = []\n",
    "        #thaw = []\n",
    "        for k1 in Years[k]:\n",
    "            sm = np.mean(ATD_annual[s][k1])\n",
    "            d.append(sm)\n",
    "            #print (s, k1)\n",
    "        xx = x - 0.125 + i1*0.25\n",
    "        axs[k].bar(xx, height=d, width=0.25,color=Colors[i],alpha=0.9,label=Labels[i])\n",
    "\n",
    "    axs[0].set_ylabel('Thaw depth [m]',fontsize=12, fontweight='normal')\n",
    "    #axs[k].set_xlabel('Year',fontsize=12, fontweight='normal')\n",
    "    axs[k].set_xticks(x+0.2)\n",
    "    axs[k].set_xticklabels(Years_o)\n",
    "\n",
    "    axs[k].set_yticks(np.arange(0.4,1.2501,0.4))\n",
    "    axs[k].set_ylim(0.4,1.25)\n",
    "\n",
    "plt.tight_layout()\n",
    "axs[2].legend(loc='upper right', fontsize=8, ncol=2, bbox_to_anchor=(0.95,-0.2, .1, .1))\n",
    "\n",
    "A = ['(a) dry year','(b) average year', '(c) wet year']\n",
    "loc = [[-0.32,1.18] for i in [-0.25,137,0.77,1.33]]\n",
    "for i in range(3):\n",
    "    axs[i].text(loc[i][0],loc[i][1],'%s'%A[i],fontsize=12)\n",
    "\n",
    "plt.savefig(outfile+'/TD_wet_dry_avg_A.pdf', bbox_inches='tight', dpi=500)"
   ]
  },
  {
   "cell_type": "code",
   "execution_count": 385,
   "metadata": {},
   "outputs": [
    {
     "data": {
      "image/png": "[encoded data removed]",
      "text/plain": [
       "<Figure size 432x216 with 1 Axes>"
      ]
     },
     "metadata": {},
     "output_type": "display_data"
    }
   ],
   "source": [
    "# Thaw depth timeseries\n",
    "def get_moving_averageA(d, m=5):\n",
    "    d_avg = []\n",
    "    len1 = len(d)\n",
    "    for i in range(len1):\n",
    "        if i < m:\n",
    "            s1 = np.mean(d[:i+1])\n",
    "        else:\n",
    "            s1= np.mean(d[i-m:i])\n",
    "\n",
    "        d_avg.append(s1)\n",
    "    return d_avg\n",
    "\n",
    "def get_moving_average(d, m=5):\n",
    "    d_avg = []\n",
    "    len1 = len(d)\n",
    "    mid = int(m/2)\n",
    "    for i in range(len1):\n",
    "        if i < mid:\n",
    "            s1 = np.mean(d[:mid])\n",
    "        elif (i < len1-mid):\n",
    "            s1= np.mean(d[i-mid:i+mid])\n",
    "        else:\n",
    "            #print (i, mid, d[-mid:])\n",
    "            s1= np.mean(d[-mid:])\n",
    "        d_avg.append(s1)\n",
    "    return d_avg\n",
    "\n",
    "fig, axs = plt.subplots(1,1, figsize=(6,3), facecolor='w', edgecolor='k',gridspec_kw={'width_ratios':[1]})\n",
    "fig.subplots_adjust(hspace =.02, wspace=1.02)\n",
    "plt.tight_layout()\n",
    "#axs = axs.ravel()\n",
    "\n",
    "x = np.arange(0,3,1)\n",
    "Colors = ['r', 'k', 'k','grey']\n",
    "\n",
    "# Discharge\n",
    "\n",
    "for i1, i in enumerate([2,0]):\n",
    "    s = SimLabels[i]\n",
    "    d = 0*ATD_annual[s][0] - get_moving_average(ATD_annual[s], 5)\n",
    "    axs.plot(T_annual[s]-0.5, d, color=Colors[i],alpha=0.9,label=Labels[i])\n",
    "\n",
    "axs.set_ylabel('Thaw depth [m]',fontsize=12, fontweight='normal')\n",
    "axs.set_xlabel('Year',fontsize=12, fontweight='normal')\n",
    "axs.set_xticks(np.arange(2000,2100,20))\n",
    "axs.set_xlim(2006,2098)\n",
    "\n",
    "\n",
    "axs.set_yticks(np.arange(-2.1, -0.4,0.4))\n",
    "axs.set_yticklabels(np.round(np.arange(2.1,0.4,-0.4),2))\n",
    "axs.set_ylim(-2.1, -0.4)\n",
    "\n",
    "\n",
    "\n",
    "plt.tight_layout()\n",
    "plt.legend()\n",
    "plt.savefig(outfile+'/TD_timeseries.pdf', bbox_inches='tight', dpi=500)"
   ]
  },
  {
   "cell_type": "code",
   "execution_count": 377,
   "metadata": {},
   "outputs": [
    {
     "name": "stdout",
     "output_type": "stream",
     "text": [
      "92 2 [1.77524575 2.27316849]\n",
      "93 2 [1.77524575 2.27316849]\n",
      "92 2 [1.14378119 1.2405658 ]\n",
      "93 2 [1.14378119 1.2405658 ]\n"
     ]
    },
    {
     "data": {
      "image/png": "[encoded data removed]",
      "text/plain": [
       "<Figure size 432x216 with 1 Axes>"
      ]
     },
     "metadata": {},
     "output_type": "display_data"
    }
   ],
   "source": [
    "# Thaw depth timeseries\n",
    "fig, axs = plt.subplots(1,1, figsize=(6,3), facecolor='w', edgecolor='k',gridspec_kw={'width_ratios':[1]})\n",
    "fig.subplots_adjust(hspace =.02, wspace=1.02)\n",
    "plt.tight_layout()\n",
    "#axs = axs.ravel()\n",
    "\n",
    "x = np.arange(0,3,1)\n",
    "Colors = ['c', 'b', 'b','grey']\n",
    "\n",
    "for i1, i in enumerate([2,0]):\n",
    "    s = SimLabels[i]\n",
    "    d = 0*ATD_annual[s][0] - get_moving_average(ATD_annual[s], 5)\n",
    "    axs.plot(T_annual[s]-0.5, d, color=Colors[i],alpha=0.9,label=Labels[i])\n",
    "    axs.fill_between(T_annual[s]-0.5, y1=d, y2=d[0], color=Colors[i],alpha=0.8)\n",
    "axs.set_ylabel('Thaw depth [m]',fontsize=12, fontweight='normal')\n",
    "axs.set_xlabel('Year',fontsize=12, fontweight='normal')\n",
    "axs.set_xticks(np.arange(2000,2100,20))\n",
    "axs.set_xlim(2007,2098.)\n",
    "\n",
    "axs.set_yticks(np.arange(-2.1, -0.4,0.4))\n",
    "axs.set_yticklabels(np.round(np.arange(2.1,0.4,-0.4),2))\n",
    "axs.set_ylim(-2.1, -0.4)\n",
    "\n",
    "\n",
    "plt.tight_layout()\n",
    "plt.legend(loc='lower left')\n",
    "plt.savefig(outfile+'/TD_timeseries_A.pdf', bbox_inches='tight', dpi=500)"
   ]
  },
  {
   "cell_type": "code",
   "execution_count": null,
   "metadata": {},
   "outputs": [],
   "source": []
  },
  {
   "cell_type": "code",
   "execution_count": 396,
   "metadata": {},
   "outputs": [
    {
     "name": "stdout",
     "output_type": "stream",
     "text": [
      "S1 [5.080048599999699, 5.080048599999699]\n",
      "S3 [2.954707377393423, 2.954707377393423]\n"
     ]
    },
    {
     "data": {
      "text/plain": [
       "<matplotlib.legend.Legend at 0x7ff554d03090>"
      ]
     },
     "execution_count": 396,
     "metadata": {},
     "output_type": "execute_result"
    },
    {
     "data": {
      "image/png": "[encoded data removed]",
      "text/plain": [
       "<Figure size 432x216 with 1 Axes>"
      ]
     },
     "metadata": {},
     "output_type": "display_data"
    }
   ],
   "source": [
    "# Thaw depth timeseries\n",
    "fig, axs = plt.subplots(1,1, figsize=(6,3), facecolor='w', edgecolor='k',gridspec_kw={'width_ratios':[1]})\n",
    "fig.subplots_adjust(hspace =.02, wspace=1.02)\n",
    "plt.tight_layout()\n",
    "#axs = axs.ravel()\n",
    "\n",
    "x = np.arange(0,3,1)\n",
    "Colors = ['c', 'b', 'b','grey']\n",
    "\n",
    "for i1, i in enumerate([2,0]):\n",
    "    s = SimLabels[i]\n",
    "    d = get_moving_average(CDR_annual[s], 5)\n",
    "    print (s, d[:2])\n",
    "    #d = [l/1.53 for l in d]\n",
    "    d = [l/5.08 for l in d]\n",
    "    axs.plot(T_annual[s]-0.5, d, color=Colors[i],alpha=0.9,label=Labels[i])\n",
    "    axs.fill_between(T_annual[s]-0.5, y1=d, y2=0*d[0], color=Colors[i],alpha=0.8)\n",
    "axs.set_ylabel('Normalized CD factor [-]',fontsize=12, fontweight='normal')\n",
    "axs.set_xlabel('Year',fontsize=12, fontweight='normal')\n",
    "axs.set_xticks(np.arange(2000,2100,20))\n",
    "axs.set_xlim(2006,2098)\n",
    "\n",
    "axs.set_yticks(np.arange(0, 1.501,0.5))\n",
    "#axs.set_yticklabels(np.round(np.arange(0,1.4,-0.4),2))\n",
    "axs.set_ylim(0, 1.5)\n",
    "\n",
    "\n",
    "plt.tight_layout()\n",
    "plt.legend(loc='upper left')\n",
    "#plt.savefig(outfile+'/CDR_timeseries_A.pdf', bbox_inches='tight', dpi=500)"
   ]
  },
  {
   "cell_type": "code",
   "execution_count": null,
   "metadata": {},
   "outputs": [],
   "source": []
  },
  {
   "cell_type": "code",
   "execution_count": 399,
   "metadata": {},
   "outputs": [
    {
     "data": {
      "image/png": "[encoded data removed]",
      "text/plain": [
       "<Figure size 576x216 with 3 Axes>"
      ]
     },
     "metadata": {},
     "output_type": "display_data"
    }
   ],
   "source": [
    "fig, axs = plt.subplots(1,3, figsize=(8,3), facecolor='w', edgecolor='k',gridspec_kw={'width_ratios':[1,1,1]})\n",
    "fig.subplots_adjust(hspace =.02, wspace=1.02)\n",
    "plt.tight_layout()\n",
    "axs = axs.ravel()\n",
    "\n",
    "x = np.arange(0,3,1)\n",
    "Colors = ['y', 'g', 'grey','grey']\n",
    "\n",
    "# Discharge\n",
    "for k in range(3):\n",
    "    for i1, i in enumerate([2,0]):\n",
    "        s = SimLabels[i]\n",
    "        d = []\n",
    "        for k1 in Years[k]:\n",
    "            sm = np.mean(CDR_annual[s][k1])\n",
    "            d.append(sm)\n",
    "        #print (d)\n",
    "        d = [d1/1.5174 for d1 in d] # normalized by average simplistic year\n",
    "        #d = [d1/1.0840 for d1 in d] # normalized by average realistic year\n",
    "        \n",
    "        xx = x - 0.125 + i1*0.25\n",
    "        axs[k].bar(xx, height=d, width=0.25,color=Colors[i],alpha=0.9,label=Labels[i])\n",
    "\n",
    "    #axs[0].set_ylabel('Carbon decomposition factor [-]',fontsize=12, fontweight='normal')\n",
    "    axs[0].set_ylabel('Normalized CD factor [-]',fontsize=12, fontweight='normal')\n",
    "    #axs[k].set_xlabel('Year',fontsize=12, fontweight='normal')\n",
    "    axs[k].set_xticks(x)\n",
    "    axs[k].set_xticklabels(Years_o)\n",
    "\n",
    "    #axs[k].set_yticks(np.arange(0.0,15.001,1.0))\n",
    "    #axs[k].set_ylim(0.0,15.0)\n",
    "\"\"\"\n",
    "axs[0].set_yticks(np.arange(0.0,4.001,2.0))\n",
    "axs[0].set_ylim(0.0,4.0)\n",
    "axs[1].set_yticks(np.arange(0.0,10.001,5.0))\n",
    "axs[1].set_ylim(0.0,10.0)\n",
    "axs[2].set_yticks(np.arange(0.0,6.001,3.0))\n",
    "axs[2].set_ylim(0.0,6.0)\n",
    "\"\"\"\n",
    "for i in range(3):\n",
    "    axs[i].set_yticks(np.arange(0.0,7.01,2.0))\n",
    "    axs[i].set_ylim(0.0,7.0)\n",
    "\n",
    "\n",
    "plt.tight_layout()\n",
    "axs[2].legend(loc='upper right', fontsize=8, ncol=2, bbox_to_anchor=(0.95,-0.2, .1, .1))\n",
    "#plt.tight_layout()\n",
    "A = ['(a) dry year','(b) average year', '(c) wet year']\n",
    "#loc = [[-0.32,i] for i in [3.7,5.2,5.52,1.33]]\n",
    "\n",
    "loc = [[-0.32,6.55] for i in [3.9,3.9,3.9,1.33]]\n",
    "for i in range(3):\n",
    "    axs[i].text(loc[i][0],loc[i][1],'%s'%A[i],fontsize=12)\n",
    "\n",
    "plt.savefig(outfile+'/CD_wet_dry_avg_normalized.pdf', bbox_inches='tight', dpi=500)\n",
    "\n",
    "#Q10 is a unitless quantity, as it is the factor by which a rate changes, \n",
    "#and is a useful way to express the temperature dependence of a process."
   ]
  },
  {
   "cell_type": "markdown",
   "metadata": {},
   "source": [
    "# Dry Year"
   ]
  },
  {
   "cell_type": "code",
   "execution_count": null,
   "metadata": {},
   "outputs": [],
   "source": []
  },
  {
   "cell_type": "code",
   "execution_count": 125,
   "metadata": {},
   "outputs": [
    {
     "data": {
      "image/png": "[encoded data removed]",
      "text/plain": [
       "<Figure size 576x216 with 3 Axes>"
      ]
     },
     "metadata": {},
     "output_type": "display_data"
    }
   ],
   "source": [
    "fig, axs = plt.subplots(1,3, figsize=(8,3), facecolor='w', edgecolor='k',gridspec_kw={'width_ratios':[1,1,1]})\n",
    "fig.subplots_adjust(hspace =.02, wspace=1.02)\n",
    "plt.tight_layout()\n",
    "axs = axs.ravel()\n",
    "\n",
    "x = np.arange(0,3,1)\n",
    "Colors = ['y', 'g', 'grey','grey']\n",
    "\n",
    "# Discharge\n",
    "for k in range(3):\n",
    "    for i1, i in enumerate([2,0]):\n",
    "        s = SimLabels[i]\n",
    "        d = []\n",
    "        for k1 in Years[k]:\n",
    "            #sm = np.mean(SFrac_annual[s][k1])\n",
    "            #sm = np.mean(VWC_annual[s][k1])\n",
    "            sm = np.mean(GC_annual[s][k1])\n",
    "            \n",
    "            d.append(sm)\n",
    "        xx = x - 0.125 + i1*0.25\n",
    "        axs[k].bar(xx, height=d, width=0.25,color=Colors[i],alpha=0.9,label=Labels[i])\n",
    "\n",
    "    #axs[0].set_ylabel('Saturated fraction [-]',fontsize=12, fontweight='normal')\n",
    "    axs[0].set_ylabel('Gas content [-]',fontsize=12, fontweight='normal')\n",
    "    #axs[k].set_xlabel('Year',fontsize=12, fontweight='normal')\n",
    "    axs[k].set_xticks(x)\n",
    "    axs[k].set_xticklabels(Years_o)\n",
    "\n",
    "    #axs[k].set_yticks(np.arange(0.3,0.701,0.1))\n",
    "    #axs[k].set_ylim(0.3,0.7)\n",
    "    axs[k].set_yticks(np.arange(0.0,0.2501,0.1))\n",
    "    axs[k].set_ylim(0.0,0.25)\n",
    "\n",
    "plt.tight_layout()\n",
    "axs[2].legend(loc='upper right', fontsize=8, ncol=2, bbox_to_anchor=(0.95,-0.2, .1, .1))\n",
    "\n",
    "A = ['(a) wet year', '(b) dry year','(c) average year']\n",
    "#loc = [[-0.32,0.67] for i in [-0.25,137,0.77,1.33]]\n",
    "loc = [[-0.32,0.23] for i in [-0.25,137,0.77,1.33]]\n",
    "for i in range(3):\n",
    "    axs[i].text(loc[i][0],loc[i][1],'%s'%A[i],fontsize=12)\n",
    "\n",
    "#plt.savefig(outfile+'/Satfrac_wet_dry_avg.pdf', bbox_inches='tight', dpi=500)\n",
    "plt.savefig(outfile+'/gascontent_wet_dry_avg.pdf', bbox_inches='tight', dpi=500)"
   ]
  },
  {
   "cell_type": "code",
   "execution_count": 117,
   "metadata": {},
   "outputs": [
    {
     "name": "stdout",
     "output_type": "stream",
     "text": [
      "2.175 2.175\n"
     ]
    }
   ],
   "source": [
    "x11 = (0.87*0.5 * 4)\n",
    "x22 = (0.87*0.5 * 2)\n",
    "d11 = 0.8\n",
    "d22 = 0.4\n",
    "print (x11/d11, x22/d22)"
   ]
  },
  {
   "cell_type": "code",
   "execution_count": null,
   "metadata": {},
   "outputs": [],
   "source": [
    "\n",
    "# the key point what processes are important for water budget components, \n",
    "# sensitivity study of subsidence, models with more or less uniform subsidence across the watershed has no effect\n",
    "# on hydrology, however, hetereogeneous subsidence has effect on runoff/ET ---> investigate?\n",
    "# storage decreases in simulations with subsidence\n",
    "# lets focus on the processes details instead of conclusions about the future.\n"
   ]
  },
  {
   "cell_type": "code",
   "execution_count": null,
   "metadata": {},
   "outputs": [],
   "source": []
  },
  {
   "cell_type": "code",
   "execution_count": null,
   "metadata": {},
   "outputs": [],
   "source": []
  },
  {
   "cell_type": "code",
   "execution_count": null,
   "metadata": {},
   "outputs": [],
   "source": [
    "Including run-on in our simulations improve our understanding of total carbon budget. the evaporation will be under estimated\n",
    "if we ignore run-on\n",
    "long-term trend\n",
    "inter-annual dynamics\n",
    "seasonal vairations/dynamics\n",
    "fire consumes carbon, which decrease DOC in stream"
   ]
  },
  {
   "cell_type": "code",
   "execution_count": null,
   "metadata": {},
   "outputs": [],
   "source": []
  },
  {
   "cell_type": "code",
   "execution_count": null,
   "metadata": {},
   "outputs": [],
   "source": []
  },
  {
   "cell_type": "code",
   "execution_count": null,
   "metadata": {},
   "outputs": [],
   "source": []
  },
  {
   "cell_type": "code",
   "execution_count": null,
   "metadata": {},
   "outputs": [],
   "source": [
    "# 1) negligible differences in the discharge\n",
    "# 2) significant differences in the evaporation, this implies base-case should stay relatively wetter,\n",
    "#.   this will impact carbon decomposition rate\n",
    "# 3) high NO3 and low N03, high DOC "
   ]
  },
  {
   "cell_type": "code",
   "execution_count": null,
   "metadata": {},
   "outputs": [],
   "source": []
  },
  {
   "cell_type": "code",
   "execution_count": null,
   "metadata": {},
   "outputs": [],
   "source": [
    "2 meadian life time , 2.6hr give mean of 1hr median\n",
    "alpha = 2.5 1/sec"
   ]
  }
 ],
 "metadata": {
  "kernelspec": {
   "display_name": "Python 3",
   "language": "python",
   "name": "python3"
  },
  "language_info": {
   "codemirror_mode": {
    "name": "ipython",
    "version": 3
   },
   "file_extension": ".py",
   "mimetype": "text/x-python",
   "name": "python",
   "nbconvert_exporter": "python",
   "pygments_lexer": "ipython3",
   "version": "3.7.6"
  }
 },
 "nbformat": 4,
 "nbformat_minor": 4
}
