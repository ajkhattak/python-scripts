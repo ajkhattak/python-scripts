{
 "cells": [
  {
   "cell_type": "code",
   "execution_count": 1,
   "metadata": {},
   "outputs": [],
   "source": [
    "import sys, os\n",
    "import numpy as np\n",
    "import pandas as pd\n",
    "from matplotlib import pyplot as plt\n",
    "import scipy.signal\n",
    "import importlib\n",
    "import h5py\n",
    "sys.path.append('/Users/ajc/Core/PreProcessing/PyScript')\n",
    "import readdata"
   ]
  },
  {
   "cell_type": "code",
   "execution_count": null,
   "metadata": {},
   "outputs": [],
   "source": []
  },
  {
   "cell_type": "code",
   "execution_count": 2,
   "metadata": {},
   "outputs": [],
   "source": [
    "path = \"/Users/ajc/FUSE/simulations/production/barrow_watershed\"\n",
    "\n",
    "var_set = ['surface_flux-day.dat']"
   ]
  },
  {
   "cell_type": "code",
   "execution_count": 3,
   "metadata": {},
   "outputs": [],
   "source": [
    "S1 = os.path.join(path, 'CESM_8/CESM_5050_R10_B')\n",
    "S2 = os.path.join(path, 'CESM_8/CESM_5050_R10_BY')\n",
    "S3 = os.path.join(path, 'CESM_8/CESM_5050_R10_BZ')\n",
    "S4 = os.path.join(path, 'CESM_8/CESM_5050_R10_BZZ')\n",
    "\n",
    "Simulations = [[S1],[S2],[S3],[S4]]"
   ]
  },
  {
   "cell_type": "code",
   "execution_count": 4,
   "metadata": {},
   "outputs": [],
   "source": [
    "S1 = os.path.join(path, 'CESM_9/CESM_5050_R10_B1')\n",
    "S2 = os.path.join(path, 'CESM_9/CESM_5050_R10_B2')\n",
    "S3 = os.path.join(path, 'CESM_9/CESM_5050_R10_B3')\n",
    "S4 = os.path.join(path, 'CESM_9/CESM_5050_R10_B4')\n",
    "#print (S1)\n",
    "Simulations = [[S1],[S2],[S3],[S4]]"
   ]
  },
  {
   "cell_type": "code",
   "execution_count": 5,
   "metadata": {},
   "outputs": [],
   "source": [
    "S1 = os.path.join(path, 'CESM_10/CESM_5050_R10_B')\n",
    "S2 = os.path.join(path, 'CESM_10/CESM_5050_R10_BX')\n",
    "S3 = os.path.join(path, 'CESM_10/CESM_5050_R10_BY')\n",
    "#print (S1)\n",
    "Simulations = [[S1],[S2],[S3]]"
   ]
  },
  {
   "cell_type": "code",
   "execution_count": 6,
   "metadata": {},
   "outputs": [],
   "source": [
    "def read_file(file):\n",
    "    d = np.loadtxt(file,usecols=1,skiprows=6)\n",
    "    t1 = np.loadtxt(file,usecols=0,skiprows=6)\n",
    "    t = np.array([x/86400./365. for x in t1])\n",
    "    #print (len(d),len(t))\n",
    "    l = np.minimum(len(d),len(t))\n",
    "    return d[:l],t[:l]\n",
    "\n",
    "def read_set(set,var):\n",
    "    dat = []\n",
    "    tim = []\n",
    "    for s in set:\n",
    "        file = os.path.join(path,s, var)\n",
    "        #print (file)\n",
    "        d = np.loadtxt(file,usecols=1,skiprows=6)\n",
    "        t1 = np.loadtxt(file,usecols=0,skiprows=6)\n",
    "        t = np.array([x/86400./365. for x in t1])\n",
    "        \n",
    "        L = len(d)%365\n",
    "        if L >0:\n",
    "            d = d[:-L]\n",
    "            t = t[:len(d)]\n",
    "            \n",
    "        dat.append(d)\n",
    "        tim.append(t)\n",
    "    dat = np.concatenate(dat)\n",
    "    tim = np.concatenate(tim)\n",
    "    #print (len(dat)%365, len(tim)%365,L)\n",
    "    \n",
    "    return dat, tim"
   ]
  },
  {
   "cell_type": "code",
   "execution_count": null,
   "metadata": {},
   "outputs": [],
   "source": [
    "\n",
    "path_sf=os.path.join(S1,\"visdump_surface_star_data.h5\")\n",
    "print (S1,path_sf)\n",
    "file_surf= h5py.File(path_sf,'r')\n",
    "#basin_area = np.sum(list(file_surf['surface_star-cell_volume.cell.0']['00000']))"
   ]
  },
  {
   "cell_type": "code",
   "execution_count": null,
   "metadata": {},
   "outputs": [],
   "source": [
    "forcing = h5py.File(\"/Users/ajc/FUSE/simulations/production/barrow_watershed/data/CESM/CESM-RCP8_5-2006-2100_snowadjusted_supersmoothDM_2006.h5\",'r')"
   ]
  },
  {
   "cell_type": "code",
   "execution_count": null,
   "metadata": {},
   "outputs": [],
   "source": [
    "d1_rain = forcing['precipitation rain [m s^-1]']\n",
    "d2_snow = forcing['precipitation snow [m SWE s^-1]']\n",
    "rain_mm = np.reshape(d1_rain,(-1,365)).mean(axis=1)*86400*365*1000\n",
    "snow_mm = np.reshape(d2_snow,(-1,365)).mean(axis=1)*86400*365*1000\n",
    "precip_annual = snow_mm + rain_mm"
   ]
  },
  {
   "cell_type": "code",
   "execution_count": null,
   "metadata": {},
   "outputs": [],
   "source": []
  },
  {
   "cell_type": "code",
   "execution_count": null,
   "metadata": {},
   "outputs": [],
   "source": [
    "key_var = ['surface_star-evaporative_flux','surface_star-depth']\n",
    "def getSurfaceData(i,var):\n",
    "    Data = []\n",
    "    print (var)\n",
    "    for s in Simulations[i]:\n",
    "        infile = os.path.join(s,'visdump_surface_star_data.h5')\n",
    "        print (infile)\n",
    "        dx=h5py.File(infile,'r')\n",
    "\n",
    "        d = np.array(readdata.GetSurfVarFromVis_All(infile,var)[var])\n",
    "        d = d.mean(axis=1)\n",
    "\n",
    "        L = len(d)%365\n",
    "        if L >0:\n",
    "            d = d[:-L]\n",
    "            \n",
    "        Data.append(d)\n",
    "        print (d.shape, len(d), L)\n",
    "    d = dict()\n",
    "    d[var] = np.concatenate(Data)\n",
    "    \n",
    "    \n",
    "    return d"
   ]
  },
  {
   "cell_type": "code",
   "execution_count": null,
   "metadata": {},
   "outputs": [],
   "source": [
    "DataEvap = dict()\n",
    "Slabels = ['S1', 'S2','S3','S4','S6']\n",
    "for i in range (4):\n",
    "    d = getSurfaceData(i, key_var[0])\n",
    "    DataEvap[Slabels[i] + '_' + key_var[0]] = d[key_var[0]]\n"
   ]
  },
  {
   "cell_type": "code",
   "execution_count": null,
   "metadata": {},
   "outputs": [],
   "source": [
    "DataEvap.keys()\n",
    "#DataEvap['S1_surface_star-evaporative_flux']"
   ]
  },
  {
   "cell_type": "code",
   "execution_count": 7,
   "metadata": {},
   "outputs": [],
   "source": [
    "colors = ['r','k','g','m','c','y']\n",
    "marks = ['.','*', '+', 'o']\n",
    "marks = ['-','-','-']\n",
    "Labels = ['DM', r'S$_{1}$', r'S$_{2}$', r'S$_{3}$',r'S$_{4}$',r'S$_{6}$']"
   ]
  },
  {
   "cell_type": "code",
   "execution_count": 14,
   "metadata": {},
   "outputs": [],
   "source": [
    "def plot_discharge_only():\n",
    "    %matplotlib qt\n",
    "    fig, axs = plt.subplots(1,2, figsize=(8,6), facecolor='w', edgecolor='k',gridspec_kw={'width_ratios':[1,1]})\n",
    "    fig.subplots_adjust(hspace =.02, wspace=1.02)\n",
    "\n",
    "    plt.tight_layout()\n",
    "    axs = axs.ravel()\n",
    "    Colors = ['r','k','g','c','r']\n",
    "    time = 2006 + np.linspace(0,94,94,dtype='int')\n",
    "    to_year_mm = 86400*365 * 1000\n",
    "    basin_area = 112635.48\n",
    "    to_mm = 1000.\n",
    "    Labels = ['n = 1.0', 'n = 0.1','n = 0.05'] # 5 years\n",
    "    \n",
    "    for i,sim in enumerate(Simulations):\n",
    "        Q_annual_avg = []\n",
    "        var = var_set[0]\n",
    "        d1, t1 = read_set(sim,var)\n",
    "        d1 = [x/(55555.*basin_area)*86400*1000 for x in d1]\n",
    "        \n",
    "        axs[0].plot(d1,color=Colors[i],label=Labels[i])\n",
    "\n",
    "        axs[0].set_xlabel('DoY',fontsize=12, fontweight='normal')\n",
    "        axs[0].set_ylabel('Discharge [mm/day]',fontsize=12, fontweight='normal')\n",
    "        d2 = np.reshape(d1,(-1,365)).mean(1)*365\n",
    "        Q_annual_avg.append(d2)\n",
    "        #print (d2,Q_annual_avg)\n",
    "        #axs[1].bar(np.arange(len(Q_annual_avg)), Q_annual_avg,width=0.2)\n",
    "        axs[1].plot(d2,color=Colors[i],label=Labels[i])\n",
    "        axs[1].set_ylim((0,15))\n",
    "    #axs[1].set_xticks(np.arange(4))\n",
    "    #axs[1].set_xticklabels(Labels)\n",
    "    #axs[1].set_ylabel('Annual average discharge [mm]',fontsize=12, fontweight='normal')\n",
    "    axs[0].legend()\n",
    "\n",
    "    fig.tight_layout()\n",
    "    #plt.savefig(outfile+'Q-ET-Mannings.pdf', bbox_inches='tight', dpi=800)"
   ]
  },
  {
   "cell_type": "code",
   "execution_count": 16,
   "metadata": {},
   "outputs": [],
   "source": [
    "plot_discharge_only()"
   ]
  },
  {
   "cell_type": "code",
   "execution_count": null,
   "metadata": {},
   "outputs": [],
   "source": []
  },
  {
   "cell_type": "code",
   "execution_count": null,
   "metadata": {},
   "outputs": [],
   "source": [
    "outfile='/Users/ajc/Core/PostProcessing/2020/barrow_watershed/projections_02/Debug/'"
   ]
  },
  {
   "cell_type": "code",
   "execution_count": null,
   "metadata": {},
   "outputs": [],
   "source": [
    "%matplotlib qt\n",
    "fig, axs = plt.subplots(2,2, figsize=(8,6), facecolor='w', edgecolor='k',gridspec_kw={'width_ratios':[1,1]})\n",
    "fig.subplots_adjust(hspace =.02, wspace=1.02)\n",
    "    \n",
    "plt.tight_layout()\n",
    "axs = axs.ravel()\n",
    "Colors = ['r','k','g','c','r']\n",
    "time = 2006 + np.linspace(0,94,94,dtype='int')\n",
    "to_year_mm = 86400*365 * 1000\n",
    "basin_area = 112635.48\n",
    "to_mm = 1000.\n",
    "Labels = ['n = 10', 'n = 1', 'n = 0.1', 'n = 0.05'] # 1 year\n",
    "Labels = ['n = 0.5', 'n = 1.', 'n = 2.5', 'n = 5'] # 5 years\n",
    "Q_annual_avg = []\n",
    "E_annual_avg = []\n",
    "kk=4\n",
    "s, e = 0*365, (kk+1)*365\n",
    "for i,sim in enumerate(Simulations):\n",
    "    var = var_set[0]\n",
    "    d1, t1 = read_set(sim,var)\n",
    "    d1 = [x/(55555.*basin_area)*86400*1000 for x in d1[s:e]]\n",
    "    #print (len(d1))\n",
    "    axs[0].plot(d1,color=Colors[i],label=Labels[i])#,marker='-')\n",
    "    \n",
    "    axs[0].set_xlabel('DoY',fontsize=12, fontweight='normal')\n",
    "    axs[0].set_ylabel('Discharge [mm/day]',fontsize=12, fontweight='normal')\n",
    "    #axs[0].set_xlim(140, 160)\n",
    "    #axs[0].text(141.1, 3.5, 'n = Manning\\'s coefficent')\n",
    "    Keys = list(DataEvap.keys())\n",
    "    #-d3 = DataEvap[Keys[i]][s:e]*86400*1000\n",
    "    #axs.plot(d1_rain[:365]*86400*1000,color=Colors[i+2],label='Rain')\n",
    "    #axs.plot(d2_snow[:365]*86400*1000,color=Colors[i+3],label='Snow')\n",
    "    #-axs[1].plot(d3,color=Colors[i],label='Evaporation',linestyle='dashed')\n",
    "    #axs[1].set_xlim(120, 220)\n",
    "    axs[1].set_ylim(0, 8)\n",
    "    axs[1].set_ylabel('Evaporation [mm/day]',fontsize=12, fontweight='normal')\n",
    "    #d4 = S1_Depth['surface_star-depth']*100\n",
    "    #axs.plot(d4,color=Colors[i+1],label='Snow depth')\n",
    "    #axs.set_ylabel('Snow depth [cm]',fontsize=12, fontweight='normal')\n",
    "    #-print (np.mean(d1)*365, np.mean(d3)*365)\n",
    "    #-Q_annual_avg.append(np.mean(d1)*365)\n",
    "    #-E_annual_avg.append(np.mean(d3)*365)\n",
    "axs[2].bar(np.arange(4), Q_annual_avg,width=0.2)\n",
    "axs[2].set_xticks(np.arange(4))\n",
    "axs[2].set_xticklabels(Labels)\n",
    "axs[2].set_ylabel('Annual average discharge [mm]',fontsize=12, fontweight='normal')\n",
    "axs[0].legend()\n",
    "\n",
    "axs[3].bar(np.arange(4), E_annual_avg,width=0.2)\n",
    "axs[3].set_xticks(np.arange(4))\n",
    "axs[3].set_xticklabels(Labels)\n",
    "axs[3].set_ylabel('Annual average evaporation [mm]',fontsize=12, fontweight='normal')\n",
    "\n",
    "fig.tight_layout()\n",
    "#plt.savefig(outfile+'Q-ET-Mannings.pdf', bbox_inches='tight', dpi=800)\n",
    "#plt.savefig(outfile+'snowdepth.pdf', bbox_inches='tight', dpi=800)"
   ]
  },
  {
   "cell_type": "code",
   "execution_count": null,
   "metadata": {},
   "outputs": [],
   "source": [
    "print (precip_annual[0])"
   ]
  },
  {
   "cell_type": "code",
   "execution_count": null,
   "metadata": {},
   "outputs": [],
   "source": []
  },
  {
   "cell_type": "code",
   "execution_count": null,
   "metadata": {},
   "outputs": [],
   "source": []
  },
  {
   "cell_type": "code",
   "execution_count": null,
   "metadata": {},
   "outputs": [],
   "source": []
  },
  {
   "cell_type": "code",
   "execution_count": null,
   "metadata": {},
   "outputs": [],
   "source": []
  }
 ],
 "metadata": {
  "kernelspec": {
   "display_name": "Python 3",
   "language": "python",
   "name": "python3"
  },
  "language_info": {
   "codemirror_mode": {
    "name": "ipython",
    "version": 3
   },
   "file_extension": ".py",
   "mimetype": "text/x-python",
   "name": "python",
   "nbconvert_exporter": "python",
   "pygments_lexer": "ipython3",
   "version": "3.7.6"
  }
 },
 "nbformat": 4,
 "nbformat_minor": 4
}
