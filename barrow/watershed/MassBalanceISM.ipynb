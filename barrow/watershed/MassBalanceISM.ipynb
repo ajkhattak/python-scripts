{
 "cells": [
  {
   "cell_type": "code",
   "execution_count": 1,
   "metadata": {},
   "outputs": [],
   "source": [
    "import sys, os\n",
    "import numpy as np\n",
    "import pandas as pd\n",
    "from matplotlib import pyplot as plt\n",
    "import scipy.signal\n",
    "import importlib\n",
    "import h5py\n",
    "sys.path.append('/Users/ajc/Core/PreProcessing/PyScript')\n",
    "import readdata"
   ]
  },
  {
   "cell_type": "code",
   "execution_count": 2,
   "metadata": {},
   "outputs": [],
   "source": [
    "outfile='/Users/ajc/Core/PostProcessing/2020/barrow_watershed/projections_02/Nov10/'"
   ]
  },
  {
   "cell_type": "code",
   "execution_count": 3,
   "metadata": {},
   "outputs": [],
   "source": [
    "path_cades = \"/Users/ajc/FUSE/simulations/production/barrow_watershed\"\n",
    "path = \"/Users/ajc/Core/simulations/projections/barrow_watershed\"\n",
    "\n",
    "var_set = ['surface_flux-day.dat']"
   ]
  },
  {
   "cell_type": "code",
   "execution_count": 45,
   "metadata": {},
   "outputs": [
    {
     "name": "stdout",
     "output_type": "stream",
     "text": [
      "['/Users/ajc/Core/simulations/projections/barrow_watershed/CESM_16/CESM_5050_R10_BA']\n"
     ]
    }
   ],
   "source": [
    "S1 = [os.path.join(path, 'CESM_16/CESM_5050_R1%s_BA'%i) for i in range(1)] \n",
    "S2 = [os.path.join(path, 'CESM_16/CESM_5050_R2%s_B'%i) for i in range(1)] \n",
    "S3 = [os.path.join(path, 'CESM_16/CESM_5050_R3%s_B'%i) for i in range(1)] \n",
    "S4 = [os.path.join(path, 'CESM_16/CESM_5050_R4%s_B'%i) for i in range(1)] \n",
    "S6 = [os.path.join(path, 'CESM_16/CESM_5050_R6%s_BA'%i) for i in range(1)]\n",
    "\n",
    "#Simulations = [S1, S2, S3, S4,S6]\n",
    "Simulations = [S1, S6]\n",
    "\n",
    "#S1 = [os.path.join(path, 'CESM_16/trash')] \n",
    "#Simulations = [S1]\n",
    "print (Simulations[0],)"
   ]
  },
  {
   "cell_type": "code",
   "execution_count": null,
   "metadata": {},
   "outputs": [],
   "source": []
  },
  {
   "cell_type": "code",
   "execution_count": 46,
   "metadata": {},
   "outputs": [],
   "source": [
    "def read_file(file):\n",
    "    d = np.loadtxt(file,usecols=1,skiprows=6)\n",
    "    t1 = np.loadtxt(file,usecols=0,skiprows=6)\n",
    "    t = np.array([x/86400./365. for x in t1])\n",
    "    #print (len(d),len(t))\n",
    "    l = np.minimum(len(d),len(t))\n",
    "    return d[:l],t[:l]\n",
    "\n",
    "def read_set(set,var):\n",
    "    dat = []\n",
    "    tim = []\n",
    "    for s in set:\n",
    "        file = os.path.join(path,s, var)\n",
    "        #print (file)\n",
    "        d = np.loadtxt(file,usecols=1,skiprows=6)\n",
    "        t1 = np.loadtxt(file,usecols=0,skiprows=6)\n",
    "        t = np.array([x/86400./365. for x in t1])\n",
    "        \n",
    "        L = len(d)%365\n",
    "        if L >0:\n",
    "            d = d[:-L]\n",
    "            t = t[:len(d)]\n",
    "            \n",
    "        dat.append(d)\n",
    "        tim.append(t)\n",
    "    dat = np.concatenate(dat)\n",
    "    tim = np.concatenate(tim)\n",
    "    print ('Lengths: ',len(dat)%365, len(tim)%365,L)\n",
    "    \n",
    "    return dat, tim"
   ]
  },
  {
   "cell_type": "code",
   "execution_count": 47,
   "metadata": {},
   "outputs": [
    {
     "name": "stdout",
     "output_type": "stream",
     "text": [
      "112635.47903126487\n"
     ]
    }
   ],
   "source": [
    "path_sf =\"/Users/ajc/Core/simulations/projections/barrow_watershed/CESM_15/CESM_5050_R60_B/visdump_surface_star_data.h5\"\n",
    "file_surf= h5py.File(path_sf,'r')\n",
    "#print (file_surf.keys())\n",
    "#print (file_surf['surface_star-cell_volume.cell.0'].keys())\n",
    "basin_area = np.sum(list(file_surf['surface_star-cell_volume.cell.0']['100095']))\n",
    "print (basin_area)"
   ]
  },
  {
   "cell_type": "code",
   "execution_count": 48,
   "metadata": {},
   "outputs": [],
   "source": [
    "#forcing = h5py.File(\"/Users/ajc/FUSE/simulations/production/barrow_watershed/data/CESM/CESM-RCP8_5-2006-2100_snowadjusted_supersmoothDM_2006.h5\",'r')\n",
    "forcing_watershed_FM = h5py.File(\"/Users/ajc/Core/PreProcessing/ats-intermediate-ngee/data/SNAP/CESM-RCP8.5-2006-2100_dm1985-2015-FM_2006.h5\",'r')"
   ]
  },
  {
   "cell_type": "code",
   "execution_count": 49,
   "metadata": {},
   "outputs": [],
   "source": [
    "d1 = forcing_watershed_FM['precipitation rain [m s^-1]']\n",
    "d2 = forcing_watershed_FM['precipitation snow [m SWE s^-1]']\n",
    "rain_mm = np.reshape(d1,(-1,365)).mean(axis=1)*86400*365*1000\n",
    "snow_mm = np.reshape(d2,(-1,365)).mean(axis=1)*86400*365*1000\n",
    "precip_annual = snow_mm + rain_mm\n",
    "r1 = np.array(d1)*86400*1000\n",
    "r2 = np.array(d2)*86400*1000\n",
    "precip_daily = r1 + r2"
   ]
  },
  {
   "cell_type": "code",
   "execution_count": 50,
   "metadata": {},
   "outputs": [],
   "source": [
    "key_var = ['surface_star-evaporative_flux','surface_star-depth','surface_star-carbon_decomposition_rate']"
   ]
  },
  {
   "cell_type": "code",
   "execution_count": 51,
   "metadata": {},
   "outputs": [],
   "source": [
    "\n",
    "def getSurfaceData(i,var,average=True):\n",
    "    Data = []\n",
    "    print ('getSurfaceData: ',var,average)\n",
    "    for s in Simulations[i]:\n",
    "        infile = os.path.join(s,'visdump_surface_star_data.h5')\n",
    "        #print (infile)\n",
    "        dx=h5py.File(infile,'r')\n",
    "        #print (dx.keys())\n",
    "        d = np.array(readdata.GetSurfVarFromVis_All(infile,var)[var])\n",
    "        if (average):\n",
    "            d = d.mean(axis=1)\n",
    "        else:\n",
    "            d = d.sum(axis=1)\n",
    "        L = len(d)%365\n",
    "        if L >0:\n",
    "            d = d[:-L]\n",
    "            \n",
    "        Data.append(d)\n",
    "        #print (d.shape, len(d), L)\n",
    "    d = dict()\n",
    "    d[var] = np.concatenate(Data)\n",
    "    \n",
    "    return d"
   ]
  },
  {
   "cell_type": "code",
   "execution_count": 52,
   "metadata": {},
   "outputs": [],
   "source": [
    "#S1_Evap0 = getSurfaceData(0,key_var[0])"
   ]
  },
  {
   "cell_type": "code",
   "execution_count": 53,
   "metadata": {},
   "outputs": [],
   "source": [
    "#S1_Evap = getSurfaceData(1)"
   ]
  },
  {
   "cell_type": "code",
   "execution_count": null,
   "metadata": {},
   "outputs": [],
   "source": []
  },
  {
   "cell_type": "code",
   "execution_count": 54,
   "metadata": {},
   "outputs": [],
   "source": [
    "def get_moving_average(d, m=5):\n",
    "    d_avg = []\n",
    "    len1 = len(d)\n",
    "    for i in range(len1):\n",
    "        if i < m:\n",
    "            s1 = np.mean(d[i:m])\n",
    "        else:\n",
    "            s1= np.mean(d[i-m:i])\n",
    "\n",
    "        d_avg.append(s1)\n",
    "    return d_avg"
   ]
  },
  {
   "cell_type": "code",
   "execution_count": 55,
   "metadata": {},
   "outputs": [],
   "source": [
    "colors = ['r','k','g','m','c','y']\n",
    "marks = ['.','*', '+', 'o']\n",
    "marks = ['-','-','-']\n",
    "#Labels = [r'S$_{1}$', r'S$_{2}$', r'S$_{3}$',r'S$_{4}$',r'S$_{6}$']\n",
    "#Labels = ['basecase','basecase-subsidence','static_sg','static_sg-subsidence','dynamic_sg', 'dynamic_sg (dst=0.2)']\n",
    "Labels = ['basecase','dynamic_sg']"
   ]
  },
  {
   "cell_type": "code",
   "execution_count": null,
   "metadata": {},
   "outputs": [],
   "source": []
  },
  {
   "cell_type": "code",
   "execution_count": null,
   "metadata": {},
   "outputs": [],
   "source": []
  },
  {
   "cell_type": "code",
   "execution_count": 56,
   "metadata": {},
   "outputs": [
    {
     "name": "stdout",
     "output_type": "stream",
     "text": [
      "Lengths:  0 0 1\n",
      "Lengths:  0 0 1\n"
     ]
    }
   ],
   "source": [
    "#Slabels = ['S1', 'S2','S3','S4','S6','S6X']\n",
    "Slabels = ['S1', 'S6']\n",
    "#Labels = ['S1_press', 'S3_hybrid', 'S3_press']\n",
    "SimData = dict()\n",
    "for i,sim in enumerate(Simulations):\n",
    "    var = var_set[0]\n",
    "    d1, t1 = read_set(sim,var)\n",
    "    SimData[Slabels[i] + 'time'] = t1\n",
    "    SimData[Slabels[i] + 'data'] = d2"
   ]
  },
  {
   "cell_type": "code",
   "execution_count": 57,
   "metadata": {},
   "outputs": [
    {
     "name": "stdout",
     "output_type": "stream",
     "text": [
      "Lengths:  0 0 1\n",
      "Lengths:  0 0 1\n"
     ]
    }
   ],
   "source": [
    "#Read discharge\n",
    "Q = dict()\n",
    "time = 2006 + np.linspace(0,94,94,dtype='int')\n",
    "to_day_mm = 86400 * 1000\n",
    "to_year_mm = 86400 * 365 * 1000\n",
    "surface_area = 112635.48\n",
    "to_mm = 1000.\n",
    "for i,sim in enumerate(Simulations):\n",
    "    var = var_set[0]\n",
    "    \n",
    "    d1, t1 = read_set(sim,var)\n",
    "    d1 = [x/(55555.*surface_area)*to_day_mm for x in d1]\n",
    "    \n",
    "    d2 = np.reshape(d1,(-1,365)).mean(axis=1)*365\n",
    "    t2 = np.reshape(t1,(-1,365)).mean(axis=1)\n",
    "    #print (np.max(d2), len(d2), len(d1))\n",
    "    d2 = get_moving_average(d2)\n",
    "    Q[Slabels[i] + '_time'] = np.array(t2)\n",
    "    Q[Slabels[i] + '_data'] = np.array(d2)"
   ]
  },
  {
   "cell_type": "code",
   "execution_count": 58,
   "metadata": {},
   "outputs": [],
   "source": [
    "def plot_Q():\n",
    "    %matplotlib qt\n",
    "    fig, axs = plt.subplots(1,1, figsize=(6,4), facecolor='w', edgecolor='k',gridspec_kw={'width_ratios':[1]})\n",
    "    fig.subplots_adjust(hspace =.02, wspace=1.02)\n",
    "\n",
    "    plt.tight_layout()\n",
    "    #axs = axs.ravel()\n",
    "    Colors = ['k','b','grey','g','r','m']\n",
    " \n",
    "    axs.fill_between(1985 + Q['S6_time'], Q['S6_data']-0, Q['S6_data']*0+Q['S1_data'] , color='lightgray')\n",
    "    axs.fill_between(1985 + Q['S6_time'], Q['S3_data'], Q['S6_data']+0 , color='gray')\n",
    "    \n",
    "    axs.plot(1985 + Q['S6_time'],Q['S6_data'],color=Colors[i],label=Labels[i],linestyle='dashed')\n",
    "    axs.set_xlabel('Calendar year',fontsize=12, fontweight='normal')\n",
    "    axs.set_ylabel('Annual average discharge [mm]',fontsize=12, fontweight='normal')\n",
    "    axs.legend(loc='upper right',fontsize=8)\n",
    "    #axs.set_xlim(2005,2100)\n",
    "    #axs.plot(time,precip_annual[:-1],'g')\n",
    "\n",
    "\n",
    "    #axs.plot(t1[tt0*365:(tt0+1)*365]-21,precip_daily[tt0*365:(tt0+1)*365],'g')\n",
    "    #plt.plot(rain_mm,'k')\n",
    "    #plt.plot(snow_mm,'m')\n",
    "    #plt.plot(precip_annual,'r')\n",
    "    #print (outfile)\n",
    "    #plt.savefig(outfile+'discharge-annualavg_bars.pdf', bbox_inches='tight', dpi=500)\n",
    "    #print (outfile+'discharge-annualavg_bars.pdf')"
   ]
  },
  {
   "cell_type": "code",
   "execution_count": 59,
   "metadata": {},
   "outputs": [],
   "source": [
    "#plot_Q()"
   ]
  },
  {
   "cell_type": "code",
   "execution_count": 60,
   "metadata": {},
   "outputs": [],
   "source": [
    "\n",
    "def get_Discharge():\n",
    "    %matplotlib qt\n",
    "    fig, axs = plt.subplots(1,1, figsize=(6,4), facecolor='w', edgecolor='k',gridspec_kw={'width_ratios':[1]})\n",
    "    fig.subplots_adjust(hspace =.02, wspace=1.02)\n",
    "\n",
    "    plt.tight_layout()\n",
    "    Colors = ['k','b','grey','g','r','m']\n",
    "    time = 2006 + np.linspace(0,94,94,dtype='int')\n",
    "    to_day_mm = 86400 * 1000\n",
    "    to_year_mm = 86400 * 365 * 1000\n",
    "\n",
    "    to_mm = 1000.\n",
    "    Discharge = dict()\n",
    "    for i,sim in enumerate(Simulations):\n",
    "        var = var_set[0]\n",
    "\n",
    "        d1, t1 = read_set(sim,var)\n",
    "        #print (d1)\n",
    "        d1 = [x/(55250.*surface_area)*to_day_mm for x in d1] #converted to day here\n",
    "\n",
    "        d2 = np.reshape(d1,(-1,365)).mean(axis=1)*365\n",
    "        t2 = np.reshape(t1,(-1,365)).mean(axis=1)\n",
    "        Discharge[Labels[i]] = d2\n",
    "        #print ( len(d2), len(d1),d1)\n",
    "        #d2 = get_moving_average(d2)\n",
    "\n",
    "        axs.plot(1986 + t2,d2,color=Colors[i],label=Labels[i],linestyle='dashed')\n",
    "        axs.set_xlabel('Calendar year',fontsize=12, fontweight='normal')\n",
    "        axs.set_ylabel('Annual average discharge [mm]',fontsize=12, fontweight='normal')\n",
    "        axs.legend(loc='best',fontsize=8)\n",
    "    return Discharge, t1"
   ]
  },
  {
   "cell_type": "code",
   "execution_count": 61,
   "metadata": {},
   "outputs": [
    {
     "name": "stdout",
     "output_type": "stream",
     "text": [
      "Lengths:  0 0 1\n",
      "Lengths:  0 0 1\n",
      "730 {'basecase': array([42.65477033, 59.90851364]), 'dynamic_sg': array([10.71990068,  8.79278167])}\n"
     ]
    }
   ],
   "source": [
    "Q_annual, Time = get_Discharge()\n",
    "print (len(Time),Q_annual)"
   ]
  },
  {
   "cell_type": "code",
   "execution_count": 62,
   "metadata": {},
   "outputs": [],
   "source": [
    "def Evaporation():\n",
    "    %matplotlib qt\n",
    "    fig, axs = plt.subplots(1,1, figsize=(6,4), facecolor='w', edgecolor='k',gridspec_kw={'width_ratios':[1]})\n",
    "    fig.subplots_adjust(hspace =.02, wspace=1.02)\n",
    "\n",
    "    plt.tight_layout()\n",
    "    #axs = axs.ravel()\n",
    "    Colors = ['k','b','grey','g','r','m']\n",
    "    time = 2006 + np.linspace(0,94,94,dtype='int')\n",
    "    to_day_mm = 86400 * 1000\n",
    "    to_day_year_mm = 86400 * 365 * 1000\n",
    "    \n",
    "    to_mm = 1000.\n",
    "    Evap = dict()\n",
    "    for i,sim in enumerate(Simulations):\n",
    "        var = key_var[0]\n",
    "        d1 = getSurfaceData(i, var)[var]\n",
    "        l = len(d1)%365\n",
    "        print (l)\n",
    "        d3 = np.reshape(d1,(-1,365)).mean(axis=1)*to_day_year_mm\n",
    "        Evap[Labels[i]] = d3\n",
    "        #d3 = get_moving_average(d3)\n",
    "        #print (d3)\n",
    "        axs.plot(d3,color=Colors[i],label=Labels[i], linestyle=\"dashed\")\n",
    "        axs.legend(fontsize=8)\n",
    "        \n",
    "    return Evap"
   ]
  },
  {
   "cell_type": "code",
   "execution_count": 63,
   "metadata": {},
   "outputs": [
    {
     "name": "stdout",
     "output_type": "stream",
     "text": [
      "getSurfaceData:  surface_star-evaporative_flux True\n",
      "0\n",
      "getSurfaceData:  surface_star-evaporative_flux True\n",
      "0\n",
      "{'basecase': array([178.2485481 , 214.21704248]), 'dynamic_sg': array([201.87848976, 260.47267692])}\n"
     ]
    }
   ],
   "source": [
    "E_annual = Evaporation()\n",
    "print (E_annual)"
   ]
  },
  {
   "cell_type": "code",
   "execution_count": null,
   "metadata": {},
   "outputs": [],
   "source": []
  },
  {
   "cell_type": "code",
   "execution_count": null,
   "metadata": {},
   "outputs": [],
   "source": []
  },
  {
   "cell_type": "code",
   "execution_count": 64,
   "metadata": {
    "code_folding": []
   },
   "outputs": [],
   "source": [
    "def get_water_content():\n",
    "    Colors = ['k','b','grey','g','r']\n",
    "    time = 2006 + np.linspace(0,94,94,dtype='int')\n",
    "    to_day_mm = 86400 * 1000\n",
    "    to_year_mm = 86400 * 365 * 1000\n",
    "    basin_area = 112635.48\n",
    "    to_mm = 1000.\n",
    "    m3_mm = 1e+9\n",
    "    SS_change = dict()\n",
    "    SF_change = dict()\n",
    "    SWE_change = dict()\n",
    "    for i,sim in enumerate(Simulations):\n",
    "        var_wc = 'surface_star-column_water_content'\n",
    "        var_wc_sf = 'surface_star-water_content'\n",
    "        var_swe = 'surface_star-snow_water_equivalent'\n",
    "        d1 = getSurfaceData(i, var_wc,average=False)[var_wc]\n",
    "        d1_sf = getSurfaceData(i, var_wc_sf,average=False)[var_wc_sf]\n",
    "        d1_swe = getSurfaceData(i, var_swe,average=False)[var_swe]\n",
    "        \n",
    "        d2 = np.reshape(d1,(-1,365))\n",
    "        d2_sf = np.reshape(d1_sf,(-1,365))\n",
    "        d2_swe = np.reshape(d1_swe,(-1,365))\n",
    "        mol_density = 55300.\n",
    "        \n",
    "        factor = 1/(mol_density *surface_area)*to_mm\n",
    "        SS_change[Labels[i]] = np.array([(d2[0][-1] - d2[0][0])*factor, (d2[1][-1] - d2[1][0])*factor])\n",
    "        SF_change[Labels[i]] = np.array([(d2_sf[0][-1] - d2_sf[0][0])*factor,(d2_sf[1][-1] - d2_sf[1][0])*factor])\n",
    "        SWE_change[Labels[i]] = np.array([(d2_swe[0][-1] - d2_swe[0][0])*to_mm/surface_area,(d2_swe[1][-1] - d2_swe[1][0])*to_mm/surface_area])\n",
    "        print (Labels[i],d2_swe[0][0]*to_mm/surface_area, d2_swe[0][-1]*to_mm/surface_area)\n",
    "    return SS_change, SF_change, SWE_change"
   ]
  },
  {
   "cell_type": "code",
   "execution_count": 65,
   "metadata": {},
   "outputs": [
    {
     "name": "stdout",
     "output_type": "stream",
     "text": [
      "getSurfaceData:  surface_star-column_water_content False\n",
      "getSurfaceData:  surface_star-water_content False\n",
      "getSurfaceData:  surface_star-snow_water_equivalent False\n",
      "basecase 44.07127691986398 72.97124802513012\n",
      "getSurfaceData:  surface_star-column_water_content False\n",
      "getSurfaceData:  surface_star-water_content False\n",
      "getSurfaceData:  surface_star-snow_water_equivalent False\n",
      "dynamic_sg 44.07127691986398 92.83561417767844\n"
     ]
    }
   ],
   "source": [
    "SS_change, SF_change, SWE_change = get_water_content()"
   ]
  },
  {
   "cell_type": "code",
   "execution_count": 66,
   "metadata": {},
   "outputs": [
    {
     "name": "stdout",
     "output_type": "stream",
     "text": [
      "{'basecase': array([ 5.39120355, 16.2186138 ]), 'dynamic_sg': array([-1.84162869,  6.57765977])}\n",
      "{'basecase': array([0.        , 0.96196841]), 'dynamic_sg': array([0.        , 0.01549338])}\n",
      "{'basecase': array([ 28.89997111, -23.37663865]), 'dynamic_sg': array([ 48.76433726, -28.5255792 ])}\n",
      "{'basecase': array([178.2485481 , 214.21704248]), 'dynamic_sg': array([201.87848976, 260.47267692])}\n",
      "{'basecase': array([42.65477033, 59.90851364]), 'dynamic_sg': array([10.71990068,  8.79278167])}\n"
     ]
    }
   ],
   "source": [
    "print (SS_change)\n",
    "print(SF_change)\n",
    "print(SWE_change)\n",
    "print (E_annual)\n",
    "print (Q_annual)"
   ]
  },
  {
   "cell_type": "code",
   "execution_count": 75,
   "metadata": {},
   "outputs": [
    {
     "name": "stdout",
     "output_type": "stream",
     "text": [
      "Base: 259.0 255.19 , SS:  5.39 , SF:  0.0 , SWE:  28.9 , Q:  42.65 , E:  178.25\n",
      "D_sg: 259.0 259.52 , SS:  -1.84 , SF:  0.0 , SWE:  48.76 , Q:  10.72 , E:  201.88\n",
      "---------------------------------\n",
      "Base: 240.96 267.93 , SS:  16.22 , SF:  0.96 , SWE:  -23.38 , Q:  59.91 , E:  214.22\n",
      "D_sg: 240.96 247.33 , SS:  6.58 , SF:  0.02 , SWE:  -28.53 , Q:  8.79 , E:  260.47\n",
      "---------------------------------\n"
     ]
    },
    {
     "data": {
      "text/plain": [
       "(240, 270)"
      ]
     },
     "execution_count": 75,
     "metadata": {},
     "output_type": "execute_result"
    }
   ],
   "source": [
    "MassBalanceB = []\n",
    "MassBalanceD = []\n",
    "for i in range(len(SS_change)):\n",
    "    x = SS_change['basecase'][i] + SF_change['basecase'][i] + E_annual['basecase'][i] + Q_annual['basecase'][i]  + SWE_change['basecase'][i] \n",
    "    MassBalanceB.append(x)\n",
    "    print ('Base:', np.round(precip_annual[i],2), np.round(x,2), ', SS: ', np.round(SS_change['basecase'][i],2) , \n",
    "           ', SF: ', np.round(SF_change['basecase'][i],2) ,', SWE: ', np.round(SWE_change['basecase'][i],2),\n",
    "           ', Q: ',np.round(Q_annual['basecase'][i],2), ', E: ',np.round(E_annual['basecase'][i],2) )\n",
    "\n",
    "    x = SS_change['dynamic_sg'][i] + SF_change['dynamic_sg'][i] + E_annual['dynamic_sg'][i] + Q_annual['dynamic_sg'][i]  + SWE_change['dynamic_sg'][i] \n",
    "    MassBalanceD.append(x)\n",
    "    print ('D_sg:', np.round(precip_annual[i],2), np.round(x,2), ', SS: ',np.round(SS_change['dynamic_sg'][i],2) , \n",
    "           ', SF: ', np.round(SF_change['dynamic_sg'][i],2) , ', SWE: ', np.round(SWE_change['dynamic_sg'][i],2) , \n",
    "           ', Q: ',np.round(Q_annual['dynamic_sg'][i],2), ', E: ',np.round(E_annual['dynamic_sg'][i],2))\n",
    "    print ('---------------------------------')\n",
    "#print (MassBalanceB, MassBalanceD)\n",
    "plt.plot(MassBalanceB,'k*-',label='basecase')\n",
    "plt.plot(precip_annual[:2],'r*-',label='precip')\n",
    "plt.plot(MassBalanceD,'g*-',label='dyn_sg')\n",
    "\n",
    "plt.legend(loc='best',fontsize=8)\n",
    "\n",
    "plt.ylim(240,270)"
   ]
  },
  {
   "cell_type": "code",
   "execution_count": null,
   "metadata": {},
   "outputs": [],
   "source": []
  },
  {
   "cell_type": "code",
   "execution_count": null,
   "metadata": {},
   "outputs": [],
   "source": [
    "For closed boundary:\n",
    "Base: 259.0 262.14 7.11 0.01 28.97 0.0 226.05\n",
    "D_sg: 259.0 259.35 -1.36 0.0 48.8 0.0 211.91\n",
    "---------------------------------\n",
    "Base: 240.96 249.86 14.48 1.15 -24.6 0.0 258.83\n",
    "D_sg: 240.96 247.73 6.21 0.01 -28.0 0.0 269.52\n",
    "---------------------------------"
   ]
  },
  {
   "cell_type": "code",
   "execution_count": null,
   "metadata": {},
   "outputs": [],
   "source": []
  },
  {
   "cell_type": "code",
   "execution_count": null,
   "metadata": {},
   "outputs": [],
   "source": [
    "def read_set_cycle(set,var):\n",
    "    dat = []\n",
    "    tim = []\n",
    "    for s in set:\n",
    "        file = os.path.join(path,s, var)\n",
    "        d = np.loadtxt(file,usecols=1,skiprows=6)\n",
    "        t1 = np.loadtxt(file,usecols=0,skiprows=6)\n",
    "        q = []\n",
    "        t2 = []\n",
    "        \n",
    "        indx = np.where(t1%86400 == 43200.)[0]\n",
    "        for i,x in enumerate(indx):\n",
    "            if i ==0:\n",
    "                q.append(0)\n",
    "                t2.append(t1[0])\n",
    "            else:\n",
    "                sum1 =  np.mean(d[indx[i-1]:indx[i]])\n",
    "                q.append(sum1)\n",
    "                t2.append(t1[indx[i-1]])\n",
    "                \n",
    "        t = np.array([x/86400./365. for x in t2])\n",
    "        \n",
    "        d = q\n",
    "        L = len(d)%365\n",
    "        if L >0:\n",
    "            d = d[:-L]\n",
    "            t = t[:len(d)]\n",
    "            \n",
    "        dat.append(d)\n",
    "        tim.append(t)\n",
    "        print ('B:',len(t), len(d), L)\n",
    "    dat = np.concatenate(dat)\n",
    "    tim = np.concatenate(tim)\n",
    "    \n",
    "    return dat, tim"
   ]
  },
  {
   "cell_type": "code",
   "execution_count": null,
   "metadata": {},
   "outputs": [],
   "source": [
    "%matplotlib qt\n",
    "fig, axs = plt.subplots(1,1, figsize=(6,4), facecolor='w', edgecolor='k',gridspec_kw={'width_ratios':[1]})\n",
    "fig.subplots_adjust(hspace =.02, wspace=1.02)\n",
    "    \n",
    "plt.tight_layout()\n",
    "#axs = axs.ravel()\n",
    "Colors = ['k','b','grey','g','r','m']\n",
    "time = 2006 + np.linspace(0,94,94,dtype='int')\n",
    "to_day_mm = 86400 * 1000\n",
    "to_year_mm = 86400 * 365 * 1000\n",
    "basin_area = 112635.48\n",
    "to_mm = 1000.\n",
    "Discharge = dict()\n",
    "for i,sim in enumerate(Simulations[:1]):\n",
    "    d1, t1 = read_set_cycle(sim,'surface_flux-cycle.dat')\n",
    "    d1 = [x/(55555.*basin_area)*to_day_mm for x in d1]\n",
    "    \n",
    "    #d2 = np.reshape(d1,(-1,365)).mean(axis=1)*365\n",
    "    #t2 = np.reshape(t1,(-1,365)).mean(axis=1)\n",
    "    \n",
    "    d2 = np.reshape(d1,(-1,365))[0]#.mean(axis=1)*365\n",
    "    t2 = np.reshape(t1,(-1,365))[0]#.mean(axis=1)\n",
    "    \n",
    "    d1A, t1A = read_set(sim,'surface_flux-day.dat')\n",
    "    d1A = [x/(55555.*basin_area)*to_day_mm for x in d1A]\n",
    "    \n",
    "    #d2A = np.reshape(d1A,(-1,365)).mean(axis=1)*365\n",
    "    #t2A = np.reshape(t1A,(-1,365)).mean(axis=1)\n",
    "    \n",
    "    d2A = np.reshape(d1A,(-1,365))[0]#.mean(axis=1)*365\n",
    "    t2A = np.reshape(t1A,(-1,365))[0]#.mean(axis=1)\n",
    "    \n",
    "    axs.plot(1985 + t2,d2,color=Colors[i],label=Labels[i] + '-day',linestyle='solid')\n",
    "    axs.plot(1985 + t2A,d2A,color='r',label=Labels[i] + '-cycle',linestyle='dotted')\n",
    "    axs.legend()\n",
    "    #axs.set_xlabel('Calendar year',fontsize=12, fontweight='normal')\n",
    "    #axs.set_ylabel('Annual average discharge [mm]',fontsize=12, fontweight='normal')"
   ]
  },
  {
   "cell_type": "code",
   "execution_count": null,
   "metadata": {},
   "outputs": [],
   "source": []
  }
 ],
 "metadata": {
  "kernelspec": {
   "display_name": "Python 3",
   "language": "python",
   "name": "python3"
  },
  "language_info": {
   "codemirror_mode": {
    "name": "ipython",
    "version": 3
   },
   "file_extension": ".py",
   "mimetype": "text/x-python",
   "name": "python",
   "nbconvert_exporter": "python",
   "pygments_lexer": "ipython3",
   "version": "3.7.6"
  }
 },
 "nbformat": 4,
 "nbformat_minor": 4
}
