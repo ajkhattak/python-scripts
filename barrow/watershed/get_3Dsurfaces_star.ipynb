{
 "cells": [
  {
   "cell_type": "code",
   "execution_count": 1,
   "metadata": {},
   "outputs": [],
   "source": [
    "import sys, os\n",
    "import numpy as np\n",
    "import h5py\n",
    "sys.path.append('/Users/ajc/Core/PyScript')"
   ]
  },
  {
   "cell_type": "code",
   "execution_count": 2,
   "metadata": {},
   "outputs": [],
   "source": [
    "mesh3D=h5py.File(\"./visdump_surface_mesh.h5\",\"r\")"
   ]
  },
  {
   "cell_type": "code",
   "execution_count": null,
   "metadata": {},
   "outputs": [],
   "source": []
  },
  {
   "cell_type": "code",
   "execution_count": 3,
   "metadata": {},
   "outputs": [
    {
     "name": "stdout",
     "output_type": "stream",
     "text": [
      "(959, 3)\n",
      "959\n"
     ]
    }
   ],
   "source": [
    "dat=mesh3D[\"0\"][\"Mesh\"][\"Nodes\"]\n",
    "x=dat.shape\n",
    "print (dat.shape)\n",
    "print (x[0])\n",
    "Z = np.zeros((x[0],x[1]))\n",
    "\n",
    "for i,d in enumerate(dat):\n",
    "    Z[i][0] = d[0]\n",
    "    Z[i][1] = d[1]\n",
    "    Z[i][2] = d[2]"
   ]
  },
  {
   "cell_type": "code",
   "execution_count": 11,
   "metadata": {},
   "outputs": [],
   "source": [
    "#path='/Users/ajc/Core/simulations/projections/barrow_watershed/CESM_02/CESM_5050_R50_B_movie'\n",
    "path='/Users/ajc/Core/simulations/barrow_watershed/CESM_04/CESM_5050_R12_B/'\n",
    "path='/Users/ajc/Core/simulations/barrow_watershed/CESM_05/CESM_I5050_P80_R50/'\n",
    "outfile=h5py.File(os.path.join(path,\"ats_vis_surface_star_mesh.h5\"),\"r+\")\n"
   ]
  },
  {
   "cell_type": "code",
   "execution_count": 12,
   "metadata": {},
   "outputs": [
    {
     "data": {
      "text/plain": [
       "'11764'"
      ]
     },
     "execution_count": 12,
     "metadata": {},
     "output_type": "execute_result"
    }
   ],
   "source": [
    "cyc= list(outfile.keys())[0]\n",
    "cyc"
   ]
  },
  {
   "cell_type": "code",
   "execution_count": 13,
   "metadata": {},
   "outputs": [],
   "source": [
    "d2=outfile[cyc][\"Mesh\"][\"Nodes\"]\n",
    "d2[...]=Z\n",
    "\n",
    "mesh3D.close()\n",
    "outfile.close()"
   ]
  },
  {
   "cell_type": "code",
   "execution_count": null,
   "metadata": {},
   "outputs": [],
   "source": []
  }
 ],
 "metadata": {
  "kernelspec": {
   "display_name": "Python 3",
   "language": "python",
   "name": "python3"
  },
  "language_info": {
   "codemirror_mode": {
    "name": "ipython",
    "version": 3
   },
   "file_extension": ".py",
   "mimetype": "text/x-python",
   "name": "python",
   "nbconvert_exporter": "python",
   "pygments_lexer": "ipython3",
   "version": "3.7.6"
  }
 },
 "nbformat": 4,
 "nbformat_minor": 4
}
