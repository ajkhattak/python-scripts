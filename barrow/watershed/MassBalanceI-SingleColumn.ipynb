{
 "cells": [
  {
   "cell_type": "code",
   "execution_count": 1,
   "metadata": {},
   "outputs": [],
   "source": [
    "import sys, os\n",
    "import numpy as np\n",
    "import pandas as pd\n",
    "from matplotlib import pyplot as plt\n",
    "import scipy.signal\n",
    "import importlib\n",
    "import h5py\n",
    "sys.path.append('/Users/ajc/Core/PreProcessing/PyScript')\n",
    "import readdata"
   ]
  },
  {
   "cell_type": "code",
   "execution_count": 2,
   "metadata": {},
   "outputs": [],
   "source": [
    "outfile='/Users/ajc/Core/PostProcessing/2020/barrow_watershed/projections_02/Nov10/'"
   ]
  },
  {
   "cell_type": "code",
   "execution_count": 3,
   "metadata": {},
   "outputs": [],
   "source": [
    "#path_cades = \"/Users/ajc/FUSE/simulations/tests/ats-regression-tests/08_energy/\"\n",
    "\n",
    "path ='/Users/ajc/FUSE/simulations/tests/ats-intermediate-ngee-up/single_column/'\n",
    "var_set = ['surface_flux-day.dat']"
   ]
  },
  {
   "cell_type": "code",
   "execution_count": 4,
   "metadata": {},
   "outputs": [],
   "source": [
    "S1 = [os.path.join(path, 'test0') ] \n",
    "Simulations = [S1]\n",
    "#print (Simulations[0],)\n"
   ]
  },
  {
   "cell_type": "code",
   "execution_count": 5,
   "metadata": {},
   "outputs": [],
   "source": [
    "mol_density = 55000.\n",
    "to_mm = 1000.\n",
    "to_day_mm = 86400 * 1000\n",
    "to_day_year_mm = 86400 * 365 * 1000"
   ]
  },
  {
   "cell_type": "code",
   "execution_count": 6,
   "metadata": {},
   "outputs": [],
   "source": [
    "def read_file(file):\n",
    "    d = np.loadtxt(file,usecols=1,skiprows=6)\n",
    "    t1 = np.loadtxt(file,usecols=0,skiprows=6)\n",
    "    t = np.array([x/86400./365. for x in t1])\n",
    "    #print (len(d),len(t))\n",
    "    l = np.minimum(len(d),len(t))\n",
    "    return d[:l],t[:l]\n",
    "\n",
    "def read_set(set,var):\n",
    "    dat = []\n",
    "    tim = []\n",
    "    for s in set:\n",
    "        file = os.path.join(path_cades,s, var)\n",
    "        #print (file)\n",
    "        d = np.loadtxt(file,usecols=1,skiprows=6)\n",
    "        t1 = np.loadtxt(file,usecols=0,skiprows=6)\n",
    "        t = np.array([x/86400./365. for x in t1])\n",
    "        \n",
    "        L = len(d)%365\n",
    "        if L >0:\n",
    "            d = d[:-L]\n",
    "            t = t[:len(d)]\n",
    "            \n",
    "        dat.append(d)\n",
    "        tim.append(t)\n",
    "    dat = np.concatenate(dat)\n",
    "    tim = np.concatenate(tim)\n",
    "    print ('Lengths: ',len(dat)%365, len(tim)%365,L)\n",
    "    \n",
    "    return dat, tim"
   ]
  },
  {
   "cell_type": "code",
   "execution_count": 7,
   "metadata": {},
   "outputs": [],
   "source": [
    "#forcing_data = h5py.File(os.path.join(path,'data/spinup-10yr.h5'),'r')\n",
    "forcing_data = h5py.File(\"/Users/ajc/Core/PreProcessing/ats-intermediate-ngee/data/SNAP/CESM-RCP8.5-2006-2100_dm1985-2015-FM_2006.h5\",'r')"
   ]
  },
  {
   "cell_type": "code",
   "execution_count": null,
   "metadata": {},
   "outputs": [],
   "source": []
  },
  {
   "cell_type": "code",
   "execution_count": 8,
   "metadata": {},
   "outputs": [],
   "source": [
    "d1 = forcing_data['precipitation rain [m s^-1]']\n",
    "d2 = forcing_data['precipitation snow [m SWE s^-1]']\n",
    "rain_mm = np.reshape(d1,(-1,365)).mean(axis=1)*86400*365*1000\n",
    "snow_mm = np.reshape(d2,(-1,365)).mean(axis=1)*86400*365*1000\n",
    "precip_annual = snow_mm + rain_mm\n",
    "r1 = np.array(d1)*86400*1000\n",
    "r2 = np.array(d2)*86400*1000\n",
    "precip_daily = r1 + r2"
   ]
  },
  {
   "cell_type": "code",
   "execution_count": 9,
   "metadata": {},
   "outputs": [],
   "source": [
    "#key_var = ['surface-evaporative_flux','surface-depth','surface_star-carbon_decomposition_rate']\n",
    "key_var = ['surface_star-evaporative_flux','surface-depth','surface_star-carbon_decomposition_rate']"
   ]
  },
  {
   "cell_type": "code",
   "execution_count": 10,
   "metadata": {},
   "outputs": [],
   "source": [
    "\n",
    "def getSurfaceData(i,var,hdf_file='ats_vis_surface_data.h5',average=True):\n",
    "    Data = []\n",
    "    print ('getSurfaceData: ',var,average)\n",
    "    for s in Simulations[i]:\n",
    "        infile = os.path.join(s,hdf_file)\n",
    "        print (infile)\n",
    "        dx=h5py.File(infile,'r')\n",
    "        \n",
    "        d = np.array(readdata.GetSurfVarFromVis_All(infile,var)[var])\n",
    "        if (average):\n",
    "            d = d.mean(axis=1)\n",
    "        else:\n",
    "            d = d.sum(axis=1)\n",
    "        L = len(d)%365\n",
    "        if L >0:\n",
    "            d = d[:-L]\n",
    "            \n",
    "        Data.append(d)\n",
    "        \n",
    "    d = dict()\n",
    "    d[var] = np.concatenate(Data)\n",
    "    \n",
    "    return d"
   ]
  },
  {
   "cell_type": "code",
   "execution_count": null,
   "metadata": {},
   "outputs": [],
   "source": []
  },
  {
   "cell_type": "code",
   "execution_count": 11,
   "metadata": {},
   "outputs": [],
   "source": [
    "colors = ['r','k','g','m','c','y']\n",
    "marks = ['.','*', '+', 'o']\n",
    "marks = ['-','-','-']\n",
    "Labels = ['basecase','dynamic_sg']"
   ]
  },
  {
   "cell_type": "code",
   "execution_count": null,
   "metadata": {},
   "outputs": [],
   "source": []
  },
  {
   "cell_type": "code",
   "execution_count": 12,
   "metadata": {},
   "outputs": [],
   "source": [
    "Slabels = ['S1', 'S6']\n",
    "surface_area = 1#2.625"
   ]
  },
  {
   "cell_type": "code",
   "execution_count": 13,
   "metadata": {},
   "outputs": [],
   "source": [
    "def Evaporation():\n",
    "    #%matplotlib qt\n",
    "    #fig, axs = plt.subplots(1,1, figsize=(6,4), facecolor='w', edgecolor='k',gridspec_kw={'width_ratios':[1]})\n",
    "    #fig.subplots_adjust(hspace =.02, wspace=1.02)\n",
    "\n",
    "    #plt.tight_layout()\n",
    "    #axs = axs.ravel()\n",
    "    Colors = ['k','b','grey','g','r','m']\n",
    "    time = 2006 + np.linspace(0,94,94,dtype='int')\n",
    "    d3_sf = []\n",
    "    sf_change = 0\n",
    "    for i,sim in enumerate(Simulations):\n",
    "        var = key_var[0]\n",
    "        d1 = getSurfaceData(i, var,hdf_file='ats_vis_surface_star_data.h5')[var]\n",
    "        d2 = [x*to_day_mm for x in d1]\n",
    "        d3_sf = [x*to_day_mm for x in d2] \n",
    "        sf_annual = np.reshape(d1,(-1,365)).mean(axis=1)*to_day_year_mm\n",
    "\n",
    "        #axs.plot(d3,color=Colors[i],label=Labels[i], linestyle=\"dashed\")\n",
    "        #axs.legend(fontsize=8)\n",
    "        print (sf_annual)\n",
    "    return d3_sf, sf_annual"
   ]
  },
  {
   "cell_type": "code",
   "execution_count": 14,
   "metadata": {},
   "outputs": [
    {
     "name": "stdout",
     "output_type": "stream",
     "text": [
      "getSurfaceData:  surface_star-evaporative_flux True\n",
      "/Users/ajc/FUSE/simulations/tests/ats-intermediate-ngee-up/single_column/test0/ats_vis_surface_star_data.h5\n",
      "[]\n"
     ]
    }
   ],
   "source": [
    "EvapDaily, EvapChange = Evaporation()\n",
    "#print (EvapAnnual, EvapDaily)"
   ]
  },
  {
   "cell_type": "code",
   "execution_count": 15,
   "metadata": {},
   "outputs": [],
   "source": [
    "def water_content(model='3D'):\n",
    "    print (Simulations[0][0])\n",
    "    infile = os.path.join(Simulations[0][0],'ats_vis_data.h5')\n",
    "    if (model =='ISM'):\n",
    "        infile = os.path.join(Simulations[0][0],'ats_vis_column_0_data.h5')\n",
    "    d = h5py.File(infile,'r')\n",
    "    wc_key = 'water_content.cell.0'\n",
    "    if (model =='ISM'):\n",
    "        wc_key = 'column_0-water_content.cell.0'\n",
    "    keys = list(d[wc_key].keys())\n",
    "    keys = sorted (keys, key=int)\n",
    "    d1 = []\n",
    "\n",
    "    factor = 1/(mol_density *surface_area)*to_mm\n",
    "    for key in keys:\n",
    "        x = np.sum(np.concatenate((d[wc_key][key]))) * factor\n",
    "        d1.append(x)\n",
    "    wc_c = [d1[-1] - d1[0]]\n",
    "    return d1,wc_c\n"
   ]
  },
  {
   "cell_type": "code",
   "execution_count": 16,
   "metadata": {},
   "outputs": [
    {
     "name": "stdout",
     "output_type": "stream",
     "text": [
      "/Users/ajc/FUSE/simulations/tests/ats-intermediate-ngee-up/single_column/test0\n"
     ]
    }
   ],
   "source": [
    "WC,WC_change = water_content(model='ISM')"
   ]
  },
  {
   "cell_type": "code",
   "execution_count": 17,
   "metadata": {
    "code_folding": []
   },
   "outputs": [],
   "source": [
    "def water_content_sf(model='3D'):\n",
    "    to_day_mm = 86400 * 1000\n",
    "    to_year_mm = 86400 * 365 * 1000\n",
    "    \n",
    "    to_mm = 1000.\n",
    "    sf_change = -10101\n",
    "    d3_sf = []\n",
    "    sf_change = 0\n",
    "    for i,sim in enumerate(Simulations):\n",
    "                \n",
    "        \n",
    "        if (model =='3D'):\n",
    "            var_wc_sf = 'surface-water_content'\n",
    "            d1_sf = getSurfaceData(i, var_wc_sf,average=False)[var_wc_sf]\n",
    "        else:\n",
    "            var_wc_sf = 'surface_star-water_content'\n",
    "            d1_sf = getSurfaceData(i, var_wc_sf,hdf_file='ats_vis_surface_star_data.h5',average=False)[var_wc_sf]        \n",
    "        \n",
    "        d2_sf = np.reshape(d1_sf,(-1,365))\n",
    "        mol_density = 55000.\n",
    "        basin_area = 1\n",
    "        factor = 1/(mol_density *surface_area)*to_mm\n",
    "        d3_sf = [x*factor for x in d2_sf]\n",
    "        sf_change = [(d2_sf[0][-1] - d2_sf[0][0])*factor]\n",
    "        \n",
    "    return d3_sf[0], sf_change"
   ]
  },
  {
   "cell_type": "code",
   "execution_count": 18,
   "metadata": {},
   "outputs": [
    {
     "name": "stdout",
     "output_type": "stream",
     "text": [
      "getSurfaceData:  surface_star-water_content False\n",
      "/Users/ajc/FUSE/simulations/tests/ats-intermediate-ngee-up/single_column/test0/ats_vis_surface_star_data.h5\n"
     ]
    },
    {
     "ename": "IndexError",
     "evalue": "index 0 is out of bounds for axis 0 with size 0",
     "output_type": "error",
     "traceback": [
      "\u001b[0;31m---------------------------------------------------------------------------\u001b[0m",
      "\u001b[0;31mIndexError\u001b[0m                                Traceback (most recent call last)",
      "\u001b[0;32m<ipython-input-18-93f347b27f54>\u001b[0m in \u001b[0;36m<module>\u001b[0;34m\u001b[0m\n\u001b[0;32m----> 1\u001b[0;31m \u001b[0mWC_sf\u001b[0m\u001b[0;34m,\u001b[0m \u001b[0mWC_sf_change\u001b[0m \u001b[0;34m=\u001b[0m \u001b[0mwater_content_sf\u001b[0m\u001b[0;34m(\u001b[0m\u001b[0mmodel\u001b[0m \u001b[0;34m=\u001b[0m\u001b[0;34m'ISM'\u001b[0m\u001b[0;34m)\u001b[0m\u001b[0;34m\u001b[0m\u001b[0;34m\u001b[0m\u001b[0m\n\u001b[0m",
      "\u001b[0;32m<ipython-input-17-02f79d046bc0>\u001b[0m in \u001b[0;36mwater_content_sf\u001b[0;34m(model)\u001b[0m\n\u001b[1;32m     22\u001b[0m         \u001b[0mfactor\u001b[0m \u001b[0;34m=\u001b[0m \u001b[0;36m1\u001b[0m\u001b[0;34m/\u001b[0m\u001b[0;34m(\u001b[0m\u001b[0mmol_density\u001b[0m \u001b[0;34m*\u001b[0m\u001b[0msurface_area\u001b[0m\u001b[0;34m)\u001b[0m\u001b[0;34m*\u001b[0m\u001b[0mto_mm\u001b[0m\u001b[0;34m\u001b[0m\u001b[0;34m\u001b[0m\u001b[0m\n\u001b[1;32m     23\u001b[0m         \u001b[0md3_sf\u001b[0m \u001b[0;34m=\u001b[0m \u001b[0;34m[\u001b[0m\u001b[0mx\u001b[0m\u001b[0;34m*\u001b[0m\u001b[0mfactor\u001b[0m \u001b[0;32mfor\u001b[0m \u001b[0mx\u001b[0m \u001b[0;32min\u001b[0m \u001b[0md2_sf\u001b[0m\u001b[0;34m]\u001b[0m\u001b[0;34m\u001b[0m\u001b[0;34m\u001b[0m\u001b[0m\n\u001b[0;32m---> 24\u001b[0;31m         \u001b[0msf_change\u001b[0m \u001b[0;34m=\u001b[0m \u001b[0;34m[\u001b[0m\u001b[0;34m(\u001b[0m\u001b[0md2_sf\u001b[0m\u001b[0;34m[\u001b[0m\u001b[0;36m0\u001b[0m\u001b[0;34m]\u001b[0m\u001b[0;34m[\u001b[0m\u001b[0;34m-\u001b[0m\u001b[0;36m1\u001b[0m\u001b[0;34m]\u001b[0m \u001b[0;34m-\u001b[0m \u001b[0md2_sf\u001b[0m\u001b[0;34m[\u001b[0m\u001b[0;36m0\u001b[0m\u001b[0;34m]\u001b[0m\u001b[0;34m[\u001b[0m\u001b[0;36m0\u001b[0m\u001b[0;34m]\u001b[0m\u001b[0;34m)\u001b[0m\u001b[0;34m*\u001b[0m\u001b[0mfactor\u001b[0m\u001b[0;34m]\u001b[0m\u001b[0;34m\u001b[0m\u001b[0;34m\u001b[0m\u001b[0m\n\u001b[0m\u001b[1;32m     25\u001b[0m \u001b[0;34m\u001b[0m\u001b[0m\n\u001b[1;32m     26\u001b[0m     \u001b[0;32mreturn\u001b[0m \u001b[0md3_sf\u001b[0m\u001b[0;34m[\u001b[0m\u001b[0;36m0\u001b[0m\u001b[0;34m]\u001b[0m\u001b[0;34m,\u001b[0m \u001b[0msf_change\u001b[0m\u001b[0;34m\u001b[0m\u001b[0;34m\u001b[0m\u001b[0m\n",
      "\u001b[0;31mIndexError\u001b[0m: index 0 is out of bounds for axis 0 with size 0"
     ]
    }
   ],
   "source": [
    "WC_sf, WC_sf_change = water_content_sf(model ='ISM')\n"
   ]
  },
  {
   "cell_type": "code",
   "execution_count": null,
   "metadata": {},
   "outputs": [],
   "source": []
  },
  {
   "cell_type": "code",
   "execution_count": null,
   "metadata": {},
   "outputs": [],
   "source": [
    "def water_content_snow(model='3D'):\n",
    "    sf_change = -10101\n",
    "    d3_sf = []\n",
    "    sf_change = 0\n",
    "    for i,sim in enumerate(Simulations):\n",
    "        \n",
    "        if (model =='3D'):\n",
    "            var_wc_sf = 'snow-water_equivalent'\n",
    "            d1_sf = getSurfaceData(i, var_wc_sf,hdf_file='ats_vis_snow_data.h5',average=False)[var_wc_sf]\n",
    "        else:\n",
    "            var_wc_sf = 'snow_column_0-snow_water_equivalent'\n",
    "            d1_sf = getSurfaceData(i, var_wc_sf,hdf_file='ats_vis_snow_column_0_data.h5',average=False)[var_wc_sf]  \n",
    "            \n",
    "                \n",
    "        \n",
    "        d2_sf = np.reshape(d1_sf,(-1,365))\n",
    "        mol_density = 55000.\n",
    "        \n",
    "        factor = 1/(mol_density *surface_area)*to_mm\n",
    "        d3_sf = [x*factor for x in d2_sf]\n",
    "        sf_change = [(d2_sf[0][-1] - d2_sf[0][0])*1000/surface_area]\n",
    "        \n",
    "    return d3_sf, sf_change"
   ]
  },
  {
   "cell_type": "code",
   "execution_count": null,
   "metadata": {},
   "outputs": [],
   "source": [
    "WC_snow, WC_snow_change = water_content_snow(model='ISM')"
   ]
  },
  {
   "cell_type": "code",
   "execution_count": null,
   "metadata": {},
   "outputs": [],
   "source": []
  },
  {
   "cell_type": "code",
   "execution_count": null,
   "metadata": {},
   "outputs": [],
   "source": []
  },
  {
   "cell_type": "code",
   "execution_count": null,
   "metadata": {},
   "outputs": [],
   "source": [
    "mass_balance = [x + y + z for x,y,z in zip(WC,WC_sf,WC_snow)]\n",
    "#plt.plot(WC)\n",
    "#plt.plot(WC_sf)"
   ]
  },
  {
   "cell_type": "code",
   "execution_count": null,
   "metadata": {},
   "outputs": [],
   "source": []
  },
  {
   "cell_type": "code",
   "execution_count": null,
   "metadata": {},
   "outputs": [],
   "source": [
    "print (WC_change, WC_sf_change, EvapChange, WC_snow_change)\n",
    "print (precip_annual[0], WC_change[0]+ WC_sf_change[0]+ EvapChange[0] + WC_snow_change[0])"
   ]
  },
  {
   "cell_type": "code",
   "execution_count": null,
   "metadata": {},
   "outputs": [],
   "source": []
  },
  {
   "cell_type": "code",
   "execution_count": null,
   "metadata": {},
   "outputs": [],
   "source": []
  }
 ],
 "metadata": {
  "kernelspec": {
   "display_name": "Python 3",
   "language": "python",
   "name": "python3"
  },
  "language_info": {
   "codemirror_mode": {
    "name": "ipython",
    "version": 3
   },
   "file_extension": ".py",
   "mimetype": "text/x-python",
   "name": "python",
   "nbconvert_exporter": "python",
   "pygments_lexer": "ipython3",
   "version": "3.7.6"
  }
 },
 "nbformat": 4,
 "nbformat_minor": 4
}
