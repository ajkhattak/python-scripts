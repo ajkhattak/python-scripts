{
 "cells": [
  {
   "cell_type": "code",
   "execution_count": 1,
   "metadata": {},
   "outputs": [],
   "source": [
    "import sys, os\n",
    "import numpy as np\n",
    "import pandas as pd\n",
    "from matplotlib import pyplot as plt\n",
    "import scipy.signal\n",
    "import importlib\n",
    "import h5py\n",
    "sys.path.append('/Users/ajc/Core/PreProcessing/PyScript')\n",
    "import readdata"
   ]
  },
  {
   "cell_type": "code",
   "execution_count": 2,
   "metadata": {},
   "outputs": [],
   "source": [
    "outfile='/Users/ajc/Core/PostProcessing/barrow_watershed/2021/projections/01_12_2021/'"
   ]
  },
  {
   "cell_type": "code",
   "execution_count": 3,
   "metadata": {},
   "outputs": [],
   "source": [
    "path ='/Users/ajc/Core/simulations/projections/barrow_watershed/CESM_01/'\n",
    "var_set = ['surface_flux-day.dat']"
   ]
  },
  {
   "cell_type": "code",
   "execution_count": 4,
   "metadata": {},
   "outputs": [],
   "source": [
    "#Sim = ['CESM_5050_R30_B']\n",
    "Simulations = [['CESM_5050_R30_B']] #[os.path.join(path,s) for s in Sim]"
   ]
  },
  {
   "cell_type": "code",
   "execution_count": 5,
   "metadata": {},
   "outputs": [],
   "source": [
    "mol_density = 55300.\n",
    "to_mm = 1000.\n",
    "to_day_mm = 86400 * 1000\n",
    "to_day_year_mm = 86400 * 365 * 1000\n",
    "to_year_mm = 365 * 1000"
   ]
  },
  {
   "cell_type": "code",
   "execution_count": 6,
   "metadata": {},
   "outputs": [],
   "source": [
    "def read_file(file):\n",
    "    d = np.loadtxt(file,usecols=1,skiprows=6)\n",
    "    t1 = np.loadtxt(file,usecols=0,skiprows=6)\n",
    "    t = np.array([x/86400./365. for x in t1])\n",
    "    l = np.minimum(len(d),len(t))\n",
    "    return d[:l],t[:l]\n",
    "\n",
    "def read_set(set,var):\n",
    "    dat = []\n",
    "    tim = []\n",
    "    for s in set:\n",
    "        file = os.path.join(path, s, var)\n",
    "        d = np.loadtxt(file,usecols=1,skiprows=6)\n",
    "        t1 = np.loadtxt(file,usecols=0,skiprows=6)\n",
    "        t = np.array([x/86400./365. for x in t1])\n",
    "        \n",
    "        L = len(d)%365\n",
    "        if L >0:\n",
    "            d = d[:-L]\n",
    "            t = t[:len(d)]\n",
    "            \n",
    "        dat.append(d)\n",
    "        tim.append(t)\n",
    "    dat = np.concatenate(dat)\n",
    "    tim = np.concatenate(tim)\n",
    "    print ('Lengths: ',len(dat)%365, len(tim)%365,L)\n",
    "    \n",
    "    return dat, tim"
   ]
  },
  {
   "cell_type": "code",
   "execution_count": 7,
   "metadata": {},
   "outputs": [],
   "source": [
    "forcing_data = h5py.File(\"/Users/ajc/Core/PreProcessing/ats-intermediate-ngee/data/SNAP/CESM-RCP8.5-2006-2100_dm1985-2015-FM_2006.h5\",'r')"
   ]
  },
  {
   "cell_type": "code",
   "execution_count": null,
   "metadata": {},
   "outputs": [],
   "source": []
  },
  {
   "cell_type": "code",
   "execution_count": 8,
   "metadata": {},
   "outputs": [],
   "source": [
    "d1 = forcing_data['precipitation rain [m s^-1]']\n",
    "d2 = forcing_data['precipitation snow [m SWE s^-1]']\n",
    "rain_mm = np.reshape(d1,(-1,365)).mean(axis=1)*86400*365*1000\n",
    "snow_mm = np.reshape(d2,(-1,365)).mean(axis=1)*86400*365*1000\n",
    "precip_annual = snow_mm + rain_mm\n",
    "r1 = np.array(d1)*86400*1000\n",
    "r2 = np.array(d2)*86400*1000\n",
    "precip_daily = r1 + r2"
   ]
  },
  {
   "cell_type": "code",
   "execution_count": 9,
   "metadata": {},
   "outputs": [],
   "source": [
    "key_var = ['surface_star-evaporative_flux']"
   ]
  },
  {
   "cell_type": "code",
   "execution_count": 10,
   "metadata": {},
   "outputs": [],
   "source": [
    "\n",
    "def getSurfaceData(i,var,hdf_file='ats_vis_surface_star_data.h5',average=True):\n",
    "    Data = []\n",
    "    #print ('getSurfaceData: ',var,average)\n",
    "    for s in Simulations[i]:\n",
    "        infile = os.path.join(path,s,hdf_file)\n",
    "        print (infile)\n",
    "        dx=h5py.File(infile,'r')\n",
    "        d = np.array(readdata.GetSurfVarFromVis_All(infile,var)[var])\n",
    "        if (average):\n",
    "            d = d.mean(axis=1)\n",
    "        else:\n",
    "            d = d.sum(axis=1)\n",
    "        L = len(d)%365\n",
    "        if L >0:\n",
    "            d = d[:-L]\n",
    "        \n",
    "        Data.append(d)\n",
    "        \n",
    "    d = dict()\n",
    "    d[var] = np.concatenate(Data)\n",
    "    \n",
    "    return d"
   ]
  },
  {
   "cell_type": "code",
   "execution_count": null,
   "metadata": {},
   "outputs": [],
   "source": []
  },
  {
   "cell_type": "code",
   "execution_count": 11,
   "metadata": {},
   "outputs": [],
   "source": [
    "colors = ['r','k','g','m','c','y']\n",
    "marks = ['.','*', '+', 'o']\n",
    "marks = ['-','-','-']\n",
    "Labels = ['basecase','dynamic_sg']"
   ]
  },
  {
   "cell_type": "code",
   "execution_count": null,
   "metadata": {},
   "outputs": [],
   "source": []
  },
  {
   "cell_type": "code",
   "execution_count": 12,
   "metadata": {},
   "outputs": [
    {
     "name": "stdout",
     "output_type": "stream",
     "text": [
      "112635.47903126487\n"
     ]
    }
   ],
   "source": [
    "Slabels = ['S1', 'S6']\n",
    "path_sf =os.path.join(path, Simulations[0][0], 'ats_vis_surface_star_data.h5')\n",
    "file_surf= h5py.File(path_sf,'r')\n",
    "cycle = list(file_surf['surface_star-cell_volume.cell.0'].keys())[0]\n",
    "\n",
    "surface_area = np.sum(list(file_surf['surface_star-cell_volume.cell.0'][cycle]))\n",
    "print (surface_area)"
   ]
  },
  {
   "cell_type": "code",
   "execution_count": 13,
   "metadata": {},
   "outputs": [],
   "source": [
    "#spatially averaged over the watershed\n",
    "def Evaporation():\n",
    "    Colors = ['k','b','grey','g','r','m']\n",
    "    time = 2006 + np.linspace(0,94,94,dtype='int')\n",
    "    d3_sf = []\n",
    "    sf_change = 0\n",
    "    for i,sim in enumerate(Simulations):\n",
    "        var = 'surface_star-evaporative_flux'\n",
    "        d1 = getSurfaceData(i,var,hdf_file='ats_vis_surface_star_data.h5',average=True)[var]\n",
    "        d2 = [x*to_day_mm for x in d1]\n",
    "        d3_sf = [x*to_day_mm for x in d2] \n",
    "        sf_annual = np.reshape(d1,(-1,365)).mean(axis=1)*to_day_year_mm\n",
    "    return d3_sf, sf_annual"
   ]
  },
  {
   "cell_type": "code",
   "execution_count": 14,
   "metadata": {},
   "outputs": [
    {
     "name": "stdout",
     "output_type": "stream",
     "text": [
      "/Users/ajc/Core/simulations/projections/barrow_watershed/CESM_01/CESM_5050_R30_B/ats_vis_surface_star_data.h5\n"
     ]
    }
   ],
   "source": [
    "ET_daily, ET_annual = Evaporation()\n"
   ]
  },
  {
   "cell_type": "code",
   "execution_count": 15,
   "metadata": {},
   "outputs": [],
   "source": [
    "#spatially averaged over the watershed\n",
    "def WaterContent(var='surface_star-water_content'):\n",
    "    Colors = ['k','b','grey','g','r','m']\n",
    "    time = 2006 + np.linspace(0,94,94,dtype='int')\n",
    "    d3_sf = []\n",
    "    sf_annual = []\n",
    "    factor = 1/(mol_density *surface_area)\n",
    "    var_mdl='surface_star-molar_density_liquid'\n",
    "    for i,sim in enumerate(Simulations):\n",
    "        d1 = getSurfaceData(i,var,hdf_file='ats_vis_surface_star_data.h5',average=False)[var]\n",
    "        mdl = getSurfaceData(i,var=var_mdl,hdf_file='ats_vis_surface_star_data.h5',average=True)[var_mdl]\n",
    "        \n",
    "        d2 = [x*factor*to_mm for x in d1]\n",
    "        #factor = [1/(surface_area*x) for x in mdl]\n",
    "        #d2 = [x*f*to_mm for x,f in zip(d1,factor)]\n",
    "        #print (d2[:10])\n",
    "        f1 = np.reshape(d2,(-1,365))#.mean(axis=1)*to_year_mm #mm annual\n",
    "        for x in f1:\n",
    "            sf_annual.append(x[-1]-x[0])\n",
    "        #print (sf_annual,factor)\n",
    "        factor=1\n",
    "        d3_sf = [x*factor*to_mm for x in d1]  #mm daily\n",
    "    return d3_sf, sf_annual\n"
   ]
  },
  {
   "cell_type": "code",
   "execution_count": 23,
   "metadata": {},
   "outputs": [
    {
     "name": "stdout",
     "output_type": "stream",
     "text": [
      "/Users/ajc/Core/simulations/projections/barrow_watershed/CESM_01/CESM_5050_R30_B/ats_vis_surface_star_data.h5\n",
      "/Users/ajc/Core/simulations/projections/barrow_watershed/CESM_01/CESM_5050_R30_B/ats_vis_surface_star_data.h5\n",
      "/Users/ajc/Core/simulations/projections/barrow_watershed/CESM_01/CESM_5050_R30_B/ats_vis_surface_star_data.h5\n",
      "/Users/ajc/Core/simulations/projections/barrow_watershed/CESM_01/CESM_5050_R30_B/ats_vis_surface_star_data.h5\n"
     ]
    }
   ],
   "source": [
    "SF_wc_daily, SF_wc_annual = WaterContent()\n",
    "SS_wc_daily, SS_wc_annual = WaterContent(var='surface_star-column_water_content')"
   ]
  },
  {
   "cell_type": "code",
   "execution_count": null,
   "metadata": {},
   "outputs": [],
   "source": []
  },
  {
   "cell_type": "code",
   "execution_count": 24,
   "metadata": {
    "code_folding": []
   },
   "outputs": [],
   "source": [
    "#Snow water content for intermediate scale model is in m^3\n",
    "def WaterContentSnow(var='surface_star-water_content'):\n",
    "    Colors = ['k','b','grey','g','r','m']\n",
    "    time = 2006 + np.linspace(0,94,94,dtype='int')\n",
    "    d3_sf = []\n",
    "    sf_annual = []\n",
    "    factor = 1/surface_area*to_mm#*(915/1000.)\n",
    "    for i,sim in enumerate(Simulations):\n",
    "        d1 = getSurfaceData(i,var,hdf_file='ats_vis_surface_star_data.h5',average=False)[var]\n",
    "        d2 = [x*factor for x in d1]\n",
    "        d3 = np.reshape(d2,(-1,365))#.mean(axis=1)*to_day_year_mm #mm annual\n",
    "        for x in d3:\n",
    "            sf_annual.append(x[-1]-x[0])\n",
    "            \n",
    "        d3_sf = [x*to_mm for x in d2]  #mm daily\n",
    "    return d3_sf, sf_annual"
   ]
  },
  {
   "cell_type": "code",
   "execution_count": 25,
   "metadata": {},
   "outputs": [
    {
     "name": "stdout",
     "output_type": "stream",
     "text": [
      "/Users/ajc/Core/simulations/projections/barrow_watershed/CESM_01/CESM_5050_R30_B/ats_vis_surface_star_data.h5\n"
     ]
    }
   ],
   "source": [
    "Snow_wc_daily, Snow_wc_annual = WaterContentSnow(var='surface_star-water_equivalent')"
   ]
  },
  {
   "cell_type": "code",
   "execution_count": null,
   "metadata": {},
   "outputs": [],
   "source": []
  },
  {
   "cell_type": "code",
   "execution_count": 26,
   "metadata": {},
   "outputs": [],
   "source": [
    "#Read discharge\n",
    "def Discharge():\n",
    "    daily = []\n",
    "    annual = []\n",
    "    for i,sim in enumerate(Simulations):\n",
    "        var = 'surface_flux-day-integrated.dat'\n",
    "        d1, t1 = read_set(sim,var)\n",
    "        daily = [x/(55555.*surface_area)*to_mm for x in d1]\n",
    "        \n",
    "        annual = np.reshape(daily,(-1,365)).mean(axis=1)*365\n",
    "        print (annual)\n",
    "        #t2 = np.reshape(t1,(-1,365)).mean(axis=1)\n",
    "        #d2 = get_moving_average(d2)\n",
    "        #Q[Slabels[i] + '_time'] = np.array(t2)\n",
    "        #Q[Slabels[i] + '_data'] = np.array(d2)\n",
    "    return daily, annual "
   ]
  },
  {
   "cell_type": "code",
   "execution_count": 27,
   "metadata": {},
   "outputs": [
    {
     "name": "stdout",
     "output_type": "stream",
     "text": [
      "Lengths:  0 0 259\n",
      "[14.6694822   2.54727248  7.20494932 51.8739694  43.42509814  0.\n",
      "  3.24239516  0.09834822 39.85829735]\n"
     ]
    }
   ],
   "source": [
    "Q_daily, Q_annual = Discharge()"
   ]
  },
  {
   "cell_type": "code",
   "execution_count": 28,
   "metadata": {},
   "outputs": [
    {
     "name": "stdout",
     "output_type": "stream",
     "text": [
      "SF: [0.0, 0.0, 9.875595331571121]\n",
      "SS: [-3.597862869686651, 13.675663532219914, 8.579653024386062]\n",
      "Snow: [26.587895823783988, -26.027881362114584, 48.04248602412434]\n",
      "Storage: [22.990032954097337, -12.35221782989467, 66.49773438008151]\n",
      "ET: [224.05019205 258.80464017 218.3772691 ]\n",
      "P: [259.0004232  240.96071597 282.973601  ]\n"
     ]
    },
    {
     "data": {
      "text/plain": [
       "Text(0.5, 0, 'Year')"
      ]
     },
     "execution_count": 28,
     "metadata": {},
     "output_type": "execute_result"
    },
    {
     "data": {
      "image/png": "[encoded data removed]",
      "text/plain": [
       "<Figure size 432x288 with 1 Axes>"
      ]
     },
     "metadata": {
      "needs_background": "light"
     },
     "output_type": "display_data"
    }
   ],
   "source": [
    "\n",
    "#print (len(SF_wc_annual), len(SS_wc_annual), len(Snow_wc_annual), len(ET_annual), len(Q_annual))\n",
    "#print (len(SF_wc_annual), len(SS_wc_annual), len(Snow_wc_annual), len(ET_annual), len(Q_annual))\n",
    "print ('SF:',SF_wc_annual[:3])\n",
    "print ('SS:',SS_wc_annual[:3])\n",
    "print ('Snow:',Snow_wc_annual[:3])\n",
    "storage= [x+y+z for x,y,z in zip(SF_wc_annual,SS_wc_annual,Snow_wc_annual)]\n",
    "\n",
    "ET = ET_annual \n",
    "Q = Q_annual\n",
    "print ('Storage:',storage[:3])\n",
    "#print (Q[:3])\n",
    "print ('ET:',ET[:3])\n",
    "print ('P:', precip_annual[:3])\n",
    "#print (Q)\n",
    "f = []\n",
    "for i in range(len(ET)):\n",
    "    f.append(precip_annual[i] - (storage[i] + ET[i] + Q[i]))\n",
    "    #print (f, precip_annual[i], storage[i], ET[i], Q[i])\n",
    "    #break\n",
    "plt.plot(f,'b')\n",
    "plt.axhline(y=0)\n",
    "plt.text(0,1,r'$P - (\\Delta S + ET + Q)$', fontsize=14)\n",
    "plt.ylabel('Mass Balance [mm]',fontsize=12)\n",
    "plt.xlabel('Year',fontsize=12)"
   ]
  },
  {
   "cell_type": "code",
   "execution_count": null,
   "metadata": {},
   "outputs": [],
   "source": []
  },
  {
   "cell_type": "code",
   "execution_count": null,
   "metadata": {},
   "outputs": [],
   "source": []
  },
  {
   "cell_type": "code",
   "execution_count": null,
   "metadata": {},
   "outputs": [],
   "source": []
  },
  {
   "cell_type": "code",
   "execution_count": null,
   "metadata": {},
   "outputs": [],
   "source": []
  },
  {
   "cell_type": "code",
   "execution_count": null,
   "metadata": {},
   "outputs": [],
   "source": []
  },
  {
   "cell_type": "code",
   "execution_count": null,
   "metadata": {},
   "outputs": [],
   "source": []
  },
  {
   "cell_type": "code",
   "execution_count": null,
   "metadata": {},
   "outputs": [],
   "source": []
  },
  {
   "cell_type": "code",
   "execution_count": null,
   "metadata": {},
   "outputs": [],
   "source": []
  }
 ],
 "metadata": {
  "kernelspec": {
   "display_name": "Python 3",
   "language": "python",
   "name": "python3"
  },
  "language_info": {
   "codemirror_mode": {
    "name": "ipython",
    "version": 3
   },
   "file_extension": ".py",
   "mimetype": "text/x-python",
   "name": "python",
   "nbconvert_exporter": "python",
   "pygments_lexer": "ipython3",
   "version": "3.7.6"
  }
 },
 "nbformat": 4,
 "nbformat_minor": 4
}
