{
 "cells": [
  {
   "cell_type": "code",
   "execution_count": 2,
   "metadata": {},
   "outputs": [],
   "source": [
    "import sys, os\n",
    "import numpy as np\n",
    "import pandas as pd\n",
    "from matplotlib import pyplot as plt\n",
    "import scipy.signal\n",
    "import importlib\n",
    "import h5py\n",
    "sys.path.append('/Users/ajc/Core/PreProcessing/PyScript')\n"
   ]
  },
  {
   "cell_type": "code",
   "execution_count": null,
   "metadata": {},
   "outputs": [],
   "source": [
    "forcing_data = h5py.File(\"/Users/ajc/Core/PreProcessing/ats-intermediate-ngee/data/SNAP/CESM-RCP8.5-2006-2100_dm1985-2015-FM.h5\",'r')\n",
    "ILW_dm  = forcing_data['incoming longwave radiation [W m^-2]']\n",
    "T_dm  = forcing_data['air temperature [K]']\n",
    "RH_dm  = forcing_data['relative humidity [-]']\n",
    "time = [2006 + t/86400/365 for t in forcing_data['time [s]']]"
   ]
  },
  {
   "cell_type": "code",
   "execution_count": null,
   "metadata": {},
   "outputs": [],
   "source": []
  },
  {
   "cell_type": "code",
   "execution_count": null,
   "metadata": {},
   "outputs": [],
   "source": [
    "observed = h5py.File('/Users/ajc/Core/PreProcessing/forcing_data/Barrow-Observed/Barrow-2010_2016-updated-smooth-30pc.h5','r')\n",
    "ob_lwr = observed['incoming longwave radiation [W m^-2]']\n",
    "time0 = np.linspace(0,2512,2513)\n",
    "time0 = [2010 + t/365. for t in time0]\n"
   ]
  },
  {
   "cell_type": "code",
   "execution_count": null,
   "metadata": {},
   "outputs": [],
   "source": [
    "def SaturatedVaporPressure(temp):\n",
    "    tempC = temp - 273.15;\n",
    "    t = tempC / (tempC + 243.5)\n",
    "    return (0.6112 * np.exp(17.67 * t))\n",
    "\n",
    "def VaporPressureAir(air_temp,rh):\n",
    "    x = SaturatedVaporPressure(air_temp) * rh\n",
    "    return x"
   ]
  },
  {
   "cell_type": "code",
   "execution_count": null,
   "metadata": {},
   "outputs": [],
   "source": [
    "\n",
    "def air_emissivity(air_temp,rh):\n",
    "    x1 = air_temp / 2016.\n",
    "    x2 = VaporPressureAir(air_temp, rh)\n",
    "    e_exponent = np.power(10 * x2 , x1)\n",
    "    e_air = 1.08 * (1 - np.exp(-e_exponent))\n",
    "    return e_air\n",
    "\n",
    "def longwave(Ta, RH,scale=1):\n",
    "    c_stephan_boltzmann = 5.670373e-8\n",
    "    longwave = []\n",
    "    for t,r in zip(Ta,RH):\n",
    "        e_air = scale*air_emissivity(t,r)\n",
    "        longwave.append(e_air * c_stephan_boltzmann * np.power(t,4))\n",
    "    return longwave"
   ]
  },
  {
   "cell_type": "code",
   "execution_count": null,
   "metadata": {},
   "outputs": [],
   "source": [
    "lw_model = longwave(T_dm, RH_dm)"
   ]
  },
  {
   "cell_type": "code",
   "execution_count": null,
   "metadata": {},
   "outputs": [],
   "source": [
    "lw_model_biased = longwave(T_dm, RH_dm,scale=1.1)"
   ]
  },
  {
   "cell_type": "code",
   "execution_count": null,
   "metadata": {},
   "outputs": [],
   "source": []
  },
  {
   "cell_type": "code",
   "execution_count": null,
   "metadata": {},
   "outputs": [],
   "source": []
  },
  {
   "cell_type": "code",
   "execution_count": null,
   "metadata": {},
   "outputs": [],
   "source": [
    "#detrended temperature\n",
    "T_dm_avg = np.reshape(T_dm,(-1,365)).mean(axis=1)\n",
    "Time_avg = np.reshape(time,(-1,365)).mean(axis=1)\n",
    "\n",
    "f = np.polyfit(Time_avg, T_dm_avg,1)\n",
    "p = np.poly1d(f)\n",
    "T_dm_detrend = T_dm - p(time) +  np.array(T_dm).mean()\n",
    "plt.plot(time,T_dm_detrend)"
   ]
  },
  {
   "cell_type": "code",
   "execution_count": null,
   "metadata": {},
   "outputs": [],
   "source": [
    "lw_model_detrend = longwave(T_dm_detrend, RH_dm)"
   ]
  },
  {
   "cell_type": "code",
   "execution_count": null,
   "metadata": {},
   "outputs": [],
   "source": [
    "lw_model_scaled = []\n",
    "for x,y in zip(lw_model,lw_model_detrend):\n",
    "    ratio = x/y\n",
    "    lw_model_scaled.append(ratio*x)"
   ]
  },
  {
   "cell_type": "code",
   "execution_count": null,
   "metadata": {},
   "outputs": [],
   "source": []
  },
  {
   "cell_type": "code",
   "execution_count": null,
   "metadata": {},
   "outputs": [],
   "source": [
    "%matplotlib qt\n",
    "fig, axs = plt.subplots(3,1, figsize=(6,8.5), facecolor='w', edgecolor='k',gridspec_kw={'width_ratios':[1]})\n",
    "fig.subplots_adjust(hspace =.02, wspace=1.02)\n",
    "axs = axs.ravel()\n",
    "plt.tight_layout()\n",
    "\n",
    "\n",
    "for i in range(3):\n",
    "    axs[i].plot(time,ILW_dm,'k', label='Daymet observed')\n",
    "    axs[i].plot(time,lw_model,'r',label='Empirical model')\n",
    "    #axs[i].plot(time0,ob_lwr,'g',label='Barrow observed')\n",
    "    axs[i].plot(time,lw_model_scaled,'m',label='scaled')\n",
    "    \n",
    "    if i ==0:\n",
    "        f = np.polyfit(time, ILW_dm,1)\n",
    "        p = np.poly1d(f)\n",
    "        axs[i].plot(time,p(time),'k--', label='Daymet observed (trend)')\n",
    "    if i == 1:\n",
    "        axs[i].set_xlim(2010, 2016)\n",
    "    elif (i==2):\n",
    "        axs[i].set_xlim(2090, 2100)\n",
    "    axs[i].set_ylabel('ILW [W m^-2]', fontsize=12)\n",
    "axs[2].set_xlabel('Year', fontsize=12)\n",
    "axs[2].legend(loc='upper left',fontsize=8)\n",
    "plt.show()\n",
    "\n"
   ]
  },
  {
   "cell_type": "code",
   "execution_count": null,
   "metadata": {},
   "outputs": [],
   "source": [
    "%matplotlib qt\n",
    "fig, axs = plt.subplots(1,1, figsize=(8,5.5), facecolor='w', edgecolor='k',gridspec_kw={'width_ratios':[1]})\n",
    "fig.subplots_adjust(hspace =.02, wspace=1.02)\n",
    "#axs = axs.ravel()\n",
    "plt.tight_layout()\n",
    "\n",
    "\n",
    "    \n",
    "for i in range(1):\n",
    "    axs.plot(time,ILW_dm,'k', label='Daymet observed')\n",
    "    axs.plot(time,lw_model,'r',label='Empirical model')\n",
    "    #axs[i].plot(time0,ob_lwr,'g',label='Barrow observed')\n",
    "    axs.plot(time,lw_model_scaled,'m',label='scaled')\n",
    "    axs.plot(time,lw_model_biased,'g',label='biased = 1.1')\n",
    "\n",
    "    d1 = np.reshape(ILW_dm,(-1,365)).mean(axis=1)\n",
    "    t1 = np.reshape(time,(-1,365)).mean(axis=1)\n",
    "    f = np.polyfit(t1, d1,1)\n",
    "    p = np.poly1d(f)\n",
    "    axs.plot(time,p(time),'k-',linewidth=3)#, label='Daymet observed (trend)')\n",
    "    \n",
    "    d1 = np.reshape(lw_model,(-1,365)).mean(axis=1)\n",
    "    t1 = np.reshape(time,(-1,365)).mean(axis=1)\n",
    "    f = np.polyfit(t1, d1,1)\n",
    "    p = np.poly1d(f)\n",
    "    axs.plot(time,p(time),'r-',linewidth=3)#, label='Daymet observed (trend)')\n",
    "    \n",
    "    d1 = np.reshape(lw_model_scaled,(-1,365)).mean(axis=1)\n",
    "    t1 = np.reshape(time,(-1,365)).mean(axis=1)\n",
    "    f = np.polyfit(t1, d1,1)\n",
    "    p = np.poly1d(f)\n",
    "    axs.plot(time,p(time),'m-',linewidth=3)#, label='Daymet observed (trend)')\n",
    "    \n",
    "    d1 = np.reshape(lw_model_biased,(-1,365)).mean(axis=1)\n",
    "    t1 = np.reshape(time,(-1,365)).mean(axis=1)\n",
    "    f = np.polyfit(t1, d1,1)\n",
    "    p = np.poly1d(f)\n",
    "    axs.plot(time,p(time),'g-',linewidth=3)#, label='Daymet observed (trend)')\n",
    "    \n",
    "    axs.set_ylabel('ILW [W m^-2]', fontsize=12)\n",
    "axs.set_xlabel('Year', fontsize=12)\n",
    "axs.legend(loc='upper left',fontsize=8)\n",
    "plt.show()\n",
    "\n",
    "\n"
   ]
  },
  {
   "cell_type": "code",
   "execution_count": 29,
   "metadata": {},
   "outputs": [
    {
     "name": "stdout",
     "output_type": "stream",
     "text": [
      "-100000.0 101225\n"
     ]
    }
   ],
   "source": [
    "import math\n",
    "press = np.linspace(-101325, 104325.,101)\n",
    "kr = []\n",
    "h_cutoff_up_ = 20\n",
    "h_cutoff_dn_ = -100\n",
    "alpha_ = 8\n",
    "un_frozen = np.linspace(0,1.,101)\n",
    "#uf = un_frozen[50]\n",
    "h = 101325. *0 - 1.e+5\n",
    "print (h, 101325 + h_cutoff_dn_)\n",
    "for uf in un_frozen: \n",
    "    if (h >= 101355. + h_cutoff_up_):\n",
    "        x = np.power(np.sin(np.pi * uf / 2.), alpha_)\n",
    "        kr.append(x)    \n",
    "    elif (h <= 101325 + h_cutoff_dn_):\n",
    "        kr.append(1.)\n",
    "    else:\n",
    "        fac = (h - (101325 + h_cutoff_dn_)) / (h_cutoff_up_ - h_cutoff_dn_)\n",
    "        #print (fac)\n",
    "        x = (1-fac) + fac*np.power(np.sin(math.pi * uf / 2.), alpha_)\n",
    "        kr.append(x)"
   ]
  },
  {
   "cell_type": "code",
   "execution_count": 30,
   "metadata": {},
   "outputs": [
    {
     "data": {
      "text/plain": [
       "[<matplotlib.lines.Line2D at 0x7fa5f4869d50>]"
      ]
     },
     "execution_count": 30,
     "metadata": {},
     "output_type": "execute_result"
    },
    {
     "data": {
      "image/png": "[encoded data removed]",
      "text/plain": [
       "<Figure size 432x288 with 1 Axes>"
      ]
     },
     "metadata": {
      "needs_background": "light"
     },
     "output_type": "display_data"
    }
   ],
   "source": [
    "plt.plot(un_frozen,kr)"
   ]
  },
  {
   "cell_type": "code",
   "execution_count": null,
   "metadata": {},
   "outputs": [],
   "source": []
  }
 ],
 "metadata": {
  "kernelspec": {
   "display_name": "Python 3",
   "language": "python",
   "name": "python3"
  },
  "language_info": {
   "codemirror_mode": {
    "name": "ipython",
    "version": 3
   },
   "file_extension": ".py",
   "mimetype": "text/x-python",
   "name": "python",
   "nbconvert_exporter": "python",
   "pygments_lexer": "ipython3",
   "version": "3.7.6"
  }
 },
 "nbformat": 4,
 "nbformat_minor": 4
}
