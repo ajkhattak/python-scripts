{
 "cells": [
  {
   "cell_type": "code",
   "execution_count": 1,
   "metadata": {},
   "outputs": [],
   "source": [
    "import sys, os\n",
    "import numpy as np\n",
    "import pandas as pd\n",
    "from matplotlib import pyplot as plt\n",
    "import scipy.signal\n",
    "import importlib\n",
    "import h5py\n",
    "sys.path.append('/Users/ajc/Core/PyScript')\n",
    "import readdata"
   ]
  },
  {
   "cell_type": "code",
   "execution_count": null,
   "metadata": {},
   "outputs": [],
   "source": []
  },
  {
   "cell_type": "code",
   "execution_count": 23,
   "metadata": {},
   "outputs": [],
   "source": [
    "path = \"/Users/ajc/Core/simulations/projections/barrow_watershed\"\n",
    "outfile ='/Users/ajc/Core/PostProcessing/barrow_watershed/2021/August/'"
   ]
  },
  {
   "cell_type": "code",
   "execution_count": 3,
   "metadata": {},
   "outputs": [],
   "source": [
    "colors = ['r','blue','grey','green','darkgreen','k']\n",
    "marks = ['.','*', '+', 'o']\n",
    "marks = ['-','-','-','-','-']\n",
    "\n",
    "SimLabels = ['S%s'%i for i in range(3,0,-1)]"
   ]
  },
  {
   "cell_type": "code",
   "execution_count": 4,
   "metadata": {},
   "outputs": [],
   "source": [
    "#Set 1 : flow processes\n",
    "S1 = [os.path.join(path, 'CESM_04/CESM_5050_R1%s_B'%i) for i in range(3)]\n",
    "S3 = [os.path.join(path, 'CESM_05/CESM_I5050_P80_R3%s'%i) for i in range(1)] \n",
    "S5 = [os.path.join(path, 'CESM_05/CESM_I5050_P80_R5%s'%i) for i in range(1)]\n",
    "Simulations = [S5, S3, S1]\n",
    "Labels = ['dynamic-microtopography','static-microtopography','no-microtopography']"
   ]
  },
  {
   "cell_type": "code",
   "execution_count": null,
   "metadata": {},
   "outputs": [],
   "source": [
    "# Set 2: ice rich top porosity sensitivity \n",
    "S5_P80 = [os.path.join(path, 'CESM_05/CESM_I5050_P80_R5%s'%i) for i in range(1)]\n",
    "S5_P70 = [os.path.join(path, 'CESM_05/CESM_I5050_P70_R5%s'%i) for i in range(1)]\n",
    "S5_P90 = [os.path.join(path, 'CESM_05/CESM_I5050_P90_R5%s'%i) for i in range(1)]\n",
    "Simulations = [S5_P80, S5_P70, S5_P90]\n",
    "Labels = ['dynamic-microtopography (por = 80%)','dynamic-microtopography (por = 70%)','dynamic-microtopography (por = 90%)']"
   ]
  },
  {
   "cell_type": "code",
   "execution_count": null,
   "metadata": {},
   "outputs": [],
   "source": [
    "# Set 2: ice rich top porosity sensitivity\n",
    "S5_D0515 = [os.path.join(path, 'CESM_05/CESM_I5050_P80_R5%s'%i) for i in range(1)]\n",
    "S5_D0020 = [os.path.join(path, 'CESM_05/CESM_I5050_P80_R5%s_D0020'%i) for i in range(1)]\n",
    "S5_D1010 = [os.path.join(path, 'CESM_05/CESM_I5050_P80_R5%s_D1010'%i) for i in range(1)]\n",
    "S5_D2020 = [os.path.join(path, 'CESM_05/CESM_I5050_P80_R5%s_D2020'%i) for i in range(1)]\n",
    "Simulations = [S5_D0515, S5_D0020, S5_D1010,S5_D2020]\n",
    "Labels = ['dynamic-microtopography (d = [5,15])','dynamic-microtopography (d = [0,2])',\n",
    "          'dynamic-microtopography (d = [10,10])', 'dynamic-microtopography (d = [20,20])']\n",
    "\n"
   ]
  },
  {
   "cell_type": "code",
   "execution_count": 5,
   "metadata": {},
   "outputs": [
    {
     "data": {
      "text/plain": [
       "3"
      ]
     },
     "execution_count": 5,
     "metadata": {},
     "output_type": "execute_result"
    }
   ],
   "source": [
    "sim_len = len(Simulations)\n",
    "sim_len"
   ]
  },
  {
   "cell_type": "code",
   "execution_count": 6,
   "metadata": {},
   "outputs": [
    {
     "name": "stdout",
     "output_type": "stream",
     "text": [
      "112635.47903126487\n"
     ]
    }
   ],
   "source": [
    "#path_sf =\"/Users/ajc/Core/simulations/projections/barrow_watershed_02/CESM_15/CESM_5050_R60_B/visdump_surface_star_data.h5\"\n",
    "#file_surf= h5py.File(path_sf,'r')\n",
    "#surface_area = np.sum(list(file_surf['surface_star-cell_volume.cell.0']['100095']))\n",
    "surface_area = 112635.47903126487\n",
    "print (surface_area)\n",
    "molar_density = 55500."
   ]
  },
  {
   "cell_type": "code",
   "execution_count": 7,
   "metadata": {},
   "outputs": [],
   "source": [
    "def read_file(file):\n",
    "    d = np.loadtxt(file,usecols=1,skiprows=6)\n",
    "    t1 = np.loadtxt(file,usecols=0,skiprows=6)\n",
    "    t = np.array([x/86400./365. for x in t1])\n",
    "    #print (len(d),len(t))\n",
    "    l = np.minimum(len(d),len(t))\n",
    "    return d[:l],t[:l]\n",
    "\n",
    "def read_set(set,var='surface_flux-halfday.dat'):\n",
    "    dat = []\n",
    "    tim = []\n",
    "    for s in set:\n",
    "        file = os.path.join(path,s, var)\n",
    "        #print (file)\n",
    "        d = np.loadtxt(file,usecols=1,skiprows=6)\n",
    "        t1 = np.loadtxt(file,usecols=0,skiprows=6)\n",
    "        t = np.array([x/86400./365. for x in t1])\n",
    "        \n",
    "        L = len(d)%(365*2)\n",
    "        if L >0:\n",
    "            d = d[:-L]\n",
    "            t = t[:len(d)]\n",
    "            \n",
    "        dat.append(d)\n",
    "        tim.append(t)\n",
    "    dat = np.concatenate(dat)\n",
    "    tim = np.concatenate(tim)\n",
    "    \n",
    "    return dat, tim\n"
   ]
  },
  {
   "cell_type": "code",
   "execution_count": null,
   "metadata": {},
   "outputs": [],
   "source": []
  },
  {
   "cell_type": "code",
   "execution_count": 8,
   "metadata": {},
   "outputs": [],
   "source": [
    "def get_vars_names(simul):\n",
    "    names = dict()\n",
    "    #file = os.path.join(Simulations[0][0],'data_collection.dat')\n",
    "    file = os.path.join(simul,'data_collection.dat')\n",
    "    with open(file) as fd:\n",
    "        count = 0\n",
    "        for f in fd:\n",
    "            if ('Observation Name' in f):\n",
    "                f1 = f.split(':')\n",
    "                #print (f1, f[-1])\n",
    "                if 'time [d]' in f1[-1]:\n",
    "                    names['Time'] = count\n",
    "                    #print (f1, f1[-1],names)\n",
    "                elif 'outlet discharge [mol d^-1]' in f1[-1]:\n",
    "                    names['Discharge'] = count \n",
    "                elif 'total evaporation [m d^-1]' in f1[-1]:\n",
    "                    names['ET'] = count\n",
    "                elif 'snow precipitation [m d^-1]' in f1[-1]:\n",
    "                    names['Psnow'] = count\n",
    "                elif 'rain precipitation [m d^-1]' in f1[-1]:\n",
    "                    names['Prain'] = count\n",
    "                elif 'subsurface water content [mol]' in f1[-1]:\n",
    "                    names['SS_wc'] = count\n",
    "                    #print (count)\n",
    "                elif 'surface water content [mol]' in f1[-1]:\n",
    "                    #print (count)\n",
    "                    names['Sf_wc'] = count\n",
    "                elif 'snow water content [mol]' in f1[-1]: #but this is in m^3 correction\n",
    "                    names['Snow_wc'] = count\n",
    "                elif 'surface air temperature [K]' in f1[-1]:\n",
    "                    names['Tair'] = count\n",
    "                elif 'surface carbon decomposition rate [-]' in f1[-1]:\n",
    "                    names['Sf_CDR'] = count\n",
    "                elif 'surface moisture content [-]' in f1[-1]:\n",
    "                    names['Sf_mc'] = count\n",
    "                elif 'surface gas content [-]' in f1[-1]:\n",
    "                    names['Sf_gc'] = count\n",
    "                elif 'surface volumetric wc [-]' in f1[-1]:\n",
    "                    names['Sf_vol_wc'] = count\n",
    "                elif 'surface gas content [-]' in f1[-1]:\n",
    "                    names['Sf_gc'] = count\n",
    "                elif 'surface column average temperature [K]' in f1[-1]:\n",
    "                    names['Sf_avg_T'] = count\n",
    "                elif 'surface ALT average temperature [K]' in f1[-1]:\n",
    "                    names['Sf_ALT_avg_T'] = count\n",
    "                elif 'surface saturated_fraction [-]' in f1[-1]:\n",
    "                    names['Sf_sat_frac'] = count\n",
    "                elif 'surface thaw depth min [m]' in f1[-1]:\n",
    "                    names['Sf_TD_min'] = count\n",
    "                elif 'surface thaw depth max [m]' in f1[-1]:\n",
    "                    names['Sf_TD_max'] = count\n",
    "                elif 'surface maximum thaw depth [m]' in f1[-1]:\n",
    "                    names['Sf_maxTD'] = count\n",
    "                elif 'surface water table [m]' in f1[-1]:\n",
    "                    names['Sf_WT'] = count\n",
    "                elif 'surface subsurface exchange [m]' in f1[-1]:\n",
    "                    names['Sf_exchangeFlux'] = count\n",
    "                elif 'surface initial elevation [m]' in f1[-1]:\n",
    "                    names['Sf_InitElev'] = count\n",
    "                elif 'surface mean subsidence [m]' in f1[-1]:\n",
    "                    names['Sf_mean_Subsidence'] = count\n",
    "                else:\n",
    "                    #names['Sf_DNE_%s'%count] = count\n",
    "                    print ('DNE:',count, f[-1])\n",
    "                count = count + 1\n",
    "    return names"
   ]
  },
  {
   "cell_type": "code",
   "execution_count": null,
   "metadata": {},
   "outputs": [],
   "source": []
  },
  {
   "cell_type": "code",
   "execution_count": 9,
   "metadata": {},
   "outputs": [],
   "source": [
    "#forcing = h5py.File(\"/Users/ajc/FUSE/simulations/production/barrow_watershed/data/CESM/CESM-RCP8_5-2006-2100_snowadjusted_supersmoothDM_2006.h5\",'r')\n",
    "forcing_watershed_FM = h5py.File(\"/Users/ajc/Core/PreProcessing/ats-intermediate-ngee/data/SNAP/CESM-RCP8.5-2006-2100_dm1985-2015-FM_2006.h5\",'r')"
   ]
  },
  {
   "cell_type": "code",
   "execution_count": 46,
   "metadata": {},
   "outputs": [
    {
     "name": "stdout",
     "output_type": "stream",
     "text": [
      "270.79911974314734 473.57967439800024 (array([1]),) (array([19]),)\n",
      "473.57967439800024 28 473.57967439800024\n",
      "125.73579507761184 10 125.73579507761184\n",
      "125.73579507761184 20 265.0558705193602\n"
     ]
    },
    {
     "data": {
      "text/plain": [
       "<matplotlib.lines.Line2D at 0x7fbc54561c90>"
      ]
     },
     "execution_count": 46,
     "metadata": {},
     "output_type": "execute_result"
    },
    {
     "data": {
      "image/png": "[encoded data removed]",
      "text/plain": [
       "<Figure size 432x288 with 1 Axes>"
      ]
     },
     "metadata": {
      "needs_background": "light"
     },
     "output_type": "display_data"
    }
   ],
   "source": [
    "d1 = forcing_watershed_FM['precipitation rain [m s^-1]']\n",
    "d2 = forcing_watershed_FM['precipitation snow [m SWE s^-1]']\n",
    "rain_mm = np.reshape(d1,(-1,365)).mean(axis=1)*86400*365*1000\n",
    "snow_mm = np.reshape(d2,(-1,365)).mean(axis=1)*86400*365*1000\n",
    "precip_annual = snow_mm + rain_mm\n",
    "r1 = np.array(d1)*86400*1000\n",
    "r2 = np.array(d2)*86400*1000\n",
    "precip_daily = r1 + r2\n",
    "\n",
    "s= 9 \n",
    "e = s + 31\n",
    "pmax,pmin = np.max(precip_annual[s:e]), np.min(precip_annual[s:e])\n",
    "print (np.mean(precip_annual[s:e]), np.max(precip_annual[s:e]), np.where(precip_annual[s:e]== pmin), np.where(precip_annual[s:e]== pmax))\n",
    "print (pmax, s+19, precip_annual[28])\n",
    "print (pmin, s+1, precip_annual[10])\n",
    "print (pmin, s+11, precip_annual[20]) #typical\n",
    "x3 = np.arange(s,e,1)\n",
    "#print(x3)\n",
    "plt.plot(x3,precip_annual[s:e],'r*')\n",
    "plt.plot(precip_annual[:e],'k')\n",
    "plt.axhline(270)\n",
    "plt.axvline(20)"
   ]
  },
  {
   "cell_type": "code",
   "execution_count": null,
   "metadata": {},
   "outputs": [],
   "source": []
  },
  {
   "cell_type": "code",
   "execution_count": 11,
   "metadata": {},
   "outputs": [],
   "source": [
    "def get_moving_average(d, m=5):\n",
    "    d_avg = []\n",
    "    len1 = len(d)\n",
    "    for i in range(len1):\n",
    "        if i < m:\n",
    "            s1 = np.mean(d[:i+1])\n",
    "        else:\n",
    "            s1= np.mean(d[i-m:i])\n",
    "\n",
    "        d_avg.append(s1)\n",
    "    return d_avg"
   ]
  },
  {
   "cell_type": "code",
   "execution_count": null,
   "metadata": {},
   "outputs": [],
   "source": []
  },
  {
   "cell_type": "code",
   "execution_count": null,
   "metadata": {},
   "outputs": [],
   "source": []
  },
  {
   "cell_type": "code",
   "execution_count": null,
   "metadata": {},
   "outputs": [],
   "source": []
  },
  {
   "cell_type": "code",
   "execution_count": 12,
   "metadata": {},
   "outputs": [],
   "source": [
    "#Read discharge\n",
    "\n",
    "time = 2006 + np.linspace(0,94,94,dtype='int')\n",
    "to_day_mm = 86400 * 1000\n",
    "to_year_mm = 86400 * 365 * 1000\n",
    "basin_area = 112635.48\n",
    "to_mm = 1000."
   ]
  },
  {
   "cell_type": "code",
   "execution_count": 13,
   "metadata": {},
   "outputs": [
    {
     "name": "stdout",
     "output_type": "stream",
     "text": [
      "/Users/ajc/Core/simulations/projections/barrow_watershed/CESM_05/CESM_I5050_P80_R50 23\n",
      "/Users/ajc/Core/simulations/projections/barrow_watershed/CESM_05/CESM_I5050_P80_R30 21\n",
      "/Users/ajc/Core/simulations/projections/barrow_watershed/CESM_04/CESM_5050_R10_B 16\n",
      "/Users/ajc/Core/simulations/projections/barrow_watershed/CESM_04/CESM_5050_R11_B 16\n",
      "/Users/ajc/Core/simulations/projections/barrow_watershed/CESM_04/CESM_5050_R12_B 16\n",
      "Index(['', 'Time', 'Discharge', 'ET', 'Psnow', 'Prain', 'Sf_wc', 'SS_wc',\n",
      "       'Snow_wc', 'Tair', 'Sf_CDR', 'Sf_mc', 'Sf_gc', 'Sf_vol_wc', 'Sf_avg_T',\n",
      "       'Sf_ALT_avg_T', 'Sf_sat_frac'],\n",
      "      dtype='object')\n",
      "Index(['', 'Time', 'Discharge', 'ET', 'Psnow', 'Prain', 'Sf_wc', 'SS_wc',\n",
      "       'Snow_wc', 'Tair', 'Sf_CDR', 'Sf_mc', 'Sf_gc', 'Sf_vol_wc', 'Sf_avg_T',\n",
      "       'Sf_ALT_avg_T', 'Sf_sat_frac', 'Sf_TD_min', 'Sf_TD_max', 'Sf_maxTD',\n",
      "       'Sf_WT', 'Sf_exchangeFlux'],\n",
      "      dtype='object')\n",
      "Index(['', 'Time', 'Discharge', 'ET', 'Psnow', 'Prain', 'Sf_wc', 'SS_wc',\n",
      "       'Snow_wc', 'Tair', 'Sf_CDR', 'Sf_mc', 'Sf_gc', 'Sf_vol_wc', 'Sf_avg_T',\n",
      "       'Sf_ALT_avg_T', 'Sf_sat_frac', 'Sf_TD_min', 'Sf_TD_max', 'Sf_maxTD',\n",
      "       'Sf_WT', 'Sf_InitElev', 'Sf_mean_Subsidence', 'Sf_exchangeFlux'],\n",
      "      dtype='object')\n"
     ]
    }
   ],
   "source": [
    "def get_daily_data():\n",
    "    daily = dict()\n",
    "    for i,sim in enumerate(Simulations):\n",
    "        df = pd.DataFrame(columns=[''])\n",
    "        #df.columns = names.keys()\n",
    "        \n",
    "        for s in sim:\n",
    "            file = os.path.join(s,'data_collection.dat')\n",
    "            \n",
    "            df1 = pd.read_csv(file, comment='#')\n",
    "            names = get_vars_names(s)\n",
    "            #print (names)\n",
    "            print (s, len(names.keys()))\n",
    "            df1.columns = names.keys()\n",
    "            #print (names.keys())\n",
    "            rows,cols = df1.shape\n",
    "            rows = rows - rows%365.\n",
    "            df1 = df1.truncate(before=0,after=rows-1,axis='index')\n",
    "            #break\n",
    "            df = df.append(df1)\n",
    "            #print (df)\n",
    "        daily[SimLabels[i]] = df\n",
    "        \n",
    "    return daily\n",
    "\n",
    "SimData_daily = get_daily_data()\n",
    "print (SimData_daily['S1'].keys())\n",
    "print (SimData_daily['S2'].keys())\n",
    "print (SimData_daily['S3'].keys())"
   ]
  },
  {
   "cell_type": "code",
   "execution_count": 14,
   "metadata": {},
   "outputs": [],
   "source": [
    "def getSurfaceData():\n",
    "    Data = []\n",
    "    var ='surface_star-thaw_depth'\n",
    "    for i,sim in enumerate(Simulations[2]):\n",
    "\n",
    "        infile = os.path.join(sim,'ats_vis_surface_star_data.h5')\n",
    "        dx=h5py.File(infile,'r')\n",
    "        Dat11 = np.array(readdata.GetSurfVarFromVis_All(infile,var)[var])\n",
    "        Dat11 = Dat11.max(axis=1)\n",
    "        a1 = len(Dat11)%365\n",
    "        a2 = len(Dat11) - a1\n",
    "\n",
    "        Dat = Dat11[:a2]\n",
    "        Data.append(Dat)\n",
    "\n",
    "    #d = dict()\n",
    "    #d[var] = np.concatenate(Data)\n",
    "    d = np.concatenate(Data)\n",
    "    \n",
    "    return d"
   ]
  },
  {
   "cell_type": "code",
   "execution_count": 15,
   "metadata": {},
   "outputs": [],
   "source": [
    "SimData_daily['S1']['Sf_TD_max'] = getSurfaceData()"
   ]
  },
  {
   "cell_type": "code",
   "execution_count": null,
   "metadata": {},
   "outputs": [],
   "source": []
  },
  {
   "cell_type": "code",
   "execution_count": 16,
   "metadata": {},
   "outputs": [
    {
     "name": "stdout",
     "output_type": "stream",
     "text": [
      "dict_keys(['S3', 'S2', 'S1']) ['S3', 'S2', 'S1']\n",
      "dict_keys(['S3', 'S2', 'S1']) ['S3', 'S2', 'S1']\n"
     ]
    }
   ],
   "source": [
    "#print (SimData_daily)\n",
    "to_year = 365\n",
    "to_mm = 1000\n",
    "def get_discharge():\n",
    "    Q_daily = dict()\n",
    "    Q_annual = dict()\n",
    "    size = len(SimData_daily.keys())\n",
    "    keys = list(SimData_daily.keys())\n",
    "    print (SimData_daily.keys(),keys)\n",
    "    for i in range(size):\n",
    "        convert = 1/(molar_density*surface_area)\n",
    "        d = [x* convert for x in SimData_daily[keys[i]]['Discharge'] ]\n",
    "        Q_daily[keys[i]]= d*to_mm\n",
    "        #print (d.shape)\n",
    "        Q_annual[keys[i]]= np.reshape(d,(-1,365)).mean(axis=1)*to_year * to_mm\n",
    "    return Q_daily, Q_annual\n",
    "Q_daily, Q_annual = get_discharge()\n",
    "\n",
    "\n",
    "def get_time():\n",
    "    T_daily = dict()\n",
    "    T_annual = dict()\n",
    "    size = len(SimData_daily.keys())\n",
    "    keys = list(SimData_daily.keys())\n",
    "    print (SimData_daily.keys(),keys)\n",
    "    for i in range(size):\n",
    "        convert = 1./(365)\n",
    "        d = [1985 + x* convert for x in SimData_daily[keys[i]]['Time'] ]\n",
    "        T_daily[keys[i]]= d\n",
    "        T_annual[keys[i]]= np.reshape(d,(-1,365)).mean(axis=1)\n",
    "    return T_daily, T_annual\n",
    "T_daily, T_annual = get_time()"
   ]
  },
  {
   "cell_type": "code",
   "execution_count": 17,
   "metadata": {},
   "outputs": [],
   "source": [
    "def get_ET():\n",
    "    ET_daily = dict()\n",
    "    ET_annual = dict()\n",
    "    size = len(SimData_daily.keys())\n",
    "    keys = list(SimData_daily.keys())\n",
    "    #print (SimData_daily.keys(),keys)\n",
    "    for i in range(size):\n",
    "        convert = 1\n",
    "        d = [x* convert for x in SimData_daily[keys[i]]['ET'] ]\n",
    "        ET_daily[keys[i]]= d*to_mm\n",
    "        ET_annual[keys[i]]= np.reshape(d,(-1,365)).mean(axis=1)*to_year * to_mm\n",
    "    return ET_daily, ET_annual\n",
    "ET_daily, ET_annual = get_ET()"
   ]
  },
  {
   "cell_type": "code",
   "execution_count": 18,
   "metadata": {},
   "outputs": [],
   "source": [
    "def get_saturated_fraction():\n",
    "    SFrac_daily = dict()\n",
    "    SFrac_annual = dict()\n",
    "    size = len(SimData_daily.keys())\n",
    "    keys = list(SimData_daily.keys())\n",
    "    for i in range(size):\n",
    "        convert = 1\n",
    "        d = [x* convert for x in SimData_daily[keys[i]]['Sf_sat_frac'] ]\n",
    "        SFrac_daily[keys[i]]= d\n",
    "        SFrac_annual[keys[i]]= np.reshape(d,(-1,365)).mean(axis=1)\n",
    "    return SFrac_daily, SFrac_annual\n",
    "SFrac_daily, SFrac_annual = get_saturated_fraction()\n",
    "\n",
    "\n",
    "def get_ave_TD():\n",
    "    ATD_daily = dict()\n",
    "    ATD_annual = dict()\n",
    "    ATDmin_annual = dict()\n",
    "    ATDmax_annual = dict()\n",
    "    size = len(SimData_daily.keys())\n",
    "    keys = list(SimData_daily.keys())\n",
    "    \n",
    "    for i in range(size):\n",
    "        #dmin = np.array([x for x in SimData_daily[keys[i]]['Sf_TD_min'] ])\n",
    "        dmax = np.array([x for x in SimData_daily[keys[i]]['Sf_TD_max'] ])\n",
    "        #d = [(xmin + xmax)/2.0 for xmin,xmax in zip(dmin, dmax)]\n",
    "        #ATD_daily[keys[i]]= d\n",
    "        #print (np.min(dmax), np.max(dmax))\n",
    "        #print (np.nonzero(dmax), dmax)\n",
    "        #minval = np.min(dmin[np.nonzero(dmin)])\n",
    "        \n",
    "        dd = np.reshape(dmax,(-1,365))#.mean(axis=1)\n",
    "        dat = []\n",
    "        for d2 in dd:\n",
    "            x2 = np.mean(d2[np.nonzero(d2)])\n",
    "            dat.append(x2)\n",
    "            #print (d2)\n",
    "            #break\n",
    "        ATD_annual[keys[i]] = dat\n",
    "        #print (len(ATD_annual[keys[i]]))\n",
    "        #ATDmin_annual[keys[i]] =  minval\n",
    "        #ATDmax_annual[keys[i]] =  maxval\n",
    "    return ATD_daily, ATD_annual\n",
    "ATD_daily, ATD_annual = get_ave_TD()"
   ]
  },
  {
   "cell_type": "code",
   "execution_count": null,
   "metadata": {},
   "outputs": [],
   "source": []
  },
  {
   "cell_type": "code",
   "execution_count": 19,
   "metadata": {},
   "outputs": [],
   "source": [
    "def get_Carbon():\n",
    "    CDR_daily = dict()\n",
    "    CDR_annual = dict()\n",
    "    size = len(SimData_daily.keys())\n",
    "    keys = list(SimData_daily.keys())\n",
    "    for i in range(size):\n",
    "        convert = 1#/(molar_density*surface_area)\n",
    "        d = [x * convert for x in SimData_daily[keys[i]]['Sf_CDR'] ] \n",
    "        CDR_daily[keys[i]]= d#*to_mm\n",
    "        CDR_annual[keys[i]]= np.reshape(d,(-1,365)).sum(axis=1)#*to_year #* to_mm\n",
    "    return CDR_daily, CDR_annual\n",
    "CDR_daily, CDR_annual = get_Carbon()\n"
   ]
  },
  {
   "cell_type": "code",
   "execution_count": 20,
   "metadata": {},
   "outputs": [
    {
     "name": "stdout",
     "output_type": "stream",
     "text": [
      "[9, 40, 71]\n",
      "[224.62991709 225.79812852 227.07399404]\n"
     ]
    }
   ],
   "source": []
  },
  {
   "cell_type": "markdown",
   "metadata": {},
   "source": [
    "# Typical year"
   ]
  },
  {
   "cell_type": "code",
   "execution_count": 82,
   "metadata": {},
   "outputs": [
    {
     "name": "stdout",
     "output_type": "stream",
     "text": [
      "[20, 51, 82]\n",
      "[265.05587052 266.38374727 267.71162401]\n",
      "[0.6634453389830403, 0.9317048507462569, 1.3802929971988656]\n",
      "[0.6026072538860103, 0.8697542168674698, 1.274544314868805]\n",
      "[0.5861153285893885, 0.8320265586131714, 1.144494319357975]\n"
     ]
    },
    {
     "data": {
      "image/png": "[encoded data removed]",
      "text/plain": [
       "<Figure size 576x432 with 4 Axes>"
      ]
     },
     "metadata": {},
     "output_type": "display_data"
    }
   ],
   "source": [
    "cesm_years_o = [2015+11, 2015 + 11 +31, 2015 + 11 +31*2] \n",
    "cesm_years = [x - 2006 for x in cesm_years_o]\n",
    "\n",
    "print (cesm_years)\n",
    "print (precip_annual[cesm_years], )\n",
    "\n",
    "fig, axs = plt.subplots(2,2, figsize=(8,6), facecolor='w', edgecolor='k',gridspec_kw={'width_ratios':[1,1]})\n",
    "fig.subplots_adjust(hspace =.02, wspace=1.02)\n",
    "plt.tight_layout()\n",
    "axs = axs.ravel()\n",
    "\n",
    "x = np.arange(0,3,1)\n",
    "Colors = ['r', 'g', 'b','grey']\n",
    "\n",
    "# Discharge\n",
    "#dat = []\n",
    "for i1, i in enumerate([2,1,0]):\n",
    "    s = SimLabels[i]\n",
    "    d = []\n",
    "    d1 = get_moving_average(Q_annual[s],m=1)\n",
    "    for k1,k in enumerate(cesm_years):\n",
    "        d.append(Q_annual[s][k])\n",
    "    #dat.append(d)\n",
    "    xx = x + i1*0.2\n",
    "    axs[0].bar(xx, height=d, width=0.2,color=Colors[i],alpha=0.9,label=Labels[i])\n",
    "\n",
    "    pc = np.polyfit(xx, d, 1)\n",
    "    p = np.poly1d(pc)\n",
    "    xxx = np.arange(-.15,2.7,0.1)\n",
    "    axs[0].plot(xxx,p(xxx),color=Colors[i], linestyle='--')\n",
    "\n",
    "axs[0].set_ylabel('MA Q [mm]',fontsize=12, fontweight='normal')\n",
    "axs[0].set_xticks(x+0.2)\n",
    "axs[0].set_xticklabels(cesm_years_o)\n",
    "\n",
    "axs[0].set_yticks(np.arange(0,150.01,50))\n",
    "axs[0].set_ylim(0,150)\n",
    "\n",
    "# ET\n",
    "dat = []\n",
    "for i1, i in enumerate([2,1,0]):\n",
    "    s = SimLabels[i]\n",
    "    d = []\n",
    "\n",
    "    for k1,k in enumerate(cesm_years):\n",
    "        d.append(ET_annual[s][k])\n",
    "\n",
    "    xx = x + i1*0.2\n",
    "    pc = np.polyfit(xx, d, 1)\n",
    "    p = np.poly1d(pc)\n",
    "    xxx = np.arange(-.15,2.7,0.1)\n",
    "\n",
    "    axs[1].bar(xx, height=d, width=0.2,color=Colors[i],alpha=0.9,label=Labels[i])\n",
    "    axs[1].plot(xxx,p(xxx),color=Colors[i], linestyle='--')\n",
    "axs[1].set_ylabel('MA ET [mm]',fontsize=12, fontweight='normal')\n",
    "#axs[0].set_xlabel('Year',fontsize=12, fontweight='normal')\n",
    "axs[1].set_xticks(x+0.2)\n",
    "axs[1].set_xticklabels(cesm_years_o)\n",
    "axs[1].set_yticks(np.arange(50,251,50))\n",
    "axs[1].set_ylim(50,200)\n",
    "\n",
    "# Saturated Fraction\n",
    "for i1, i in enumerate([2,1,0]):\n",
    "    s = SimLabels[i]\n",
    "    d = []\n",
    "    for k1,k in enumerate(cesm_years):\n",
    "        #print (k1, k, s)\n",
    "        d.append(SFrac_annual[s][k]/ATD_annual[s][k])\n",
    "\n",
    "    xx = x + i1*0.2\n",
    "    pc = np.polyfit(xx, d, 1)\n",
    "    p = np.poly1d(pc)\n",
    "    xxx = np.arange(-.15,2.7,0.1)\n",
    "\n",
    "    axs[2].bar(xx, height=d, width=0.2,color=Colors[i],alpha=0.9,label=Labels[i])\n",
    "    axs[2].plot(xxx,p(xxx),color=Colors[i], linestyle='--')\n",
    "\n",
    "#plt.legend()\n",
    "axs[2].set_ylabel('MA SF [m$^{-1}$]',fontsize=12, fontweight='normal')\n",
    "#axs[0].set_xlabel('Year',fontsize=12, fontweight='normal')\n",
    "axs[2].set_xticks(x+0.2)\n",
    "axs[2].set_xticklabels(cesm_years_o)\n",
    "axs[2].set_yticks(np.arange(0.4,0.801,0.1))\n",
    "axs[2].set_ylim(0.4,0.8)\n",
    "\n",
    "# MA Thaw depth\n",
    "for i1, i in enumerate([2,1,0]):\n",
    "    s = SimLabels[i]\n",
    "    d = []\n",
    "    for k1,k in enumerate(cesm_years):\n",
    "        #print (k1, k, s)\n",
    "        d.append(ATD_annual[s][k])\n",
    "\n",
    "    xx = x + i1*0.2\n",
    "    pc = np.polyfit(xx, d, 1)\n",
    "    p = np.poly1d(pc)\n",
    "    xxx = np.arange(-.15,2.7,0.1)\n",
    "    print (d)\n",
    "    axs[3].bar(xx, height=d, width=0.2,color=Colors[i],alpha=0.9,label=Labels[i])\n",
    "    axs[3].plot(xxx,p(xxx),color=Colors[i], linestyle='--')\n",
    "\n",
    "#plt.legend()\n",
    "axs[3].set_ylabel('MA TD [m]',fontsize=12, fontweight='normal')\n",
    "axs[3].set_xlabel('Year',fontsize=12, fontweight='normal')\n",
    "axs[2].set_xlabel('Year',fontsize=12, fontweight='normal')\n",
    "axs[3].set_xticks(x+0.2)\n",
    "axs[3].set_xticklabels(cesm_years_o)\n",
    "#axs[2].set_yticks(np.arange(0.4,0.801,0.1))\n",
    "axs[3].set_ylim(0.4,1.4)\n",
    "axs[3].legend(loc='upper right', fontsize=10, ncol=3, bbox_to_anchor=(0.8,-0.26, .1, .1))\n",
    "\n",
    "A = ['a', 'b','c', 'd']\n",
    "loc = [[-0.25,i] for i in [137,188,0.77,1.33]]\n",
    "for i in range(4):\n",
    "    axs[i].text(loc[i][0],loc[i][1],'(%s)'%A[i],fontsize=12)\n",
    "\n",
    "plt.savefig(outfile+'/Q_ET_SF_TD-average.pdf', bbox_inches='tight', dpi=500)\n",
    "\n",
    "\n"
   ]
  },
  {
   "cell_type": "code",
   "execution_count": null,
   "metadata": {},
   "outputs": [],
   "source": [
    "a1= (1.14 - 0.52)/0.52*100\n",
    "a2= (1.07 - 0.51)/0.51*100\n",
    "print (a1, a2)"
   ]
  },
  {
   "cell_type": "markdown",
   "metadata": {},
   "source": [
    "# Wet Year"
   ]
  },
  {
   "cell_type": "code",
   "execution_count": 100,
   "metadata": {},
   "outputs": [
    {
     "name": "stdout",
     "output_type": "stream",
     "text": [
      "[28, 59, 90]\n",
      "[473.5796744  476.28773053 478.99578666]\n",
      "[0.6787745689655066, 1.001502826855112, 1.61533534246574]\n",
      "[0.6401167381974249, 0.8586015873015873, 1.2626490506329116]\n",
      "[0.6105396452285884, 0.8412331008885978, 1.2238809286275594]\n"
     ]
    },
    {
     "data": {
      "image/png": "[encoded data removed]",
      "text/plain": [
       "<Figure size 576x432 with 4 Axes>"
      ]
     },
     "metadata": {},
     "output_type": "display_data"
    }
   ],
   "source": [
    "#wet year loop\n",
    "cesm_years_o = [2015+19, 2015 + 19 +31, 2015 + 19 +31*2] \n",
    "cesm_years = [x - 2006 for x in cesm_years_o]\n",
    "\n",
    "print (cesm_years)\n",
    "print (precip_annual[cesm_years], )\n",
    "\n",
    "fig, axs = plt.subplots(2,2, figsize=(8,6), facecolor='w', edgecolor='k',gridspec_kw={'width_ratios':[1,1]})\n",
    "fig.subplots_adjust(hspace =.02, wspace=1.02)\n",
    "plt.tight_layout()\n",
    "axs = axs.ravel()\n",
    "\n",
    "x = np.arange(0,3,1)\n",
    "Colors = ['r', 'g', 'b','grey']\n",
    "\n",
    "# Discharge\n",
    "#dat = []\n",
    "for i1, i in enumerate([2,1,0]):\n",
    "    s = SimLabels[i]\n",
    "    d = []\n",
    "    d1 = get_moving_average(Q_annual[s],m=1)\n",
    "    for k1,k in enumerate(cesm_years):\n",
    "        d.append(Q_annual[s][k])\n",
    "    xx = x + i1*0.2\n",
    "    axs[0].bar(xx, height=d, width=0.2,color=Colors[i],alpha=0.9,label=Labels[i])\n",
    "\n",
    "    pc = np.polyfit(xx, d, 1)\n",
    "    p = np.poly1d(pc)\n",
    "    xxx = np.arange(-.15,2.7,0.1)\n",
    "    axs[0].plot(xxx,p(xxx),color=Colors[i], linestyle='--')\n",
    "\n",
    "axs[0].set_ylabel('MA Q [mm]',fontsize=12, fontweight='normal')\n",
    "axs[0].set_xticks(x+0.2)\n",
    "axs[0].set_xticklabels(cesm_years_o)\n",
    "axs[0].set_ylim(0,150)\n",
    "axs[0].set_yticks(np.arange(0,150.01,50))\n",
    "\n",
    "# ET\n",
    "dat = []\n",
    "for i1, i in enumerate([2,1,0]):\n",
    "    s = SimLabels[i]\n",
    "    d = []\n",
    "\n",
    "    for k1,k in enumerate(cesm_years):\n",
    "        d.append(ET_annual[s][k])\n",
    "\n",
    "    xx = x + i1*0.2\n",
    "    pc = np.polyfit(xx, d, 1)\n",
    "    p = np.poly1d(pc)\n",
    "    xxx = np.arange(-.15,2.7,0.1)\n",
    "\n",
    "    axs[1].bar(xx, height=d, width=0.2,color=Colors[i],alpha=0.9,label=Labels[i])\n",
    "    axs[1].plot(xxx,p(xxx),color=Colors[i], linestyle='--')\n",
    "axs[1].set_ylabel('MA ET [mm]',fontsize=12, fontweight='normal')\n",
    "axs[1].set_xticks(x+0.2)\n",
    "axs[1].set_xticklabels(cesm_years_o)\n",
    "axs[1].set_yticks(np.arange(200,351,50))\n",
    "axs[1].set_ylim(150,350)\n",
    "\n",
    "# Saturated Fraction\n",
    "for i1, i in enumerate([2,1,0]):\n",
    "    s = SimLabels[i]\n",
    "    d = []\n",
    "    for k1,k in enumerate(cesm_years):\n",
    "        #print (k1, k, s)\n",
    "        d.append(SFrac_annual[s][k]/ATD_annual[s][k])\n",
    "\n",
    "    xx = x + i1*0.2\n",
    "    pc = np.polyfit(xx, d, 1)\n",
    "    p = np.poly1d(pc)\n",
    "    xxx = np.arange(-.15,2.7,0.1)\n",
    "\n",
    "    axs[2].bar(xx, height=d, width=0.2,color=Colors[i],alpha=0.9,label=Labels[i])\n",
    "    axs[2].plot(xxx,p(xxx),color=Colors[i], linestyle='--')\n",
    "\n",
    "#plt.legend()\n",
    "axs[2].set_ylabel('MA SF [m$^{-1}$]',fontsize=12, fontweight='normal')\n",
    "#axs[0].set_xlabel('Year',fontsize=12, fontweight='normal')\n",
    "axs[2].set_xticks(x+0.2)\n",
    "axs[2].set_xticklabels(cesm_years_o)\n",
    "axs[2].set_yticks(np.arange(0.4,0.901,0.1))\n",
    "axs[2].set_ylim(0.4,0.9)\n",
    "\n",
    "# MA Thaw depth\n",
    "for i1, i in enumerate([2,1,0]):\n",
    "    s = SimLabels[i]\n",
    "    d = []\n",
    "    for k1,k in enumerate(cesm_years):\n",
    "        #print (k1, k, s)\n",
    "        d.append(ATD_annual[s][k])\n",
    "\n",
    "    xx = x + i1*0.2\n",
    "    pc = np.polyfit(xx, d, 1)\n",
    "    p = np.poly1d(pc)\n",
    "    xxx = np.arange(-.15,2.7,0.1)\n",
    "    print (d)\n",
    "    axs[3].bar(xx, height=d, width=0.2,color=Colors[i],alpha=0.9,label=Labels[i])\n",
    "    axs[3].plot(xxx,p(xxx),color=Colors[i], linestyle='--')\n",
    "\n",
    "#plt.legend()\n",
    "axs[3].set_ylabel('MA TD [m]',fontsize=12, fontweight='normal')\n",
    "axs[3].set_xlabel('Year',fontsize=12, fontweight='normal')\n",
    "axs[2].set_xlabel('Year',fontsize=12, fontweight='normal')\n",
    "axs[3].set_xticks(x+0.2)\n",
    "axs[3].set_xticklabels(cesm_years_o)\n",
    "#axs[2].set_yticks(np.arange(0.4,0.801,0.1))\n",
    "axs[3].set_ylim(0.4,1.8)\n",
    "axs[3].legend(loc='upper right', fontsize=10, ncol=3, bbox_to_anchor=(0.8,-0.26, .1, .1))\n",
    "\n",
    "A = ['a', 'b','c', 'd']\n",
    "loc = [[-0.25,i] for i in [137,332,0.85,1.665]]\n",
    "for i in range(4):\n",
    "    axs[i].text(loc[i][0],loc[i][1],'(%s)'%A[i],fontsize=12)\n",
    "    \n",
    "plt.savefig(outfile+'/Q_ET_SF_TD-wetyear.pdf', bbox_inches='tight', dpi=500)\n",
    "\n",
    "\n"
   ]
  },
  {
   "cell_type": "markdown",
   "metadata": {},
   "source": [
    "# Dry Year"
   ]
  },
  {
   "cell_type": "code",
   "execution_count": 102,
   "metadata": {},
   "outputs": [
    {
     "name": "stdout",
     "output_type": "stream",
     "text": [
      "[10, 41, 72]\n",
      "[125.73579508 126.36357231 127.13361013]\n",
      "[0.6458730593607198, 0.8587683982683867, 1.0844605363984552]\n",
      "[0.5708045977011496, 0.8063589743589744, 1.0183317073170732]\n",
      "[0.5681901329485598, 0.7881632561620342, 0.9906667707561984]\n"
     ]
    },
    {
     "data": {
      "image/png": "[encoded data removed]",
      "text/plain": [
       "<Figure size 576x432 with 4 Axes>"
      ]
     },
     "metadata": {},
     "output_type": "display_data"
    }
   ],
   "source": [
    "#wet year loop\n",
    "cesm_years_o = [2015+1, 2015 + 1 +31, 2015 + 1 +31*2] \n",
    "cesm_years = [x - 2006 for x in cesm_years_o]\n",
    "\n",
    "print (cesm_years)\n",
    "print (precip_annual[cesm_years], )\n",
    "\n",
    "fig, axs = plt.subplots(2,2, figsize=(8,6), facecolor='w', edgecolor='k',gridspec_kw={'width_ratios':[1,1]})\n",
    "fig.subplots_adjust(hspace =.02, wspace=1.02)\n",
    "plt.tight_layout()\n",
    "axs = axs.ravel()\n",
    "\n",
    "x = np.arange(0,3,1)\n",
    "Colors = ['r', 'g', 'b','grey']\n",
    "\n",
    "# Discharge\n",
    "#dat = []\n",
    "for i1, i in enumerate([2,1,0]):\n",
    "    s = SimLabels[i]\n",
    "    d = []\n",
    "    d1 = get_moving_average(Q_annual[s],m=1)\n",
    "    for k1,k in enumerate(cesm_years):\n",
    "        d.append(Q_annual[s][k])\n",
    "    xx = x + i1*0.2\n",
    "    axs[0].bar(xx, height=d, width=0.2,color=Colors[i],alpha=0.9,label=Labels[i])\n",
    "\n",
    "    pc = np.polyfit(xx, d, 1)\n",
    "    p = np.poly1d(pc)\n",
    "    xxx = np.arange(-.15,2.7,0.1)\n",
    "    axs[0].plot(xxx,p(xxx),color=Colors[i], linestyle='--')\n",
    "\n",
    "axs[0].set_ylabel('MA Q [mm]',fontsize=12, fontweight='normal')\n",
    "axs[0].set_xticks(x+0.2)\n",
    "axs[0].set_xticklabels(cesm_years_o)\n",
    "axs[0].set_ylim(0,80)\n",
    "\n",
    "# ET\n",
    "dat = []\n",
    "for i1, i in enumerate([2,1,0]):\n",
    "    s = SimLabels[i]\n",
    "    d = []\n",
    "\n",
    "    for k1,k in enumerate(cesm_years):\n",
    "        d.append(ET_annual[s][k])\n",
    "\n",
    "    xx = x + i1*0.2\n",
    "    pc = np.polyfit(xx, d, 1)\n",
    "    p = np.poly1d(pc)\n",
    "    xxx = np.arange(-.15,2.7,0.1)\n",
    "\n",
    "    axs[1].bar(xx, height=d, width=0.2,color=Colors[i],alpha=0.9,label=Labels[i])\n",
    "    axs[1].plot(xxx,p(xxx),color=Colors[i], linestyle='--')\n",
    "axs[1].set_ylabel('MA ET [mm]',fontsize=12, fontweight='normal')\n",
    "axs[1].set_xticks(x+0.2)\n",
    "axs[1].set_xticklabels(cesm_years_o)\n",
    "axs[1].set_yticks(np.arange(200,351,50))\n",
    "axs[1].set_ylim(150,350)\n",
    "\n",
    "# Saturated Fraction\n",
    "for i1, i in enumerate([2,1,0]):\n",
    "    s = SimLabels[i]\n",
    "    d = []\n",
    "    for k1,k in enumerate(cesm_years):\n",
    "        #print (k1, k, s)\n",
    "        d.append(SFrac_annual[s][k]/ATD_annual[s][k])\n",
    "\n",
    "    xx = x + i1*0.2\n",
    "    pc = np.polyfit(xx, d, 1)\n",
    "    p = np.poly1d(pc)\n",
    "    xxx = np.arange(-.15,2.7,0.1)\n",
    "\n",
    "    axs[2].bar(xx, height=d, width=0.2,color=Colors[i],alpha=0.9,label=Labels[i])\n",
    "    axs[2].plot(xxx,p(xxx),color=Colors[i], linestyle='--')\n",
    "\n",
    "#plt.legend()\n",
    "axs[2].set_ylabel('MA SF [m$^{-1}$]',fontsize=12, fontweight='normal')\n",
    "#axs[0].set_xlabel('Year',fontsize=12, fontweight='normal')\n",
    "axs[2].set_xticks(x+0.2)\n",
    "axs[2].set_xticklabels(cesm_years_o)\n",
    "axs[2].set_yticks(np.arange(0.4,0.801,0.1))\n",
    "axs[2].set_ylim(0.4,0.8)\n",
    "\n",
    "# MA Thaw depth\n",
    "for i1, i in enumerate([2,1,0]):\n",
    "    s = SimLabels[i]\n",
    "    d = []\n",
    "    for k1,k in enumerate(cesm_years):\n",
    "        #print (k1, k, s)\n",
    "        d.append(ATD_annual[s][k])\n",
    "\n",
    "    xx = x + i1*0.2\n",
    "    pc = np.polyfit(xx, d, 1)\n",
    "    p = np.poly1d(pc)\n",
    "    xxx = np.arange(-.15,2.7,0.1)\n",
    "    print (d)\n",
    "    axs[3].bar(xx, height=d, width=0.2,color=Colors[i],alpha=0.9,label=Labels[i])\n",
    "    axs[3].plot(xxx,p(xxx),color=Colors[i], linestyle='--')\n",
    "\n",
    "#plt.legend()\n",
    "axs[3].set_ylabel('MA TD [m]',fontsize=12, fontweight='normal')\n",
    "axs[3].set_xlabel('Year',fontsize=12, fontweight='normal')\n",
    "axs[2].set_xlabel('Year',fontsize=12, fontweight='normal')\n",
    "axs[3].set_xticks(x+0.2)\n",
    "axs[3].set_xticklabels(cesm_years_o)\n",
    "axs[3].set_yticks(np.arange(0.4,1.201,0.2))\n",
    "axs[3].set_ylim(0.4,1.2)\n",
    "axs[3].legend(loc='upper right', fontsize=10, ncol=3, bbox_to_anchor=(0.8,-0.26, .1, .1))\n",
    "\n",
    "A = ['a', 'b','c', 'd']\n",
    "loc = [[-0.25,i] for i in [73.5,332,0.77,1.14]]\n",
    "for i in range(4):\n",
    "    axs[i].text(loc[i][0],loc[i][1],'(%s)'%A[i],fontsize=12)\n",
    "    \n",
    "plt.savefig(outfile+'/Q_ET_SF_TD-dryyear.pdf', bbox_inches='tight', dpi=500)\n",
    "4252\n",
    "615-432-4252 contact tracing\n",
    "\n",
    "4246\n",
    "\n",
    "\n",
    "\n"
   ]
  },
  {
   "cell_type": "code",
   "execution_count": null,
   "metadata": {},
   "outputs": [],
   "source": []
  },
  {
   "cell_type": "code",
   "execution_count": null,
   "metadata": {},
   "outputs": [],
   "source": [
    "bars = True\n",
    "fig = plt.figure(figsize=(8,4))\n",
    "x = np.arange(0,3,1)\n",
    "Colors = ['r', 'g', 'b','grey']\n",
    "\n",
    "if not bars:\n",
    "    for i in range(sim_len):\n",
    "        s = SimLabels[i]\n",
    "        #d = get_moving_average(Q_annual[s],m=1)\n",
    "        d = ET_annual[s]\n",
    "        plt.plot(T_annual[s][:82],d[:82],label=Labels[i],color=colors[i],marker='*')\n",
    "        #plt.plot(d[:32],label=Labels[i],color=colors[i],marker='*')\n",
    "        plt.legend()\n",
    "        plt.ylabel('Annual average ET [mm]',fontsize=12, fontweight='normal')\n",
    "        plt.xlabel('Year',fontsize=12, fontweight='normal')\n",
    "        plt.ylim(100,400)\n",
    "        #plt.xlim(2005.5,2099.5)\n",
    "    for y in cesm_years_o:\n",
    "        plt.axvline(x=y)\n",
    "        \n",
    "        #plt.savefig(outfile+'/Projected-Q_linesA.pdf', bbox_inches='tight', dpi=500)\n",
    "        #plt.savefig(outfile+'/Projected-ET_sensivity_por.pdf', bbox_inches='tight', dpi=500)\n",
    "else:\n",
    "    dat = []\n",
    "    #for i1, i in enumerate([2,0,1]): # if plotting all in single column\n",
    "    for i1, i in enumerate([2,1,0]):\n",
    "        s = SimLabels[i]\n",
    "        d = []\n",
    "        \n",
    "        for k1,k in enumerate(cesm_years):\n",
    "            d.append(ET_annual[s][k])\n",
    "        \n",
    "        xx = x + i1*0.2\n",
    "        print (xx, len(d))\n",
    "        pc = np.polyfit(xx, d, 1)\n",
    "        p = np.poly1d(pc)\n",
    "        xxx = np.arange(-.15,2.7,0.1)\n",
    "        \n",
    "        plt.bar(xx, height=d, width=0.2,color=Colors[i],alpha=0.9,label=Labels[i])\n",
    "        plt.plot(xxx,p(xxx),color=Colors[i], linestyle='--')\n",
    "    #d1 = [dat[0][k4] - dat[1][k4] for k4 in range(4)]\n",
    "    #plt.bar(x+0.21, height=d1, width=0.2,color=Colors[3],alpha=1)#,label=Labels[i])\n",
    "    plt.legend()\n",
    "    plt.ylabel('Annual average ET [mm]',fontsize=12, fontweight='normal')\n",
    "    plt.xlabel('Year',fontsize=12, fontweight='normal')\n",
    "    plt.xticks(x+0.2, cesm_years_o)\n",
    "    plt.savefig(outfile+'/Projected-ET_lines.pdf', bbox_inches='tight', dpi=500)\n"
   ]
  },
  {
   "cell_type": "code",
   "execution_count": null,
   "metadata": {},
   "outputs": [],
   "source": [
    "print ((200 - 130)/130*100, (200 - 160)/160*100)"
   ]
  },
  {
   "cell_type": "markdown",
   "metadata": {},
   "source": [
    "# Saturated Fraction"
   ]
  },
  {
   "cell_type": "code",
   "execution_count": null,
   "metadata": {},
   "outputs": [],
   "source": [
    "# moisture content == Saturated Fraction / thaw_depth\n",
    "bars = True\n",
    "fig = plt.figure(figsize=(8,4))\n",
    "x = np.arange(0,3,1)\n",
    "Colors = ['r', 'g', 'b','grey']\n",
    "\n",
    "if not bars:\n",
    "    for i in range(sim_len):\n",
    "        s = SimLabels[i]\n",
    "        #d = get_moving_average(Q_annual[s],m=1)\n",
    "        d = SFrac_annual[s]\n",
    "        plt.plot(T_annual[s][:82],d[:82],label=Labels[i],color=colors[i],marker='*')\n",
    "        #plt.plot(d[:32],label=Labels[i],color=colors[i],marker='*')\n",
    "        plt.legend()\n",
    "        plt.ylabel('Annual average ET [mm]',fontsize=12, fontweight='normal')\n",
    "        plt.xlabel('Year',fontsize=12, fontweight='normal')\n",
    "        plt.ylim(100,400)\n",
    "        #plt.xlim(2005.5,2099.5)\n",
    "    for y in cesm_years_o:\n",
    "        plt.axvline(x=y)\n",
    "        \n",
    "        #plt.savefig(outfile+'/Projected-Q_linesA.pdf', bbox_inches='tight', dpi=500)\n",
    "        #plt.savefig(outfile+'/Projected-ET_sensivity_por.pdf', bbox_inches='tight', dpi=500)\n",
    "else:\n",
    "    dat = []\n",
    "    #for i1, i in enumerate([2,0,1]): # if plotting all in single column\n",
    "    for i1, i in enumerate([2,1,0]):\n",
    "        s = SimLabels[i]\n",
    "        d = []\n",
    "        \n",
    "        for k1,k in enumerate(cesm_years):\n",
    "            d.append(SFrac_annual[s][k]/ATD_annual[s][k])\n",
    "        \n",
    "        xx = x + i1*0.2\n",
    "        print (xx, len(d), ATD_annual[s])\n",
    "        pc = np.polyfit(xx, d, 1)\n",
    "        p = np.poly1d(pc)\n",
    "        xxx = np.arange(-.15,2.7,0.1)\n",
    "        \n",
    "        plt.bar(xx, height=d, width=0.2,color=Colors[i],alpha=0.9,label=Labels[i])\n",
    "        plt.plot(xxx,p(xxx),color=Colors[i], linestyle='--')\n",
    "    #d1 = [dat[0][k4] - dat[1][k4] for k4 in range(4)]\n",
    "    #plt.bar(x+0.21, height=d1, width=0.2,color=Colors[3],alpha=1)#,label=Labels[i])\n",
    "    plt.legend()\n",
    "    plt.ylabel('Annual average SF [m$^{-1}$]',fontsize=12, fontweight='normal')\n",
    "    plt.xlabel('Year',fontsize=12, fontweight='normal')\n",
    "    plt.xticks(x+0.2, cesm_years_o)\n",
    "    #plt.savefig(outfile+'/Projected-ET_lines.pdf', bbox_inches='tight', dpi=500)\n",
    "\n"
   ]
  },
  {
   "cell_type": "code",
   "execution_count": null,
   "metadata": {},
   "outputs": [],
   "source": []
  },
  {
   "cell_type": "code",
   "execution_count": null,
   "metadata": {},
   "outputs": [],
   "source": [
    "fig = plt.figure(figsize=(8,4))\n",
    "for i,s in enumerate(SimLabels):\n",
    "    #d = [ (x - ST_annual[s][0])/ST_annual[s][0]*100 for x in ST_annual[s]]\n",
    "    #d = get_moving_average(d)\n",
    "    d = get_moving_average(ST_annual[s])\n",
    "    d = [ (x - d[0])/d[0]*100 for x in d]\n",
    "    #d = [ x/d[0] for x in d]\n",
    "    plt.plot(T_annual[s],d,label=Labels[i],color=colors[i])\n",
    "plt.legend()\n",
    "plt.ylabel('Storage (% change) [-]',fontsize=12, fontweight='normal')\n",
    "plt.xlabel('Year',fontsize=12, fontweight='normal')\n",
    "plt.ylim(-2.0,0.4)\n",
    "plt.xlim(2006.5,2099.5)\n",
    "#plt.savefig(outfile+'/Projected-storage.pdf', bbox_inches='tight', dpi=500)\n",
    "plt.savefig(outfile+'/Projected-storage_sensivity_por.pdf', bbox_inches='tight', dpi=500)"
   ]
  },
  {
   "cell_type": "code",
   "execution_count": null,
   "metadata": {},
   "outputs": [],
   "source": [
    "fig = plt.figure(figsize=(8,4))\n",
    "for i,s in enumerate(SimLabels):\n",
    "    d = get_moving_average(CDR_annual[s])\n",
    "    d = d/d[0]\n",
    "    plt.plot(T_annual[s],d,label=Labels[i],color=colors[i])\n",
    "plt.legend()\n",
    "plt.ylabel('Carbon decomposition rate [-]',fontsize=12, fontweight='normal')\n",
    "plt.xlabel('Year',fontsize=12, fontweight='normal')\n",
    "plt.ylim(0,5)\n",
    "plt.xlim(2006.5,2099.5)\n",
    "plt.savefig(outfile+'/Projected-CDR_sensivity_por.pdf', bbox_inches='tight', dpi=500)\n",
    "# the key point what processes are important for water budget components, \n",
    "# sensitivity study of subsidence, models with more or less uniform subsidence across the watershed has no effect\n",
    "# on hydrology, however, hetereogeneous subsidence has effect on runoff/ET ---> investigate?\n",
    "# storage decreases in simulations with subsidence\n",
    "# lets focus on the processes details instead of conclusions about the future.\n"
   ]
  },
  {
   "cell_type": "code",
   "execution_count": null,
   "metadata": {},
   "outputs": [],
   "source": []
  },
  {
   "cell_type": "code",
   "execution_count": null,
   "metadata": {},
   "outputs": [],
   "source": [
    "def plot_Q():\n",
    "    %matplotlib qt\n",
    "    fig, axs = plt.subplots(1,1, figsize=(6,4), facecolor='w', edgecolor='k',gridspec_kw={'width_ratios':[1]})\n",
    "    fig.subplots_adjust(hspace =.02, wspace=1.02)\n",
    "\n",
    "    plt.tight_layout()\n",
    "    #axs = axs.ravel()\n",
    "    Colors = ['k','b','grey','g','r','m']\n",
    " \n",
    "    axs.fill_between(1985 + Q['S6_time'], Q['S6_data']-0, Q['S6_data']*0+Q['S1_data'] , color='lightgray')\n",
    "    axs.fill_between(1985 + Q['S6_time'], Q['S3_data'], Q['S6_data']+0 , color='gray')\n",
    "    \n",
    "    axs.plot(1985 + Q['S6_time'],Q['S6_data'],color=Colors[i],label=Labels[i],linestyle='dashed')\n",
    "    axs.set_xlabel('Calendar year',fontsize=12, fontweight='normal')\n",
    "    axs.set_ylabel('Annual average discharge [mm]',fontsize=12, fontweight='normal')\n",
    "    axs.legend(loc='upper right',fontsize=8)\n",
    "    #axs.set_xlim(2005,2100)\n",
    "    #axs.plot(time,precip_annual[:-1],'g')\n",
    "\n",
    "\n",
    "    #axs.plot(t1[tt0*365:(tt0+1)*365]-21,precip_daily[tt0*365:(tt0+1)*365],'g')\n",
    "    #plt.plot(rain_mm,'k')\n",
    "    #plt.plot(snow_mm,'m')\n",
    "    #plt.plot(precip_annual,'r')\n",
    "    #print (outfile)\n",
    "    #plt.savefig(outfile+'discharge-annualavg_bars.pdf', bbox_inches='tight', dpi=500)\n",
    "    #print (outfile+'discharge-annualavg_bars.pdf')"
   ]
  },
  {
   "cell_type": "code",
   "execution_count": null,
   "metadata": {},
   "outputs": [],
   "source": [
    "#plot_Q()"
   ]
  },
  {
   "cell_type": "code",
   "execution_count": null,
   "metadata": {},
   "outputs": [],
   "source": []
  },
  {
   "cell_type": "code",
   "execution_count": null,
   "metadata": {},
   "outputs": [],
   "source": []
  },
  {
   "cell_type": "code",
   "execution_count": null,
   "metadata": {},
   "outputs": [],
   "source": []
  },
  {
   "cell_type": "code",
   "execution_count": null,
   "metadata": {},
   "outputs": [],
   "source": []
  },
  {
   "cell_type": "code",
   "execution_count": null,
   "metadata": {},
   "outputs": [],
   "source": []
  },
  {
   "cell_type": "code",
   "execution_count": null,
   "metadata": {},
   "outputs": [],
   "source": []
  },
  {
   "cell_type": "code",
   "execution_count": null,
   "metadata": {},
   "outputs": [],
   "source": []
  },
  {
   "cell_type": "code",
   "execution_count": null,
   "metadata": {},
   "outputs": [],
   "source": []
  },
  {
   "cell_type": "code",
   "execution_count": null,
   "metadata": {},
   "outputs": [],
   "source": [
    "Including run-on in our simulations improve our understanding of total carbon budget. the evaporation will be under estimated\n",
    "if we ignore run-on\n",
    "long-term trend\n",
    "inter-annual dynamics\n",
    "seasonal vairations/dynamics\n",
    "fire consumes carbon, which decrease DOC in stream"
   ]
  },
  {
   "cell_type": "code",
   "execution_count": null,
   "metadata": {},
   "outputs": [],
   "source": []
  },
  {
   "cell_type": "code",
   "execution_count": null,
   "metadata": {},
   "outputs": [],
   "source": []
  },
  {
   "cell_type": "code",
   "execution_count": null,
   "metadata": {},
   "outputs": [],
   "source": []
  },
  {
   "cell_type": "code",
   "execution_count": null,
   "metadata": {},
   "outputs": [],
   "source": [
    "# 1) negligible differences in the discharge\n",
    "# 2) significant differences in the evaporation, this implies base-case should stay relatively wetter,\n",
    "#.   this will impact carbon decomposition rate\n",
    "# 3) high NO3 and low N03, high DOC "
   ]
  },
  {
   "cell_type": "code",
   "execution_count": null,
   "metadata": {},
   "outputs": [],
   "source": []
  },
  {
   "cell_type": "code",
   "execution_count": null,
   "metadata": {},
   "outputs": [],
   "source": [
    "2 meadian life time , 2.6hr give mean of 1hr median\n",
    "alpha = 2.5 1/sec"
   ]
  }
 ],
 "metadata": {
  "kernelspec": {
   "display_name": "Python 3",
   "language": "python",
   "name": "python3"
  },
  "language_info": {
   "codemirror_mode": {
    "name": "ipython",
    "version": 3
   },
   "file_extension": ".py",
   "mimetype": "text/x-python",
   "name": "python",
   "nbconvert_exporter": "python",
   "pygments_lexer": "ipython3",
   "version": "3.7.6"
  }
 },
 "nbformat": 4,
 "nbformat_minor": 4
}
