{
 "cells": [
  {
   "cell_type": "code",
   "execution_count": 1,
   "metadata": {},
   "outputs": [],
   "source": [
    "import sys, os\n",
    "import numpy as np\n",
    "import pandas as pd\n",
    "from matplotlib import pyplot as plt\n",
    "import scipy.signal\n",
    "import importlib\n",
    "import h5py\n",
    "sys.path.append('/Users/ajc/Core/PreProcessing/PyScript')\n",
    "import readdata"
   ]
  },
  {
   "cell_type": "code",
   "execution_count": 2,
   "metadata": {},
   "outputs": [],
   "source": [
    "outfile='/Users/ajc/Core/PostProcessing/barrow_watershed/2021/projections/01_12_2021/'"
   ]
  },
  {
   "cell_type": "code",
   "execution_count": 3,
   "metadata": {},
   "outputs": [],
   "source": [
    "path ='/Users/ajc/Core/simulations/projections/barrow_watershed/CESM_01/'\n",
    "var_set = ['surface_flux-day.dat']"
   ]
  },
  {
   "cell_type": "code",
   "execution_count": 4,
   "metadata": {},
   "outputs": [],
   "source": [
    "#Sim = ['CESM_5050_R30_B']\n",
    "Simulations = [['CESM_5050_R30_B']] #[os.path.join(path,s) for s in Sim]"
   ]
  },
  {
   "cell_type": "code",
   "execution_count": 5,
   "metadata": {},
   "outputs": [],
   "source": [
    "mol_density = 55300.\n",
    "to_mm = 1000.\n",
    "to_day_mm = 86400 * 1000\n",
    "to_day_year_mm = 86400 * 365 * 1000\n",
    "to_year_mm = 365 * 1000"
   ]
  },
  {
   "cell_type": "code",
   "execution_count": 6,
   "metadata": {},
   "outputs": [],
   "source": [
    "def read_file(file):\n",
    "    d = np.loadtxt(file,usecols=1,skiprows=6)\n",
    "    t1 = np.loadtxt(file,usecols=0,skiprows=6)\n",
    "    t = np.array([x/86400./365. for x in t1])\n",
    "    l = np.minimum(len(d),len(t))\n",
    "    return d[:l],t[:l]\n",
    "\n",
    "def read_set(set,var):\n",
    "    dat = []\n",
    "    tim = []\n",
    "    for s in set:\n",
    "        file = os.path.join(path, s, var)\n",
    "        d = np.loadtxt(file,usecols=1,skiprows=6)\n",
    "        t1 = np.loadtxt(file,usecols=0,skiprows=6)\n",
    "        t = np.array([x/86400./365. for x in t1])\n",
    "        \n",
    "        L = len(d)%365\n",
    "        if L >0:\n",
    "            d = d[:-L]\n",
    "            t = t[:len(d)]\n",
    "            \n",
    "        dat.append(d)\n",
    "        tim.append(t)\n",
    "    dat = np.concatenate(dat)\n",
    "    tim = np.concatenate(tim)\n",
    "    print ('Lengths: ',len(dat)%365, len(tim)%365,L)\n",
    "    \n",
    "    return dat, tim"
   ]
  },
  {
   "cell_type": "code",
   "execution_count": 7,
   "metadata": {},
   "outputs": [],
   "source": [
    "forcing_data = h5py.File(\"/Users/ajc/Core/PreProcessing/ats-intermediate-ngee/data/SNAP/CESM-RCP8.5-2006-2100_dm1985-2015-FM_2006.h5\",'r')"
   ]
  },
  {
   "cell_type": "code",
   "execution_count": null,
   "metadata": {},
   "outputs": [],
   "source": []
  },
  {
   "cell_type": "code",
   "execution_count": 8,
   "metadata": {},
   "outputs": [
    {
     "name": "stdout",
     "output_type": "stream",
     "text": [
      "[0.25900042 0.24096072 0.2829736 ]\n"
     ]
    }
   ],
   "source": [
    "d1 = forcing_data['precipitation rain [m s^-1]']\n",
    "d2 = forcing_data['precipitation snow [m SWE s^-1]']\n",
    "rain = np.reshape(d1,(-1,365)).mean(axis=1)*86400*365\n",
    "snow = np.reshape(d2,(-1,365)).mean(axis=1)*86400*365\n",
    "precip_annual_orig = snow + rain\n",
    "print (precip_annual_orig[:3])"
   ]
  },
  {
   "cell_type": "code",
   "execution_count": 9,
   "metadata": {},
   "outputs": [],
   "source": [
    "key_var = ['surface_star-evaporative_flux']"
   ]
  },
  {
   "cell_type": "code",
   "execution_count": 10,
   "metadata": {},
   "outputs": [],
   "source": [
    "\n",
    "def getSurfaceData(i,var,hdf_file='ats_vis_surface_star_data.h5',average=True):\n",
    "    Data = []\n",
    "    #print ('getSurfaceData: ',var,average)\n",
    "    for s in Simulations[i]:\n",
    "        infile = os.path.join(path,s,hdf_file)\n",
    "        print (infile)\n",
    "        dx=h5py.File(infile,'r')\n",
    "        d = np.array(readdata.GetSurfVarFromVis_All(infile,var)[var])\n",
    "        if (average):\n",
    "            d = d.mean(axis=1)\n",
    "        else:\n",
    "            d = d.sum(axis=1)\n",
    "        L = len(d)%365\n",
    "        if L >0:\n",
    "            d = d[:-L]\n",
    "        \n",
    "        Data.append(d)\n",
    "        \n",
    "    d = dict()\n",
    "    d[var] = np.concatenate(Data)\n",
    "    \n",
    "    return d"
   ]
  },
  {
   "cell_type": "code",
   "execution_count": null,
   "metadata": {},
   "outputs": [],
   "source": []
  },
  {
   "cell_type": "code",
   "execution_count": 11,
   "metadata": {},
   "outputs": [],
   "source": [
    "colors = ['r','k','g','m','c','y']\n",
    "marks = ['.','*', '+', 'o']\n",
    "marks = ['-','-','-']\n",
    "Labels = ['basecase','dynamic_sg']"
   ]
  },
  {
   "cell_type": "code",
   "execution_count": null,
   "metadata": {},
   "outputs": [],
   "source": []
  },
  {
   "cell_type": "code",
   "execution_count": 12,
   "metadata": {},
   "outputs": [
    {
     "name": "stdout",
     "output_type": "stream",
     "text": [
      "112635.47903126487\n",
      "[0.25900042 0.24096072 0.2829736  0.19995933]\n",
      "[1613246811.497143, 1500882129.6168385, 1762569550.7478123, 1245495052.0215316]\n"
     ]
    }
   ],
   "source": [
    "Slabels = ['S1', 'S6']\n",
    "path_sf =os.path.join(path, Simulations[0][0], 'ats_vis_surface_star_data.h5')\n",
    "file_surf= h5py.File(path_sf,'r')\n",
    "cycle = list(file_surf['surface_star-cell_volume.cell.0'].keys())[0]\n",
    "\n",
    "surface_area = np.sum(list(file_surf['surface_star-cell_volume.cell.0'][cycle]))\n",
    "print (surface_area)\n",
    "print (precip_annual_orig[:4])\n",
    "precip_annual = [p*mol_density*surface_area for p in precip_annual_orig]\n",
    "print (precip_annual[:4])"
   ]
  },
  {
   "cell_type": "code",
   "execution_count": 13,
   "metadata": {},
   "outputs": [],
   "source": [
    "#spatially averaged over the watershed\n",
    "def Evaporation():\n",
    "    Colors = ['k','b','grey','g','r','m']\n",
    "    time = 2006 + np.linspace(0,94,94,dtype='int')\n",
    "    d3_sf = []\n",
    "    sf_change = 0\n",
    "    for i,sim in enumerate(Simulations):\n",
    "        var = 'surface_star-evaporative_flux'\n",
    "        d1 = getSurfaceData(i,var,hdf_file='ats_vis_surface_star_data.h5',average=True)[var]\n",
    "        d1 = [x*mol_density*surface_area for x in d1]\n",
    "        \n",
    "        sf_annual = np.reshape(d1,(-1,365)).mean(axis=1)*86400*365.\n",
    "        \n",
    "        d3_sf = [x*to_day_mm for x in d2] \n",
    "    return d3_sf, sf_annual"
   ]
  },
  {
   "cell_type": "code",
   "execution_count": 14,
   "metadata": {},
   "outputs": [
    {
     "name": "stdout",
     "output_type": "stream",
     "text": [
      "/Users/ajc/Core/simulations/projections/barrow_watershed/CESM_01/CESM_5050_R30_B/ats_vis_surface_star_data.h5\n"
     ]
    }
   ],
   "source": [
    "ET_daily, ET_annual = Evaporation()\n"
   ]
  },
  {
   "cell_type": "code",
   "execution_count": 15,
   "metadata": {},
   "outputs": [],
   "source": [
    "#spatially averaged over the watershed\n",
    "def WaterContent(var='surface_star-water_content'):\n",
    "    Colors = ['k','b','grey','g','r','m']\n",
    "    time = 2006 + np.linspace(0,94,94,dtype='int')\n",
    "    sf_annual = []\n",
    "    var_mdl='surface_star-molar_density_liquid'\n",
    "    for i,sim in enumerate(Simulations):\n",
    "        d1 = getSurfaceData(i,var,hdf_file='ats_vis_surface_star_data.h5',average=False)[var]\n",
    "        \n",
    "        f1 = np.reshape(d1,(-1,365))#.mean(axis=1)*to_year_mm #mm annual\n",
    "        for x in f1:\n",
    "            sf_annual.append(x[-1]-x[0])\n",
    "        \n",
    "    return d1, sf_annual\n"
   ]
  },
  {
   "cell_type": "code",
   "execution_count": 16,
   "metadata": {},
   "outputs": [
    {
     "name": "stdout",
     "output_type": "stream",
     "text": [
      "/Users/ajc/Core/simulations/projections/barrow_watershed/CESM_01/CESM_5050_R30_B/ats_vis_surface_star_data.h5\n",
      "/Users/ajc/Core/simulations/projections/barrow_watershed/CESM_01/CESM_5050_R30_B/ats_vis_surface_star_data.h5\n"
     ]
    }
   ],
   "source": [
    "SF_wc_daily, SF_wc_annual = WaterContent()\n",
    "SS_wc_daily, SS_wc_annual = WaterContent(var='surface_star-column_water_content')"
   ]
  },
  {
   "cell_type": "code",
   "execution_count": null,
   "metadata": {},
   "outputs": [],
   "source": []
  },
  {
   "cell_type": "code",
   "execution_count": 17,
   "metadata": {
    "code_folding": []
   },
   "outputs": [],
   "source": [
    "#Snow water content for intermediate scale model is in m^3\n",
    "def WaterContentSnow(var='surface_star-water_content'):\n",
    "    Colors = ['k','b','grey','g','r','m']\n",
    "    time = 2006 + np.linspace(0,94,94,dtype='int')\n",
    "    d3_sf = []\n",
    "    sf_annual = []\n",
    "    for i,sim in enumerate(Simulations):\n",
    "        d1 = getSurfaceData(i,var,hdf_file='ats_vis_surface_star_data.h5',average=False)[var]\n",
    "        d2 = [x*mol_density for x in d1]\n",
    "        d3 = np.reshape(d2,(-1,365))\n",
    "        for x in d3:\n",
    "            sf_annual.append(x[-1]-x[0])\n",
    "        print (sf_annual)\n",
    "    return d3, sf_annual"
   ]
  },
  {
   "cell_type": "code",
   "execution_count": 18,
   "metadata": {},
   "outputs": [
    {
     "name": "stdout",
     "output_type": "stream",
     "text": [
      "/Users/ajc/Core/simulations/projections/barrow_watershed/CESM_01/CESM_5050_R30_B/ats_vis_surface_star_data.h5\n",
      "[165609143.1547538, -162120957.562106, 299244250.0230591, -311776588.6645825, -186619839.1454019, 169135241.06942374, -49820621.64387295, 150320220.5131423, -103022876.46369177]\n"
     ]
    }
   ],
   "source": [
    "Snow_wc_daily, Snow_wc_annual = WaterContentSnow(var='surface_star-water_equivalent')"
   ]
  },
  {
   "cell_type": "code",
   "execution_count": null,
   "metadata": {},
   "outputs": [],
   "source": []
  },
  {
   "cell_type": "code",
   "execution_count": 19,
   "metadata": {},
   "outputs": [],
   "source": [
    "#Read discharge\n",
    "def Discharge():\n",
    "    daily = []\n",
    "    annual = []\n",
    "    for i,sim in enumerate(Simulations):\n",
    "        var = 'surface_flux-day-integrated.dat'\n",
    "        d1, t1 = read_set(sim,var)\n",
    "        annual = np.reshape(d1,(-1,365)).mean(axis=1)*365\n",
    "        print (annual)\n",
    "    return d1, annual "
   ]
  },
  {
   "cell_type": "code",
   "execution_count": 20,
   "metadata": {},
   "outputs": [
    {
     "name": "stdout",
     "output_type": "stream",
     "text": [
      "Lengths:  0 0 259\n",
      "[9.17937573e+07 1.59394659e+07 4.50847113e+07 3.24599498e+08\n",
      " 2.71730990e+08 0.00000000e+00 2.02891711e+07 6.15410455e+05\n",
      " 2.49411862e+08]\n"
     ]
    }
   ],
   "source": [
    "Q_daily, Q_annual = Discharge()"
   ]
  },
  {
   "cell_type": "code",
   "execution_count": 21,
   "metadata": {},
   "outputs": [
    {
     "name": "stdout",
     "output_type": "stream",
     "text": [
      "SF: [0.0, 0.0, 61512535.32224113]\n",
      "SS: [-22410159.532226562, 85182179.69012451, 53440445.05630493]\n",
      "Snow: [165609143.1547538, -162120957.562106, 299244250.0230591]\n",
      "Storage: [143198983.62252724, -76938777.8719815, 414197230.4016052]\n",
      "ET: [1.39555084e+09 1.61202733e+09 1.36021567e+09]\n",
      "P: [1613246811.497143, 1500882129.6168385, 1762569550.7478123]\n"
     ]
    },
    {
     "data": {
      "text/plain": [
       "Text(0.5, 0, 'Year')"
      ]
     },
     "execution_count": 21,
     "metadata": {},
     "output_type": "execute_result"
    },
    {
     "data": {
      "image/png": "[encoded data removed]",
      "text/plain": [
       "<Figure size 432x288 with 1 Axes>"
      ]
     },
     "metadata": {
      "needs_background": "light"
     },
     "output_type": "display_data"
    }
   ],
   "source": [
    "\n",
    "#print (len(SF_wc_annual), len(SS_wc_annual), len(Snow_wc_annual), len(ET_annual), len(Q_annual))\n",
    "#print (len(SF_wc_annual), len(SS_wc_annual), len(Snow_wc_annual), len(ET_annual), len(Q_annual))\n",
    "print ('SF:',SF_wc_annual[:3])\n",
    "print ('SS:',SS_wc_annual[:3])\n",
    "print ('Snow:',Snow_wc_annual[:3])\n",
    "storage= [x+y+z for x,y,z in zip(SF_wc_annual,SS_wc_annual,Snow_wc_annual)]\n",
    "\n",
    "ET = ET_annual \n",
    "Q = Q_annual\n",
    "print ('Storage:',storage[:3])\n",
    "#print (Q[:3])\n",
    "print ('ET:',ET[:3])\n",
    "print ('P:', precip_annual[:3])\n",
    "#print (Q)\n",
    "f = []\n",
    "for i in range(len(ET)):\n",
    "    x = (precip_annual[i] - (storage[i] + ET[i] + Q[i]))/(mol_density*surface_area)*1000\n",
    "    f.append(x)\n",
    "    #print (f, precip_annual[i], storage[i], ET[i], Q[i])\n",
    "    #break\n",
    "plt.plot(f,'b')\n",
    "plt.axhline(y=0)\n",
    "plt.text(0,1,r'$P - (\\Delta S + ET + Q)$', fontsize=14)\n",
    "plt.ylabel('Mass Balance [mm]',fontsize=12)\n",
    "plt.xlabel('Year',fontsize=12)"
   ]
  },
  {
   "cell_type": "code",
   "execution_count": null,
   "metadata": {},
   "outputs": [],
   "source": []
  },
  {
   "cell_type": "code",
   "execution_count": null,
   "metadata": {},
   "outputs": [],
   "source": []
  },
  {
   "cell_type": "code",
   "execution_count": null,
   "metadata": {},
   "outputs": [],
   "source": []
  },
  {
   "cell_type": "code",
   "execution_count": null,
   "metadata": {},
   "outputs": [],
   "source": []
  },
  {
   "cell_type": "code",
   "execution_count": null,
   "metadata": {},
   "outputs": [],
   "source": []
  },
  {
   "cell_type": "code",
   "execution_count": null,
   "metadata": {},
   "outputs": [],
   "source": []
  },
  {
   "cell_type": "code",
   "execution_count": null,
   "metadata": {},
   "outputs": [],
   "source": []
  },
  {
   "cell_type": "code",
   "execution_count": null,
   "metadata": {},
   "outputs": [],
   "source": []
  },
  {
   "cell_type": "code",
   "execution_count": null,
   "metadata": {},
   "outputs": [],
   "source": []
  }
 ],
 "metadata": {
  "kernelspec": {
   "display_name": "Python 3",
   "language": "python",
   "name": "python3"
  },
  "language_info": {
   "codemirror_mode": {
    "name": "ipython",
    "version": 3
   },
   "file_extension": ".py",
   "mimetype": "text/x-python",
   "name": "python",
   "nbconvert_exporter": "python",
   "pygments_lexer": "ipython3",
   "version": "3.7.6"
  }
 },
 "nbformat": 4,
 "nbformat_minor": 4
}
