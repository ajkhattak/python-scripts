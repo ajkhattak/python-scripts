{
 "cells": [
  {
   "cell_type": "code",
   "execution_count": 1,
   "metadata": {},
   "outputs": [],
   "source": [
    "import numpy as np\n",
    "import os, sys\n",
    "import h5py\n",
    "import pandas as pd\n",
    "import matplotlib.pyplot as plt\n",
    "import datetime as DT\n",
    "import matplotlib.dates as mdates\n",
    "\n",
    "sys.path.append('/Users/ajc/Core/SimDataInputs/ats-repo/ats-Aug6/tools/utils/')\n",
    "sys.path.append('/Users/ajc/Core/PostProcessData/PyScript')\n",
    "sys.path.append('/Users/ajc/Core/PostProcessData/PyScript/barrow')\n",
    "import readdata as rd"
   ]
  },
  {
   "cell_type": "code",
   "execution_count": 32,
   "metadata": {},
   "outputs": [],
   "source": [
    "simulations = ['SiteC_3D_3R3A', 'SiteC_3D_3R3B','SiteC_3D_3R3C']\n",
    "SimName = ['S3A','S3B', 'S3C']\n",
    "path =\"/Users/ajc/FUSE1/simulations/barrow_icewedges/NGEE/SiteC_3D_210120\"\n",
    "flux_right_rim = [os.path.join(path,s,'slice_rightrim-mass_flux_dir.dat') for s in simulations]\n",
    "flux_left_rim = [os.path.join(path,s,'slice_leftrim-mass_flux_dir.dat') for s in simulations]"
   ]
  },
  {
   "cell_type": "code",
   "execution_count": null,
   "metadata": {},
   "outputs": [],
   "source": []
  },
  {
   "cell_type": "code",
   "execution_count": 33,
   "metadata": {},
   "outputs": [],
   "source": [
    "Flux_LR = dict()\n",
    "Flux_RR = dict()\n",
    "molar_den = 1000./0.018\n",
    "for i,s in enumerate(SimName):\n",
    "    key_flux = SimName[i] + '_' + \"flux\"\n",
    "    key_time = SimName[i] + '_' + \"time\"\n",
    "    d1 = np.loadtxt(flux_left_rim[i],usecols=1)\n",
    "    d = [x/molar_den*86400. for x in d1]\n",
    "    Flux_LR[key_flux] = np.array(d)\n",
    "    t1 = np.loadtxt(flux_left_rim[i],usecols=0)\n",
    "    t = [2010 + x/86400/365. for x in t1]\n",
    "    Flux_LR[key_time] = np.array(t)\n",
    "    \n",
    "    d1 = np.loadtxt(flux_right_rim[i],usecols=1)\n",
    "    d = [x/molar_den*86400. for x in d1]\n",
    "    Flux_RR[key_flux] = np.array(d)\n",
    "    t1 = np.loadtxt(flux_right_rim[i],usecols=0)\n",
    "    t = [2010 + x/86400/365. for x in t1]\n",
    "    Flux_RR[key_time] = np.array(t) "
   ]
  },
  {
   "cell_type": "code",
   "execution_count": null,
   "metadata": {},
   "outputs": [],
   "source": []
  },
  {
   "cell_type": "code",
   "execution_count": 34,
   "metadata": {},
   "outputs": [
    {
     "name": "stdout",
     "output_type": "stream",
     "text": [
      "1095 1095\n",
      "1095 1095\n",
      "1095 1095\n",
      "1095 1095\n",
      "1095 1095\n",
      "1095 1095\n"
     ]
    }
   ],
   "source": [
    "def get_time_format(dat):\n",
    "    Dat = []\n",
    "    #print (dat)\n",
    "    year = int(dat[0])\n",
    "    year_start = DT.date(year,1,1)\n",
    "    dateFormatted = year_start.strftime(\"%y\")\n",
    "    #year_start = format(dateFormatted)\n",
    "    for i in dat:\n",
    "        f = float(i)\n",
    "        delta = year_start + DT.timedelta(days = int((i-year)*365) )\n",
    "        #delta = format(dateFormatted) + DT.timedelta(days = int((i-year)*365) )\n",
    "        Dat.append(delta)\n",
    "    print (len(dat), len(Dat))\n",
    "    return Dat\n",
    "\n",
    "Flux_RR['S3A_time_f'] = get_time_format(Flux_RR['S3A_time'])\n",
    "Flux_RR['S3B_time_f'] = get_time_format(Flux_RR['S3B_time'])\n",
    "Flux_RR['S3C_time_f'] = get_time_format(Flux_RR['S3C_time'])\n",
    "\n",
    "Flux_LR['S3A_time_f'] = get_time_format(Flux_LR['S3A_time'])\n",
    "Flux_LR['S3B_time_f'] = get_time_format(Flux_LR['S3B_time'])\n",
    "Flux_LR['S3C_time_f'] = get_time_format(Flux_LR['S3C_time'])"
   ]
  },
  {
   "cell_type": "code",
   "execution_count": 52,
   "metadata": {},
   "outputs": [],
   "source": [
    "%matplotlib tk\n",
    "outfile = '/Users/ajc/Core/PostProcessData/2019/simulations/barrow-iwp/Jan22_2020/Watertable3D/'\n",
    "fig, ax = plt.subplots(2,1, figsize=(4,6), facecolor='w', edgecolor='k',gridspec_kw={'width_ratios':[1]})\n",
    "fig.subplots_adjust(hspace =.02, wspace=1.02)\n",
    "plt.tight_layout()\n",
    "ax = ax.ravel()\n",
    "xfmt = mdates.DateFormatter('%m/%y')\n",
    "\n",
    "ax[0].xaxis.set_major_formatter(xfmt)\n",
    "ax[0].set_xticks(Flux_RR['S3A_time_f'][::31])\n",
    "ax[0].plot(Flux_LR['S3A_time_f'],Flux_LR['S3A_flux'],'k-.',markersize='4',label='Basecase')\n",
    "ax[0].plot(Flux_LR['S3B_time_f'],Flux_LR['S3B_flux'],'m-.',markersize='4',label=r'$2.0 \\times K$')\n",
    "ax[0].plot(Flux_LR['S3C_time_f'],Flux_LR['S3C_flux'],'b-.',markersize='4',label=r'$0.5 \\times K$')\n",
    "ax[0].set_xlim(['2013-06-01','2013-10-21'])\n",
    "\n",
    "ax[0].set_ylim(-0.15, 0.15)\n",
    "ax[0].set_ylabel('Mass flux [m$^3$/day]')\n",
    "    \n",
    "ax[0].legend(loc='lower left', fontsize=8,ncol=1,prop={'size': 9})\n",
    "ax[0].text('2013-06-5', .12, 'Vertical slice through the left rim',fontsize=11, fontweight='normal')\n",
    "\n",
    "# right rim\n",
    "ax[1].xaxis.set_major_formatter(xfmt)\n",
    "ax[1].set_xticks(Flux_RR['S3A_time_f'][::31])\n",
    "ax[1].plot(Flux_RR['S3A_time_f'],Flux_RR['S3A_flux'],'k-.',markersize='4',label='Basecase')\n",
    "ax[1].plot(Flux_RR['S3B_time_f'],Flux_RR['S3B_flux'],'m-.',markersize='4',label=r'$2.0 \\times K$')\n",
    "ax[1].plot(Flux_RR['S3C_time_f'],Flux_RR['S3C_flux'],'b-.',markersize='4',label=r'$0.5 \\times K$')\n",
    "ax[1].set_xlim(['2013-06-01','2013-10-21'])\n",
    "\n",
    "ax[1].set_ylim(-0.15, 0.15)\n",
    "ax[1].set_ylabel('Mass flux [m$^3$/day]')\n",
    "ax[1].set_xlabel('Time [m/y]')\n",
    "ax[1].legend(loc='lower left', fontsize=8,ncol=1,prop={'size': 9})\n",
    "ax[1].text('2013-06-5', .12, 'Vertical slice through the right rim',fontsize=11, fontweight='normal')\n",
    "\n",
    "plt.savefig(outfile+'SiteC_3D_3R3A_3R3B_3R3B-fluxes.pdf', bbox_inches='tight', dpi=100)\n",
    "plt.show()"
   ]
  },
  {
   "cell_type": "code",
   "execution_count": null,
   "metadata": {},
   "outputs": [],
   "source": []
  }
 ],
 "metadata": {
  "kernelspec": {
   "display_name": "Python 3",
   "language": "python",
   "name": "python3"
  },
  "language_info": {
   "codemirror_mode": {
    "name": "ipython",
    "version": 3
   },
   "file_extension": ".py",
   "mimetype": "text/x-python",
   "name": "python",
   "nbconvert_exporter": "python",
   "pygments_lexer": "ipython3",
   "version": "3.7.3"
  }
 },
 "nbformat": 4,
 "nbformat_minor": 2
}
