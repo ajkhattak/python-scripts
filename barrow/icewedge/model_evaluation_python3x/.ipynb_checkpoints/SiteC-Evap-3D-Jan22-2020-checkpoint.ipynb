{
 "cells": [
  {
   "cell_type": "code",
   "execution_count": null,
   "metadata": {},
   "outputs": [],
   "source": []
  },
  {
   "cell_type": "code",
   "execution_count": 1,
   "metadata": {},
   "outputs": [],
   "source": [
    "import numpy as np\n",
    "import os, sys\n",
    "import h5py\n",
    "import pandas as pd\n",
    "import matplotlib.pyplot as plt\n",
    "\n",
    "import datetime\n",
    "sys.path.append('/Users/ajc/Desktop/SimDataInputs/ats-repo/ats/tools/utils/')\n",
    "sys.path.append('/Users/ajc/Projects/ATS-Data/OR-CONDO/mytests-orhydra/PyScript')\n",
    "import readdata as rd\n",
    "import parse_ats, transect_data"
   ]
  },
  {
   "cell_type": "code",
   "execution_count": null,
   "metadata": {},
   "outputs": [],
   "source": []
  },
  {
   "cell_type": "code",
   "execution_count": 2,
   "metadata": {},
   "outputs": [],
   "source": [
    "# Read Snow\n",
    "def Observed_EddyCorianceData(file,col_names,year):\n",
    "    \n",
    "    data_orig = pd.read_csv(file)#,skiprows=1)\n",
    "    time1 = np.array([year + t/365. for t in data_orig['DOY']])\n",
    "    data1 = np.array([ x for x in data_orig[col_names[1]]])\n",
    "   \n",
    "    dat_temp = np.zeros((len(time1)))\n",
    "    \n",
    "    for i,d in enumerate(data1):\n",
    "        if d>0:\n",
    "            dat_temp[i] = d\n",
    "        \n",
    "    L1 = len(time1) - len(time1)%48\n",
    "    \n",
    "    Data1 = np.reshape(dat_temp[:L1], (-1,48)).mean(axis=1)\n",
    "    Time1 = np.reshape(time1[:L1], (-1,48)).mean(axis=1)\n",
    "    \n",
    "    mask = np.ones(len(Data1),dtype=bool)\n",
    "    \n",
    "    for i,d1 in enumerate(Data1):\n",
    "        if d1 == 0:\n",
    "            mask[i] = False\n",
    "\n",
    "    Data1 = Data1[mask] * 24.\n",
    "    Time1 = Time1[mask]\n",
    "   \n",
    "    Data = dict()\n",
    "    Data['DOY'] = Time1\n",
    "    Data[col_names[1]] = Data1 \n",
    "    return Data"
   ]
  },
  {
   "cell_type": "code",
   "execution_count": 3,
   "metadata": {},
   "outputs": [
    {
     "name": "stdout",
     "output_type": "stream",
     "text": [
      "/Users/ajc/Desktop/SimDataInputs/barrow-polygon-data/eddy_covariance/NGEE_Barrow_EC_2012_data.csv\n",
      "/Users/ajc/Desktop/SimDataInputs/barrow-polygon-data/eddy_covariance/NGEE_Barrow_EC_2013_data.csv\n",
      "/Users/ajc/Desktop/SimDataInputs/barrow-polygon-data/eddy_covariance/NGEE_Barrow_EC_2014_data.csv\n"
     ]
    }
   ],
   "source": [
    "#%matplotlib\n",
    "infile = '/Users/ajc/Desktop/SimDataInputs/barrow-polygon-data/eddy_covariance/'\n",
    "infile = [infile + 'NGEE_Barrow_EC_%s_data.csv'%i for i in range(2012,2015)]\n",
    "\n",
    "ObservedET_Orig = dict()\n",
    "years = [2012,2013,2014]\n",
    "for i,file in enumerate(infile):\n",
    "    print (file)\n",
    "    d = Observed_EddyCorianceData(file,col_names=['date', 'ET'],year=years[i]);\n",
    "    ObservedET_Orig['ET_%s'%years[i]] = d['ET']\n",
    "    ObservedET_Orig['Time_%s'%years[i]] = d['DOY']\n",
    "#print (ObservedET_Orig.keys())\n",
    "\n",
    "ObservedET = dict()\n",
    "#plt.plot(ObservedET_Orig['Time_2012'],ObservedET_Orig['ET_2012'])\n",
    "ObservedET['Time'] = np.concatenate([ObservedET_Orig[key] for key in ObservedET_Orig.keys() if 'Time' in key])\n",
    "ObservedET['ET'] = np.concatenate([ObservedET_Orig[key] for key in ObservedET_Orig.keys() if 'ET' in key])"
   ]
  },
  {
   "cell_type": "code",
   "execution_count": 4,
   "metadata": {},
   "outputs": [],
   "source": [
    "#print (len(ObservedET['Time']),len(ObservedET_Orig['Time_2012']),len(ObservedET_Orig['Time_2013']),len(ObservedET_Orig['Time_2014']))\n",
    "#print (ObservedET['Time'][50:70])\n",
    "#plt.plot(ObservedET['Time'],ObservedET['ET'], '.')"
   ]
  },
  {
   "cell_type": "code",
   "execution_count": 5,
   "metadata": {},
   "outputs": [],
   "source": [
    "import re\n",
    "def sorted_nicely( l ):\n",
    "    convert = lambda text: int(text) if text.isdigit() else text\n",
    "    alphanum_key = lambda key: [convert(c) for c in re.split('([0-9]+)', key)]\n",
    "    return sorted(l, key = alphanum_key)\n"
   ]
  },
  {
   "cell_type": "code",
   "execution_count": 6,
   "metadata": {},
   "outputs": [],
   "source": [
    "simulation = ['SiteC_3D_3R1E', 'SiteC_3D_3R1E'] # Evaporation comparison\n",
    "#simulation = ['SiteC_3D_3R1E', 'SiteC_3D_3R1G'] # Evaporation comparison, dessicated zone = 20 cm\n",
    "path = \"/Users/ajc/Projects/ATS-Data/OR-CONDO/simulations/barrow_icewedges/NGEE/SiteC_3D_June10/\"\n",
    "\n",
    "dir_files = os.listdir(path + simulation[0])\n",
    "Vars = ['surface-evaporation-center', 'surface-evaporation-rightrim', 'surface-evaporation-righttrough']\n",
    "SimName = ['S1', 'S2']\n",
    "Files = dict()\n",
    "for var in Vars:\n",
    "    Files_Temp = [f for f in dir_files if f.startswith(var)]\n",
    "    Files[var] = sorted_nicely(Files_Temp)\n"
   ]
  },
  {
   "cell_type": "code",
   "execution_count": 7,
   "metadata": {},
   "outputs": [
    {
     "name": "stdout",
     "output_type": "stream",
     "text": [
      "1095\n",
      "['surface-evaporation-center', 'surface-evaporation-rightrim', 'surface-evaporation-righttrough']\n"
     ]
    }
   ],
   "source": [
    "DataSimAll= dict()\n",
    "\n",
    "temp_C = []\n",
    "for i,sim in enumerate(simulation):\n",
    "    Sname = SimName[i] + '-'\n",
    "    for var in Vars:\n",
    "        for files in Files[var]:\n",
    "            dat = rd.ReadSingleFile(os.path.join(path+sim,files))\n",
    "            DataSimAll[Sname + files[:-4]] = np.array(dat['data'])\n",
    "            time = [t/86400. for t in dat['time']]\n",
    "            assert len(dat['data']) == len(dat['time'])\n",
    "\n",
    "DataSim1 = dict()\n",
    "DataSim2 = dict()\n",
    "DataSim2['Time'] = [2010 + t/365. for t in time]\n",
    "\n",
    "print (len(DataSim2['Time']))\n",
    "for key in list(DataSimAll):#.keys():\n",
    "    if SimName[0] in key:\n",
    "        DataSim1[key[3:]] = DataSimAll[key]\n",
    "    if SimName[1] in key:\n",
    "        DataSim2[key[3:]] = DataSimAll[key]\n",
    "print (list(DataSim1))"
   ]
  },
  {
   "cell_type": "code",
   "execution_count": 8,
   "metadata": {},
   "outputs": [
    {
     "name": "stdout",
     "output_type": "stream",
     "text": [
      "surface-evaporation-center 3\n",
      "surface-evaporation-rightrim 3\n",
      "surface-evaporation-righttrough 4\n"
     ]
    }
   ],
   "source": [
    "for key in list(DataSim1):#.keys():\n",
    "    K = key\n",
    "    print (K, len(list(DataSim1)))\n",
    "    if 'right' in key:\n",
    "        K = key.replace('right',\"\")\n",
    "    DataSim2[K] = DataSim2[key]\n",
    "    DataSim1[K] = DataSim1[key]"
   ]
  },
  {
   "cell_type": "code",
   "execution_count": null,
   "metadata": {},
   "outputs": [],
   "source": []
  },
  {
   "cell_type": "code",
   "execution_count": 9,
   "metadata": {
    "scrolled": true
   },
   "outputs": [],
   "source": [
    "def put_axis(loc=''):\n",
    "    plt.text(2012.75, 0.62, '%s'%(loc),fontsize=11, fontweight='normal')\n",
    "    plt.ylim((0, 0.7))\n",
    "    #plt.yticks(np.linspace(245,285, 5))\n",
    "    plt.xlim((2013.4, 2014.9))    \n",
    "    "
   ]
  },
  {
   "cell_type": "code",
   "execution_count": 10,
   "metadata": {},
   "outputs": [],
   "source": [
    "outfile = '/Users/ajc/AllPostProcessData/2019/simulations/barrow-iwp/July16/ET/'\n",
    "#outfileSnow = '/Users/ajc/AllPostProcessData/2019/simulations/barrow-iwp/May15/Snow3D/'"
   ]
  },
  {
   "cell_type": "code",
   "execution_count": null,
   "metadata": {},
   "outputs": [],
   "source": []
  },
  {
   "cell_type": "code",
   "execution_count": 17,
   "metadata": {},
   "outputs": [
    {
     "name": "stdout",
     "output_type": "stream",
     "text": [
      "Using matplotlib backend: MacOSX\n"
     ]
    }
   ],
   "source": [
    "%matplotlib \n",
    "DataSim1['surface_evaporation_T'] = DataSim1['surface-evaporation-trough']\n",
    "DataSim1['surface_evaporation_C'] = DataSim1['surface-evaporation-center']\n",
    "DataSim1['surface_evaporation_R'] = DataSim1['surface-evaporation-rim']\n",
    "\n",
    "DataSim2['surface_evaporation_T'] = DataSim2['surface-evaporation-trough']\n",
    "DataSim2['surface_evaporation_C'] = DataSim2['surface-evaporation-center']\n",
    "DataSim2['surface_evaporation_R'] = DataSim2['surface-evaporation-rim']\n",
    "#Evaporative flux\n",
    "def local_axes():\n",
    "    plt.xlabel('Year')\n",
    "    #ax.set_xlim((2012.7, 2014.5))\n",
    "    plt.ylim((-2, 8.0))\n",
    "    #plt.legend(loc='upper left',fontsize=6)\n",
    "\n",
    "open_water, mosses, bare_g= 0.15,0.37,0.48\n",
    "Volume = [2.54729, 0.104032, 2.06396] # Trough, center, rim\n",
    "ET1_Tr = [ d1*1000*86400/Volume[0] for d1 in DataSim1['surface_evaporation_T'] ]\n",
    "ET1_C = [ d1*1000*86400/Volume[1] for d1 in DataSim1['surface_evaporation_C'] ]\n",
    "ET1_R = [ d1*1000*86400/Volume[2] for d1 in DataSim1['surface_evaporation_R'] ]\n",
    "\n",
    "plt.plot(ET1_Tr,'r')\n",
    "plt.plot(ET1_C,'k')\n",
    "plt.plot(ET1_R,'m')\n",
    "plt.show()\n",
    "ET1_Total = [open_water*x + mosses*y + bare_g*z for x,y,z in zip(ET1_Tr, ET1_C,ET1_R)]\n",
    "\n",
    "ET2_Tr = [ d1*1000*86400 for d1 in DataSim2['surface_evaporation_T'] ]\n",
    "ET2_C = [ d1*1000*86400 for d1 in DataSim2['surface_evaporation_C'] ]\n",
    "ET2_R = [ d1*1000*86400 for d1 in DataSim2['surface_evaporation_R'] ]\n",
    "\n",
    "ET2_Total = [open_water*x + mosses*y + bare_g*z for x,y,z in zip(ET2_Tr, ET2_C,ET2_R)]\n",
    "\n",
    "\n",
    "#----------------------------------------------------------------------\n",
    "def plot_EvaporativeFlux(location = 'trough'):\n",
    "    fig, axs = plt.subplots(1,1, figsize=(6,4), facecolor='w', edgecolor='k',gridspec_kw={'width_ratios':[1]})\n",
    "    fig.subplots_adjust(hspace =.02, wspace=1.02)\n",
    "\n",
    "    plt.tight_layout()\n",
    "    #axs = axs.ravel()\n",
    "    \n",
    "    lambda1 , lambda2 = 1,1\n",
    "    Elev_T, Elev_R, Elev_C = 4.65873, 5.00137, 4.78591\n",
    "    ax = plt.subplot(111)\n",
    "    days_et = 315 + 205\n",
    "    \n",
    "    plt.plot(DataSim2['Time'],ET1_Total,'k',label='Simulated')\n",
    "    #plt.plot(DataSim2['Time'],ET2_Total,'g.',label='Simulated -2')\n",
    "    plt.plot(ObservedET['Time'],ObservedET['ET'],'r.',label='Observed')\n",
    "    \n",
    "    ax.set_ylabel('Evaporation [mm/day]')\n",
    "    ax.set_xlabel('Year')\n",
    "    plt.xlim((2013.4, 2014.9))\n",
    "    plt.ylim((0, 7))\n",
    "    \n",
    "    plt.legend(loc='upper left',fontsize=9)\n",
    "    \n",
    "    \n",
    "    #plt.legend(loc='upper right', fontsize=10, ncol=3, bbox_to_anchor=(0.9,-0.3, .1, .1))\n",
    "    plt.tight_layout()\n",
    "    #plt.savefig(outfile+'ET-%s.pdf'%simulation[0], bbox_inches='tight', dpi=600)"
   ]
  },
  {
   "cell_type": "code",
   "execution_count": 16,
   "metadata": {},
   "outputs": [],
   "source": [
    "plot_EvaporativeFlux()"
   ]
  },
  {
   "cell_type": "code",
   "execution_count": 72,
   "metadata": {},
   "outputs": [
    {
     "name": "stdout",
     "output_type": "stream",
     "text": [
      "Using matplotlib backend: MacOSX\n"
     ]
    }
   ],
   "source": [
    "\n",
    "%matplotlib \n",
    "DataSim1['surface_evaporation_T'] = DataSim1['surface-evaporation-trough']\n",
    "DataSim1['surface_evaporation_C'] = DataSim1['surface-evaporation-center']\n",
    "DataSim1['surface_evaporation_R'] = DataSim1['surface-evaporation-rim']\n",
    "\n",
    "def plot_EvaporativeFluxSimulatedOnly():\n",
    "    fig, axs = plt.subplots(3,1, figsize=(5,6), facecolor='w', edgecolor='k',gridspec_kw={'width_ratios':[1]})\n",
    "    fig.subplots_adjust(hspace =.02, wspace=1.02)\n",
    "\n",
    "    plt.tight_layout()\n",
    "    axs = axs.ravel()\n",
    "    \n",
    "    lambda1 , lambda2 = 1,1\n",
    "    Elev_T, Elev_R, Elev_C = 4.65873, 5.00137, 4.78591\n",
    "    ax = plt.subplot(311)\n",
    "    days_et = 315 + 205\n",
    "    \n",
    "    Volume = [2.54729, 0.104032, 2.06396] # Trough, center, rim\n",
    "    Sim1_T = [ d1*1000*86400 for d1 in DataSim1['surface_evaporation_T'] ]\n",
    "       \n",
    "    plt.plot(DataSim2['Time'][::1], Sim1_T[::1],'k.',label='Trough') \n",
    "    ax.set_ylabel('Evaporation [mm/day]')\n",
    "    plt.legend(loc='upper right',fontsize=9)\n",
    "    plt.ylim((0, 10))\n",
    "    plt.xlim((2012, 2015))\n",
    "    ax = plt.subplot(312)\n",
    "       \n",
    "    \n",
    "    Sim1_C = [ d1*1000*86400 for d1 in DataSim2['surface_evaporation_C'] ]\n",
    "    plt.plot(DataSim2['Time'][::1], Sim1_C[::1],'k.',label='Center')\n",
    "    ax.set_ylabel('Evaporation [mm/day]')\n",
    "    plt.ylim((0, 10))\n",
    "    plt.xlim((2012, 2015))\n",
    "    plt.legend(loc='upper right',fontsize=9)\n",
    "\n",
    "    #local_axes()\n",
    "    ax = plt.subplot(313)\n",
    "\n",
    "    Sim1_R = [ d1*1000*86400 for d1 in DataSim2['surface_evaporation_R'] ]\n",
    "    plt.plot(DataSim2['Time'][::1], Sim1_R[::1],'k.',label='Rim')\n",
    "    #ax.set_title('Rim',fontweight='bold')\n",
    "    ax.set_ylabel('Evaporation [mm/day]')\n",
    "    ax.set_xlabel('Year')\n",
    "    plt.ylim((0, 10))\n",
    "    plt.xlim((2012, 2015))\n",
    "    #local_axes()\n",
    "    \n",
    "    plt.legend(loc='upper right',fontsize=9)\n",
    "    \n",
    "    \n",
    "    #plt.legend(loc='upper right', fontsize=10, ncol=3, bbox_to_anchor=(0.9,-0.3, .1, .1))\n",
    "    plt.tight_layout()\n",
    "    plt.savefig(outfile+'%s-ET-micro-locations.pdf'%simulation[0], bbox_inches='tight', dpi=600)"
   ]
  },
  {
   "cell_type": "code",
   "execution_count": 73,
   "metadata": {},
   "outputs": [],
   "source": [
    " plot_EvaporativeFluxSimulatedOnly()"
   ]
  },
  {
   "cell_type": "code",
   "execution_count": null,
   "metadata": {},
   "outputs": [],
   "source": []
  }
 ],
 "metadata": {
  "kernelspec": {
   "display_name": "Python 2",
   "language": "python",
   "name": "python2"
  },
  "language_info": {
   "codemirror_mode": {
    "name": "ipython",
    "version": 3
   },
   "file_extension": ".py",
   "mimetype": "text/x-python",
   "name": "python",
   "nbconvert_exporter": "python",
   "pygments_lexer": "ipython3",
   "version": "3.7.3"
  }
 },
 "nbformat": 4,
 "nbformat_minor": 2
}
