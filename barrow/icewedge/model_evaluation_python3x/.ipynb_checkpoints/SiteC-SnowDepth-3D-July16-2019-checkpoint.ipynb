{
 "cells": [
  {
   "cell_type": "code",
   "execution_count": 1,
   "metadata": {},
   "outputs": [
    {
     "name": "stdout",
     "output_type": "stream",
     "text": [
      "Using matplotlib backend: MacOSX\n"
     ]
    }
   ],
   "source": [
    "%matplotlib"
   ]
  },
  {
   "cell_type": "code",
   "execution_count": 2,
   "metadata": {},
   "outputs": [],
   "source": [
    "\n",
    "import numpy as np\n",
    "import os, sys\n",
    "import h5py\n",
    "import pandas as pd\n",
    "import matplotlib.pyplot as plt\n",
    "\n",
    "import datetime\n",
    "sys.path.append('/Users/ajc/Desktop/SimDataInputs/ats-repo/ats/tools/utils/')\n",
    "sys.path.append('/Users/ajc/Projects/ATS-Data/OR-CONDO/mytests-orhydra/PyScript')\n",
    "import readdata as rd\n",
    "import parse_ats, transect_data"
   ]
  },
  {
   "cell_type": "code",
   "execution_count": 3,
   "metadata": {},
   "outputs": [],
   "source": [
    "time_origin = datetime.datetime(2010,1,1,0,0,0)"
   ]
  },
  {
   "cell_type": "code",
   "execution_count": null,
   "metadata": {},
   "outputs": [],
   "source": []
  },
  {
   "cell_type": "code",
   "execution_count": 4,
   "metadata": {},
   "outputs": [],
   "source": [
    "# Read Snow\n",
    "def ObservedSnow(location='Center'):\n",
    "    SnowData = dict()\n",
    "    infile = '/Users/ajc/Desktop/SimDataInputs/barrow-polygon-data/Vladimir-Data/SnowDepth/'\n",
    "    infile_observed1 = infile + 'C_Snow_%s_2012-2013.csv'%location\n",
    "    infile_observed2 = infile + 'C_Snow_%s_2013-2014.csv'%location\n",
    "    datasnow1 = pd.read_csv(infile_observed1,skiprows=3)\n",
    "    datasnow2 = pd.read_csv(infile_observed2,skiprows=3)\n",
    "\n",
    "    dat1 = np.array([ x for x in datasnow1['1 Hour Moving Average']])\n",
    "    dat2 = np.array([ x for x in datasnow2['1 Hour Moving Average']])\n",
    "    \n",
    "    SnowData1 = np.array([x/1. for i,x in enumerate(dat1)])\n",
    "    SnowData2 = np.array([x/1. for i,x in enumerate(dat2)])\n",
    "    \n",
    "    time1 = [pd.to_datetime(datasnow1['TZ=UTC+0'])]\n",
    "    time = np.array([(t - time_origin).dt.total_seconds()/86400 for t in time1])\n",
    "    TimeSnow1 = np.array([t/365.25 for t in time[0]])\n",
    "    \n",
    "    \n",
    "    time1 = [pd.to_datetime(datasnow2['TZ=UTC+0'])]\n",
    "    time = np.array([(t - time_origin).dt.total_seconds()/86400 for t in time1])\n",
    "    TimeSnow2 = np.array([t/365.25 for t in time[0]])\n",
    "    \n",
    "   \n",
    "    mask = np.ones(len(SnowData1), dtype=bool)\n",
    "    for i,d in enumerate(SnowData1):\n",
    "        if d > 6000 or d < 0:\n",
    "            mask[i] = False\n",
    "    SnowData1 = SnowData1[mask]\n",
    "    TimeSnow1 = TimeSnow1[mask]\n",
    "    SnowData1 = SnowData1 / 100.\n",
    "    L1 = len(SnowData1) - len(SnowData1)%24\n",
    "    \n",
    "    SnowData1 = np.reshape(SnowData1[:L1], (-1,24)).mean(axis=1)\n",
    "    TimeSnow1 = np.reshape(TimeSnow1[:L1], (-1,24)).mean(axis=1)\n",
    "    \n",
    "    mask = np.ones(len(SnowData2), dtype=bool)\n",
    "    for i,d in enumerate(SnowData2):\n",
    "        if d > 6000 or d < 0:\n",
    "            mask[i] = False\n",
    "    SnowData2 = SnowData2[mask]\n",
    "    TimeSnow2 = TimeSnow2[mask]\n",
    "\n",
    "    SnowData2 = SnowData2 / 100.\n",
    "    \n",
    "    L2 = len(SnowData2) - len(SnowData2)%24\n",
    "    \n",
    "    SnowData2 = np.reshape(SnowData2[:L2], (-1,24)).mean(axis=1)\n",
    "    TimeSnow2 = np.reshape(TimeSnow2[:L2], (-1,24)).mean(axis=1)\n",
    "    SnowData['snow_time_%s'%location] = np.concatenate((TimeSnow1, TimeSnow2))\n",
    "    SnowData['snow_depth_%s'%location] = np.concatenate((SnowData1,SnowData2))\n",
    "\n",
    "    return SnowData"
   ]
  },
  {
   "cell_type": "code",
   "execution_count": 5,
   "metadata": {},
   "outputs": [],
   "source": [
    "DataObservedSnow = dict()\n",
    "\n",
    "DataObservedSnow = ObservedSnow('Center')\n",
    "d2 = ObservedSnow('Rim')\n",
    "d3 = ObservedSnow('Trough')\n",
    "DataObservedSnow.update(d2)\n",
    "DataObservedSnow.update(d3)\n"
   ]
  },
  {
   "cell_type": "code",
   "execution_count": 6,
   "metadata": {},
   "outputs": [],
   "source": [
    "import re\n",
    "def sorted_nicely( l ):\n",
    "    convert = lambda text: int(text) if text.isdigit() else text\n",
    "    alphanum_key = lambda key: [convert(c) for c in re.split('([0-9]+)', key)]\n",
    "    return sorted(l, key = alphanum_key)\n"
   ]
  },
  {
   "cell_type": "code",
   "execution_count": 7,
   "metadata": {},
   "outputs": [],
   "source": [
    "simulation = ['SiteC_3D_3R1B', 'SiteC_3D_3R1C'] # Sensitivty tests 1B no limiter on snow density, 1C limiter on snow density (basecase)\n",
    "path = \"/Users/ajc/Projects/ATS-Data/OR-CONDO/simulations/barrow_icewedges/NGEE/SiteC_3D_June10/\"\n",
    "\n",
    "dir_files = os.listdir(path + simulation[0])\n",
    "Vars = ['snow_depth-center', 'snow_depth-rightrim', 'snow_depth-righttrough','ponded_depth-center', 'ponded_depth-rightrim', 'ponded_depth-righttrough']\n",
    "#Vars = ['snow_density-center', 'snow_density-rightrim', 'snow_density-righttrough']\n",
    "SimName = ['S1', 'S2']\n",
    "Files = dict()\n",
    "for var in Vars:\n",
    "    Files_Temp = [f for f in dir_files if f.startswith(var)]\n",
    "    Files[var] = sorted_nicely(Files_Temp)\n"
   ]
  },
  {
   "cell_type": "code",
   "execution_count": 8,
   "metadata": {},
   "outputs": [
    {
     "name": "stdout",
     "output_type": "stream",
     "text": [
      "1095\n",
      "['snow_depth-center', 'snow_depth-rightrim', 'snow_depth-righttrough', 'ponded_depth-center', 'ponded_depth-righttrough']\n"
     ]
    }
   ],
   "source": [
    "\n",
    "DataSimAll= dict()\n",
    "\n",
    "temp_C = []\n",
    "for i,sim in enumerate(simulation):\n",
    "    Sname = SimName[i] + '-'\n",
    "    for var in Vars:\n",
    "        for files in Files[var]:\n",
    "            dat = rd.ReadSingleFile(os.path.join(path+sim,files))\n",
    "            DataSimAll[Sname + files[:-4]] = np.array(dat['data'])\n",
    "            time = [t/86400. for t in dat['time']]\n",
    "            assert len(dat['data']) == len(dat['time'])\n",
    "\n",
    "DataSim1 = dict()\n",
    "DataSim2 = dict()\n",
    "DataSim2['Time'] = [2010 + t/365. for t in time]\n",
    "\n",
    "print (len(DataSim2['Time']))\n",
    "for key in list(DataSimAll):#.keys():\n",
    "    if SimName[0] in key:\n",
    "        DataSim1[key[3:]] = DataSimAll[key]\n",
    "    if SimName[1] in key:\n",
    "        DataSim2[key[3:]] = DataSimAll[key]\n",
    "print (list(DataSim1))"
   ]
  },
  {
   "cell_type": "code",
   "execution_count": 9,
   "metadata": {},
   "outputs": [
    {
     "name": "stdout",
     "output_type": "stream",
     "text": [
      "snow_depth-center 5\n",
      "snow_depth-rightrim 5\n",
      "snow_depth-righttrough 5\n",
      "ponded_depth-center 5\n",
      "ponded_depth-righttrough 5\n",
      "[2012.0027397260274, 2012.0054794520547, 2012.0082191780823, 2012.0109589041097, 2012.013698630137, 2012.0164383561644, 2012.0191780821917, 2012.021917808219, 2012.0246575342467, 2012.027397260274] [2.7365389  2.73927675 2.7420146  2.74475245 2.7474903  2.75022815\n",
      " 2.75296601 2.75570386 2.75844171 2.76117956]\n"
     ]
    }
   ],
   "source": [
    "for key in list(DataSim1):#.keys():\n",
    "    K = key\n",
    "    print (K, len(list(DataSim1)))\n",
    "    if 'right' in key:\n",
    "        K = key.replace('right',\"\")\n",
    "    DataSim2[K] = DataSim2[key]\n",
    "    \n",
    "print (DataSim2['Time'][0:10], DataObservedSnow['snow_time_Center'][:10])"
   ]
  },
  {
   "cell_type": "code",
   "execution_count": null,
   "metadata": {},
   "outputs": [],
   "source": [
    "\n"
   ]
  },
  {
   "cell_type": "code",
   "execution_count": null,
   "metadata": {},
   "outputs": [],
   "source": []
  },
  {
   "cell_type": "code",
   "execution_count": 10,
   "metadata": {
    "scrolled": true
   },
   "outputs": [],
   "source": [
    "def put_axis(loc=''):\n",
    "    plt.text(2012.75, 0.62, '%s'%(loc),fontsize=11, fontweight='normal')\n",
    "    plt.ylim((0, 0.7))\n",
    "    #plt.yticks(np.linspace(245,285, 5))\n",
    "    plt.xlim((2012.7, 2014.5))    \n",
    "    "
   ]
  },
  {
   "cell_type": "code",
   "execution_count": null,
   "metadata": {},
   "outputs": [],
   "source": []
  },
  {
   "cell_type": "code",
   "execution_count": null,
   "metadata": {},
   "outputs": [],
   "source": []
  },
  {
   "cell_type": "code",
   "execution_count": 11,
   "metadata": {},
   "outputs": [],
   "source": [
    "outfile = '/Users/ajc/AllPostProcessData/2019/simulations/barrow-iwp/July16/Snow3D/'\n",
    "#outfileSnow = '/Users/ajc/AllPostProcessData/2019/simulations/barrow-iwp/May15/Snow3D/'"
   ]
  },
  {
   "cell_type": "code",
   "execution_count": null,
   "metadata": {},
   "outputs": [],
   "source": []
  },
  {
   "cell_type": "code",
   "execution_count": null,
   "metadata": {},
   "outputs": [],
   "source": []
  },
  {
   "cell_type": "code",
   "execution_count": 12,
   "metadata": {},
   "outputs": [
    {
     "name": "stdout",
     "output_type": "stream",
     "text": [
      "snow_time_Center\n",
      "snow_time_Rim\n",
      "snow_time_Trough\n"
     ]
    }
   ],
   "source": [
    "for T1 in list(DataObservedSnow):\n",
    "    if 'time' in T1:\n",
    "        DataObservedSnow[T1+'_yr'] = np.array([2010 + t for t in DataObservedSnow[T1]])\n",
    "        print (T1)"
   ]
  },
  {
   "cell_type": "code",
   "execution_count": 13,
   "metadata": {},
   "outputs": [],
   "source": [
    "def plot_at_depths(location = 'trough'):\n",
    "    fig, axs = plt.subplots(1,2, figsize=(8,8), facecolor='w', edgecolor='k',gridspec_kw={'width_ratios':[1,1]})\n",
    "    fig.subplots_adjust(hspace =.02, wspace=1.02)\n",
    "\n",
    "\n",
    "    plt.tight_layout()\n",
    "    axs = axs.ravel()\n",
    "    \n",
    "    ax = plt.subplot(311)\n",
    "    lambda1 , lambda2 = 1,1\n",
    "    Elev_T, Elev_R, Elev_C = 4.65873, 5.00137, 4.78591\n",
    "    plt.subplot(131)\n",
    "    snow_depth_Tr = [ lambda1*d1 + lambda2*Elev_T + d2 for d1,d2 in zip(DataSim2['ponded_depth-trough'],DataSim2['snow_depth-trough']) ]\n",
    "    DataObservedSnowT = [lambda2*Elev_T + d for d in DataObservedSnow['snow_depth_Trough'] ]\n",
    "    \n",
    "    plt.plot(DataObservedSnow['snow_time_Trough_yr'], DataObservedSnowT,'r.')\n",
    "    plt.plot(DataSim2['Time'], snow_depth_Tr,'k.')\n",
    "    plt.ylabel('Snow depth [m]')\n",
    "    #put_axis(loc='Trough')\n",
    "    \n",
    "    ax = plt.subplot(312)\n",
    "    #snow_depth_R = [ lambda1*d1 + lambda2*Elev_R + d2 for d1,d2 in zip(DataSim2['ponded_depth-rim'],DataSim2['snow_depth-rim']) ]\n",
    "    DataObservedSnowR = [lambda2*Elev_R + d for d in DataObservedSnow['snow_depth_Rim'] ]\n",
    "    plt.plot(DataObservedSnow['snow_time_Rim_yr'], DataObservedSnowR,'r.')\n",
    "    plt.plot(DataSim2['Time'], DataSim2['snow_depth-rim'],'k.')\n",
    "    plt.ylabel('Snow depth [m]')\n",
    "    #put_axis(loc='Rim')\n",
    "    \n",
    "    ax = plt.subplot(313)\n",
    "    snow_depth_C = [ lambda1*d1 + lambda2*Elev_C + d2 for d1,d2 in zip(DataSim2['ponded_depth-center'],DataSim2['snow_depth-center']) ]\n",
    "    DataObservedSnowC = [lambda2*Elev_C + d for d in DataObservedSnow['snow_depth_Center'] ]\n",
    "    plt.plot(DataObservedSnow['snow_time_Center_yr'], DataObservedSnowC,'r.',label='Observed')\n",
    "    plt.plot(DataSim2['Time'], snow_depth_C,'k.',label='Simulated')\n",
    "    \n",
    "    \n",
    "    \n",
    "    #plt.axhline(y=273.15,linestyle='--',color='g')\n",
    "    plt.ylabel('Snow depth [m]')\n",
    "    plt.xlabel('Year')\n",
    "\n",
    "    #put_axis(loc='Center')\n",
    "    \n",
    "        \n",
    "    plt.legend(loc='upper right', fontsize=10, ncol=3, bbox_to_anchor=(0.9,-0.32, .1, .1))\n",
    "    plt.tight_layout()\n",
    "    #plt.savefig(outfile+'%s-SD-%s.pdf'%(simulation[0] + simulation[0], location), bbox_inches='tight', dpi=600)"
   ]
  },
  {
   "cell_type": "code",
   "execution_count": 116,
   "metadata": {},
   "outputs": [],
   "source": [
    "def plot_SD_CT(location = 'trough'):\n",
    "    fig, axs = plt.subplots(1,3, figsize=(8,4), facecolor='w', edgecolor='k',gridspec_kw={'width_ratios':[1,1,1]})\n",
    "    fig.subplots_adjust(hspace =.02, wspace=1.02)\n",
    "\n",
    "    plt.tight_layout()\n",
    "    axs = axs.ravel()\n",
    "    \n",
    "    lambda1 , lambda2 = 1,1\n",
    "    Elev_T, Elev_R, Elev_C = 4.65873, 5.00137, 4.78591\n",
    "    ax = plt.subplot(131)\n",
    "    #only account for the frozen water\n",
    "    \n",
    "    PD_Frozen = [d1 if d2>1.2e-01 else 0 for d1,d2 in zip(DataSim2['ponded_depth-trough'],DataSim2['snow_depth-trough'])]\n",
    "    snow_depth_Tr = [ lambda1*d1 + lambda2*Elev_T + d2 for d1,d2 in zip(PD_Frozen,DataSim2['snow_depth-trough']) ]\n",
    "    DataObservedSnowT = [lambda2*Elev_T + d for d in DataObservedSnow['snow_depth_Trough'] ]\n",
    "    \n",
    "    plt.plot(DataObservedSnow['snow_time_Trough_yr'], DataObservedSnowT,'r.',label='Observed')\n",
    "    plt.plot(DataSim2['Time'], snow_depth_Tr,'k.',label='Simulated')\n",
    "    ax.set_ylabel('Snow depth [m]')\n",
    "    ax.set_xlabel('Year')\n",
    "    ax.set_title('Trough',fontweight='bold')\n",
    "    ax.set_xlim((2012.7, 2014.5)) \n",
    "    ax.set_ylim((4.6, 5.6))\n",
    "    plt.axhline(y=Elev_T,linestyle='--',color='g')\n",
    "    plt.legend(loc='upper left',fontsize=6)\n",
    "    #put_axis(loc='Trough')\n",
    "    \n",
    "    ax = plt.subplot(132)\n",
    "    PD_FrozenC = [d1 if d2>1.2e-01 else 0 for d1,d2 in zip(DataSim2['ponded_depth-center'],DataSim2['snow_depth-center'])]\n",
    "    \n",
    "    snow_depth_C = [ lambda1*d1 + lambda2*Elev_C + d2 for d1,d2 in zip(PD_FrozenC,DataSim2['snow_depth-center']) ]\n",
    "    DataObservedSnowC = [lambda2*Elev_C + d for d in DataObservedSnow['snow_depth_Center'] ]\n",
    "    plt.plot(DataObservedSnow['snow_time_Center_yr'], DataObservedSnowC,'r.',label='Observed')\n",
    "    plt.plot(DataSim2['Time'], snow_depth_C,'k.',label='Simulated')\n",
    "    \n",
    "    \n",
    "    #ax.set_ylabel('Snow depth [m]')\n",
    "    ax.set_xlabel('Year')\n",
    "    ax.set_title('Center',fontweight='bold')\n",
    "    ax.set_xlim((2012.7, 2014.5)) \n",
    "    ax.set_ylim((4.6, 5.6))\n",
    "    plt.axhline(y=Elev_C,linestyle='--',color='g')\n",
    "    plt.legend(loc='upper left',fontsize=6)\n",
    "    \n",
    "    ax = plt.subplot(133)\n",
    "    snow_depth_R = [ lambda1*d1 + lambda2*Elev_R for d1 in DataSim2['snow_depth-rim'] ]\n",
    "    DataObservedSnowR = [lambda2*Elev_R + d for d in DataObservedSnow['snow_depth_Rim'] ]\n",
    "    \n",
    "    plt.plot(DataObservedSnow['snow_time_Rim_yr'], DataObservedSnowR,'r.',label='Observed')\n",
    "    plt.plot(DataSim2['Time'], snow_depth_R,'k.',label='Simulated')\n",
    "    #ax.set_ylabel('Snow depth [m]')\n",
    "    ax.set_xlabel('Year')\n",
    "    ax.set_title('Rim',fontweight='bold')\n",
    "    ax.set_xlim((2012.7, 2014.5)) \n",
    "    ax.set_ylim((4.6, 5.6))\n",
    "    plt.axhline(y=Elev_R,linestyle='--',color='g')\n",
    "    plt.legend(loc='upper left',fontsize=6)\n",
    "    \n",
    "    \n",
    "    #plt.legend(loc='upper right', fontsize=10, ncol=3, bbox_to_anchor=(0.9,-0.3, .1, .1))\n",
    "    #plt.tight_layout()\n",
    "    plt.savefig(outfile+'%s-SD-%s.pdf'%(simulation[0] + simulation[0], location), bbox_inches='tight', dpi=600)"
   ]
  },
  {
   "cell_type": "code",
   "execution_count": 117,
   "metadata": {},
   "outputs": [
    {
     "data": {
      "image/png": "[encoded data removed]",
      "text/plain": [
       "<Figure size 576x288 with 3 Axes>"
      ]
     },
     "metadata": {},
     "output_type": "display_data"
    }
   ],
   "source": [
    "#plot_at_depths()\n",
    "plot_SD_CT()"
   ]
  },
  {
   "cell_type": "code",
   "execution_count": null,
   "metadata": {},
   "outputs": [],
   "source": []
  },
  {
   "cell_type": "code",
   "execution_count": null,
   "metadata": {},
   "outputs": [],
   "source": [
    "# PLOTTING FORCING DATA USED FOR MODEL EVALUATION"
   ]
  },
  {
   "cell_type": "code",
   "execution_count": null,
   "metadata": {},
   "outputs": [],
   "source": [
    "AnnaData = h5py.File('/Users/ajc/Desktop/SimDataInputs/forcing_data/BarrowAnna-WaterLevel/Barrow-2010_2016-updated.h5')\n",
    "AdamsData = h5py.File('/Users/ajc/Desktop/ATS/forcing_data/Adams_data/NewBarrow_2013.h5')\n",
    "AdamsTime = [2013 + t/(86400*365) for t in AdamsData['time (met) [s]']]\n",
    "AnnaTime = [2010 + t/(86400*365) for t in AnnaData['time [s]']]\n",
    "\n",
    "plt.plot(AdamsTime[:365],AdamsData['precipitation snow [m s^-1]'][:365],'r', label='Adams: Snow precip')\n",
    "plt.plot(AdamsTime[:365],AdamsData['precipitation snow [m s^-1]'][365:],'g.', label='Adams: Snow precip')\n",
    "plt.plot(AnnaTime,AnnaData['precipitation snow [m SWE s^-1]'],'k', label='Anna: Snow precip')\n",
    "plt.ylabel('Snow precipitation')\n",
    "plt.xlim(2013,2015)\n",
    "plt.legend()"
   ]
  },
  {
   "cell_type": "code",
   "execution_count": null,
   "metadata": {},
   "outputs": [],
   "source": []
  }
 ],
 "metadata": {
  "kernelspec": {
   "display_name": "Python 2",
   "language": "python",
   "name": "python2"
  },
  "language_info": {
   "codemirror_mode": {
    "name": "ipython",
    "version": 3
   },
   "file_extension": ".py",
   "mimetype": "text/x-python",
   "name": "python",
   "nbconvert_exporter": "python",
   "pygments_lexer": "ipython3",
   "version": "3.6.8"
  }
 },
 "nbformat": 4,
 "nbformat_minor": 2
}
