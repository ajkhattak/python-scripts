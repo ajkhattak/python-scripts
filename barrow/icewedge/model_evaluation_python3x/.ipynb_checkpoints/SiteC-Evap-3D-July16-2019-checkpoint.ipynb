{
 "cells": [
  {
   "cell_type": "code",
   "execution_count": null,
   "metadata": {},
   "outputs": [],
   "source": []
  },
  {
   "cell_type": "code",
   "execution_count": 1,
   "metadata": {},
   "outputs": [],
   "source": [
    "\n",
    "import numpy as np\n",
    "import os, sys\n",
    "import h5py\n",
    "import pandas as pd\n",
    "import matplotlib.pyplot as plt\n",
    "\n",
    "import datetime\n",
    "sys.path.append('/Users/ajc/Desktop/SimDataInputs/ats-repo/ats/tools/utils/')\n",
    "sys.path.append('/Users/ajc/Projects/ATS-Data/OR-CONDO/mytests-orhydra/PyScript')\n",
    "import readdata as rd\n",
    "import parse_ats, transect_data"
   ]
  },
  {
   "cell_type": "code",
   "execution_count": null,
   "metadata": {},
   "outputs": [],
   "source": []
  },
  {
   "cell_type": "code",
   "execution_count": null,
   "metadata": {},
   "outputs": [],
   "source": []
  },
  {
   "cell_type": "code",
   "execution_count": 56,
   "metadata": {},
   "outputs": [],
   "source": [
    "# Read Snow\n",
    "def Observed_EddyCorianceData(file,col_names,year):\n",
    "    \n",
    "    data_orig = pd.read_csv(file)#,skiprows=1)\n",
    "    time1 = np.array([year + t/365. for t in data_orig['DOY']])\n",
    "    data1 = np.array([ x for x in data_orig[col_names[1]]])\n",
    "   \n",
    "    dat_temp = np.zeros((len(time1)))\n",
    "    #time_temp = np.zeros((len(time1)))\n",
    "    \n",
    "    for i,d in enumerate(data1):\n",
    "        if d>0:\n",
    "            dat_temp[i] = d\n",
    "        \n",
    "    L1 = len(time1) - len(time1)%48\n",
    "    \n",
    "    Data1 = np.reshape(dat_temp[:L1], (-1,48)).mean(axis=1)\n",
    "    Time1 = np.reshape(time1[:L1], (-1,48)).mean(axis=1)\n",
    "    \n",
    "    mask = np.ones(len(Data1),dtype=bool)\n",
    "    \n",
    "    for i,d1 in enumerate(Data1):\n",
    "        if d1 == 0:\n",
    "            mask[i] = False\n",
    "            #print (i)\n",
    "    print (len(Data1))\n",
    "    Data1 = Data1[mask] * 24.\n",
    "    Time1 = Time1[mask]\n",
    "    print (len(Data1))\n",
    "    print (Time1[:10])\n",
    "    Data = dict()\n",
    "    Data['DOY'] = Time1\n",
    "    Data[col_names[1]] = Data1 \n",
    "    return Data"
   ]
  },
  {
   "cell_type": "code",
   "execution_count": 58,
   "metadata": {},
   "outputs": [
    {
     "name": "stdout",
     "output_type": "stream",
     "text": [
      "/Users/ajc/Desktop/SimDataInputs/barrow-polygon-data/eddy_covariance/NGEE_Barrow_EC_2012_data.csv\n",
      "57\n",
      "50\n",
      "[2012.68632837 2012.68906809 2012.69180782 2012.69454755 2012.69728727\n",
      " 2012.700027   2012.70276672 2012.70550645 2012.70824618 2012.7109859 ]\n",
      "/Users/ajc/Desktop/SimDataInputs/barrow-polygon-data/eddy_covariance/NGEE_Barrow_EC_2013_data.csv\n",
      "175\n",
      "119\n",
      "[2013.39312061 2013.39586033 2013.39860006 2013.40133978 2013.40407951\n",
      " 2013.40681924 2013.40955896 2013.41229869 2013.41503841 2013.41777814]\n",
      "/Users/ajc/Desktop/SimDataInputs/barrow-polygon-data/eddy_covariance/NGEE_Barrow_EC_2014_data.csv\n",
      "173\n",
      "159\n",
      "[2014.37942197 2014.3821617  2014.38490143 2014.38764115 2014.39038088\n",
      " 2014.39312061 2014.39586033 2014.39860006 2014.40133978 2014.40407951]\n"
     ]
    }
   ],
   "source": [
    "#%matplotlib\n",
    "infile = '/Users/ajc/Desktop/SimDataInputs/barrow-polygon-data/eddy_covariance/'\n",
    "infile = [infile + 'NGEE_Barrow_EC_%s_data.csv'%i for i in range(2012,2015)]\n",
    "\n",
    "ObservedET_Orig = dict()\n",
    "years = [2012,2013,2014]\n",
    "for i,file in enumerate(infile):\n",
    "    print (file)\n",
    "    d = Observed_EddyCorianceData(file,col_names=['date', 'ET'],year=years[i]);\n",
    "    ObservedET_Orig['ET_%s'%years[i]] = d['ET']\n",
    "    ObservedET_Orig['Time_%s'%years[i]] = d['DOY']\n",
    "#print (ObservedET_Orig.keys())\n",
    "\n",
    "ObservedET = dict()\n",
    "plt.plot(ObservedET_Orig['Time_2012'],ObservedET_Orig['ET_2012'])\n",
    "ObservedET['Time'] = np.concatenate([ObservedET_Orig[key] for key in ObservedET_Orig.keys() if 'Time' in key])\n",
    "ObservedET['ET'] = np.concatenate([ObservedET_Orig[key] for key in ObservedET_Orig.keys() if 'ET' in key])"
   ]
  },
  {
   "cell_type": "code",
   "execution_count": 59,
   "metadata": {},
   "outputs": [
    {
     "name": "stdout",
     "output_type": "stream",
     "text": [
      "328 50 119 159\n",
      "[2013.39312061 2013.39586033 2013.39860006 2013.40133978 2013.40407951\n",
      " 2013.40681924 2013.40955896 2013.41229869 2013.41503841 2013.41777814\n",
      " 2013.42051787 2013.42325759 2013.4342165  2013.43695622 2013.43969595\n",
      " 2013.44243567 2013.4451754  2013.44791513 2013.53832608 2013.54106581]\n"
     ]
    },
    {
     "data": {
      "text/plain": [
       "[<matplotlib.lines.Line2D at 0x11cd29828>]"
      ]
     },
     "execution_count": 59,
     "metadata": {},
     "output_type": "execute_result"
    }
   ],
   "source": [
    "print (len(ObservedET['Time']),len(ObservedET_Orig['Time_2012']),len(ObservedET_Orig['Time_2013']),len(ObservedET_Orig['Time_2014']))\n",
    "print (ObservedET['Time'][50:70])\n",
    "plt.plot(ObservedET['Time'],ObservedET['ET'], '.')"
   ]
  },
  {
   "cell_type": "code",
   "execution_count": 60,
   "metadata": {},
   "outputs": [],
   "source": [
    "import re\n",
    "def sorted_nicely( l ):\n",
    "    convert = lambda text: int(text) if text.isdigit() else text\n",
    "    alphanum_key = lambda key: [convert(c) for c in re.split('([0-9]+)', key)]\n",
    "    return sorted(l, key = alphanum_key)\n"
   ]
  },
  {
   "cell_type": "code",
   "execution_count": 76,
   "metadata": {},
   "outputs": [],
   "source": [
    "simulation = ['SiteC_3D_3R1E', 'SiteC_3D_3R1E'] # Evaporation comparison\n",
    "path = \"/Users/ajc/Projects/ATS-Data/OR-CONDO/simulations/barrow_icewedges/NGEE/SiteC_3D_June10/\"\n",
    "\n",
    "dir_files = os.listdir(path + simulation[0])\n",
    "Vars = ['surface-evaporation-center', 'surface-evaporation-rightrim', 'surface-evaporation-righttrough']\n",
    "SimName = ['S1', 'S2']\n",
    "Files = dict()\n",
    "for var in Vars:\n",
    "    Files_Temp = [f for f in dir_files if f.startswith(var)]\n",
    "    Files[var] = sorted_nicely(Files_Temp)\n"
   ]
  },
  {
   "cell_type": "code",
   "execution_count": 77,
   "metadata": {},
   "outputs": [
    {
     "name": "stdout",
     "output_type": "stream",
     "text": [
      "1095\n",
      "['surface-evaporation-center', 'surface-evaporation-rightrim', 'surface-evaporation-righttrough']\n"
     ]
    }
   ],
   "source": [
    "DataSimAll= dict()\n",
    "\n",
    "temp_C = []\n",
    "for i,sim in enumerate(simulation):\n",
    "    Sname = SimName[i] + '-'\n",
    "    for var in Vars:\n",
    "        for files in Files[var]:\n",
    "            dat = rd.ReadSingleFile(os.path.join(path+sim,files))\n",
    "            DataSimAll[Sname + files[:-4]] = np.array(dat['data'])\n",
    "            time = [t/86400. for t in dat['time']]\n",
    "            assert len(dat['data']) == len(dat['time'])\n",
    "\n",
    "DataSim1 = dict()\n",
    "DataSim2 = dict()\n",
    "DataSim2['Time'] = [2010 + t/365. for t in time]\n",
    "\n",
    "print (len(DataSim2['Time']))\n",
    "for key in list(DataSimAll):#.keys():\n",
    "    if SimName[0] in key:\n",
    "        DataSim1[key[3:]] = DataSimAll[key]\n",
    "    if SimName[1] in key:\n",
    "        DataSim2[key[3:]] = DataSimAll[key]\n",
    "print (list(DataSim1))"
   ]
  },
  {
   "cell_type": "code",
   "execution_count": 78,
   "metadata": {},
   "outputs": [
    {
     "name": "stdout",
     "output_type": "stream",
     "text": [
      "surface-evaporation-center 3\n",
      "surface-evaporation-rightrim 3\n",
      "surface-evaporation-righttrough 3\n"
     ]
    }
   ],
   "source": [
    "for key in list(DataSim1):#.keys():\n",
    "    K = key\n",
    "    print (K, len(list(DataSim1)))\n",
    "    if 'right' in key:\n",
    "        K = key.replace('right',\"\")\n",
    "    DataSim2[K] = DataSim2[key]\n",
    "    \n",
    "#print (DataSim2['Time'][0:10], DataObservedSnow['snow_time_Center'][:10])"
   ]
  },
  {
   "cell_type": "code",
   "execution_count": null,
   "metadata": {},
   "outputs": [],
   "source": []
  },
  {
   "cell_type": "code",
   "execution_count": 87,
   "metadata": {
    "scrolled": true
   },
   "outputs": [],
   "source": [
    "def put_axis(loc=''):\n",
    "    plt.text(2012.75, 0.62, '%s'%(loc),fontsize=11, fontweight='normal')\n",
    "    plt.ylim((0, 0.7))\n",
    "    #plt.yticks(np.linspace(245,285, 5))\n",
    "    plt.xlim((2013.4, 2014.9))    \n",
    "    "
   ]
  },
  {
   "cell_type": "code",
   "execution_count": 88,
   "metadata": {},
   "outputs": [],
   "source": [
    "outfile = '/Users/ajc/AllPostProcessData/2019/simulations/barrow-iwp/July16/ET/'\n",
    "#outfileSnow = '/Users/ajc/AllPostProcessData/2019/simulations/barrow-iwp/May15/Snow3D/'"
   ]
  },
  {
   "cell_type": "code",
   "execution_count": null,
   "metadata": {},
   "outputs": [],
   "source": []
  },
  {
   "cell_type": "code",
   "execution_count": 105,
   "metadata": {},
   "outputs": [
    {
     "name": "stdout",
     "output_type": "stream",
     "text": [
      "Using matplotlib backend: MacOSX\n"
     ]
    }
   ],
   "source": [
    "%matplotlib \n",
    "DataSim2['surface_evaporation_T'] = DataSim2['surface-evaporation-trough']\n",
    "DataSim2['surface_evaporation_C'] = DataSim2['surface-evaporation-center']\n",
    "DataSim2['surface_evaporation_R'] = DataSim2['surface-evaporation-rim']\n",
    "#Evaporative flux\n",
    "def local_axes():\n",
    "    plt.xlabel('Year')\n",
    "    #ax.set_xlim((2012.7, 2014.5))\n",
    "    plt.ylim((-2, 8.0))\n",
    "    #plt.legend(loc='upper left',fontsize=6)\n",
    "\n",
    "molar_den =1000./0.0180153\n",
    "#print (1000* 86.4*0.07/molar_den)\n",
    "\n",
    "ET_Tr = [ d1*1000*86400 for d1 in DataSim2['surface_evaporation_T'] ]\n",
    "ET_C = [ d1*1000*86400 for d1 in DataSim2['surface_evaporation_C'] ]\n",
    "ET_R = [ d1*1000*86400 for d1 in DataSim2['surface_evaporation_R'] ]\n",
    "open_water, moss, bare_g= 0.15,0.37,0.48\n",
    "#open_water, moss, bare_g= 0.17,0.47,0.36\n",
    "ET_Total = [open_water*x + moss*y + bare_g*z for x,y,z in zip(ET_Tr, ET_C,ET_R)]\n",
    "\n",
    "#----------------------------------------------------------------------\n",
    "def plot_EvaporativeFlux(location = 'trough'):\n",
    "    fig, axs = plt.subplots(1,1, figsize=(8,4), facecolor='w', edgecolor='k',gridspec_kw={'width_ratios':[1]})\n",
    "    fig.subplots_adjust(hspace =.02, wspace=1.02)\n",
    "\n",
    "    plt.tight_layout()\n",
    "    #axs = axs.ravel()\n",
    "    \n",
    "    lambda1 , lambda2 = 1,1\n",
    "    Elev_T, Elev_R, Elev_C = 4.65873, 5.00137, 4.78591\n",
    "    ax = plt.subplot(111)\n",
    "    days_et = 315 + 205\n",
    "    \n",
    "    #Observed_E_C, Observed_E_T,Observed_E_R = 0.11, 0.11, 0.11\n",
    "    \n",
    "    Volume = [2.54729, 0.104032, 2.06396] # Trough, center, rim\n",
    "    snow_depth_Tr = [ d1*1000*86400 for d1 in DataSim2['surface_evaporation_T'] ]\n",
    "    simulated_E_Tr = np.mean(snow_depth_Tr[days_et:days_et+30])/Volume[0]\n",
    "    ET_literature = 0.5*(0.8 + 4.2)\n",
    "    Error = ET_literature/1. -0.8\n",
    "    \n",
    "    \n",
    "    plt.plot(DataSim2['Time'],ET_Total,'k',label='Simulated')\n",
    "    plt.plot(ObservedET['Time'],ObservedET['ET'],'r.',label='Observed')\n",
    "    \n",
    "    ax.set_ylabel('Evaporation [mm/day]')\n",
    "    \n",
    "    #ax.set_title('Trough',fontweight='bold')\n",
    "    #local_axes()\n",
    "    plt.xlim((2013.4, 2014.9))\n",
    "    plt.ylim((0, 6))\n",
    "    \n",
    "    plt.legend(loc='upper left',fontsize=8)\n",
    "    \n",
    "    \n",
    "    #plt.legend(loc='upper right', fontsize=10, ncol=3, bbox_to_anchor=(0.9,-0.3, .1, .1))\n",
    "    plt.tight_layout()\n",
    "    plt.savefig(outfile+'ET-%s.pdf'%simulation[0], bbox_inches='tight', dpi=600)"
   ]
  },
  {
   "cell_type": "code",
   "execution_count": 106,
   "metadata": {},
   "outputs": [],
   "source": [
    "plot_EvaporativeFlux()"
   ]
  },
  {
   "cell_type": "code",
   "execution_count": null,
   "metadata": {},
   "outputs": [],
   "source": []
  }
 ],
 "metadata": {
  "kernelspec": {
   "display_name": "Python 2",
   "language": "python",
   "name": "python2"
  },
  "language_info": {
   "codemirror_mode": {
    "name": "ipython",
    "version": 3
   },
   "file_extension": ".py",
   "mimetype": "text/x-python",
   "name": "python",
   "nbconvert_exporter": "python",
   "pygments_lexer": "ipython3",
   "version": "3.6.8"
  }
 },
 "nbformat": 4,
 "nbformat_minor": 2
}
