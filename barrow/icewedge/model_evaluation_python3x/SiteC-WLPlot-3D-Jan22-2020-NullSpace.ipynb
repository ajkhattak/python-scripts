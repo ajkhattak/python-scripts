{
 "cells": [
  {
   "cell_type": "code",
   "execution_count": null,
   "metadata": {},
   "outputs": [],
   "source": []
  },
  {
   "cell_type": "code",
   "execution_count": 1,
   "metadata": {},
   "outputs": [],
   "source": [
    "import numpy as np\n",
    "import os, sys\n",
    "import h5py\n",
    "import pandas as pd\n",
    "import matplotlib.pyplot as plt\n",
    "\n",
    "import datetime as DT\n",
    "import matplotlib.dates as mdates\n",
    "\n",
    "sys.path.append('/Users/ajc/Core/SimDataInputs/ats-repo/ats-Aug6/tools/utils/')\n",
    "sys.path.append('/Users/ajc/Core/PostProcessData/PyScript')\n",
    "sys.path.append('/Users/ajc/Core/PostProcessData/PyScript/barrow')\n",
    "\n",
    "import readdata as rd\n",
    "import plot_water_table2D\n",
    "sys.path.append(os.getcwd())\n",
    "import SiteC_2012_2014WL \n",
    "\n",
    "import importlib as imp"
   ]
  },
  {
   "cell_type": "code",
   "execution_count": 2,
   "metadata": {},
   "outputs": [],
   "source": [
    "time_origin = DT.datetime(2010,1,1,0,0,0)"
   ]
  },
  {
   "cell_type": "code",
   "execution_count": 3,
   "metadata": {},
   "outputs": [],
   "source": [
    "imp.reload(SiteC_2012_2014WL)\n",
    "\n",
    "data2012 = SiteC_2012_2014WL.getData_2012()"
   ]
  },
  {
   "cell_type": "code",
   "execution_count": 4,
   "metadata": {},
   "outputs": [],
   "source": [
    "imp.reload(SiteC_2012_2014WL)\n",
    "ObservedData2013 = dict()\n",
    "data2013 = SiteC_2012_2014WL.getData_2013()"
   ]
  },
  {
   "cell_type": "code",
   "execution_count": 5,
   "metadata": {},
   "outputs": [],
   "source": [
    "imp.reload(SiteC_2012_2014WL)\n",
    "ObservedData2014 = dict()\n",
    "data2014 = SiteC_2012_2014WL.getData_2014()"
   ]
  },
  {
   "cell_type": "code",
   "execution_count": 6,
   "metadata": {},
   "outputs": [],
   "source": [
    "imp.reload(SiteC_2012_2014WL)\n",
    "dataPrecip = SiteC_2012_2014WL.getDataRain()"
   ]
  },
  {
   "cell_type": "code",
   "execution_count": 7,
   "metadata": {},
   "outputs": [],
   "source": [
    "\n",
    "dataPrecip['Rain'] = np.concatenate((dataPrecip['rain_2012'], dataPrecip['rain_2013'], dataPrecip['rain_2014']))\n",
    "dataPrecip['Time'] = np.concatenate((dataPrecip['time_2012'], dataPrecip['time_2013'], dataPrecip['time_2014']))\n",
    "dataPrecip['Time'] = np.array([2010 + t/365. for t in dataPrecip['Time']])"
   ]
  },
  {
   "cell_type": "code",
   "execution_count": 8,
   "metadata": {},
   "outputs": [],
   "source": [
    "ObservedData2012 = dict()\n",
    "ObservedData2013 = dict()\n",
    "ObservedData2014 = dict()\n",
    "\n",
    "for key in list(data2013):#.keys():\n",
    "    ObservedData2012[key] = data2012[key]\n",
    "    ObservedData2013[key] = data2013[key]\n",
    "    ObservedData2014[key] = data2014[key]\n",
    "Z_c = 4.78591\n",
    "Z_t = 4.71264"
   ]
  },
  {
   "cell_type": "code",
   "execution_count": 9,
   "metadata": {},
   "outputs": [],
   "source": [
    "# correcting the elevation of the center\n",
    "def OffsetData():\n",
    "    for key in list(ObservedData2012):#.keys():\n",
    "        if 'water_level_C40' in key:\n",
    "            ObservedData2012[key + '_offset'] = np.array([d - 4.91 + Z_c for d in ObservedData2012[key]])\n",
    "    for key in list(ObservedData2012):#.keys():\n",
    "        if 'water_level_C39' in key:\n",
    "            ObservedData2012[key + '_offset'] = np.array([d - 4.81 + Z_c for d in ObservedData2012[key]])\n",
    "    for key in list(ObservedData2013):#.keys():\n",
    "        if 'water_level_C39' in key:\n",
    "            ObservedData2013[key + '_offset'] = np.array([d - 4.81 + Z_c for d in ObservedData2013[key]])\n",
    "    for key in list(ObservedData2014):#.keys():\n",
    "        if 'water_level_C39' in key:\n",
    "            ObservedData2014[key + '_offset'] = np.array([d - 4.81 + Z_c for d in ObservedData2014[key]])\n",
    "    #print ObservedData2012['water_level_C40_offset'].shape\n",
    "OffsetData()\n",
    "\n",
    "#--- Remove the assigned 100 to the missing data points\n",
    "\n",
    "alpha1, alpha2 = 1, 0\n",
    "LC39 = len(ObservedData2012['water_level_C39_offset'])\n",
    "mask = np.ones(LC39, dtype=bool)\n",
    "\n",
    "for i,d1 in enumerate(ObservedData2012['water_level_C39_offset']):\n",
    "    if d1 > 10:\n",
    "        mask[i] = False\n",
    "\n",
    "ObservedData2012['water_level_C39_mask'] = ObservedData2012['water_level_C39_offset'][mask]\n",
    "ObservedData2012['time_C39_mask'] = ObservedData2012['time_C39'][mask]\n",
    "\n",
    "#-----------------------------------------------------------------\n",
    "\n",
    "\n",
    "# Average the data at the two center wells\n",
    "assert len(ObservedData2012['water_level_C39']) == len(ObservedData2012['water_level_C40_offset'])\n",
    "data = []\n",
    "index = np.where(ObservedData2012['water_level_C39_offset'] > 10)[0]\n",
    "\n",
    "mid_value = 0.5*(ObservedData2012['water_level_C39_offset'][index[0]-1] + ObservedData2012['water_level_C39_offset'][index[-1]+1])\n",
    "\n",
    "for d1,d2 in zip(ObservedData2012['water_level_C39_offset'], ObservedData2012['water_level_C40_offset']):\n",
    "    sum = 0\n",
    "    if d1 < 10:\n",
    "        sum = 0.5*(d1+d2)\n",
    "    else:\n",
    "        sum = 0.5*(d2 + mid_value)\n",
    "    data.append(sum)\n",
    "#data = ObservedData2012['water_level_C40_offset']\n",
    "ObservedData2012['water_level_Center_offset'] = np.array(data)#np.concatenate(data)\n",
    "\n",
    "#print len(ObservedData2013['water_level_C39_offset']), len(ObservedData2013['water_level_C40'])\n",
    "\n",
    "data = []\n",
    "c = 0\n",
    "for i in range(len(ObservedData2013['water_level_C39_offset'])):\n",
    "    if i <7:\n",
    "        data.append(ObservedData2013['water_level_C39_offset'][i])\n",
    "    elif (i < 113):\n",
    "        sum = alpha1*(ObservedData2013['water_level_C39_offset'][i] + alpha2*ObservedData2013['water_level_C40'][i-7])    \n",
    "        data.append(sum)\n",
    "    else:\n",
    "        data.append(ObservedData2013['water_level_C39_offset'][i])\n",
    "\n",
    "\n",
    "ObservedData2013['water_level_Center'] = np.array(data) #np.concatenate(data)\n",
    "\n",
    "#--- 2014\n",
    "#print len(ObservedData2014['water_level_C39']), len(ObservedData2014['water_level_C40'])\n",
    "data = []\n",
    "for i in range(len(ObservedData2014['water_level_C39_offset'])):\n",
    "        sum = alpha1*(ObservedData2014['water_level_C39_offset'][i] + alpha2*ObservedData2014['water_level_C40'][i])    \n",
    "        data.append(sum)\n",
    "\n",
    "ObservedData2014['water_level_Center'] = np.array(data)#np.concatenate(data)\n",
    "\n",
    "for key in list(ObservedData2012):#.keys():\n",
    "    if 'time' in key:\n",
    "        ObservedData2012[key + '_yr'] =  np.array([2010 + t/365.0 for t in ObservedData2012[key]])\n",
    "for key in list(ObservedData2013):#.keys():\n",
    "    if 'time' in key:\n",
    "        ObservedData2013[key + '_yr'] =  np.array([2010 + t/365.0 for t in ObservedData2013[key]])\n",
    "\n",
    "for key in list(ObservedData2014):#.keys():\n",
    "    if 'time' in key and 'yr' not in key:\n",
    "        ObservedData2014[key + '_yr'] =  np.array([2010 + t/365.0 for t in ObservedData2014[key]])\n"
   ]
  },
  {
   "cell_type": "code",
   "execution_count": 10,
   "metadata": {},
   "outputs": [],
   "source": [
    "import re\n",
    "def sorted_nicely( l ):\n",
    "    convert = lambda text: int(text) if text.isdigit() else text\n",
    "    alphanum_key = lambda key: [convert(c) for c in re.split('([0-9]+)', key)]\n",
    "    return sorted(l, key = alphanum_key)"
   ]
  },
  {
   "cell_type": "code",
   "execution_count": 11,
   "metadata": {},
   "outputs": [],
   "source": [
    "simulation_soil = ['SiteC_3D_3R1C', 'SiteC_3D_3R3A','SiteC_3D_3R3C'] # bare soil evaporation case\n",
    "simulation_cond = ['SiteC_3D_3R1C', 'SiteC_3D_3R4A','SiteC_3D_3R4B'] # hydraulic conductivities case\n",
    "simulation_null = ['SiteC_3D_3R5A','SiteC_3D_3R5B'] # hydraulic conductivities case\n",
    "SimName = ['S0','S1', 'S2']\n",
    "path = \"/Users/ajc/Core/Projects/ATS-Data/OR-CONDO/simulations/barrow_icewedges/NGEE/SiteC_3D_June10/\"\n",
    "path_null = \"/Users/ajc/Core/Projects/ATS-Data/OR-CONDO/simulations/barrow_icewedges/NGEE/SiteC_3D_210120/\"\n",
    "\n",
    "dir_files = os.listdir(path + simulation_soil[0])\n",
    "Vars = ['temperature-center', 'temperature-left-trough', 'ponded_depth-center', 'ponded_depth-lefttrough', \n",
    "        'saturation_gas-center','saturation_gas-left-trough']\n",
    "Files = dict()\n",
    "for var in Vars:\n",
    "    Files_Temporary = [f for f in dir_files if f.startswith(var)]\n",
    "    Files[var] = sorted_nicely(Files_Temporary)\n"
   ]
  },
  {
   "cell_type": "code",
   "execution_count": 12,
   "metadata": {},
   "outputs": [
    {
     "name": "stdout",
     "output_type": "stream",
     "text": [
      "dict_keys(['Time'])\n",
      "dict_keys(['Time', 'temperature-center-2cm', 'temperature-center-4cm', 'temperature-center-6cm', 'temperature-center-8cm', 'temperature-center-10cm', 'temperature-center-12cm', 'temperature-center-14cm', 'temperature-center-16cm', 'temperature-center-18cm', 'temperature-center-20cm', 'temperature-center-22cm', 'temperature-center-24cm', 'temperature-center-26cm', 'temperature-center-28cm', 'temperature-center-30cm', 'temperature-center-32cm', 'temperature-center-34cm', 'temperature-center-36cm', 'temperature-center-38cm', 'temperature-center-40cm', 'temperature-center-42cm', 'temperature-center-44cm', 'temperature-center-48cm', 'temperature-center-50cm', 'temperature-center-52cm', 'temperature-center-54cm', 'temperature-center-56cm', 'temperature-center-58cm', 'temperature-center-60cm', 'temperature-center-70cm', 'temperature-center-80cm', 'temperature-center-100cm', 'temperature-center-124cm', 'temperature-center-126cm', 'temperature-center-150cm', 'temperature-left-trough-2cm', 'temperature-left-trough-4cm', 'temperature-left-trough-6cm', 'temperature-left-trough-8cm', 'temperature-left-trough-10cm', 'temperature-left-trough-12cm', 'temperature-left-trough-14cm', 'temperature-left-trough-16cm', 'temperature-left-trough-18cm', 'temperature-left-trough-20cm', 'temperature-left-trough-22cm', 'temperature-left-trough-24cm', 'temperature-left-trough-26cm', 'temperature-left-trough-28cm', 'temperature-left-trough-30cm', 'temperature-left-trough-32cm', 'temperature-left-trough-34cm', 'temperature-left-trough-36cm', 'temperature-left-trough-38cm', 'temperature-left-trough-40cm', 'temperature-left-trough-42cm', 'temperature-left-trough-44cm', 'temperature-left-trough-46cm', 'temperature-left-trough-48cm', 'temperature-left-trough-50cm', 'temperature-left-trough-52cm', 'temperature-left-trough-54cm', 'temperature-left-trough-56cm', 'temperature-left-trough-58cm', 'temperature-left-trough-60cm', 'temperature-left-trough-70cm', 'temperature-left-trough-80cm', 'temperature-left-trough-100cm', 'temperature-left-trough-124cm', 'temperature-left-trough-126cm', 'temperature-left-trough-150cm', 'ponded_depth-center', 'ponded_depth-lefttrough', 'saturation_gas-center-2cm', 'saturation_gas-center-4cm', 'saturation_gas-center-6cm', 'saturation_gas-center-8cm', 'saturation_gas-center-10cm', 'saturation_gas-center-12cm', 'saturation_gas-center-14cm', 'saturation_gas-center-16cm', 'saturation_gas-center-18cm', 'saturation_gas-center-20cm', 'saturation_gas-center-22cm', 'saturation_gas-center-24cm', 'saturation_gas-center-26cm', 'saturation_gas-center-28cm', 'saturation_gas-center-30cm', 'saturation_gas-center-32cm', 'saturation_gas-center-34cm', 'saturation_gas-center-36cm', 'saturation_gas-center-38cm', 'saturation_gas-center-40cm', 'saturation_gas-center-42cm', 'saturation_gas-center-44cm', 'saturation_gas-center-46cm', 'saturation_gas-center-48cm', 'saturation_gas-center-50cm', 'saturation_gas-center-52cm', 'saturation_gas-center-54cm', 'saturation_gas-center-56cm', 'saturation_gas-center-58cm', 'saturation_gas-center-60cm', 'saturation_gas-left-trough-2cm', 'saturation_gas-left-trough-4cm', 'saturation_gas-left-trough-6cm', 'saturation_gas-left-trough-8cm', 'saturation_gas-left-trough-10cm', 'saturation_gas-left-trough-12cm', 'saturation_gas-left-trough-14cm', 'saturation_gas-left-trough-16cm', 'saturation_gas-left-trough-18cm', 'saturation_gas-left-trough-20cm', 'saturation_gas-left-trough-22cm', 'saturation_gas-left-trough-24cm', 'saturation_gas-left-trough-26cm', 'saturation_gas-left-trough-28cm', 'saturation_gas-left-trough-30cm', 'saturation_gas-left-trough-32cm', 'saturation_gas-left-trough-34cm', 'saturation_gas-left-trough-36cm', 'saturation_gas-left-trough-38cm', 'saturation_gas-left-trough-40cm', 'saturation_gas-left-trough-42cm', 'saturation_gas-left-trough-44cm', 'saturation_gas-left-trough-46cm', 'saturation_gas-left-trough-48cm', 'saturation_gas-left-trough-50cm', 'saturation_gas-left-trough-52cm', 'saturation_gas-left-trough-54cm', 'saturation_gas-left-trough-56cm', 'saturation_gas-left-trough-58cm', 'saturation_gas-left-trough-60cm']) dict_keys(['Time', 'temperature-center-2cm', 'temperature-center-4cm', 'temperature-center-6cm', 'temperature-center-8cm', 'temperature-center-10cm', 'temperature-center-12cm', 'temperature-center-14cm', 'temperature-center-16cm', 'temperature-center-18cm', 'temperature-center-20cm', 'temperature-center-22cm', 'temperature-center-24cm', 'temperature-center-26cm', 'temperature-center-28cm', 'temperature-center-30cm', 'temperature-center-32cm', 'temperature-center-34cm', 'temperature-center-36cm', 'temperature-center-38cm', 'temperature-center-40cm', 'temperature-center-42cm', 'temperature-center-44cm', 'temperature-center-48cm', 'temperature-center-50cm', 'temperature-center-52cm', 'temperature-center-54cm', 'temperature-center-56cm', 'temperature-center-58cm', 'temperature-center-60cm', 'temperature-center-70cm', 'temperature-center-80cm', 'temperature-center-100cm', 'temperature-center-124cm', 'temperature-center-126cm', 'temperature-center-150cm', 'temperature-left-trough-2cm', 'temperature-left-trough-4cm', 'temperature-left-trough-6cm', 'temperature-left-trough-8cm', 'temperature-left-trough-10cm', 'temperature-left-trough-12cm', 'temperature-left-trough-14cm', 'temperature-left-trough-16cm', 'temperature-left-trough-18cm', 'temperature-left-trough-20cm', 'temperature-left-trough-22cm', 'temperature-left-trough-24cm', 'temperature-left-trough-26cm', 'temperature-left-trough-28cm', 'temperature-left-trough-30cm', 'temperature-left-trough-32cm', 'temperature-left-trough-34cm', 'temperature-left-trough-36cm', 'temperature-left-trough-38cm', 'temperature-left-trough-40cm', 'temperature-left-trough-42cm', 'temperature-left-trough-44cm', 'temperature-left-trough-46cm', 'temperature-left-trough-48cm', 'temperature-left-trough-50cm', 'temperature-left-trough-52cm', 'temperature-left-trough-54cm', 'temperature-left-trough-56cm', 'temperature-left-trough-58cm', 'temperature-left-trough-60cm', 'temperature-left-trough-70cm', 'temperature-left-trough-80cm', 'temperature-left-trough-100cm', 'temperature-left-trough-124cm', 'temperature-left-trough-126cm', 'temperature-left-trough-150cm', 'ponded_depth-center', 'ponded_depth-lefttrough', 'saturation_gas-center-2cm', 'saturation_gas-center-4cm', 'saturation_gas-center-6cm', 'saturation_gas-center-8cm', 'saturation_gas-center-10cm', 'saturation_gas-center-12cm', 'saturation_gas-center-14cm', 'saturation_gas-center-16cm', 'saturation_gas-center-18cm', 'saturation_gas-center-20cm', 'saturation_gas-center-22cm', 'saturation_gas-center-24cm', 'saturation_gas-center-26cm', 'saturation_gas-center-28cm', 'saturation_gas-center-30cm', 'saturation_gas-center-32cm', 'saturation_gas-center-34cm', 'saturation_gas-center-36cm', 'saturation_gas-center-38cm', 'saturation_gas-center-40cm', 'saturation_gas-center-42cm', 'saturation_gas-center-44cm', 'saturation_gas-center-46cm', 'saturation_gas-center-48cm', 'saturation_gas-center-50cm', 'saturation_gas-center-52cm', 'saturation_gas-center-54cm', 'saturation_gas-center-56cm', 'saturation_gas-center-58cm', 'saturation_gas-center-60cm', 'saturation_gas-left-trough-2cm', 'saturation_gas-left-trough-4cm', 'saturation_gas-left-trough-6cm', 'saturation_gas-left-trough-8cm', 'saturation_gas-left-trough-10cm', 'saturation_gas-left-trough-12cm', 'saturation_gas-left-trough-14cm', 'saturation_gas-left-trough-16cm', 'saturation_gas-left-trough-18cm', 'saturation_gas-left-trough-20cm', 'saturation_gas-left-trough-22cm', 'saturation_gas-left-trough-24cm', 'saturation_gas-left-trough-26cm', 'saturation_gas-left-trough-28cm', 'saturation_gas-left-trough-30cm', 'saturation_gas-left-trough-32cm', 'saturation_gas-left-trough-34cm', 'saturation_gas-left-trough-36cm', 'saturation_gas-left-trough-38cm', 'saturation_gas-left-trough-40cm', 'saturation_gas-left-trough-42cm', 'saturation_gas-left-trough-44cm', 'saturation_gas-left-trough-46cm', 'saturation_gas-left-trough-48cm', 'saturation_gas-left-trough-50cm', 'saturation_gas-left-trough-52cm', 'saturation_gas-left-trough-54cm', 'saturation_gas-left-trough-56cm', 'saturation_gas-left-trough-58cm', 'saturation_gas-left-trough-60cm'])\n"
     ]
    }
   ],
   "source": [
    "DataSimAll_soil = dict()\n",
    "DataSimAll_cond = dict()\n",
    "DataSimAll_null = dict()\n",
    "DataSim1 = dict()\n",
    "DataSim2 = dict()\n",
    "DataSim3 = dict()\n",
    "time = dict()\n",
    "temp_C = []\n",
    "for i,sim in enumerate(simulation_soil):\n",
    "    Sname = SimName[i] + '-'\n",
    "    for var in Vars:\n",
    "        for files in Files[var]:\n",
    "            dat = rd.ReadSingleFile(os.path.join(path+sim,files))\n",
    "            DataSimAll_soil[Sname + files[:-4]] = np.array(dat['data'])\n",
    "            time1 = [t/86400 for t in dat['time']]\n",
    "            time[SimName[i] + '_time'] = np.array(time1)\n",
    "\n",
    "DataSim1['Time'] = time['S0_time']\n",
    "DataSim2['Time'] = time['S1_time']\n",
    "DataSim3['Time'] = time['S2_time']\n",
    "\n",
    "for key in DataSimAll_soil.keys():\n",
    "    if SimName[0] in key:\n",
    "        DataSim1[key[3:]] = DataSimAll_soil[key]\n",
    "    if SimName[1] in key:\n",
    "        DataSim2[key[3:]] = DataSimAll_soil[key]\n",
    "    if SimName[2] in key:\n",
    "        DataSim3[key[3:]] = DataSimAll_soil[key]\n",
    "\n",
    "DataSim4 = dict()\n",
    "DataSim5 = dict()\n",
    "for i,sim in enumerate(simulation_cond):\n",
    "    Sname = SimName[i] + '-'\n",
    "    for var in Vars:\n",
    "        for files in Files[var]:\n",
    "            dat = rd.ReadSingleFile(os.path.join(path+sim,files))\n",
    "            DataSimAll_cond[Sname + files[:-4]] = np.array(dat['data'])\n",
    "            time1 = [t/86400 for t in dat['time']]\n",
    "            time[SimName[i] + '_time'] = np.array(time1)\n",
    "            \n",
    "DataSim4['Time'] = time['S1_time']\n",
    "DataSim5['Time'] = time['S2_time']\n",
    "#print (DataSim5['Time'])\n",
    "for key in DataSimAll_cond.keys():\n",
    "    if SimName[1] in key:\n",
    "        DataSim4[key[3:]] = DataSimAll_cond[key]\n",
    "    if SimName[2] in key:\n",
    "        DataSim5[key[3:]] = DataSimAll_cond[key]\n",
    "        \n",
    "        \n",
    "#Null space\n",
    "DataSim6 = dict()\n",
    "DataSim7 = dict()\n",
    "for i,sim in enumerate(simulation_null):\n",
    "    Sname = SimName[i] + '-'\n",
    "    for var in Vars:\n",
    "        for files in Files[var]:\n",
    "            dat = rd.ReadSingleFile(os.path.join(path_null+sim,files))\n",
    "            DataSimAll_null[Sname + files[:-4]] = np.array(dat['data'])\n",
    "            time1 = [t/86400 for t in dat['time']]\n",
    "            time[SimName[i] + '_time'] = np.array(time1)\n",
    "            \n",
    "DataSim6['Time'] = time['S1_time']\n",
    "DataSim7['Time'] = time['S2_time']\n",
    "print (DataSim6.keys())\n",
    "for key in DataSimAll_null.keys():\n",
    "    if SimName[0] in key:\n",
    "        DataSim6[key[3:]] = DataSimAll_null[key]\n",
    "    if SimName[1] in key:\n",
    "        DataSim7[key[3:]] = DataSimAll_null[key]\n",
    "print (DataSim6.keys(), DataSim7.keys())"
   ]
  },
  {
   "cell_type": "code",
   "execution_count": null,
   "metadata": {},
   "outputs": [],
   "source": []
  },
  {
   "cell_type": "code",
   "execution_count": 13,
   "metadata": {},
   "outputs": [],
   "source": [
    "def getTempAtdepths(DataSim,location = 'center', saturation='saturation_liquid'):\n",
    "    dat_temp = []\n",
    "    dat_sl = []\n",
    "    K = ''\n",
    "    \n",
    "    for key in sorted_nicely(DataSim.keys()):\n",
    "        \n",
    "        if 'temperature' in key and location in key:\n",
    "            K = key\n",
    "            key_wt = saturation + key[key.find('-'):]\n",
    "            if key_wt in DataSim.keys():\n",
    "                dat_temp.append(DataSim[key])\n",
    "                dat_sl.append(DataSim[key_wt])\n",
    "    print ('GetTempDepths:', len(dat_temp), len(DataSim['Time']), len(dat_temp)*len(DataSim['Time']))\n",
    "    \n",
    "    temp_depth = np.reshape(dat_temp, (-1,len(DataSim['Time'])))\n",
    "    sl_depth = np.reshape(dat_sl, (-1,len(DataSim['Time'])))\n",
    "    return [temp_depth, sl_depth]\n",
    "\n",
    "def getWaterTableUpdate(DataSim,location ='center',datum=0):\n",
    "    depth = 0\n",
    "    WaterTable = []\n",
    "    WaterTableTime = []\n",
    "    Surface_PD = []\n",
    "    ThawDepth = []\n",
    "    print ('WaterTableUp1: ', DataSim['Time'][:3])\n",
    "    if 'center' in location:\n",
    "        MicroLoc = 'center'\n",
    "    elif 'trough' in location:\n",
    "        MicroLoc = 'lefttrough'\n",
    "    for key in sorted_nicely(DataSim.keys()):\n",
    "        if 'temperature' in key and location in key:\n",
    "            wt_above_ice_table = True\n",
    "            depth = key[key.rfind('-')+1:-2]\n",
    "            \n",
    "            T_at_depth, S_at_depth = getTempAtdepths(DataSim, location,saturation='saturation_gas')\n",
    "            \n",
    "            for i in range(len(T_at_depth[0,:])):\n",
    "                T_index = np.where(T_at_depth[:,i] > 273.15)[0]\n",
    "                Surface_PD.append(DataSim['ponded_depth-%s'%MicroLoc][i])\n",
    "                wt_position = -100\n",
    "                \n",
    "                if (Surface_PD[-1] > 0):\n",
    "                    wt_position = 0\n",
    "                elif len(T_index) > 0 and Surface_PD[-1] == 0:\n",
    "                    for j in range(len(T_index)):\n",
    "                        wt_position = j*0.02\n",
    "                        if S_at_depth[j,i] == 0:\n",
    "                            break\n",
    "                        \n",
    "                wt_position = wt_position if wt_position > 0 else 0\n",
    "                \n",
    "                thaw_index =  0.02 *(T_index[-1]+1) if len(T_index) > 0 else 0\n",
    "                WaterTable.append(datum + Surface_PD[-1] - wt_position)\n",
    "                WaterTableTime.append(DataSim['Time'][i])\n",
    "                ThawDepth.append(datum - thaw_index)\n",
    "            \n",
    "            break\n",
    "    \n",
    "    return [WaterTableTime,WaterTable, ThawDepth]\n",
    "            "
   ]
  },
  {
   "cell_type": "code",
   "execution_count": null,
   "metadata": {},
   "outputs": [],
   "source": []
  },
  {
   "cell_type": "code",
   "execution_count": null,
   "metadata": {},
   "outputs": [],
   "source": []
  },
  {
   "cell_type": "code",
   "execution_count": null,
   "metadata": {},
   "outputs": [],
   "source": []
  },
  {
   "cell_type": "code",
   "execution_count": 14,
   "metadata": {},
   "outputs": [],
   "source": [
    "def getSimulatedData(DataSim):\n",
    "    WaterTableTimeCenter,WaterTableCenter,ThawDepthCenter = getWaterTableUpdate(DataSim,datum=Z_c)\n",
    "    WaterTableTimeTrough,WaterTableTrough,ThawDepthTrough = getWaterTableUpdate(DataSim,'trough',datum=Z_t)\n",
    "    DataSimulated = dict()\n",
    "    DataSimulated['TimeCenter'] = [2010 + t/365. for t in WaterTableTimeCenter]\n",
    "    DataSimulated['WL_center'] = WaterTableCenter\n",
    "    DataSimulated['WL_trough'] = WaterTableTrough\n",
    "    DataSimulated['TimeTrough'] = [2010 + t/365. for t in WaterTableTimeTrough]\n",
    "    DataSimulated['TD_center'] = [t for t in ThawDepthCenter]\n",
    "    DataSimulated['TD_trough'] = [t for t in ThawDepthTrough]\n",
    "\n",
    "    Data_C = []\n",
    "    Data_T = []\n",
    "    Time_C = []\n",
    "    Time_T = []\n",
    "    print ('GetsimulatedData1: ', WaterTableTimeCenter[:3])\n",
    "    for i,d in enumerate(DataSimulated['WL_center']):\n",
    "        if d != 0:\n",
    "            Data_C.append(d + Z_c*0)\n",
    "            Time_C.append(DataSimulated['TimeCenter'][i])\n",
    "    for i,d in enumerate(DataSimulated['WL_trough']):\n",
    "        if d != 0:\n",
    "            Data_T.append(d + Z_t*0)\n",
    "            Time_T.append(DataSimulated['TimeTrough'][i])\n",
    "\n",
    "    DataSimulated['water_level_center'] = np.array(Data_C)\n",
    "    DataSimulated['water_level_trough'] = np.array(Data_T)\n",
    "    DataSimulated['time_center'] = np.array(Time_C)\n",
    "    DataSimulated['time_trough'] = np.array(Time_T)\n",
    "    print ('GetsimulatedData: ', DataSimulated['time_center'][:3])\n",
    "    return DataSimulated"
   ]
  },
  {
   "cell_type": "code",
   "execution_count": 15,
   "metadata": {},
   "outputs": [
    {
     "name": "stdout",
     "output_type": "stream",
     "text": [
      "WaterTableUp1:  [731. 732. 733.]\n",
      "GetTempDepths: 29 1095 31755\n",
      "WaterTableUp1:  [731. 732. 733.]\n",
      "GetTempDepths: 30 1095 32850\n",
      "GetsimulatedData1:  [731.0, 732.0, 733.0]\n",
      "GetsimulatedData:  [2012.00273973 2012.00547945 2012.00821918]\n",
      "WaterTableUp1:  [731. 732. 733.]\n",
      "GetTempDepths: 29 1095 31755\n",
      "WaterTableUp1:  [731. 732. 733.]\n",
      "GetTempDepths: 30 1095 32850\n",
      "GetsimulatedData1:  [731.0, 732.0, 733.0]\n",
      "GetsimulatedData:  [2012.00273973 2012.00547945 2012.00821918]\n",
      "WaterTableUp1:  [731. 732. 733.]\n",
      "GetTempDepths: 29 886 25694\n",
      "WaterTableUp1:  [731. 732. 733.]\n",
      "GetTempDepths: 30 886 26580\n",
      "GetsimulatedData1:  [731.0, 732.0, 733.0]\n",
      "GetsimulatedData:  [2012.00273973 2012.00547945 2012.00821918]\n",
      "WaterTableUp1:  [731. 732. 733.]\n",
      "GetTempDepths: 29 1095 31755\n",
      "WaterTableUp1:  [731. 732. 733.]\n",
      "GetTempDepths: 30 1095 32850\n",
      "GetsimulatedData1:  [731.0, 732.0, 733.0]\n",
      "GetsimulatedData:  [2012.00273973 2012.00547945 2012.00821918]\n",
      "WaterTableUp1:  [731. 732. 733.]\n",
      "GetTempDepths: 29 1095 31755\n",
      "WaterTableUp1:  [731. 732. 733.]\n",
      "GetTempDepths: 30 1095 32850\n",
      "GetsimulatedData1:  [731.0, 732.0, 733.0]\n",
      "GetsimulatedData:  [2012.00273973 2012.00547945 2012.00821918]\n",
      "WaterTableUp1:  [731. 732. 733.]\n",
      "GetTempDepths: 29 1095 31755\n",
      "WaterTableUp1:  [731. 732. 733.]\n",
      "GetTempDepths: 30 1095 32850\n",
      "GetsimulatedData1:  [731.0, 732.0, 733.0]\n",
      "GetsimulatedData:  [2012.00273973 2012.00547945 2012.00821918]\n",
      "WaterTableUp1:  [731. 732. 733.]\n",
      "GetTempDepths: 29 1095 31755\n",
      "WaterTableUp1:  [731. 732. 733.]\n",
      "GetTempDepths: 30 1095 32850\n",
      "GetsimulatedData1:  [731.0, 732.0, 733.0]\n",
      "GetsimulatedData:  [2012.00273973 2012.00547945 2012.00821918]\n"
     ]
    }
   ],
   "source": [
    "DataSim1updated =  getSimulatedData(DataSim1)\n",
    "DataSim2updated =  getSimulatedData(DataSim2)\n",
    "DataSim3updated =  getSimulatedData(DataSim3)\n",
    "DataSim4updated =  getSimulatedData(DataSim4)\n",
    "DataSim5updated =  getSimulatedData(DataSim5)\n",
    "\n",
    "DataSim6updated =  getSimulatedData(DataSim6)\n",
    "DataSim7updated =  getSimulatedData(DataSim7)\n"
   ]
  },
  {
   "cell_type": "code",
   "execution_count": 16,
   "metadata": {},
   "outputs": [
    {
     "name": "stdout",
     "output_type": "stream",
     "text": [
      "114 114\n",
      "1095 1095\n",
      "1095 1095\n",
      "886 886\n",
      "1095 1095\n",
      "1095 1095\n",
      "1095 1095\n",
      "1095 1095\n"
     ]
    }
   ],
   "source": [
    "def get_time_format(dat):\n",
    "    Dat = []\n",
    "    #print (dat)\n",
    "    year = int(dat[0])\n",
    "    year_start = DT.date(year,1,1)\n",
    "    dateFormatted = year_start.strftime(\"%y\")\n",
    "    #year_start = format(dateFormatted)\n",
    "    for i in dat:\n",
    "        f = float(i)\n",
    "        delta = year_start + DT.timedelta(days = int((i-year)*365) )\n",
    "        #delta = format(dateFormatted) + DT.timedelta(days = int((i-year)*365) )\n",
    "        Dat.append(delta)\n",
    "    print (len(dat), len(Dat))\n",
    "    return Dat\n",
    "\n",
    "\n",
    "ObservedData2013['time_C39_yr_f'] = get_time_format(ObservedData2013['time_C39_yr'])\n",
    "\n",
    "DataSim1updated['time_center_f'] = get_time_format(DataSim1updated['time_center'])\n",
    "DataSim2updated['time_center_f'] = get_time_format(DataSim2updated['time_center'])\n",
    "DataSim3updated['time_center_f'] = get_time_format(DataSim3updated['time_center'])\n",
    "DataSim4updated['time_center_f'] = get_time_format(DataSim4updated['time_center'])\n",
    "DataSim5updated['time_center_f'] = get_time_format(DataSim5updated['time_center'])\n",
    "\n",
    "DataSim6updated['time_center_f'] = get_time_format(DataSim6updated['time_center'])\n",
    "DataSim7updated['time_center_f'] = get_time_format(DataSim7updated['time_center'])"
   ]
  },
  {
   "cell_type": "code",
   "execution_count": null,
   "metadata": {},
   "outputs": [],
   "source": []
  },
  {
   "cell_type": "code",
   "execution_count": 17,
   "metadata": {},
   "outputs": [],
   "source": [
    "def PlotWithCenterAverage(Perm=True):\n",
    "    outfile = '/Users/ajc/Core/PostProcessData/2019/simulations/barrow-iwp/Jan22_2020/Watertable3D/'\n",
    "    fig, ax = plt.subplots(3,1, figsize=(4,7), facecolor='w', edgecolor='k',gridspec_kw={'width_ratios':[1]})\n",
    "    fig.subplots_adjust(hspace =.02, wspace=1.02)\n",
    "    plt.tight_layout()\n",
    "    ax = ax.ravel()\n",
    "    xfmt = mdates.DateFormatter('%m/%y')\n",
    "    \n",
    "    \n",
    "    # ------------ 2013 --------------------------------------\n",
    "    for i in range(3):\n",
    "        ax[i].fill_between(ObservedData2013['time_C39_yr_f'], ObservedData2013['water_level_Center']-0.05, \n",
    "                     ObservedData2013['water_level_Center']+ 0.05, color='lightgray')\n",
    "    \n",
    "        ax[i].plot(ObservedData2013['time_C39_yr_f'], ObservedData2013['water_level_Center'],'r',label='Observed')\n",
    "        if (i==1):\n",
    "            ax[i].plot(DataSim1updated['time_center_f'], DataSim1updated['water_level_center'],'k-.',markersize='4',label='Basecase')\n",
    "            ax[i].plot(DataSim2updated['time_center_f'], DataSim2updated['water_level_center'],'m-.',markersize='4',label=r'$d_l$ = 5 cm')\n",
    "            ax[i].plot(DataSim3updated['time_center_f'], DataSim3updated['water_level_center'],'b-.',markersize='4',label=r'$d_l$ = 20 cm')\n",
    "        elif (i ==0):\n",
    "            ax[i].plot(DataSim1updated['time_center_f'], DataSim1updated['water_level_center'],'k-.',markersize='4',label='Basecase')\n",
    "            ax[i].plot(DataSim4updated['time_center_f'], DataSim4updated['water_level_center'],'m-.',markersize='4',label=r'$2.0 \\times K$')\n",
    "            ax[i].plot(DataSim5updated['time_center_f'], DataSim5updated['water_level_center'],'b-.',markersize='4',label=r'$0.5 \\times K$')\n",
    "        else:\n",
    "            ax[i].plot(DataSim1updated['time_center_f'], DataSim1updated['water_level_center'],'k-.',markersize='4',label='Basecase')\n",
    "            ax[i].plot(DataSim6updated['time_center_f'], DataSim6updated['water_level_center'],'b-.',markersize='4',label=r'$0.5 \\times K, \\, d_l$ = 20 cm')\n",
    "            ax[i].plot(DataSim7updated['time_center_f'], DataSim7updated['water_level_center'],'m-.',markersize='4',label=r'$2.0 \\times K, \\, d_l$ = 5 cm')\n",
    "        ax[i].axhline(y=Z_c,linestyle='--',color='g')\n",
    "    \n",
    "        ax[i].xaxis.set_major_formatter(xfmt)\n",
    "        ax[i].set_xticks(DataSim1updated['time_center_f'][::31])\n",
    "\n",
    "        ax[i].set_ylim(4.2, 5.2)\n",
    "        ax[i].set_ylabel('Water level [m]')\n",
    "        \n",
    "        if i ==0:\n",
    "            ax[0].set_title('Center',fontweight='bold')\n",
    "            ax[2].set_xlabel('Time [m/y]')\n",
    "        \n",
    "        ax[i].set_xlim(['2013-06-01','2013-09-21'])\n",
    "\n",
    "        ax[i].legend(loc='lower right', fontsize=8,ncol=2,prop={'size': 8})\n",
    "    \n",
    "    \n",
    "    plt.savefig(outfile+'SiteC_3D_3R3A_3R3B-nullspace.pdf', bbox_inches='tight', dpi=100)\n",
    "    plt.show()\n",
    "   "
   ]
  },
  {
   "cell_type": "code",
   "execution_count": null,
   "metadata": {},
   "outputs": [],
   "source": []
  },
  {
   "cell_type": "code",
   "execution_count": 18,
   "metadata": {},
   "outputs": [
    {
     "name": "stderr",
     "output_type": "stream",
     "text": [
      "/Users/ajc/anaconda3/lib/python3.7/site-packages/pandas/plotting/_converter.py:129: FutureWarning: Using an implicitly registered datetime converter for a matplotlib plotting method. The converter was registered by pandas on import. Future versions of pandas will require you to explicitly register matplotlib converters.\n",
      "\n",
      "To register the converters:\n",
      "\t>>> from pandas.plotting import register_matplotlib_converters\n",
      "\t>>> register_matplotlib_converters()\n",
      "  warnings.warn(msg, FutureWarning)\n"
     ]
    },
    {
     "data": {
      "image/png": "[encoded data removed]",
      "text/plain": [
       "<Figure size 288x504 with 3 Axes>"
      ]
     },
     "metadata": {},
     "output_type": "display_data"
    }
   ],
   "source": [
    "PlotWithCenterAverage(Perm=False)"
   ]
  },
  {
   "cell_type": "code",
   "execution_count": null,
   "metadata": {},
   "outputs": [],
   "source": []
  },
  {
   "cell_type": "code",
   "execution_count": 1,
   "metadata": {},
   "outputs": [],
   "source": [
    "# Compute Hydralic conductivity\n",
    "perm_k = [1.7e-11, 9.38e-12,6.0e-13]\n",
    "rho = 1000.\n",
    "g= 9.80655\n",
    "meu = 8.9e-4 #[Pa . s]\n",
    "cond = [100*1000*k * rho * g / meu for k in perm_k]"
   ]
  },
  {
   "cell_type": "code",
   "execution_count": 2,
   "metadata": {},
   "outputs": [
    {
     "data": {
      "text/plain": [
       "[18.731612359550564, 10.33544258426966, 0.6611157303370786]"
      ]
     },
     "execution_count": 2,
     "metadata": {},
     "output_type": "execute_result"
    }
   ],
   "source": [
    "cond"
   ]
  },
  {
   "cell_type": "code",
   "execution_count": null,
   "metadata": {},
   "outputs": [],
   "source": [
    "cond = [k * 7.49e6 for k in perm_k]\n",
    "cond"
   ]
  },
  {
   "cell_type": "code",
   "execution_count": null,
   "metadata": {},
   "outputs": [],
   "source": []
  },
  {
   "cell_type": "code",
   "execution_count": null,
   "metadata": {},
   "outputs": [],
   "source": []
  }
 ],
 "metadata": {
  "kernelspec": {
   "display_name": "Python 2",
   "language": "python",
   "name": "python2"
  },
  "language_info": {
   "codemirror_mode": {
    "name": "ipython",
    "version": 3
   },
   "file_extension": ".py",
   "mimetype": "text/x-python",
   "name": "python",
   "nbconvert_exporter": "python",
   "pygments_lexer": "ipython3",
   "version": "3.7.3"
  }
 },
 "nbformat": 4,
 "nbformat_minor": 2
}
