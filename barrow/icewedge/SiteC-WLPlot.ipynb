{
 "cells": [
  {
   "cell_type": "code",
   "execution_count": 1,
   "metadata": {},
   "outputs": [
    {
     "name": "stdout",
     "output_type": "stream",
     "text": [
      "Using matplotlib backend: MacOSX\n"
     ]
    }
   ],
   "source": [
    "%matplotlib"
   ]
  },
  {
   "cell_type": "code",
   "execution_count": 2,
   "metadata": {},
   "outputs": [],
   "source": [
    "import numpy as np\n",
    "import os, sys\n",
    "import h5py\n",
    "import pandas as pd\n",
    "import matplotlib.pyplot as plt\n",
    "\n",
    "import readdata as rd\n",
    "\n",
    "import datetime\n",
    "time_origin = datetime.datetime(2010,1,1,0,0,0)\n",
    "sys.path.append('/Users/ajc/Desktop/ATS/ats-repo/ats/tools/utils/')\n",
    "import plot_water_table2D\n",
    "sys.path.append(os.getcwd())\n",
    "import SiteC_2012_2014WL "
   ]
  },
  {
   "cell_type": "code",
   "execution_count": 3,
   "metadata": {},
   "outputs": [],
   "source": [
    "reload(SiteC_2012_2014WL)\n",
    "\n",
    "data2012 = SiteC_2012_2014WL.getData_2012()"
   ]
  },
  {
   "cell_type": "code",
   "execution_count": 4,
   "metadata": {},
   "outputs": [],
   "source": [
    "reload(SiteC_2012_2014WL)\n",
    "ObservedData2013 = dict()\n",
    "data2013 = SiteC_2012_2014WL.getData_2013()"
   ]
  },
  {
   "cell_type": "code",
   "execution_count": 5,
   "metadata": {},
   "outputs": [],
   "source": [
    "reload(SiteC_2012_2014WL)\n",
    "ObservedData2014 = dict()\n",
    "data2014 = SiteC_2012_2014WL.getData_2014()"
   ]
  },
  {
   "cell_type": "code",
   "execution_count": null,
   "metadata": {},
   "outputs": [],
   "source": []
  },
  {
   "cell_type": "code",
   "execution_count": 150,
   "metadata": {},
   "outputs": [
    {
     "name": "stdout",
     "output_type": "stream",
     "text": [
      "['time_C40', 'time_C39', 'water_level_C39', 'water_level_C37', 'water_level_C40', 'time_C37']\n"
     ]
    }
   ],
   "source": [
    "ObservedData2012 = dict()\n",
    "ObservedData2013 = dict()\n",
    "ObservedData2014 = dict()\n",
    "print data2013.keys()\n",
    "for key in data2013.keys():\n",
    "    ObservedData2012[key] = data2012[key]\n",
    "    ObservedData2013[key] = data2013[key]\n",
    "    ObservedData2014[key] = data2014[key]"
   ]
  },
  {
   "cell_type": "code",
   "execution_count": 151,
   "metadata": {},
   "outputs": [
    {
     "name": "stdout",
     "output_type": "stream",
     "text": [
      "Location:  center 45\n",
      "('Datum (surface elevation)', array([4.80721274]))\n",
      "Location:  trough 1\n",
      "('Datum (surface elevation)', array([4.71971499]))\n"
     ]
    }
   ],
   "source": [
    "simulation = 'SiteC_0R2Q'\n",
    "reload(plot_water_table2D)\n",
    "path = \"/Users/ajc/Projects/ATS-Data/OR-CONDO/simulations/barrow_icewedges/NGEE/SiteC/\"\n",
    "\n",
    "Time, WaterLevelCenter, ThawDepthC, Z_c = plot_water_table2D.water_table2D(path + '%s/'%simulation)\n",
    "Time, WaterLevelTrough, ThawDepthT, Z_t = plot_water_table2D.water_table2D(path + '%s/'%simulation, location='trough')"
   ]
  },
  {
   "cell_type": "code",
   "execution_count": 152,
   "metadata": {},
   "outputs": [],
   "source": [
    "cellid = 44\n",
    "metdata = rd.GetSurfVarFromVis(path + '/%s/visdump_surface_data.h5'%simulation, 'surface-precipitation_rain', cellid=cellid)"
   ]
  },
  {
   "cell_type": "code",
   "execution_count": 153,
   "metadata": {},
   "outputs": [],
   "source": [
    "# correcting the elevation of the center\n",
    "for key in ObservedData2012.keys():\n",
    "    if 'water_level_C40' in key:\n",
    "        ObservedData2012[key + '_Elev'] = np.array([d - 4.91 + Z_c for d in ObservedData2012[key]])\n"
   ]
  },
  {
   "cell_type": "code",
   "execution_count": 154,
   "metadata": {},
   "outputs": [],
   "source": [
    "DataSim =dict()\n",
    "time = [3*365*0 + t*365.25 for t in Time]\n",
    "\n",
    "DataSim['time'] = time\n",
    "DataSim['WL_Center'] = WaterLevelCenter\n",
    "DataSim['WL_Trough'] = WaterLevelTrough\n",
    "DataSim['TD_Center'] = [t + Z_c for t in ThawDepthC]\n",
    "        \n",
    "D1_C = []\n",
    "D1_T = []\n",
    "T1_C = []\n",
    "T1_T = []\n",
    "for i,d in enumerate(DataSim['WL_Center']):\n",
    "    if d != 0:\n",
    "        D1_C.append(d + Z_c)\n",
    "        T1_C.append(DataSim['time'][i])\n",
    "for i,d in enumerate(DataSim['WL_Trough']):\n",
    "    if d != 0:\n",
    "        D1_T.append(d + Z_t)\n",
    "        T1_T.append(DataSim['time'][i])"
   ]
  },
  {
   "cell_type": "code",
   "execution_count": 155,
   "metadata": {},
   "outputs": [
    {
     "name": "stdout",
     "output_type": "stream",
     "text": [
      "114 106\n",
      "85 85\n"
     ]
    }
   ],
   "source": [
    "#--- Remove the assigned 100 to the missing data points\n",
    "LC39 = len(ObservedData2012['water_level_C39'])\n",
    "mask = np.ones(LC39, dtype=bool)\n",
    "\n",
    "for i,d1 in enumerate(ObservedData2012['water_level_C39']):\n",
    "    if d1 > 10:\n",
    "        mask[i] = False\n",
    "\n",
    "ObservedData2012['water_level_C39_mask'] = ObservedData2012['water_level_C39'][mask]\n",
    "ObservedData2012['time_C39_mask'] = ObservedData2012['time_C39'][mask]\n",
    "\n",
    "#-----------------------------------------------------------------\n",
    "# Average the data at the two center wells\n",
    "assert len(ObservedData2012['water_level_C39']) == len(ObservedData2012['water_level_C40_Elev'])\n",
    "data = []\n",
    "index = np.where(ObservedData2012['water_level_C39'] > 10)[0]\n",
    "\n",
    "mid_value = 0.5*(ObservedData2012['water_level_C39'][index[0]-1] + ObservedData2012['water_level_C39'][index[-1]+1])\n",
    "\n",
    "for d1,d2 in zip(ObservedData2012['water_level_C39'], ObservedData2012['water_level_C40_Elev']):\n",
    "    sum = 0\n",
    "    if d1 < 10:\n",
    "        sum = 0.5*(d1+d2)\n",
    "    else:\n",
    "        sum = 0.5*(d2 + mid_value)\n",
    "    data.append(sum)\n",
    "ObservedData2012['water_level_Center_Elev'] = np.concatenate(data)\n",
    "\n",
    "print len(ObservedData2013['water_level_C39']), len(ObservedData2013['water_level_C40'])\n",
    "#assert len(ObservedData2013['water_level_C39']) == len(ObservedData2013['water_level_C40'])\n",
    "data = []\n",
    "c = 0\n",
    "for i in range(len(ObservedData2013['water_level_C39'])):\n",
    "    if i <7:\n",
    "        data.append(ObservedData2013['water_level_C39'][i])\n",
    "    elif (i < 113):\n",
    "        sum = 0.5*(ObservedData2013['water_level_C39'][i] + ObservedData2013['water_level_C40'][i-7])    \n",
    "        data.append(sum)\n",
    "    else:\n",
    "        data.append(ObservedData2013['water_level_C39'][i])\n",
    "\n",
    "\n",
    "ObservedData2013['water_level_Center'] = np.array(data)\n",
    "\n",
    "#--- 2014\n",
    "print len(ObservedData2014['water_level_C39']), len(ObservedData2014['water_level_C40'])\n",
    "data = []\n",
    "for i in range(len(ObservedData2014['water_level_C39'])):\n",
    "        sum = 0.5*(ObservedData2014['water_level_C39'][i] + ObservedData2014['water_level_C40'][i])    \n",
    "        data.append(sum)\n",
    "\n",
    "ObservedData2014['water_level_Center'] = np.array(data)"
   ]
  },
  {
   "cell_type": "code",
   "execution_count": 156,
   "metadata": {},
   "outputs": [],
   "source": [
    "\n",
    "outfile = '/Users/ajc/AllPostProcessData/2019/simulations/barrow-iwp/'\n",
    "fig, axs = plt.subplots(3,3, figsize=(8,8), facecolor='w', edgecolor='k',gridspec_kw={'width_ratios':[1,1,1]})\n",
    "fig.subplots_adjust(hspace =.02, wspace=1.02)\n",
    "plt.tight_layout()\n",
    "axs = axs.ravel()\n",
    "#fig, axs = plt.subplots(3,2,figsize=(10,8))\n",
    "\n",
    "\n",
    "ax = plt.subplot(321)\n",
    "plt.fill_between(ObservedData2012['time_C37'], ObservedData2012['water_level_C37']-0.03, \n",
    "                 ObservedData2012['water_level_C37']+ 0.03, color='c')\n",
    "plt.plot(ObservedData2012['time_C37'], ObservedData2012['water_level_C37'],'r')\n",
    "plt.plot(T1_T, D1_T,'k*',markersize='4')\n",
    "plt.axhline(y=Z_t,linestyle='--',color='g')\n",
    "plt.text(882, 4.6, 'Trough, 2012')\n",
    "plt.ylabel('Water level')\n",
    "\n",
    "\n",
    "\n",
    "#ax.set_xticks(np.arange(880, 1001, step=20))\n",
    "#ax.set_xticklabels(timeadj2012)\n",
    "ax.set_xlim(880, 1000)\n",
    "#plt.margins(0.2)\n",
    "plt.ylim(4.5, 5.1)\n",
    "\n",
    "\n",
    "ax1 = plt.subplot(322)\n",
    "\n",
    "plt.fill_between(ObservedData2012['time_C39'], ObservedData2012['water_level_Center_Elev']-0.03, \n",
    "                 ObservedData2012['water_level_Center_Elev']+ 0.03, color='c')\n",
    "plt.plot(ObservedData2012['time_C39'], ObservedData2012['water_level_Center_Elev'],'r',label='Center, 2012')\n",
    "#plt.plot(ObservedData2012['time_C40'], ObservedData2012['water_level_C40_Elev'],'g')#, label='Observed (2014 C37)')\n",
    "#plt.plot(ObservedData2012['time_C39_mask'], ObservedData2012['water_level_C39_mask'],'r')#, label='Observed (2014 C37)')\n",
    "plt.plot(T1_C, D1_C,'k-',markersize='4',label='Simulated')\n",
    "\n",
    "plt.axhline(y=Z_c,linestyle='--',color='g')\n",
    "#plt.legend()\n",
    "plt.text(882, 4.6, 'Center, 2012')\n",
    "plt.xlim(880, 1000)\n",
    "plt.ylim(4.5, 5.1)\n",
    "\n",
    "# ------------ 2013 --------------------------------------\n",
    "ax2 = plt.subplot(323)\n",
    "plt.fill_between(ObservedData2013['time_C37'], ObservedData2013['water_level_C37']-0.03, \n",
    "                 ObservedData2013['water_level_C37']+ 0.03, color='c')\n",
    "plt.plot(ObservedData2013['time_C37'], ObservedData2013['water_level_C37'],'r')#, label='Trough, 2012')\n",
    "plt.plot(T1_T, D1_T,'k*',markersize='4')#,label='Simulated')\n",
    "plt.axhline(y=Z_t,linestyle='--',color='g')\n",
    "plt.text(1238, 4.6, 'Trough, 2013')\n",
    "#plt.xlabel('Day')\n",
    "plt.ylabel('Water level')\n",
    "plt.xlim(1236, 1362)\n",
    "plt.ylim(4.5, 5.1)\n",
    "\n",
    "#plt.legend()\n",
    "\n",
    "ax1 = plt.subplot(324)\n",
    "\n",
    "plt.fill_between(ObservedData2013['time_C39'], ObservedData2013['water_level_Center']-0.03, \n",
    "                 ObservedData2013['water_level_Center']+ 0.03, color='c')\n",
    "plt.plot(ObservedData2013['time_C39'], ObservedData2013['water_level_Center'],'r')\n",
    "plt.plot(T1_C, D1_C,'k*',markersize='4')\n",
    "\n",
    "plt.text(1238, 4.6, 'Center, 2013')\n",
    "plt.axhline(y=Z_c,linestyle='--',color='g')\n",
    "#plt.legend()\n",
    "plt.xlim(1236, 1362)\n",
    "plt.ylim(4.5, 5.1)\n",
    "\n",
    "\n",
    "#---------------- 2014 --------------------\n",
    "# --------------------------------------------------\n",
    "ax2 = plt.subplot(325)\n",
    "plt.fill_between(ObservedData2014['time_C37'], ObservedData2014['water_level_C37']-0.03, \n",
    "                 ObservedData2014['water_level_C37']+ 0.03, color='c')\n",
    "plt.plot(ObservedData2014['time_C37'], ObservedData2014['water_level_C37'],'r')#, label='Observed (trough) 2012')\n",
    "plt.plot(T1_T, D1_T,'k*',markersize='4')#,label='Simulated')\n",
    "plt.axhline(y=Z_t,linestyle='--',color='g')\n",
    "plt.text(1622, 4.6, 'Trough, 2014')\n",
    "plt.xlabel('Day')\n",
    "plt.ylabel('Water level')\n",
    "plt.xlim(1620, 1710)\n",
    "plt.ylim(4.5, 5.1)\n",
    "#plt.legend()\n",
    "\n",
    "ax1 = plt.subplot(326)\n",
    "\n",
    "plt.fill_between(ObservedData2014['time_C39'], ObservedData2014['water_level_Center']-0.03, \n",
    "                 ObservedData2014['water_level_Center']+ 0.03, color='c')\n",
    "plt.plot(ObservedData2014['time_C39'], ObservedData2014['water_level_Center'],'r',label='Observed')\n",
    "#plt.plot(ObservedData2014['time_C39'], ObservedData2014['water_level_C39'],'r')#, label='Observed (2014 C37)')\n",
    "plt.plot(T1_C, D1_C,'k*',markersize='4',label='Simulated')\n",
    "plt.text(1622, 4.6, 'Center, 2014')\n",
    "plt.axhline(y=Z_c,linestyle='--',color='g')\n",
    "plt.legend()\n",
    "plt.xlim(1620, 1710)\n",
    "plt.ylim(4.5, 5.1)\n",
    "\"\"\"\n",
    "ax2 = ax1.twinx()\n",
    "rain = [d*1.e7 for d in metdata['surface-precipitation_rain']]\n",
    "\n",
    "ax2.plot(Data40['time'],rain,'y')\n",
    "ax2.set_ylabel('Precipitation Rain [m /s] x 1.0e-7',color='y')\n",
    "ax2.tick_params('y', colors='y')\n",
    "ax2.set_ylim([-10.0, 2])\n",
    "\"\"\"\n",
    "plt.legend(loc='upper right', fontsize=10, ncol=2, bbox_to_anchor=(0.7,- 0.32, .1, .1))\n",
    "plt.tight_layout()\n",
    "plt.savefig(outfile+'comparison-%s.pdf'%simulation, bbox_inches='tight', dpi=100)\n",
    "plt.show()\n",
    "\n",
    "\n"
   ]
  },
  {
   "cell_type": "code",
   "execution_count": 57,
   "metadata": {},
   "outputs": [
    {
     "data": {
      "text/plain": [
       "(205, 228)"
      ]
     },
     "execution_count": 57,
     "metadata": {},
     "output_type": "execute_result"
    }
   ],
   "source": [
    "935-730, 958-730"
   ]
  },
  {
   "cell_type": "code",
   "execution_count": null,
   "metadata": {},
   "outputs": [],
   "source": []
  },
  {
   "cell_type": "code",
   "execution_count": null,
   "metadata": {},
   "outputs": [],
   "source": []
  },
  {
   "cell_type": "code",
   "execution_count": null,
   "metadata": {},
   "outputs": [],
   "source": []
  }
 ],
 "metadata": {
  "kernelspec": {
   "display_name": "Python 2",
   "language": "python",
   "name": "python2"
  },
  "language_info": {
   "codemirror_mode": {
    "name": "ipython",
    "version": 2
   },
   "file_extension": ".py",
   "mimetype": "text/x-python",
   "name": "python",
   "nbconvert_exporter": "python",
   "pygments_lexer": "ipython2",
   "version": "2.7.14"
  }
 },
 "nbformat": 4,
 "nbformat_minor": 2
}
