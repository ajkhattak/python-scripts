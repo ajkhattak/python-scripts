{
 "cells": [
  {
   "cell_type": "code",
   "execution_count": 1,
   "metadata": {},
   "outputs": [
    {
     "name": "stdout",
     "output_type": "stream",
     "text": [
      "Using matplotlib backend: MacOSX\n"
     ]
    }
   ],
   "source": [
    "%matplotlib"
   ]
  },
  {
   "cell_type": "code",
   "execution_count": 2,
   "metadata": {},
   "outputs": [],
   "source": [
    "import numpy as np\n",
    "import h5py\n",
    "import os, sys\n",
    "import matplotlib.pyplot as plt\n",
    "from scipy.interpolate import CubicSpline\n",
    "from scipy.signal import savgol_filter\n",
    "import pandas as pd\n",
    "sys.path.append('/Users/ajc/CODES/ats/tools/utils/')\n",
    "import get_transect_data"
   ]
  },
  {
   "cell_type": "code",
   "execution_count": 3,
   "metadata": {},
   "outputs": [],
   "source": [
    "Data_B = dict()\n",
    "infile='/Users/ajc/mytests/simulations/hillslope/2019/MaxSnow/MS_B_1R1/'\n",
    "Time, Data = get_transect_data.get2DMatrix(infile)\n",
    "Data_B['temperature'] = np.array(Data)\n",
    "Data_B['time'] = np.array(Time)"
   ]
  },
  {
   "cell_type": "code",
   "execution_count": 4,
   "metadata": {},
   "outputs": [],
   "source": [
    "Data_S30 = dict()\n",
    "infile='/Users/ajc/mytests/simulations/hillslope/2019/MaxSnow/MS_S30_1R1/'\n",
    "Time, Data = get_transect_data.get2DMatrix(infile)\n",
    "Data_S30['temperature'] = np.array(Data)\n",
    "Data_S30['time'] = np.array(Time)"
   ]
  },
  {
   "cell_type": "code",
   "execution_count": null,
   "metadata": {},
   "outputs": [],
   "source": []
  },
  {
   "cell_type": "code",
   "execution_count": 5,
   "metadata": {},
   "outputs": [],
   "source": [
    "Data_S60 = dict()\n",
    "infile='/Users/ajc/mytests/simulations/hillslope/2019/MaxSnow/MS_S60_1R1/'\n",
    "Time, Data = get_transect_data.get2DMatrix(infile)\n",
    "Data_S60['temperature'] = np.array(Data)\n",
    "Data_S60['time'] = np.array(Time)"
   ]
  },
  {
   "cell_type": "code",
   "execution_count": 6,
   "metadata": {},
   "outputs": [],
   "source": [
    "Data_S90 = dict()\n",
    "infile='/Users/ajc/mytests/simulations/hillslope/2019/MaxSnow/MS_S90_1R1/'\n",
    "Time, Data = get_transect_data.get2DMatrix(infile)\n",
    "Data_S90['temperature'] = np.array(Data)\n",
    "Data_S90['time'] = np.array(Time)"
   ]
  },
  {
   "cell_type": "code",
   "execution_count": null,
   "metadata": {},
   "outputs": [],
   "source": []
  },
  {
   "cell_type": "code",
   "execution_count": 7,
   "metadata": {},
   "outputs": [
    {
     "data": {
      "text/plain": [
       "\"\\n    nvar, cycles, xnum, znum = data.shape\\n    RiparianT = dict()\\n    avgTemp = np.zeros(cycles)\\n    for i in range(cycles):\\n        avgTemp[i] = np.mean(data[nvar-1,i,0:10,55:])\\n    RiparianT['times'] = np.array(times)\\n    RiparianT['temp'] = np.array(avgTemp)\\n    for key in RiparianT.keys():\\n        RiparianT[key + '-annual_avg'] = np.reshape(RiparianT[key], (-1,365)).mean(axis=1)    \\n    return RiparianT\\n\""
      ]
     },
     "execution_count": 7,
     "metadata": {},
     "output_type": "execute_result"
    }
   ],
   "source": [
    "\"\"\"\n",
    "    nvar, cycles, xnum, znum = data.shape\n",
    "    RiparianT = dict()\n",
    "    avgTemp = np.zeros(cycles)\n",
    "    for i in range(cycles):\n",
    "        avgTemp[i] = np.mean(data[nvar-1,i,0:10,55:])\n",
    "    RiparianT['times'] = np.array(times)\n",
    "    RiparianT['temp'] = np.array(avgTemp)\n",
    "    for key in RiparianT.keys():\n",
    "        RiparianT[key + '-annual_avg'] = np.reshape(RiparianT[key], (-1,365)).mean(axis=1)    \n",
    "    return RiparianT\n",
    "\"\"\""
   ]
  },
  {
   "cell_type": "code",
   "execution_count": null,
   "metadata": {},
   "outputs": [],
   "source": []
  },
  {
   "cell_type": "code",
   "execution_count": null,
   "metadata": {},
   "outputs": [],
   "source": []
  },
  {
   "cell_type": "code",
   "execution_count": 8,
   "metadata": {},
   "outputs": [],
   "source": [
    "def get_locationbased_ALT(season = \" \",location=0):\n",
    "    data = []\n",
    "    times = []\n",
    "    if season == \"B\":\n",
    "        data = Data_B['temperature']\n",
    "        times = Data_B['time']\n",
    "    elif season == \"S30\":\n",
    "        data = Data_S30['temperature']\n",
    "        times = Data_S30['time']\n",
    "    elif season == \"S60\":\n",
    "        data = Data_S60['temperature']\n",
    "        times = Data_S60['time']\n",
    "    elif season == \"S90\":\n",
    "        data = Data_S90['temperature']\n",
    "        times = Data_S90['time']\n",
    "        \n",
    "    nvar, cycles, xnum, znum = data.shape\n",
    "    HillslopeT = dict()\n",
    "    avgTemp = np.zeros(cycles)\n",
    "    ThawTop = np.zeros(cycles)\n",
    "    ThawBottom = np.zeros(cycles)\n",
    "    \n",
    "    ddepth = 0 \n",
    "    for i in range(cycles):\n",
    "        loc = np.where(data[nvar-1,i,location,:] > 273.15)[0]\n",
    "        if len(loc) >0:\n",
    "            #dz = -(80 - loc[0])*2.0\n",
    "            dz =  (data[1,0,location,loc[0]-1] - data[1,0,location,loc[-1]])*100\n",
    "            #print (loc)\n",
    "            avgTemp[i] = dz\n",
    "            ThawTop[i] = (5.015-data[1,0,location,loc[-1]])*100\n",
    "            ThawBottom[i] = (5.015-data[1,0,location,loc[0]-1])*100\n",
    "            #print (data[1,0,location,loc[-1]], loc[-1])\n",
    "            #break\n",
    "    \n",
    "    HillslopeT['times'] = np.array(times)\n",
    "    HillslopeT['temp'] = np.array(avgTemp)\n",
    "    HillslopeT['temp_top'] = np.array(ThawTop)\n",
    "    HillslopeT['temp_bottom'] = np.array(ThawBottom)\n",
    "    L = len(HillslopeT['temp'])%365\n",
    "    for key in HillslopeT.keys():\n",
    "        HillslopeT[key + '-annual_avg'] = np.reshape(HillslopeT[key][:-L], (-1,365))   \n",
    "    return HillslopeT"
   ]
  },
  {
   "cell_type": "code",
   "execution_count": null,
   "metadata": {},
   "outputs": [],
   "source": []
  },
  {
   "cell_type": "code",
   "execution_count": 9,
   "metadata": {},
   "outputs": [],
   "source": [
    "#HillslopeALT_B_loc10 = get_locationbased_ALT(\"B\",location=Loc)"
   ]
  },
  {
   "cell_type": "code",
   "execution_count": 10,
   "metadata": {},
   "outputs": [],
   "source": [
    "Loc = 0\n",
    "HillslopeALT_B_loc10 = get_locationbased_ALT(\"B\",location=Loc)\n",
    "HillslopeALT_S30_loc10 = get_locationbased_ALT(\"S30\",location=Loc)\n",
    "HillslopeALT_S60_loc10 = get_locationbased_ALT(\"S60\",location=Loc)\n",
    "HillslopeALT_S90_loc10 = get_locationbased_ALT(\"S90\",location=Loc)"
   ]
  },
  {
   "cell_type": "code",
   "execution_count": null,
   "metadata": {},
   "outputs": [],
   "source": []
  },
  {
   "cell_type": "code",
   "execution_count": null,
   "metadata": {},
   "outputs": [],
   "source": []
  },
  {
   "cell_type": "code",
   "execution_count": null,
   "metadata": {},
   "outputs": [],
   "source": [
    "outfile='/Users/ajc/Documents/MyPapers/MaxSnow/'\n",
    "fig, axs = plt.subplots(1,1, figsize=(6,4), facecolor='w', edgecolor='k',gridspec_kw={'width_ratios':[1]})\n",
    "fig.subplots_adjust(hspace =.02, wspace=1.02)\n",
    "plt.tight_layout()\n",
    "#axs = axs.ravel()\n",
    "\n",
    "#print HillslopeALT_B_loc10['times-annual_avg'].shape\n",
    "thaw_layer = False\n",
    "yr = 18\n",
    "ax1=plt.subplot(111)\n",
    "if thaw_layer == True:\n",
    "    ax1.plot(HillslopeALT_B_loc10['times-annual_avg'][yr], HillslopeALT_B_loc10['temp-annual_avg'][yr],'k-',label='Basecase')\n",
    "    ax1.plot(HillslopeALT_S30_loc10['times-annual_avg'][yr], HillslopeALT_S30_loc10['temp-annual_avg'][yr],'g-',label=r'S$_{30}$')\n",
    "    ax1.plot(HillslopeALT_S60_loc10['times-annual_avg'][yr], HillslopeALT_S60_loc10['temp-annual_avg'][yr],'b-',label=r'S$_{60}$')\n",
    "    ax1.plot(HillslopeALT_S90_loc10['times-annual_avg'][yr], HillslopeALT_S90_loc10['temp-annual_avg'][yr],'r-',label=r'S$_{90}$')\n",
    "else:\n",
    "    d_B = HillslopeALT_B_loc10['temp_top-annual_avg'][yr] - HillslopeALT_B_loc10['temp_bottom-annual_avg'][yr]\n",
    "    mask = np.where(d_B==0)[0]\n",
    "    data_B_top = np.delete(HillslopeALT_B_loc10['temp_top-annual_avg'][yr],mask)\n",
    "    data_B_bottom = np.delete(HillslopeALT_B_loc10['temp_bottom-annual_avg'][yr],mask)\n",
    "    time_B = np.delete(HillslopeALT_B_loc10['times-annual_avg'][yr],mask)\n",
    "    ax1.plot(time_B, -data_B_top,marker='x',markersize='2',linestyle='none',color='k')#,label='Basecase')\n",
    "    \n",
    "    #-------------------\n",
    "    d_S30 = HillslopeALT_S30_loc10['temp_top-annual_avg'][yr] - HillslopeALT_S30_loc10['temp_bottom-annual_avg'][yr]\n",
    "    mask = np.where(d_S30==0)[0]\n",
    "    data_S30_top = np.delete(HillslopeALT_S30_loc10['temp_top-annual_avg'][yr],mask)\n",
    "    data_S30_bottom = np.delete(HillslopeALT_S30_loc10['temp_bottom-annual_avg'][yr],mask)\n",
    "    time_S30 = np.delete(HillslopeALT_S30_loc10['times-annual_avg'][yr],mask)\n",
    "    ax1.plot(time_S30, -data_S30_top,marker='x',markersize='2',linestyle='none',color='green')#,label='Basecase')\n",
    "\n",
    "    #-------------------\n",
    "    d_S60 = HillslopeALT_S60_loc10['temp_top-annual_avg'][yr] - HillslopeALT_S60_loc10['temp_bottom-annual_avg'][yr]\n",
    "    mask = np.where(d_S60==0)[0]\n",
    "    data_S60_top = np.delete(HillslopeALT_S60_loc10['temp_top-annual_avg'][yr],mask)\n",
    "    data_S60_bottom = np.delete(HillslopeALT_S60_loc10['temp_bottom-annual_avg'][yr],mask)\n",
    "    time_S60 = np.delete(HillslopeALT_S60_loc10['times-annual_avg'][yr],mask)\n",
    "    ax1.plot(time_S60, -data_S60_top,marker='x',markersize='2',linestyle='none',color='blue')#,label='Basecase')\n",
    "\n",
    "    #-------------------\n",
    "    d_S90 = HillslopeALT_S90_loc10['temp_top-annual_avg'][yr] - HillslopeALT_S90_loc10['temp_bottom-annual_avg'][yr]\n",
    "    mask = np.where(d_S90==0)[0]\n",
    "    data_S90_top = np.delete(HillslopeALT_S90_loc10['temp_top-annual_avg'][yr],mask)\n",
    "    data_S90_bottom = np.delete(HillslopeALT_S90_loc10['temp_bottom-annual_avg'][yr],mask)\n",
    "    time_S90 = np.delete(HillslopeALT_S90_loc10['times-annual_avg'][yr],mask)\n",
    "    ax1.plot(time_S90, -data_S90_top,marker='x',markersize='2',linestyle='none',color='red')#,label='Basecase')\n",
    "    \n",
    "    ax1.plot(time_B, -data_B_bottom,marker='x',markersize='2',linestyle='none',color='k',label='Basecase')\n",
    "    ax1.plot(time_S30, -data_S30_bottom,marker='x',markersize='2',linestyle='none',color='green',label=r'S$_{30}$')\n",
    "    ax1.plot(time_S60, -data_S60_bottom,marker='x',markersize='2',linestyle='none',color='blue',label=r'S$_{60}$')\n",
    "    ax1.plot(time_S90, -data_S90_bottom,marker='x',markersize='2',linestyle='none',color='red',label=r'S$_{90}$')\n",
    "    #ax1.plot(HillslopeALT_S30_loc10['times-annual_avg'][yr], -HillslopeALT_S30_loc10['temp_bottom-annual_avg'][yr],'g-',label=r'S$_{30}$')\n",
    "    #ax1.plot(HillslopeALT_S60_loc10['times-annual_avg'][yr], -HillslopeALT_S60_loc10['temp_bottom-annual_avg'][yr],'b-',label=r'S$_{60}$')\n",
    "    #ax1.plot(HillslopeALT_S90_loc10['times-annual_avg'][yr], -HillslopeALT_S90_loc10['temp_bottom-annual_avg'][yr],'r-',label=r'S$_{90}$')\n",
    "\n",
    "print HillslopeALT_S90_loc10['times-annual_avg'][yr][0]%365\n",
    "\"\"\"\n",
    "yr = 18\n",
    "ax2=plt.subplot(122)\n",
    "ax2.plot(HillslopeALT_B_loc10['times-annual_avg'][yr], HillslopeALT_B_loc10['temp-annual_avg'][yr],'k-',label='Basecase')\n",
    "ax2.plot(HillslopeALT_S30_loc10['times-annual_avg'][yr], HillslopeALT_S30_loc10['temp-annual_avg'][yr],'g-',label=r'S$_{30}$')\n",
    "ax2.plot(HillslopeALT_S60_loc10['times-annual_avg'][yr], HillslopeALT_S60_loc10['temp-annual_avg'][yr],'b-',label=r'S$_{60}$')\n",
    "ax2.plot(HillslopeALT_S90_loc10['times-annual_avg'][yr], HillslopeALT_S90_loc10['temp-annual_avg'][yr],'m-',label=r'S$_{90}$')\n",
    "\"\"\"\n",
    "ax1.set_title('Depth to base and top of the thaw layer (pond center)',fontsize='large', fontweight='normal')\n",
    "ax1.set_xlabel('Time [Month of year]',fontsize='large', fontweight='normal')\n",
    "ax1.set_ylabel('Depth [cm]',fontsize='large', fontweight='normal')\n",
    "ax1.set_xlim(18.71,19.71)\n",
    "ax1.set_xticklabels(['x', 'Oct', 'Dec', 'March', 'May', 'July'],fontsize=11, fontweight='normal')\n",
    "ax1.set_yticklabels(np.linspace(90,0,10,dtype='i'),fontsize=11, fontweight='normal')\n",
    "#ax1.set_ylim((-81, 1.5))\n",
    "ax1.legend(loc='center left', fontsize=10,bbox_to_anchor=(.005,0.6, .1, .1))#, ncol=4, bbox_to_anchor=(1.0,-0.35, .1, .1))\n",
    "  \n",
    "plt.tight_layout()\n",
    "plt.savefig(outfile+'ALT-x%sm-5.pdf'%Loc, bbox_inches='tight', dpi=100)\n",
    "plt.show()"
   ]
  },
  {
   "cell_type": "code",
   "execution_count": 49,
   "metadata": {},
   "outputs": [],
   "source": [
    "from scipy.interpolate import interp1d\n",
    "import scipy.signal"
   ]
  },
  {
   "cell_type": "code",
   "execution_count": 62,
   "metadata": {},
   "outputs": [
    {
     "name": "stdout",
     "output_type": "stream",
     "text": [
      "[207 208 209 210 211 212 213 214 215 216 217 218 219 220 221 222 223 224\n",
      " 225 226 227 228 229 230 231 232 233 234 235 236 237 238 239 240 241 242\n",
      " 243 244 245 246 247 248 249 250 251 252 253 254 255 256 257 258 259 260\n",
      " 261 262 263 264 265 266 267 268 269 270 271 272 273 274]\n"
     ]
    }
   ],
   "source": [
    "#smoothing December 20\n",
    "outfile='/Users/ajc/Documents/MyPapers/MaxSnow/'\n",
    "fig, axs = plt.subplots(1,1, figsize=(6,4), facecolor='w', edgecolor='k',gridspec_kw={'width_ratios':[1]})\n",
    "fig.subplots_adjust(hspace =.02, wspace=1.02)\n",
    "plt.tight_layout()\n",
    "#axs = axs.ravel()\n",
    "\n",
    "#print HillslopeALT_B_loc10['times-annual_avg'].shape\n",
    "thaw_layer = False\n",
    "yr = 18\n",
    "ax1=plt.subplot(111)\n",
    "if thaw_layer == True:\n",
    "    ax1.plot(HillslopeALT_B_loc10['times-annual_avg'][yr], HillslopeALT_B_loc10['temp-annual_avg'][yr],'k-',label='Basecase')\n",
    "    ax1.plot(HillslopeALT_S30_loc10['times-annual_avg'][yr], HillslopeALT_S30_loc10['temp-annual_avg'][yr],'g-',label=r'S$_{30}$')\n",
    "    ax1.plot(HillslopeALT_S60_loc10['times-annual_avg'][yr], HillslopeALT_S60_loc10['temp-annual_avg'][yr],'b-',label=r'S$_{60}$')\n",
    "    ax1.plot(HillslopeALT_S90_loc10['times-annual_avg'][yr], HillslopeALT_S90_loc10['temp-annual_avg'][yr],'r-',label=r'S$_{90}$')\n",
    "else:\n",
    "    d_B = HillslopeALT_B_loc10['temp_top-annual_avg'][yr] - HillslopeALT_B_loc10['temp_bottom-annual_avg'][yr]\n",
    "    mask = np.where(d_B==0)[0]\n",
    "    print (mask)\n",
    "    ax1.plot(HillslopeALT_B_loc10['times-annual_avg'][yr][:mask[0]], -HillslopeALT_B_loc10['temp_top-annual_avg'][yr][:mask[0]],linestyle='dashed',color='k',label='Basecase (t)')\n",
    "    ax1.plot(HillslopeALT_B_loc10['times-annual_avg'][yr][mask[-1]:], -HillslopeALT_B_loc10['temp_top-annual_avg'][yr][mask[-1]:],linestyle='dashed',color='k')\n",
    "    ax1.plot(HillslopeALT_B_loc10['times-annual_avg'][yr][:mask[0]], -HillslopeALT_B_loc10['temp_bottom-annual_avg'][yr][:mask[0]],linestyle='-',color='k',label='Basecase (b)')\n",
    "    ax1.plot(HillslopeALT_B_loc10['times-annual_avg'][yr][mask[-1]:], -HillslopeALT_B_loc10['temp_bottom-annual_avg'][yr][mask[-1]:],linestyle='-',color='k')\n",
    "    #f = scipy.interpolate.CubicSpline(HillslopeALT_B_loc10['times-annual_avg'][yr][:mask[0]], -HillslopeALT_B_loc10['temp_top-annual_avg'][yr][:mask[0]],bc_type='clamped')\n",
    "    #xnew = np.linspace(HillslopeALT_B_loc10['times-annual_avg'][yr][0],HillslopeALT_B_loc10['times-annual_avg'][yr][mask[0]-1],1000)\n",
    "    #ax1.plot(xnew, f(xnew),linestyle='dashed',color='r',label='Basecase1')\n",
    "    \n",
    "    #-------------------\n",
    "    d_S30 = HillslopeALT_S30_loc10['temp_top-annual_avg'][yr] - HillslopeALT_S30_loc10['temp_bottom-annual_avg'][yr]\n",
    "    mask = np.where(d_S30==0)[0]\n",
    "    ax1.plot(HillslopeALT_S30_loc10['times-annual_avg'][yr][:mask[0]], -HillslopeALT_S30_loc10['temp_top-annual_avg'][yr][:mask[0]],linestyle='dashed',color='g',label=r'S$_{30}$ (t)')\n",
    "    ax1.plot(HillslopeALT_S30_loc10['times-annual_avg'][yr][mask[-1]:], -HillslopeALT_S30_loc10['temp_top-annual_avg'][yr][mask[-1]:],linestyle='dashed',color='g')\n",
    "    ax1.plot(HillslopeALT_S30_loc10['times-annual_avg'][yr][:mask[0]], -HillslopeALT_S30_loc10['temp_bottom-annual_avg'][yr][:mask[0]],linestyle='-',color='g',label=r'S$_{30}$ (b)')\n",
    "    ax1.plot(HillslopeALT_S30_loc10['times-annual_avg'][yr][mask[-1]:], -HillslopeALT_S30_loc10['temp_bottom-annual_avg'][yr][mask[-1]:],linestyle='-',color='g')\n",
    "    \n",
    "    #-------------------\n",
    "    d_S60 = HillslopeALT_S60_loc10['temp_top-annual_avg'][yr] - HillslopeALT_S60_loc10['temp_bottom-annual_avg'][yr]\n",
    "    mask = np.where(d_S60==0)[0]\n",
    "    ax1.plot(HillslopeALT_S60_loc10['times-annual_avg'][yr][:mask[0]], -HillslopeALT_S60_loc10['temp_top-annual_avg'][yr][:mask[0]],linestyle='dashed',color='b',label=r'S$_{60}$ (t)')\n",
    "    ax1.plot(HillslopeALT_S60_loc10['times-annual_avg'][yr][mask[-1]:], -HillslopeALT_S60_loc10['temp_top-annual_avg'][yr][mask[-1]:],linestyle='dashed',color='b')\n",
    "    ax1.plot(HillslopeALT_S60_loc10['times-annual_avg'][yr][:mask[0]], -HillslopeALT_S60_loc10['temp_bottom-annual_avg'][yr][:mask[0]],linestyle='-',color='b',label=r'S$_{60}$ (b)')\n",
    "    ax1.plot(HillslopeALT_S60_loc10['times-annual_avg'][yr][mask[-1]:], -HillslopeALT_S60_loc10['temp_bottom-annual_avg'][yr][mask[-1]:],linestyle='-',color='b')\n",
    "\n",
    "    #-------------------\n",
    "    d_S90 = HillslopeALT_S90_loc10['temp_top-annual_avg'][yr] - HillslopeALT_S90_loc10['temp_bottom-annual_avg'][yr]\n",
    "    mask = np.where(d_S90==0)[0]\n",
    "    ax1.plot(HillslopeALT_S90_loc10['times-annual_avg'][yr], -HillslopeALT_S90_loc10['temp_top-annual_avg'][yr],linestyle='dashed',color='r',label=r'S$_{90}$ (t)')\n",
    "    ax1.plot(HillslopeALT_S90_loc10['times-annual_avg'][yr], -HillslopeALT_S90_loc10['temp_bottom-annual_avg'][yr],linestyle='-',color='r',label=r'S$_{90}$ (b)')\n",
    "    \n",
    "ax1.set_title('Depth to base and top of the thaw layer (pond center)',fontsize='large', fontweight='normal')\n",
    "ax1.set_xlabel('Time [Month of year]',fontsize='large', fontweight='normal')\n",
    "ax1.set_ylabel('Depth [cm]',fontsize='large', fontweight='normal')\n",
    "ax1.set_xlim(18.71,19.71)\n",
    "ax1.set_xticklabels(['x', 'Oct', 'Dec', 'March', 'May', 'July'],fontsize=11, fontweight='normal')\n",
    "ax1.set_yticklabels(np.linspace(90,0,10,dtype='i'),fontsize=11, fontweight='normal')\n",
    "#ax1.set_ylim((-81, 1.5))\n",
    "ax1.legend(loc='center left', fontsize=8,bbox_to_anchor=(.005,0.64, .1, .1),ncol=2)#, ncol=4, bbox_to_anchor=(1.0,-0.35, .1, .1))\n",
    "  \n",
    "plt.tight_layout()\n",
    "plt.savefig(outfile+'ALT-x%sm-5.pdf'%Loc, bbox_inches='tight', dpi=100)\n",
    "plt.show()"
   ]
  },
  {
   "cell_type": "code",
   "execution_count": null,
   "metadata": {},
   "outputs": [],
   "source": []
  },
  {
   "cell_type": "code",
   "execution_count": null,
   "metadata": {},
   "outputs": [],
   "source": [
    "\n"
   ]
  },
  {
   "cell_type": "code",
   "execution_count": null,
   "metadata": {},
   "outputs": [],
   "source": [
    "\n",
    "\n"
   ]
  },
  {
   "cell_type": "code",
   "execution_count": null,
   "metadata": {},
   "outputs": [],
   "source": []
  }
 ],
 "metadata": {
  "kernelspec": {
   "display_name": "Python 3",
   "language": "python",
   "name": "python3"
  },
  "language_info": {
   "codemirror_mode": {
    "name": "ipython",
    "version": 3
   },
   "file_extension": ".py",
   "mimetype": "text/x-python",
   "name": "python",
   "nbconvert_exporter": "python",
   "pygments_lexer": "ipython3",
   "version": "3.7.6"
  }
 },
 "nbformat": 4,
 "nbformat_minor": 2
}
