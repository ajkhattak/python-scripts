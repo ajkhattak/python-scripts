{
 "cells": [
  {
   "cell_type": "code",
   "execution_count": 1,
   "metadata": {},
   "outputs": [
    {
     "name": "stdout",
     "output_type": "stream",
     "text": [
      "Using matplotlib backend: MacOSX\n"
     ]
    }
   ],
   "source": [
    "%matplotlib"
   ]
  },
  {
   "cell_type": "code",
   "execution_count": 2,
   "metadata": {},
   "outputs": [],
   "source": [
    "import numpy as np\n",
    "import h5py\n",
    "import os, sys\n",
    "import matplotlib.pyplot as plt\n",
    "from scipy.interpolate import CubicSpline\n",
    "from scipy.signal import savgol_filter\n",
    "import pandas as pd\n",
    "sys.path.append('/Users/ajc/CODES/ats/tools/utils/')\n",
    "import get_transect_data"
   ]
  },
  {
   "cell_type": "code",
   "execution_count": 3,
   "metadata": {},
   "outputs": [],
   "source": [
    "Data_B = dict()\n",
    "infile='/Users/ajc/mytests/simulations/hillslope/2019/MaxSnow/MS_B_1R1/'\n",
    "Time, Data = get_transect_data.get2DMatrix(infile,varnames=['temperature','cell_volume'])\n",
    "Data_B['temperature'] = np.array(Data)\n",
    "Data_B['time'] = np.array(Time)"
   ]
  },
  {
   "cell_type": "code",
   "execution_count": 4,
   "metadata": {},
   "outputs": [],
   "source": [
    "Data_S30 = dict()\n",
    "infile='/Users/ajc/mytests/simulations/hillslope/2019/MaxSnow/MS_S30_1R1/'\n",
    "Time, Data = get_transect_data.get2DMatrix(infile,varnames=['temperature','cell_volume'])\n",
    "Data_S30['temperature'] = np.array(Data)\n",
    "Data_S30['time'] = np.array(Time)"
   ]
  },
  {
   "cell_type": "code",
   "execution_count": null,
   "metadata": {},
   "outputs": [],
   "source": []
  },
  {
   "cell_type": "code",
   "execution_count": 5,
   "metadata": {},
   "outputs": [],
   "source": [
    "Data_S60 = dict()\n",
    "infile='/Users/ajc/mytests/simulations/hillslope/2019/MaxSnow/MS_S60_1R1/'\n",
    "Time, Data = get_transect_data.get2DMatrix(infile,varnames=['temperature','cell_volume'])\n",
    "Data_S60['temperature'] = np.array(Data)\n",
    "Data_S60['time'] = np.array(Time)"
   ]
  },
  {
   "cell_type": "code",
   "execution_count": 6,
   "metadata": {},
   "outputs": [],
   "source": [
    "Data_S90 = dict()\n",
    "infile='/Users/ajc/mytests/simulations/hillslope/2019/MaxSnow/MS_S90_1R1/'\n",
    "Time, Data = get_transect_data.get2DMatrix(infile,varnames=['temperature','cell_volume'])\n",
    "Data_S90['temperature'] = np.array(Data)\n",
    "Data_S90['time'] = np.array(Time)"
   ]
  },
  {
   "cell_type": "code",
   "execution_count": null,
   "metadata": {},
   "outputs": [],
   "source": []
  },
  {
   "cell_type": "code",
   "execution_count": null,
   "metadata": {},
   "outputs": [],
   "source": [
    "\"\"\"\n",
    "    nvar, cycles, xnum, znum = data.shape\n",
    "    RiparianT = dict()\n",
    "    avgTemp = np.zeros(cycles)\n",
    "    for i in range(cycles):\n",
    "        avgTemp[i] = np.mean(data[nvar-1,i,0:10,55:])\n",
    "    RiparianT['times'] = np.array(times)\n",
    "    RiparianT['temp'] = np.array(avgTemp)\n",
    "    for key in RiparianT.keys():\n",
    "        RiparianT[key + '-annual_avg'] = np.reshape(RiparianT[key], (-1,365)).mean(axis=1)    \n",
    "    return RiparianT\n",
    "\"\"\""
   ]
  },
  {
   "cell_type": "code",
   "execution_count": null,
   "metadata": {},
   "outputs": [],
   "source": []
  },
  {
   "cell_type": "code",
   "execution_count": null,
   "metadata": {},
   "outputs": [],
   "source": []
  },
  {
   "cell_type": "code",
   "execution_count": 7,
   "metadata": {},
   "outputs": [],
   "source": [
    "def get_AreaAboveT(season = \" \",xlen=10,temp=273.15):\n",
    "    data = []\n",
    "    times = []\n",
    "    if season == \"B\":\n",
    "        data = Data_B['temperature']\n",
    "        times = Data_B['time']\n",
    "    elif season == \"S30\":\n",
    "        data = Data_S30['temperature']\n",
    "        times = Data_S30['time']\n",
    "    elif season == \"S60\":\n",
    "        data = Data_S60['temperature']\n",
    "        times = Data_S60['time']\n",
    "    elif season == \"S90\":\n",
    "        data = Data_S90['temperature']\n",
    "        times = Data_S90['time']\n",
    "        \n",
    "    nvar, cycles, xnum, znum = data.shape\n",
    "    HillslopeT = dict()\n",
    "    avgTemp = np.zeros(cycles)\n",
    "    \n",
    "    area = 0 \n",
    "    total_area = 0\n",
    "    #print data[1,6835,0,:],data[1,6835,0,29]\n",
    "    for i in range(xlen):\n",
    "        for j in range(29,80,1): #change to get only top 3 meters\n",
    "            if (data[nvar-2,6835,i,j] > temp):\n",
    "                area = area + data[nvar-1,6835,i,j]\n",
    "            total_area = total_area + data[nvar-1,6835,i,j]\n",
    "    return total_area, area"
   ]
  },
  {
   "cell_type": "code",
   "execution_count": 8,
   "metadata": {},
   "outputs": [],
   "source": [
    "temp = 269.15\n",
    "xlen=5\n",
    "MS_B_tarea,MS_B_area = get_AreaAboveT(\"B\",xlen=xlen,temp=temp)\n",
    "MS_S30_tarea, MS_S30_area = get_AreaAboveT(\"S30\",xlen=xlen,temp=temp)\n",
    "MS_S60_tarea,MS_S60_area = get_AreaAboveT(\"S60\",xlen=xlen,temp=temp)\n",
    "MS_S90_tarea,MS_S90_area = get_AreaAboveT(\"S90\",xlen=xlen,temp=temp)"
   ]
  },
  {
   "cell_type": "code",
   "execution_count": 23,
   "metadata": {},
   "outputs": [
    {
     "name": "stdout",
     "output_type": "stream",
     "text": [
      "14.968337962694763 3.8887816447570693\n",
      "14.968337962694763 8.645879818150801\n",
      "14.968337962694763 10.830660686378733\n",
      "14.968337962694763 13.121734208974809\n",
      "25.980049718605958 57.76112110575485 72.3571361989002 87.66326790374322\n"
     ]
    }
   ],
   "source": [
    "outfile='/Users/ajc/Documents/MyPapers/MaxSnow/'\n",
    "fig, axs = plt.subplots(2,2, figsize=(5,5), facecolor='w', edgecolor='k',gridspec_kw={'width_ratios':[2,1]})\n",
    "fig.subplots_adjust(hspace =.02, wspace=1.02)\n",
    "plt.tight_layout()\n",
    "axs = axs.ravel()\n",
    "\n",
    "print MS_B_tarea,MS_B_area\n",
    "print MS_S30_tarea,MS_S30_area\n",
    "print MS_S60_tarea,MS_S60_area\n",
    "print MS_S90_tarea,MS_S90_area\n",
    "\n",
    "B = (MS_B_tarea*0 + MS_B_area)/MS_B_tarea * 100\n",
    "S30 = (MS_S30_tarea*0 + MS_S30_area)/MS_S30_tarea * 100\n",
    "S60 = (MS_S60_tarea*0 + MS_S60_area)/MS_S60_tarea * 100\n",
    "S90 = (MS_S90_tarea*0 + MS_S90_area)/MS_S90_tarea * 100\n",
    "print B,S30, S60,S90\n",
    "\n",
    "explode = (0.1, 0)  # explode 1st slice\n",
    "plt.subplot(221)\n",
    "wedges, texts, autotexts = plt.pie([B, 100-B], radius=1.2, explode=explode,colors=['r','gray'], autopct='%1.f%%', shadow=True, startangle=-45)\n",
    "plt.setp(autotexts, size=8, weight=\"bold\")\n",
    "plt.xlabel('Basecase',fontsize=12)\n",
    "plt.axis('equal')\n",
    "\n",
    "\n",
    "ax2=plt.subplot(222)\n",
    "ax2.pie([S30, 100-S30], explode=explode, colors=['r','gray'], autopct='%1.0f%%', shadow=True, startangle=-45)\n",
    "ax2.axis('equal')\n",
    "ax2.set_xlabel(r'S$_{30}$',fontsize=12)\n",
    "\n",
    "plt.subplot(223)\n",
    "plt.pie([S60, 100-S60], explode=explode, colors=['r','gray'], autopct='%1.0f%%', shadow=True, startangle=-45)\n",
    "plt.axis('equal')\n",
    "plt.xlabel(r'S$_{60}$',fontsize=12)\n",
    "\n",
    "plt.subplot(224)\n",
    "plt.pie([S90, 100-S90], explode=explode, colors=['r','gray'], autopct='%1.0f%%', shadow=True, startangle=-45)\n",
    "plt.axis('equal') \n",
    "plt.xlabel(r'S$_{90}$',fontsize=12)\n",
    "\n",
    "plt.legend(wedges, [u'Above -4 \\u00B0C',u'Below -4 \\u00B0C'], loc=\"center left\",ncol=1,labelspacing=0.01,fontsize=10,\n",
    "          bbox_to_anchor=(-0.5, -.5, 0.5, 1.0))\n",
    "\n",
    "\n",
    "#plt.legend(loc='upper left',fontsize=10)#, ncol=4, bbox_to_anchor=(1.0,-0.35, .1, .1))\n",
    "  \n",
    "#plt.tight_layout()\n",
    "plt.savefig(outfile+'area-%s-%s-test.pdf'%(temp,xlen), bbox_inches='tight', dpi=600)\n",
    "plt.show()"
   ]
  },
  {
   "cell_type": "code",
   "execution_count": null,
   "metadata": {},
   "outputs": [],
   "source": [
    "100*50"
   ]
  },
  {
   "cell_type": "code",
   "execution_count": null,
   "metadata": {},
   "outputs": [],
   "source": [
    "T = 269.15\n",
    "32.11192661979376 6.312828229555246\n",
    "32.11192661979376 11.651780035689688\n",
    "32.11192661979376 14.211899729257398\n",
    "32.11192661979376 17.284111871200523\n",
    "19.658827401729372 36.284898672219626 44.25738728643331 53.82458696995967\n",
    "#----------------------------------\n",
    "T = 271.15\n",
    "32.11192661979376 2.2999999999999514\n",
    "32.11192661979376 2.757667820312444\n",
    "32.11192661979376 4.491668338111375\n",
    "32.11192661979376 8.522666945783556\n",
    "7.162447856934979 8.587674769450363 13.987539244508346 26.54050330486926"
   ]
  },
  {
   "cell_type": "code",
   "execution_count": null,
   "metadata": {},
   "outputs": [],
   "source": [
    "\n"
   ]
  },
  {
   "cell_type": "code",
   "execution_count": null,
   "metadata": {},
   "outputs": [],
   "source": [
    "\n",
    "\n"
   ]
  },
  {
   "cell_type": "code",
   "execution_count": null,
   "metadata": {},
   "outputs": [],
   "source": []
  }
 ],
 "metadata": {
  "kernelspec": {
   "display_name": "Python 2",
   "language": "python",
   "name": "python2"
  },
  "language_info": {
   "codemirror_mode": {
    "name": "ipython",
    "version": 2
   },
   "file_extension": ".py",
   "mimetype": "text/x-python",
   "name": "python",
   "nbconvert_exporter": "python",
   "pygments_lexer": "ipython2",
   "version": "2.7.15"
  }
 },
 "nbformat": 4,
 "nbformat_minor": 2
}
