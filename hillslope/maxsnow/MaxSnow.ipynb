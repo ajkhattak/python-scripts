{
 "cells": [
  {
   "cell_type": "code",
   "execution_count": 1,
   "metadata": {},
   "outputs": [
    {
     "name": "stdout",
     "output_type": "stream",
     "text": [
      "Using matplotlib backend: MacOSX\n"
     ]
    }
   ],
   "source": [
    "%matplotlib"
   ]
  },
  {
   "cell_type": "code",
   "execution_count": 2,
   "metadata": {},
   "outputs": [],
   "source": [
    "import numpy as np\n",
    "import h5py\n",
    "import matplotlib.pyplot as plt\n",
    "from scipy.interpolate import CubicSpline\n",
    "from scipy.signal import savgol_filter\n",
    "import pandas as pd"
   ]
  },
  {
   "cell_type": "code",
   "execution_count": null,
   "metadata": {},
   "outputs": [],
   "source": []
  },
  {
   "cell_type": "code",
   "execution_count": 3,
   "metadata": {},
   "outputs": [],
   "source": [
    "def getDataDayMet(infiles, averaged=True):\n",
    "    dat1 = pd.read_csv(infiles[0], sep='\\s+', header=None, skiprows=6)\n",
    "    dat2 = pd.read_csv(infiles[1], sep='\\s+', header=None, skiprows=6)\n",
    "    \n",
    "    L = int(len(dat1[0]) % 365) + 1 \n",
    "    \n",
    "    DataOrig = dict()\n",
    "    Data = dict()\n",
    "    \n",
    "    DataOrig['time'] = np.concatenate((dat1[0][:-L], dat2[0]))\n",
    "    DataOrig['temp'] = np.concatenate((dat1[1][:-L], dat2[1]))\n",
    "    \n",
    "    DataOrig['time'] = np.array([1985 +  d/(86400*365) - 0.5 for d in DataOrig['time']])\n",
    "\n",
    "    print len(DataOrig['temp'])%365\n",
    "\n",
    "    for key in DataOrig.keys(): \n",
    "        if averaged == True:\n",
    "            Data[key] = DataOrig[key].reshape((-1, 365)).mean(axis=1)\n",
    "        else:\n",
    "            Data[key] = DataOrig[key]\n",
    "    \n",
    "    return Data"
   ]
  },
  {
   "cell_type": "code",
   "execution_count": 4,
   "metadata": {},
   "outputs": [],
   "source": [
    "DataOrig = dict()"
   ]
  },
  {
   "cell_type": "code",
   "execution_count": 5,
   "metadata": {},
   "outputs": [],
   "source": [
    "def LoadData(infiles,averaged=True):\n",
    "    global DataOrig\n",
    "    dat1 = pd.read_csv(infiles[0], sep='\\s+', header=None, skiprows=6)\n",
    "    dat2 = pd.read_csv(infiles[1], sep='\\s+', header=None, skiprows=6)\n",
    "    \n",
    "    L = int(len(dat1[0]) % 365) + 1\n",
    "    L1 = int(len(dat2[0]) % 365)\n",
    "    \n",
    "    DataOrig = dict()\n",
    "    Data = dict()\n",
    "    L2 = 26*365\n",
    "    DataOrig['time'] = np.concatenate((dat1[0][:L2], dat2[0]))\n",
    "    DataOrig['temp'] = np.concatenate((dat1[1][:L2], dat2[1]))\n",
    "        \n",
    "    DataOrig['time'] = np.array([1985 + d/(86400*365) -0.5 for d in DataOrig['time']])\n",
    "\n",
    "    for key in DataOrig.keys(): \n",
    "        if averaged == True:\n",
    "            Data[key] = DataOrig[key].reshape((-1, 365)).mean(axis=1)\n",
    "        else:\n",
    "            Data[key] = DataOrig[key]\n",
    "    return Data"
   ]
  },
  {
   "cell_type": "code",
   "execution_count": 6,
   "metadata": {},
   "outputs": [],
   "source": [
    "MS_B_1R1 = dict()\n",
    "MS_S30_1R1 = dict()\n",
    "MS_S60_1R1 = dict()\n",
    "MS_S90_1R1 = dict()"
   ]
  },
  {
   "cell_type": "code",
   "execution_count": null,
   "metadata": {
    "scrolled": true
   },
   "outputs": [],
   "source": [
    "def getData(DX, averaged=True):\n",
    "    global MS_B_1R1\n",
    "    global MS_S30_1R1\n",
    "    global MS_S60_1R1\n",
    "    global MS_S90_1R1\n",
    "    \n",
    "    infile1 = ['/Users/ajc/mytests/simulations/hillslope/2019/DaymetS2_R1/%s.dat'%DX]\n",
    "\n",
    "    BaseS2_00 = getDataDayMet(infile1,averaged)\n",
    "\n",
    "    infile1 = ['/Users/ajc/mytests/simulations/hillslope/2018/DaymetS2_R1/%s.dat'%DX,\n",
    "               '/Users/ajc/mytests/simulations/hillslope/2019/FEB1/Feb1_S2_R3/%s.dat'%DX]\n",
    "\n",
    "    Feb1_S2_00 = LoadData(infile1,averaged)\n",
    "\n",
    "\n",
    "    infile1 = ['/Users/ajc/mytests/simulations/hillslope/2018//DaymetS2_R1/%s.dat'%DX, \n",
    "               '/Users/ajc/mytests/simulations/hillslope/2019/May10/May10_S2_R3/%s.dat'%DX]\n",
    "\n",
    "    May10_S2_00 = LoadData(infile1,averaged)\n",
    "\n",
    "    infile1 = ['/Users/ajc/mytests/simulations/hillslope/2018/DaymetS2_R1/%s.dat'%DX, \n",
    "               '/Users/ajc/mytests/simulations/hillslope/2019/SEPT27/Sept27_S2_R3/%s.dat'%DX]\n",
    "    Sept27_S2_00 = LoadData(infile1,averaged)\n",
    "\n",
    "    infile1 = ['/Users/ajc/mytests/simulations/hillslope/2018/DaymetS2_R1/%s.dat'%DX, \n",
    "               '/Users/ajc/mytests/simulations/hillslope/2019/NOV15/Nov15_S2_R3/%s.dat'%DX]\n",
    "    Nov15_S2_00 = LoadData(infile1,averaged)\n",
    "\n",
    "    infile1 = ['/Users/ajc/mytests/simulations/hillslope/2018/DaymetS2_R1/%s.dat'%DX, \n",
    "               '/Users/ajc/mytests/simulations/hillslope/2019/SEPT27NOV15/Sept27Nov15_S2_R3/%s.dat'%DX]\n",
    "    Sept27Nov15_S2_R3_00 = LoadData(infile1,averaged)"
   ]
  },
  {
   "cell_type": "code",
   "execution_count": null,
   "metadata": {},
   "outputs": [],
   "source": [
    "DX='temperature-dx19'\n",
    "#DX='temperature-40cm'\n",
    "DX='temperature-riparian-40cm'\n",
    "DX='temperature-OM'\n",
    "#DX='temperature-hillslope-40cm'\n",
    "#DX='temperature-hillslope'\n",
    "#DX='temperature-riparian-5m'\n",
    "#DX='temperature-5m'\n",
    "#DX='surface_flux-day'\n",
    "#DX= 'surface-pond_size'\n",
    "#DX='saturation_ice-40cm'\n"
   ]
  },
  {
   "cell_type": "code",
   "execution_count": null,
   "metadata": {},
   "outputs": [],
   "source": [
    "def getpolyfit():\n",
    "    infile1 = h5py.File('/Users/ajc/mytests/simulations/Data/barrow1985-2015/barrow2015-2016-snowevents-smooth.h5','r')\n",
    "    infile2 = h5py.File('/Users/ajc/mytests/simulations/Data/barrow1985-2015/barrow1985-2015-trend-smooth.h5','r')\n",
    "    infile3 = h5py.File('Barrow-2010_2016-updated.h5','r')\n",
    "\n",
    "    Forcing = dict()\n",
    "    for key in infile2.keys():\n",
    "        d = np.array(infile2[key])\n",
    "        Forcing[key] = d.reshape((-1,365)).mean(axis=1)\n",
    "\n",
    "    Forcing3 = dict()\n",
    "    for key in infile3.keys():\n",
    "        d = np.array(infile3[key][:-323])\n",
    "        Forcing3[key] = d.reshape((-1,365)).mean(axis=1)\n",
    "\n",
    "    time = [t/(86400*365) for t in Forcing['time [s]']]\n",
    "    #print np.mean(Forcing['air temperature [K]'][-3:]), Forcing['air temperature [K]']\n",
    "\n",
    "    temp_fit1 = np.polyfit(time, Forcing['air temperature [K]'],1)\n",
    "    temp_fit = np.poly1d(temp_fit1)\n",
    "    time1 = np.insert(time, len(time), time[-1]+1)\n",
    "\n",
    "    snow_fit1 = np.polyfit(Barrow['time'], Barrow['precip'],1)\n",
    "    snow_fit = np.poly1d(snow_fit1)\n",
    "    #plt.show()"
   ]
  },
  {
   "cell_type": "code",
   "execution_count": null,
   "metadata": {},
   "outputs": [],
   "source": [
    "from mpl_toolkits.axes_grid1.inset_locator import zoomed_inset_axes\n",
    "from mpl_toolkits.axes_grid1.inset_locator import mark_inset\n",
    "markers=['None', '.', ',', '+', 'o', '*']\n",
    "lines = ['-', '--', '-.']\n",
    "def Plot():\n",
    "    fig, ax = plt.subplots(1,1, figsize=(5,4), facecolor='w', edgecolor='k',gridspec_kw={'width_ratios':[1]})\n",
    "    fig.subplots_adjust(hspace =.02, wspace=1.02)\n",
    "    ax.plot(Feb1_S2_00['time'], Feb1_S2_00['temp']) #---\n",
    "    plt.tight_layout()\n",
    "    #axs = axs.ravel()\n",
    "\n",
    "    #plt.subplot(111)\n",
    "    ax.plot(Sept27_S2_00['time'], Sept27_S2_00['temp'], color ='c', marker=markers[0], linestyle=lines[0], label='Early fall')\n",
    "    ax.plot(Nov15_S2_00['time'], Nov15_S2_00['temp'], color ='m', marker=markers[0],  linestyle=lines[0], label='Late fall')\n",
    "    ax.plot(Feb1_S2_00['time'], Feb1_S2_00['temp'], color ='k', marker=markers[0], linestyle=lines[0], label='Early winter')\n",
    "    ax.plot(May10_S2_00['time'], May10_S2_00['temp'], color ='g', marker=markers[0], linestyle=lines[0], label='Late winter')\n",
    "    ax.plot(Sept27Nov15_S2_R3_00['time'], Sept27Nov15_S2_R3_00['temp'], color ='b', marker=markers[0],  linestyle=lines[0],label='Early, late fall')\n",
    "    ax.plot(BaseS2_00['time'], BaseS2_00['temp'], color ='r', marker=markers[0],  linestyle=lines[0],label='Base')\n",
    "    ax.axvspan(1985+ 26.,1985+30.2, facecolor='0.2', alpha=0.3)\n",
    "    plt.xlabel('Year',fontsize=12, fontweight='normal')\n",
    "    plt.ylabel('Annual average temperature [K]',fontsize=12, fontweight='normal')\n",
    "\n",
    "    #plt.ylim([262.,270])\n",
    "    #ax.set_xlim([-0.1,30.1])\n",
    "    print np.linspace(1985,2015,31)\n",
    "    #ax.set_xticklabels(np.linspace(1985,2015,31))\n",
    "    plt.legend()\n",
    "    plt.savefig('%s.pdf'%DX, bbox_inches='tight', dpi=10)\n",
    "    plt.show()"
   ]
  },
  {
   "cell_type": "code",
   "execution_count": null,
   "metadata": {},
   "outputs": [],
   "source": [
    "getData(DX, False)\n"
   ]
  },
  {
   "cell_type": "code",
   "execution_count": null,
   "metadata": {
    "scrolled": true
   },
   "outputs": [],
   "source": [
    "Plot()"
   ]
  },
  {
   "cell_type": "code",
   "execution_count": null,
   "metadata": {},
   "outputs": [],
   "source": []
  },
  {
   "cell_type": "code",
   "execution_count": null,
   "metadata": {},
   "outputs": [],
   "source": [
    "# PLOT SURFACE DISCHARGE\n",
    "from mpl_toolkits.axes_grid1.inset_locator import zoomed_inset_axes\n",
    "from mpl_toolkits.axes_grid1.inset_locator import mark_inset\n",
    "fig, ax = plt.subplots(1,1, figsize=(5,4), facecolor='w', edgecolor='k',gridspec_kw={'width_ratios':[1]})\n",
    "fig.subplots_adjust(hspace =.02, wspace=1.02)\n",
    "ax.plot(Feb1_S2_00['time'], Feb1_S2_00['temp']) #---\n",
    "plt.tight_layout()\n",
    "#axs = axs.ravel()\n",
    "\n",
    "#plt.subplot(111)\n",
    "ax.plot(Feb1_S2_00['time'], Feb1_S2_00['temp'], 'k.-',label='Mid-winter')\n",
    "ax.plot(May10_S2_00['time'], May10_S2_00['temp'], 'g.-', label='Late-winter')\n",
    "ax.plot(Sept27_S2_00['time'], Sept27_S2_00['temp'], 'c.-', label='Early-fall')\n",
    "ax.plot(Nov15_S2_00['time'], Nov15_S2_00['temp'], 'm.-', label='Late-fall')\n",
    "ax.plot(Sept27Nov15_S2_R3_00['time'], Sept27Nov15_S2_R3_00['temp'], 'b.-', label='Early, late-fall')\n",
    "ax.plot(BaseS2_00['time'], BaseS2_00['temp'], 'r-*', label='Base')\n",
    "ax.axvspan(26.5,31.5, facecolor='0.2', alpha=0.3)\n",
    "plt.xlabel('Year',fontsize=12, fontweight='normal')\n",
    "plt.ylabel('Annual average temperature [K]',fontsize=12, fontweight='normal')\n",
    "\n",
    "\n",
    "#plt.ylim([262.,270])\n",
    "#plt.xlim([0.,31])\n",
    "plt.legend()\n",
    "plt.savefig('%s.pdf'%DX, bbox_inches='tight', dpi=10)\n",
    "\n",
    "\n",
    "plt.show()"
   ]
  },
  {
   "cell_type": "code",
   "execution_count": null,
   "metadata": {},
   "outputs": [],
   "source": [
    "BaseS2_00_Pc = dict()\n",
    "Feb1_S2_00_Pc = dict()\n",
    "May10_S2_00_Pc = dict()\n",
    "Sept27_S2_00_Pc = dict()\n",
    "Nov15_S2_00_Pc = dict()\n",
    "Sept27Nov15_S2_00_Pc = dict()"
   ]
  },
  {
   "cell_type": "code",
   "execution_count": null,
   "metadata": {},
   "outputs": [],
   "source": [
    "yr_n = 25\n",
    "BaseS2_00_Pc['temp'] = [ (d - 0*BaseS2_00['temp'][yr_n]) for d in  BaseS2_00['temp'][yr_n:]]\n",
    "Feb1_S2_00_Pc['temp'] = [ (d - 0*BaseS2_00['temp'][yr_n]) for d in  Feb1_S2_00['temp'][yr_n:]]\n",
    "May10_S2_00_Pc['temp'] = [ (d - 0*May10_S2_00['temp'][yr_n]) for d in  May10_S2_00['temp'][yr_n:]]\n",
    "Sept27_S2_00_Pc['temp'] = [ (d - 0*Sept27_S2_00['temp'][yr_n]) for d in  Sept27_S2_00['temp'][yr_n:]]\n",
    "Nov15_S2_00_Pc['temp'] = [ (d - 0*Nov15_S2_00['temp'][yr_n]) for d in  Nov15_S2_00['temp'][yr_n:]]\n",
    "Sept27Nov15_S2_00_Pc['temp'] = [ (d - 0*Sept27Nov15_S2_R3_00['temp'][yr_n]) for d in  Sept27Nov15_S2_R3_00['temp'][yr_n:]]\n",
    "\n",
    "fig, axs = plt.subplots(1,2)\n",
    "fig.tight_layout()\n",
    "\n",
    "\n",
    "axs[0].plot(BaseS2_00['time'][yr_n:], BaseS2_00_Pc['temp'], 'r-*', label='base')\n",
    "axs[0].plot(Feb1_S2_00['time'][yr_n:], Feb1_S2_00_Pc['temp'], 'k.-', label='Feb')\n",
    "axs[0].plot(May10_S2_00['time'][yr_n:], May10_S2_00_Pc['temp'], 'g.-', label='May')\n",
    "axs[0].plot(Sept27_S2_00['time'][yr_n:], Sept27_S2_00_Pc['temp'], 'c.-', label='Sept')\n",
    "axs[0].plot(Nov15_S2_00['time'][yr_n:], Nov15_S2_00_Pc['temp'], 'm.-', label='Now')\n",
    "axs[0].plot(Sept27Nov15_S2_R3_00['time'][yr_n:], Sept27Nov15_S2_00_Pc['temp'], 'y.-', label='Now')\n",
    "plt.legend()\n",
    "plt.show()"
   ]
  },
  {
   "cell_type": "code",
   "execution_count": null,
   "metadata": {},
   "outputs": [],
   "source": [
    "#Mineral Soil Thermal conductivities\n",
    "sat = [0.3, 0.7, 1.0]\n",
    "TC_u = [0.3, 0.5, 1.0]\n",
    "TC_f = [0.3, 0.65, 1.3]\n",
    "pfit = np.polyfit(sat, TC_u,2)\n",
    "\n",
    "p = np.poly1d(pfit)\n",
    "\n",
    "plt.plot(sat, p(sat),'r')\n",
    "plt.plot(sat, TC_u,'g*')\n",
    "plt.show()\n",
    "\n",
    "# F = 1.667 x^2 - 1.167 x + 0.5\n",
    "print 'p: ',p\n",
    "\n",
    "#-----------------------------------\n",
    "pfit = np.polyfit(sat, TC_f,2)\n",
    "\n",
    "p = np.poly1d(pfit)\n",
    "\n",
    "plt.plot(sat, p(sat),'r')\n",
    "plt.plot(sat, TC_f,'g*')\n",
    "plt.show()\n",
    "\n",
    "# F = 1.845 x^2 - 0.9702 x + 0.425 \n",
    "print 'p: ',p\n",
    "\n",
    "\n"
   ]
  },
  {
   "cell_type": "code",
   "execution_count": null,
   "metadata": {},
   "outputs": [],
   "source": []
  },
  {
   "cell_type": "code",
   "execution_count": null,
   "metadata": {},
   "outputs": [],
   "source": [
    "#Peat Thermal conductivities\n",
    "vwc = [4./100., 65/100, 70/100.]\n",
    "por = 0.87\n",
    "s = \n",
    "sat = [0.3, 0.7, 1.0]\n",
    "TC_u = [0.1, 0.5, 0.6]\n",
    "TC_f = [0.1, 0.65, ]\n",
    "pfit = np.polyfit(sat, TC_u,2)\n",
    "\n",
    "p = np.poly1d(pfit)\n",
    "\n",
    "plt.plot(sat, p(sat),'r')\n",
    "plt.plot(sat, TC_u,'g*')\n",
    "plt.show()\n",
    "\n",
    "# F = 1.667 x^2 - 1.167 x + 0.5\n",
    "print 'p: ',p\n",
    "\n",
    "#-----------------------------------\n",
    "pfit = np.polyfit(sat, TC_f,2)\n",
    "\n",
    "p = np.poly1d(pfit)\n",
    "\n",
    "plt.plot(sat, p(sat),'r')\n",
    "plt.plot(sat, TC_f,'g*')\n",
    "plt.show()\n",
    "\n",
    "# F = 1.845 x^2 - 0.9702 x + 0.425 \n",
    "print 'p: ',p\n",
    "\n",
    "\n",
    "\n"
   ]
  },
  {
   "cell_type": "code",
   "execution_count": null,
   "metadata": {},
   "outputs": [],
   "source": [
    "\"\"\"\n",
    "#---\n",
    "axins = zoomed_inset_axes(ax, 1.4, loc='upper center')\n",
    "axins = zoomed_inset_axes(ax,1.4, loc='upper center')\n",
    "axins.plot(Feb1_S2_00['time'], Feb1_S2_00['temp'])\n",
    "x1, x2, y1, y2 = 25, 32, 265.15, 267.6 # specify the limits\n",
    "axins.set_xlim(x1, x2) # apply the x-limits\n",
    "axins.set_ylim(y1, y2) # apply the y-limits\n",
    "plt.yticks(visible=False)\n",
    "plt.xticks(visible=False)\n",
    "#axins.xaxis.set_visible('False')\n",
    "#axins.yaxis.set_visible('False')\n",
    "mark_inset(ax, axins, loc1=2, loc2=4, fc=\"none\", ec=\"0.5\")\n",
    "\"\"\""
   ]
  },
  {
   "cell_type": "code",
   "execution_count": null,
   "metadata": {},
   "outputs": [],
   "source": []
  }
 ],
 "metadata": {
  "kernelspec": {
   "display_name": "Python 2",
   "language": "python",
   "name": "python2"
  },
  "language_info": {
   "codemirror_mode": {
    "name": "ipython",
    "version": 2
   },
   "file_extension": ".py",
   "mimetype": "text/x-python",
   "name": "python",
   "nbconvert_exporter": "python",
   "pygments_lexer": "ipython2",
   "version": "2.7.15"
  }
 },
 "nbformat": 4,
 "nbformat_minor": 2
}
