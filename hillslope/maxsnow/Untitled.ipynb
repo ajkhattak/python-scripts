{
 "cells": [
  {
   "cell_type": "code",
   "execution_count": null,
   "metadata": {},
   "outputs": [],
   "source": []
  },
  {
   "cell_type": "code",
   "execution_count": 1,
   "metadata": {},
   "outputs": [
    {
     "name": "stdout",
     "output_type": "stream",
     "text": [
      "Using matplotlib backend: MacOSX\n"
     ]
    }
   ],
   "source": [
    "%matplotlib\n",
    "from mpl_toolkits.mplot3d import Axes3D\n",
    "import matplotlib.pyplot as plt\n",
    "from matplotlib import cm\n",
    "from matplotlib.ticker import LinearLocator, FormatStrFormatter\n",
    "import numpy as np"
   ]
  },
  {
   "cell_type": "code",
   "execution_count": null,
   "metadata": {},
   "outputs": [],
   "source": [
    "%matplotlib \n",
    "fig = plt.figure()\n",
    "ax = fig.gca(projection='3d')\n",
    "x_orig = [[0,  1,  2,  3,  4, 5],  [5,  6,  7,  8,  9], [5,  6,  7,  8,  9] ]\n",
    "y_orig = [[0,0,0,0,0,0],[0.5,1.5,2.5,3.5,4.5],[-0.5,-1.5,-2.5,-3.5,-4.5]]\n",
    "\n",
    "centroid = []\n",
    "thick = [2,1,1]\n",
    "for k in range(3):\n",
    "    y1 = [i + 0.5*thick[k] for i in y_orig[k]]\n",
    "    y2 = [i - 0.5*thick[k] for i in y_orig[k]]\n",
    "    X = [x_orig[k],x_orig[k]]\n",
    "    Y = [y_orig[k],y1]\n",
    "    Y = [y1,y2]\n",
    "    print (X,Y)\n",
    "    print ('------------')\n",
    "    z = np.ones(len(x_orig[k]))*0\n",
    "\n",
    "    Z = np.array([z,z])\n",
    "    data = np.linspace(1,0,len(x_orig[k]))\n",
    "    Z_data = np.array([data,data])\n",
    "    data_color = cm.jet(Z_data/np.amax(Z_data))\n",
    "    surf = ax.plot_surface(X, Y, Z, facecolors=data_color,cmap=cm.coolwarm,\n",
    "                       linewidth=2, antialiased=True)\n",
    "    ax.set_zlim(0,0.0)\n",
    "    ax.set_zticks([])\n",
    "    #print (data)"
   ]
  },
  {
   "cell_type": "code",
   "execution_count": null,
   "metadata": {},
   "outputs": [],
   "source": []
  },
  {
   "cell_type": "code",
   "execution_count": null,
   "metadata": {},
   "outputs": [],
   "source": []
  },
  {
   "cell_type": "code",
   "execution_count": null,
   "metadata": {},
   "outputs": [],
   "source": [
    "\n",
    "\n",
    "\n",
    "\n",
    "\n"
   ]
  },
  {
   "cell_type": "code",
   "execution_count": null,
   "metadata": {},
   "outputs": [],
   "source": []
  },
  {
   "cell_type": "code",
   "execution_count": null,
   "metadata": {},
   "outputs": [],
   "source": [
    "%matplotlib \n",
    "fig = plt.figure()\n",
    "ax = fig.gca(projection='3d')\n",
    "\n",
    "\n",
    "# Make data.\n",
    "X = np.arange(0, 5, 1)\n",
    "Y = np.arange(0, 2, 1)\n",
    "print(X,Y)\n",
    "Z = np.ones(len(X))\n",
    "X, Y = np.meshgrid(X, Y)\n",
    "Z1=[1,0.75,0.5,0.25,0]\n",
    "\n",
    "Z =np.array([Z,Z])\n",
    "Z1 =np.array([Z1,Z1])\n",
    "\n",
    "my_col = cm.jet(np.random.rand(Z.shape[0],Z.shape[1]))\n",
    "my_col = cm.jet(Z1/np.amax(Z1))\n",
    "\n",
    "# Plot the surface.\n",
    "surf = ax.plot_surface(X, Y, Z, facecolors=my_col,cmap=cm.coolwarm,\n",
    "                       linewidth=0, antialiased=False)\n",
    "\n",
    "\n",
    "ax = Axes3D(fig)"
   ]
  },
  {
   "cell_type": "code",
   "execution_count": null,
   "metadata": {},
   "outputs": [],
   "source": []
  },
  {
   "cell_type": "code",
   "execution_count": null,
   "metadata": {},
   "outputs": [],
   "source": []
  },
  {
   "cell_type": "code",
   "execution_count": null,
   "metadata": {},
   "outputs": [],
   "source": [
    "import h5py\n",
    "infile='/Users/ajc/mytests/simulations/transport/2stream/visdump_mesh.h5'\n",
    "mesh = h5py.File(infile,'r')\n"
   ]
  },
  {
   "cell_type": "code",
   "execution_count": null,
   "metadata": {},
   "outputs": [],
   "source": [
    "#print mesh['0']['Mesh'].keys()\n",
    "mesh_data = mesh['0']['Mesh']['Nodes']\n",
    "print list(mesh_data)"
   ]
  },
  {
   "cell_type": "code",
   "execution_count": null,
   "metadata": {},
   "outputs": [],
   "source": [
    "x = []\n",
    "y = []\n",
    "z = []\n",
    "for m in mesh_data:\n",
    "    x.append(m[0])\n",
    "    y.append(m[1])\n",
    "    z.append(1.)"
   ]
  },
  {
   "cell_type": "code",
   "execution_count": null,
   "metadata": {},
   "outputs": [],
   "source": []
  },
  {
   "cell_type": "code",
   "execution_count": 4,
   "metadata": {},
   "outputs": [
    {
     "name": "stdout",
     "output_type": "stream",
     "text": [
      "Using matplotlib backend: MacOSX\n",
      "([[0, 1, 2, 3, 4, 5, 5, 6, 7, 8, 9, 5, 6, 7, 8, 9], [0, 1, 2, 3, 4, 5, 5, 6, 7, 8, 9, 5, 6, 7, 8, 9]], [[0, 0, 0, 0, 0, 0, 0.5, 1.5, 2.5, 3.5, 4.5, -0.5, -1.5, -2.5, -3.5, -4.5], [1, 1, 1, 1, 1, 1, 1.5, 2.5, 3.5, 4.5, 5.5, 0.5, -0.5, -1.5, -2.5, -3.5]])\n",
      "------------\n"
     ]
    },
    {
     "name": "stderr",
     "output_type": "stream",
     "text": [
      "/usr/local/Cellar/python@2/2.7.15_1/Frameworks/Python.framework/Versions/2.7/lib/python2.7/site-packages/mpl_toolkits/mplot3d/axes3d.py:744: UserWarning: Attempting to set identical bottom==top results\n",
      "in singular transformations; automatically expanding.\n",
      "bottom=0, top=0.0\n",
      "  'bottom=%s, top=%s') % (bottom, top))\n"
     ]
    }
   ],
   "source": [
    "%matplotlib \n",
    "fig = plt.figure()\n",
    "ax = fig.gca(projection='3d')\n",
    "x_orig = [0,  1,  2,  3,  4, 5, 5, 6,  7,  8,  9, 5,  6,  7,  8,  9 ]\n",
    "y_orig = [0,0,0,0,0,0,0.5,1.5,2.5,3.5,4.5,-0.5,-1.5,-2.5,-3.5,-4.5]\n",
    "\n",
    "centroid = []\n",
    "thick = [2,1,1]\n",
    "for k in range(1):\n",
    "    y1 = y_orig#[i + 0.5*thick[k] for i in y_orig[k]]\n",
    "    y2 = [i + 1 for i in y1]#[i - 0.5*thick[k] for i in y_orig[k]]\n",
    "    X = [x_orig,x_orig]\n",
    "    Y = [y1,y2]\n",
    "    print (X,Y)\n",
    "    print ('------------')\n",
    "    z = np.ones(len(x_orig))*0\n",
    "\n",
    "    Z = np.array([z,z])\n",
    "    data = np.linspace(1,0,len(x_orig))\n",
    "    Z_data = np.array([data,data])\n",
    "    data_color = cm.jet(Z_data/np.amax(Z_data))\n",
    "    mark = {'marker': 'o'}\n",
    "    surf = ax.plot_surface(X, Y, Z, facecolors=data_color,cmap=cm.coolwarm,\n",
    "                       linewidth=1, antialiased=True)\n",
    "    ax.set_zlim(0,0.0)\n",
    "    ax.set_zticks([])\n",
    "    #print (data)"
   ]
  },
  {
   "cell_type": "code",
   "execution_count": null,
   "metadata": {},
   "outputs": [],
   "source": []
  }
 ],
 "metadata": {
  "kernelspec": {
   "display_name": "Python 2",
   "language": "python",
   "name": "python2"
  },
  "language_info": {
   "codemirror_mode": {
    "name": "ipython",
    "version": 2
   },
   "file_extension": ".py",
   "mimetype": "text/x-python",
   "name": "python",
   "nbconvert_exporter": "python",
   "pygments_lexer": "ipython2",
   "version": "2.7.15"
  }
 },
 "nbformat": 4,
 "nbformat_minor": 2
}
