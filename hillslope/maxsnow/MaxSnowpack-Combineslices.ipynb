{
 "cells": [
  {
   "cell_type": "code",
   "execution_count": 6,
   "metadata": {},
   "outputs": [],
   "source": [
    "import numpy as np\n",
    "import sys,os\n",
    "import matplotlib.pyplot as plt\n",
    "import h5py \n",
    "sys.path.append('/Users/ajc/Core/PostProcessData/PyScript/')\n",
    "import readdata as rd\n",
    "import matplotlib.image as mpimg"
   ]
  },
  {
   "cell_type": "code",
   "execution_count": 9,
   "metadata": {},
   "outputs": [],
   "source": [
    "path='/Users/ajc/Core/ResearchDocuments/MyPapers-ORNL/papers/SnowVariability/SnowVariability/figures/'\n",
    "infile = ['MS_B_1R1', 'MS_S30_1R1', 'MS_S60_1R1', 'MS_S90_1R1']\n",
    "image = [os.path.join(path,f+'-cycle6835-1.png') for f in infile]"
   ]
  },
  {
   "cell_type": "code",
   "execution_count": 10,
   "metadata": {},
   "outputs": [
    {
     "name": "stdout",
     "output_type": "stream",
     "text": [
      "/Users/ajc/Core/ResearchDocuments/MyPapers-ORNL/papers/SnowVariability/SnowVariability/figures/MS_B_1R1-cycle6835-1.png\n",
      "/Users/ajc/Core/ResearchDocuments/MyPapers-ORNL/papers/SnowVariability/SnowVariability/figures/MS_S30_1R1-cycle6835-1.png\n",
      "/Users/ajc/Core/ResearchDocuments/MyPapers-ORNL/papers/SnowVariability/SnowVariability/figures/MS_S60_1R1-cycle6835-1.png\n",
      "/Users/ajc/Core/ResearchDocuments/MyPapers-ORNL/papers/SnowVariability/SnowVariability/figures/MS_S90_1R1-cycle6835-1.png\n"
     ]
    }
   ],
   "source": [
    "Image = dict()\n",
    "for i,im in enumerate(image):\n",
    "    #print (im)\n",
    "    Image[infile[i]] = mpimg.imread(im)"
   ]
  },
  {
   "cell_type": "code",
   "execution_count": 129,
   "metadata": {},
   "outputs": [
    {
     "name": "stdout",
     "output_type": "stream",
     "text": [
      "[-3 -2 -1  0  1  2  3  4]\n",
      "MS_B_1R1\n",
      "MS_S30_1R1\n",
      "MS_S60_1R1\n",
      "MS_S90_1R1\n"
     ]
    }
   ],
   "source": [
    "%matplotlib tk\n",
    "fig, axs = plt.subplots(4,1, figsize=(4, 8), facecolor='w', edgecolor='k',gridspec_kw = {'width_ratios':[1]})\n",
    "fig.subplots_adjust(hspace =.2, wspace=0.3)\n",
    "#axs = axs.ravel()\n",
    "\n",
    "#plt.subplot(411)\n",
    "plt.tight_layout()\n",
    "y = np.linspace(-3,4,8,dtype='i')\n",
    "x = np.linspace(0,20.001,3,dtype='i')\n",
    "Labels= ['0', '30', '60', '90']\n",
    "print (y)\n",
    "for i in range(4):\n",
    "    print (infile[i])\n",
    "    axs[i].imshow(Image[infile[i]],aspect='auto')\n",
    "    #ax = axs[i].gca()\n",
    "    ylim = [0,815]#axs[i].get_ylim()\n",
    "    xlim = axs[i].get_xlim()\n",
    "    y1=np.linspace(ylim[1], ylim[0], 8)\n",
    "    axs[i].set_yticks(y1[::2])\n",
    "    axs[i].set_yticklabels(y[::2])\n",
    "    axs[i].set_xticks(np.linspace(xlim[0], xlim[1], 3))\n",
    "    axs[i].set_xticklabels(x)\n",
    "    axs[i].text(20,150.5,r'S$_{%s}$'%Labels[i],fontweight='normal',fontsize=11)\n",
    "    axs[i].set_ylabel('Depth [m]',fontweight='normal',fontsize=11)\n",
    "    if (i==3):\n",
    "        axs[i].set_xlabel('Length [m]',fontweight='normal',fontsize=11)\n",
    "        \n",
    "plt.tight_layout()\n",
    "#plt.subplots_adjust(top=0.92, bottom=0.08, left=0.10, right=0.95, hspace=0.5,wspace=.6)\n",
    "plt.savefig(path + 'combined-4.png',bbox_inches='tight',dpi=300)\n"
   ]
  },
  {
   "cell_type": "code",
   "execution_count": null,
   "metadata": {},
   "outputs": [],
   "source": []
  }
 ],
 "metadata": {
  "kernelspec": {
   "display_name": "Python 3",
   "language": "python",
   "name": "python3"
  },
  "language_info": {
   "codemirror_mode": {
    "name": "ipython",
    "version": 3
   },
   "file_extension": ".py",
   "mimetype": "text/x-python",
   "name": "python",
   "nbconvert_exporter": "python",
   "pygments_lexer": "ipython3",
   "version": "3.7.3"
  }
 },
 "nbformat": 4,
 "nbformat_minor": 2
}
