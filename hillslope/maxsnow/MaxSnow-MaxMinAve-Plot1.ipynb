{
 "cells": [
  {
   "cell_type": "code",
   "execution_count": 1,
   "metadata": {},
   "outputs": [
    {
     "name": "stdout",
     "output_type": "stream",
     "text": [
      "Using matplotlib backend: MacOSX\n"
     ]
    }
   ],
   "source": [
    "%matplotlib"
   ]
  },
  {
   "cell_type": "code",
   "execution_count": 2,
   "metadata": {},
   "outputs": [],
   "source": [
    "import numpy as np\n",
    "import h5py\n",
    "import os, sys\n",
    "import matplotlib.pyplot as plt\n",
    "from scipy.interpolate import CubicSpline\n",
    "from scipy.signal import savgol_filter\n",
    "import pandas as pd\n",
    "sys.path.append('/Users/ajc/CODES/ats/tools/utils/')\n",
    "import get_transect_data"
   ]
  },
  {
   "cell_type": "code",
   "execution_count": 3,
   "metadata": {},
   "outputs": [],
   "source": [
    "Data_B = dict()\n",
    "infile='/Users/ajc/mytests/simulations/hillslope/2019/MaxSnow/MS_B_1R1/'\n",
    "Time, Data = get_transect_data.get2DMatrix(infile)\n",
    "Data_B['temperature'] = np.array(Data)\n",
    "Data_B['time'] = np.array(Time)"
   ]
  },
  {
   "cell_type": "code",
   "execution_count": 4,
   "metadata": {},
   "outputs": [],
   "source": [
    "Data_S30 = dict()\n",
    "infile='/Users/ajc/mytests/simulations/hillslope/2019/MaxSnow/MS_S30_1R1/'\n",
    "Time, Data = get_transect_data.get2DMatrix(infile)\n",
    "Data_S30['temperature'] = np.array(Data)\n",
    "Data_S30['time'] = np.array(Time)"
   ]
  },
  {
   "cell_type": "code",
   "execution_count": null,
   "metadata": {},
   "outputs": [],
   "source": []
  },
  {
   "cell_type": "code",
   "execution_count": 5,
   "metadata": {},
   "outputs": [],
   "source": [
    "Data_S60 = dict()\n",
    "infile='/Users/ajc/mytests/simulations/hillslope/2019/MaxSnow/MS_S60_1R1/'\n",
    "Time, Data = get_transect_data.get2DMatrix(infile)\n",
    "Data_S60['temperature'] = np.array(Data)\n",
    "Data_S60['time'] = np.array(Time)"
   ]
  },
  {
   "cell_type": "code",
   "execution_count": 6,
   "metadata": {},
   "outputs": [],
   "source": [
    "Data_S90 = dict()\n",
    "infile='/Users/ajc/mytests/simulations/hillslope/2019/MaxSnow/MS_S90_1R1/'\n",
    "Time, Data = get_transect_data.get2DMatrix(infile)\n",
    "Data_S90['temperature'] = np.array(Data)\n",
    "Data_S90['time'] = np.array(Time)"
   ]
  },
  {
   "cell_type": "code",
   "execution_count": null,
   "metadata": {},
   "outputs": [],
   "source": []
  },
  {
   "cell_type": "code",
   "execution_count": null,
   "metadata": {},
   "outputs": [],
   "source": []
  },
  {
   "cell_type": "code",
   "execution_count": null,
   "metadata": {},
   "outputs": [],
   "source": []
  },
  {
   "cell_type": "code",
   "execution_count": 7,
   "metadata": {},
   "outputs": [],
   "source": [
    "def get_AveMaxMin_Temp(season = \" \", start=0, end=-1,depth=25):\n",
    "    #25 * 2cm = 50 cm\n",
    "    data = []\n",
    "    times = []\n",
    "    if season == \"B\":\n",
    "        data = Data_B['temperature']\n",
    "        times = Data_B['time']\n",
    "    elif season == \"S30\":\n",
    "        data = Data_S30['temperature']\n",
    "        times = Data_S30['time']\n",
    "    elif season == \"S60\":\n",
    "        data = Data_S60['temperature']\n",
    "        times = Data_S60['time']\n",
    "    elif season == \"S90\":\n",
    "        data = Data_S90['temperature']\n",
    "        times = Data_S90['time']\n",
    "        \n",
    "    nvar, cycles, xnum, znum = data.shape\n",
    "    HillslopeT = dict()\n",
    "    \n",
    "    AvgTemp = np.zeros(cycles)\n",
    "    MaxTemp = np.zeros(cycles)\n",
    "    MinTemp = np.zeros(cycles)\n",
    "    #print depth\n",
    "    depth_cm = data[1,0,0,80] - data[1,0,0,80-depth]\n",
    "    for i in range(cycles):\n",
    "        AvgTemp[i] = np.mean(data[nvar-1,i,start:end,80-depth:])\n",
    "        MaxTemp[i] = np.max(data[nvar-1,i,start:end,80-depth:])\n",
    "        MinTemp[i] = np.min(data[nvar-1,i,start:end,80-depth:])\n",
    "    L = len(AvgTemp)%365\n",
    "    HillslopeT['times'] = np.array(times[:-L])\n",
    "    HillslopeT_Avg = np.array(AvgTemp[:-L])\n",
    "    HillslopeT_Max = np.array(MaxTemp[:-L])\n",
    "    HillslopeT_Min = np.array(MinTemp[:-L])\n",
    "   \n",
    "\n",
    "    HillslopeT['temp-annual_avg'] = np.reshape(HillslopeT_Avg, (-1,365)).mean(axis=1)\n",
    "    HillslopeT['temp-annual_max'] = np.reshape(HillslopeT_Max, (-1,365)).max(axis=1)\n",
    "    HillslopeT['temp-annual_min'] = np.reshape(HillslopeT_Min, (-1,365)).min(axis=1)\n",
    "\n",
    "    return HillslopeT, depth_cm"
   ]
  },
  {
   "cell_type": "code",
   "execution_count": 8,
   "metadata": {},
   "outputs": [],
   "source": [
    "def get_Temp_timeseries_location(season = \" \", location=0,depth=25):\n",
    "    #25 * 2cm = 50 cm\n",
    "    data = []\n",
    "    times = []\n",
    "    if season == \"B\":\n",
    "        data = Data_B['temperature']\n",
    "        times = Data_B['time']\n",
    "    elif season == \"S30\":\n",
    "        data = Data_S30['temperature']\n",
    "        times = Data_S30['time']\n",
    "    elif season == \"S60\":\n",
    "        data = Data_S60['temperature']\n",
    "        times = Data_S60['time']\n",
    "    elif season == \"S90\":\n",
    "        data = Data_S90['temperature']\n",
    "        times = Data_S90['time']\n",
    "        \n",
    "    nvar, cycles, xnum, znum = data.shape\n",
    "    HillslopeT1 = dict()\n",
    "    \n",
    "    Temp = np.zeros(cycles)\n",
    "    \n",
    "    #print depth\n",
    "    depth_cm = data[1,0,0,80] - data[1,0,0,80-depth]\n",
    "    for i in range(cycles):\n",
    "        Temp[i] = data[nvar-1,i,location,80-depth]\n",
    "\n",
    "    HillslopeT1['times'] = np.array(times[-365:])\n",
    "    HillslopeT_Avg = np.array(Temp[-365:])\n",
    "\n",
    "    HillslopeT1['temp'] = HillslopeT_Avg\n",
    "    \n",
    "    return HillslopeT1, depth_cm"
   ]
  },
  {
   "cell_type": "code",
   "execution_count": 9,
   "metadata": {},
   "outputs": [],
   "source": [
    "def get_locationbased_ALT(season = \" \",location=0):\n",
    "    data = []\n",
    "    times = []\n",
    "    if season == \"B\":\n",
    "        data = Data_B['temperature']\n",
    "        times = Data_B['time']\n",
    "    elif season == \"S30\":\n",
    "        data = Data_S30['temperature']\n",
    "        times = Data_S30['time']\n",
    "    elif season == \"S60\":\n",
    "        data = Data_S60['temperature']\n",
    "        times = Data_S60['time']\n",
    "    elif season == \"S90\":\n",
    "        data = Data_S90['temperature']\n",
    "        times = Data_S90['time']\n",
    "        \n",
    "    nvar, cycles, xnum, znum = data.shape\n",
    "    HillslopeT = dict()\n",
    "    avgTemp = np.zeros(cycles)\n",
    "    \n",
    "    ddepth = 0 \n",
    "    for i in range(cycles):\n",
    "        loc = np.where(data[nvar-1,i,location,:] > 273.15)[0]\n",
    "        if len(loc) >0:\n",
    "            dz = -(80 - loc[0])*2.0\n",
    "            avgTemp[i] = dz\n",
    "    HillslopeT['times'] = np.array(times)\n",
    "    HillslopeT['temp'] = np.array(avgTemp)\n",
    "    print nvar,len(loc), loc \n",
    "    print data[1,0,location,:], data[1,0,location,loc[0]], loc[0]\n",
    "    L = len(HillslopeT['temp'])%365\n",
    "    for key in HillslopeT.keys():\n",
    "        HillslopeT[key + '-annual_avg'] = np.reshape(HillslopeT[key][:-L], (-1,365))   \n",
    "    return HillslopeT"
   ]
  },
  {
   "cell_type": "code",
   "execution_count": 10,
   "metadata": {},
   "outputs": [
    {
     "name": "stdout",
     "output_type": "stream",
     "text": [
      "3.84718\n"
     ]
    }
   ],
   "source": [
    "start1_,end1_,depth_ = 0,5,55 # Z depth 3.84718\n",
    "#start1_,end1_,depth_ = 0,5,46 # Z depth 2.053\n",
    "\n",
    "WL_AMM_B, Depth_cm = get_AveMaxMin_Temp(\"B\",start=start1_,end=end1_,depth=depth_)\n",
    "WL_AMM_S30,Depth_cm = get_AveMaxMin_Temp(\"S30\",start=start1_,end=end1_,depth=depth_)\n",
    "WL_AMM_S60,Depth_cm = get_AveMaxMin_Temp(\"S60\",start=start1_,end=end1_,depth=depth_)\n",
    "WL_AMM_S90,Depth_cm = get_AveMaxMin_Temp(\"S90\",start=start1_,end=end1_,depth=depth_)\n",
    "print (Depth_cm)"
   ]
  },
  {
   "cell_type": "code",
   "execution_count": 11,
   "metadata": {},
   "outputs": [],
   "source": [
    "depth_cm = round(100*Depth_cm)"
   ]
  },
  {
   "cell_type": "code",
   "execution_count": null,
   "metadata": {},
   "outputs": [],
   "source": []
  },
  {
   "cell_type": "code",
   "execution_count": 12,
   "metadata": {},
   "outputs": [],
   "source": [
    "UplandTemp = dict()\n",
    "start2_,end2_ = end1_,99\n",
    "UL_AMM_B,Depth_cm = get_AveMaxMin_Temp(\"B\",start=start2_,end=end2_,depth=depth_)\n",
    "UL_AMM_S30,Depth_cm = get_AveMaxMin_Temp(\"S30\",start=start2_,end=end2_,depth=depth_)\n",
    "UL_AMM_S60,Depth_cm = get_AveMaxMin_Temp(\"S60\",start=start2_,end=end2_,depth=depth_)\n",
    "UL_AMM_S90,Depth_cm = get_AveMaxMin_Temp(\"S90\",start=start2_,end=end2_,depth=depth_)"
   ]
  },
  {
   "cell_type": "code",
   "execution_count": null,
   "metadata": {},
   "outputs": [],
   "source": []
  },
  {
   "cell_type": "code",
   "execution_count": 13,
   "metadata": {},
   "outputs": [
    {
     "name": "stdout",
     "output_type": "stream",
     "text": [
      "0.5623399999999998\n"
     ]
    }
   ],
   "source": [
    "depth1=26\n",
    "WL_T_B, Depth_cm1 = get_Temp_timeseries_location(\"B\",location=0,depth=depth1)\n",
    "WL_T_S30,Depth_cm1 = get_Temp_timeseries_location(\"S30\",location=0,depth=depth1)\n",
    "WL_T_S60,Depth_cm1 = get_Temp_timeseries_location(\"S60\",location=0,depth=depth1)\n",
    "WL_T_S90,Depth_cm1 = get_Temp_timeseries_location(\"S90\",location=0,depth=depth1)\n",
    "print Depth_cm1"
   ]
  },
  {
   "cell_type": "code",
   "execution_count": null,
   "metadata": {},
   "outputs": [],
   "source": []
  },
  {
   "cell_type": "code",
   "execution_count": 14,
   "metadata": {},
   "outputs": [
    {
     "name": "stdout",
     "output_type": "stream",
     "text": [
      "0.5623399999999998\n"
     ]
    }
   ],
   "source": [
    "depth1=26\n",
    "UL_T_B, Depth_cm1 = get_Temp_timeseries_location(\"B\",location=49,depth=depth1)\n",
    "UL_T_S30,Depth_cm1 = get_Temp_timeseries_location(\"S30\",location=49,depth=depth1)\n",
    "UL_T_S60,Depth_cm1 = get_Temp_timeseries_location(\"S60\",location=49,depth=depth1)\n",
    "UL_T_S90,Depth_cm1 = get_Temp_timeseries_location(\"S90\",location=49,depth=depth1)\n",
    "print Depth_cm1"
   ]
  },
  {
   "cell_type": "code",
   "execution_count": null,
   "metadata": {},
   "outputs": [],
   "source": []
  },
  {
   "cell_type": "code",
   "execution_count": null,
   "metadata": {},
   "outputs": [],
   "source": [
    "# Plot average temperature, minimum temperature, and time series: one column for wetlands only\n",
    "outfile='/Users/ajc/Documents/MyPapers/MaxSnow/'\n",
    "def Plot_Wetlands():\n",
    "    fig, axs = plt.subplots(3,1, figsize=(6,8), facecolor='w', edgecolor='k',gridspec_kw={'width_ratios':[1]})\n",
    "    fig.subplots_adjust(hspace =.02, wspace=1.02)\n",
    "    TempC = 273.15\n",
    "    plt.tight_layout()\n",
    "    axs = axs.ravel()\n",
    "    xpos = np.array([0, 1,2,3])\n",
    "    Xticks = ['Basecase', r'S$_{30}$', r'S$_{60}$', r'S$_{90}$']\n",
    "    \n",
    "    ax1=plt.subplot(311)\n",
    "    X = [RiparianTempB['temp-annual_avg'][-1], RiparianTempS30['temp-annual_avg'][-1],RiparianTempS60['temp-annual_avg'][-1],RiparianTempS90['temp-annual_avg'][-1]]\n",
    "    X = [x - TempC for x in X]\n",
    "    ax1.bar(xpos,X,align='center', alpha=1.0, color=['k', 'g','b','r'], width=0.25,edgecolor='black')\n",
    "    \n",
    "    ax1.set_xticks(xpos)\n",
    "    ax1.set_xticklabels(Xticks,fontsize=11, fontweight='normal')\n",
    "\n",
    "    ax1.set_ylabel(u'Soil temperature [\\u00B0C]',fontsize=12, fontweight='normal')\n",
    "    #ax1.set_ylim((266.5 - TempC, 271.5- TempC))\n",
    "    ax1.set_ylim((-3.0, 0))\n",
    "    #ax1.set_title('Wetland',fontweight='normal')\n",
    "    ax1.text(0.5, -2.85, 'Annual average (wetland)',fontsize=11, fontweight='normal')\n",
    "    plt.tight_layout()\n",
    "    \n",
    "    # --------------------------------- MANIMUM ---------------------------\n",
    "    ax3=plt.subplot(312)\n",
    "    X = [RiparianTempB['temp-annual_min'][-1], RiparianTempS30['temp-annual_min'][-1],RiparianTempS60['temp-annual_min'][-1],RiparianTempS90['temp-annual_min'][-1]]\n",
    "    X = [x - TempC for x in X]\n",
    "    ax3.bar(xpos,X,align='center', alpha=1.0, color=['k', 'g','b','r'], width=0.25,edgecolor='black')\n",
    "       \n",
    "    ax3.set_xticks(xpos)\n",
    "    ax3.set_xticklabels(Xticks,fontsize=11, fontweight='normal')\n",
    "\n",
    "    ax3.set_ylabel(u'Soil temperature [\\u00B0C]',fontsize=12, fontweight='normal')\n",
    "    \n",
    "    ax3.set_ylim((-15, -10))\n",
    "    ax3.text(0.5, -14.85, 'Annual minimum (wetland)',fontsize=11, fontweight='normal')\n",
    "    \n",
    "    # --------------------------------- Annual time series ---------------------------\n",
    "    ax3=plt.subplot(313)\n",
    "    x=np.linspace(0,364,365)\n",
    "    ax3.plot(x,-273.15+WetlandTempB['temp'],'k-',label='Basecase')\n",
    "    ax3.plot(x,-273.15+WetlandTempS30['temp'],'g-',label=r'S$_{30}$')\n",
    "    ax3.plot(x,-273.15+WetlandTempS60['temp'],'b-',label=r'S$_{60}$')\n",
    "    ax3.plot(x,-273.15+WetlandTempS90['temp'],'r-',label=r'S$_{90}$')\n",
    "\n",
    "    ax3.set_xlim(75,290)\n",
    "    #ax3.set_xticks(np.linspace(1,19.6,6))\n",
    "    #ax3.set_xticklabels(np.linspace(19.2*,365,6),fontsize=11, fontweight='normal')\n",
    "    \n",
    "    ax3.set_ylabel(u'Soil temperature [\\u00B0C]',fontsize=12, fontweight='normal')\n",
    "    ax3.set_xlabel('Time [day of year]',fontsize=12, fontweight='normal')\n",
    "    ax3.text(76., -4.9, 'Depth = 56 cm',fontsize=11, fontweight='normal')\n",
    "    #ax3.set_ylim((-15, -10))\n",
    "    ax3.legend(loc='lower right', fontsize=10,labelspacing=0.1,bbox_to_anchor=(0.9,-0.01, .1, .1))\n",
    "    plt.tight_layout()\n",
    "    \n",
    "    \n",
    "    plt.savefig(outfile+'avg-min-temp-385cm-bar.pdf', bbox_inches='tight', dpi=100)\n",
    "    #riparian zone are more warmer due to sensible heat, support it that ALT (thawing) is more in the hillslope then if its not\n",
    "    #warmer than either evaporative cooling or energy is lost in thawing, is it more thaw there then?"
   ]
  },
  {
   "cell_type": "code",
   "execution_count": null,
   "metadata": {},
   "outputs": [],
   "source": []
  },
  {
   "cell_type": "code",
   "execution_count": 81,
   "metadata": {},
   "outputs": [],
   "source": [
    "# Plot average temperature, minimum temperature, and time series: columns for wetlands and uplands each\n",
    "outfile='/Users/ajc/Documents/MyPapers/MaxSnow/'\n",
    "def Plot_Wetlands_Uplands():\n",
    "    fig, axs = plt.subplots(3,2, figsize=(6,8), facecolor='w', edgecolor='k',gridspec_kw={'width_ratios':[1,1]})\n",
    "    fig.subplots_adjust(hspace =.02, wspace=1.02)\n",
    "    TempC = 273.15\n",
    "    plt.tight_layout()\n",
    "    axs = axs.ravel()\n",
    "    xpos = np.array([0, 1,2,3])\n",
    "    Xticks = ['Basecase', r'S$_{30}$', r'S$_{60}$', r'S$_{90}$']\n",
    "    \n",
    "    ax1=plt.subplot(321)\n",
    "    X = [WL_AMM_B['temp-annual_avg'][-1], WL_AMM_S30['temp-annual_avg'][-1],WL_AMM_S60['temp-annual_avg'][-1],WL_AMM_S90['temp-annual_avg'][-1]]\n",
    "    X = [x - TempC for x in X]\n",
    "    ax1.bar(xpos,X,align='center', alpha=1.0, color=['k', 'g','b','r'], width=0.25,edgecolor='black')\n",
    "    \n",
    "    ax1.set_xticks(xpos)\n",
    "    ax1.set_xticklabels(Xticks,fontsize=11, fontweight='normal')\n",
    "\n",
    "    ax1.set_ylabel(u'Soil temperature [\\u00B0C]',fontsize=12, fontweight='normal')\n",
    "    #ax1.set_ylim((266.5 - TempC, 271.5- TempC))\n",
    "    ax1.set_ylim((-3, 0))\n",
    "    ax1.set_title('Wetland',fontweight='normal')\n",
    "    ax1.text(0.5, -2.85, 'Annual average',fontsize=10, fontweight='normal')\n",
    "    plt.tight_layout()\n",
    "    \n",
    "    # Up land\n",
    "    ax1=plt.subplot(322)\n",
    "    X = [UL_AMM_B['temp-annual_avg'][-1], UL_AMM_S30['temp-annual_avg'][-1],UL_AMM_S60['temp-annual_avg'][-1],UL_AMM_S90['temp-annual_avg'][-1]]\n",
    "    X = [x - TempC for x in X]\n",
    "    ax1.bar(xpos,X,align='center', alpha=1.0, color=['k', 'g','b','r'], width=0.25,edgecolor='black')\n",
    "    \n",
    "    ax1.set_xticks(xpos)\n",
    "    ax1.set_xticklabels(Xticks,fontsize=11, fontweight='normal')\n",
    "\n",
    "    #ax1.set_ylabel(u'Soil temperature [\\u00B0C]',fontsize=12, fontweight='normal')\n",
    "    #ax1.set_ylim((266.5 - TempC, 271.5- TempC))\n",
    "    ax1.set_ylim((-7, 0))\n",
    "    ax1.set_title('Upland',fontweight='normal')\n",
    "    ax1.text(0.5, -6.75, 'Annual average',fontsize=10, fontweight='normal')\n",
    "    plt.tight_layout()\n",
    "    \n",
    "    # --------------------------------- MANIMUM ---------------------------\n",
    "    ax3=plt.subplot(323)\n",
    "    X = [WL_AMM_B['temp-annual_min'][-1], WL_AMM_S30['temp-annual_min'][-1],WL_AMM_S60['temp-annual_min'][-1],WL_AMM_S90['temp-annual_min'][-1]]\n",
    "    X = [x - TempC for x in X]\n",
    "    ax3.bar(xpos,X,align='center', alpha=1.0, color=['k', 'g','b','r'], width=0.25,edgecolor='black')\n",
    "       \n",
    "    ax3.set_xticks(xpos)\n",
    "    ax3.set_xticklabels(Xticks,fontsize=11, fontweight='normal')\n",
    "\n",
    "    ax3.set_ylabel(u'Soil temperature [\\u00B0C]',fontsize=12, fontweight='normal')\n",
    "    \n",
    "    ax3.set_ylim((-15, -10))\n",
    "    ax3.text(0.5, -14.85, 'Annual minimum',fontsize=10, fontweight='normal')\n",
    "    \n",
    "    #Upland\n",
    "    ax3=plt.subplot(324)\n",
    "    X = [UL_AMM_B['temp-annual_min'][-1], UL_AMM_S30['temp-annual_min'][-1],UL_AMM_S60['temp-annual_min'][-1],UL_AMM_S90['temp-annual_min'][-1]]\n",
    "    X = [x - TempC for x in X]\n",
    "    ax3.bar(xpos,X,align='center', alpha=1.0, color=['k', 'g','b','r'], width=0.25,edgecolor='black')\n",
    "       \n",
    "    ax3.set_xticks(xpos)\n",
    "    ax3.set_xticklabels(Xticks,fontsize=11, fontweight='normal')\n",
    "\n",
    "    #ax3.set_ylabel(u'Soil temperature [\\u00B0C]',fontsize=12, fontweight='normal')\n",
    "    \n",
    "    ax3.set_ylim((-20, -10))\n",
    "    ax3.text(0.5, -19.65, 'Annual minimum',fontsize=10, fontweight='normal')\n",
    "    \n",
    "    \n",
    "    # --------------------------------- Annual time series ---------------------------\n",
    "    ax3=plt.subplot(325)\n",
    "    x=np.linspace(0,364,365)\n",
    "    ax3.plot(x,-273.15+WL_T_B['temp'],'k-',label='Basecase')\n",
    "    ax3.plot(x,-273.15+WL_T_S30['temp'],'g-',label=r'S$_{30}$')\n",
    "    ax3.plot(x,-273.15+WL_T_S60['temp'],'b-',label=r'S$_{60}$')\n",
    "    ax3.plot(x,-273.15+WL_T_S90['temp'],'r-',label=r'S$_{90}$')\n",
    "\n",
    "    ax3.set_xlim(0,365)\n",
    "    #ax3.set_xticks(np.linspace(1,19.6,6))\n",
    "    #ax3.set_xticklabels(np.linspace(19.2*,365,6),fontsize=11, fontweight='normal')\n",
    "    \n",
    "    ax3.set_ylabel(u'Soil temperature [\\u00B0C]',fontsize=12, fontweight='normal')\n",
    "    ax3.set_xlabel('Time [day of year]',fontsize=12, fontweight='normal')\n",
    "    ax3.text(10, 0.5, 'Depth = 56 cm',fontsize=9, fontweight='normal')\n",
    "    ax3.set_ylim((-5, 1))\n",
    "    ax3.legend(loc='lower right', fontsize=8,labelspacing=0.01,bbox_to_anchor=(0.9,-0.01, .1, .1))\n",
    "    plt.tight_layout()\n",
    "    \n",
    "    #upland\n",
    "    ax3=plt.subplot(326)\n",
    "    x=np.linspace(0,364,365)\n",
    "    ax3.plot(x,-273.15+UL_T_B['temp'],'k-',label='Basecase')\n",
    "    ax3.plot(x,-273.15+UL_T_S30['temp'],'g-',label=r'S$_{30}$')\n",
    "    ax3.plot(x,-273.15+UL_T_S60['temp'],'b-',label=r'S$_{60}$')\n",
    "    ax3.plot(x,-273.15+UL_T_S90['temp'],'r-',label=r'S$_{90}$')\n",
    "\n",
    "    ax3.set_xlim(0,365)\n",
    "    #ax3.set_xticks(np.linspace(1,19.6,6))\n",
    "    #ax3.set_xticklabels(np.linspace(19.2*,365,6),fontsize=11, fontweight='normal')\n",
    "    \n",
    "    #ax3.set_ylabel(u'Soil temperature [\\u00B0C]',fontsize=12, fontweight='normal')\n",
    "    ax3.set_xlabel('Time [day of year]',fontsize=12, fontweight='normal')\n",
    "    ax3.text(10, -.5, 'Depth = 56 cm',fontsize=9, fontweight='normal')\n",
    "    ax3.set_ylim((-17, 1))\n",
    "    ax3.legend(loc='lower right', fontsize=8,labelspacing=0.01,bbox_to_anchor=(0.9,-0.01, .1, .1))\n",
    "    plt.tight_layout()\n",
    "    \n",
    "    \n",
    "    plt.savefig(outfile+'avg-min-temp-385cm-plot1.pdf', bbox_inches='tight', dpi=100)\n",
    "    #riparian zone are more warmer due to sensible heat, support it that ALT (thawing) is more in the hillslope then if its not\n",
    "    #warmer than either evaporative cooling or energy is lost in thawing, is it more thaw there then?"
   ]
  },
  {
   "cell_type": "code",
   "execution_count": 82,
   "metadata": {},
   "outputs": [],
   "source": [
    "Plot_Wetlands_Uplands()"
   ]
  },
  {
   "cell_type": "code",
   "execution_count": null,
   "metadata": {},
   "outputs": [],
   "source": []
  },
  {
   "cell_type": "code",
   "execution_count": null,
   "metadata": {},
   "outputs": [],
   "source": []
  }
 ],
 "metadata": {
  "kernelspec": {
   "display_name": "Python 3",
   "language": "python",
   "name": "python3"
  },
  "language_info": {
   "codemirror_mode": {
    "name": "ipython",
    "version": 3
   },
   "file_extension": ".py",
   "mimetype": "text/x-python",
   "name": "python",
   "nbconvert_exporter": "python",
   "pygments_lexer": "ipython3",
   "version": "3.7.3"
  }
 },
 "nbformat": 4,
 "nbformat_minor": 2
}
