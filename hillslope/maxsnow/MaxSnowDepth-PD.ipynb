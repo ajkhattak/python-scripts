{
 "cells": [
  {
   "cell_type": "code",
   "execution_count": null,
   "metadata": {},
   "outputs": [],
   "source": []
  },
  {
   "cell_type": "code",
   "execution_count": 1,
   "metadata": {},
   "outputs": [],
   "source": [
    "import numpy as np\n",
    "import h5py\n",
    "import os, sys\n",
    "import matplotlib.pyplot as plt\n",
    "from scipy.interpolate import CubicSpline\n",
    "from scipy.signal import savgol_filter\n",
    "import pandas as pd\n",
    "sys.path.append('/Users/ajc/CODES/ats/tools/utils/')\n",
    "import get_transect_data\n",
    "sys.path.append('/Users/ajc/mytests/Observations/PyScript')\n",
    "import readdata as rd"
   ]
  },
  {
   "cell_type": "code",
   "execution_count": 2,
   "metadata": {},
   "outputs": [
    {
     "name": "stdout",
     "output_type": "stream",
     "text": [
      "['surface-ponded_depth', 'surface-pressure']\n"
     ]
    }
   ],
   "source": [
    "Data_B = dict()\n",
    "infile='/Users/ajc/mytests/simulations/hillslope/2019/MaxSnow/MS_B_1R1/visdump_surface_data.h5'\n",
    "Data_B = rd.GetSurfVarFromVis(infile, 'surface-ponded_depth', 0)\n",
    "d = rd.GetSurfVarFromVis(infile, 'surface-pressure', 0)\n",
    "Data_B.update(d)\n",
    "\n",
    "print (Data_B.keys())\n"
   ]
  },
  {
   "cell_type": "code",
   "execution_count": 3,
   "metadata": {},
   "outputs": [],
   "source": [
    "Data_S30 = dict()\n",
    "infile='/Users/ajc/mytests/simulations/hillslope/2019/MaxSnow/MS_S30_1R1/visdump_surface_data.h5'\n",
    "Data_S30 = rd.GetSurfVarFromVis(infile, 'surface-ponded_depth', 0)\n",
    "d = rd.GetSurfVarFromVis(infile, 'surface-pressure', 0)\n",
    "Data_S30.update(d)"
   ]
  },
  {
   "cell_type": "code",
   "execution_count": null,
   "metadata": {},
   "outputs": [],
   "source": []
  },
  {
   "cell_type": "code",
   "execution_count": 4,
   "metadata": {},
   "outputs": [],
   "source": [
    "Data_S60 = dict()\n",
    "infile='/Users/ajc/mytests/simulations/hillslope/2019/MaxSnow/MS_S60_1R1/visdump_surface_data.h5'\n",
    "Data_S60 = rd.GetSurfVarFromVis(infile, 'surface-ponded_depth', 0)\n",
    "d = rd.GetSurfVarFromVis(infile, 'surface-pressure', 0)\n",
    "Data_S60.update(d)\n"
   ]
  },
  {
   "cell_type": "code",
   "execution_count": 5,
   "metadata": {},
   "outputs": [],
   "source": [
    "Data_S90 = dict()\n",
    "infile='/Users/ajc/mytests/simulations/hillslope/2019/MaxSnow/MS_S90_1R1/visdump_surface_data.h5'\n",
    "Data_S90 = rd.GetSurfVarFromVis(infile, 'surface-ponded_depth', 0)\n",
    "d = rd.GetSurfVarFromVis(infile, 'surface-pressure', 0)\n",
    "Data_S90.update(d)"
   ]
  },
  {
   "cell_type": "code",
   "execution_count": null,
   "metadata": {},
   "outputs": [],
   "source": [
    "%matplotlib\n",
    "plt.plot(Data_B['surface-ponded_depth'][-365:],'r')\n",
    "plt.plot(Data_S30['surface-ponded_depth'][-365:],'k')\n",
    "plt.plot(Data_S60['surface-ponded_depth'][-365:],'c')\n",
    "plt.plot(Data_S90['surface-ponded_depth'][-365:],'b')\n",
    "plt.show()"
   ]
  },
  {
   "cell_type": "code",
   "execution_count": null,
   "metadata": {},
   "outputs": [],
   "source": [
    "plt.plot(Data_B['surface-pressure'][-365:],'r')\n",
    "plt.plot(Data_S30['surface-pressure'][-365:],'k')\n",
    "plt.plot(Data_S60['surface-pressure'][-365:],'c')\n",
    "plt.plot(Data_S90['surface-pressure'][-365:],'b')\n",
    "plt.show()"
   ]
  },
  {
   "cell_type": "code",
   "execution_count": 6,
   "metadata": {},
   "outputs": [],
   "source": [
    "Data_B['PD'] = np.array([(d - 101325.)/(1000*9.8) for d in Data_B['surface-pressure'][-365:]])\n",
    "Data_S30['PD'] = np.array([(d - 101325.)/(1000*9.8) for d in Data_S30['surface-pressure'][-365:]])\n",
    "Data_S60['PD'] = np.array([(d - 101325.)/(1000*9.8) for d in Data_S60['surface-pressure'][-365:]])\n",
    "Data_S90['PD'] = np.array([(d - 101325.)/(1000*9.8) for d in Data_S90['surface-pressure'][-365:]])"
   ]
  },
  {
   "cell_type": "code",
   "execution_count": 11,
   "metadata": {},
   "outputs": [
    {
     "name": "stdout",
     "output_type": "stream",
     "text": [
      "['surface-ponded_depth', 'PD', 'surface-pressure']\n"
     ]
    },
    {
     "data": {
      "image/png": "[encoded data removed]",
      "text/plain": [
       "<Figure size 432x288 with 1 Axes>"
      ]
     },
     "metadata": {
      "needs_background": "light"
     },
     "output_type": "display_data"
    }
   ],
   "source": [
    "print (Data_B.keys())\n",
    "var='PD'\n",
    "plt.plot(0.022+Data_B[var][-365:],'r')\n",
    "plt.plot(0.022+Data_S30[var][-365:],'k')\n",
    "plt.plot(0.022+Data_S60[var][-365:],'c')\n",
    "plt.plot(0.022+Data_S90[var][-365:],'b')\n",
    "plt.show()"
   ]
  },
  {
   "cell_type": "code",
   "execution_count": null,
   "metadata": {},
   "outputs": [],
   "source": []
  },
  {
   "cell_type": "code",
   "execution_count": null,
   "metadata": {},
   "outputs": [],
   "source": [
    "outfile='/Users/ajc/Documents/MyPapers/MaxSnow/'\n",
    "fig, axs = plt.subplots(2,2, figsize=(5,5), facecolor='w', edgecolor='k',gridspec_kw={'width_ratios':[2,1]})\n",
    "fig.subplots_adjust(hspace =.02, wspace=1.02)\n",
    "plt.tight_layout()\n",
    "axs = axs.ravel()\n",
    "\n",
    "print MS_B_tarea,MS_B_area\n",
    "print MS_S30_tarea,MS_S30_area\n",
    "print MS_S60_tarea,MS_S60_area\n",
    "print MS_S90_tarea,MS_S90_area\n",
    "\n",
    "B = (MS_B_tarea*0 + MS_B_area)/MS_B_tarea * 100\n",
    "S30 = (MS_S30_tarea*0 + MS_S30_area)/MS_S30_tarea * 100\n",
    "S60 = (MS_S60_tarea*0 + MS_S60_area)/MS_S60_tarea * 100\n",
    "S90 = (MS_S90_tarea*0 + MS_S90_area)/MS_S90_tarea * 100\n",
    "print B,S30, S60,S90\n",
    "\n",
    "explode = (0.1, 0)  # explode 1st slice\n",
    "plt.subplot(221)\n",
    "wedges, texts, autotexts = plt.pie([B, 100-B], radius=1.2, explode=explode,colors=['r','gray'], autopct='%1.f%%', shadow=True, startangle=-45)\n",
    "plt.setp(autotexts, size=8, weight=\"bold\")\n",
    "plt.xlabel('Basecase',fontsize=12)\n",
    "plt.axis('equal')\n",
    "\n",
    "\n",
    "ax2=plt.subplot(222)\n",
    "ax2.pie([S30, 100-S30], explode=explode, colors=['r','gray'], autopct='%1.0f%%', shadow=True, startangle=-45)\n",
    "ax2.axis('equal')\n",
    "ax2.set_xlabel('S30',fontsize=12)\n",
    "\n",
    "plt.subplot(223)\n",
    "plt.pie([S60, 100-S60], explode=explode, colors=['r','gray'], autopct='%1.0f%%', shadow=True, startangle=-45)\n",
    "plt.axis('equal')\n",
    "plt.xlabel('S60',fontsize=12)\n",
    "\n",
    "plt.subplot(224)\n",
    "plt.pie([S90, 100-S90], explode=explode, colors=['r','gray'], autopct='%1.0f%%', shadow=True, startangle=-45)\n",
    "plt.axis('equal') \n",
    "plt.xlabel('S90',fontsize=12)\n",
    "\n",
    "plt.legend(wedges, ['Above -4 C','Below -4 C'], loc=\"center left\",ncol=1,\n",
    "          bbox_to_anchor=(-0.5, .6, 0.5, 1.0))\n",
    "\n",
    "\n",
    "#plt.legend(loc='upper left',fontsize=10)#, ncol=4, bbox_to_anchor=(1.0,-0.35, .1, .1))\n",
    "  \n",
    "#plt.tight_layout()\n",
    "plt.savefig(outfile+'area-%s-%s.pdf'%(temp,xlen), bbox_inches='tight', dpi=600)\n",
    "plt.show()"
   ]
  },
  {
   "cell_type": "code",
   "execution_count": null,
   "metadata": {},
   "outputs": [],
   "source": []
  },
  {
   "cell_type": "code",
   "execution_count": null,
   "metadata": {},
   "outputs": [],
   "source": []
  },
  {
   "cell_type": "code",
   "execution_count": null,
   "metadata": {},
   "outputs": [],
   "source": [
    "\n"
   ]
  },
  {
   "cell_type": "code",
   "execution_count": null,
   "metadata": {},
   "outputs": [],
   "source": [
    "\n",
    "\n"
   ]
  },
  {
   "cell_type": "code",
   "execution_count": null,
   "metadata": {},
   "outputs": [],
   "source": []
  }
 ],
 "metadata": {
  "kernelspec": {
   "display_name": "Python 2",
   "language": "python",
   "name": "python2"
  },
  "language_info": {
   "codemirror_mode": {
    "name": "ipython",
    "version": 2
   },
   "file_extension": ".py",
   "mimetype": "text/x-python",
   "name": "python",
   "nbconvert_exporter": "python",
   "pygments_lexer": "ipython2",
   "version": "2.7.15"
  }
 },
 "nbformat": 4,
 "nbformat_minor": 2
}
