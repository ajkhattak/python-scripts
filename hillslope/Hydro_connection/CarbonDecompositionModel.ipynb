{
 "cells": [
  {
   "cell_type": "code",
   "execution_count": 3,
   "metadata": {},
   "outputs": [],
   "source": [
    "#************************* MAIN SCRIPT **********************************\n",
    "import sys\n",
    "import math\n",
    "import h5py\n",
    "import matplotlib.pyplot as plt\n",
    "import os\n",
    "import math\n",
    "from scipy import integrate\n",
    "import numpy as np\n",
    "import csv\n",
    "#os.path.append('/Users/ajc/Core/Projects/ATS-Data/OR-CONDO/PyScript')\n",
    "#import readdata\n",
    "\n",
    "import datetime as DT\n",
    "import matplotlib.dates as mdates\n",
    "import matplotlib\n",
    "font = {'family' : 'normal',\n",
    "        'weight' : 'normal',\n",
    "        'size'   : 12}\n",
    "matplotlib.rc('font', **font)"
   ]
  },
  {
   "cell_type": "code",
   "execution_count": 4,
   "metadata": {},
   "outputs": [],
   "source": [
    "#%run MyOtherNotebook.ipynb"
   ]
  },
  {
   "cell_type": "code",
   "execution_count": 65,
   "metadata": {},
   "outputs": [],
   "source": [
    "Temp = np.linspace(278.15,263.15,50)\n",
    "Pres = np.linspace(101125,141325,50)\n",
    "depth = np.linspace(5.,-40,50)"
   ]
  },
  {
   "cell_type": "code",
   "execution_count": 66,
   "metadata": {},
   "outputs": [],
   "source": [
    "def f_d(depth):\n",
    "    x = 1 if depth < 1.0 else np.exp(-(depth-1)/2.)\n",
    "    return x"
   ]
  },
  {
   "cell_type": "code",
   "execution_count": 67,
   "metadata": {},
   "outputs": [],
   "source": [
    "def f_T(temp):\n",
    "    Q_10 = 2.0\n",
    "    t = (temp - 293.15)/10.\n",
    "    x = Q_10**(t)\n",
    "    return x"
   ]
  },
  {
   "cell_type": "code",
   "execution_count": 68,
   "metadata": {},
   "outputs": [],
   "source": [
    "def f_m(temp, pres):\n",
    "    p_min = -1.0e7\n",
    "    p_max = -1.0e4\n",
    "    p_atm = 101325.\n",
    "    #pn_star = 3.34 * 1.e8 * (temp - 273.15)/273.15 if temp < 273.15 else pres - p_atm\n",
    "    if (temp >= 273.15):\n",
    "        pn_star = pres - p_atm\n",
    "    else:\n",
    "        pn_star = 0\n",
    "    pn = min(0., max(pn_star, p_min))\n",
    "    x = 0\n",
    "    \n",
    "    if pn >= p_max:\n",
    "        x = pn/p_max\n",
    "    else:\n",
    "        x = np.log(p_min/pn) / np.log(p_min/p_max)\n",
    "    return x"
   ]
  },
  {
   "cell_type": "code",
   "execution_count": 72,
   "metadata": {},
   "outputs": [],
   "source": [
    "def carbon_rate(Temp_, Pres_, depth_):\n",
    "    integ = 0\n",
    "    C = []\n",
    "    for i in range(len(Temp_)):\n",
    "        if (Temp_[i] >= 273.15):\n",
    "            dz = depth_[i] - depth_[i+1]\n",
    "            dep = depth_[0] -  depth_[i]\n",
    "            x = f_T(Temp_[i]) * f_d(dep) * f_m(Temp_[i], Pres_[i])\n",
    "            #integ = integ + \n",
    "            C.append(x * dz)\n",
    "        else:\n",
    "            C.append(0)\n",
    "    return C"
   ]
  },
  {
   "cell_type": "code",
   "execution_count": 73,
   "metadata": {},
   "outputs": [],
   "source": [
    "C1 = carbon_rate(Temp_=Temp, Pres_=Pres, depth_=depth)"
   ]
  },
  {
   "cell_type": "code",
   "execution_count": null,
   "metadata": {},
   "outputs": [],
   "source": []
  },
  {
   "cell_type": "code",
   "execution_count": 74,
   "metadata": {},
   "outputs": [
    {
     "data": {
      "text/plain": [
       "Text(0, 0.5, 'Decomposition rate')"
      ]
     },
     "execution_count": 74,
     "metadata": {},
     "output_type": "execute_result"
    },
    {
     "data": {
      "image/png": "[encoded data removed]",
      "text/plain": [
       "<Figure size 432x288 with 1 Axes>"
      ]
     },
     "metadata": {
      "needs_background": "light"
     },
     "output_type": "display_data"
    }
   ],
   "source": [
    "plt.plot(Temp,C1)\n",
    "plt.xlabel('Soil temperature ')\n",
    "plt.ylabel('Decomposition rate')"
   ]
  },
  {
   "cell_type": "code",
   "execution_count": null,
   "metadata": {},
   "outputs": [],
   "source": []
  }
 ],
 "metadata": {
  "kernelspec": {
   "display_name": "Python 3",
   "language": "python",
   "name": "python3"
  },
  "language_info": {
   "codemirror_mode": {
    "name": "ipython",
    "version": 3
   },
   "file_extension": ".py",
   "mimetype": "text/x-python",
   "name": "python",
   "nbconvert_exporter": "python",
   "pygments_lexer": "ipython3",
   "version": "3.7.6"
  }
 },
 "nbformat": 4,
 "nbformat_minor": 4
}
