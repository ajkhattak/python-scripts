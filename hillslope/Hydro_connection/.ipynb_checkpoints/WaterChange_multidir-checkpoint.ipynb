{
 "cells": [
  {
   "cell_type": "markdown",
   "metadata": {},
   "source": [
    "# Water content in the Active Layer Thickness"
   ]
  },
  {
   "cell_type": "code",
   "execution_count": 1,
   "metadata": {},
   "outputs": [],
   "source": [
    "import numpy as np\n",
    "import h5py\n",
    "import os, sys\n",
    "import matplotlib.pyplot as plt\n",
    "from scipy.interpolate import CubicSpline\n",
    "from scipy.signal import savgol_filter\n",
    "import pandas as pd\n",
    "sys.path.remove(sys.path[0])\n",
    "\n",
    "sys.path.append('/Users/ajc/Core/codes/simulator/debug/ats/tools/utils/')\n",
    "import get_transect_data\n",
    "\n",
    "sys.path.append('/Users/ajc/Core/PreProcessing/PyScript')\n",
    "import readdata"
   ]
  },
  {
   "cell_type": "code",
   "execution_count": 2,
   "metadata": {},
   "outputs": [],
   "source": [
    "path = \"/Users/ajc/Core/simulations/barrow_icewedges/hydrologic_connection/ProjectionsO/\""
   ]
  },
  {
   "cell_type": "code",
   "execution_count": 3,
   "metadata": {},
   "outputs": [],
   "source": [
    "#Dec 15, 2020: ProjectionsO\n",
    "Simulations = [['CESM_C2%s'%i for i in range(3)], ['CESM_C1%s'%i for i in range(4)],['CESM_C3%s'%i for i in range(3)] ]# modified rain model, dessicated zone =0.1, longwaves\n",
    "Sim_name = ['S1','S2','S3']"
   ]
  },
  {
   "cell_type": "code",
   "execution_count": 4,
   "metadata": {},
   "outputs": [],
   "source": [
    "def getData(i,var_):\n",
    "    Data = []\n",
    "    Time = []\n",
    "    for s in Simulations[i]:\n",
    "        infile = os.path.join(path,s)\n",
    "        \n",
    "        Tim1, Dat1 = get_transect_data.get2DMatrix(infile,varnames=[var_])\n",
    "        a1 = len(Dat1[0,:,0,0])%73\n",
    "        a2 = len(Dat1[0,:,0,0]) - a1\n",
    "        \n",
    "        Tim = Tim1[:a2]\n",
    "        Dat = Dat1[:,:a2,:,:]\n",
    "        Time.append(Tim)\n",
    "        Data.append(Dat)     \n",
    "    d = dict()\n",
    "    key_v = Sim_name[i] + '_' + var_\n",
    "    key_t = Sim_name[i] + '_' + 'time'\n",
    "    d[key_v] = Data\n",
    "    d[key_t] = Time\n",
    "    \n",
    "    return d"
   ]
  },
  {
   "cell_type": "code",
   "execution_count": 5,
   "metadata": {},
   "outputs": [],
   "source": [
    "#[nvar-1,i,j,zlen-depth_s:zlen-depth_e]\n",
    "#d1 = getData(0)"
   ]
  },
  {
   "cell_type": "code",
   "execution_count": null,
   "metadata": {},
   "outputs": [],
   "source": []
  },
  {
   "cell_type": "code",
   "execution_count": 6,
   "metadata": {
    "code_folding": []
   },
   "outputs": [
    {
     "name": "stdout",
     "output_type": "stream",
     "text": [
      "3 709 45 85\n",
      "3 1515 45 85\n",
      "3 2182 45 85\n",
      "3 4774 45 85\n",
      "3 3499 45 85\n",
      "3 4700 45 85\n",
      "3 1375 45 85\n",
      "3 803 45 85\n",
      "3 1387 45 85\n",
      "3 219 45 85\n",
      "3 709 45 85\n",
      "3 1515 45 85\n",
      "3 2182 45 85\n",
      "3 4774 45 85\n",
      "3 3499 45 85\n",
      "3 4700 45 85\n",
      "3 1375 45 85\n",
      "3 1387 45 85\n",
      "3 803 45 85\n",
      "3 219 45 85\n",
      "3 709 45 85\n",
      "3 1515 45 85\n",
      "3 2182 45 85\n",
      "3 4774 45 85\n",
      "3 3499 45 85\n",
      "3 4700 45 85\n",
      "3 1375 45 85\n",
      "3 803 45 85\n",
      "3 1387 45 85\n",
      "3 219 45 85\n",
      "3 709 45 85\n",
      "3 1515 45 85\n",
      "3 2182 45 85\n",
      "3 4774 45 85\n",
      "3 3499 45 85\n",
      "3 4700 45 85\n",
      "3 1375 45 85\n",
      "3 803 45 85\n",
      "3 1387 45 85\n",
      "3 219 45 85\n"
     ]
    }
   ],
   "source": [
    "from multiprocessing import Pool\n",
    "from functools import partial\n",
    "num_processors = 3\n",
    "pool=Pool(processes = num_processors)\n",
    "\n",
    "def call_data(var):\n",
    "    global DataS1, DataS2, DataS3\n",
    "    prod_x=partial(getData, var_=var)\n",
    "    DataS1, DataS2, DataS3 = pool.map(prod_x,[i for i in range(len(Simulations))])\n",
    "    Data = [DataS1, DataS2,DataS3]\n",
    "    return Data"
   ]
  },
  {
   "cell_type": "code",
   "execution_count": 7,
   "metadata": {},
   "outputs": [],
   "source": [
    "def getData_All(var):\n",
    "    DataSimOrig = dict()\n",
    "    DataWC = call_data(var)\n",
    "    DataTemp = call_data(var='temperature')\n",
    "    DataPor = call_data(var='base_porosity')\n",
    "    DataSat = call_data(var='saturation_liquid')\n",
    "    DataVol = call_data(var='cell_volume')\n",
    "    for i in range(len(Sim_name)): #number of simulations\n",
    "        data_wc = []\n",
    "        L = len(Simulations[i])\n",
    "        Time = []\n",
    "        Wcontent  = []\n",
    "        for k in range(L): #k is for the number of directories for a simulation\n",
    "            key = list(DataWC[i].keys())[0] #[0] ='water_content', [1] = 'time'\n",
    "            key_temp = list(DataTemp[i].keys())[0]\n",
    "            key_time = list(DataWC[i].keys())[1] \n",
    "            key_por = list(DataPor[i].keys())[0]\n",
    "            key_sat = list(DataSat[i].keys())[0]\n",
    "            key_vol = list(DataVol[i].keys())[0]\n",
    "            #print (i, key)\n",
    "            data_time = np.array(DataWC[i][key_time][k])\n",
    "            data_wc = np.array(DataWC[i][key][k])\n",
    "            data_por = np.array(DataPor[i][key_por][k])\n",
    "            data_sat = np.array(DataSat[i][key_sat][k])\n",
    "            data_vol = np.array(DataVol[i][key_vol][k])\n",
    "            \n",
    "            data_temp = np.array(DataTemp[i][key_temp][k])\n",
    "            \n",
    "            print (data_wc.shape,data_temp.shape,data_time.shape)\n",
    "            nvar, cycles, xnum, znum = data_wc.shape\n",
    "\n",
    "            count = 1\n",
    "            count_summer = 0\n",
    "            sum1 = 0\n",
    "            for cyc in range(cycles):\n",
    "                temp_index = np.where(data_temp[nvar-1,cyc,:,:] >= 273.15)\n",
    "                dat = data_wc[nvar-1,cyc,:,:][temp_index]\n",
    "                sum1 = sum1 + np.sum(dat)\n",
    "                if (len(temp_index[0]) > 0):\n",
    "                    print ('TotalLength: ', len(temp_index[0]), temp_index)\n",
    "                    break\n",
    "                if (count%73 == 0):\n",
    "                    sum1 = sum1/(73.-count_summer)\n",
    "                    Wcontent.append(sum1/55555.)\n",
    "                    Time.append(data_time[cyc])\n",
    "                    sum1 = 0\n",
    "                count = count + 1\n",
    "                \n",
    "        DataSimOrig[Sim_name[i] + '_water_content'] = np.array(Wcontent)\n",
    "        DataSimOrig[Sim_name[i] + '_time'] = np.array(Time)\n",
    "    return DataSimOrig"
   ]
  },
  {
   "cell_type": "code",
   "execution_count": null,
   "metadata": {},
   "outputs": [],
   "source": []
  },
  {
   "cell_type": "code",
   "execution_count": 8,
   "metadata": {},
   "outputs": [],
   "source": [
    "def getDataMoisture_All(var):\n",
    "    DataSimOrig = dict()\n",
    "    #DataWC = call_data(var)\n",
    "    DataTemp = call_data(var='temperature')\n",
    "    DataPor = call_data(var='base_porosity')\n",
    "    DataSat = call_data(var='saturation_liquid')\n",
    "    DataVol = call_data(var='cell_volume')\n",
    "    for i in range(len(Sim_name)): #number of simulations\n",
    "        #data_wc = []\n",
    "        L = len(Simulations[i])\n",
    "        Time = []\n",
    "        Wcontent  = []\n",
    "        for k in range(L): #k is for the number of directories for a simulation\n",
    "            #key = list(DataWC[i].keys())[0] #[0] ='water_content', [1] = 'time'\n",
    "            key_temp = list(DataTemp[i].keys())[0]\n",
    "            key_time = list(DataTemp[i].keys())[1] \n",
    "            key_por = list(DataPor[i].keys())[0]\n",
    "            key_sat = list(DataSat[i].keys())[0]\n",
    "            key_vol = list(DataVol[i].keys())[0]\n",
    "            #print (i, key)\n",
    "            data_time = np.array(DataTemp[i][key_time][k])\n",
    "            #data_wc = np.array(DataWC[i][key][k])\n",
    "            data_por = np.array(DataPor[i][key_por][k])\n",
    "            data_sat = np.array(DataSat[i][key_sat][k])\n",
    "            data_vol = np.array(DataVol[i][key_vol][k])\n",
    "            \n",
    "            data_temp = np.array(DataTemp[i][key_temp][k])\n",
    "            \n",
    "            print (data_por.shape,data_temp.shape,data_time.shape)\n",
    "            nvar, cycles, xnum, znum = data_temp.shape\n",
    "\n",
    "            count = 1\n",
    "            count_summer = 0\n",
    "            sum1 = 0\n",
    "            sum1_vec = []\n",
    "            for cyc in range(cycles):\n",
    "                temp_index = np.where(data_temp[nvar-1,cyc,:,:] >= 273.15)\n",
    "                temp_index_z0 = np.where(data_temp[nvar-1,cyc,10,:] >= 273.15)\n",
    "               \n",
    "                \n",
    "                #if (len(temp_index[0]) > 0):# and temp_index_z0[-1][0] == 84):\n",
    "                if (len(temp_index_z0[0]) > 0 and temp_index_z0[-1][-1] == 84):\n",
    "                    \n",
    "                    #break\n",
    "                    #print ('T:', temp_index_z0)\n",
    "                    por = data_por[nvar-1,cyc,:,:][temp_index]\n",
    "                    sat = data_sat[nvar-1,cyc,:,:][temp_index]\n",
    "                    vol = data_vol[nvar-1,cyc,:,:][temp_index]\n",
    "                \n",
    "                    v1 = [x1*y1*z1 for x1,y1,z1 in zip(por,sat,vol)]\n",
    "                    sum1 = sum1 + np.sum(v1)\n",
    "                    count_summer = count_summer + 5/5.\n",
    "                    sum1_vec.append(np.sum(v1))\n",
    "                        \n",
    "                count = count + 1\n",
    "                if (count%73 == 0):\n",
    "                    #print (k, count_summer)\n",
    "                    sum1 = sum1/count_summer\n",
    "                    #sum1 = np.max(sum1_vec)\n",
    "                    #print ('S1c:',sum1, sum1_vec)\n",
    "                    #break\n",
    "                    Wcontent.append(sum1)\n",
    "                    Time.append(data_time[cyc])\n",
    "                    sum1 = 0\n",
    "                    sum1_vec = []\n",
    "                    count_summer = 0\n",
    "            \n",
    "        #print (i, len(Wcontent), len(Time), Time[0], Time[-1],count_summer)\n",
    "        DataSimOrig[Sim_name[i] + '_water_content'] = np.array(Wcontent)\n",
    "        DataSimOrig[Sim_name[i] + '_time'] = np.array(Time)\n",
    "    return DataSimOrig"
   ]
  },
  {
   "cell_type": "code",
   "execution_count": 9,
   "metadata": {},
   "outputs": [
    {
     "name": "stdout",
     "output_type": "stream",
     "text": [
      "(3, 1460, 45, 85) (3, 1460, 45, 85) (1460,)\n",
      "(3, 4672, 45, 85) (3, 4672, 45, 85) (4672,)\n",
      "(3, 803, 45, 85) (3, 803, 45, 85) (803,)\n",
      "(3, 657, 45, 85) (3, 657, 45, 85) (657,)\n",
      "(3, 4745, 45, 85) (3, 4745, 45, 85) (4745,)\n",
      "(3, 1314, 45, 85) (3, 1314, 45, 85) (1314,)\n",
      "(3, 219, 45, 85) (3, 219, 45, 85) (219,)\n",
      "(3, 2117, 45, 85) (3, 2117, 45, 85) (2117,)\n",
      "(3, 3431, 45, 85) (3, 3431, 45, 85) (3431,)\n",
      "(3, 1387, 45, 85) (3, 1387, 45, 85) (1387,)\n"
     ]
    }
   ],
   "source": [
    "DataSim = getDataMoisture_All(var='water_content')"
   ]
  },
  {
   "cell_type": "code",
   "execution_count": null,
   "metadata": {},
   "outputs": [],
   "source": []
  },
  {
   "cell_type": "code",
   "execution_count": 10,
   "metadata": {},
   "outputs": [],
   "source": [
    "def get_moving_average(d, m=5):\n",
    "    d_avg = []\n",
    "    len1 = len(d)\n",
    "    for i in range(len1):\n",
    "        if i < m:\n",
    "            s1 = np.mean(d[:i+1])\n",
    "        else:\n",
    "            s1= np.mean(d[i-m:i])\n",
    "\n",
    "        d_avg.append(s1)\n",
    "    return d_avg"
   ]
  },
  {
   "cell_type": "code",
   "execution_count": null,
   "metadata": {},
   "outputs": [],
   "source": []
  },
  {
   "cell_type": "code",
   "execution_count": 14,
   "metadata": {},
   "outputs": [],
   "source": [
    "to_day_year_mm = (86400 * 365) *1000 \n",
    "to_day_mm = (86400) *1000\n",
    "to_year = 365\n",
    "def getSurfaceData(i):\n",
    "    Data = []\n",
    "    var ='surface-water_content'\n",
    "    for s in Simulations[i]:\n",
    "        infile = os.path.join(path,s,'visdump_surface_data.h5')\n",
    "        dx=h5py.File(infile,'r')\n",
    "        Dat11 = np.array(readdata.GetSurfVarFromVis_All(infile,var)[var])\n",
    "        Dat11 = Dat11.mean(axis=1)/55300.\n",
    "        a1 = len(Dat11)%73\n",
    "        a2 = len(Dat11) - a1\n",
    "\n",
    "        Dat = Dat11[:a2]\n",
    "        Data.append(Dat)\n",
    "        \n",
    "    d = dict()\n",
    "    d[var] = np.concatenate(Data)\n",
    "    \n",
    "    return d"
   ]
  },
  {
   "cell_type": "code",
   "execution_count": 15,
   "metadata": {},
   "outputs": [],
   "source": [
    "from multiprocessing import Pool\n",
    "from functools import partial\n",
    "num_processors = 3\n",
    "pool=Pool(processes = num_processors)\n",
    "\n",
    "def call_data_surface():\n",
    "    global DataSurf1, DataSurf2, DataSurf3\n",
    "    prod_x=partial(getSurfaceData)\n",
    "    DataSurf1, DataSurf2, DataSurf3 = pool.map(prod_x,[i for i in range(len(Simulations))])\n",
    "    Data = [DataSurf1, DataSurf2, DataSurf3]\n",
    "    return Data"
   ]
  },
  {
   "cell_type": "code",
   "execution_count": 16,
   "metadata": {},
   "outputs": [
    {
     "data": {
      "text/plain": [
       "[{'surface-water_content': array([0.02387819, 0.023878  , 0.023878  , ..., 0.        , 0.        ,\n",
       "         0.        ])},\n",
       " {'surface-water_content': array([0.02387819, 0.023878  , 0.023878  , ..., 0.        , 0.        ,\n",
       "         0.        ])},\n",
       " {'surface-water_content': array([0.02387819, 0.02387819, 0.02387819, ..., 0.02268873, 0.02268864,\n",
       "         0.02268859])}]"
      ]
     },
     "execution_count": 16,
     "metadata": {},
     "output_type": "execute_result"
    }
   ],
   "source": [
    "call_data_surface()"
   ]
  },
  {
   "cell_type": "code",
   "execution_count": null,
   "metadata": {},
   "outputs": [],
   "source": []
  },
  {
   "cell_type": "code",
   "execution_count": null,
   "metadata": {},
   "outputs": [],
   "source": [
    "%matplotlib qt\n",
    "outfile='/Users/ajc/Documents/MyPapers/TroughHydrodynamics/figures/Dec22_uniform_om/'\n",
    "def Plot_WaterContent():\n",
    "    fig, axs = plt.subplots(1,1, figsize=(5,3.5), facecolor='w', edgecolor='k',gridspec_kw={'width_ratios':[1]})\n",
    "    fig.subplots_adjust(hspace =.02, wspace=1.02)\n",
    "    \n",
    "    plt.tight_layout()\n",
    "    #axs = axs.ravel()\n",
    "    xpos = np.array([0, 1,2,3])\n",
    "\n",
    "    Labels = ['no-flow', 'free-flow', 'hybrid-flow']\n",
    "    Labels = ['zero-head','specified-head','dynamic-head']\n",
    "    Colors = ['k','b','r','r']\n",
    "    T = ['a','b','c','d']\n",
    "    Keys = list(DataSim.keys())\n",
    "    Data_temp = []\n",
    "    for i in range(3):\n",
    "        d = DataSim[Keys[2*i]]\n",
    "        d1 = [x for x in d]\n",
    "        d_avg5yr = get_moving_average(d1,m=5)\n",
    "        print (i, len(d_avg5yr), len(d))\n",
    "        init = d_avg5yr[0]\n",
    "        d_avg5yr = [x/init for x in d_avg5yr]\n",
    "        axs.plot(2005 + DataSim[Keys[2*i+1]], d_avg5yr,color=Colors[i],label=Labels[i])\n",
    "        \n",
    "        axs.set_xlim((2006, 2100))\n",
    "        axs.set_xlabel('Year',fontsize=12, fontweight='normal')\n",
    "        \n",
    "        axs.set_ylabel('Normalized soil moisture',fontsize=12, fontweight='normal')\n",
    "        axs.legend(loc='upper left',labelspacing=.1)\n",
    "        Data_temp.append(d_avg5yr)\n",
    "        print('---------')\n",
    "    Data_temp1 = np.reshape(Data_temp,(3,-1))\n",
    "    #plt.savefig(outfile+'normalized-moisture_ALT-5yr_avg.pdf', bbox_inches='tight', dpi=500)\n",
    "    #np.savetxt(outfile+'normalized-moisture_ALT-5yr_avg.dat', Data_temp1)\n",
    "    plt.show()\n",
    "\n"
   ]
  },
  {
   "cell_type": "code",
   "execution_count": null,
   "metadata": {},
   "outputs": [],
   "source": [
    "Plot_WaterContent()"
   ]
  },
  {
   "cell_type": "markdown",
   "metadata": {},
   "source": [
    "# STOP HERE"
   ]
  },
  {
   "cell_type": "code",
   "execution_count": null,
   "metadata": {},
   "outputs": [],
   "source": []
  }
 ],
 "metadata": {
  "kernelspec": {
   "display_name": "Python 3",
   "language": "python",
   "name": "python3"
  },
  "language_info": {
   "codemirror_mode": {
    "name": "ipython",
    "version": 3
   },
   "file_extension": ".py",
   "mimetype": "text/x-python",
   "name": "python",
   "nbconvert_exporter": "python",
   "pygments_lexer": "ipython3",
   "version": "3.7.6"
  }
 },
 "nbformat": 4,
 "nbformat_minor": 2
}
