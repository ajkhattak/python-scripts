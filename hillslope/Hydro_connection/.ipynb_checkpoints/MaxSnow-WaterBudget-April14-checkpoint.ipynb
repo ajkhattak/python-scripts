{
 "cells": [
  {
   "cell_type": "markdown",
   "metadata": {},
   "source": [
    "# Date: March 10, Total mass balance using water content"
   ]
  },
  {
   "cell_type": "code",
   "execution_count": 1,
   "metadata": {},
   "outputs": [
    {
     "name": "stdout",
     "output_type": "stream",
     "text": [
      "Using matplotlib backend: MacOSX\n"
     ]
    }
   ],
   "source": [
    "%matplotlib"
   ]
  },
  {
   "cell_type": "code",
   "execution_count": 2,
   "metadata": {},
   "outputs": [],
   "source": [
    "import numpy as np\n",
    "import h5py\n",
    "import os, sys\n",
    "import matplotlib.pyplot as plt\n",
    "from scipy.interpolate import CubicSpline\n",
    "from scipy.signal import savgol_filter\n",
    "import pandas as pd\n",
    "sys.path.append('/Users/ajc/CODES/ats/tools/utils/')\n",
    "import get_transect_data"
   ]
  },
  {
   "cell_type": "code",
   "execution_count": 3,
   "metadata": {},
   "outputs": [],
   "source": [
    "varnames = ['water_content','molar_density_liquid']\n",
    "Data_B = dict()\n",
    "infile='/Users/ajc/mytests/simulations/hillslope/2019/MaxSnow/MS_B_1R1/'\n",
    "Time, Data = get_transect_data.get2DMatrix(infile,varnames[0])\n",
    "Data_B[varnames[0]] = np.array(Data)\n",
    "Time, Data = get_transect_data.get2DMatrix(infile,varnames[1])\n",
    "Data_B[varnames[1]] = np.array(Data)\n",
    "Data_B['time'] = np.array(Time)"
   ]
  },
  {
   "cell_type": "code",
   "execution_count": 4,
   "metadata": {},
   "outputs": [],
   "source": [
    "Data_S30 = dict()\n",
    "infile='/Users/ajc/mytests/simulations/hillslope/2019/MaxSnow/MS_S30_1R1/'\n",
    "Time, Data = get_transect_data.get2DMatrix(infile,varnames[0])\n",
    "Data_S30[varnames[0]] = np.array(Data)\n",
    "Time, Data = get_transect_data.get2DMatrix(infile,varnames[1])\n",
    "Data_S30[varnames[1]] = np.array(Data)\n",
    "Data_S30['time'] = np.array(Time)"
   ]
  },
  {
   "cell_type": "code",
   "execution_count": null,
   "metadata": {},
   "outputs": [],
   "source": []
  },
  {
   "cell_type": "code",
   "execution_count": 5,
   "metadata": {},
   "outputs": [],
   "source": [
    "Data_S60 = dict()\n",
    "infile='/Users/ajc/mytests/simulations/hillslope/2019/MaxSnow/MS_S60_1R1/'\n",
    "Time, Data = get_transect_data.get2DMatrix(infile,varnames[0])\n",
    "Data_S60[varnames[0]] = np.array(Data)\n",
    "Time, Data = get_transect_data.get2DMatrix(infile,varnames[1])\n",
    "Data_S60[varnames[1]] = np.array(Data)\n",
    "Data_S60['time'] = np.array(Time)"
   ]
  },
  {
   "cell_type": "code",
   "execution_count": 6,
   "metadata": {},
   "outputs": [],
   "source": [
    "Data_S90 = dict()\n",
    "infile='/Users/ajc/mytests/simulations/hillslope/2019/MaxSnow/MS_S90_1R1/'\n",
    "Time, Data = get_transect_data.get2DMatrix(infile,varnames[0])\n",
    "Data_S90[varnames[0]] = np.array(Data)\n",
    "Time, Data = get_transect_data.get2DMatrix(infile,varnames[1])\n",
    "Data_S90[varnames[1]] = np.array(Data)\n",
    "Data_S90['time'] = np.array(Time)"
   ]
  },
  {
   "cell_type": "code",
   "execution_count": null,
   "metadata": {},
   "outputs": [],
   "source": []
  },
  {
   "cell_type": "code",
   "execution_count": null,
   "metadata": {},
   "outputs": [],
   "source": []
  },
  {
   "cell_type": "code",
   "execution_count": null,
   "metadata": {},
   "outputs": [],
   "source": []
  },
  {
   "cell_type": "code",
   "execution_count": 30,
   "metadata": {},
   "outputs": [],
   "source": [
    "# return total water content in the system\n",
    "def get_water_content(season = \" \"):\n",
    "    #25 * 2cm = 50 cm\n",
    "    data = []\n",
    "    dataDensity = []\n",
    "    times = []\n",
    "    if season == \"B\":\n",
    "        data = Data_B[varnames[0]]\n",
    "        dataDensity = Data_B[varnames[1]]\n",
    "        times = Data_B['time']\n",
    "    elif season == \"S30\":\n",
    "        data = Data_S30[varnames[0]]\n",
    "        dataDensity = Data_S30[varnames[1]]\n",
    "        times = Data_S30['time']\n",
    "    elif season == \"S60\":\n",
    "        data = Data_S60[varnames[0]]\n",
    "        dataDensity = Data_S60[varnames[1]]\n",
    "        times = Data_S60['time']\n",
    "    elif season == \"S90\":\n",
    "        data = Data_S90[varnames[0]]\n",
    "        dataDensity = Data_S90[varnames[1]]\n",
    "        times = Data_S90['time']\n",
    "        \n",
    "    nvar, cycles, xnum, znum = data.shape\n",
    "    HillslopeT = dict()\n",
    "    \n",
    "    AvgTemp = np.zeros(cycles)\n",
    "    MaxTemp = np.zeros(cycles)\n",
    "    MinTemp = np.zeros(cycles)\n",
    "    #print depth\n",
    "    #depth_cm = data[1,0,0,80] - data[1,0,0,80-depth]\n",
    "    #print (season, start, end, depth_s, depth_e)\n",
    "    \n",
    "    for cyc in range(cycles):\n",
    "        sum1= 0\n",
    "        for ix in range(100):\n",
    "            for iz in range(81):\n",
    "                sum1 = sum1 + data[nvar-1,cyc,ix,iz]#/dataDensity[nvar-1,cyc,ix,iz]\n",
    "                #AvgTemp[i] = np.mean(data[nvar-1,i,:,:])\n",
    "        AvgTemp[cyc] = sum1 #np.mean(data[nvar-1,i,:,:])\n",
    "    L = len(AvgTemp)%365\n",
    "    HillslopeT['times'] = np.array(times)\n",
    "    HillslopeT_Avg = np.array(AvgTemp)   \n",
    "    HillslopeT['temp-daily_avg'] = HillslopeT_Avg\n",
    "    HillslopeT['temp-annual_avg'] = np.reshape(HillslopeT_Avg[0:-L], (-1,365)).mean(axis=1)\n",
    "\n",
    "    return HillslopeT\n"
   ]
  },
  {
   "cell_type": "code",
   "execution_count": 31,
   "metadata": {},
   "outputs": [],
   "source": [
    "scenarios = ['B', 'S30', 'S60', 'S90']\n",
    "permafrost = ['ALT', 'shallower', 'shallow', 'deep', 'deeper', 'deepest', 'lower']\n",
    "depth1 = [[0,26],[26,46],[46,54],[54,64],[64,70],[70,75], [75,80]] # active layer, 0.5-2 m, 2-3.5m"
   ]
  },
  {
   "cell_type": "code",
   "execution_count": 32,
   "metadata": {},
   "outputs": [],
   "source": [
    "# return water content in the layers/intervals\n",
    "def get_water_content_layers(season = \" \", start=0, end=-1,depth_s=-1,depth_e=-1):\n",
    "    data = []\n",
    "    dataDensity = []\n",
    "    times = []\n",
    "    if season == \"B\":\n",
    "        data = Data_B[varnames[0]]\n",
    "        dataDensity = Data_B[varnames[1]]\n",
    "        times = Data_B['time']\n",
    "    elif season == \"S30\":\n",
    "        data = Data_S30[varnames[0]]\n",
    "        dataDensity = Data_S30[varnames[1]]\n",
    "        times = Data_S30['time']\n",
    "    elif season == \"S60\":\n",
    "        data = Data_S60[varnames[0]]\n",
    "        dataDensity = Data_S60[varnames[1]]\n",
    "        times = Data_S60['time']\n",
    "    elif season == \"S90\":\n",
    "        data = Data_S90[varnames[0]]\n",
    "        dataDensity = Data_S90[varnames[1]]\n",
    "        times = Data_S90['time']\n",
    "        \n",
    "    nvar, cycles, xnum, znum = data.shape\n",
    "    HillslopeWC = dict()\n",
    "    \n",
    "    AvgTemp = np.zeros(cycles)\n",
    "    MaxTemp = np.zeros(cycles)\n",
    "    MinTemp = np.zeros(cycles)\n",
    "    \n",
    "    for cyc in range(cycles):\n",
    "        sum1= 0\n",
    "        for ix in range(100):\n",
    "            for iz in range(81-depth_e,81-depth_s):\n",
    "                \n",
    "                sum1 = sum1 + data[nvar-1,cyc,ix,iz]#/dataDensity[nvar-1,cyc,ix,iz]\n",
    "                \n",
    "        AvgTemp[cyc] = sum1\n",
    "        \n",
    "    L = len(AvgTemp)%365\n",
    "    HillslopeWC['times'] = np.array(times)\n",
    "    HillslopeWC_Avg = np.array(AvgTemp)   \n",
    "    HillslopeWC['temp-daily_avg'] = HillslopeWC_Avg\n",
    "    HillslopeWC['temp-annual_avg'] = np.reshape(HillslopeWC_Avg[:-L], (-1,365)).mean(axis=1)\n",
    "\n",
    "    return HillslopeWC\n",
    "\n",
    "        "
   ]
  },
  {
   "cell_type": "code",
   "execution_count": null,
   "metadata": {},
   "outputs": [],
   "source": []
  },
  {
   "cell_type": "code",
   "execution_count": 33,
   "metadata": {},
   "outputs": [],
   "source": [
    "# for total water content in the system\n",
    "Data_avg_WC = dict()\n",
    "scenarios = ['B', 'S30', 'S60', 'S90']\n",
    "\n",
    "for s in scenarios:\n",
    "    d = get_water_content(s)\n",
    "    Data_avg_WC[s + '_temp'] = d['temp-annual_avg']\n",
    "    Data_avg_WC[s + 'daily_temp'] = d['temp-daily_avg']\n",
    "    Data_avg_WC[s + '_time'] = d['times']"
   ]
  },
  {
   "cell_type": "code",
   "execution_count": 37,
   "metadata": {},
   "outputs": [
    {
     "name": "stdout",
     "output_type": "stream",
     "text": [
      "(3041.7200000753073, 3041.5805468520925, 0.1394532232147867)\n"
     ]
    }
   ],
   "source": [
    "print (Data_avg_WC['Bdaily_temp'][-1]/55555.,Data_avg_WC['S90daily_temp'][-1]/55555., Data_avg_WC['Bdaily_temp'][-1]/55555. - Data_avg_WC['S90daily_temp'][-1]/55555.)"
   ]
  },
  {
   "cell_type": "code",
   "execution_count": 35,
   "metadata": {},
   "outputs": [],
   "source": [
    "# for water content in the layers\n",
    "start1_,end1_, = 0,-1\n",
    "Data_avg_WC_layer = dict()\n",
    "scenarios = ['B', 'S30', 'S60', 'S90']\n",
    "#permafrost = ['top', 'shallow', 'deep']\n",
    "for i in range(len(permafrost)):\n",
    "    for s in scenarios:\n",
    "        d = get_water_content_layers(s,start=start1_,end=end1_,depth_s=depth1[i][0],depth_e=depth1[i][1])\n",
    "        Data_avg_WC_layer[s + '_' + permafrost[i] + '_temp'] = d['temp-annual_avg']\n",
    "        Data_avg_WC_layer[s + '_daily' + '_' + permafrost[i] + '_temp'] = d['temp-annual_avg']\n",
    "        Data_avg_WC_layer[s + '_' + permafrost[i] +'_time'] = d['times']"
   ]
  },
  {
   "cell_type": "code",
   "execution_count": null,
   "metadata": {},
   "outputs": [],
   "source": [
    "sumB = 0\n",
    "sumS30 =0\n",
    "sumS60 =0\n",
    "sumS90 =0\n",
    "\n",
    "K1 = ['ALT', 'shallower', 'shallow_', 'deep_', 'deeper_','deepest_','_lower'] \n",
    "for key in Data_avg_WC_layer.keys():\n",
    "    K = K1[6]\n",
    "    if 'B' in key and K in key and 'time' not in key:\n",
    "        print (key, Data_avg_WC_layer[key][-1])\n",
    "        sumB = sumB + Data_avg_WC_layer[key][-1]\n",
    "        #print (key, sumB)\n",
    "    if 'S30' in key and K in key and 'time' not in key:\n",
    "        sumS30 = sumS30 + Data_avg_WC_layer[key][-1]\n",
    "    if 'S60' in key and K in key and 'time' not in key:\n",
    "        sumS60 = sumS60 + Data_avg_WC_layer[key][-1]\n",
    "    if 'S90' in key and K in key and 'time' not in key:\n",
    "        sumS90 = sumS90 + Data_avg_WC_layer[key][-1]\n",
    "#3043, \n",
    "print ( np.round(sumB,4), np.round(sumS30,4), np.round(sumS60,4), np.round(sumS90,4))"
   ]
  },
  {
   "cell_type": "code",
   "execution_count": null,
   "metadata": {},
   "outputs": [],
   "source": []
  },
  {
   "cell_type": "code",
   "execution_count": null,
   "metadata": {},
   "outputs": [],
   "source": [
    "x1 = [32.2832, 32.2598, 32.2444, 32.1897]\n",
    "x2 =  [81.9271, 81.9211, 81.9165, 81.9176]\n",
    "x3 =  [83.9, 83.8954, 83.8892, 83.8772]\n",
    "x4 =  [261.7341, 261.7226, 261.7068, 261.676]\n",
    "x5 =  [376.4685, 376.4558, 376.4376, 376.4017]\n",
    "x6 =  [584.2781, 584.2647, 584.2454, 584.2065]\n",
    "x7 =  [1623.2563, 1623.2453, 1623.2294, 1623.1963]"
   ]
  },
  {
   "cell_type": "code",
   "execution_count": null,
   "metadata": {},
   "outputs": [],
   "source": [
    "print (x1[0] - x1[-1])\n",
    "print (x2[0] - x2[-1])\n",
    "print (x3[0] - x3[-1])\n",
    "print (x4[0] - x4[-1])\n",
    "print (x5[0] - x5[-1])\n",
    "print (x6[0] - x6[-1])\n",
    "print (x7[0] - x7[-1])"
   ]
  },
  {
   "cell_type": "code",
   "execution_count": null,
   "metadata": {},
   "outputs": [],
   "source": [
    "print (0.0935 + 0.0095 + 0.0228 + 0.0581 + 0.0668 + 0.0716 + 0.0599)"
   ]
  },
  {
   "cell_type": "code",
   "execution_count": 46,
   "metadata": {},
   "outputs": [
    {
     "name": "stdout",
     "output_type": "stream",
     "text": [
      "('B_daily_lower_temp', 51300357.350473054)\n",
      "(923.4157, 923.4157, 923.4157, 923.4157)\n"
     ]
    }
   ],
   "source": [
    "#end of simulation\n",
    "sumB = 0\n",
    "sumS30 =0\n",
    "sumS60 =0\n",
    "sumS90 =0\n",
    "\n",
    "K1 = ['ALT', 'shallower', 'shallow_', 'deep_', 'deeper_','deepest_','_lower'] \n",
    "for key in Data_avg_WC_layer.keys():\n",
    "    K = K1[6]\n",
    "    if '_daily' in key and 'time' not in key:\n",
    "        if 'B' in key and K in key:\n",
    "            print (key, Data_avg_WC_layer[key][-1])\n",
    "            sumB = sumB + Data_avg_WC_layer[key][-1]\n",
    "            #print (key, sumB)\n",
    "        if 'S30' in key and K in key:\n",
    "            sumS30 = sumS30 + Data_avg_WC_layer[key][-1]\n",
    "        if 'S60' in key and K in key:\n",
    "            sumS60 = sumS60 + Data_avg_WC_layer[key][-1]\n",
    "        if 'S90' in key and K in key:\n",
    "            sumS90 = sumS90 + Data_avg_WC_layer[key][-1]\n",
    "#3043, \n",
    "print ( np.round(sumB/55555.,4), np.round(sumS30/55555.,4), np.round(sumS60/55555.,4), np.round(sumS90/55555.,4))"
   ]
  },
  {
   "cell_type": "code",
   "execution_count": 47,
   "metadata": {},
   "outputs": [
    {
     "name": "stdout",
     "output_type": "stream",
     "text": [
      "0.1135\n",
      "-0.033\n",
      "0.0\n",
      "0.0\n",
      "0.0\n",
      "0.0\n",
      "2602.5789\n",
      "2602.4358\n"
     ]
    }
   ],
   "source": [
    "#x1 = [31.8613, 31.8312, 31.806, 31.7334]\n",
    "#x2 = [ 76.2245, 76.221, 76.2209, 76.2299]\n",
    "#x3 = [ 78.0564, 78.052, 78.0461, 78.0347]\n",
    "#x4 = [ 233.6798, 233.6693, 233.6549, 233.6268]\n",
    "#x5 = [ 336.0121, 336.0002, 335.9832, 335.9499]\n",
    "#x6 = [ 521.0415, 521.0283, 521.0093, 520.9713]\n",
    "#x7 = [ 924.4129, 924.4014, 924.3846, 924.3503]\n",
    "x1 = [31.7985, 31.7713, 31.75, 31.685]\n",
    "x2 = [76.0988, 76.1008, 76.1081, 76.1318]\n",
    "x3 = [77.9434, 77.9434, 77.9434, 77.9434]\n",
    "x4 = [233.354, 233.354, 233.354, 233.354]\n",
    "x5 = [335.5556, 335.5556, 335.5556, 335.5556]\n",
    "x6 = [520.38, 520.38, 520.38, 520.38]\n",
    "x6 = [923.4157, 923.4157, 923.4157, 923.4157]\n",
    "print (x1[0] - x1[-1])\n",
    "print (x2[0] - x2[-1])\n",
    "print (x3[0] - x3[-1])\n",
    "print (x4[0] - x4[-1])\n",
    "print (x5[0] - x5[-1])\n",
    "print (x6[0] - x6[-1])\n",
    "print (x1[0]+x2[0]+x3[0] +x4[0]+x5[0]+x6[0] +x7[0])\n",
    "print (x1[3]+x2[3]+x3[3] +x4[3]+x5[3]+x6[3] +x7[3])"
   ]
  },
  {
   "cell_type": "code",
   "execution_count": 84,
   "metadata": {},
   "outputs": [],
   "source": [
    "# Three zones : Active layer, shallow permafrost, deep permafrost\n",
    "outfile='/Users/ajc/Desktop/maxsnow/'\n",
    "def Plot_Wetlands_Uplands():\n",
    "    fig, axs = plt.subplots(3,1, figsize=(6,6), facecolor='w', edgecolor='k',gridspec_kw={'width_ratios':[1]})\n",
    "    fig.subplots_adjust(hspace =.02, wspace=1.02)\n",
    "    TempC = 273.15*0\n",
    "    plt.tight_layout()\n",
    "    axs = axs.ravel()\n",
    "    xpos = np.array([0, 1,2,3])\n",
    "    Xticks = [r'S$_{0}$', r'S$_{30}$', r'S$_{60}$', r'S$_{90}$']\n",
    "    \n",
    "    ax1=plt.subplot(311)\n",
    "    X = x1\n",
    "\n",
    "    ax1.bar(xpos,X,align='center', alpha=1.0, color=['k', 'g','b','r'], width=0.25,edgecolor='black')\n",
    "    \n",
    "    ax1.set_xticks(xpos)\n",
    "    ax1.set_xticklabels(Xticks,fontsize=10, fontweight='normal')\n",
    "\n",
    "    ax1.set_ylabel('Water content [m$^3$]',fontsize=10, fontweight='normal')\n",
    "    ax1.set_ylim((31.6, 31.82))\n",
    "    ax1.text(0.5, -3.85, 'Active layer',fontsize=10, fontweight='normal')\n",
    "    plt.tight_layout()\n",
    "    \n",
    "    # Up land\n",
    "    ax1=plt.subplot(312)\n",
    "    X = x2\n",
    "    ax1.bar(xpos,X,align='center', alpha=1.0, color=['k', 'g','b','r'], width=0.25,edgecolor='black')\n",
    "    \n",
    "    ax1.set_xticks(xpos)\n",
    "    ax1.set_xticklabels(Xticks,fontsize=10, fontweight='normal')\n",
    "\n",
    "    #ax1.set_ylim((-7, 0))\n",
    "    \n",
    "    ax1.text(0.5, -6.85, 'Active layer',fontsize=10, fontweight='normal')\n",
    "    plt.tight_layout()\n",
    "    \n",
    "    # --------------------------------- MANIMUM ---------------------------\n",
    "    ax3=plt.subplot(313)\n",
    "    X = x3\n",
    "    ax3.bar(xpos,X,align='center', alpha=1.0, color=['k', 'g','b','r'], width=0.25,edgecolor='black')\n",
    "       \n",
    "    ax3.set_xticks(xpos)\n",
    "    ax3.set_xticklabels(Xticks,fontsize=10, fontweight='normal')\n",
    "\n",
    "    ax3.set_ylabel(u'Soil temperature [\\u00B0C]',fontsize=10, fontweight='normal')\n",
    "    \n",
    "    ax3.set_ylim((-4, 0))\n",
    "    ax3.text(0.5, -3.85, 'Shallower permafrost',fontsize=10, fontweight='normal')\n",
    "    \n",
    "    \n",
    "\n",
    "    ax3.set_ylabel(u'Soil temperature [\\u00B0C]',fontsize=10, fontweight='normal')\n",
    "    ax3.set_xlabel('Numerical scenario',fontsize=11, fontweight='normal')\n",
    "    ax3.set_ylim((-4, 0))\n",
    "    ax3.text(0.5, -3.85, 'Shallow permafrost',fontsize=10, fontweight='normal')\n",
    "    \n",
    "    \n",
    "    # --------------------------------- Annual time series ---------------------------\n",
    "\n",
    "    ax3.set_ylim((-7, 0))    \n",
    "    #ax3.legend(loc='lower right', fontsize=8,labelspacing=0.01,bbox_to_anchor=(0.9,-0.01, .1, .1))\n",
    "    #plt.tight_layout()\n",
    "    \n",
    "    \n",
    "    #plt.savefig(outfile+'avg-temp-3zones.pdf', bbox_inches='tight', dpi=100)\n",
    "    "
   ]
  },
  {
   "cell_type": "code",
   "execution_count": 85,
   "metadata": {},
   "outputs": [],
   "source": [
    "Plot_Wetlands_Uplands()"
   ]
  },
  {
   "cell_type": "code",
   "execution_count": 98,
   "metadata": {},
   "outputs": [],
   "source": [
    "# Three zones : Active layer, shallow permafrost, deep permafrost\n",
    "outfile='/Users/ajc/Desktop/maxsnow/'\n",
    "def plot_water_content():\n",
    "    fig, axs = plt.subplots(1,1, figsize=(4,4), facecolor='w', edgecolor='k',gridspec_kw={'width_ratios':[1]})\n",
    "    fig.subplots_adjust(hspace =.02, wspace=1.02)\n",
    "    color=['k', 'g','b','r']\n",
    "    \n",
    "    \n",
    "    plt.tight_layout()\n",
    "    #axs = axs.ravel()\n",
    "    xpos = np.array([0, 1,2,3])\n",
    "    Xticks = [r'S$_{0}$', r'S$_{30}$', r'S$_{60}$', r'S$_{90}$']\n",
    "    \n",
    "    ax1=plt.subplot(111)\n",
    "    X = x1#[Data_avg_WC[ 'B_temp'][-1], Data_avg_WC[ 'S30_temp'][-1], Data_avg_WC[ 'S60_temp'][-1],Data_avg_WC[ 'S90_temp'][-1]]\n",
    "    \n",
    "    ax1.bar(xpos,X,align='center', alpha=1.0, color=['k', 'g','b','r'], width=0.25,edgecolor='black')\n",
    "       \n",
    "    ax1.set_xticks(xpos)\n",
    "    ax1.set_xticklabels(Xticks,fontsize=10, fontweight='normal')\n",
    "    ax1.set_title('Active layer water content',fontsize=12, fontweight='normal')\n",
    "    ax1.set_ylabel('Water content [m$^3$]',fontsize=12, fontweight='normal')\n",
    "    ax1.set_xlabel('Numerical scenario',fontsize=12, fontweight='normal')\n",
    "    ax1.set_ylim((31.6, 31.85))    \n",
    "     \n",
    "        \n",
    "    plt.tight_layout()\n",
    "    \n",
    "    plt.savefig(outfile+'water_budget-ALT.pdf', bbox_inches='tight', dpi=100)\n",
    "    "
   ]
  },
  {
   "cell_type": "code",
   "execution_count": 99,
   "metadata": {},
   "outputs": [],
   "source": [
    "plot_water_content()"
   ]
  },
  {
   "cell_type": "code",
   "execution_count": null,
   "metadata": {},
   "outputs": [],
   "source": []
  },
  {
   "cell_type": "code",
   "execution_count": null,
   "metadata": {},
   "outputs": [],
   "source": [
    "d=h5py.File('/Users/ajc/mytests/simulations/hillslope/2019/MaxSnow/MS_B_1R1/visdump_surface_data.h5','r')\n",
    "d1=d['surface-water_content.cell.0']\n",
    "d2=d['surface-molar_density_liquid.cell.0']\n",
    "\n",
    "c1 = sorted(d1.keys(),key=int)\n",
    "print (len(d['surface-water_content.cell.0'][c1[-1]]))\n",
    "#print (list(d2[c1[-1]]))\n",
    "sum1 = 0\n",
    "for ds,dd  in zip(d['surface-water_content.cell.0'][c1[-1]], d['surface-molar_density_liquid.cell.0'][c1[-1]]):\n",
    "    sum1 = sum1 + ds/dd\n",
    "surf_B = sum1\n",
    "print ('B', surf_B)\n",
    "#surf_B=sum(d['surface-water_content.cell.0'][c1[-1]])/55555.\n",
    "#print ('B', surf_B)\n",
    "\n",
    "d=h5py.File('/Users/ajc/mytests/simulations/hillslope/2019/MaxSnow/MS_S30_1R1/visdump_surface_data.h5','r')\n",
    "d1=d['surface-water_content.cell.0']\n",
    "c1 = sorted(d1.keys(),key=int)\n",
    "#print (c1[-1])\n",
    "sum1 = 0\n",
    "for ds,dd  in zip(d['surface-water_content.cell.0'][c1[-1]], d['surface-molar_density_liquid.cell.0'][c1[-1]]):\n",
    "    sum1 = sum1 + ds/dd\n",
    "    \n",
    "surf_S30=sum1#sum(d['surface-water_content.cell.0'][c1[-1]])/55555.\n",
    "print ('S30', surf_S30)\n",
    "\n",
    "d=h5py.File('/Users/ajc/mytests/simulations/hillslope/2019/MaxSnow/MS_S60_1R1/visdump_surface_data.h5','r')\n",
    "d1=d['surface-water_content.cell.0']\n",
    "c1 = sorted(d1.keys(),key=int)\n",
    "\n",
    "sum1 = 0\n",
    "for ds,dd  in zip(d['surface-water_content.cell.0'][c1[-1]], d['surface-molar_density_liquid.cell.0'][c1[-1]]):\n",
    "    sum1 = sum1 + ds/dd\n",
    "surf_S60=sum1 #sum(d['surface-water_content.cell.0'][c1[-1]])/55555.\n",
    "print ('S60 ', surf_S60)\n",
    "\n",
    "d=h5py.File('/Users/ajc/mytests/simulations/hillslope/2019/MaxSnow/MS_S90_1R1/visdump_surface_data.h5','r')\n",
    "d1=d['surface-water_content.cell.0']\n",
    "c1 = sorted(d1.keys(),key=int)\n",
    "\n",
    "sum1=0\n",
    "for ds,dd  in zip(d['surface-water_content.cell.0'][c1[-1]], d['surface-molar_density_liquid.cell.0'][c1[-1]]):\n",
    "    sum1 = sum1 + ds/dd\n",
    "surf_S90=sum1 #sum(d['surface-water_content.cell.0'][c1[-1]])/55555.\n",
    "print ('S90', surf_S90)\n",
    "\n",
    "#print (11.7 + Data_avg_WC[ 'B_temp'][-1]) # 11.7 is discharge\n",
    "#print (12. + Data_avg_WC[ 'S30_temp'][-1])\n",
    "#print (12.125 + Data_avg_WC[ 'S60_temp'][-1])\n",
    "#print (12.25 + Data_avg_WC[ 'S90_temp'][-1])\n",
    "\n",
    "print (\"----------\")\n",
    "print (Data_avg_WC['B_temp'][-1])\n",
    "print (Data_avg_WC['S30_temp'][-1])\n",
    "print (Data_avg_WC['S60_temp'][-1])\n",
    "print (Data_avg_WC['S90_temp'][-1])"
   ]
  },
  {
   "cell_type": "code",
   "execution_count": null,
   "metadata": {},
   "outputs": [],
   "source": [
    "WC_surf = [surf_B,surf_S30,surf_S60,surf_S90]\n",
    "print (WC_surf)"
   ]
  },
  {
   "cell_type": "code",
   "execution_count": null,
   "metadata": {},
   "outputs": [],
   "source": [
    "\n",
    "#Evaporation\n",
    "d=h5py.File('/Users/ajc/mytests/simulations/hillslope/2019/MaxSnow/MS_B_1R1/visdump_surface_data.h5','r')\n",
    "key_evap = 'surface-evaporative_flux.cell.0'\n",
    "key_sm = 'surface-snowmelt.cell.0'\n",
    "d1=d[key_evap]\n",
    "\n",
    "\n",
    "c1 = sorted(d1.keys(),key=int)\n",
    "#print (c1[-365],c1[-1])\n",
    "surf_B = []\n",
    "surf_B_snow = []\n",
    "\n",
    "for i in c1[-365:]:\n",
    "    #print (i)\n",
    "    ds = d[key_evap][i]\n",
    "    sum1 = np.sum(ds)*86400 # Area = 1 x 1 m^2\n",
    "    surf_B.append(sum1)\n",
    "\n",
    "    #ds = d[key_sm][c1[-i]]\n",
    "    #sum1 = np.sum(ds)*86400 # Area = 1 x 1 m^2\n",
    "    #surf_B_snow.append(sum1)\n",
    "    \n",
    "#print ('B', surf_B)\n",
    "\n",
    "d=h5py.File('/Users/ajc/mytests/simulations/hillslope/2019/MaxSnow/MS_S30_1R1/visdump_surface_data.h5','r')\n",
    "d1=d['surface-water_content.cell.0']\n",
    "c1 = sorted(d1.keys(),key=int)\n",
    "\n",
    "surf_S30 = []\n",
    "surf_S30_snow = []\n",
    "for i in c1[-365:]:\n",
    "    #print (i)\n",
    "    ds = d[key_evap][i]\n",
    "    sum1 = np.sum(ds)*86400\n",
    "    surf_S30.append(sum1)\n",
    "\n",
    "    #ds = d[key_sm][c1[-i]]\n",
    "    #sum1 = np.sum(ds)*86400 # Area = 1 x 1 m^2\n",
    "    #surf_S30_snow.append(sum1)\n",
    "    \n",
    "d=h5py.File('/Users/ajc/mytests/simulations/hillslope/2019/MaxSnow/MS_S60_1R1/visdump_surface_data.h5','r')\n",
    "d1=d['surface-water_content.cell.0']\n",
    "c1 = sorted(d1.keys(),key=int)\n",
    "\n",
    "surf_S60 = []\n",
    "surf_S60_snow = []\n",
    "for i in c1[-365:]:\n",
    "    ds = d[key_evap][i]\n",
    "    sum1 = np.sum(ds)*86400\n",
    "    surf_S60.append(sum1)\n",
    "\n",
    "    #ds = d[key_sm][c1[-i]]\n",
    "    #sum1 = np.sum(ds)*86400 # Area = 1 x 1 m^2\n",
    "    #surf_S60_snow.append(sum1)\n",
    "    \n",
    "d=h5py.File('/Users/ajc/mytests/simulations/hillslope/2019/MaxSnow/MS_S90_1R1/visdump_surface_data.h5','r')\n",
    "d1=d['surface-water_content.cell.0']\n",
    "c1 = sorted(d1.keys(),key=int)\n",
    "\n",
    "surf_S90 = []\n",
    "surf_S90_snow = []\n",
    "for i in c1[-365:]:\n",
    "    ds = d[key_evap][i]\n",
    "    sum1 = np.sum(ds)*86400\n",
    "    surf_S90.append(sum1)\n",
    "    \n",
    "    #ds = d[key_sm][c1[-i]]\n",
    "    #sum1 = np.sum(ds)*86400 # Area = 1 x 1 m^2\n",
    "    #surf_S90_snow.append(sum1)\n",
    "\n",
    "fig,axs = plt.subplots(1,1, figsize=(5,3), facecolor='w', edgecolor='k',gridspec_kw={'width_ratios':[1]})\n",
    "fig.subplots_adjust(hspace =.02, wspace=1.02)\n",
    "plt.tight_layout()\n",
    "ax1 = plt.subplot('111')\n",
    "plt.plot(surf_B,'k',label=r'S$_{0}$')\n",
    "plt.plot(surf_S30,'g',label=r'S$_{30}$')\n",
    "plt.plot(surf_S60,'b',label=r'S$_{60}$')\n",
    "plt.plot(surf_S90,'r',label=r'S$_{90}$')\n",
    "ax1.set_ylabel('Evaporative flux [m$^3$]')\n",
    "ax1.set_xlabel('Time [day]')\n",
    "ax1.set_xlim([0,366])\n",
    "ax1.legend(loc='upper left', fontsize=9,labelspacing=0.1,bbox_to_anchor=(0.01, 0.9, .1, .1))\n",
    "\n",
    "\n",
    "plt.savefig(outfile+'/evaporative_flux.pdf', bbox_inches='tight', dpi=100)\n",
    "plt.show()\n",
    "\n",
    "\n",
    "\n",
    "#print (B_E[-1], S30_E[-1], S60_E[-1],S90_E[-1])\n",
    "print (np.sum(surf_B),np.sum(surf_S30),np.sum(surf_S60),np.sum(surf_S90))\n",
    "#print (np.sum(surf_B_snow),np.sum(surf_S30_snow),np.sum(surf_S60_snow),np.sum(surf_S90_snow))\n",
    "x11 = np.cumsum(surf_B) \n",
    "x21 = np.cumsum(surf_S30)\n",
    "x31 = np.cumsum(surf_S60)\n",
    "x41 = np.cumsum(surf_S90)\n",
    "\n",
    "#print (surf_B[90:120])"
   ]
  },
  {
   "cell_type": "code",
   "execution_count": null,
   "metadata": {},
   "outputs": [],
   "source": []
  },
  {
   "cell_type": "code",
   "execution_count": null,
   "metadata": {},
   "outputs": [],
   "source": [
    "outfile='/Users/ajc/Desktop/maxsnow/'\n",
    "%matplotlib tk\n",
    "fig,axs = plt.subplots(1,1, figsize=(5,3), facecolor='w', edgecolor='k',gridspec_kw={'width_ratios':[1]})\n",
    "fig.subplots_adjust(hspace =.02, wspace=1.02)\n",
    "plt.tight_layout()\n",
    "\n",
    "end = 7300-264\n",
    "l1,l2 = -365-1, -1\n",
    "\n",
    "B = np.cumsum(surf_B) \n",
    "S30 = np.cumsum(surf_S30)\n",
    "S60 = np.cumsum(surf_S60)\n",
    "S90 = np.cumsum(surf_S90)\n",
    "\n",
    "print (B[-1],S30[-1],S60[-1],S90[-1])\n",
    "#print (S90[-1]- B[-1], DataSim['B_time'][l1:l1+3])\n",
    "#print (B_trapz, S30_trapz, S60_trapz,S90_trapz)\n",
    "print ('----------------')\n",
    "ax1 = plt.subplot('111')\n",
    "\n",
    "plt.plot(B,'k',label=r'S$_{0}$')\n",
    "plt.plot(S30,'g',label=r'S$_{30}$')\n",
    "plt.plot(S60,'b',label=r'S$_{60}$')\n",
    "plt.plot(S90,'r',label=r'S$_{90}$')\n",
    "ax1.set_ylabel('Cumulative evaporation [m$^3$]')\n",
    "ax1.set_xlabel('Time [day]')\n",
    "ax1.set_xlim([0,366])\n",
    "ax1.legend(loc='upper left', fontsize=9,labelspacing=0.1,bbox_to_anchor=(0.01, 0.9, .1, .1))\n",
    "\n",
    "# inset axes....\n",
    "from mpl_toolkits.axes_grid1.inset_locator import zoomed_inset_axes\n",
    "from mpl_toolkits.axes_grid1.inset_locator import mark_inset\n",
    "\n",
    "axins1 = zoomed_inset_axes(ax1, 9.5, loc='center',bbox_to_anchor=(260, 60, 60., 60.))\n",
    "axins1.plot(B,'k')\n",
    "axins1.plot(S30,'g')\n",
    "axins1.plot(S60,'b')\n",
    "axins1.plot(S90,'r')\n",
    "axins1.set_xlim(354, 364)\n",
    "#axins1.set_ylim(134, 144)\n",
    "axins1.set_ylim(20.5, 21.5)\n",
    "\n",
    "mark_inset(ax1, axins1, loc1=2, loc2=4, fc=\"none\", ec=\"0.5\")\n",
    "\n",
    "plt.savefig(outfile+'/evaporative_cumm.pdf', bbox_inches='tight', dpi=100)\n",
    "plt.show()\n"
   ]
  },
  {
   "cell_type": "code",
   "execution_count": null,
   "metadata": {},
   "outputs": [],
   "source": [
    "print (11.69+B_E[-1] + x1[0] + x2[0] + WC_surf[0], \n",
    "       11.98 + S30_E[-1] + x1[1] + x2[1] + WC_surf[1],  \n",
    "       12.14 + S60_E[-1] + x1[2] + x2[2] + WC_surf[2], \n",
    "       12.27 + S90_E[-1] + x1[3] + x2[3] + WC_surf[3])"
   ]
  },
  {
   "cell_type": "code",
   "execution_count": null,
   "metadata": {},
   "outputs": [],
   "source": []
  },
  {
   "cell_type": "code",
   "execution_count": null,
   "metadata": {},
   "outputs": [],
   "source": [
    "infileB=h5py.File('/Users/ajc/mytests/simulations/hillslope/2019/MaxSnow/MS_B_1R1/visdump_data.h5','r')\n",
    "infileS90=h5py.File('/Users/ajc/mytests/simulations/hillslope/2019/MaxSnow/MS_S90_1R1/visdump_data.h5','r')\n"
   ]
  },
  {
   "cell_type": "code",
   "execution_count": null,
   "metadata": {},
   "outputs": [],
   "source": [
    "DataBB = infileB['water_content.cell.0']\n",
    "DataS90 = infileS90['water_content.cell.0']"
   ]
  },
  {
   "cell_type": "code",
   "execution_count": null,
   "metadata": {},
   "outputs": [],
   "source": [
    "cyclesB = sorted(DataBB.keys(), key=int)\n",
    "cyclesS90 = sorted(DataS90.keys(), key=int)"
   ]
  },
  {
   "cell_type": "code",
   "execution_count": null,
   "metadata": {},
   "outputs": [],
   "source": [
    "d1 = np.array(DataBB[cyclesB[0]])\n",
    "d2 = np.array(DataS90[cyclesS90[0]])"
   ]
  },
  {
   "cell_type": "code",
   "execution_count": null,
   "metadata": {},
   "outputs": [],
   "source": [
    "plt.plot(d1,'r')\n",
    "#plt.plot(d2,'k')\n",
    "plt.show()"
   ]
  },
  {
   "cell_type": "code",
   "execution_count": null,
   "metadata": {},
   "outputs": [],
   "source": [
    "print (d1[10],np.sum(d1),np.sum(d2))"
   ]
  },
  {
   "cell_type": "code",
   "execution_count": null,
   "metadata": {},
   "outputs": [],
   "source": [
    "d3 = Data_B[varnames[0]]\n",
    "d4 = Data_S90[varnames[0]]"
   ]
  },
  {
   "cell_type": "code",
   "execution_count": null,
   "metadata": {},
   "outputs": [],
   "source": [
    "Bx = []\n",
    "S90x = []\n",
    "for k in range(365):\n",
    "    x1 = 0\n",
    "    x2 = 0\n",
    "    for i in range(100):\n",
    "        for j in range(81):\n",
    "            x1 = x1 + d3[2,k,i,j]\n",
    "            x2 = x2 + d4[2,k,i,j]\n",
    "            if (x1 < 0 or x2 <0):\n",
    "                print (k,i,j,x1,x2)\n",
    "                break\n",
    "    Bx.append(x1/55555.)\n",
    "    S90x.append(x2/55555.)\n",
    "#print (len(d3[2,0,:,:]),x/55555. , np.sum(d1)/55555.)"
   ]
  },
  {
   "cell_type": "code",
   "execution_count": null,
   "metadata": {},
   "outputs": [],
   "source": [
    "print (Data_avg_WC.keys())\n",
    "print (np.sum(Data_avg_WC['Bdaily_temp'][:365]),np.sum(Data_avg_WC['S90daily_temp'][0:365]))"
   ]
  },
  {
   "cell_type": "code",
   "execution_count": null,
   "metadata": {},
   "outputs": [],
   "source": [
    "plt.plot(Data_avg_WC['Bdaily_temp'][:365],'k')\n",
    "plt.plot(Data_avg_WC['S90daily_temp'][:365],'r')\n",
    "plt.plot(Bx,'g')\n",
    "plt.plot(S90x,'m')"
   ]
  },
  {
   "cell_type": "code",
   "execution_count": null,
   "metadata": {},
   "outputs": [],
   "source": []
  },
  {
   "cell_type": "code",
   "execution_count": null,
   "metadata": {},
   "outputs": [],
   "source": [
    "d=h5py.File('/Users/ajc/mytests/simulations/hillslope/2019/MaxSnow/MS_B_1R1/visdump_surface_data.h5','r')\n",
    "d1=d['surface-water_content.cell.0']\n",
    "d2=d['surface-molar_density_liquid.cell.0']\n",
    "\n",
    "c1 = sorted(d1.keys(),key=int)\n",
    "\n",
    "surf_B = []\n",
    "for i in range(365):\n",
    "    sum1 = 0\n",
    "    for ds,dd  in zip(d['surface-water_content.cell.0'][c1[i]], d['surface-molar_density_liquid.cell.0'][c1[i]]):\n",
    "        sum1 = sum1 + ds/dd\n",
    "    surf_B.append(sum1)\n",
    "\n",
    "\n",
    "d=h5py.File('/Users/ajc/mytests/simulations/hillslope/2019/MaxSnow/MS_S90_1R1/visdump_surface_data.h5','r')\n",
    "d1=d['surface-water_content.cell.0']\n",
    "c1 = sorted(d1.keys(),key=int)\n",
    "\n",
    "surf_S90 = []\n",
    "for i in range(365):\n",
    "    sum1 = 0\n",
    "    for ds,dd  in zip(d['surface-water_content.cell.0'][c1[i]], d['surface-molar_density_liquid.cell.0'][c1[i]]):\n",
    "        sum1 = sum1 + ds/dd\n",
    "    surf_S90.append(sum1)\n"
   ]
  },
  {
   "cell_type": "code",
   "execution_count": null,
   "metadata": {},
   "outputs": [],
   "source": [
    "IntegB = [x+y for x,y in zip(Data_avg_WC['Bdaily_temp'][:365],surf_B)]\n",
    "IntegS90 = [x+y for x,y in zip(Data_avg_WC['S90daily_temp'][:365],surf_S90)]\n",
    "plt.plot(Data_avg_WC['Bdaily_temp'][:365],'k')\n",
    "plt.plot(Data_avg_WC['S90daily_temp'][:365],'r')\n",
    "plt.plot(Bx,'g')\n",
    "plt.plot(S90x,'m')\n",
    "plt.plot(IntegB,'b')\n",
    "plt.plot(IntegS90,'c')"
   ]
  },
  {
   "cell_type": "code",
   "execution_count": null,
   "metadata": {},
   "outputs": [],
   "source": []
  }
 ],
 "metadata": {
  "kernelspec": {
   "display_name": "Python 3",
   "language": "python",
   "name": "python3"
  },
  "language_info": {
   "codemirror_mode": {
    "name": "ipython",
    "version": 3
   },
   "file_extension": ".py",
   "mimetype": "text/x-python",
   "name": "python",
   "nbconvert_exporter": "python",
   "pygments_lexer": "ipython3",
   "version": "3.7.6"
  }
 },
 "nbformat": 4,
 "nbformat_minor": 2
}
