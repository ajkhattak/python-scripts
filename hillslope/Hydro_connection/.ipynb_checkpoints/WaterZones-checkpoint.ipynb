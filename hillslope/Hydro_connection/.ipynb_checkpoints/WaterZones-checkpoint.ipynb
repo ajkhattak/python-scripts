{
 "cells": [
  {
   "cell_type": "code",
   "execution_count": null,
   "metadata": {},
   "outputs": [],
   "source": []
  },
  {
   "cell_type": "code",
   "execution_count": 1,
   "metadata": {},
   "outputs": [],
   "source": [
    "import numpy as np\n",
    "import h5py\n",
    "import os, sys\n",
    "import matplotlib.pyplot as plt\n",
    "from scipy.interpolate import CubicSpline\n",
    "from scipy.signal import savgol_filter\n",
    "import pandas as pd\n",
    "sys.path.remove(sys.path[0])\n",
    "\n",
    "sys.path.append('/Users/ajc/Core/codes/simulator/debug/ats/tools/utils/')\n",
    "#sys.path.append('/Users/ajc/CODES/ats/tools/utils/')\n",
    "import get_transect_data"
   ]
  },
  {
   "cell_type": "code",
   "execution_count": 2,
   "metadata": {},
   "outputs": [],
   "source": [
    "path = \"/Users/ajc/FUSE2/simulations/barrow_icewedges/hydrologic_connection/ProjectionsE/\""
   ]
  },
  {
   "cell_type": "code",
   "execution_count": 3,
   "metadata": {},
   "outputs": [],
   "source": [
    "def getData(sim):\n",
    "    infile = os.path.join(path,sim)\n",
    "    d = dict()\n",
    "    Time, Data = get_transect_data.get2DMatrix(infile)\n",
    "    d['temperature'] = np.array(Data)\n",
    "    d['time'] = np.array(Time)\n",
    "    return d"
   ]
  },
  {
   "cell_type": "code",
   "execution_count": 4,
   "metadata": {},
   "outputs": [],
   "source": [
    "Simulations = ['CESM_C6A','CESM_C7', 'CESM_C8', 'CESM_C9A']"
   ]
  },
  {
   "cell_type": "code",
   "execution_count": null,
   "metadata": {},
   "outputs": [
    {
     "name": "stdout",
     "output_type": "stream",
     "text": [
      "<HDF5 file \"visdump_surface_data.h5\" (mode r)>\n",
      "Mesh type:  HEX\n"
     ]
    }
   ],
   "source": [
    "from multiprocessing import Pool\n",
    "num_processors = 4\n",
    "p=Pool(processes = num_processors)\n",
    "\n",
    "DataS6, DataS7, DataS8, DataS9 = p.map(getData,[i for i in Simulations])\n"
   ]
  },
  {
   "cell_type": "code",
   "execution_count": null,
   "metadata": {},
   "outputs": [],
   "source": [
    "Data = [DataS6, DataS7,DataS8,DataS9]\n",
    "#DataS0.keys()"
   ]
  },
  {
   "cell_type": "code",
   "execution_count": null,
   "metadata": {},
   "outputs": [],
   "source": []
  },
  {
   "cell_type": "code",
   "execution_count": null,
   "metadata": {},
   "outputs": [],
   "source": []
  },
  {
   "cell_type": "code",
   "execution_count": null,
   "metadata": {},
   "outputs": [],
   "source": [
    "depth1 = [[0,26],[26,46],[46,54],[54,64],[64,70],[70,75]] # active layer, 0.5-2 m, 2-3.5m"
   ]
  },
  {
   "cell_type": "code",
   "execution_count": null,
   "metadata": {},
   "outputs": [],
   "source": [
    "def get_AveTemp_Intervals(dat,season = \" \", start=0, end=-1,depth_s=-1,depth_e=-1, yr_cyc=365):\n",
    "    #25 * 2cm = 50 cm\n",
    "    data = []\n",
    "    times = []\n",
    "    #print (dat.keys())\n",
    "    data = dat['temperature']\n",
    "    times = dat['time']\n",
    "    \n",
    "    nvar, cycles, xnum, znum = data.shape\n",
    "    HillslopeT = dict()\n",
    "    \n",
    "    AvgTemp = np.zeros(cycles)\n",
    "    MaxTemp = np.zeros(cycles)\n",
    "    MinTemp = np.zeros(cycles)\n",
    "    \n",
    "    for i in range(cycles):\n",
    "        AvgTemp[i] = np.mean(data[nvar-1,i,start:end,80-depth_e:80-depth_s])\n",
    "        \n",
    "    L = len(AvgTemp)%int(yr_cyc)\n",
    "    \n",
    "    HillslopeT['times'] = np.array(times)\n",
    "    HillslopeT_Avg = np.array(AvgTemp)\n",
    "    print (len(HillslopeT_Avg),cycles, L, yr_cyc,len(AvgTemp))\n",
    "    if L > 0:\n",
    "        HillslopeT['temp-annual_avg'] = np.reshape(HillslopeT_Avg[:-L], (-1,yr_cyc)).mean(axis=1)\n",
    "        HillslopeT['times_yr'] = np.reshape(times[:-L], (-1,yr_cyc)).mean(axis=1)\n",
    "    else:\n",
    "        HillslopeT['temp-annual_avg'] = np.reshape(HillslopeT_Avg, (-1,yr_cyc)).mean(axis=1)\n",
    "        HillslopeT['times_yr'] = np.reshape(times, (-1,yr_cyc)).mean(axis=1)\n",
    "\n",
    "    return HillslopeT\n"
   ]
  },
  {
   "cell_type": "code",
   "execution_count": null,
   "metadata": {},
   "outputs": [],
   "source": []
  },
  {
   "cell_type": "code",
   "execution_count": null,
   "metadata": {},
   "outputs": [],
   "source": [
    "\n",
    "    "
   ]
  },
  {
   "cell_type": "code",
   "execution_count": null,
   "metadata": {},
   "outputs": [],
   "source": [
    "start1_,end1_, = 0,-1\n",
    "Data_avg = dict()\n",
    "\n",
    "permafrost = ['top', 'shallow', 'deep','deeper', 'deepest','lower']\n",
    "for i in range(len(permafrost)):\n",
    "    for s,lab in zip(Data,Simulations):\n",
    "        #print (lab)\n",
    "        d = get_AveTemp_Intervals(s,start=start1_,end=end1_,depth_s=depth1[i][0],depth_e=depth1[i][1],yr_cyc=73)\n",
    "        Data_avg[lab + '_' + permafrost[i] + '_temp'] = d['temp-annual_avg']\n",
    "        Data_avg[lab + '_' + permafrost[i] +'_time_yr'] = d['times_yr']\n",
    "        Data_avg[lab + '_' + permafrost[i] +'_time'] = d['times']"
   ]
  },
  {
   "cell_type": "code",
   "execution_count": null,
   "metadata": {},
   "outputs": [],
   "source": []
  },
  {
   "cell_type": "code",
   "execution_count": null,
   "metadata": {},
   "outputs": [],
   "source": [
    "start1_,end1_, = 0,1\n",
    "Data_avg_wland = dict()\n",
    "scenarios = ['B', 'S30', 'S60', 'S90']\n",
    "permafrost = ['top', 'shallow', 'deep','deeper','deepest', 'deepest1']\n",
    "\n",
    "for i in range(len(depth1)):\n",
    "    for s,lab in zip(Data,Simulations):\n",
    "        d = get_AveTemp_Intervals(s,start=start1_,end=end1_,depth_s=depth1[i][0],depth_e=depth1[i][1],yr_cyc=73)\n",
    "        Data_avg_wland[lab + '_' + permafrost[i] + '_temp'] = d['temp-annual_avg']\n",
    "        Data_avg_wland[lab + '_' + permafrost[i] +'_time'] = d['times_yr']"
   ]
  },
  {
   "cell_type": "code",
   "execution_count": null,
   "metadata": {},
   "outputs": [],
   "source": []
  },
  {
   "cell_type": "code",
   "execution_count": null,
   "metadata": {},
   "outputs": [],
   "source": [
    "start1_,end1_, = -2,-1\n",
    "Data_avg_uland = dict()\n",
    "\n",
    "for i in range(len(depth1)):\n",
    "    for s,lab in zip(Data,Simulations):\n",
    "        d = get_AveTemp_Intervals(s,start=start1_,end=end1_,depth_s=depth1[i][0],depth_e=depth1[i][1],yr_cyc=73)\n",
    "        Data_avg_uland[lab + '_' + permafrost[i] + '_temp'] = d['temp-annual_avg']\n",
    "        Data_avg_uland[lab + '_' + permafrost[i] +'_time'] = d['times_yr']\n"
   ]
  },
  {
   "cell_type": "code",
   "execution_count": null,
   "metadata": {},
   "outputs": [],
   "source": []
  },
  {
   "cell_type": "code",
   "execution_count": null,
   "metadata": {},
   "outputs": [],
   "source": [
    "Data_avg_uland.keys()"
   ]
  },
  {
   "cell_type": "markdown",
   "metadata": {},
   "source": [
    "# Top theree zones : Active layer, shallow permafrost, deep permafrost"
   ]
  },
  {
   "cell_type": "code",
   "execution_count": null,
   "metadata": {},
   "outputs": [],
   "source": [
    "# Three zones : Active layer, shallow permafrost, deep permafrost\n",
    "outfile='/Users/ajc/Desktop/maxsnow/'\n",
    "def Plot_Wetlands_Uplands():\n",
    "    fig, axs = plt.subplots(1,2, figsize=(6,6), facecolor='w', edgecolor='k',gridspec_kw={'width_ratios':[1,1]})\n",
    "    fig.subplots_adjust(hspace =.02, wspace=1.02)\n",
    "    TempC = 273.15\n",
    "    plt.tight_layout()\n",
    "    axs = axs.ravel()\n",
    "    xpos = np.array([0, 1,2,3])\n",
    "    Xticks = [r'S$_{0}$', r'S$_{30}$', r'S$_{60}$', r'S$_{90}$']\n",
    "    Colors = ['k','g','b','r']\n",
    "    X = []\n",
    "    for i,s in enumerate(Simulations):\n",
    "        key = s + '_deep_temp'\n",
    "        key_t = s + '_deep_time'\n",
    "        \n",
    "        X = [x - TempC for x in Data_avg_uland[key]]\n",
    "        \n",
    "        T = Data_avg_uland[key_t]\n",
    "        axs[0].plot(T,X,color=Colors[i],label=key)\n",
    "        \n",
    "        X = [x - TempC for x in Data_avg_wland[key]]\n",
    "        \n",
    "        T = Data_avg_wland[key_t]\n",
    "        #axs[0].plot(T,X,color=Colors[i],label=key)\n",
    "\n",
    "        \n",
    "    \n",
    "    \n",
    "\n",
    "    axs[0].set_ylabel(u'Soil temperature [\\u00B0C]',fontsize=10, fontweight='normal')\n",
    "    axs[0].legend()\n",
    "    plt.show()\n"
   ]
  },
  {
   "cell_type": "code",
   "execution_count": null,
   "metadata": {},
   "outputs": [],
   "source": [
    "Plot_Wetlands_Uplands()"
   ]
  },
  {
   "cell_type": "code",
   "execution_count": null,
   "metadata": {},
   "outputs": [],
   "source": []
  },
  {
   "cell_type": "markdown",
   "metadata": {},
   "source": [
    "# Deeper zones : Deep_1, Deeper permafrost, Deepest permafrost"
   ]
  },
  {
   "cell_type": "code",
   "execution_count": null,
   "metadata": {},
   "outputs": [],
   "source": [
    "d=h5py.File(os.path.join(path, Simulations[0] ,'visdump_surface_data.h5'),'r')\n",
    "d1=d['surface-water_content.cell.0']\n",
    "#d2=d['surface-molar_density_liquid.cell.0']\n",
    "\n",
    "cycles = sorted(d1.keys(),key=int)\n",
    "SimS0 = []\n",
    "for c in cycles:\n",
    "    SimS0.append(d['surface-water_content.cell.0'][c]) "
   ]
  },
  {
   "cell_type": "code",
   "execution_count": null,
   "metadata": {},
   "outputs": [],
   "source": [
    "d=h5py.File(os.path.join(path, Simulations[1] ,'visdump_surface_data.h5'),'r')\n",
    "d1=d['surface-water_content.cell.0']\n",
    "#d2=d['surface-molar_density_liquid.cell.0']\n",
    "\n",
    "cycles = sorted(d1.keys(),key=int)\n",
    "SimS1 = []\n",
    "for c in cycles:\n",
    "    SimS1.append(d['surface-water_content.cell.0'][c]) "
   ]
  },
  {
   "cell_type": "code",
   "execution_count": null,
   "metadata": {},
   "outputs": [],
   "source": [
    "plt.plot(SimS0,'r')\n",
    "plt.plot(SimS1,'r')"
   ]
  },
  {
   "cell_type": "markdown",
   "metadata": {},
   "source": [
    "# Soil Temperature at x=0 (center of the pond) depth 56 cm"
   ]
  },
  {
   "cell_type": "code",
   "execution_count": null,
   "metadata": {},
   "outputs": [],
   "source": []
  },
  {
   "cell_type": "code",
   "execution_count": null,
   "metadata": {},
   "outputs": [],
   "source": [
    "import datetime as DT\n",
    "import matplotlib.dates as mdates\n",
    "def get_time_format(dat): \n",
    "    Dat = [] \n",
    "    year = int(dat[0]) \n",
    "    year_start = DT.date(year,1,1) \n",
    "    dateFormatted = year_start.strftime(\"%b\")[0] \n",
    "    #print (dat)\n",
    "    for i in dat: \n",
    "        f = float(i) \n",
    "        delta = year_start + DT.timedelta(days = int((i-year)*365) ) \n",
    "        Dat.append(delta) \n",
    "        #print (i,year_start, len(dat), len(Dat)) \n",
    "    return Dat"
   ]
  },
  {
   "cell_type": "code",
   "execution_count": null,
   "metadata": {},
   "outputs": [],
   "source": [
    "z1=26\n",
    "Data_ts_wland = dict() #ts: time series\n",
    "\n",
    "x=0\n",
    "for s in scenarios:\n",
    "    d,_ = get_Temp_timeseries_location(s,location=x,depth=z1)\n",
    "    Data_ts_wland[s + '_' + str(x) + '_temp'] = d['temp']\n",
    "    Data_ts_wland[s + '_' + str(x) +'_time'] = [2000 + t for t in d['times']]\n",
    "\n",
    "Data_ts_uland = dict() #ts: time series\n",
    "x=49\n",
    "for s in scenarios:\n",
    "    d,_ = get_Temp_timeseries_location(s,location=x,depth=z1)\n",
    "    Data_ts_uland[s + '_' + str(x) + '_temp'] = d['temp']\n",
    "    Data_ts_uland[s + '_' + str(x) +'_time'] = [2000 + t for t in d['times']]"
   ]
  },
  {
   "cell_type": "code",
   "execution_count": null,
   "metadata": {},
   "outputs": [],
   "source": [
    "Time = get_time_format(Data_ts_wland['B_0_time'][-365:])"
   ]
  },
  {
   "cell_type": "code",
   "execution_count": null,
   "metadata": {},
   "outputs": [],
   "source": []
  },
  {
   "cell_type": "code",
   "execution_count": null,
   "metadata": {},
   "outputs": [],
   "source": [
    "# Three zones : Active layer, shallow permafrost, deep permafrost\n",
    "outfile='/Users/ajc/Desktop/maxsnow/'\n",
    "def Plot_X0_X50():\n",
    "    fig, axs = plt.subplots(1,2, figsize=(6,4), facecolor='w', edgecolor='k',gridspec_kw={'width_ratios':[1,1]})\n",
    "    fig.subplots_adjust(hspace =.02, wspace=1.02)\n",
    "    TempC = 273.15\n",
    "    color=['k', 'g','b','r']\n",
    "    xfmt = mdates.DateFormatter('%b')\n",
    "    \n",
    "    plt.tight_layout()\n",
    "    axs = axs.ravel()\n",
    "    xpos = np.array([0, 1,2,3])\n",
    "    Xticks = [r'S$_{0}$', r'S$_{30}$', r'S$_{60}$', r'S$_{90}$']\n",
    "    \n",
    "    ax1=plt.subplot(121)\n",
    "    X = [Data_ts_wland['B_0_temp'][-1], Data_ts_wland['S30_0_temp'][-1],Data_ts_wland['S60_0_temp'][-1],Data_ts_wland['S90_0_temp'][-1]]\n",
    "    X = [x-TempC for x in X]\n",
    "    for i,x in enumerate(X):\n",
    "        ax1.plot(Time, x,color=color[i],label=Xticks[i])\n",
    "    ax1.set_ylabel(u'Soil temperature [\\u00B0C]',fontsize=12, fontweight='normal')\n",
    "    ax1.set_xlabel('Time [month]',fontsize=12, fontweight='normal')\n",
    "    \n",
    "    ax1.set_ylim((-5, 1))\n",
    "    ax1.xaxis.set_major_formatter(xfmt)\n",
    "    ax1.set_xticks(Time[::60])\n",
    "    #ax1.set_title('Wetland',fontweight='normal')\n",
    "    ax1.text('2018-09-15',1.15, 'Location: x=0 m, depth=56 cm',fontsize=10, fontweight='normal')\n",
    "    ax1.legend(loc='lower left', fontsize=8,labelspacing=0.01)#,bbox_to_anchor=(0.9,-0.01, .1, .1))\n",
    "    ax1.set_xlim('2018-09-17','2019-09-16')\n",
    "    plt.tight_layout()\n",
    "    \n",
    "    # Up land\n",
    "    ax2=plt.subplot(122)\n",
    "    X = [Data_ts_uland['B_49_temp'][-1], Data_ts_uland['S30_49_temp'][-1],Data_ts_uland['S60_49_temp'][-1],Data_ts_uland['S90_49_temp'][-1]]\n",
    "    X = [x-TempC for x in X]\n",
    "    for i,x in enumerate(X):\n",
    "        ax2.plot(Time,x,color=color[i],label=Xticks[i])\n",
    "\n",
    "    \n",
    "    ax2.xaxis.set_major_formatter(xfmt)\n",
    "    ax2.set_xticks(Time[::60])\n",
    "    ax2.set_xlim('2018-09-17','2019-09-16')\n",
    "    #ax2.set_title('Upland',fontweight='normal')\n",
    "    ax2.text('2018-09-15', 1.3, 'Location: x=50 m, depth=56 cm',fontsize=10, fontweight='normal')\n",
    "    ax2.set_xlabel('Time [month]',fontsize=12, fontweight='normal')\n",
    "    ax2.set_ylim((-17, 1))\n",
    "    \n",
    "    #ax2.set_yticks(np.linspace(-17,1,4))\n",
    "    plt.tight_layout()\n",
    "    \n",
    "       \n",
    "    ax2.legend(loc='lower left', fontsize=8,labelspacing=0.01)#,bbox_to_anchor=(0.9,-0.01, .1, .1))\n",
    "    #plt.tight_layout()\n",
    "    \n",
    "    plt.savefig(outfile+'ts-x0-x50-new.pdf', bbox_inches='tight', dpi=100)\n",
    "    "
   ]
  },
  {
   "cell_type": "code",
   "execution_count": null,
   "metadata": {},
   "outputs": [],
   "source": [
    "Plot_X0_X50()"
   ]
  },
  {
   "cell_type": "code",
   "execution_count": null,
   "metadata": {},
   "outputs": [],
   "source": []
  }
 ],
 "metadata": {
  "kernelspec": {
   "display_name": "Python 3",
   "language": "python",
   "name": "python3"
  },
  "language_info": {
   "codemirror_mode": {
    "name": "ipython",
    "version": 3
   },
   "file_extension": ".py",
   "mimetype": "text/x-python",
   "name": "python",
   "nbconvert_exporter": "python",
   "pygments_lexer": "ipython3",
   "version": "3.7.6"
  }
 },
 "nbformat": 4,
 "nbformat_minor": 2
}
