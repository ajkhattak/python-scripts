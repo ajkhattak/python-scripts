{
 "cells": [
  {
   "cell_type": "code",
   "execution_count": 1,
   "metadata": {},
   "outputs": [],
   "source": [
    "import numpy as np\n",
    "import sys,os\n",
    "import matplotlib.pyplot as plt\n",
    "import h5py \n",
    "sys.path.append('/Users/ajc/Core/PreProcessing/PyScript')\n",
    "import readdata as rd\n",
    "\n",
    "import matplotlib.image as mpimg"
   ]
  },
  {
   "cell_type": "code",
   "execution_count": 2,
   "metadata": {},
   "outputs": [],
   "source": [
    "path='/Users/ajc/Documents/Mypapers/TroughBC/figures/Oct20'\n",
    "infile = ['CESM_11', 'CESM_21', 'CESM_31']\n",
    "image = [os.path.join(path,f+'.png') for f in infile]"
   ]
  },
  {
   "cell_type": "code",
   "execution_count": 3,
   "metadata": {},
   "outputs": [],
   "source": [
    "Image = dict()\n",
    "for i,im in enumerate(image):\n",
    "    #print (im)\n",
    "    Image[infile[i]] = mpimg.imread(im)"
   ]
  },
  {
   "cell_type": "code",
   "execution_count": 14,
   "metadata": {},
   "outputs": [
    {
     "name": "stdout",
     "output_type": "stream",
     "text": [
      "[ 5  4  3  2  1  0  0  0 -1 -2 -3 -4 -5]\n",
      "CESM_11\n",
      "(518.5, -0.5)\n",
      "CESM_21\n",
      "(538.5, -0.5)\n",
      "CESM_31\n",
      "(516.5, -0.5)\n"
     ]
    }
   ],
   "source": [
    "%matplotlib qt\n",
    "fig, axs = plt.subplots(3,1, figsize=(4, 8), facecolor='w', edgecolor='k',gridspec_kw = {'width_ratios':[1]})\n",
    "fig.subplots_adjust(hspace =.2, wspace=0.3)\n",
    "#axs = axs.ravel()\n",
    "\n",
    "#plt.subplot(411)\n",
    "plt.tight_layout()\n",
    "y = np.linspace(5,-5,13,dtype='i')\n",
    "x = np.linspace(0,12.40,3)#,dtype='i')\n",
    "#print (y)\n",
    "Labels= ['a', 'b', 'c']\n",
    "print (y)\n",
    "for i in range(3):\n",
    "    print (infile[i])\n",
    "    axs[i].imshow(Image[infile[i]],aspect='auto')\n",
    "    ylim = [0,815]\n",
    "    xlim = axs[i].get_xlim()\n",
    "    ylim = axs[i].get_ylim()\n",
    "    print (ylim)\n",
    "    y1=np.linspace(ylim[1], ylim[0], 13)\n",
    "    axs[i].set_yticks(y1[::2])\n",
    "    axs[i].set_yticklabels(y[::2])\n",
    "    axs[i].set_xticks(np.linspace(xlim[0], xlim[1], 3))\n",
    "    axs[i].set_xticklabels(x)\n",
    "    axs[i].text(5,500.5,r'(%s)'%Labels[i],fontweight='normal',fontsize=12)\n",
    "    axs[i].set_ylabel('Elevation [m]',fontweight='normal',fontsize=12)\n",
    "    if (i==2):\n",
    "        axs[i].set_xlabel('Length [m]',fontweight='normal',fontsize=12)\n",
    "        \n",
    "plt.tight_layout()\n",
    "#plt.subplots_adjust(top=0.92, bottom=0.08, left=0.10, right=0.95, hspace=0.5,wspace=.6)\n",
    "plt.savefig(path + 'combined-4.png',bbox_inches='tight',dpi=300)"
   ]
  },
  {
   "cell_type": "code",
   "execution_count": null,
   "metadata": {},
   "outputs": [],
   "source": []
  }
 ],
 "metadata": {
  "kernelspec": {
   "display_name": "Python 3",
   "language": "python",
   "name": "python3"
  },
  "language_info": {
   "codemirror_mode": {
    "name": "ipython",
    "version": 3
   },
   "file_extension": ".py",
   "mimetype": "text/x-python",
   "name": "python",
   "nbconvert_exporter": "python",
   "pygments_lexer": "ipython3",
   "version": "3.7.6"
  }
 },
 "nbformat": 4,
 "nbformat_minor": 4
}
