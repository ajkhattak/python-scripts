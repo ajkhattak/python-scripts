{
 "cells": [
  {
   "cell_type": "code",
   "execution_count": null,
   "metadata": {},
   "outputs": [],
   "source": []
  },
  {
   "cell_type": "code",
   "execution_count": 136,
   "metadata": {},
   "outputs": [],
   "source": [
    "import numpy as np\n",
    "import h5py\n",
    "import os, sys\n",
    "import matplotlib.pyplot as plt\n",
    "from scipy.interpolate import CubicSpline\n",
    "from scipy.signal import savgol_filter\n",
    "import pandas as pd\n",
    "sys.path.remove(sys.path[0])\n",
    "\n",
    "sys.path.append('/Users/ajc/Core/codes/simulator/debug/ats/tools/utils/')\n",
    "#sys.path.append('/Users/ajc/CODES/ats/tools/utils/')\n",
    "import get_transect_data\n",
    "\n",
    "sys.path.append('/Users/ajc/Core/PreProcessing/PyScript')\n",
    "import readdata"
   ]
  },
  {
   "cell_type": "code",
   "execution_count": 2,
   "metadata": {},
   "outputs": [],
   "source": [
    "path = \"/Users/ajc/Core/simulations/barrow_icewedges/hydrologic_connection/ProjectionsF/\""
   ]
  },
  {
   "cell_type": "code",
   "execution_count": 3,
   "metadata": {},
   "outputs": [],
   "source": [
    "Simulations = [['CESM_C1','CESM_C1A','CESM_C1B'],['CESM_C2'], ['CESM_C3', 'CESM_C3A', 'CESM_C3B', 'CESM_C3C']]\n"
   ]
  },
  {
   "cell_type": "code",
   "execution_count": 117,
   "metadata": {},
   "outputs": [],
   "source": [
    "def getData(i):\n",
    "    Data = []\n",
    "    Time = []\n",
    "    for s in Simulations[i]:\n",
    "        #print (i, s)\n",
    "        infile = os.path.join(path,s)\n",
    "        \n",
    "        Tim1, Dat1 = get_transect_data.get2DMatrix(infile,varnames=['water_content'])\n",
    "        a1 = len(Dat1[0,:,0,0])%73\n",
    "        a2 = len(Dat1[0,:,0,0]) - a1\n",
    "        \n",
    "        Tim = Tim1[:a2]\n",
    "        Dat = Dat1[:,:a2,:,:]\n",
    "        Time.append(Tim)\n",
    "        Data.append(Dat)\n",
    "        #print ('HERE',a1,a2, Tim1.shape)\n",
    "    d = dict()\n",
    "    d['water_content'] = Data\n",
    "    d['time'] = Time\n",
    "    \n",
    "    return d"
   ]
  },
  {
   "cell_type": "code",
   "execution_count": 118,
   "metadata": {},
   "outputs": [],
   "source": [
    "#[nvar-1,i,j,zlen-depth_s:zlen-depth_e]\n",
    "#d1 = getData(0)"
   ]
  },
  {
   "cell_type": "code",
   "execution_count": null,
   "metadata": {},
   "outputs": [],
   "source": []
  },
  {
   "cell_type": "code",
   "execution_count": 119,
   "metadata": {},
   "outputs": [
    {
     "name": "stdout",
     "output_type": "stream",
     "text": [
      "3 786 45 85\n",
      "3 3199 45 85\n",
      "3 5147 45 85\n",
      "3 3565 45 85\n",
      "3 6935 45 85\n",
      "3 937 45 85\n",
      "3 292 45 85\n",
      "3 219 45 85\n"
     ]
    }
   ],
   "source": [
    "from multiprocessing import Pool\n",
    "num_processors = 3\n",
    "p=Pool(processes = num_processors)\n",
    "\n",
    "DataS1, DataS2, DataS3 = p.map(getData,[i for i in range(len(Simulations))])\n"
   ]
  },
  {
   "cell_type": "code",
   "execution_count": 120,
   "metadata": {},
   "outputs": [],
   "source": [
    "Data = [DataS1, DataS2,DataS3]\n"
   ]
  },
  {
   "cell_type": "code",
   "execution_count": null,
   "metadata": {},
   "outputs": [],
   "source": []
  },
  {
   "cell_type": "code",
   "execution_count": null,
   "metadata": {},
   "outputs": [],
   "source": []
  },
  {
   "cell_type": "code",
   "execution_count": null,
   "metadata": {},
   "outputs": [],
   "source": []
  },
  {
   "cell_type": "code",
   "execution_count": 121,
   "metadata": {},
   "outputs": [],
   "source": [
    "depth1 = [[0,26],[26,46],[46,54],[54,64],[64,70],[70,75]] # active layer, 0.5-2 m, 2-3.5m\n",
    "#depth1 = [[0,56]]#,[26,46],[46,54],[54,64],[64,70],[70,75]] # active layer, 0.5-2 m, 2-3.5m"
   ]
  },
  {
   "cell_type": "code",
   "execution_count": 122,
   "metadata": {},
   "outputs": [],
   "source": [
    "def get_AveTemp_Intervals(dat,season = \" \", start=0, end=-1,depth_s=-1,depth_e=-1, yr_cyc=365,domain='entire'):\n",
    "    #25 * 2cm = 50 cm\n",
    "    sim_len = len(dat['water_content'])\n",
    "    \n",
    "    data = []\n",
    "    times = []\n",
    "    HillslopeT = dict()\n",
    "    AvgTemp = [] # np.zeros(cycles)\n",
    "    for k in range(sim_len):\n",
    "        data = np.array(dat['water_content'][k])\n",
    "        time = dat['time'][k]\n",
    "    \n",
    "        nvar, cycles, xnum, znum = data.shape\n",
    "    \n",
    "        \n",
    "        zlen = len(data[1,0,0,:])-1\n",
    "        xlen = len(data[0,0,:,0])-1\n",
    "        #print (cycles,zlen,xlen, data[1,0,0,zlen-depth_s],data[1,0,0,zlen-depth_e], data[1,0,0,zlen-depth_e] -data[1,0,0,zlen-depth_s])\n",
    "        #print (cycles, zlen, xlen, depth_s, depth_e, zlen-depth_s,zlen-depth_e)\n",
    "        for i in range(cycles):\n",
    "            sum1 = 0\n",
    "            for j in range(xlen):\n",
    "                if 'entire' in domain:\n",
    "                    sum1 = sum1 + np.sum(data[nvar-1,i,j,:])\n",
    "                else:\n",
    "                    sum1 = sum1 + np.sum(data[nvar-1,i,j,zlen-depth_e:zlen-depth_s])\n",
    "\n",
    "            AvgTemp.append(sum1/55555.) #np.mean(data[nvar-1,i,start:end,zlen-depth_s:zlen-depth_e])/55555.\n",
    "        times.append(time)\n",
    "    L = len(AvgTemp)%int(yr_cyc)\n",
    "    times = np.concatenate(times)\n",
    "    #print ('Lengths: ', len(AvgTemp), len(times))\n",
    "    HillslopeT['times'] = np.array(times)\n",
    "    HillslopeT_Avg = np.array(AvgTemp)\n",
    "    \n",
    "    if L > 0:\n",
    "        HillslopeT['temp-annual_avg'] = np.reshape(HillslopeT_Avg[:-L], (-1,yr_cyc)).mean(axis=1)\n",
    "        HillslopeT['times_yr'] = np.reshape(times[:-L], (-1,yr_cyc)).mean(axis=1)\n",
    "    else:\n",
    "        HillslopeT['temp-annual_avg'] = np.reshape(HillslopeT_Avg, (-1,yr_cyc)).mean(axis=1)\n",
    "        HillslopeT['times_yr'] = np.reshape(times, (-1,yr_cyc)).mean(axis=1)\n",
    "\n",
    "    return HillslopeT\n"
   ]
  },
  {
   "cell_type": "code",
   "execution_count": null,
   "metadata": {},
   "outputs": [],
   "source": []
  },
  {
   "cell_type": "code",
   "execution_count": 123,
   "metadata": {},
   "outputs": [],
   "source": [
    "start1_,end1_, = 0,-1\n",
    "Data_avgTotal = dict()\n",
    "\n",
    "permafrost = ['top']\n",
    "Names = ['CESM_C1', 'CESM_C2', 'CESM_C3']\n",
    "for i in range(len(permafrost)):\n",
    "    for dat,name in zip(Data,Names):\n",
    "        #print (name)\n",
    "        d = get_AveTemp_Intervals(dat,start=start1_,end=end1_,depth_s=depth1[i][1],depth_e=depth1[i][0],yr_cyc=73,domain='entire')\n",
    "        Data_avgTotal[name + '_' + permafrost[i] + '_temp'] = d['temp-annual_avg']\n",
    "        Data_avgTotal[name + '_' + permafrost[i] +'_time_yr'] = d['times_yr']\n",
    "        Data_avgTotal[name + '_' + permafrost[i] +'_time'] = d['times']\n",
    "        #break\n",
    "#print (Data_avgTotal[Simulations[0] + '_top' + '_temp']/55555.)"
   ]
  },
  {
   "cell_type": "code",
   "execution_count": 124,
   "metadata": {},
   "outputs": [],
   "source": [
    "start1_,end1_, = 0,-1\n",
    "Data_avg = dict()\n",
    "\n",
    "permafrost = ['top', 'shallow', 'deep','deeper', 'deepest','lower']\n",
    "for i in range(len(permafrost)):\n",
    "    for dat, name in zip(Data,Names):\n",
    "        #print (name)\n",
    "        d = get_AveTemp_Intervals(dat,start=start1_,end=end1_,depth_s=depth1[i][0],depth_e=depth1[i][1],yr_cyc=73, domain=\"\")\n",
    "        Data_avg[name + '_' + permafrost[i] + '_temp'] = d['temp-annual_avg']\n",
    "        Data_avg[name + '_' + permafrost[i] +'_time_yr'] = d['times_yr']\n",
    "        Data_avg[name + '_' + permafrost[i] +'_time'] = d['times']"
   ]
  },
  {
   "cell_type": "code",
   "execution_count": null,
   "metadata": {},
   "outputs": [],
   "source": []
  },
  {
   "cell_type": "code",
   "execution_count": 125,
   "metadata": {},
   "outputs": [],
   "source": [
    "start1_,end1_, = 0,10\n",
    "Data_avg_wland = dict()\n",
    "scenarios = ['B', 'S30', 'S60', 'S90']\n",
    "permafrost = ['top', 'shallow', 'deep','deeper','deepest', 'deepest1']\n",
    "\n",
    "for i in range(len(depth1)):\n",
    "    for dat, name in zip(Data,Names):\n",
    "        d = get_AveTemp_Intervals(dat,start=start1_,end=end1_,depth_s=depth1[i][0],depth_e=depth1[i][1],yr_cyc=73)\n",
    "        Data_avg_wland[name + '_' + permafrost[i] + '_temp'] = d['temp-annual_avg']\n",
    "        Data_avg_wland[name + '_' + permafrost[i] +'_time'] = d['times_yr']"
   ]
  },
  {
   "cell_type": "code",
   "execution_count": null,
   "metadata": {},
   "outputs": [],
   "source": []
  },
  {
   "cell_type": "code",
   "execution_count": 126,
   "metadata": {},
   "outputs": [],
   "source": [
    "start1_,end1_, = 11,-1#-2,-1\n",
    "Data_avg_uland = dict()\n",
    "\n",
    "for i in range(len(depth1)):\n",
    "    for dat, name in zip(Data,Names):\n",
    "        d = get_AveTemp_Intervals(dat,start=start1_,end=end1_,depth_s=depth1[i][0],depth_e=depth1[i][1],yr_cyc=73)\n",
    "        Data_avg_uland[name + '_' + permafrost[i] + '_temp'] = d['temp-annual_avg']\n",
    "        Data_avg_uland[name + '_' + permafrost[i] +'_time'] = d['times_yr']\n"
   ]
  },
  {
   "cell_type": "code",
   "execution_count": null,
   "metadata": {},
   "outputs": [],
   "source": []
  },
  {
   "cell_type": "code",
   "execution_count": null,
   "metadata": {},
   "outputs": [],
   "source": []
  },
  {
   "cell_type": "markdown",
   "metadata": {},
   "source": [
    "# Top three zones : Active layer, shallow permafrost, deep permafrost"
   ]
  },
  {
   "cell_type": "code",
   "execution_count": 129,
   "metadata": {},
   "outputs": [],
   "source": [
    "# Three zones : Active layer, shallow permafrost, deep permafrost\n",
    "outfile='/Users/ajc/Desktop/maxsnow/'\n",
    "def Plot_Wetlands_Uplands():\n",
    "    fig, axs = plt.subplots(1,1, figsize=(6,6), facecolor='w', edgecolor='k',gridspec_kw={'width_ratios':[1]})\n",
    "    fig.subplots_adjust(hspace =.02, wspace=1.02)\n",
    "    TempC = 0*273.15\n",
    "    plt.tight_layout()\n",
    "    #axs = axs.ravel()\n",
    "    xpos = np.array([0, 1,2,3])\n",
    "    Xticks = [r'S$_{0}$', r'S$_{30}$', r'S$_{60}$', r'S$_{90}$']\n",
    "    Colors = ['k','b','r','r']\n",
    "    X = []\n",
    "    for i,s in enumerate(Names):\n",
    "        key = s + '_' + permafrost[0] +'_temp'\n",
    "        key_t = s + '_' + permafrost[0] +'_time_yr'\n",
    "        \n",
    "        #X = [x - TempC for x in Data_avgTotal[key]]\n",
    "        #T = Data_avgTotal[key_t]\n",
    "        #axs.plot(T,X,color=Colors[i],label=key)\n",
    "        \n",
    "        X = [x - TempC for x in Data_avg[key]]\n",
    "        \n",
    "        T = Data_avg[key_t]\n",
    "        axs.plot(T,X,color=Colors[i],label=key)\n",
    "\n",
    "    axs.set_ylabel('Water content',fontsize=10, fontweight='normal')\n",
    "    axs.legend()\n",
    "    #axs.set_ylim(135,138)\n",
    "    plt.show()\n"
   ]
  },
  {
   "cell_type": "code",
   "execution_count": 130,
   "metadata": {},
   "outputs": [
    {
     "data": {
      "image/png": "[encoded data removed]",
      "text/plain": [
       "<Figure size 432x432 with 1 Axes>"
      ]
     },
     "metadata": {},
     "output_type": "display_data"
    }
   ],
   "source": [
    "Plot_Wetlands_Uplands()"
   ]
  },
  {
   "cell_type": "code",
   "execution_count": 131,
   "metadata": {},
   "outputs": [
    {
     "data": {
      "text/plain": [
       "-2.19780219780219"
      ]
     },
     "execution_count": 131,
     "metadata": {},
     "output_type": "execute_result"
    }
   ],
   "source": []
  },
  {
   "cell_type": "code",
   "execution_count": null,
   "metadata": {},
   "outputs": [],
   "source": []
  },
  {
   "cell_type": "code",
   "execution_count": 189,
   "metadata": {},
   "outputs": [],
   "source": [
    "key_evap = 'surface-evaporative_flux'\n",
    "def getSurfaceData(i):\n",
    "    Data = []\n",
    "    #Time = []\n",
    "    \n",
    "    for s in Simulations[i]:\n",
    "        #print (i, s)\n",
    "        infile = os.path.join(path,s,'visdump_surface_data.h5')\n",
    "        \n",
    "        #Dat1 = np.array(readdata.GetSurfVarFromVis(infile,key_evap,cellid=-1)[key_evap])\n",
    "        Dat11 = np.array(readdata.GetSurfVarFromVis_All(infile,key_evap)[key_evap])\n",
    "        Dat1 = Dat11.sum(axis=1)*86400*1000/46\n",
    "        #print (Dat1)\n",
    "        a1 = len(Dat1)%73\n",
    "        a2 = len(Dat1) - a1\n",
    "        \n",
    "        #Tim = Tim1[:a2]\n",
    "        Dat = Dat1\n",
    "        #Time.append(Tim)\n",
    "        Data.append(Dat)\n",
    "        #print ('HERE',a1,a2, Tim1.shape)\n",
    "    d = dict()\n",
    "    d[key_evap] = np.concatenate(Data)\n",
    "    \n",
    "    \n",
    "    return d"
   ]
  },
  {
   "cell_type": "code",
   "execution_count": 190,
   "metadata": {},
   "outputs": [],
   "source": [
    "from multiprocessing import Pool\n",
    "num_processors = 3\n",
    "p=Pool(processes = num_processors)\n",
    "\n",
    "DataSurf1, DataSurf2, DataSurf3 = p.map(getSurfaceData,[i for i in range(len(Simulations))])"
   ]
  },
  {
   "cell_type": "code",
   "execution_count": 194,
   "metadata": {},
   "outputs": [
    {
     "name": "stdout",
     "output_type": "stream",
     "text": [
      "35280\n"
     ]
    },
    {
     "data": {
      "text/plain": [
       "[<matplotlib.lines.Line2D at 0x1a417c2a50>]"
      ]
     },
     "execution_count": 194,
     "metadata": {},
     "output_type": "execute_result"
    },
    {
     "data": {
      "image/png": "[encoded data removed]",
      "text/plain": [
       "<Figure size 432x288 with 1 Axes>"
      ]
     },
     "metadata": {
      "needs_background": "light"
     },
     "output_type": "display_data"
    }
   ],
   "source": [
    "print (len(DataSurf1[key_evap])*5)\n",
    "X = np.linspace(0,365,73)\n",
    "plt.plot(X,DataSurf1[key_evap][-73*2:-73],'k')\n",
    "plt.plot(X,DataSurf2[key_evap][-73*2:-73],'b')\n",
    "plt.plot(X,DataSurf3[key_evap][-73*2:-73],'r')\n",
    "#find one dry year, one wet year and one average year, and one time 100-year time serious 2x2 plots"
   ]
  },
  {
   "cell_type": "markdown",
   "metadata": {},
   "source": [
    "# Deeper zones : Deep_1, Deeper permafrost, Deepest permafrost"
   ]
  },
  {
   "cell_type": "code",
   "execution_count": null,
   "metadata": {},
   "outputs": [],
   "source": [
    "d=h5py.File(os.path.join(path, Simulations[0] ,'visdump_surface_data.h5'),'r')\n",
    "key_evap =  'surface-water_content.cell.0'\n",
    "print (d.keys())\n",
    "d1=d[key_evap]\n",
    "#d2=d['surface-molar_density_liquid.cell.0']\n",
    "\n",
    "cycles = sorted(d1.keys(),key=int)\n",
    "SimS0 = []\n",
    "for c in cycles:\n",
    "    SimS0.append(d['surface-water_content.cell.0'][c]) "
   ]
  },
  {
   "cell_type": "code",
   "execution_count": null,
   "metadata": {},
   "outputs": [],
   "source": [
    "d=h5py.File(os.path.join(path, Simulations[3] ,'visdump_surface_data.h5'),'r')\n",
    "d1=d[key_evap]\n",
    "#d2=d['surface-molar_density_liquid.cell.0']\n",
    "\n",
    "cycles = sorted(d1.keys(),key=int)\n",
    "SimS1 = []\n",
    "for c in cycles:\n",
    "    SimS1.append(d['surface-water_content.cell.0'][c]) "
   ]
  },
  {
   "cell_type": "code",
   "execution_count": null,
   "metadata": {},
   "outputs": [],
   "source": [
    "plt.plot(SimS0,'r')\n",
    "plt.plot(SimS1,'r')"
   ]
  },
  {
   "cell_type": "markdown",
   "metadata": {},
   "source": [
    "# Soil Temperature at x=0 (center of the pond) depth 56 cm"
   ]
  },
  {
   "cell_type": "code",
   "execution_count": null,
   "metadata": {},
   "outputs": [],
   "source": []
  },
  {
   "cell_type": "code",
   "execution_count": null,
   "metadata": {},
   "outputs": [],
   "source": [
    "import datetime as DT\n",
    "import matplotlib.dates as mdates\n",
    "def get_time_format(dat): \n",
    "    Dat = [] \n",
    "    year = int(dat[0]) \n",
    "    year_start = DT.date(year,1,1) \n",
    "    dateFormatted = year_start.strftime(\"%b\")[0] \n",
    "    #print (dat)\n",
    "    for i in dat: \n",
    "        f = float(i) \n",
    "        delta = year_start + DT.timedelta(days = int((i-year)*365) ) \n",
    "        Dat.append(delta) \n",
    "        #print (i,year_start, len(dat), len(Dat)) \n",
    "    return Dat"
   ]
  },
  {
   "cell_type": "code",
   "execution_count": null,
   "metadata": {},
   "outputs": [],
   "source": [
    "z1=26\n",
    "Data_ts_wland = dict() #ts: time series\n",
    "\n",
    "x=0\n",
    "for s in scenarios:\n",
    "    d,_ = get_Temp_timeseries_location(s,location=x,depth=z1)\n",
    "    Data_ts_wland[s + '_' + str(x) + '_temp'] = d['temp']\n",
    "    Data_ts_wland[s + '_' + str(x) +'_time'] = [2000 + t for t in d['times']]\n",
    "\n",
    "Data_ts_uland = dict() #ts: time series\n",
    "x=49\n",
    "for s in scenarios:\n",
    "    d,_ = get_Temp_timeseries_location(s,location=x,depth=z1)\n",
    "    Data_ts_uland[s + '_' + str(x) + '_temp'] = d['temp']\n",
    "    Data_ts_uland[s + '_' + str(x) +'_time'] = [2000 + t for t in d['times']]"
   ]
  },
  {
   "cell_type": "code",
   "execution_count": null,
   "metadata": {},
   "outputs": [],
   "source": [
    "Time = get_time_format(Data_ts_wland['B_0_time'][-365:])"
   ]
  },
  {
   "cell_type": "code",
   "execution_count": null,
   "metadata": {},
   "outputs": [],
   "source": []
  },
  {
   "cell_type": "code",
   "execution_count": null,
   "metadata": {},
   "outputs": [],
   "source": [
    "# Three zones : Active layer, shallow permafrost, deep permafrost\n",
    "outfile='/Users/ajc/Desktop/maxsnow/'\n",
    "def Plot_X0_X50():\n",
    "    fig, axs = plt.subplots(1,2, figsize=(6,4), facecolor='w', edgecolor='k',gridspec_kw={'width_ratios':[1,1]})\n",
    "    fig.subplots_adjust(hspace =.02, wspace=1.02)\n",
    "    TempC = 273.15\n",
    "    color=['k', 'g','b','r']\n",
    "    xfmt = mdates.DateFormatter('%b')\n",
    "    \n",
    "    plt.tight_layout()\n",
    "    axs = axs.ravel()\n",
    "    xpos = np.array([0, 1,2,3])\n",
    "    Xticks = [r'S$_{0}$', r'S$_{30}$', r'S$_{60}$', r'S$_{90}$']\n",
    "    \n",
    "    ax1=plt.subplot(121)\n",
    "    X = [Data_ts_wland['B_0_temp'][-1], Data_ts_wland['S30_0_temp'][-1],Data_ts_wland['S60_0_temp'][-1],Data_ts_wland['S90_0_temp'][-1]]\n",
    "    X = [x-TempC for x in X]\n",
    "    for i,x in enumerate(X):\n",
    "        ax1.plot(Time, x,color=color[i],label=Xticks[i])\n",
    "    ax1.set_ylabel(u'Soil temperature [\\u00B0C]',fontsize=12, fontweight='normal')\n",
    "    ax1.set_xlabel('Time [month]',fontsize=12, fontweight='normal')\n",
    "    \n",
    "    ax1.set_ylim((-5, 1))\n",
    "    ax1.xaxis.set_major_formatter(xfmt)\n",
    "    ax1.set_xticks(Time[::60])\n",
    "    #ax1.set_title('Wetland',fontweight='normal')\n",
    "    ax1.text('2018-09-15',1.15, 'Location: x=0 m, depth=56 cm',fontsize=10, fontweight='normal')\n",
    "    ax1.legend(loc='lower left', fontsize=8,labelspacing=0.01)#,bbox_to_anchor=(0.9,-0.01, .1, .1))\n",
    "    ax1.set_xlim('2018-09-17','2019-09-16')\n",
    "    plt.tight_layout()\n",
    "    \n",
    "    # Up land\n",
    "    ax2=plt.subplot(122)\n",
    "    X = [Data_ts_uland['B_49_temp'][-1], Data_ts_uland['S30_49_temp'][-1],Data_ts_uland['S60_49_temp'][-1],Data_ts_uland['S90_49_temp'][-1]]\n",
    "    X = [x-TempC for x in X]\n",
    "    for i,x in enumerate(X):\n",
    "        ax2.plot(Time,x,color=color[i],label=Xticks[i])\n",
    "\n",
    "    \n",
    "    ax2.xaxis.set_major_formatter(xfmt)\n",
    "    ax2.set_xticks(Time[::60])\n",
    "    ax2.set_xlim('2018-09-17','2019-09-16')\n",
    "    #ax2.set_title('Upland',fontweight='normal')\n",
    "    ax2.text('2018-09-15', 1.3, 'Location: x=50 m, depth=56 cm',fontsize=10, fontweight='normal')\n",
    "    ax2.set_xlabel('Time [month]',fontsize=12, fontweight='normal')\n",
    "    ax2.set_ylim((-17, 1))\n",
    "    \n",
    "    #ax2.set_yticks(np.linspace(-17,1,4))\n",
    "    plt.tight_layout()\n",
    "    \n",
    "       \n",
    "    ax2.legend(loc='lower left', fontsize=8,labelspacing=0.01)#,bbox_to_anchor=(0.9,-0.01, .1, .1))\n",
    "    #plt.tight_layout()\n",
    "    \n",
    "    plt.savefig(outfile+'ts-x0-x50-new.pdf', bbox_inches='tight', dpi=100)\n",
    "    "
   ]
  },
  {
   "cell_type": "code",
   "execution_count": null,
   "metadata": {},
   "outputs": [],
   "source": [
    "Plot_X0_X50()"
   ]
  },
  {
   "cell_type": "code",
   "execution_count": null,
   "metadata": {},
   "outputs": [],
   "source": []
  }
 ],
 "metadata": {
  "kernelspec": {
   "display_name": "Python 3",
   "language": "python",
   "name": "python3"
  },
  "language_info": {
   "codemirror_mode": {
    "name": "ipython",
    "version": 3
   },
   "file_extension": ".py",
   "mimetype": "text/x-python",
   "name": "python",
   "nbconvert_exporter": "python",
   "pygments_lexer": "ipython3",
   "version": "3.7.6"
  }
 },
 "nbformat": 4,
 "nbformat_minor": 2
}
