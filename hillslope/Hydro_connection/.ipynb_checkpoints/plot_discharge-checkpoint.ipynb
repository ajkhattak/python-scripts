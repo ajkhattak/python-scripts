{
 "cells": [
  {
   "cell_type": "code",
   "execution_count": 1,
   "metadata": {},
   "outputs": [],
   "source": [
    "import sys, os\n",
    "import numpy as np\n",
    "import pandas as pd\n",
    "from matplotlib import pyplot as plt\n",
    "import scipy.signal\n",
    "import importlib"
   ]
  },
  {
   "cell_type": "code",
   "execution_count": 2,
   "metadata": {},
   "outputs": [],
   "source": [
    "var_set = ['icerich_temperature.dat','temperature-band-from-trough100cm.dat',\n",
    "       'icerich_sat_ice.dat', 'icerich_sat_liq.dat',\n",
    "       'temperature-trough-from-surface50cm.dat','temperature-center-from-surface50cm.dat',\n",
    "           'temperature-rim-from-surface50cm.dat', 'surface_flux-day.dat','vertical_slice_rim-mass_flux100cm.dat']\n",
    "\n"
   ]
  },
  {
   "cell_type": "code",
   "execution_count": 40,
   "metadata": {},
   "outputs": [],
   "source": [
    "path=\"/Users/ajc/FUSE2/simulations/barrow_icewedges/hydrologic_connection/ProjectionsE\"\n",
    "#simulations = ['CESM_C1','CESM_C2','CESM_C3_M','CESM_C4_M']\n",
    "Set1 = ['CESM_C1','CESM_C11','CESM_C12']\n",
    "Set2 = ['CESM_C2','CESM_C21']\n",
    "Set1 = ['CESM_C6A']\n",
    "Set2 = ['CESM_C7']\n",
    "Set3 = ['CESM_C9A']\n",
    "Sim = [Set1, Set2, Set3]"
   ]
  },
  {
   "cell_type": "code",
   "execution_count": 41,
   "metadata": {},
   "outputs": [],
   "source": [
    "def read_file(file):\n",
    "    d = np.loadtxt(file,usecols=1,skiprows=6)\n",
    "    t1 = np.loadtxt(file,usecols=0,skiprows=6)\n",
    "    t = np.array([x/86400./365. for x in t1])\n",
    "    #print (len(d),len(t))\n",
    "    l = np.minimum(len(d),len(t))\n",
    "    return d[:l],t[:l]\n",
    "\n",
    "def read_set(set,var):\n",
    "    dat = []\n",
    "    tim = []\n",
    "    print (var)\n",
    "    for s in set:\n",
    "        file = os.path.join(path,s, var)\n",
    "        #print (file)\n",
    "        d = np.loadtxt(file,usecols=1,skiprows=6)\n",
    "        t1 = np.loadtxt(file,usecols=0,skiprows=6)\n",
    "        t = np.array([x/86400./365. for x in t1])\n",
    "        \n",
    "        L = len(d)%365\n",
    "        #print ('LENG: ',len(t), L)\n",
    "        if L >0:\n",
    "            d = d[:-L]\n",
    "            t = t[:len(d)]\n",
    "            \n",
    "        dat.append(d)\n",
    "        tim.append(t)\n",
    "    dat = np.concatenate(dat)\n",
    "    tim = np.concatenate(tim)\n",
    "    print (len(dat)%365, len(tim)%365,L)\n",
    "    \n",
    "    return dat, tim\n"
   ]
  },
  {
   "cell_type": "code",
   "execution_count": 42,
   "metadata": {},
   "outputs": [
    {
     "data": {
      "text/plain": [
       "'\\ndat_annual = dict()\\nfor i in []:#range(2):\\n    d1,t1 = read_file(os.path.join(sim_path[i],var[-1]))\\n    l = int(len(d1)%365.)\\n    d2 = np.reshape(d1[:-l],(-1,365)).mean(axis=1)\\n    t2 = np.reshape(t1[:-l],(-1,365)).mean(axis=1)\\n    #plt.plot(t1,d1,color=colors[i])\\n    plt.plot(t2,d2,marker=marks[i],color=colors[i],label=simulations[i])\\nplt.legend()\\nplt.show()\\n'"
      ]
     },
     "execution_count": 42,
     "metadata": {},
     "output_type": "execute_result"
    }
   ],
   "source": [
    "colors = ['r','k','g','m','c','y']\n",
    "marks = ['.','*', '+', 'o']\n",
    "\"\"\"\n",
    "dat_annual = dict()\n",
    "for i in []:#range(2):\n",
    "    d1,t1 = read_file(os.path.join(sim_path[i],var[-1]))\n",
    "    l = int(len(d1)%365.)\n",
    "    d2 = np.reshape(d1[:-l],(-1,365)).mean(axis=1)\n",
    "    t2 = np.reshape(t1[:-l],(-1,365)).mean(axis=1)\n",
    "    #plt.plot(t1,d1,color=colors[i])\n",
    "    plt.plot(t2,d2,marker=marks[i],color=colors[i],label=simulations[i])\n",
    "plt.legend()\n",
    "plt.show()\n",
    "\"\"\""
   ]
  },
  {
   "cell_type": "markdown",
   "metadata": {},
   "source": []
  },
  {
   "cell_type": "code",
   "execution_count": 43,
   "metadata": {},
   "outputs": [
    {
     "name": "stdout",
     "output_type": "stream",
     "text": [
      "icerich_temperature.dat\n",
      "0 0 184\n",
      "['CESM_C6A']\n",
      "icerich_temperature.dat\n",
      "0 0 142\n",
      "['CESM_C7']\n",
      "icerich_temperature.dat\n",
      "0 0 0\n",
      "['CESM_C9A']\n"
     ]
    },
    {
     "data": {
      "image/png": "[encoded data removed]",
      "text/plain": [
       "<Figure size 432x288 with 1 Axes>"
      ]
     },
     "metadata": {
      "needs_background": "light"
     },
     "output_type": "display_data"
    }
   ],
   "source": [
    "for i,sim in enumerate(Sim):\n",
    "    var = var_set[0]\n",
    "    d1, t1 = read_set(sim,var)\n",
    "    if 'flux' in var:\n",
    "        d1 = [x/55555.*1e6 for x in d1]\n",
    "    d2 = np.reshape(d1,(-1,365)).mean(axis=1)\n",
    "    t2 = np.reshape(t1,(-1,365)).mean(axis=1)\n",
    "    print (sim)\n",
    "    plt.plot(t2,d2,marker=marks[i],color=colors[i],label=sim)\n",
    "    #plt.axhline(y=0,linestyle='--',color='g')\n",
    "    #plt.plot(t1[-200:-100],d1[-200:-100],marker=marks[i],color=colors[i],label=sim)\n",
    "    plt.legend()"
   ]
  },
  {
   "cell_type": "code",
   "execution_count": null,
   "metadata": {},
   "outputs": [],
   "source": [
    "\n"
   ]
  },
  {
   "cell_type": "code",
   "execution_count": null,
   "metadata": {},
   "outputs": [],
   "source": []
  },
  {
   "cell_type": "code",
   "execution_count": null,
   "metadata": {},
   "outputs": [],
   "source": []
  }
 ],
 "metadata": {
  "kernelspec": {
   "display_name": "Python 3",
   "language": "python",
   "name": "python3"
  },
  "language_info": {
   "codemirror_mode": {
    "name": "ipython",
    "version": 3
   },
   "file_extension": ".py",
   "mimetype": "text/x-python",
   "name": "python",
   "nbconvert_exporter": "python",
   "pygments_lexer": "ipython3",
   "version": "3.7.6"
  }
 },
 "nbformat": 4,
 "nbformat_minor": 2
}
