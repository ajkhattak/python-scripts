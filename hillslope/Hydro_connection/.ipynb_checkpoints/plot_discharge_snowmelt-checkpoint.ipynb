{
 "cells": [
  {
   "cell_type": "code",
   "execution_count": 1,
   "metadata": {},
   "outputs": [],
   "source": [
    "import sys, os\n",
    "import numpy as np\n",
    "import pandas as pd\n",
    "from matplotlib import pyplot as plt\n",
    "import scipy.signal\n",
    "import importlib\n",
    "import h5py"
   ]
  },
  {
   "cell_type": "code",
   "execution_count": 2,
   "metadata": {},
   "outputs": [],
   "source": [
    "path = \"/Users/ajc/Core/simulations/barrow_icewedges/hydrologic_connection/ProjectionsO/\"\n",
    "var_set = ['surface_flux-day.dat','vertical_slice_rim-mass_flux100cm.dat']\n",
    "\n",
    "outfile='/Users/ajc/Documents/MyPapers/TroughHydrodynamics/figures/Dec22_uniform_om/'"
   ]
  },
  {
   "cell_type": "code",
   "execution_count": 3,
   "metadata": {},
   "outputs": [],
   "source": [
    "#Dec 22, 2020: ProjectionsO\n",
    "Simulations = [['CESM_C2%s'%i for i in range(3)], ['CESM_C1%s'%i for i in range(4)],['CESM_C3%s'%i for i in range(3)] ]# modified rain model, dessicated zone =0.1, longwaves\n",
    "\n"
   ]
  },
  {
   "cell_type": "code",
   "execution_count": 4,
   "metadata": {},
   "outputs": [],
   "source": [
    "def read_file(file):\n",
    "    d = np.loadtxt(file,usecols=1,skiprows=6)\n",
    "    t1 = np.loadtxt(file,usecols=0,skiprows=6)\n",
    "    t = np.array([x/86400./365. for x in t1])\n",
    "    #print (len(d),len(t))\n",
    "    l = np.minimum(len(d),len(t))\n",
    "    return d[:l],t[:l]\n",
    "\n",
    "def read_set(set,var):\n",
    "    dat = []\n",
    "    tim = []\n",
    "    for s in set:\n",
    "        file = os.path.join(path,s, var)\n",
    "       \n",
    "        d = np.loadtxt(file,usecols=1,skiprows=6)\n",
    "        t1 = np.loadtxt(file,usecols=0,skiprows=6)\n",
    "        t = np.array([x/86400./365. for x in t1])\n",
    "        \n",
    "\n",
    "        L = len(d)%365\n",
    "        if L >0:\n",
    "            #print ('LL: ',L)\n",
    "            d = d[:-L]\n",
    "            t = t[:len(d)]\n",
    "        t0 =0\n",
    "        if (len(tim)==0):\n",
    "            dat.append(d)\n",
    "            tim.append(t)\n",
    "        else:\n",
    "            \n",
    "            t0 = np.where(t <=tim[-1][-1])[0]\n",
    "            \n",
    "            if len(t0) >0:\n",
    "                d = d[t0[-1]:]\n",
    "                t = t[t0[-1]:]\n",
    "                #print ('T0: ',s,t, tim[-1][-1],t0)\n",
    "                #print (s, t[0],tim[-1][-1])\n",
    "            dat.append(d)\n",
    "            tim.append(t)\n",
    "        \n",
    "\n",
    "   \n",
    "    dat = np.concatenate(dat)\n",
    "    tim = np.concatenate(tim)\n",
    "    L = len(dat)%365\n",
    "    if L >0:\n",
    "        dat = dat[:-L]\n",
    "        tim = tim[:-L] \n",
    "    #print ('Lengths: ',L, len(dat)%365, len(tim)%365,len(dat), len(tim), len(dat))\n",
    "    \n",
    "    return dat, tim\n"
   ]
  },
  {
   "cell_type": "code",
   "execution_count": 5,
   "metadata": {},
   "outputs": [],
   "source": [
    "colors = ['r','k','g','m','c','y']\n",
    "marks = ['.','*', '+', 'o']\n",
    "marks = ['-','-','-']\n",
    "Labels = [r'S$_{1}$', r'S$_{2}$', r'S$_{3}$']"
   ]
  },
  {
   "cell_type": "markdown",
   "metadata": {},
   "source": []
  },
  {
   "cell_type": "code",
   "execution_count": null,
   "metadata": {},
   "outputs": [],
   "source": []
  },
  {
   "cell_type": "code",
   "execution_count": 153,
   "metadata": {},
   "outputs": [
    {
     "name": "stdout",
     "output_type": "stream",
     "text": [
      "-97.44921315482793\n"
     ]
    }
   ],
   "source": [
    "forcing_watershed_FM = h5py.File(\"/Users/ajc/Core/PreProcessing/ats-intermediate-ngee/data/SNAP/CESM-RCP8.5-2006-2100_dm1985-2015-FM.h5\",'r')\n",
    "\n",
    "d1 = forcing_watershed_FM['precipitation rain [m s^-1]'][:] + 0*forcing_watershed_FM['precipitation snow [m SWE s^-1]'][:] \n",
    "\n",
    "drain = [-x*86400*1000*365 for x in d1]\n",
    "d1 = forcing_watershed_FM['time [s]']\n",
    "d3_time = [t/86400/365. for t in d1]\n",
    "\n",
    "d1 = forcing_watershed_FM['air temperature [K]'][:]\n",
    "\n",
    "dtemp = [273.15-x for x in d1]\n",
    "forcing_watershed_FM.close()\n",
    "print (np.mean(drain[:365]))"
   ]
  },
  {
   "cell_type": "code",
   "execution_count": null,
   "metadata": {},
   "outputs": [],
   "source": []
  },
  {
   "cell_type": "code",
   "execution_count": null,
   "metadata": {},
   "outputs": [],
   "source": []
  },
  {
   "cell_type": "code",
   "execution_count": 13,
   "metadata": {},
   "outputs": [],
   "source": [
    "def get_moving_average(d, m=5):\n",
    "    d_avg = []\n",
    "    len1 = len(d)\n",
    "    for i in range(len1):\n",
    "        if i < m:\n",
    "            s1 = np.mean(d[:i+1])\n",
    "        else:\n",
    "            s1= np.mean(d[i-m:i])\n",
    "\n",
    "        d_avg.append(s1)\n",
    "    return d_avg"
   ]
  },
  {
   "cell_type": "code",
   "execution_count": 295,
   "metadata": {},
   "outputs": [],
   "source": [
    "%matplotlib qt\n",
    "to_day_year = 86400 *365\n",
    "Colors = ['b','k','r','r']\n",
    "Labels = ['zero-head','specified-head','dynamic-head']\n",
    "\n",
    "surface_area = 61.92\n",
    "from matplotlib import gridspec\n",
    "def get_Discharge():\n",
    "    fig, axss = plt.subplots(8,1, figsize=(6,8.5), facecolor='w', edgecolor='k',gridspec_kw={'width_ratios':[1]})\n",
    "    fig.subplots_adjust(hspace =.02, wspace=1.02)\n",
    "    gs = gridspec.GridSpec(8, 1)#, width_ratios=[1]) \n",
    "    plt.tight_layout()\n",
    "    \n",
    "    time = 2006 + np.linspace(0,94,94,dtype='int')\n",
    "    axs = plt.subplot(gs[2:4])\n",
    "    for i,sim in enumerate(Simulations):\n",
    "        d1, t1 = read_set(sim,'surface_flux-day.dat')\n",
    "        d11 = [x/(55555*surface_area)*to_day_year*1000 for x in d1] #converted to day here\n",
    "        time = 2005 + np.reshape(t1,(-1,365)).mean(axis=1)\n",
    "        if (i==2):\n",
    "            d12 = np.reshape(d11,(-1,365))\n",
    "            d21 = []\n",
    "            d22 = []\n",
    "            for d in d12:\n",
    "                dx = np.where(d>=0)\n",
    "                dy = np.where(d<0)\n",
    "                sum1 = np.sum(d[dx])/len(d)\n",
    "                sum2 = np.sum(d[dy])/len(d)\n",
    "                d21.append(sum1)\n",
    "                d22.append(sum2)\n",
    "            d21 = get_moving_average(d21)\n",
    "            d22 = get_moving_average(d22)\n",
    "            axs.plot(time, d21,color=Colors[2])#,label=Labels[2])\n",
    "            axs.plot(time, d22,color=Colors[2])\n",
    "            \n",
    "            f = np.polyfit(time,d21,1)\n",
    "            p = np.poly1d(f)\n",
    "            axs.plot(time,p(time),color=Colors[2],linestyle='dashed')\n",
    "            f = np.polyfit(time,d22,1)\n",
    "            p = np.poly1d(f)\n",
    "            axs.plot(time,p(time),color=Colors[2],linestyle='dashed')\n",
    "        else:\n",
    "            d2 = np.reshape(d11,(-1,365)).mean(axis=1)#*365\n",
    "            d2 = get_moving_average(d2)\n",
    "        \n",
    "            axs.plot(time, d2,color=Colors[i])#,label=Labels[i])\n",
    "            f = np.polyfit(time,d2,1)\n",
    "            p = np.poly1d(f)\n",
    "            axs.plot(time,p(time),color=Colors[i],linestyle='dashed')\n",
    "        \n",
    "        axs.set_xlim((2005.5, 2100))\n",
    "        axs.set_ylim((-299.9,299.9))\n",
    "        axs.set_xlabel('Year',fontsize=12, fontweight='normal')\n",
    "        \n",
    "        axs.set_ylabel('Q [mm]',fontsize=12, fontweight='normal')\n",
    "        #axs.legend(loc='lower left',labelspacing=.1)\n",
    "        axs.axhline(y=0,linestyle='dashed',color='b')\n",
    "        axs.text(2006,260,'(c)')\n",
    "        axs.xaxis.set_visible(False)\n",
    "        # Rain\n",
    "        ax1 = plt.subplot(gs[1])\n",
    "        force_time = np.reshape(d3_time,(-1,365)).mean(axis=1)\n",
    "        force_rain = -np.reshape(drain,(-1,365)).mean(axis=1)\n",
    "        ax1.plot(2005+force_time,force_rain,'grey',linestyle='-')\n",
    "        ax1.set_ylim([1, 300])\n",
    "        ax1.xaxis.set_visible(False)\n",
    "        ax1.set_xlim((2005., 2100))\n",
    "        gs.update(wspace=0.025, hspace=0.05)\n",
    "        \n",
    "        ax1.set_ylabel(r'P$_{\\mathrm{rain}}$ [mm]',fontsize=12,color='k')\n",
    "        \n",
    "        f = np.polyfit(force_time,force_rain,1)\n",
    "        p = np.poly1d(f)\n",
    "        ax1.plot(2006+force_time,p(force_time),color='k',linestyle='dashed')\n",
    "        ax1.text(2006,250,'(b)')\n",
    "        # Temp\n",
    "        ax1 = plt.subplot(gs[0])\n",
    "        force_time = np.reshape(d3_time,(-1,365)).mean(axis=1)\n",
    "        force_rain = -np.reshape(dtemp,(-1,365)).mean(axis=1)\n",
    "        ax1.plot(2005+force_time,force_rain,'grey',linestyle='-')\n",
    "        ax1.set_ylim([-14.9, 0])\n",
    "        ax1.xaxis.set_visible(False)\n",
    "        ax1.set_xlim((2005., 2100))\n",
    "        gs.update(wspace=0.025, hspace=0.05)\n",
    "        \n",
    "        ax1.set_ylabel(r'T$_\\mathrm{air}$' + ' [\\u00B0C]',fontsize=12,color='k')\n",
    "        \n",
    "        f = np.polyfit(force_time,force_rain,1)\n",
    "        p = np.poly1d(f)\n",
    "        ax1.plot(2006+force_time,p(force_time),color='k',linestyle='dashed')\n",
    "        ax1.text(2006,-3,'(a)')\n",
    "\n",
    "    ax1 = plt.subplot(gs[4:6])\n",
    "    ET = np.loadtxt(outfile+'ET-5yr_avg.dat')\n",
    "    ET = np.reshape(ET,(3,-1))\n",
    "    xx = np.linspace(2005,2100,95)\n",
    "    for i,et in enumerate(ET):\n",
    "        f = np.polyfit(xx,et,1)\n",
    "        p = np.poly1d(f)\n",
    "        ax1.plot(time, et,color=Colors[i],label=Labels[i])\n",
    "        ax1.plot(xx,p(xx),color=Colors[i],linestyle='dashed')\n",
    "        ax1.set_ylim(1,500)\n",
    "        #ax1.set_yticks(np.arange(1,500.1,100))\n",
    "        ax1.set_xlim((2005.5, 2100))\n",
    "        ax1.set_ylabel('ET [mm]',fontsize=12, fontweight='normal')\n",
    "        ax1.text(2006,450,'(d)')\n",
    "        ax1.xaxis.set_visible(False)\n",
    "    ax1 = plt.subplot(gs[6:8])\n",
    "    ET = np.loadtxt(outfile+'normalized-moisture_ALT-5yr_avg.dat')\n",
    "    ET = np.reshape(ET,(3,-1))\n",
    "    for i,et in enumerate(ET):\n",
    "        f = np.polyfit(xx,et,1)\n",
    "        p = np.poly1d(f)\n",
    "        ax1.plot(time, et,color=Colors[i],label=Labels[i])\n",
    "        ax1.plot(xx,p(xx),color=Colors[i],linestyle='dashed')\n",
    "        ax1.set_ylim(1.0,4)\n",
    "        ax1.set_yticks(np.arange(1.0,4.01,1))\n",
    "        ax1.set_xlim((2005.5, 2100))\n",
    "        ax1.set_ylabel('Normalized \\n soil moisture [-]',fontsize=12, fontweight='normal')\n",
    "        ax1.legend(loc='center left',labelspacing=.3)\n",
    "        ax1.text(2006,3.7,'(e)')\n",
    "    plt.savefig(outfile+'annual-combined.pdf', bbox_inches='tight', dpi=500)\n",
    "    #return Discharge,Recharge"
   ]
  },
  {
   "cell_type": "code",
   "execution_count": 296,
   "metadata": {},
   "outputs": [
    {
     "name": "stderr",
     "output_type": "stream",
     "text": [
      "/Users/ajc/opt/anaconda3/lib/python3.7/site-packages/ipykernel_launcher.py:61: MatplotlibDeprecationWarning: Adding an axes using the same arguments as a previous axes currently reuses the earlier instance.  In a future version, a new instance will always be created and returned.  Meanwhile, this warning can be suppressed, and the future behavior ensured, by passing a unique label to each axes instance.\n",
      "/Users/ajc/opt/anaconda3/lib/python3.7/site-packages/ipykernel_launcher.py:77: MatplotlibDeprecationWarning: Adding an axes using the same arguments as a previous axes currently reuses the earlier instance.  In a future version, a new instance will always be created and returned.  Meanwhile, this warning can be suppressed, and the future behavior ensured, by passing a unique label to each axes instance.\n",
      "/Users/ajc/opt/anaconda3/lib/python3.7/site-packages/ipykernel_launcher.py:61: MatplotlibDeprecationWarning: Adding an axes using the same arguments as a previous axes currently reuses the earlier instance.  In a future version, a new instance will always be created and returned.  Meanwhile, this warning can be suppressed, and the future behavior ensured, by passing a unique label to each axes instance.\n",
      "/Users/ajc/opt/anaconda3/lib/python3.7/site-packages/ipykernel_launcher.py:77: MatplotlibDeprecationWarning: Adding an axes using the same arguments as a previous axes currently reuses the earlier instance.  In a future version, a new instance will always be created and returned.  Meanwhile, this warning can be suppressed, and the future behavior ensured, by passing a unique label to each axes instance.\n"
     ]
    }
   ],
   "source": [
    "get_Discharge()"
   ]
  },
  {
   "cell_type": "code",
   "execution_count": null,
   "metadata": {},
   "outputs": [],
   "source": []
  },
  {
   "cell_type": "code",
   "execution_count": null,
   "metadata": {},
   "outputs": [],
   "source": [
    "\n"
   ]
  },
  {
   "cell_type": "code",
   "execution_count": null,
   "metadata": {},
   "outputs": [],
   "source": []
  }
 ],
 "metadata": {
  "kernelspec": {
   "display_name": "Python 3",
   "language": "python",
   "name": "python3"
  },
  "language_info": {
   "codemirror_mode": {
    "name": "ipython",
    "version": 3
   },
   "file_extension": ".py",
   "mimetype": "text/x-python",
   "name": "python",
   "nbconvert_exporter": "python",
   "pygments_lexer": "ipython3",
   "version": "3.7.6"
  }
 },
 "nbformat": 4,
 "nbformat_minor": 2
}
