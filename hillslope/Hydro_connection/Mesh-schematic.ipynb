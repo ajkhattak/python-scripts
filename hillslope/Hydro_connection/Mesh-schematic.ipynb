{
 "cells": [
  {
   "cell_type": "code",
   "execution_count": 2,
   "metadata": {},
   "outputs": [],
   "source": [
    "import numpy as np\n",
    "import sys,os\n",
    "import matplotlib.pyplot as plt\n",
    "import h5py \n",
    "sys.path.append('/Users/ajc/Core/PreProcessing/PyScript')\n",
    "import readdata as rd\n",
    "\n",
    "import matplotlib.image as mpimg\n",
    "import matplotlib\n",
    "font = {'family' : 'normal',\n",
    "        'weight' : 'normal',\n",
    "        'size'   : 12}\n",
    "matplotlib.rc('font', **font)"
   ]
  },
  {
   "cell_type": "code",
   "execution_count": 5,
   "metadata": {},
   "outputs": [],
   "source": [
    "path='/Users/ajc/Documents/Mypapers/TroughHydrodynamics/figures/Dec22_uniform_om/Mesh/'\n",
    "\n",
    "image = [os.path.join(path,'mesh-schematic-1.png')]"
   ]
  },
  {
   "cell_type": "code",
   "execution_count": 6,
   "metadata": {},
   "outputs": [],
   "source": [
    "Image = dict()\n",
    "for i,im in enumerate(image):\n",
    "    #print (im)\n",
    "    Image['mesh'] = mpimg.imread(im)"
   ]
  },
  {
   "cell_type": "code",
   "execution_count": 7,
   "metadata": {},
   "outputs": [
    {
     "name": "stderr",
     "output_type": "stream",
     "text": [
      "findfont: Font family ['normal'] not found. Falling back to DejaVu Sans.\n",
      "findfont: Font family ['normal'] not found. Falling back to DejaVu Sans.\n"
     ]
    },
    {
     "name": "stdout",
     "output_type": "stream",
     "text": [
      "[5 4 4 3 3 2 2 1 1]\n",
      "(751.5, -0.5)\n"
     ]
    }
   ],
   "source": [
    "%matplotlib qt\n",
    "fig, axs = plt.subplots(1,1, figsize=(8, 4), facecolor='w', edgecolor='k',gridspec_kw = {'width_ratios':[1]})\n",
    "fig.subplots_adjust(hspace =.2, wspace=0.3)\n",
    "#axs = axs.ravel()\n",
    "\n",
    "#plt.subplot(411)\n",
    "plt.tight_layout()\n",
    "y = np.linspace(5,1,9,dtype='i')\n",
    "x = np.linspace(0,12.40,3)#,dtype='i')\n",
    "#print (y)\n",
    "Labels= ['a', 'b', 'c']\n",
    "print (y)\n",
    "for i in range(1):\n",
    "    axs.imshow(Image['mesh'],aspect='auto')\n",
    "    ylim = [0,815]\n",
    "    xlim = axs.get_xlim()\n",
    "    ylim = axs.get_ylim()\n",
    "    print (ylim)\n",
    "    y1=np.linspace(ylim[1], ylim[0], 9)\n",
    "    axs.set_yticks(y1[::2])\n",
    "    axs.set_yticklabels(y[::2])\n",
    "    axs.set_xticks(np.linspace(xlim[0], xlim[1], 3))\n",
    "    axs.set_xticklabels(x)\n",
    "    #axs.text(5,500.5,r'(%s)'%Labels[i],fontweight='normal',fontsize=12)\n",
    "    axs.set_ylabel('Elevation [m]',fontweight='normal',fontsize=12)\n",
    "    axs.set_xlabel('Length [m]',fontweight='normal',fontsize=12)\n",
    "    axs.text(800, 100, '-', color='red', bbox=dict(facecolor='red', edgecolor='black',boxstyle='square,pad=-.9'))\n",
    "    axs.text(830, 100, 'Moss', color='black')\n",
    "    \n",
    "    axs.text(800, 200, '-', color='blue', bbox=dict(facecolor='blue', edgecolor='black',boxstyle='square,pad=-.9'))\n",
    "    axs.text(830, 200, 'Peat', color='black')\n",
    "    \n",
    "    axs.text(800, 300, '-', color='lightgrey', bbox=dict(facecolor='lightgrey', edgecolor='black',boxstyle='square,pad=-.9'))\n",
    "    axs.text(830, 300, 'Mineral', color='black')\n",
    "    \n",
    "    axs.text(800, 400, '-', color='white', bbox=dict(facecolor='white', edgecolor='black',boxstyle='square,pad=-.9'))\n",
    "    axs.text(830, 400, 'Ice rich', color='black')\n",
    "    \n",
    "plt.tight_layout()\n",
    "#plt.subplots_adjust(top=0.92, bottom=0.08, left=0.10, right=0.95, hspace=0.5,wspace=.6)\n",
    "plt.savefig(path + 'mesh-schematic-2A.png',bbox_inches='tight',dpi=300)"
   ]
  },
  {
   "cell_type": "code",
   "execution_count": null,
   "metadata": {},
   "outputs": [],
   "source": []
  }
 ],
 "metadata": {
  "kernelspec": {
   "display_name": "Python 3",
   "language": "python",
   "name": "python3"
  },
  "language_info": {
   "codemirror_mode": {
    "name": "ipython",
    "version": 3
   },
   "file_extension": ".py",
   "mimetype": "text/x-python",
   "name": "python",
   "nbconvert_exporter": "python",
   "pygments_lexer": "ipython3",
   "version": "3.7.6"
  }
 },
 "nbformat": 4,
 "nbformat_minor": 4
}
