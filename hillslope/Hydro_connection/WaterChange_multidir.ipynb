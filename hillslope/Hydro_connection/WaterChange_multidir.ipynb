{
 "cells": [
  {
   "cell_type": "markdown",
   "metadata": {},
   "source": [
    "# Annual change in the water content"
   ]
  },
  {
   "cell_type": "code",
   "execution_count": 1,
   "metadata": {},
   "outputs": [],
   "source": [
    "import numpy as np\n",
    "import h5py\n",
    "import os, sys\n",
    "import matplotlib.pyplot as plt\n",
    "from scipy.interpolate import CubicSpline\n",
    "from scipy.signal import savgol_filter\n",
    "import pandas as pd\n",
    "sys.path.remove(sys.path[0])\n",
    "\n",
    "sys.path.append('/Users/ajc/Core/codes/simulator/debug/ats/tools/utils/')\n",
    "import get_transect_data\n",
    "\n",
    "sys.path.append('/Users/ajc/Core/PreProcessing/PyScript')\n",
    "import readdata"
   ]
  },
  {
   "cell_type": "code",
   "execution_count": 2,
   "metadata": {},
   "outputs": [],
   "source": [
    "path = \"/Users/ajc/Core/simulations/barrow_icewedges/hydrologic_connection/ProjectionsO/\""
   ]
  },
  {
   "cell_type": "code",
   "execution_count": 3,
   "metadata": {},
   "outputs": [],
   "source": [
    "#Dec 15, 2020: ProjectionsO\n",
    "Simulations = [['CESM_C2%s'%i for i in range(3)], ['CESM_C1%s'%i for i in range(4)],['CESM_C3%s'%i for i in range(3)] ]# modified rain model, dessicated zone =0.1, longwaves\n",
    "Sim_name = ['S1','S2','S3']"
   ]
  },
  {
   "cell_type": "code",
   "execution_count": 4,
   "metadata": {},
   "outputs": [],
   "source": [
    "def getData(i,var_):\n",
    "    Data = []\n",
    "    Time = []\n",
    "    for s in Simulations[i]:\n",
    "        infile = os.path.join(path,s)\n",
    "        \n",
    "        Tim1, Dat1 = get_transect_data.get2DMatrix(infile,varnames=[var_])\n",
    "        a1 = len(Dat1[0,:,0,0])%73\n",
    "        a2 = len(Dat1[0,:,0,0]) - a1\n",
    "        \n",
    "        Tim = Tim1[:a2]\n",
    "        Dat = Dat1[:,:a2,:,:]\n",
    "        Time.append(Tim)\n",
    "        Data.append(Dat)     \n",
    "    d = dict()\n",
    "    key_v = Sim_name[i] + '_' + var_\n",
    "    key_t = Sim_name[i] + '_' + 'time'\n",
    "    d[key_v] = Data\n",
    "    d[key_t] = Time\n",
    "    \n",
    "    return d"
   ]
  },
  {
   "cell_type": "code",
   "execution_count": 5,
   "metadata": {},
   "outputs": [],
   "source": [
    "#[nvar-1,i,j,zlen-depth_s:zlen-depth_e]\n",
    "#d1 = getData(0)"
   ]
  },
  {
   "cell_type": "code",
   "execution_count": null,
   "metadata": {},
   "outputs": [],
   "source": []
  },
  {
   "cell_type": "code",
   "execution_count": 6,
   "metadata": {
    "code_folding": []
   },
   "outputs": [
    {
     "name": "stdout",
     "output_type": "stream",
     "text": [
      "3 709 45 85\n",
      "3 1515 45 85\n",
      "3 2182 45 85\n",
      "3 4774 45 85\n",
      "3 3499 45 85\n",
      "3 4700 45 85\n",
      "3 1375 45 85\n",
      "3 803 45 85\n",
      "3 1387 45 85\n",
      "3 219 45 85\n"
     ]
    }
   ],
   "source": [
    "from multiprocessing import Pool\n",
    "from functools import partial\n",
    "num_processors = 3\n",
    "pool=Pool(processes = num_processors)\n",
    "\n",
    "def call_data(var):\n",
    "    global DataS1, DataS2, DataS3\n",
    "    prod_x=partial(getData, var_=var)\n",
    "    DataS1, DataS2, DataS3 = pool.map(prod_x,[i for i in range(len(Simulations))])\n",
    "    Data = [DataS1, DataS2,DataS3]\n",
    "    return Data"
   ]
  },
  {
   "cell_type": "code",
   "execution_count": 7,
   "metadata": {},
   "outputs": [],
   "source": [
    "def getData_All(var):\n",
    "    DataSimOrig = dict()\n",
    "    DataWC = call_data(var)\n",
    "    for i in range(len(Sim_name)): #number of simulations\n",
    "        data_wc = []\n",
    "        L = len(Simulations[i])\n",
    "        Time = []\n",
    "        Wcontent  = []\n",
    "        for k in range(L): #k is for the number of directories for a simulation\n",
    "            key = list(DataWC[i].keys())[0] #[0] ='water_content', [1] = 'time'\n",
    "            \n",
    "            key_time = list(DataWC[i].keys())[1] \n",
    "            #print (i, key)\n",
    "            data_time = np.array(DataWC[i][key_time][k])\n",
    "            data_wc = np.array(DataWC[i][key][k])\n",
    "            \n",
    "            #print (data_wc.shape,data_temp.shape,data_time.shape)\n",
    "            nvar, cycles, xnum, znum = data_wc.shape\n",
    "\n",
    "            count = 1\n",
    "            count_summer = 0\n",
    "            sum1 = 0\n",
    "            for cyc in range(cycles):\n",
    "                wc = np.sum(data_wc[nvar-1,cyc,:,:])\n",
    "                Wcontent.append(wc)\n",
    "                Time.append(data_time[cyc])\n",
    "                \n",
    "        DataSimOrig[Sim_name[i] + '_water_content'] = np.array(Wcontent)\n",
    "        DataSimOrig[Sim_name[i] + '_time'] = np.array(Time)\n",
    "    return DataSimOrig"
   ]
  },
  {
   "cell_type": "code",
   "execution_count": null,
   "metadata": {},
   "outputs": [],
   "source": []
  },
  {
   "cell_type": "code",
   "execution_count": null,
   "metadata": {},
   "outputs": [],
   "source": []
  },
  {
   "cell_type": "code",
   "execution_count": 9,
   "metadata": {},
   "outputs": [],
   "source": [
    "DataSim = getData_All(var='water_content')"
   ]
  },
  {
   "cell_type": "code",
   "execution_count": null,
   "metadata": {},
   "outputs": [],
   "source": []
  },
  {
   "cell_type": "code",
   "execution_count": 10,
   "metadata": {},
   "outputs": [],
   "source": [
    "def get_moving_average(d, m=5):\n",
    "    d_avg = []\n",
    "    len1 = len(d)\n",
    "    for i in range(len1):\n",
    "        if i < m:\n",
    "            s1 = np.mean(d[:i+1])\n",
    "        else:\n",
    "            s1= np.mean(d[i-m:i])\n",
    "\n",
    "        d_avg.append(s1)\n",
    "    return d_avg"
   ]
  },
  {
   "cell_type": "code",
   "execution_count": null,
   "metadata": {},
   "outputs": [],
   "source": []
  },
  {
   "cell_type": "code",
   "execution_count": 11,
   "metadata": {},
   "outputs": [],
   "source": [
    "def getSurfaceData(i):\n",
    "    Data = []\n",
    "    var ='surface-water_content'\n",
    "    for s in Simulations[i]:\n",
    "        infile = os.path.join(path,s,'visdump_surface_data.h5')\n",
    "        dx=h5py.File(infile,'r')\n",
    "        Dat11 = np.array(readdata.GetSurfVarFromVis_All(infile,var)[var])\n",
    "        Dat11 = Dat11.mean(axis=1)\n",
    "        a1 = len(Dat11)%73\n",
    "        a2 = len(Dat11) - a1\n",
    "\n",
    "        Dat = Dat11[:a2]\n",
    "        Data.append(Dat)\n",
    "        \n",
    "    d = dict()\n",
    "    d[var] = np.concatenate(Data)\n",
    "    \n",
    "    return d"
   ]
  },
  {
   "cell_type": "code",
   "execution_count": 12,
   "metadata": {},
   "outputs": [],
   "source": [
    "from multiprocessing import Pool\n",
    "from functools import partial\n",
    "num_processors = 3\n",
    "pool=Pool(processes = num_processors)\n",
    "\n",
    "def call_data_surface():\n",
    "    global DataSurf1, DataSurf2, DataSurf3\n",
    "    prod_x=partial(getSurfaceData)\n",
    "    DataSurf1, DataSurf2, DataSurf3 = pool.map(prod_x,[i for i in range(len(Simulations))])\n",
    "    Data = [DataSurf1, DataSurf2, DataSurf3]\n",
    "    return Data"
   ]
  },
  {
   "cell_type": "code",
   "execution_count": 13,
   "metadata": {},
   "outputs": [
    {
     "data": {
      "text/plain": [
       "[{'surface-water_content': array([1320.46366377, 1320.45353671, 1320.45353671, ...,    0.        ,\n",
       "            0.        ,    0.        ])},\n",
       " {'surface-water_content': array([1320.46366377, 1320.45353671, 1320.45353671, ...,    0.        ,\n",
       "            0.        ,    0.        ])},\n",
       " {'surface-water_content': array([1320.46366377, 1320.46366377, 1320.46366377, ..., 1254.68674286,\n",
       "         1254.6819328 , 1254.67896053])}]"
      ]
     },
     "execution_count": 13,
     "metadata": {},
     "output_type": "execute_result"
    }
   ],
   "source": [
    "call_data_surface()"
   ]
  },
  {
   "cell_type": "code",
   "execution_count": null,
   "metadata": {},
   "outputs": [],
   "source": []
  },
  {
   "cell_type": "code",
   "execution_count": 71,
   "metadata": {},
   "outputs": [],
   "source": [
    "%matplotlib qt\n",
    "outfile='/Users/ajc/Documents/MyPapers/TroughHydrodynamics/figures/Dec22_uniform_om/'\n",
    "def Plot_WaterContent():\n",
    "    fig, axs = plt.subplots(1,1, figsize=(5,3.5), facecolor='w', edgecolor='k',gridspec_kw={'width_ratios':[1]})\n",
    "    fig.subplots_adjust(hspace =.02, wspace=1.02)\n",
    "    \n",
    "    plt.tight_layout()\n",
    "    #axs = axs.ravel()\n",
    "    xpos = np.array([0, 1,2,3])\n",
    "\n",
    "    Labels = ['no-flow', 'free-flow', 'hybrid-flow']\n",
    "    Labels = ['zero-head','specified-head','dynamic-head']\n",
    "    Colors = ['k','b','r','r']\n",
    "    T = ['a','b','c','d']\n",
    "    Keys = list(DataSim.keys())\n",
    "    DataSurf = [DataSurf1, DataSurf2, DataSurf3]\n",
    "    Data_temp = []\n",
    "    for i in range(3):\n",
    "        ss_d = DataSim[Keys[2*i]]\n",
    "        sf_d = DataSurf[i]['surface-water_content']\n",
    "        \n",
    "        d = np.array([x+y for x,y in zip(ss_d,sf_d)])\n",
    "        dx = np.reshape(d, (-1,73))\n",
    "        \n",
    "        storage_chanage = []\n",
    "        for d1 in dx:\n",
    "            storage_chanage.append(d1[0]/dx[0][0])\n",
    "        \n",
    "        d_avg5yr = get_moving_average(storage_chanage,m=5)\n",
    "        \n",
    "        x = np.linspace(2006,2100,95,dtype='i')\n",
    "        axs.plot(x,d_avg5yr,color=Colors[i],label=Labels[i])\n",
    "        \n",
    "        axs.set_xlim((2006, 2100))\n",
    "        axs.set_xlabel('Year',fontsize=12, fontweight='normal')\n",
    "        \n",
    "        axs.set_ylabel('Normalized water content [-]',fontsize=12, fontweight='normal')\n",
    "        axs.legend(loc='upper left',labelspacing=.1)\n",
    "        Data_temp.append(d_avg5yr)\n",
    "        print('---------')\n",
    "    Data_temp1 = np.reshape(Data_temp,(3,-1))\n",
    "    plt.savefig(outfile+'normalized-moisture_domain-5yr_avg.pdf', bbox_inches='tight', dpi=500)\n",
    "    #np.savetxt(outfile+'normalized-moisture_ALT-5yr_avg.dat', Data_temp1)\n",
    "    plt.show()\n",
    "\n"
   ]
  },
  {
   "cell_type": "code",
   "execution_count": 72,
   "metadata": {},
   "outputs": [
    {
     "name": "stdout",
     "output_type": "stream",
     "text": [
      "---------\n",
      "---------\n",
      "---------\n"
     ]
    }
   ],
   "source": [
    "Plot_WaterContent()"
   ]
  },
  {
   "cell_type": "markdown",
   "metadata": {},
   "source": [
    "# STOP HERE"
   ]
  },
  {
   "cell_type": "code",
   "execution_count": 20,
   "metadata": {},
   "outputs": [
    {
     "data": {
      "text/plain": [
       "95.0"
      ]
     },
     "execution_count": 20,
     "metadata": {},
     "output_type": "execute_result"
    }
   ],
   "source": [
    "6935/73."
   ]
  },
  {
   "cell_type": "code",
   "execution_count": null,
   "metadata": {},
   "outputs": [],
   "source": []
  }
 ],
 "metadata": {
  "kernelspec": {
   "display_name": "Python 3",
   "language": "python",
   "name": "python3"
  },
  "language_info": {
   "codemirror_mode": {
    "name": "ipython",
    "version": 3
   },
   "file_extension": ".py",
   "mimetype": "text/x-python",
   "name": "python",
   "nbconvert_exporter": "python",
   "pygments_lexer": "ipython3",
   "version": "3.7.6"
  }
 },
 "nbformat": 4,
 "nbformat_minor": 2
}
