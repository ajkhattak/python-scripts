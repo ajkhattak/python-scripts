{
 "cells": [
  {
   "cell_type": "code",
   "execution_count": null,
   "metadata": {},
   "outputs": [],
   "source": []
  },
  {
   "cell_type": "code",
   "execution_count": 1,
   "metadata": {},
   "outputs": [],
   "source": [
    "import numpy as np\n",
    "import h5py\n",
    "import os, sys\n",
    "import matplotlib.pyplot as plt\n",
    "from scipy.interpolate import CubicSpline\n",
    "from scipy.signal import savgol_filter\n",
    "import pandas as pd\n",
    "sys.path.remove(sys.path[0])\n",
    "\n",
    "sys.path.append('/Users/ajc/Core/codes/simulator/debug/ats/tools/utils/')\n",
    "import get_transect_data\n",
    "sys.path.append('/Users/ajc/Core/PreProcessing/PyScript')\n",
    "import readdata"
   ]
  },
  {
   "cell_type": "code",
   "execution_count": 2,
   "metadata": {},
   "outputs": [],
   "source": [
    "path = \"/Users/ajc/Core/simulations/barrow_icewedges/hydrologic_connection/ProjectionsO/\""
   ]
  },
  {
   "cell_type": "code",
   "execution_count": 3,
   "metadata": {},
   "outputs": [],
   "source": [
    "#Dec 22, 2020: ProjectionsO\n",
    "Simulations = [['CESM_C2%s'%i for i in range(3)], ['CESM_C1%s'%i for i in range(4)],['CESM_C3%s'%i for i in range(3)] ]# modified rain model, dessicated zone =0.1, longwaves\n"
   ]
  },
  {
   "cell_type": "code",
   "execution_count": 46,
   "metadata": {
    "code_folding": []
   },
   "outputs": [],
   "source": [
    "key_evap = 'surface-surface_subsurface_flux'\n",
    "to_day_year_mm = (86400 * 365) *1000 \n",
    "to_day_mm = (86400) *1000\n",
    "to_year = 365\n",
    "def getSurfaceData(i,loc_flag_, pos_):\n",
    "    Data = []\n",
    "    loc_flag = True\n",
    "    for s in Simulations[i]:\n",
    "        infile = os.path.join(path,s,'visdump_surface_data.h5')\n",
    "        dx=h5py.File(infile,'r')\n",
    "        \n",
    "        if (loc_flag_):\n",
    "            Dat11 = np.array(readdata.GetSurfVarFromVis(infile,key_evap,cellid=pos_)[key_evap])\n",
    "            Dat11 = Dat11*to_day_mm\n",
    "        else:\n",
    "            Dat11 = np.array(readdata.GetSurfVarFromVis_All(infile,key_evap)[key_evap])\n",
    "            \n",
    "            Dat11 = Dat11.mean(axis=1)#*to_day_mm\n",
    "            #print (Dat11)\n",
    "            #break\n",
    "        a1 = len(Dat11)%73\n",
    "        a2 = len(Dat11) - a1\n",
    "        \n",
    "        Dat = Dat11[:a2]\n",
    "        Data.append(Dat)\n",
    "        #print (s, Dat)\n",
    "    d = dict()\n",
    "    d[key_evap] = np.concatenate(Data)\n",
    "    #print (np.concatenate(Data))\n",
    "    \n",
    "    return d"
   ]
  },
  {
   "cell_type": "code",
   "execution_count": 47,
   "metadata": {},
   "outputs": [],
   "source": [
    "d1 = getSurfaceData(0,loc_flag_=0, pos_=0)"
   ]
  },
  {
   "cell_type": "code",
   "execution_count": 48,
   "metadata": {},
   "outputs": [
    {
     "data": {
      "text/plain": [
       "[<matplotlib.lines.Line2D at 0x1a23f4d6d0>]"
      ]
     },
     "execution_count": 48,
     "metadata": {},
     "output_type": "execute_result"
    }
   ],
   "source": [
    "plt.plot(d1[key_evap])"
   ]
  },
  {
   "cell_type": "code",
   "execution_count": 49,
   "metadata": {
    "code_folding": []
   },
   "outputs": [],
   "source": [
    "from multiprocessing import Pool\n",
    "from functools import partial\n",
    "num_processors = 3\n",
    "pool=Pool(processes = num_processors)\n",
    "\n",
    "def call_data(loc_flag,pos):\n",
    "    global DataSurf1, DataSurf2, DataSurf3\n",
    "    prod_x=partial(getSurfaceData, loc_flag_=loc_flag, pos_=pos)\n",
    "    DataSurf1, DataSurf2, DataSurf3 = pool.map(prod_x,[i for i in range(len(Simulations))])\n",
    "    Data = [DataSurf1, DataSurf2, DataSurf3]\n",
    "    return Data"
   ]
  },
  {
   "cell_type": "code",
   "execution_count": null,
   "metadata": {},
   "outputs": [],
   "source": []
  },
  {
   "cell_type": "code",
   "execution_count": 50,
   "metadata": {},
   "outputs": [],
   "source": [
    "def get_summer_evap(d,evap_summer=0.5):\n",
    "    x = []\n",
    "    for dat in d:\n",
    "        d1 = dat[dat>evap_summer] #if summer Evaporation is required than set evap_summer= 0.5\n",
    "        x.append(np.mean(d1))\n",
    "        \n",
    "    #print (x)\n",
    "    return x\n",
    "    #d1 = d1.mean(axis=1)\n",
    "    \n",
    "def get_moving_average1(d, m=5):\n",
    "    d_avg = []\n",
    "    len1 = len(d)\n",
    "    for i in range(len1):\n",
    "        if i < len1 - m:\n",
    "            s1 = np.mean(d[i:i+m])\n",
    "        else:\n",
    "            s1 = np.mean(d[i:i+m])\n",
    "        d_avg.append(s1)\n",
    "    return d_avg\n",
    "\n",
    "def get_moving_average(d, m=5):\n",
    "    d_avg = []\n",
    "    len1 = len(d)\n",
    "    for i in range(len1):\n",
    "        if i < m:\n",
    "            s1 = np.mean(d[:i+1])\n",
    "                \n",
    "        else:\n",
    "            s1= np.mean(d[i-m:i])\n",
    "\n",
    "        d_avg.append(s1)\n",
    "    return d_avg"
   ]
  },
  {
   "cell_type": "code",
   "execution_count": null,
   "metadata": {},
   "outputs": [],
   "source": []
  },
  {
   "cell_type": "code",
   "execution_count": null,
   "metadata": {},
   "outputs": [],
   "source": []
  },
  {
   "cell_type": "code",
   "execution_count": 51,
   "metadata": {},
   "outputs": [],
   "source": [
    "forcing_watershed_FM = h5py.File(\"/Users/ajc/Core/PreProcessing/ats-intermediate-ngee/data/SNAP/CESM-RCP8.5-2006-2100_dm1985-2015-FM_2006.h5\",'r')"
   ]
  },
  {
   "cell_type": "code",
   "execution_count": 52,
   "metadata": {},
   "outputs": [],
   "source": [
    "d1 = forcing_watershed_FM ['precipitation rain [m s^-1]']\n",
    "d2 = forcing_watershed_FM ['precipitation snow [m SWE s^-1]']\n",
    "to_year_mm= 365*1000\n",
    "rain_mm2 = np.reshape(d1,(-1,365)).mean(axis=1)*to_year_mm\n",
    "snow_mm2 = np.reshape(d2,(-1,365)).mean(axis=1)*to_year_mm\n",
    "precip_annual_watershed_FM = snow_mm2 + rain_mm2"
   ]
  },
  {
   "cell_type": "code",
   "execution_count": 53,
   "metadata": {},
   "outputs": [],
   "source": [
    "\n",
    "#plt.plot(precip_annual_watershed_FM,'b')"
   ]
  },
  {
   "cell_type": "code",
   "execution_count": null,
   "metadata": {},
   "outputs": [],
   "source": []
  },
  {
   "cell_type": "code",
   "execution_count": 88,
   "metadata": {},
   "outputs": [],
   "source": [
    "%matplotlib qt\n",
    "outfile='/Users/ajc/Documents/MyPapers/TroughHydrodynamics/figures/Dec22_uniform_om/'\n",
    "def Plot_AvgEvap_Precip():\n",
    "    fig, axs = plt.subplots(1,1, figsize=(6,3.5), facecolor='w', edgecolor='k',gridspec_kw={'width_ratios':[1]})\n",
    "    fig.subplots_adjust(hspace =.02, wspace=1.02)\n",
    "    \n",
    "    plt.tight_layout()\n",
    "    #axs = axs.ravel()\n",
    "    xpos = np.array([0, 1,2,3])\n",
    "    Colors = ['b','k','r','r']\n",
    "    Labels = ['zero head','specified head','dynamic head']\n",
    "    T = ['a','b','c','d']\n",
    "    Avg_change = []\n",
    "    Data =call_data(loc_flag=False,pos=0)\n",
    "    for i in range(3):\n",
    "        d = np.reshape(Data[i][key_evap],(-1,73)).mean(axis=1)#*365\n",
    "        #print (d)\n",
    "        #break\n",
    "        #d = get_summer_evap(d,evap_summer=0)\n",
    "        d_avg5yr = get_moving_average(d,m=5)\n",
    "        xx = np.linspace(2005,2100,95)\n",
    "        axs.plot(xx,d_avg5yr,color=Colors[i],label=Labels[i]) #moving 5 year average\n",
    "        #f = np.polyfit(xx,d_avg5yr,1)\n",
    "        #p = np.poly1d(f)\n",
    "        #axs.plot(xx,p(xx),color=Colors[i],linestyle='dashed')\n",
    "    axs.set_ylim(-.001,0)\n",
    "    #axs.set_xlim((2005, 2100))\n",
    "    axs.set_xlabel('Year',fontsize=12, fontweight='normal')\n",
    "    axs.set_ylabel('Mean annual ET [mm]',fontsize=12, fontweight='normal')\n",
    "    axs.legend(loc='lower left',labelspacing=.1)\n",
    "    plt.tight_layout()\n",
    "    #plt.savefig(outfile+'ET-5yr_avg.pdf', bbox_inches='tight', dpi=500)\n",
    "    plt.show()"
   ]
  },
  {
   "cell_type": "code",
   "execution_count": 89,
   "metadata": {},
   "outputs": [],
   "source": [
    "Plot_AvgEvap_Precip()"
   ]
  },
  {
   "cell_type": "code",
   "execution_count": null,
   "metadata": {},
   "outputs": [],
   "source": []
  },
  {
   "cell_type": "code",
   "execution_count": null,
   "metadata": {},
   "outputs": [],
   "source": []
  },
  {
   "cell_type": "code",
   "execution_count": null,
   "metadata": {},
   "outputs": [],
   "source": []
  },
  {
   "cell_type": "code",
   "execution_count": null,
   "metadata": {},
   "outputs": [],
   "source": []
  },
  {
   "cell_type": "code",
   "execution_count": null,
   "metadata": {},
   "outputs": [],
   "source": []
  },
  {
   "cell_type": "code",
   "execution_count": null,
   "metadata": {},
   "outputs": [],
   "source": []
  },
  {
   "cell_type": "code",
   "execution_count": null,
   "metadata": {},
   "outputs": [],
   "source": []
  },
  {
   "cell_type": "code",
   "execution_count": null,
   "metadata": {},
   "outputs": [],
   "source": []
  },
  {
   "cell_type": "code",
   "execution_count": null,
   "metadata": {},
   "outputs": [],
   "source": []
  },
  {
   "cell_type": "code",
   "execution_count": null,
   "metadata": {},
   "outputs": [],
   "source": []
  },
  {
   "cell_type": "code",
   "execution_count": null,
   "metadata": {},
   "outputs": [],
   "source": []
  },
  {
   "cell_type": "code",
   "execution_count": null,
   "metadata": {},
   "outputs": [],
   "source": []
  },
  {
   "cell_type": "code",
   "execution_count": null,
   "metadata": {},
   "outputs": [],
   "source": []
  },
  {
   "cell_type": "code",
   "execution_count": null,
   "metadata": {},
   "outputs": [],
   "source": []
  }
 ],
 "metadata": {
  "kernelspec": {
   "display_name": "Python 3",
   "language": "python",
   "name": "python3"
  },
  "language_info": {
   "codemirror_mode": {
    "name": "ipython",
    "version": 3
   },
   "file_extension": ".py",
   "mimetype": "text/x-python",
   "name": "python",
   "nbconvert_exporter": "python",
   "pygments_lexer": "ipython3",
   "version": "3.7.6"
  }
 },
 "nbformat": 4,
 "nbformat_minor": 2
}
