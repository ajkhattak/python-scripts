{
 "cells": [
  {
   "cell_type": "code",
   "execution_count": 1,
   "metadata": {},
   "outputs": [],
   "source": [
    "import sys, os\n",
    "import numpy as np\n",
    "import pandas as pd\n",
    "from matplotlib import pyplot as plt\n",
    "import scipy.signal\n",
    "import importlib\n",
    "import h5py\n",
    "sys.path.append('/Users/ajc/Core/PreProcessing/PyScript')\n",
    "import readdata"
   ]
  },
  {
   "cell_type": "code",
   "execution_count": 13,
   "metadata": {},
   "outputs": [],
   "source": [
    "path = \"/Users/ajc/Core/simulations/barrow_icewedges/hydrologic_connection/ProjectionsN/\"\n",
    "\n",
    "Simulations = [['CESM_C10','CESM_C11'], ['CESM_C20', 'CESM_C21'],['CESM_C30','CESM_C31','CESM_C32','CESM_C33'] ]# modified rain model\n",
    "#Simulations = [['CESM_C10'], ['CESM_C20'],['CESM_C30','CESM_C31','CESM_C32','CESM_C33'] ]# modified rain model, dessicated zone =0.2\n",
    "#Dec 15, 2020\n",
    "Simulations = [['CESM_C10B','CESM_C11B','CESM_C12B','CESM_C13B'], ['CESM_C20','CESM_C21','CESM_C22'],['CESM_C30','CESM_C31','CESM_C32','CESM_C33','CESM_C34'] ]# modified rain model, dessicated zone =0.1, longwaves\n",
    "\n",
    "\n",
    "Sim_name = ['S1','S2','S3']\n",
    "to_day_mm = 86400 * 1000\n",
    "to_day_year_mm = 86400 * 365 * 1000\n",
    "to_day_year = 86400 * 365 \n",
    "to_mm = 1000.\n",
    "surface_area = 61.92\n",
    "molar_den = 55500."
   ]
  },
  {
   "cell_type": "code",
   "execution_count": 3,
   "metadata": {},
   "outputs": [],
   "source": [
    "def read_file(file):\n",
    "    d = np.loadtxt(file,usecols=1,skiprows=6)\n",
    "    t1 = np.loadtxt(file,usecols=0,skiprows=6)\n",
    "    t = np.array([x/86400./365. for x in t1])\n",
    "    l = np.minimum(len(d),len(t))\n",
    "    return d[:l],t[:l]\n",
    "\n",
    "def read_set(set,var):\n",
    "    dat = []\n",
    "    tim = []\n",
    "    for s in set:\n",
    "        file = os.path.join(path,s, var)\n",
    "        #print (file)\n",
    "        d = np.loadtxt(file,usecols=1,skiprows=6)\n",
    "        t1 = np.loadtxt(file,usecols=0,skiprows=6)\n",
    "        t = np.array([x/86400./365. for x in t1])\n",
    "        \n",
    "        L = len(d)%365\n",
    "        if L >0:\n",
    "            d = d[:-L]\n",
    "            t = t[:len(d)]\n",
    "            \n",
    "        dat.append(d)\n",
    "        tim.append(t)\n",
    "    dat = np.concatenate(dat)\n",
    "    tim = np.concatenate(tim)\n",
    "    #print ('Lengths: ',len(dat)%365, len(tim)%365,L)\n",
    "    \n",
    "    return dat, tim"
   ]
  },
  {
   "cell_type": "code",
   "execution_count": 25,
   "metadata": {},
   "outputs": [],
   "source": [
    "%matplotlib qt\n",
    "def get_Discharge():\n",
    "    time = 2006 + np.linspace(0,94,94,dtype='int')\n",
    "    Discharge = dict()\n",
    "    Recharge = dict()\n",
    "    for i,sim in enumerate(Simulations):\n",
    "        d1, t1 = read_set(sim,'surface_flux-day.dat')\n",
    "        #d11 = [x/(molar_den*surface_area)*to_day_mm for x in d1] #converted to day here\n",
    "        d11 = [x/(molar_den)*to_day_year for x in d1] #converted to day here\n",
    "        #d11 = [x*86400 for x in d1] #converted to day here\n",
    "        \n",
    "        if (i==2):\n",
    "            d12 = np.reshape(d11,(-1,365))\n",
    "            d21 = []\n",
    "            d22 = []\n",
    "            for d in d12:\n",
    "                #print (len(d))\n",
    "                #break\n",
    "                dx = np.where(d>=0)\n",
    "                dy = np.where(d<0)\n",
    "                sum1 = np.sum(d[dx])/len(d)\n",
    "                sum2 = np.sum(d[dy])/len(d)\n",
    "                d21.append(sum1)\n",
    "                d22.append(sum2)\n",
    "            Discharge[Sim_name[i]] = d21\n",
    "            Recharge[Sim_name[i]] = d22\n",
    "        else:\n",
    "            d2 = np.reshape(d11,(-1,365)).mean(axis=1)#*365\n",
    "            #t2 = np.reshape(t1,(-1,365)).mean(axis=1)\n",
    "        \n",
    "            Discharge[Sim_name[i]] = d2\n",
    "        \n",
    "    return Discharge,Recharge"
   ]
  },
  {
   "cell_type": "code",
   "execution_count": 26,
   "metadata": {},
   "outputs": [
    {
     "name": "stdout",
     "output_type": "stream",
     "text": [
      "308 57\n",
      "300 65\n",
      "320 45\n",
      "331 34\n",
      "273 92\n",
      "296 69\n",
      "287 78\n",
      "294 71\n",
      "313 52\n",
      "337 28\n",
      "321 44\n",
      "317 48\n",
      "327 38\n",
      "325 40\n",
      "313 52\n",
      "342 23\n",
      "329 36\n",
      "315 50\n",
      "311 54\n",
      "321 44\n",
      "303 62\n",
      "273 92\n",
      "284 81\n",
      "250 115\n",
      "305 60\n",
      "315 50\n",
      "269 96\n",
      "291 74\n",
      "289 76\n",
      "343 22\n",
      "310 55\n",
      "282 83\n",
      "290 75\n",
      "297 68\n",
      "315 50\n",
      "269 96\n",
      "276 89\n",
      "303 62\n",
      "262 103\n",
      "271 94\n",
      "297 68\n",
      "268 97\n",
      "304 61\n",
      "314 51\n",
      "316 49\n",
      "284 81\n",
      "323 42\n",
      "315 50\n",
      "277 88\n",
      "291 74\n",
      "283 82\n",
      "277 88\n",
      "239 126\n",
      "283 82\n",
      "269 96\n",
      "271 94\n",
      "274 91\n",
      "241 124\n",
      "283 82\n",
      "253 112\n",
      "296 69\n",
      "287 78\n",
      "268 97\n",
      "283 82\n",
      "284 81\n",
      "270 95\n",
      "245 120\n",
      "258 107\n",
      "254 111\n",
      "244 121\n",
      "248 117\n",
      "278 87\n",
      "240 125\n",
      "287 78\n",
      "281 84\n",
      "299 66\n",
      "250 115\n",
      "295 70\n",
      "307 58\n",
      "265 100\n",
      "250 115\n",
      "226 139\n",
      "243 122\n",
      "162 203\n",
      "278 87\n",
      "252 113\n",
      "238 127\n",
      "276 89\n",
      "215 150\n",
      "265 100\n",
      "223 142\n",
      "260 105\n",
      "253 112\n",
      "236 129\n",
      "256 109\n"
     ]
    }
   ],
   "source": [
    "Qout_annual, Qin_annual = get_Discharge()"
   ]
  },
  {
   "cell_type": "code",
   "execution_count": null,
   "metadata": {},
   "outputs": [],
   "source": []
  },
  {
   "cell_type": "code",
   "execution_count": 27,
   "metadata": {},
   "outputs": [
    {
     "data": {
      "text/plain": [
       "[<matplotlib.lines.Line2D at 0x1a2b101850>]"
      ]
     },
     "execution_count": 27,
     "metadata": {},
     "output_type": "execute_result"
    }
   ],
   "source": [
    "plt.plot(Qout_annual['S1'],'b')\n",
    "plt.plot(Qout_annual['S2'],'k')\n",
    "plt.plot(Qout_annual['S3'],'r')\n",
    "plt.plot(Qin_annual['S3'],'r.')"
   ]
  },
  {
   "cell_type": "code",
   "execution_count": null,
   "metadata": {},
   "outputs": [],
   "source": [
    "def getSurfaceData(i,var,hdf_file='visdump_surface_data.h5',yr_len=365, average=True):\n",
    "    Data = []\n",
    "    print ('getSurfaceData: ',var,average)\n",
    "    for s in Simulations[i]:\n",
    "        infile = os.path.join(path,s,hdf_file)\n",
    "        print (infile)\n",
    "        dx=h5py.File(infile,'r')\n",
    "        d = np.array(readdata.GetSurfVarFromVis_All(infile,var)[var])\n",
    "        if (average):\n",
    "            d = d.mean(axis=1)\n",
    "        else:\n",
    "            d = d.sum(axis=1)\n",
    "        L = len(d)%yr_len\n",
    "        if L >0:\n",
    "            d = d[:-L]\n",
    "            \n",
    "        Data.append(d)\n",
    "    d = dict()\n",
    "    d[var] = np.concatenate(Data)\n",
    "    \n",
    "    return d"
   ]
  },
  {
   "cell_type": "code",
   "execution_count": null,
   "metadata": {},
   "outputs": [],
   "source": []
  },
  {
   "cell_type": "code",
   "execution_count": null,
   "metadata": {},
   "outputs": [],
   "source": [
    "def Evaporation():\n",
    "    Colors = ['k','b','grey','g','r','m']\n",
    "    time = 2006 + np.linspace(0,94,94,dtype='int')\n",
    "    d3_sf = []\n",
    "    sf_change = 0\n",
    "    Evap = dict()\n",
    "    for i,sim in enumerate(Simulations):\n",
    "        var = 'surface-evaporative_flux'\n",
    "        d1 = getSurfaceData(i, var,yr_len=73)[var]\n",
    "        d2 = [x*to_day_mm for x in d1]\n",
    "        d3_sf = [x*to_day_mm for x in d2] \n",
    "        Evap[Sim_name[i]] = np.reshape(d1,(-1,73)).mean(axis=1)*to_day_year_mm\n",
    "        print (len(Evap[Sim_name[i]]))\n",
    "    return Evap"
   ]
  },
  {
   "cell_type": "code",
   "execution_count": null,
   "metadata": {},
   "outputs": [],
   "source": [
    "E_annual = Evaporation()"
   ]
  },
  {
   "cell_type": "code",
   "execution_count": null,
   "metadata": {},
   "outputs": [],
   "source": [
    "plt.plot(E_annual['S1'])\n",
    "plt.plot(E_annual['S2'])\n",
    "plt.plot(E_annual['S3'])"
   ]
  },
  {
   "cell_type": "code",
   "execution_count": null,
   "metadata": {},
   "outputs": [],
   "source": [
    "def SF_WaterContent():\n",
    "    SF_WC = dict()\n",
    "    for i,sim in enumerate(Simulations):\n",
    "        var = 'surface-water_content'\n",
    "        d1_sf = getSurfaceData(i, var,yr_len=73,average=False)[var]\n",
    "        factor = 1/(molar_den *surface_area)*to_mm\n",
    "        d2_sf = [x*factor for x in d1_sf]\n",
    "        d3_sf = np.reshape(d2_sf,(-1,73))\n",
    "        d_c = []\n",
    "        for d in d3_sf:\n",
    "            d_c.append(d[-1] - d[0])\n",
    "        SF_WC[Sim_name[i]] = d_c\n",
    "        print (len(SF_WC[Sim_name[i]]))\n",
    "    return SF_WC"
   ]
  },
  {
   "cell_type": "code",
   "execution_count": null,
   "metadata": {},
   "outputs": [],
   "source": [
    "SF_WC = SF_WaterContent()"
   ]
  },
  {
   "cell_type": "code",
   "execution_count": null,
   "metadata": {},
   "outputs": [],
   "source": [
    "plt.plot(SF_WC['S1'])\n",
    "plt.plot(SF_WC['S2'],'k')\n",
    "plt.plot(SF_WC['S3'],'r')"
   ]
  },
  {
   "cell_type": "code",
   "execution_count": null,
   "metadata": {},
   "outputs": [],
   "source": [
    "\n",
    "def getSubSurfaceData(i,var='',hdf_file='visdump_data.h5',yr_len=73,average=False):\n",
    "    Data = []\n",
    "    print ('getSubSurfaceData: ',var,average)\n",
    "    for s in Simulations[i]:\n",
    "        infile=os.path.join(path,s,hdf_file)\n",
    "        d1_ss = readdata.GetSumSurfVarFromVis(file=infile, var=var)[var]\n",
    "        L = len(d1_ss)%yr_len\n",
    "        if L >0:\n",
    "            d1_ss = d1_ss[:-L]\n",
    "            \n",
    "        Data.append(d1_ss)\n",
    "    d = np.concatenate(Data)\n",
    "    \n",
    "    return d"
   ]
  },
  {
   "cell_type": "code",
   "execution_count": null,
   "metadata": {},
   "outputs": [],
   "source": []
  },
  {
   "cell_type": "code",
   "execution_count": null,
   "metadata": {},
   "outputs": [],
   "source": [
    "from multiprocessing import Pool\n",
    "from functools import partial\n",
    "num_processors = 3\n",
    "\n",
    "pool=Pool(processes = num_processors)\n",
    "\n",
    "def SS_WaterContent():\n",
    "    SS_WC = dict()\n",
    "    var = 'water_content'\n",
    "    prod_x=partial(getSubSurfaceData,var=var,yr_len=73)\n",
    "    global DataS1, DataS2, DataS3\n",
    "    DataS1, DataS2, DataS3 = pool.map(prod_x,[i for i in range(len(Simulations))])\n",
    "    d1 = [DataS1, DataS2,DataS3]\n",
    "    for i in range(3):\n",
    "        d1_ss = d1[i]\n",
    "        factor = 1/(molar_den *surface_area)*to_mm\n",
    "        d2_ss = [x*factor for x in d1_ss]\n",
    "        d3_ss = np.reshape(d2_ss,(-1,73))\n",
    "        d_c = []\n",
    "        for d in d3_ss:\n",
    "            d_c.append(d[-1] - d[0])\n",
    "        SS_WC[Sim_name[i]] = d_c\n",
    "        print (len(SS_WC[Sim_name[i]]))\n",
    "    return SS_WC\n",
    "\n"
   ]
  },
  {
   "cell_type": "code",
   "execution_count": null,
   "metadata": {},
   "outputs": [],
   "source": [
    "SS_WC = SS_WaterContent()"
   ]
  },
  {
   "cell_type": "code",
   "execution_count": null,
   "metadata": {},
   "outputs": [],
   "source": [
    "plt.plot(SS_WC['S1'])\n",
    "plt.plot(SS_WC['S2'],'k')\n",
    "plt.plot(SS_WC['S3'],'r')"
   ]
  },
  {
   "cell_type": "code",
   "execution_count": null,
   "metadata": {},
   "outputs": [],
   "source": [
    "def water_content_snow():\n",
    "    SF_SC = dict()\n",
    "    for i,sim in enumerate(Simulations):\n",
    "        var_wc_sf = 'snow-swe'\n",
    "        d1_sf = getSurfaceData(i, var_wc_sf,hdf_file='visdump_snow_data.h5',yr_len=73,average=False)[var_wc_sf]        \n",
    "        \n",
    "        d2_sf = np.reshape(d1_sf,(-1,73))\n",
    "\n",
    "        d_c = []\n",
    "        for d in d2_sf:\n",
    "            x = (d[-1] - d[0])/surface_area*1000\n",
    "            d_c.append(d[-1] - d[0])\n",
    "        SF_SC[Sim_name[i]] = d_c\n",
    "        print (len(SF_SC[Sim_name[i]]))\n",
    "    return SF_SC"
   ]
  },
  {
   "cell_type": "code",
   "execution_count": null,
   "metadata": {},
   "outputs": [],
   "source": [
    "SF_SC = water_content_snow()"
   ]
  },
  {
   "cell_type": "code",
   "execution_count": null,
   "metadata": {},
   "outputs": [],
   "source": [
    "print (len(E_annual['S1']), len(Q_annual['S1']), len(SF_WC['S1']), len(SF_SC['S1']), len(Q_annual['S1']))\n",
    "Total_S1 = E_annual['S1'] + Qout_annual['S1'] + SS_WC['S1'] + SF_WC['S1'] + SF_SC['S1'] \n",
    "Total_S2 = E_annual['S2'] + Qout_annual['S2'] + SS_WC['S2'] + SF_WC['S2'] + SF_SC['S2'] \n",
    "Total_S3 = E_annual['S3'] + Qout_annual['S3'] + SS_WC['S3'] + SF_WC['S3'] + SF_SC['S3'] #+ 0*Qin_annual['S3']"
   ]
  },
  {
   "cell_type": "code",
   "execution_count": null,
   "metadata": {},
   "outputs": [],
   "source": [
    "forcing_watershed_FM = h5py.File(\"/Users/ajc/Core/PreProcessing/ats-intermediate-ngee/data/SNAP/CESM-RCP8.5-2006-2100_dm1985-2015-FM_2006.h5\",'r')"
   ]
  },
  {
   "cell_type": "code",
   "execution_count": null,
   "metadata": {},
   "outputs": [],
   "source": [
    "d1 = forcing_watershed_FM['precipitation rain [m s^-1]']\n",
    "d2 = forcing_watershed_FM['precipitation snow [m SWE s^-1]']\n",
    "rain_mm = np.reshape(d1,(-1,365)).mean(axis=1)*86400*365*1000\n",
    "snow_mm = np.reshape(d2,(-1,365)).mean(axis=1)*86400*365*1000\n",
    "precip_annual = snow_mm + rain_mm\n",
    "r1 = np.array(d1)*86400*1000\n",
    "r2 = np.array(d2)*86400*1000\n",
    "precip_daily = r1 + r2"
   ]
  },
  {
   "cell_type": "code",
   "execution_count": null,
   "metadata": {},
   "outputs": [],
   "source": [
    "plt.plot(precip_annual,'g')\n",
    "plt.plot(precip_annual - Qin_annual['S3'],'m')\n",
    "#plt.plot(Total_S1,'b')\n",
    "\n",
    "#plt.plot(Total_S2,'k')\n",
    "plt.plot(Total_S3,'r')"
   ]
  },
  {
   "cell_type": "code",
   "execution_count": null,
   "metadata": {},
   "outputs": [],
   "source": []
  }
 ],
 "metadata": {
  "kernelspec": {
   "display_name": "Python 3",
   "language": "python",
   "name": "python3"
  },
  "language_info": {
   "codemirror_mode": {
    "name": "ipython",
    "version": 3
   },
   "file_extension": ".py",
   "mimetype": "text/x-python",
   "name": "python",
   "nbconvert_exporter": "python",
   "pygments_lexer": "ipython3",
   "version": "3.7.6"
  }
 },
 "nbformat": 4,
 "nbformat_minor": 4
}
