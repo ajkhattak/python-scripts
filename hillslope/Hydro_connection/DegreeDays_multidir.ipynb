{
 "cells": [
  {
   "cell_type": "markdown",
   "metadata": {},
   "source": [
    "# Number of above zero degree C days"
   ]
  },
  {
   "cell_type": "code",
   "execution_count": 1,
   "metadata": {},
   "outputs": [],
   "source": [
    "import numpy as np\n",
    "import h5py\n",
    "import os, sys\n",
    "import matplotlib.pyplot as plt\n",
    "from scipy.interpolate import CubicSpline\n",
    "from scipy.signal import savgol_filter\n",
    "import pandas as pd\n",
    "sys.path.remove(sys.path[0])\n",
    "\n",
    "sys.path.append('/Users/ajc/Core/codes/simulator/debug/ats/tools/utils/')\n",
    "\n",
    "import get_transect_data\n",
    "\n",
    "sys.path.append('/Users/ajc/Core/PreProcessing/PyScript')\n",
    "import readdata"
   ]
  },
  {
   "cell_type": "code",
   "execution_count": 2,
   "metadata": {},
   "outputs": [],
   "source": [
    "path = \"/Users/ajc/Core/simulations/barrow_icewedges/hydrologic_connection/ProjectionsO/\""
   ]
  },
  {
   "cell_type": "code",
   "execution_count": 3,
   "metadata": {},
   "outputs": [],
   "source": [
    "#Simulations = [['CESM_C10','CESM_C11'], ['CESM_C20', 'CESM_C21'], ['CESM_C30', 'CESM_C31']]\n",
    "#Simulations = [['CESM_C10','CESM_C11'], ['CESM_C20', 'CESM_C21'], ['CESM_C30','CESM_C31','CESM_C32','CESM_C33'] ]# modified rain model\n",
    "#Sim_name = ['S1','S2','S3']\n",
    "\n",
    "#Dec 15, 2020: ProjectionsO\n",
    "Simulations = [['CESM_C2%s'%i for i in range(3)], ['CESM_C1%s'%i for i in range(4)],['CESM_C3%s'%i for i in range(3)] ]# modified rain model, dessicated zone =0.1, longwaves\n",
    "Sim_name = ['S1','S2','S3']"
   ]
  },
  {
   "cell_type": "code",
   "execution_count": 4,
   "metadata": {},
   "outputs": [],
   "source": [
    "def getData(i,var_):\n",
    "    Data = []\n",
    "    Time = []\n",
    "    for s in Simulations[i]:\n",
    "        #print (i, s)\n",
    "        infile = os.path.join(path,s)\n",
    "        \n",
    "        Tim1, Dat1 = get_transect_data.get2DMatrix(infile,varnames=[var_])\n",
    "        a1 = len(Dat1[0,:,0,0])%73\n",
    "        a2 = len(Dat1[0,:,0,0]) - a1\n",
    "        \n",
    "        Tim = Tim1[:a2]\n",
    "        Dat = Dat1[:,:a2,:,:]\n",
    "        Time.append(Tim)\n",
    "        Data.append(Dat)\n",
    "        #print ('HERE',a1,a2, Tim1.shape)\n",
    "    d = dict()\n",
    "    key_v = Sim_name[i] + '_' + var_\n",
    "    key_t = Sim_name[i] + '_' + 'time'\n",
    "    d[key_v] = Data\n",
    "    d[key_t] = Time\n",
    "    \n",
    "    return d"
   ]
  },
  {
   "cell_type": "code",
   "execution_count": null,
   "metadata": {},
   "outputs": [],
   "source": []
  },
  {
   "cell_type": "code",
   "execution_count": null,
   "metadata": {},
   "outputs": [],
   "source": []
  },
  {
   "cell_type": "code",
   "execution_count": 5,
   "metadata": {
    "code_folding": []
   },
   "outputs": [
    {
     "name": "stdout",
     "output_type": "stream",
     "text": [
      "3 709 45 85\n",
      "3 1515 45 85\n",
      "3 2182 45 85\n",
      "3 4774 45 85\n",
      "3 3499 45 85\n",
      "3 4700 45 85\n",
      "3 1375 45 85\n",
      "3 803 45 85\n",
      "3 1387 45 85\n",
      "3 219 45 85\n"
     ]
    }
   ],
   "source": [
    "from multiprocessing import Pool\n",
    "from functools import partial\n",
    "num_processors = 3\n",
    "pool=Pool(processes = num_processors)\n",
    "\n",
    "def call_data(var):\n",
    "    global DataS1, DataS2, DataS3\n",
    "    prod_x=partial(getData, var_=var)\n",
    "    DataS1, DataS2, DataS3 = pool.map(prod_x,[i for i in range(len(Simulations))])\n",
    "    Data = [DataS1, DataS2,DataS3]\n",
    "    return Data"
   ]
  },
  {
   "cell_type": "code",
   "execution_count": 6,
   "metadata": {},
   "outputs": [],
   "source": [
    "def getData_All(var_loc):\n",
    "    DataSimOrig = dict()\n",
    "    #DataWC = call_data(var=var_loc)\n",
    "    DataTemp = call_data(var='temperature')\n",
    "    #DataVol = call_data(var='cell_volume')\n",
    "    #print (DataTemp[0].keys())\n",
    "    for i in range(len(Sim_name)): #number of simulations\n",
    "        data_wc = []\n",
    "        L = len(Simulations[i])\n",
    "        Time = []\n",
    "        DDays  = []\n",
    "        DegDays = []\n",
    "        for k in range(L): #k is for the number of directories for a simulation\n",
    "            #key = list(DataWC[i].keys())[0] #[0] ='water_content', [1] = 'time'\n",
    "            key_temp = list(DataTemp[i].keys())[0]\n",
    "            key_time = list(DataTemp[i].keys())[1]\n",
    "            \n",
    "            data_temp = np.array(DataTemp[i][key_temp][k])\n",
    "            data_time = np.array(DataTemp[i][key_time][k])\n",
    "            #print (data_wc.shape,data_temp.shape,data_time.shape)\n",
    "            nvar, cycles, xnum, znum = data_temp.shape\n",
    "            \n",
    "            for cyc in range(cycles):\n",
    "                temp_index = np.where(data_temp[nvar-1,cyc,:,:] > 273.15)\n",
    "                temp1 = data_temp[nvar-1,cyc,0,82]\n",
    "                temp_index1 = np.where(data_temp[nvar-1,cyc,:,:] <= 273.15)\n",
    "                #print (temp1)\n",
    "                if len(temp_index[0]) > 0:\n",
    "                #if temp1 > 273.15:\n",
    "                    DDays.append(5)\n",
    "                    sum1 = np.mean(data_temp[nvar-1,cyc,:,:][temp_index])\n",
    "                    #sum1 = temp1\n",
    "                    \n",
    "                    DegDays.append(sum1 - 273.15)\n",
    "                    #print (sum1-273.15)\n",
    "                    #break\n",
    "                else:\n",
    "                    DDays.append(0)\n",
    "                    sum1 = np.mean(data_temp[nvar-1,cyc,:,:][temp_index1])\n",
    "                    #print (temp_index1, data_temp[nvar-1,cyc,:,:][temp_index1])\n",
    "                    DegDays.append(sum1 - 273.15)\n",
    "\n",
    "                \n",
    "                Time.append(data_time[cyc])\n",
    "                \n",
    "                    \n",
    "        DataSimOrig[Sim_name[i] + 'day'] = np.array(DDays)\n",
    "        DataSimOrig[Sim_name[i] + '_time'] = np.array(Time)\n",
    "        DataSimOrig[Sim_name[i] + 'degday'] = np.array(DegDays)\n",
    "    return DataSimOrig"
   ]
  },
  {
   "cell_type": "code",
   "execution_count": 7,
   "metadata": {},
   "outputs": [],
   "source": [
    "DataSim = getData_All(var_loc='water_content')"
   ]
  },
  {
   "cell_type": "code",
   "execution_count": 8,
   "metadata": {},
   "outputs": [],
   "source": [
    "def get_moving_average(d, m=5):\n",
    "    d_avg = []\n",
    "    len1 = len(d)\n",
    "    for i in range(len1):\n",
    "        if i < m:\n",
    "            s1 = np.mean(d[:i+1])\n",
    "                \n",
    "        else:\n",
    "            s1= np.mean(d[i-m:i])\n",
    "\n",
    "        d_avg.append(s1)\n",
    "    return d_avg"
   ]
  },
  {
   "cell_type": "code",
   "execution_count": null,
   "metadata": {},
   "outputs": [],
   "source": []
  },
  {
   "cell_type": "code",
   "execution_count": null,
   "metadata": {},
   "outputs": [],
   "source": []
  },
  {
   "cell_type": "code",
   "execution_count": null,
   "metadata": {},
   "outputs": [],
   "source": [
    "%matplotlib qt\n",
    "outfile='/Users/ajc/Documents/MyPapers/TroughBC/figures/Nov20/'\n",
    "def Plot_PermafrostThawRate():\n",
    "    fig, axs = plt.subplots(1,1, figsize=(5,3.5), facecolor='w', edgecolor='k',gridspec_kw={'width_ratios':[1]})\n",
    "    fig.subplots_adjust(hspace =.02, wspace=1.02)\n",
    "    \n",
    "    plt.tight_layout()\n",
    "    #axs = axs.ravel()\n",
    "    xpos = np.array([0, 1,2,3])\n",
    "    #Labels = [r'S$_{1}$', r'S$_{2}$', r'S$_{3}$']\n",
    "    Labels = ['no-flow', 'free-flow', 'hybrid-flow']\n",
    "    Colors = ['k','b','r','r']\n",
    "    T = ['a','b','c','d']\n",
    "    Keys = list(DataSim.keys())\n",
    "    print (Keys)\n",
    "    \n",
    "    for i in range(3):\n",
    "        #print (DataSim[Keys[2*i]])\n",
    "        d = DataSim[Keys[3*i]]\n",
    "        #print (d)\n",
    "        #break\n",
    "        d = np.reshape(d,(-1,73)).sum(axis=1)\n",
    "        \n",
    "        d_avg5yr = get_moving_average(d,m=5)\n",
    "        \n",
    "        t = np.reshape(DataSim[Keys[3*i+1]],(-1,73)).mean(axis=1)\n",
    "\n",
    "        axs.plot(2006 + t, d_avg5yr,color=Colors[i],label=Labels[i])\n",
    "        #axs[i].text(2006,3.7,'(%s)'%T[i],fontsize=12, fontweight='normal')\n",
    "        axs.set_xlim((2007, 2100))\n",
    "        #axs.set_ylim((0, 7))\n",
    "        #axs.set_yticks(np.arange(0,20.1,10))\n",
    "        axs.set_xlabel('Calendar year',fontsize=12, fontweight='normal')\n",
    "        \n",
    "        axs.set_ylabel('Thawing degree-days',fontsize=12, fontweight='normal')\n",
    "        axs.legend(loc='upper left',labelspacing=.1)\n",
    "            \n",
    "        #axs.set_ylim(135,138)\n",
    "    print (outfile)\n",
    "    #plt.savefig(outfile+'above_freezing_days.pdf', bbox_inches='tight', dpi=500)\n",
    "    plt.show()\n",
    "\n"
   ]
  },
  {
   "cell_type": "code",
   "execution_count": null,
   "metadata": {},
   "outputs": [],
   "source": [
    "Plot_PermafrostThawRate()"
   ]
  },
  {
   "cell_type": "code",
   "execution_count": 13,
   "metadata": {},
   "outputs": [],
   "source": [
    "%matplotlib qt\n",
    "outfile='/Users/ajc/Documents/MyPapers/TroughBC/figures/Nov20/'\n",
    "def Plot_DegDays():\n",
    "    fig, axs = plt.subplots(1,1, figsize=(5,3.5), facecolor='w', edgecolor='k',gridspec_kw={'width_ratios':[1]})\n",
    "    fig.subplots_adjust(hspace =.02, wspace=1.02)\n",
    "    \n",
    "    plt.tight_layout()\n",
    "    #axs = axs.ravel()\n",
    "    xpos = np.array([0, 1,2,3])\n",
    "    #Labels = [r'S$_{1}$', r'S$_{2}$', r'S$_{3}$']\n",
    "    Labels = ['no-flow', 'free-flow', 'hybrid-flow']\n",
    "    Colors = ['k','b','r','r']\n",
    "    T = ['a','b','c','d']\n",
    "    Keys = list(DataSim.keys())\n",
    "    print (Keys)\n",
    "    \n",
    "    for i in range(3):\n",
    "        #print (DataSim[Keys[2*i]])\n",
    "        d = DataSim[Keys[3*i+2]]\n",
    "        #print (d)\n",
    "        #break\n",
    "        \n",
    "        d = np.reshape(d,(-1,73))\n",
    "        #print (d.shape)\n",
    "        DD = []\n",
    "        for kk, ix in enumerate(d):\n",
    "            \n",
    "            d1 = np.where(ix>0)[0]\n",
    "            \n",
    "            if len(d1)>0:\n",
    "                #print (d1,ix[d1])\n",
    "                \n",
    "                DD.append(np.sum(ix[d1])*5)#*len(ix[d1]))\n",
    "                #print (kk, len(ix),len(d1),np.sum(ix[d1]))\n",
    "            #break\n",
    "            #print (DD)\n",
    "        d_avg5yr = get_moving_average(DD,m=5)\n",
    "        \n",
    "        t = np.reshape(DataSim[Keys[3*i+1]],(-1,73)).mean(axis=1)\n",
    "\n",
    "        axs.plot(2006 + t, d_avg5yr,color=Colors[i],label=Labels[i])\n",
    "        #axs.plot(d_avg5yr,color=Colors[i],label=Labels[i])\n",
    "        \n",
    "        \n",
    "        axs.set_xlim((2007, 2100))\n",
    "        axs.set_ylim((200, 1050))\n",
    "        axs.set_yticks(np.arange(200,1050.,200))\n",
    "        axs.set_xlabel('Calendar year',fontsize=12, fontweight='normal')\n",
    "        \n",
    "        axs.set_ylabel('TDD [\\u00B0C d]',fontsize=12, fontweight='normal')\n",
    "        axs.legend(loc='upper left',labelspacing=.1)\n",
    "            \n",
    "        #axs.set_ylim(135,138)\n",
    "    print (outfile)\n",
    "    #plt.savefig(outfile+'/TDD.pdf', bbox_inches='tight', dpi=500)\n",
    "    plt.show()\n",
    "\n",
    "\n"
   ]
  },
  {
   "cell_type": "code",
   "execution_count": 14,
   "metadata": {},
   "outputs": [
    {
     "name": "stdout",
     "output_type": "stream",
     "text": [
      "['S1day', 'S1_time', 'S1degday', 'S2day', 'S2_time', 'S2degday', 'S3day', 'S3_time', 'S3degday']\n",
      "/Users/ajc/Documents/MyPapers/TroughBC/figures/Nov20/\n"
     ]
    }
   ],
   "source": [
    "Plot_DegDays()"
   ]
  },
  {
   "cell_type": "code",
   "execution_count": null,
   "metadata": {},
   "outputs": [],
   "source": [
    "44*35"
   ]
  },
  {
   "cell_type": "code",
   "execution_count": null,
   "metadata": {},
   "outputs": [],
   "source": []
  }
 ],
 "metadata": {
  "kernelspec": {
   "display_name": "Python 3",
   "language": "python",
   "name": "python3"
  },
  "language_info": {
   "codemirror_mode": {
    "name": "ipython",
    "version": 3
   },
   "file_extension": ".py",
   "mimetype": "text/x-python",
   "name": "python",
   "nbconvert_exporter": "python",
   "pygments_lexer": "ipython3",
   "version": "3.7.6"
  }
 },
 "nbformat": 4,
 "nbformat_minor": 2
}
