{
 "cells": [
  {
   "cell_type": "code",
   "execution_count": null,
   "metadata": {},
   "outputs": [],
   "source": []
  },
  {
   "cell_type": "code",
   "execution_count": 1,
   "metadata": {},
   "outputs": [],
   "source": [
    "import numpy as np\n",
    "import h5py\n",
    "import os, sys\n",
    "import matplotlib.pyplot as plt\n",
    "from scipy.interpolate import CubicSpline\n",
    "from scipy.signal import savgol_filter\n",
    "import pandas as pd\n",
    "sys.path.remove(sys.path[0])\n",
    "\n",
    "sys.path.append('/Users/ajc/Core/codes/simulator/debug/ats/tools/utils/')\n",
    "#sys.path.append('/Users/ajc/CODES/ats/tools/utils/')\n",
    "import get_transect_data\n",
    "\n",
    "sys.path.append('/Users/ajc/Core/PreProcessing/PyScript')\n",
    "import readdata"
   ]
  },
  {
   "cell_type": "code",
   "execution_count": 8,
   "metadata": {},
   "outputs": [],
   "source": [
    "path = \"/Users/ajc/Core/simulations/barrow_icewedges/hydrologic_connection/ProjectionsP/\"\n",
    "outfile='/Users/ajc/Documents/MyPapers/TroughHydrodynamics/figures/Feb16_uniform_om/'"
   ]
  },
  {
   "cell_type": "code",
   "execution_count": 15,
   "metadata": {},
   "outputs": [],
   "source": [
    "#Simulations = [['CESM_C10','CESM_C11'], ['CESM_C20', 'CESM_C21'],['CESM_C30', 'CESM_C31']]\n",
    "#Simulations = [['CESM_C10','CESM_C11'], ['CESM_C20', 'CESM_C21'], ['CESM_C30','CESM_C31','CESM_C32','CESM_C33'] ]# modified rain model\n",
    "\n",
    "#Dec 15, 2020\n",
    "#Simulations = [['CESM_C20','CESM_C21','CESM_C22'], ['CESM_C10B','CESM_C11B','CESM_C12B','CESM_C13B'],['CESM_C30','CESM_C31','CESM_C32','CESM_C33','CESM_C34'] ]# modified rain model, dessicated zone =0.1, longwaves\n",
    "\n",
    "#Dec 22, 2020: ProjectionsO\n",
    "#Simulations = [['CESM_C2%s'%i for i in range(3)], ['CESM_C1%s'%i for i in range(4)],['CESM_C3%s'%i for i in range(3)] ]# modified rain model, dessicated zone =0.1, longwaves\n",
    "\n",
    "#Feb 16, 2021: ProjectionsP\n",
    "Simulations = [['CESM_C2%s'%i for i in range(3)], ['CESM_C1%s'%i for i in range(4)],['CESM_C3%sX'%i for i in range(3)] ]# modified rain model, dessicated zone =0.1, longwaves\n",
    "\n"
   ]
  },
  {
   "cell_type": "code",
   "execution_count": 16,
   "metadata": {
    "code_folding": []
   },
   "outputs": [],
   "source": [
    "key_evap = 'surface-evaporative_flux'\n",
    "to_day_year_mm = (86400 * 365) *1000 \n",
    "to_day_mm = (86400) *1000\n",
    "to_year = 365\n",
    "def getSurfaceData(i,loc_flag_, pos_):\n",
    "    Data = []\n",
    "    #Time = []\n",
    "    loc_flag = True\n",
    "    #print (i,loc_flag_, pos_)\n",
    "    for s in Simulations[i]:\n",
    "        #print (i, s)\n",
    "        infile = os.path.join(path,s,'visdump_surface_data.h5')\n",
    "        dx=h5py.File(infile,'r')\n",
    "        #print (dx.keys)\n",
    "        \n",
    "        if (loc_flag_):\n",
    "            Dat11 = np.array(readdata.GetSurfVarFromVis(infile,key_evap,cellid=pos_)[key_evap])\n",
    "            Dat11 = Dat11*to_day_mm\n",
    "        else:\n",
    "            Dat11 = np.array(readdata.GetSurfVarFromVis_All(infile,key_evap)[key_evap])\n",
    "            #print ('A: ',Dat11.shape)\n",
    "            Dat11 = Dat11.mean(axis=1)*to_day_mm\n",
    "            #print ('B: ', Dat11.shape)\n",
    "        a1 = len(Dat11)%73\n",
    "        a2 = len(Dat11) - a1\n",
    "        #print ('A:', a1,a2)\n",
    "\n",
    "        Dat = Dat11[:a2]\n",
    "        Data.append(Dat)\n",
    "        #print ('HERE',a1,a2, Tim1.shape)\n",
    "        \n",
    "    d = dict()\n",
    "    d[key_evap] = np.concatenate(Data)\n",
    "    print ('Total len:', len(np.concatenate(Data)))\n",
    "    \n",
    "    return d"
   ]
  },
  {
   "cell_type": "code",
   "execution_count": 17,
   "metadata": {
    "code_folding": []
   },
   "outputs": [
    {
     "name": "stdout",
     "output_type": "stream",
     "text": [
      "Total len: 6935\n",
      "Total len: 6935\n",
      "Total len: 6935\n",
      "Total len: 6935\n",
      "Total len: 6935\n",
      "Total len: 6935\n",
      "Total len: 6935\n",
      "Total len: 6935\n",
      "Total len: 6935\n",
      "Total len: 6935\n",
      "Total len: 6935\n",
      "Total len: 6935\n"
     ]
    }
   ],
   "source": [
    "from multiprocessing import Pool\n",
    "from functools import partial\n",
    "num_processors = 3\n",
    "pool=Pool(processes = num_processors)\n",
    "\n",
    "def call_data(loc_flag,pos):\n",
    "    #print (loc_flag, pos)\n",
    "    global DataSurf1, DataSurf2, DataSurf3\n",
    "    prod_x=partial(getSurfaceData, loc_flag_=loc_flag, pos_=pos)\n",
    "    DataSurf1, DataSurf2, DataSurf3 = pool.map(prod_x,[i for i in range(len(Simulations))])\n",
    "    #DataSurf1 = pool.map(prod_x,[i for i in range(len(Simulations))])\n",
    "    Data = [DataSurf1, DataSurf2, DataSurf3]\n",
    "    return Data"
   ]
  },
  {
   "cell_type": "code",
   "execution_count": null,
   "metadata": {},
   "outputs": [],
   "source": []
  },
  {
   "cell_type": "code",
   "execution_count": 18,
   "metadata": {},
   "outputs": [],
   "source": [
    "def get_summer_evap(d,evap_summer=0.5):\n",
    "    x = []\n",
    "    for dat in d:\n",
    "        d1 = dat[dat>evap_summer] #if summer Evaporation is required than set evap_summer= 0.5\n",
    "        x.append(np.mean(d1))\n",
    "        \n",
    "    #print (x)\n",
    "    return x\n",
    "    #d1 = d1.mean(axis=1)\n",
    "    \n",
    "def get_moving_average1(d, m=5):\n",
    "    d_avg = []\n",
    "    len1 = len(d)\n",
    "    for i in range(len1):\n",
    "        if i < len1 - m:\n",
    "            s1 = np.mean(d[i:i+m])\n",
    "        else:\n",
    "            s1 = np.mean(d[i:i+m])\n",
    "        d_avg.append(s1)\n",
    "    return d_avg\n",
    "\n",
    "def get_moving_average(d, m=5):\n",
    "    d_avg = []\n",
    "    len1 = len(d)\n",
    "    for i in range(len1):\n",
    "        if i < m:\n",
    "            s1 = np.mean(d[:i+1])\n",
    "                \n",
    "        else:\n",
    "            s1= np.mean(d[i-m:i])\n",
    "\n",
    "        d_avg.append(s1)\n",
    "    return d_avg"
   ]
  },
  {
   "cell_type": "code",
   "execution_count": 19,
   "metadata": {},
   "outputs": [],
   "source": [
    "\n",
    "def Plot_Evap():\n",
    "    call_data(loc_flag=False, pos=0)\n",
    "    fig, axs = plt.subplots(2,2, figsize=(6,7), facecolor='w', edgecolor='k',gridspec_kw={'width_ratios':[1,1]})\n",
    "    fig.subplots_adjust(hspace =.02, wspace=1.02)\n",
    "    \n",
    "    plt.tight_layout()\n",
    "    axs = axs.ravel()\n",
    "    xpos = np.array([0, 1,2,3])\n",
    "    Labels = [r'S$_{1}$', r'S$_{2}$', r'S$_{3}$']\n",
    "    Colors = ['k','b','r','r']\n",
    "    T = ['a','b','c','d']\n",
    "    X = np.linspace(0,365,73)\n",
    "    dry_year = 22\n",
    "    wet_year =91\n",
    "    avg_year = [27,44,76]\n",
    "    Y = [wet_year,dry_year,avg_year[1]]\n",
    "    for i in range(3):\n",
    "        s = 73*Y[i]\n",
    "        e = 73*(Y[i]+1)\n",
    "        #print (np.mean(DataSurf1[key_evap][s:e]))\n",
    "        if i == 0:\n",
    "            print (len(X), len(DataSurf1[key_evap][s:e]))\n",
    "            axs[i].plot(X,DataSurf1[key_evap][s:e],'k',label=Labels[0])\n",
    "            axs[i].plot(X,DataSurf2[key_evap][s:e],'b',label=Labels[1])\n",
    "            axs[i].plot(X,DataSurf3[key_evap][s:e],'r',label=Labels[2])\n",
    "            axs[i].legend(loc='best',fontsize=8,labelspacing=0.1)\n",
    "        else:\n",
    "            axs[i].plot(X,DataSurf1[key_evap][s:e],'k')\n",
    "            axs[i].plot(X,DataSurf2[key_evap][s:e],'b')\n",
    "            axs[i].plot(X,DataSurf3[key_evap][s:e],'r')\n",
    "        if i ==0 or i ==2:\n",
    "            axs[i].set_ylabel('Evaporation [mm/day]',fontsize=12, fontweight='normal')\n",
    "        if i == 2:\n",
    "            axs[i].set_xlabel('Day of year',fontsize=12, fontweight='normal')\n",
    "        axs[i].set_xlim((0, 365))\n",
    "        axs[i].set_ylim((0, 7.01))\n",
    "        axs[i].text(6.5,6.5,'(%s)'%T[i],fontsize=12, fontweight='normal')\n",
    "        axs[i].set_yticks(np.arange(0,7,2))\n",
    "        \n",
    "    d = np.reshape(DataSurf1[key_evap],(-1,73))#.mean(axis=1)\n",
    "    d = get_summer_evap(d)\n",
    "    d_avg5yr = get_moving_average(d)\n",
    "    print (i, len(d_avg5yr))\n",
    "    xx = np.linspace(2005,2100,95)\n",
    "    #axs[3].plot(xx,d,'k') #annual average\n",
    "   \n",
    "    axs[3].plot(xx,d_avg5yr,'k') #moving 5 year average\n",
    "    \n",
    "    d = np.reshape(DataSurf2[key_evap],(-1,73))#.mean(axis=1)\n",
    "    d = get_summer_evap(d)\n",
    "    d_avg5yr = get_moving_average(d)\n",
    "    xx = np.linspace(2005,2100,96)\n",
    "    #axs[3].plot(xx,d,'b')\n",
    "    print ('HERE: ',len(xx), len(d_avg5yr))\n",
    "    axs[3].plot(xx,d_avg5yr,'b')\n",
    "    \n",
    "    d = np.reshape(DataSurf3[key_evap],(-1,73))#.mean(axis=1)\n",
    "    d = get_summer_evap(d)\n",
    "    d_avg5yr = get_moving_average(d)\n",
    "    #axs[3].plot(xx,d,'r')\n",
    "    xx = np.linspace(2005,2100,95)\n",
    "    print ('HERE1: ',len(xx), len(d_avg5yr))\n",
    "    axs[3].plot(xx,d_avg5yr,'r') #moving 5 year average\n",
    "    axs[3].text(2006,2.8,'(%s)'%T[3],fontsize=12, fontweight='normal')\n",
    "    axs[3].set_xlim((2005, 2100))\n",
    "    axs[3].set_ylim((0, 3.01))\n",
    "    axs[3].set_yticks(np.arange(0,3.1,1))\n",
    "    axs[3].set_xlabel('Calendar year',fontsize=12, fontweight='normal')\n",
    "    #plt.legend()\n",
    "    #axs.set_ylim(135,138)\n",
    "    \n",
    "    #plt.savefig(outfile+'evaporation-center-moving5yr_avg.pdf', bbox_inches='tight', dpi=400)\n",
    "    plt.show()"
   ]
  },
  {
   "cell_type": "code",
   "execution_count": 20,
   "metadata": {},
   "outputs": [],
   "source": [
    "#Plot_Evap()"
   ]
  },
  {
   "cell_type": "code",
   "execution_count": 21,
   "metadata": {},
   "outputs": [],
   "source": [
    "#forcing_polygon = h5py.File(\"/Users/ajc/FUSE/simulations/production/barrow_watershed/data/CESM/CESM-RCP8.5-2006-2100_dm1985-2018.h5\",'r')\n",
    "#forcing_polygon_new = h5py.File(\"/Users/ajc/Core/PreProcessing/ats-intermediate-ngee/data/SNAP/CESM-RCP8.5-2006-2100_dm1985-2018-feb2020.h5\",'r')\n",
    "#forcing_watershed = h5py.File(\"/Users/ajc/FUSE/simulations/production/barrow_watershed/data/CESM/CESM-RCP8_5-2006-2100_snowadjusted_supersmoothDM_2006.h5\",'r')\n",
    "forcing_watershed_FM = h5py.File(\"/Users/ajc/Core/PreProcessing/ats-intermediate-ngee/data/SNAP/CESM-RCP8.5-2006-2100_dm1985-2015-ET_2006.h5\",'r')"
   ]
  },
  {
   "cell_type": "code",
   "execution_count": 22,
   "metadata": {},
   "outputs": [],
   "source": [
    "\"\"\"\n",
    "d1 = forcing_polygon['precipitation rain [m s^-1]']\n",
    "d2 = forcing_polygon['precipitation snow [m SWE s^-1]']\n",
    "rain_mm1 = np.reshape(d1,(-1,365)).mean(axis=1)*to_year_mm\n",
    "snow_mm1 = np.reshape(d2,(-1,365)).mean(axis=1)*to_year_mm\n",
    "precip_annual = snow_mm1 + rain_mm1\n",
    "\n",
    "\n",
    "d1 = forcing_polygon_new['precipitation rain [m s^-1]']\n",
    "d2 = forcing_polygon_new['precipitation snow [m SWE s^-1]']\n",
    "rain_mm1 = np.reshape(d1,(-1,365)).mean(axis=1)*to_year_mm\n",
    "snow_mm1 = np.reshape(d2,(-1,365)).mean(axis=1)*to_year_mm\n",
    "precip_annual1 = snow_mm1 + rain_mm1\n",
    "\n",
    "d1 = forcing_watershed ['precipitation rain [m s^-1]']\n",
    "d2 = forcing_watershed ['precipitation snow [m SWE s^-1]']\n",
    "rain_mm2 = np.reshape(d1,(-1,365)).mean(axis=1)*to_year_mm\n",
    "snow_mm2 = np.reshape(d2,(-1,365)).mean(axis=1)*to_year_mm\n",
    "precip_annual_watershed = snow_mm2 + rain_mm2\n",
    "\"\"\"\n",
    "d1 = forcing_watershed_FM ['precipitation rain [m s^-1]']\n",
    "d2 = forcing_watershed_FM ['precipitation snow [m SWE s^-1]']\n",
    "to_year_mm= 365*1000\n",
    "rain_mm2 = np.reshape(d1,(-1,365)).mean(axis=1)*to_year_mm\n",
    "snow_mm2 = np.reshape(d2,(-1,365)).mean(axis=1)*to_year_mm\n",
    "precip_annual_watershed_FM = snow_mm2 + rain_mm2"
   ]
  },
  {
   "cell_type": "code",
   "execution_count": 23,
   "metadata": {},
   "outputs": [
    {
     "data": {
      "text/plain": [
       "[<matplotlib.lines.Line2D at 0x7fb37b6ef590>]"
      ]
     },
     "execution_count": 23,
     "metadata": {},
     "output_type": "execute_result"
    }
   ],
   "source": [
    "#plt.plot(precip_annual,'k')\n",
    "#plt.plot(precip_annual1,'g.')\n",
    "#plt.plot(precip_annual_watershed,'r')\n",
    "plt.plot(precip_annual_watershed_FM,'b')"
   ]
  },
  {
   "cell_type": "code",
   "execution_count": 24,
   "metadata": {},
   "outputs": [],
   "source": [
    "%matplotlib qt\n",
    "#outfile='/Users/ajc/Documents/MyPapers/TroughHydrodynamics/figures/Dec22_uniform_om/'\n",
    "def Plot_Evap_Center_Trough_All():\n",
    "    fig, axs = plt.subplots(3,1, figsize=(5,8), facecolor='w', edgecolor='k',gridspec_kw={'width_ratios':[1]})\n",
    "    fig.subplots_adjust(hspace =.02, wspace=1.02)\n",
    "    \n",
    "    plt.tight_layout()\n",
    "    axs = axs.ravel()\n",
    "    xpos = np.array([0, 1,2,3])\n",
    "    #Labels = [r'S$_{1}$', r'S$_{2}$', r'S$_{3}$']\n",
    "    Colors = ['b','k','r','r']\n",
    "    Labels = ['zero-head','specified-head','dynamic-head']\n",
    "    T = ['Trough','Rim','Center','d']\n",
    "    Avg_change = []\n",
    "    for i in range(3):\n",
    "        if i == 0:\n",
    "            call_data(loc_flag=True,pos=0)\n",
    "        elif (i==1):\n",
    "            call_data(loc_flag=True,pos=11)\n",
    "        else:\n",
    "            call_data(loc_flag=True,pos=-1)\n",
    "        if (i==10):\n",
    "            print (len(DataSurf1[key_evap]),len(DataSurf2[key_evap]),len(DataSurf3[key_evap]))\n",
    "            print (DataSurf1[key_evap],DataSurf2[key_evap],DataSurf3[key_evap])\n",
    "        d = np.reshape(DataSurf1[key_evap],(-1,73)).mean(axis=1)*365\n",
    "        d = get_summer_evap(d)\n",
    "        d_avg5yr = get_moving_average(d,m=5)\n",
    "        xx = np.linspace(2005,2100,95)\n",
    "        #axs[3].plot(xx,d,'k') #annual average\n",
    "        axs[i].plot(xx,d_avg5yr,'k',label=Labels[0]) #moving 5 year average\n",
    "        x1 = (d[-1] - d[0])/d[0]*100\n",
    "        Avg_change.append(x1)\n",
    "        if (i==1):\n",
    "            print (d_avg5yr)\n",
    "        #----------------------------------------------------\n",
    "        d = np.reshape(DataSurf2[key_evap],(-1,73)).mean(axis=1)*365\n",
    "        d = get_summer_evap(d)\n",
    "        d_avg5yr = get_moving_average(d)\n",
    "        xx = np.linspace(2005,2100,95)\n",
    "        #axs[3].plot(xx,d,'b')\n",
    "        axs[i].plot(xx,d_avg5yr,'b',label=Labels[1])\n",
    "    \n",
    "        x1 = (d[-1] - d[0])/d[0]*100\n",
    "        Avg_change.append(x1)\n",
    "        \n",
    "        #----------------------------------------------------\n",
    "        d = np.reshape(DataSurf3[key_evap],(-1,73)).mean(axis=1)*365\n",
    "        d = get_summer_evap(d)\n",
    "        d_avg5yr = get_moving_average(d)\n",
    "        xx = np.linspace(2005,2100,95)\n",
    "        #axs[3].plot(xx,d,'r')\n",
    "        x1 = (d[-1] - d[0])/d[0]*100\n",
    "        Avg_change.append(x1)\n",
    "        #---------------------------------------------------\n",
    "        axs[i].plot(xx,d_avg5yr,'r',label=Labels[2]) #moving 5 year average\n",
    "        if (i==0 or i ==2):\n",
    "            axs[i].text(2086,10.,'%s'%T[i],fontsize=12, fontweight='normal')\n",
    "        else:\n",
    "            axs[i].text(2092,10.,'%s'%T[i],fontsize=12, fontweight='normal')\n",
    "        axs[i].set_xlim((2005, 2100))\n",
    "        #axs[i].set_ylim((0, 4))\n",
    "        #axs[i].set_yticks(np.arange(0,4.1,1))\n",
    "        if (i==2):\n",
    "            axs[i].set_xlabel('Year',fontsize=12, fontweight='normal')\n",
    "            \n",
    "        axs[i].set_ylabel('Mean annual ET [mm]',fontsize=12, fontweight='normal')\n",
    "        if (i==2):\n",
    "            axs[2].legend(loc='upper left',labelspacing=.1,fontsize=12)\n",
    "        #axs[2].legend(loc='upper right', fontsize=12, ncol=3, bbox_to_anchor=(0.7,-0.32, .1, .1))\n",
    "        #axs.set_ylim(135,138)\n",
    "        #--axs[2].plot(xx,precip_annual,'c',label=Labels[2]) #moving 5 year average\n",
    "        axs[i].set_ylim(0,650)\n",
    "        #axs[1].set_ylim(0,610)\n",
    "        #axs[2].set_ylim(0,600)\n",
    "        \n",
    "    #print (Avg_change)\n",
    "    plt.savefig(outfile+'evaporation-micro_loc-5yr_avg.pdf', bbox_inches='tight', dpi=500)\n",
    "    plt.show()\n"
   ]
  },
  {
   "cell_type": "code",
   "execution_count": 25,
   "metadata": {},
   "outputs": [
    {
     "name": "stdout",
     "output_type": "stream",
     "text": [
      "[143.93392438732337, 97.31733944884573, 103.21766679255948, 93.70415322395779, 99.22157660802675, 99.22157660802675, 96.81457724409519, 108.42385538154288, 116.19085507252593, 128.87535968159023, 118.56222403498438, 118.54901750825813, 122.96684800226383, 108.24480437390818, 102.83376347835242, 128.15815971400758, 127.36158576506598, 121.99942879487526, 133.95171779701792, 146.69048607456944, 127.96789125422586, 110.8903758273113, 101.65282172706142, 97.23678236129008, 79.41661361347975, 78.1349345769557, 92.8826314237961, 102.04923711308936, 97.02257116926566, 113.76035321111658, 123.35974727419725, 128.6110782240537, 137.6312997053091, 133.8044474527457, 130.3978722604242, 125.12816568097453, 134.01696598655644, 143.42824312848896, 153.5451471017932, 173.21744797791956, 179.4831271517744, 163.73853789571336, 151.69931901887918, 157.58849225686694, 135.57484881031104, 137.57096039834926, 163.49959889240773, 171.2194368106794, 165.88830293847323, 170.33639813988668, 172.419831471434, 151.30337641874473, 124.15071685755, 110.70561118516653, 103.7756995993951, 93.7957966116816, 88.27948347619966, 104.80681212835991, 111.9332217654456, 108.04494936455164, 120.08576164650762, 134.5631102457804, 136.84303920343746, 155.4539206834517, 151.3942751403535, 146.93804615996117, 139.89774222613784, 157.26584629921678, 159.41034876937528, 176.6675257754181, 199.33778777231112, 204.15808164313427, 186.6125790665701, 187.02494315561003, 197.57097401411744, 172.34313786100915, 167.92945823784356, 196.83124549004668, 197.34684451424394, 175.35817640508475, 186.12735805271797, 203.46782770528583, 178.70409043089427, 148.3776227237738, 145.82499958117288, 133.0321258345915, 116.44269156076564, 111.69673670129592, 132.1485018790522, 137.58770979696175, 132.63810107688565, 140.03379568979722, 154.85356590293617, 160.64517353921352, 178.08047158167219]\n"
     ]
    }
   ],
   "source": [
    "Plot_Evap_Center_Trough_All()"
   ]
  },
  {
   "cell_type": "code",
   "execution_count": null,
   "metadata": {},
   "outputs": [],
   "source": []
  },
  {
   "cell_type": "code",
   "execution_count": null,
   "metadata": {},
   "outputs": [],
   "source": [
    "#outfile='/Users/ajc/Documents/MyPapers/TroughBC/figures/Dec14/'\n",
    "def Plot_AvgEvap_Precip_old():\n",
    "    fig, axs = plt.subplots(1,2, figsize=(8,4), facecolor='w', edgecolor='k',gridspec_kw={'width_ratios':[1,1]})\n",
    "    fig.subplots_adjust(hspace =.02, wspace=1.02)\n",
    "    \n",
    "    plt.tight_layout()\n",
    "    axs = axs.ravel()\n",
    "    xpos = np.array([0, 1,2,3])\n",
    "    Colors = ['b','k','r','r']\n",
    "    Labels = ['zero head','specified head','dynamic head']\n",
    "    T = ['a','b','c','d']\n",
    "    Avg_change = []\n",
    "    print ('HERE')\n",
    "    call_data(loc_flag=False,pos=0)\n",
    "    d = np.reshape(DataSurf1[key_evap],(-1,73)).mean(axis=1)*365\n",
    "    d = get_summer_evap(d,evap_summer=0)\n",
    "    d_avg5yr = get_moving_average(d,m=5)\n",
    "    xx = np.linspace(2005,2100,95)\n",
    "    axs[1].plot(xx,d_avg5yr,'k',label=Labels[0]) #moving 5 year average\n",
    "    x1 = (d[-1] - d[0])/d[0]*100\n",
    "    Avg_change.append(x1)\n",
    "    f = np.polyfit(xx,d_avg5yr,1)\n",
    "    p = np.poly1d(f)\n",
    "    axs[1].plot(xx,p(xx),color='k',linestyle='dashed')\n",
    "    print ('HERE1')\n",
    "    #----------------------------------------------------\n",
    "    d = np.reshape(DataSurf2[key_evap],(-1,73)).mean(axis=1)*365\n",
    "    d = get_summer_evap(d,evap_summer=0)\n",
    "    d_avg5yr = get_moving_average(d)\n",
    "    xx = np.linspace(2005,2100,95)\n",
    "    axs[1].plot(xx,d_avg5yr,'b',label=Labels[1])\n",
    "    x1 = (d[-1] - d[0])/d[0]*100\n",
    "    Avg_change.append(x1)\n",
    "    f = np.polyfit(xx,d_avg5yr,1)\n",
    "    p = np.poly1d(f)\n",
    "    axs[1].plot(xx,p(xx),color='b',linestyle='dashed')\n",
    "    print ('HERE2')\n",
    "    #----------------------------------------------------\n",
    "    d = np.reshape(DataSurf3[key_evap],(-1,73)).mean(axis=1)*365\n",
    "    d = get_summer_evap(d,evap_summer=0)\n",
    "    d_avg5yr = get_moving_average(d)\n",
    "    xx = np.linspace(2005,2100,95)\n",
    "    x1 = (d[-1] - d[0])/d[0]*100\n",
    "    Avg_change.append(x1)\n",
    "    f = np.polyfit(xx,d_avg5yr,1)\n",
    "    p = np.poly1d(f)\n",
    "    axs[1].plot(xx,p(xx),color='r',linestyle='dashed')\n",
    "    #---------------------------------------------------\n",
    "    axs[1].plot(xx,d_avg5yr,'r',label=Labels[2]) #moving 5 year average\n",
    "    \n",
    "    axs[1].set_xlim((2005, 2100))\n",
    "    \n",
    "    axs[1].set_xlabel('Calendar year',fontsize=12, fontweight='normal')\n",
    "\n",
    "    axs[1].set_ylabel('Annual average evaporation [mm]',fontsize=12, fontweight='normal')\n",
    "    axs[1].legend(loc='upper left',labelspacing=.1)\n",
    "    axs[1].set_ylim(0,600)\n",
    "    #print (Avg_change)\n",
    "    \n",
    "    #axs[2].legend(loc='upper right', fontsize=12, ncol=3, bbox_to_anchor=(0.7,-0.32, .1, .1))\n",
    "    #axs.set_ylim(135,138)\n",
    "    #--axs[2].plot(xx,precip_annual,'c',label=Labels[2]) #moving 5 year average\n",
    "    axs[0].plot(xx,precip_annual_watershed_FM,'k',label=Labels[2]) #moving 5 year average\n",
    "    \n",
    "    f = np.polyfit(xx,precip_annual_watershed_FM,1)\n",
    "    p = np.poly1d(f)\n",
    "    axs[0].plot(xx,p(xx),color='k',linestyle='dashed')\n",
    "    axs[0].set_ylim(0,600)\n",
    "    axs[0].set_xlim((2005, 2100))\n",
    "    axs[0].set_xlabel('Calendar year',fontsize=12, fontweight='normal')\n",
    "    axs[0].set_ylabel('Annual average precipitation [mm]',fontsize=12, fontweight='normal')\n",
    "    plt.tight_layout()\n",
    "    #plt.savefig(outfile+'precip-evaporation-5yr_avg.pdf', bbox_inches='tight', dpi=500)\n",
    "    plt.show()\n",
    "\n"
   ]
  },
  {
   "cell_type": "code",
   "execution_count": null,
   "metadata": {},
   "outputs": [],
   "source": [
    "#Plot_AvgEvap_Precip()"
   ]
  },
  {
   "cell_type": "code",
   "execution_count": 26,
   "metadata": {},
   "outputs": [],
   "source": [
    "%matplotlib qt\n",
    "#outfile='/Users/ajc/Documents/MyPapers/TroughHydrodynamics/figures/Dec22_uniform_om/'\n",
    "def Plot_AvgEvap_Precip():\n",
    "    fig, axs = plt.subplots(1,1, figsize=(6,3.5), facecolor='w', edgecolor='k',gridspec_kw={'width_ratios':[1]})\n",
    "    fig.subplots_adjust(hspace =.02, wspace=1.02)\n",
    "    \n",
    "    plt.tight_layout()\n",
    "    #axs = axs.ravel()\n",
    "    xpos = np.array([0, 1,2,3])\n",
    "    Colors = ['b','k','r','r']\n",
    "    Labels = ['zero head','specified head','dynamic head']\n",
    "    T = ['a','b','c','d']\n",
    "    Avg_change = []\n",
    "    Data =call_data(loc_flag=False,pos=0)\n",
    "    Data_temp = []\n",
    "    for i in range(3):\n",
    "        d = np.reshape(Data[i][key_evap],(-1,73)).mean(axis=1)*365\n",
    "        d = get_summer_evap(d,evap_summer=0)\n",
    "        d_avg5yr = get_moving_average(d,m=5)\n",
    "        xx = np.linspace(2005,2100,95)\n",
    "        axs.plot(xx,d_avg5yr,color=Colors[i],label=Labels[i]) #moving 5 year average\n",
    "        f = np.polyfit(xx,d_avg5yr,1)\n",
    "        p = np.poly1d(f)\n",
    "        axs.plot(xx,p(xx),color=Colors[i],linestyle='dashed')\n",
    "        Data_temp.append(d_avg5yr)\n",
    "    axs.set_ylim(0,500)\n",
    "    axs.set_xlim((2005, 2100))\n",
    "    axs.set_xlabel('Year',fontsize=12, fontweight='normal')\n",
    "    axs.set_ylabel('Mean annual ET [mm]',fontsize=12, fontweight='normal')\n",
    "    axs.legend(loc='upper left',labelspacing=.1)\n",
    "    plt.tight_layout()\n",
    "    #plt.savefig(outfile+'ET-5yr_avg.pdf', bbox_inches='tight', dpi=500)\n",
    "    Data_temp1 = np.reshape(Data_temp,(3,-1))\n",
    "    np.savetxt(outfile+'ET-5yr_avg.dat', Data_temp1)\n",
    "    plt.show()"
   ]
  },
  {
   "cell_type": "code",
   "execution_count": 27,
   "metadata": {},
   "outputs": [],
   "source": [
    "Plot_AvgEvap_Precip()"
   ]
  },
  {
   "cell_type": "code",
   "execution_count": null,
   "metadata": {},
   "outputs": [],
   "source": [
    "#d1 = forcing['precipitation rain [m s^-1]']\n",
    "#d2 = np.reshape(d1,(-1,365)).mean(axis=1)*86400*365*1000\n",
    "\n",
    "#print (min(d2),np.where(d2==min(d2)))\n",
    "#print (max(d2),np.where(d2==max(d2)))\n",
    "\n",
    "#x = d2[ (d2>191) & (d2<193)][0]\n",
    "#print (x,d2[40],d2[76])\n",
    "#print (np.mean(d2),np.where(d2==x))\n",
    "\n"
   ]
  },
  {
   "cell_type": "code",
   "execution_count": null,
   "metadata": {},
   "outputs": [],
   "source": [
    "plt.plot(rain_mm,'r-*')\n",
    "plt.plot(snow_mm,'g-*')\n",
    "plt.plot(precip_annual,'k-*')\n",
    "#plt.axhline(x,color='r')"
   ]
  },
  {
   "cell_type": "code",
   "execution_count": null,
   "metadata": {},
   "outputs": [],
   "source": [
    "import re\n",
    "def sorted_nicely( l ):\n",
    "    convert = lambda text: int(text) if text.isdigit() else text\n",
    "    alphanum_key = lambda key: [convert(c) for c in re.split('([0-9]+)', key)]\n",
    "    return sorted(l, key = alphanum_key)"
   ]
  },
  {
   "cell_type": "code",
   "execution_count": null,
   "metadata": {},
   "outputs": [],
   "source": [
    "Simulations = ['CESM_C10','CESM_C11']\n",
    "ss_data =h5py.File(os.path.join(path,Simulations[0],'visdump_data.h5'),'r')\n",
    "wc = ss_data['water_content.cell.0']"
   ]
  },
  {
   "cell_type": "code",
   "execution_count": null,
   "metadata": {},
   "outputs": [],
   "source": [
    "sf_data =h5py.File(os.path.join(path,Simulations[0],'visdump_surface_data.h5'),'r')\n",
    "wc_sf = sf_data['surface-water_content.cell.0']\n",
    "evap_sf = sf_data['surface-evaporative_flux.cell.0']"
   ]
  },
  {
   "cell_type": "code",
   "execution_count": null,
   "metadata": {},
   "outputs": [],
   "source": [
    "Cycles = wc.keys()\n",
    "Cycles = sorted_nicely(Cycles)\n",
    "L = len(Cycles)%73\n",
    "Cycles_orig = Cycles[:-L]\n",
    "Cycles =  [Cycles[0], Cycles[72]]\n",
    "print (Cycles[:10], len(Cycles))"
   ]
  },
  {
   "cell_type": "code",
   "execution_count": null,
   "metadata": {},
   "outputs": [],
   "source": []
  },
  {
   "cell_type": "code",
   "execution_count": null,
   "metadata": {},
   "outputs": [],
   "source": [
    "data_ss = []\n",
    "for c in Cycles:\n",
    "    d1 = np.concatenate(wc[c])\n",
    "    d = np.sum(d1)\n",
    "    data_ss.append(d)\n",
    "#data_wc = np.reshape(data_ss,(-1,73))\n",
    "data_wc = np.array(data_ss)"
   ]
  },
  {
   "cell_type": "code",
   "execution_count": null,
   "metadata": {},
   "outputs": [],
   "source": [
    "data_sf = []\n",
    "for c in Cycles:\n",
    "    d1 = np.concatenate(wc_sf[c])\n",
    "    d = np.sum(d1)\n",
    "    data_sf.append(d)\n",
    "\n",
    "#data_wc_sf = np.reshape(data_sf,(-1,73))\n",
    "data_wc_sf = np.array(data_sf)"
   ]
  },
  {
   "cell_type": "code",
   "execution_count": null,
   "metadata": {},
   "outputs": [],
   "source": [
    "data_sf = []\n",
    "for c in Cycles_orig:\n",
    "    d1 = np.concatenate(evap_sf[c])\n",
    "    d = np.mean(d1)*to_year_mm\n",
    "    data_sf.append(d)\n",
    "\n",
    "#data_evap_sf = np.reshape(data_sf,(-1,73))\n",
    "data_evap_sf = np.array(data_sf)"
   ]
  },
  {
   "cell_type": "code",
   "execution_count": null,
   "metadata": {},
   "outputs": [],
   "source": [
    "data_wc.shape"
   ]
  },
  {
   "cell_type": "code",
   "execution_count": null,
   "metadata": {},
   "outputs": [],
   "source": [
    "mass = (data_wc[-1] - data_wc[0]) / 55555.\n",
    "mass_sf = (data_wc_sf[-1] - data_wc_sf[0])  / 55555.\n",
    "area_sf = 61.92 #12 * 50\n",
    "mass_total = mass + mass_sf\n",
    "print (mass, mass_sf, mass_total/area_sf*1000) "
   ]
  },
  {
   "cell_type": "code",
   "execution_count": null,
   "metadata": {},
   "outputs": [],
   "source": [
    "print (precip_annual[0], np.mean(data_evap_sf))"
   ]
  },
  {
   "cell_type": "code",
   "execution_count": null,
   "metadata": {},
   "outputs": [],
   "source": []
  }
 ],
 "metadata": {
  "kernelspec": {
   "display_name": "Python 3",
   "language": "python",
   "name": "python3"
  },
  "language_info": {
   "codemirror_mode": {
    "name": "ipython",
    "version": 3
   },
   "file_extension": ".py",
   "mimetype": "text/x-python",
   "name": "python",
   "nbconvert_exporter": "python",
   "pygments_lexer": "ipython3",
   "version": "3.7.6"
  }
 },
 "nbformat": 4,
 "nbformat_minor": 2
}
