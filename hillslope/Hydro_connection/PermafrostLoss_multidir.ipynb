{
 "cells": [
  {
   "cell_type": "markdown",
   "metadata": {},
   "source": [
    "# Permafrost thaw rate [cm/yr]"
   ]
  },
  {
   "cell_type": "code",
   "execution_count": 1,
   "metadata": {},
   "outputs": [],
   "source": [
    "import numpy as np\n",
    "import h5py\n",
    "import os, sys\n",
    "import matplotlib.pyplot as plt\n",
    "from scipy.interpolate import CubicSpline\n",
    "from scipy.signal import savgol_filter\n",
    "import pandas as pd\n",
    "sys.path.remove(sys.path[0])\n",
    "\n",
    "sys.path.append('/Users/ajc/Core/codes/simulator/debug/ats/tools/utils/')\n",
    "import get_transect_data\n",
    "\n",
    "sys.path.append('/Users/ajc/Core/PreProcessing/PyScript')\n",
    "import readdata"
   ]
  },
  {
   "cell_type": "code",
   "execution_count": 2,
   "metadata": {},
   "outputs": [],
   "source": [
    "path = \"/Users/ajc/Core/simulations/barrow_icewedges/hydrologic_connection/ProjectionsK/\""
   ]
  },
  {
   "cell_type": "code",
   "execution_count": 3,
   "metadata": {},
   "outputs": [],
   "source": [
    "#Simulations = [['CESM_C10','CESM_C11'], ['CESM_C20', 'CESM_C21'], ['CESM_C30', 'CESM_C31']]\n",
    "Simulations = [['CESM_C10','CESM_C11'], ['CESM_C20', 'CESM_C21'], ['CESM_C30','CESM_C31','CESM_C32','CESM_C33'] ]# modified rain model\n",
    "Sim_name = ['S1','S2','S3']"
   ]
  },
  {
   "cell_type": "code",
   "execution_count": 4,
   "metadata": {},
   "outputs": [],
   "source": [
    "def getData(i,var_):\n",
    "    Data = []\n",
    "    Time = []\n",
    "    for s in Simulations[i]:\n",
    "        #print (i, s)\n",
    "        infile = os.path.join(path,s)\n",
    "        \n",
    "        Tim1, Dat1 = get_transect_data.get2DMatrix(infile,varnames=[var_])\n",
    "        a1 = len(Dat1[0,:,0,0])%73\n",
    "        a2 = len(Dat1[0,:,0,0]) - a1\n",
    "        \n",
    "        Tim = Tim1[:a2]\n",
    "        Dat = Dat1[:,:a2,:,:]\n",
    "        Time.append(Tim)\n",
    "        Data.append(Dat)\n",
    "        #print ('HERE',a1,a2, Tim1.shape)\n",
    "    d = dict()\n",
    "    key_v = Sim_name[i] + '_' + var_\n",
    "    key_t = Sim_name[i] + '_' + 'time'\n",
    "    d[key_v] = Data\n",
    "    d[key_t] = Time\n",
    "    \n",
    "    return d"
   ]
  },
  {
   "cell_type": "code",
   "execution_count": 5,
   "metadata": {},
   "outputs": [],
   "source": [
    "#[nvar-1,i,j,zlen-depth_s:zlen-depth_e]\n",
    "#d1 = getData(0)"
   ]
  },
  {
   "cell_type": "code",
   "execution_count": null,
   "metadata": {},
   "outputs": [],
   "source": []
  },
  {
   "cell_type": "code",
   "execution_count": 6,
   "metadata": {
    "code_folding": []
   },
   "outputs": [
    {
     "name": "stdout",
     "output_type": "stream",
     "text": [
      "3 4801 45 85\n",
      "3 5038 45 85\n",
      "3 5261 45 85\n",
      "3 862 45 85\n",
      "3 864 45 85\n",
      "3 1679 45 85\n",
      "3 1971 45 85\n",
      "3 584 45 85\n",
      "3 4801 45 85\n",
      "3 5038 45 85\n",
      "3 5261 45 85\n",
      "3 862 45 85\n",
      "3 864 45 85\n",
      "3 1679 45 85\n",
      "3 1971 45 85\n",
      "3 584 45 85\n"
     ]
    }
   ],
   "source": [
    "from multiprocessing import Pool\n",
    "from functools import partial\n",
    "num_processors = 3\n",
    "pool=Pool(processes = num_processors)\n",
    "\n",
    "def call_data(var):\n",
    "    global DataS1, DataS2, DataS3\n",
    "    prod_x=partial(getData, var_=var)\n",
    "    DataS1, DataS2, DataS3 = pool.map(prod_x,[i for i in range(len(Simulations))])\n",
    "    Data = [DataS1, DataS2,DataS3]\n",
    "    return Data"
   ]
  },
  {
   "cell_type": "code",
   "execution_count": 7,
   "metadata": {},
   "outputs": [],
   "source": [
    "def getData_All(var_loc):\n",
    "    DataSimOrig = dict()\n",
    "    DataWC = call_data(var=var_loc)\n",
    "    DataTemp = call_data(var='temperature')\n",
    "    #DataVol = call_data(var='cell_volume')\n",
    "    #print (DataTemp[0].keys())\n",
    "    for i in range(len(Sim_name)): #number of simulations\n",
    "        data_wc = []\n",
    "        L = len(Simulations[i])\n",
    "        Time = []\n",
    "        Wcontent  = []\n",
    "        for k in range(L): #k is for the number of directories for a simulation\n",
    "            key = list(DataWC[i].keys())[0] #[0] ='water_content', [1] = 'time'\n",
    "            key_temp = list(DataTemp[i].keys())[0]\n",
    "            key_time = list(DataWC[i].keys())[1]\n",
    "            #key_vol = list(DataVol[i].keys())[0]\n",
    "            #print (i, key)\n",
    "            data_time = np.array(DataWC[i][key_time][k])\n",
    "            data_wc = np.array(DataWC[i][key][k])\n",
    "\n",
    "            data_temp = np.array(DataTemp[i][key_temp][k])\n",
    "            #data_vol = np.array(DataVol[i][key_vol][k])\n",
    "            \n",
    "            print (data_wc.shape,data_temp.shape,data_time.shape)\n",
    "            nvar, cycles, xnum, znum = data_wc.shape\n",
    "\n",
    "            \n",
    "            sum1 = 0\n",
    "            den = 916/0.018015\n",
    "            for cyc in range(cycles):\n",
    "                temp_index = np.where(data_temp[nvar-1,cyc,:,:] < 273.15)\n",
    "                dat = data_wc[nvar-1,cyc,:,:][temp_index]\n",
    "                #dat_v = data_vol[nvar-1,cyc,:,:][temp_index]\n",
    "                \n",
    "                sum1 =  np.sum(dat)/den\n",
    "                \n",
    "                Wcontent.append(sum1)\n",
    "                Time.append(data_time[cyc])\n",
    "                \n",
    "                    \n",
    "        DataSimOrig[Sim_name[i] + var_loc] = np.array(Wcontent)\n",
    "        DataSimOrig[Sim_name[i] + '_time'] = np.array(Time)\n",
    "    return DataSimOrig"
   ]
  },
  {
   "cell_type": "code",
   "execution_count": 8,
   "metadata": {},
   "outputs": [
    {
     "name": "stdout",
     "output_type": "stream",
     "text": [
      "(3, 5256, 45, 85) (3, 5256, 45, 85) (5256,)\n",
      "(3, 1679, 45, 85) (3, 1679, 45, 85) (1679,)\n",
      "(3, 5037, 45, 85) (3, 5037, 45, 85) (5037,)\n",
      "(3, 1971, 45, 85) (3, 1971, 45, 85) (1971,)\n",
      "(3, 4745, 45, 85) (3, 4745, 45, 85) (4745,)\n",
      "(3, 803, 45, 85) (3, 803, 45, 85) (803,)\n",
      "(3, 803, 45, 85) (3, 803, 45, 85) (803,)\n",
      "(3, 584, 45, 85) (3, 584, 45, 85) (584,)\n"
     ]
    }
   ],
   "source": [
    "DataSim = getData_All(var_loc='water_content')"
   ]
  },
  {
   "cell_type": "code",
   "execution_count": 9,
   "metadata": {},
   "outputs": [],
   "source": [
    "def get_moving_average1(d, m=5):\n",
    "    d_avg = []\n",
    "    len1 = len(d)\n",
    "    for i in range(len1):\n",
    "        if i < len1 - m:\n",
    "            s1 = np.mean(d[i:i+m])\n",
    "        else:\n",
    "            s1 = np.mean(d[i:i+m])\n",
    "        d_avg.append(s1)\n",
    "    return d_avg\n",
    "def get_moving_average(d, m=5):\n",
    "    d_avg = []\n",
    "    len1 = len(d)\n",
    "    for i in range(len1):\n",
    "        if i < m:\n",
    "            s1 = np.mean(d[:i+1])\n",
    "        else:\n",
    "            s1= np.mean(d[i-m:i])\n",
    "\n",
    "        d_avg.append(s1)\n",
    "    return d_avg"
   ]
  },
  {
   "cell_type": "code",
   "execution_count": null,
   "metadata": {},
   "outputs": [],
   "source": [
    "S1_ALT = [0.54,0.55,0.55,0.57,0.56,0.57,0.55,0.54,0.53,0.54,0.56,0.58,0.59,0.58,0.57,0.58,0.59,0.59,0.63,0.65,0.64,0.67,0.7,0.73,0.75,0.73,0.73,0.73,0.73,0.75,0.78,0.8,0.81,0.82,0.84,0.84,0.86,0.87,0.87,0.87,0.88,0.9,0.94,0.95,0.95,0.94,0.95,0.95,0.96,0.99,1.03,1.05,1.07,1.11,1.13,1.16,1.13,1.13,1.13,1.13,1.13,1.16,1.16,1.16,1.16,1.16,1.16,1.16,1.19,1.23,1.28,1.29,1.34,1.37,1.39,1.36,1.36,1.34,1.31,1.31,1.4,1.51,1.63,1.77,1.91,2.04,2.17,2.23,2.28,2.34,2.37,2.35,2.41,2.47,2.47]\n",
    "\n",
    "S2_ALT = [0.57,0.58,0.58,0.6,0.59,0.6,0.59,0.58,0.57,0.58,0.59,0.61,0.62,0.61,0.6,0.61,0.62,0.62,0.65,0.68,0.67,0.7,0.73,0.76,0.79,0.78,0.79,0.8,0.8,0.8,0.83,0.84,0.85,0.85,0.86,0.86,0.87,0.87,0.87,0.87,0.88,0.9,0.94,0.95,0.95,0.94,0.94,0.94,0.95,0.98,1.02,1.05,1.07,1.11,1.13,1.16,1.13,1.13,1.13,1.13,1.13,1.16,1.16,1.16,1.16,1.16,1.16,1.16,1.19,1.22,1.25,1.26,1.31,1.34,1.39,1.39,1.41,1.39,1.36,1.34,1.41,1.53,1.68,1.85,2.01,2.14,2.26,2.34,2.4,2.47,2.53,2.55,2.58,2.64,2.64,2.64 ]\n",
    "\n",
    "S3_ALT = [0.54,0.55,0.55,0.57,0.56,0.58,0.56,0.55,0.55,0.56,0.57,0.59,0.6,0.58,0.57,0.58,0.58,0.58,0.61,0.64,0.63,0.66,0.69,0.72,0.74,0.72,0.73,0.73,0.74,0.75,0.79,0.8,0.81,0.81,0.84,0.84,0.85,0.85,0.84,0.83,0.84,0.87,0.89,0.9,0.9,0.9,0.9,0.9,0.91,0.94,0.97,0.97,0.98,1.01,1.03,1.05,1.03,1.05,1.03,1.03,1.05,1.07,1.08,1.11,1.12,1.13,1.15,1.16,1.17,1.22,1.27,1.28,1.33,1.37,1.39,1.36,1.36,1.34,1.31,1.29,1.38,1.49,1.61,1.73,1.88,1.98,2.09,2.11,2.17,2.19,2.19,2.17,2.21,2.24,2.16]\n",
    "\n",
    "ALT = [S1_ALT,S2_ALT,S3_ALT]"
   ]
  },
  {
   "cell_type": "code",
   "execution_count": null,
   "metadata": {},
   "outputs": [],
   "source": []
  },
  {
   "cell_type": "code",
   "execution_count": null,
   "metadata": {},
   "outputs": [],
   "source": [
    "%matplotlib qt\n",
    "outfile='/Users/ajc/Documents/MyPapers/TroughBC/figures/Oct20/'\n",
    "def Plot_PermafrostThawRate():\n",
    "    fig, axs = plt.subplots(1,1, figsize=(5,3.5), facecolor='w', edgecolor='k',gridspec_kw={'width_ratios':[1]})\n",
    "    fig.subplots_adjust(hspace =.02, wspace=1.02)\n",
    "    \n",
    "    plt.tight_layout()\n",
    "    #axs = axs.ravel()\n",
    "    xpos = np.array([0, 1,2,3])\n",
    "    #Labels = [r'S$_{1}$', r'S$_{2}$', r'S$_{3}$']\n",
    "    Labels = ['no-flow', 'free-flow', 'hybrid-flow']\n",
    "    Colors = ['k','b','r','r']\n",
    "    T = ['a','b','c','d']\n",
    "    Keys = list(DataSim.keys())\n",
    "    print (Keys)\n",
    "    TD = [2.5, 2.4, 2]\n",
    "    for i in range(3):\n",
    "        #print (DataSim[Keys[2*i]])\n",
    "        d = DataSim[Keys[2*i]]\n",
    "        \n",
    "        d = np.reshape(d,(-1,73))\n",
    "        x_init = d[0][52] #52 is 260 day (Sept 17th)\n",
    "        alt_depth = ALT[i]\n",
    "        print (len(d), len(alt_depth))\n",
    "        d = [ 100* (x_init - x[52])/((49.77 - al)*12.15) for x,al in zip(d,alt_depth)] # x_length = 12.15 m\n",
    "        d_avg5yr = get_moving_average(d,m=5)\n",
    "        \n",
    "        t = np.reshape(DataSim[Keys[2*i+1]],(-1,73)).mean(axis=1)\n",
    "\n",
    "        axs.plot(2006 + t, d_avg5yr,color=Colors[i],label=Labels[i])\n",
    "        #axs[i].text(2006,3.7,'(%s)'%T[i],fontsize=12, fontweight='normal')\n",
    "        axs.set_xlim((2007, 2100))\n",
    "        axs.set_ylim((0, 7))\n",
    "        #axs.set_yticks(np.arange(0,20.1,10))\n",
    "        axs.set_xlabel('Calendar year',fontsize=12, fontweight='normal')\n",
    "        \n",
    "        axs.set_ylabel(r'Permafrost thaw rate [cm yr$^{-1}$]',fontsize=12, fontweight='normal')\n",
    "        axs.legend(loc='upper left',labelspacing=.1)\n",
    "            \n",
    "        #axs.set_ylim(135,138)\n",
    "    print (outfile)\n",
    "    plt.savefig(outfile+'permafrost_thawrate.pdf', bbox_inches='tight', dpi=500)\n",
    "    plt.show()\n",
    "\n"
   ]
  },
  {
   "cell_type": "code",
   "execution_count": null,
   "metadata": {},
   "outputs": [],
   "source": [
    "Plot_PermafrostThawRate()"
   ]
  },
  {
   "cell_type": "code",
   "execution_count": null,
   "metadata": {},
   "outputs": [],
   "source": []
  }
 ],
 "metadata": {
  "kernelspec": {
   "display_name": "Python 3",
   "language": "python",
   "name": "python3"
  },
  "language_info": {
   "codemirror_mode": {
    "name": "ipython",
    "version": 3
   },
   "file_extension": ".py",
   "mimetype": "text/x-python",
   "name": "python",
   "nbconvert_exporter": "python",
   "pygments_lexer": "ipython3",
   "version": "3.7.6"
  }
 },
 "nbformat": 4,
 "nbformat_minor": 2
}
