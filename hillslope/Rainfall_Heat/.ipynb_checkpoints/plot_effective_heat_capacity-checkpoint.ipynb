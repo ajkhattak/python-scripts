{
 "cells": [
  {
   "cell_type": "code",
   "execution_count": 1,
   "metadata": {},
   "outputs": [
    {
     "name": "stdout",
     "output_type": "stream",
     "text": [
      "/Users/ajc/Core/codes/simulator/repos/amanzi/src/physics/ats/tools/utils/plot_water_table2D.py\n",
      "/Users/ajc/Core/codes/simulator/repos/amanzi/src/physics/ats/tools/utils/parse_ats.py\n"
     ]
    }
   ],
   "source": [
    "import numpy as np\n",
    "import os, sys\n",
    "import h5py\n",
    "import pandas as pd\n",
    "import matplotlib.pyplot as plt\n",
    "import matplotlib\n",
    "import datetime as DT\n",
    "import matplotlib.dates as mdates\n",
    "\n",
    "#sys.path.remove(sys.path[0])\n",
    "#sys.path.append('/Users/ajc/Core/codes/simulator/debug/ats/tools/utils/')\n",
    "#sys.path.append('/Users/ajc/Core/codes/simulator/debug/ats/tools/utils/')\n",
    "\n",
    "import plot_water_table2D\n",
    "\n",
    "import importlib as imp\n",
    "print (plot_water_table2D.__file__)\n",
    "font = {'family' : 'normal',\n",
    "        'weight' : 'normal',\n",
    "        'size'   : 12}\n",
    "matplotlib.rc('font', **font)\n",
    "import parse_ats\n",
    "print (parse_ats.__file__)\n",
    "\n",
    "import get_transect_data"
   ]
  },
  {
   "cell_type": "code",
   "execution_count": 2,
   "metadata": {},
   "outputs": [],
   "source": [
    "path = \"/Users/ajc/Core/simulations/hillslope/rain_advection/SIM_06/\""
   ]
  },
  {
   "cell_type": "code",
   "execution_count": 3,
   "metadata": {},
   "outputs": [
    {
     "name": "stdout",
     "output_type": "stream",
     "text": [
      "[['S3_P20_1A'], ['S3_P20_3A'], ['S3_P20_1B'], ['S3_P20_3B']]\n"
     ]
    }
   ],
   "source": [
    "Simulations = [['S3_P20_%sX'%(i+1) for i in range(1)], ['S3_P20_%sX'%(i+3) for i in range(1)],\n",
    "              ['S3_P20_%sZ'%(i+1) for i in range(1)], ['S3_P20_%sZ'%(i+3) for i in range(1)],\n",
    "              ['S3_P20_%sA'%(i+1) for i in range(1)], ['S3_P20_%sA'%(i+3) for i in range(1)],\n",
    "              ['S3_P20_%sC'%(i+1) for i in range(1)], ['S3_P20_%sC'%(i+3) for i in range(1)]]\n",
    "\n",
    "Simulations = [['S3_P20_%sA'%(i+1) for i in range(1)], ['S3_P20_%sA'%(i+3) for i in range(1)],\n",
    "              ['S3_P20_%sB'%(i+1) for i in range(1)], ['S3_P20_%sB'%(i+3) for i in range(1)]]\n",
    "\n",
    "print (Simulations)\n",
    "Sim_name = ['S3_P20_1x','S3_P34_1x','S3_P50_1x','S3_P20_3x','S3_P34_3x','S3_P50_3x']\n",
    "Sim_name = ['S3_P20_1X','S3_P20_3X', 'S3_P20_1Z','S3_P20_3Z','S3_P20_1A','S3_P20_3A','S3_P20_1C','S3_P20_3C']\n",
    "Sim_name = ['S3_P20_1A','S3_P20_3A', 'S3_P20_1B','S3_P20_3B']"
   ]
  },
  {
   "cell_type": "code",
   "execution_count": 4,
   "metadata": {},
   "outputs": [],
   "source": [
    "def getData(i):\n",
    "    Data = []\n",
    "    Time = []\n",
    "    for s in Simulations[i]:\n",
    "        #print (i, s)\n",
    "        infile = os.path.join(path,s)\n",
    "        \n",
    "        Tim1, Dat1 = get_transect_data.get2DMatrix(infile,varnames=['temperature'])\n",
    "        a1 = len(Dat1[0,:,0,0])%365\n",
    "        a2 = len(Dat1[0,:,0,0]) - a1\n",
    "        \n",
    "        Tim = Tim1[:a2]\n",
    "        Dat = Dat1[:,:a2,:,:]\n",
    "        Time.append(Tim)\n",
    "        Data.append(Dat)\n",
    "    d = dict()\n",
    "    d['temperature'] = Data\n",
    "    d['time'] = Time\n",
    "    \n",
    "    return d"
   ]
  },
  {
   "cell_type": "code",
   "execution_count": 5,
   "metadata": {},
   "outputs": [],
   "source": [
    "from multiprocessing import Pool\n",
    "num_processors = 4\n",
    "p=Pool(processes = num_processors)\n",
    "\n",
    "#DataS1, DataS2, DataS3, DataS4,DataS5, DataS6,DataS7,DataS8 = p.map(getData,[i for i in range(len(Simulations))])\n",
    "DataS1, DataS2, DataS3, DataS4 = p.map(getData,[i for i in range(len(Simulations))])"
   ]
  },
  {
   "cell_type": "code",
   "execution_count": 6,
   "metadata": {},
   "outputs": [],
   "source": [
    "#Data = [DataS1, DataS2, DataS3, DataS4, DataS5, DataS6,DataS7,DataS8]\n",
    "Data = [DataS1, DataS2, DataS3, DataS4]"
   ]
  },
  {
   "cell_type": "code",
   "execution_count": 236,
   "metadata": {},
   "outputs": [],
   "source": [
    "def get_temp_at_depth(dat,season = \" \", start=0, end=-1,depth_s=-1,depth_e=-1, yr_cyc=365,domain='entire'):\n",
    "    #25 * 2cm = 50 cm\n",
    "    sim_len = len(dat['temperature'])\n",
    "    x_pos = start\n",
    "    data = []\n",
    "    times = []\n",
    "    HillslopeT = dict()\n",
    "    AvgTemp = [] # np.zeros(cycles)\n",
    "    for k in range(sim_len):\n",
    "        data = np.array(dat['temperature'][k])\n",
    "        time = dat['time'][k]\n",
    "        nvar, cycles, xnum, znum = data.shape\n",
    "     \n",
    "        zlen = len(data[1,0,0,:])-1\n",
    "        xlen = len(data[0,0,:,0])-1\n",
    "       \n",
    "        for cyc in range(cycles):\n",
    "            sum1 = data[nvar-1,cyc,x_pos,zlen-depth_s]\n",
    "            #print ('S: ',sum1, zlen, depth_s)\n",
    "            AvgTemp.append(sum1)\n",
    "        times.append(time)\n",
    "    L = len(AvgTemp)%int(yr_cyc)\n",
    "    times = np.concatenate(times)\n",
    "    #print ('Lengths: ', len(AvgTemp), len(times))\n",
    "    HillslopeT['times'] = np.array([t*365 - 365. for t in times])\n",
    "    HillslopeT_Avg = np.array(AvgTemp)\n",
    "    \n",
    "    HillslopeT['temp'] = HillslopeT_Avg\n",
    "    return HillslopeT\n",
    "\n"
   ]
  },
  {
   "cell_type": "code",
   "execution_count": 104,
   "metadata": {},
   "outputs": [],
   "source": [
    "depth1 = [[0,10]] # active layer, 0.5-2 m, 2-3.5m"
   ]
  },
  {
   "cell_type": "code",
   "execution_count": 105,
   "metadata": {},
   "outputs": [
    {
     "name": "stdout",
     "output_type": "stream",
     "text": [
      "Lengths:  365 365\n",
      "Lengths:  365 365\n",
      "Lengths:  365 365\n",
      "Lengths:  365 365\n"
     ]
    }
   ],
   "source": [
    "start1_,end1_, = 100,5\n",
    "Data_X = dict()\n",
    "\n",
    "permafrost = ['top']\n",
    "Names = ['S1', 'S2','S3', 'S4','S5', 'S6','S7', 'S8']\n",
    "for i in range(len(permafrost)):\n",
    "    for dat,name in zip(Data,Names):\n",
    "        #print (name)\n",
    "        d = get_temp_at_depth(dat,start=start1_,end=end1_,depth_s=depth1[i][1],depth_e=depth1[i][0],yr_cyc=365,domain='entire')\n",
    "        Data_X[name + '_temp'] = d['temp']\n",
    "        Data_X[name +'_time'] = d['times']\n",
    "        #break"
   ]
  },
  {
   "cell_type": "code",
   "execution_count": 168,
   "metadata": {},
   "outputs": [],
   "source": [
    "Data_X.keys()\n",
    "#print (Data_X['S1_top_temp'])\n",
    "outfile='/Users/ajc/Documents/MyPapers/RainWarming/figures/'"
   ]
  },
  {
   "cell_type": "code",
   "execution_count": 254,
   "metadata": {},
   "outputs": [],
   "source": [
    "# Three zones : Active layer, shallow permafrost, deep permafrost\n",
    "%matplotlib qt\n",
    "\n",
    "def Plot_Wetlands_Uplands():\n",
    "    fig, ax = plt.subplots(1,2, figsize=(6,4), facecolor='w', edgecolor='k',gridspec_kw={'width_ratios':[1,1]})\n",
    "    fig.subplots_adjust(hspace =.02, wspace=1.02)\n",
    "    TempC = 1*273.15\n",
    "    plt.tight_layout()\n",
    "    ax = ax.ravel()\n",
    "    xpos = np.array([0, 1,2,3])\n",
    "    Xticks = [r'S$_{0}$', r'S$_{30}$', r'S$_{60}$', r'S$_{90}$']\n",
    "    Colors = ['k','r','g','c']\n",
    "    marks = ['solid', 'dashed', 'dotted']\n",
    "    X, T1 = [], []\n",
    "\n",
    "    start1_,end1_, = 100,5\n",
    "    \n",
    "\n",
    "    Names = ['S1', 'S2','S3', 'S4','S5', 'S6','S7', 'S8']\n",
    "    \n",
    "    for k,lenx in enumerate([50,100]):\n",
    "        axs = ax[k]\n",
    "        for i,dp in enumerate([5,10,15]):\n",
    "            Data_X = dict()\n",
    "            for dat,name in zip(Data,Names):\n",
    "\n",
    "                d = get_temp_at_depth(dat,start=lenx,end=100,depth_s=dp,depth_e=0,yr_cyc=365,domain='entire')\n",
    "                Data_X[name + '_temp'] = d['temp']\n",
    "                Data_X[name +'_time'] = d['times']\n",
    "            #print (Data_X.keys())\n",
    "            S1 = [x - TempC for x in Data_X['S1_temp']]\n",
    "            S2 = [x - TempC for x in Data_X['S2_temp']]\n",
    "            T = Data_X['S1_time']\n",
    "            DX =  np.array(S2) - np.array(S1)\n",
    "            if i ==0:\n",
    "                axs.plot(T,DX,color=Colors[0],label='Wetter soil',linestyle=marks[i],linewidth=1.)\n",
    "            else:\n",
    "                axs.plot(T,DX,color=Colors[0],linestyle=marks[i],linewidth=1.)\n",
    "\n",
    "            S1 = [x - TempC for x in Data_X['S3_temp']]\n",
    "            S2 = [x - TempC for x in Data_X['S4_temp']]\n",
    "            T = Data_X['S3_time']\n",
    "            DX =  np.array(S2) - np.array(S1)\n",
    "            if i ==0:\n",
    "                axs.plot(T,DX,color=Colors[1],label='Drier soil',linestyle=marks[i],linewidth=1.)\n",
    "            else:\n",
    "                axs.plot(T,DX,color=Colors[1],linestyle=marks[i],linewidth=1.)\n",
    "\n",
    "            \n",
    "        \n",
    "        axs.set_xlabel('Time [day]',fontsize=12, fontweight='normal')\n",
    "        axs.set_xlim(233,260)\n",
    "        axs.set_ylim(-0.25,.25)\n",
    "        #axs.axvline(235,ymin=0.3, ymax=0.7,color='b',linestyle='dashed')\n",
    "        #axs.axvline(260,ymin=0.3, ymax=0.7,color='b',linestyle='dashed')\n",
    "        axs.text(234,-0.225,'$x$ = %s m'%lenx,fontsize=12, fontweight='normal')\n",
    "    ax[0].legend(loc='upper left',fontsize=8,labelspacing=0.5)\n",
    "    ax[0].set_ylabel(u'$\\Delta$ T [\\u00B0C]',fontsize=12, fontweight='normal')\n",
    "    plt.tight_layout()\n",
    "    plt.savefig(outfile+'temp_at_depths-50m-100m.jpeg', bbox_inches='tight', dpi=300)\n",
    "    plt.show()\n",
    "\n"
   ]
  },
  {
   "cell_type": "code",
   "execution_count": 255,
   "metadata": {},
   "outputs": [],
   "source": [
    "Plot_Wetlands_Uplands()"
   ]
  },
  {
   "cell_type": "code",
   "execution_count": null,
   "metadata": {},
   "outputs": [],
   "source": []
  },
  {
   "cell_type": "code",
   "execution_count": null,
   "metadata": {},
   "outputs": [],
   "source": []
  }
 ],
 "metadata": {
  "kernelspec": {
   "display_name": "Python 3",
   "language": "python",
   "name": "python3"
  },
  "language_info": {
   "codemirror_mode": {
    "name": "ipython",
    "version": 3
   },
   "file_extension": ".py",
   "mimetype": "text/x-python",
   "name": "python",
   "nbconvert_exporter": "python",
   "pygments_lexer": "ipython3",
   "version": "3.7.6"
  }
 },
 "nbformat": 4,
 "nbformat_minor": 4
}
