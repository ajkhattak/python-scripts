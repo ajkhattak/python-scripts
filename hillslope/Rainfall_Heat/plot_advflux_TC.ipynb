{
 "cells": [
  {
   "cell_type": "markdown",
   "metadata": {},
   "source": [
    "# notebook plots difference between soil bulk thermal conductivities and advective heat flux through a vertical slice at x =100"
   ]
  },
  {
   "cell_type": "code",
   "execution_count": 1,
   "metadata": {},
   "outputs": [],
   "source": [
    "import numpy as np\n",
    "import matplotlib\n",
    "import matplotlib.pyplot as plt\n",
    "import h5py\n",
    "from matplotlib import animation\n",
    "from matplotlib import cm\n",
    "from mpl_toolkits import mplot3d\n",
    "import os,sys\n",
    "sys.path.append('/Users/ajc/Core/PyScript')\n",
    "import readdata as rd\n",
    "import seaborn as sns\n",
    "import pandas as pd"
   ]
  },
  {
   "cell_type": "code",
   "execution_count": 2,
   "metadata": {},
   "outputs": [],
   "source": [
    "path_root='/Users/ajc/FUSE/simulations/hillslope/rain_advection'\n",
    "path = path_root"
   ]
  },
  {
   "cell_type": "code",
   "execution_count": 11,
   "metadata": {},
   "outputs": [],
   "source": [
    "dir_name=['SIM_06']\n",
    "path = [os.path.join(path_root,d) for d in dir_name]\n",
    "\n",
    "Sim_3pc_n = ['S3_P20_1A', 'S3_P20_3A','S3_P20_1B','S3_P20_3B']\n",
    "Sim_3pc = [os.path.join(path[0],f) for f in Sim_3pc_n]\n",
    "\n",
    "Colors = ['r','k','g','gray','y']\n",
    "marks = ['solid','dashed', 'dotted', 'dashdot',':']\n"
   ]
  },
  {
   "cell_type": "code",
   "execution_count": 4,
   "metadata": {},
   "outputs": [],
   "source": [
    "SimData = dict()\n",
    "sim_labels = Sim_3pc_n\n",
    "for i,sim in enumerate(Sim_3pc):\n",
    "    #file = os.path.join(sim,'data_collection.dat')\n",
    "    file = os.path.join(sim,'fluxdata_monitor.dat')\n",
    "    \n",
    "    SimData[sim_labels[i]] = pd.read_csv(file,comment='#')\n"
   ]
  },
  {
   "cell_type": "code",
   "execution_count": 124,
   "metadata": {},
   "outputs": [
    {
     "name": "stdout",
     "output_type": "stream",
     "text": [
      "Index(['time [d]', 'mass_flux x50m [mol d^-1]', 'mass_flux x100m [mol d^-1]',\n",
      "       'mass_flux x200m [mol d^-1]', 'mass_flux x50m layer1 [mol d^-1]',\n",
      "       'mass_flux x50m layer2 [mol d^-1]', 'mass_flux x50m layer3 [mol d^-1]',\n",
      "       'mass_flux x50m layer4 [mol d^-1]', 'mass_flux x100m layer1 [mol d^-1]',\n",
      "       'mass_flux x100m layer2 [mol d^-1]',\n",
      "       'mass_flux x100m layer3 [mol d^-1]',\n",
      "       'mass_flux x100m layer4 [mol d^-1]',\n",
      "       'mass_flux x200m layer1 [mol d^-1]',\n",
      "       'mass_flux x200m layer2 [mol d^-1]',\n",
      "       'mass_flux x200m layer3 [mol d^-1]',\n",
      "       'mass_flux x200m layer4 [mol d^-1]',\n",
      "       'advected_energy_flux x50m [W m^-2]',\n",
      "       'advected_energy_flux x100m [W m^-2]',\n",
      "       'advected_energy_flux x200m [W m^-2]',\n",
      "       'advected_energy_flux x50m layer1 [W m^-2]',\n",
      "       'advected_energy_flux x50m layer2 [W m^-2]',\n",
      "       'advected_energy_flux x50m layer3 [W m^-2]',\n",
      "       'advected_energy_flux x50m layer4 [W m^-2]',\n",
      "       'advected_energy_flux x100m layer1 [W m^-2]',\n",
      "       'advected_energy_flux x100m layer2 [W m^-2]',\n",
      "       'advected_energy_flux x100m layer3 [W m^-2]',\n",
      "       'advected_energy_flux x100m layer4 [W m^-2]',\n",
      "       'advected_energy_flux x200m layer1 [W m^-2]',\n",
      "       'advected_energy_flux x200m layer2 [W m^-2]',\n",
      "       'advected_energy_flux x200m layer3 [W m^-2]',\n",
      "       'advected_energy_flux x200m layer4 [W m^-2]',\n",
      "       'diffusive_energy_flux x50m [W m^-2]',\n",
      "       'diffusive_energy_flux x100m [W m^-2]',\n",
      "       'diffusive_energy_flux x200m [W m^-2]',\n",
      "       'diffusive_energy_flux x50m layer1 [W m^-2]',\n",
      "       'diffusive_energy_flux x50m layer2 [W m^-2]',\n",
      "       'diffusive_energy_flux x50m layer3 [W m^-2]',\n",
      "       'diffusive_energy_flux x50m layer4 [W m^-2]',\n",
      "       'diffusive_energy_flux x100m layer1 [W m^-2]',\n",
      "       'diffusive_energy_flux x100m layer2 [W m^-2]',\n",
      "       'diffusive_energy_flux x100m layer3 [W m^-2]',\n",
      "       'diffusive_energy_flux x100m layer4 [W m^-2]',\n",
      "       'diffusive_energy_flux x200m layer1 [W m^-2]',\n",
      "       'diffusive_energy_flux x200m layer2 [W m^-2]',\n",
      "       'diffusive_energy_flux x200m layer3 [W m^-2]',\n",
      "       'diffusive_energy_flux x200m layer4 [W m^-2]',\n",
      "       'thermal_conductivity moss', 'thermal_conductivity layer2',\n",
      "       'thermal_conductivity layer3', 'thermal_conductivity layer4',\n",
      "       'thermal_conductivity layer5'],\n",
      "      dtype='object') advected_energy_flux x100m layer1 [W m^-2]\n"
     ]
    },
    {
     "data": {
      "text/plain": [
       "(2, 8, 9, 10, 11)"
      ]
     },
     "execution_count": 124,
     "metadata": {},
     "output_type": "execute_result"
    }
   ],
   "source": [
    "vars = SimData[sim_labels[0]].columns\n",
    "#print (vars, vars[23])\n",
    "#1,4,5,6,7\n",
    "#2,8,9,10,11"
   ]
  },
  {
   "cell_type": "code",
   "execution_count": null,
   "metadata": {},
   "outputs": [],
   "source": []
  },
  {
   "cell_type": "code",
   "execution_count": 58,
   "metadata": {},
   "outputs": [],
   "source": [
    "outfile='/Users/ajc/Documents/MyPapers/RainWarming/figures/'"
   ]
  },
  {
   "cell_type": "markdown",
   "metadata": {},
   "source": [
    "### Plot thermal conductivities in the near-surface soil layers"
   ]
  },
  {
   "cell_type": "code",
   "execution_count": 77,
   "metadata": {},
   "outputs": [],
   "source": [
    "#%matplotlib qt\n",
    "to_micro = 1e+6\n",
    "\n",
    "layers = ['Top layer (0-2 cm)', 'Shallower layer (2-20 cm) ','Shallow layer (20-34 cm) ']\n",
    "\n",
    "def plot_TC():\n",
    "    fig, axs = plt.subplots(1,1, figsize=(5,4), facecolor='w', edgecolor='k',gridspec_kw={'width_ratios':[1]})\n",
    "    fig.subplots_adjust(hspace =.02, wspace=1.02)\n",
    "    plt.tight_layout()\n",
    "    #axs = axs.ravel()\n",
    "    \n",
    "    for i, l in enumerate([-5,-4,-3]):\n",
    "        time = SimData[sim_labels[0]][vars[0]]\n",
    "        T = [t - 365. for t in time]\n",
    "        S1 = SimData[sim_labels[0]][vars[l]]*to_micro\n",
    "        S2 = SimData[sim_labels[1]][vars[l]]*to_micro\n",
    "        DX =  np.array(S2) - np.array(S1)\n",
    "        if i ==0:\n",
    "            axs.plot(T,DX,color=Colors[0], linestyle=marks[i], label = 'Wetter soil', linewidth=1.)\n",
    "        else:\n",
    "            axs.plot(T,DX,color=Colors[0], linestyle=marks[i], linewidth=1.)\n",
    "\n",
    "        S1 = SimData[sim_labels[2]][vars[l]]*to_micro\n",
    "        S2 = SimData[sim_labels[3]][vars[l]]*to_micro\n",
    "        DX =  np.array(S2) - np.array(S1)\n",
    "        if i ==0:\n",
    "            axs.plot(T,DX,color=Colors[1], linestyle=marks[i], label = 'Drier soil', linewidth=1.)\n",
    "        else:\n",
    "            axs.plot(T,DX,color=Colors[1], linestyle=marks[i], linewidth=1.)\n",
    "        \n",
    "        for i in range(1):\n",
    "            axs.set_xlabel('Time [day]', fontsize=12,fontweight='normal')\n",
    "\n",
    "            axs.set_ylim(-0.05e-7*to_micro,0.13e-6*to_micro)\n",
    "            axs.ticklabel_format(axis=\"y\", style=\"sci\", scilimits=(0,0),useMathText=True)\n",
    "            axs.set_xlim(235,260)\n",
    "            #axs.axvline(235,ymin=0.0, ymax=1.,color='b',linestyle='dashed')\n",
    "            #axs.axvline(260,ymin=0., ymax=1.0,color='b',linestyle='dashed')\n",
    "    axs.legend(loc='upper left',fontsize=8)\n",
    "    axs.set_ylabel('$\\Delta$ TC [W m$^{-1}$ K$^{-1}$]', fontsize=12,fontweight='normal')\n",
    "\n",
    "    plt.tight_layout()\n",
    "\n",
    "    plt.savefig(outfile+'TC_three_layers.jpeg', bbox_inches='tight', dpi=300)\n"
   ]
  },
  {
   "cell_type": "code",
   "execution_count": 78,
   "metadata": {},
   "outputs": [],
   "source": [
    "plot_TC()"
   ]
  },
  {
   "cell_type": "markdown",
   "metadata": {},
   "source": [
    "# Plot Advective heat flux through a vertical slice at x =100m"
   ]
  },
  {
   "cell_type": "code",
   "execution_count": 243,
   "metadata": {},
   "outputs": [],
   "source": [
    "#%matplotlib qt\n",
    "to_micro = 1#1e+6\n",
    "\n",
    "layers = ['Top layer (0-2 cm)', 'Shallower layer (2-20 cm) ','Shallow layer (20-34 cm) ']\n",
    "\n",
    "def plot_AvdHeatFlux():\n",
    "    fig, axs = plt.subplots(1,2, figsize=(6,4), facecolor='w', edgecolor='k',gridspec_kw={'width_ratios':[1,1]})\n",
    "    fig.subplots_adjust(hspace =.02, wspace=1.02)\n",
    "    plt.tight_layout()\n",
    "    axs = axs.ravel()\n",
    "    \n",
    "    #1,4,5,6,7\n",
    "    #2,8,9,10,11\n",
    "    for i, l in enumerate([17]):\n",
    "        time = SimData[sim_labels[0]][vars[0]]\n",
    "        T = [t - 365. for t in time]\n",
    "        S1 = SimData[sim_labels[0]][vars[l]]*to_micro\n",
    "        S2 = SimData[sim_labels[1]][vars[l]]*to_micro\n",
    "        DX =  np.array(S2) - np.array(S1)\n",
    "        \n",
    "        if i ==0:\n",
    "            axs[0].plot(T,S1,color=Colors[0], linestyle=marks[i], label = 'Wetter soil (light rain)', linewidth=1.)\n",
    "            axs[0].plot(T,S2,color=Colors[1], linestyle=marks[i], label = 'Wetter soil (heavy rain)', linewidth=1.)\n",
    "        else:\n",
    "            axs[0].plot(T,S1,color=Colors[0], linestyle=marks[i], linewidth=1.)\n",
    "            axs[0].plot(T,S2,color=Colors[1], linestyle=marks[i], linewidth=1.)\n",
    "\n",
    "        S1 = SimData[sim_labels[2]][vars[l]]*to_micro\n",
    "        S2 = SimData[sim_labels[3]][vars[l]]*to_micro\n",
    "        DX =  np.array(S2) - np.array(S1)\n",
    "        \n",
    "        if i ==0:\n",
    "            axs[1].plot(T,S1,color=Colors[0], linestyle=marks[i], label = 'Drier soil (light rain)', linewidth=1.)\n",
    "            axs[1].plot(T,S2,color=Colors[1], linestyle=marks[i], label = 'Drier soil (heavy rain)', linewidth=1.)\n",
    "        else:\n",
    "            axs[1].plot(T,S1,color=Colors[0], linestyle=marks[i], linewidth=1.)\n",
    "            axs[1].plot(T,S2,color=Colors[1], linestyle=marks[i], linewidth=1.)\n",
    "        print (np.min(S2))\n",
    "        for i2 in range(2):\n",
    "            axs[i2].set_xlabel('Time [day]', fontsize=12,fontweight='normal')\n",
    "            if i2 ==1:\n",
    "                axs[i2].set_ylim(-0.0001,0.00002)\n",
    "            axs[i2].ticklabel_format(axis=\"y\", style=\"sci\", scilimits=(0,0),useMathText=True)\n",
    "            axs[i2].set_xlim(235,260)\n",
    "            axs[0].text(245,-.58,'$x$ = 100 m',fontsize=12, fontweight='normal')\n",
    "            axs[1].text(245,-.000097,'$x$ = 100 m',fontsize=12, fontweight='normal')\n",
    "    axs[0].legend(loc='upper left',fontsize=8)\n",
    "    axs[1].legend(loc='upper left',fontsize=8)\n",
    "    axs[0].set_ylabel('Advective heat flux [W m$^{-2}$]', fontsize=12,fontweight='normal')\n",
    "\n",
    "    plt.tight_layout()\n",
    "\n",
    "    plt.savefig(outfile+'Adv_flux_ALT_x100m.jpeg', bbox_inches='tight', dpi=300)"
   ]
  },
  {
   "cell_type": "code",
   "execution_count": 244,
   "metadata": {},
   "outputs": [
    {
     "name": "stdout",
     "output_type": "stream",
     "text": [
      "-0.05022790883695\n"
     ]
    }
   ],
   "source": [
    "plot_AvdHeatFlux()"
   ]
  },
  {
   "cell_type": "code",
   "execution_count": null,
   "metadata": {},
   "outputs": [],
   "source": []
  }
 ],
 "metadata": {
  "kernelspec": {
   "display_name": "Python 3",
   "language": "python",
   "name": "python3"
  },
  "language_info": {
   "codemirror_mode": {
    "name": "ipython",
    "version": 3
   },
   "file_extension": ".py",
   "mimetype": "text/x-python",
   "name": "python",
   "nbconvert_exporter": "python",
   "pygments_lexer": "ipython3",
   "version": "3.7.6"
  }
 },
 "nbformat": 4,
 "nbformat_minor": 4
}
