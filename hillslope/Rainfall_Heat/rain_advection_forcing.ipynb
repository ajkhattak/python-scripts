{
 "cells": [
  {
   "cell_type": "code",
   "execution_count": 21,
   "metadata": {},
   "outputs": [],
   "source": [
    "import numpy as np\n",
    "import h5py\n",
    "import os, sys\n",
    "import matplotlib.pyplot as plt\n",
    "from scipy.interpolate import CubicSpline\n",
    "from scipy.signal import savgol_filter\n",
    "from scipy.stats import lognorm\n",
    "\n",
    "import pandas as pd\n",
    "sys.path.remove(sys.path[0])\n",
    "\n",
    "sys.path.append('/Users/ajc/Core/codes/simulator/debug/ats/tools/utils/')\n",
    "#sys.path.append('/Users/ajc/CODES/ats/tools/utils/')\n",
    "import get_transect_data\n",
    "\n",
    "sys.path.append('/Users/ajc/Core/PyScript')\n",
    "import readdata"
   ]
  },
  {
   "cell_type": "code",
   "execution_count": 22,
   "metadata": {},
   "outputs": [],
   "source": [
    "indata=h5py.File('/Users/ajc/HOME/data/forcing/Barrow_Alaska/barrow1985-2015/barrow1985-2015-trend-smooth-30pc.h5','r')\n",
    "outdata=h5py.File('/Users/ajc/HOME/data/forcing/Barrow_Alaska/barrow1985-2015/barrow2015_rain_advectionA.h5','w')"
   ]
  },
  {
   "cell_type": "code",
   "execution_count": 23,
   "metadata": {},
   "outputs": [
    {
     "data": {
      "text/plain": [
       "106225.0"
      ]
     },
     "execution_count": 23,
     "metadata": {},
     "output_type": "execute_result"
    }
   ],
   "source": [
    "indata.keys()\n",
    "0.5*9.8*1000 + 101325"
   ]
  },
  {
   "cell_type": "code",
   "execution_count": 24,
   "metadata": {},
   "outputs": [
    {
     "name": "stdout",
     "output_type": "stream",
     "text": [
      "236 15.206944302000002 15.206944302000002\n"
     ]
    }
   ],
   "source": [
    "to_mm_day = 1000*86400\n",
    "rain = indata['precipitation rain [m s^-1]'][-365:]*to_mm_day\n",
    "pos = np.where(rain == np.max(rain))[0][0]\n",
    "print (pos, rain[pos], rain[pos])\n",
    "\n",
    "temp = indata['air temperature [K]'][-365:]"
   ]
  },
  {
   "cell_type": "code",
   "execution_count": 26,
   "metadata": {},
   "outputs": [
    {
     "name": "stdout",
     "output_type": "stream",
     "text": [
      "93.981427453755 109.188371755755 124.395316057755\n"
     ]
    }
   ],
   "source": [
    "rain_x1 = np.array(rain)\n",
    "rain_x2 = np.array(rain)\n",
    "rain_x3 = np.array(rain)\n",
    "rain_x2[pos] = rain[pos]*2\n",
    "rain_x3[pos] = rain[pos]*3\n",
    "\n",
    "plt.plot(rain_x1,'r')\n",
    "#plt.plot(rain_x2,'b.')\n",
    "#plt.plot(rain_x3,'g.')\n",
    "print (np.mean(rain_x1)*365, np.mean(rain_x2)*365, np.mean(rain_x3)*365)"
   ]
  },
  {
   "cell_type": "code",
   "execution_count": null,
   "metadata": {},
   "outputs": [],
   "source": []
  },
  {
   "cell_type": "code",
   "execution_count": 6,
   "metadata": {},
   "outputs": [],
   "source": [
    "rain_up_x1 = np.concatenate((rain_x1, rain_x1))\n",
    "rain_up_x2 = np.concatenate((rain_x1, rain_x2))\n",
    "rain_up_x3 = np.concatenate((rain_x1, rain_x3))"
   ]
  },
  {
   "cell_type": "code",
   "execution_count": 7,
   "metadata": {},
   "outputs": [],
   "source": [
    "rain_up_x1 = np.reshape(rain_up_x1,(-1,1))\n",
    "rain_up_x2 = np.reshape(rain_up_x2,(-1,1))\n",
    "rain_up_x3 = np.reshape(rain_up_x3,(-1,1))"
   ]
  },
  {
   "cell_type": "code",
   "execution_count": 16,
   "metadata": {},
   "outputs": [
    {
     "data": {
      "text/plain": [
       "[<matplotlib.lines.Line2D at 0x7f85eb452910>]"
      ]
     },
     "execution_count": 16,
     "metadata": {},
     "output_type": "execute_result"
    }
   ],
   "source": [
    "%matplotlib qt\n",
    "plt.plot(temp,'g-')\n",
    "plt.axvline(236)\n",
    "plt.axhline(273)\n",
    "plt.axvline(260)\n",
    "#plt.axhline(277)\n",
    "\n",
    "temp1 = np.array(temp)\n",
    "for i,t in enumerate(temp1[237:248]):\n",
    "    #print (i)\n",
    "    if i < 7:\n",
    "        temp1[237+i] = temp1[237] + (temp1[237] - t)\n",
    "    else:\n",
    "        temp1[237+i] = (temp1[237+i-1] + temp1[237+i] )/2.\n",
    "plt.plot(temp1,'r-')\n",
    "#plt.xlim(200,280)\n",
    "#for key in indata.keys():\n",
    "#    print (key)\n",
    "#    indata.copy(key, outdata)\n",
    "#outdata.close()\n",
    "#indata.close()"
   ]
  },
  {
   "cell_type": "code",
   "execution_count": 59,
   "metadata": {},
   "outputs": [],
   "source": [
    "outfile='/Users/ajc/Documents/MyPapers/RainWarming/figures/'\n",
    "fig, axs = plt.subplots(1,2, figsize=(6,3), facecolor='w', edgecolor='k',gridspec_kw={'width_ratios':[1,1]})\n",
    "fig.subplots_adjust(hspace =.02, wspace=1.02)\n",
    "plt.tight_layout()\n",
    "axs = axs.ravel()\n",
    "axs[0].plot(rain_x1,color='k',linestyle='solid',linewidth=1.)\n",
    "axs[0].set_xlabel('Time [day]',fontsize=12, fontweight='normal')\n",
    "axs[0].set_ylabel('Precipitation rain [mm]',fontsize=12, fontweight='normal')\n",
    "axs[0].set_xlim(130,260)\n",
    "axs[0].set_ylim(0,20)\n",
    "\n",
    "temp_t = [t - 273.15 for t in temp]\n",
    "axs[1].plot(temp_t,color='k',linestyle='solid',linewidth=1.)\n",
    "axs[1].set_xlabel('Time [day]',fontsize=12, fontweight='normal')\n",
    "axs[1].set_ylabel('Air temperature [\\u00B0C]',fontsize=12, fontweight='normal')\n",
    "axs[1].set_xlim(130,260)\n",
    "axs[1].set_ylim(-5,15)\n",
    "#axs[0].axvline(236,ymin=0.0, ymax=1.7,color='lightgray',linestyle='dashed',linewidth=2)\n",
    "axs[1].axvline(236,ymin=0.0, ymax=1.7,color='lightgray',linestyle='dashed',linewidth=1)\n",
    "plt.tight_layout()\n",
    "plt.savefig(outfile+'rain_airT.jpeg', bbox_inches='tight', dpi=300)\n",
    "plt.show()"
   ]
  },
  {
   "cell_type": "code",
   "execution_count": 10,
   "metadata": {},
   "outputs": [],
   "source": [
    "temp_up = np.concatenate((temp, temp1))\n",
    "temp_up = np.reshape(temp_up,(-1,1))"
   ]
  },
  {
   "cell_type": "code",
   "execution_count": 11,
   "metadata": {},
   "outputs": [
    {
     "name": "stdout",
     "output_type": "stream",
     "text": [
      "1.7600629979166669e-07 [1.760063e-07] 52531200\n"
     ]
    }
   ],
   "source": [
    "time = np.arange(0.5,730.5,1)*86400\n",
    "time[:2]\n",
    "print (np.max(rain_up_x1), rain_up_x1[365+236],(365+236+7)*86400)\n",
    "\n"
   ]
  },
  {
   "cell_type": "code",
   "execution_count": 12,
   "metadata": {
    "code_folding": []
   },
   "outputs": [
    {
     "name": "stdout",
     "output_type": "stream",
     "text": [
      "air temperature [K]\n",
      "incoming longwave radiation [W m^-2]\n",
      "incoming shortwave radiation [W m^-2]\n",
      "R precipitation rain [m s^-1], x1.5\n",
      "precipitation snow [m SWE s^-1]\n",
      "relative humidity [-]\n",
      "T\n",
      "wind speed [m s^-1]\n"
     ]
    }
   ],
   "source": [
    "for key in indata.keys():\n",
    "    if 'rain' in key:\n",
    "        print ('R', key+', x1.5')\n",
    "        outdata.create_dataset(key + ', 1x' , data=rain_up_x1)\n",
    "        outdata.create_dataset(key + ', 2x' , data=rain_up_x2)\n",
    "        outdata.create_dataset(key + ', 3x' , data=rain_up_x3)\n",
    "    if 'time' in key:\n",
    "        print ('T')\n",
    "        outdata.create_dataset(key, data=time)\n",
    "    elif 'rain' not in key and 'time' not in key:\n",
    "        print (key)\n",
    "        d = np.concatenate((indata[key][-365:], indata[key][-365:]))\n",
    "        outdata.create_dataset(key, data=d)\n",
    "\n",
    "outdata.create_dataset('air temperature [K], increased', data=temp_up)\n",
    "outdata.close()"
   ]
  },
  {
   "cell_type": "code",
   "execution_count": null,
   "metadata": {},
   "outputs": [],
   "source": [
    "#mass flux [moles/m/s]\n",
    "# 20 mm/day\n",
    "\n",
    "#300 cm3/s\n",
    "side = 17 #m\n",
    "q = -1\n",
    "to_cc = 1e6\n",
    "mrho= 1000/0.018 #[moles/m3]\n",
    "mass = q * side / mrho # moles/m * 1/s * m * m3/moles = m3/s\n",
    "print (mass)# * to_cc)"
   ]
  },
  {
   "cell_type": "code",
   "execution_count": null,
   "metadata": {},
   "outputs": [],
   "source": [
    "#1 cc = 1000 mm3\n",
    "mass = 20 #mm/day\n",
    "mass_m = mass * 0.001\n",
    "2/864"
   ]
  },
  {
   "cell_type": "code",
   "execution_count": null,
   "metadata": {},
   "outputs": [],
   "source": [
    "2.315 * 1e-6 * mrho"
   ]
  },
  {
   "cell_type": "code",
   "execution_count": null,
   "metadata": {},
   "outputs": [],
   "source": [
    "factor = 1.16 * 1e-8 \n",
    "src = 20 *factor * mrho\n",
    "src"
   ]
  },
  {
   "cell_type": "code",
   "execution_count": null,
   "metadata": {},
   "outputs": [],
   "source": []
  }
 ],
 "metadata": {
  "kernelspec": {
   "display_name": "Python 3",
   "language": "python",
   "name": "python3"
  },
  "language_info": {
   "codemirror_mode": {
    "name": "ipython",
    "version": 3
   },
   "file_extension": ".py",
   "mimetype": "text/x-python",
   "name": "python",
   "nbconvert_exporter": "python",
   "pygments_lexer": "ipython3",
   "version": "3.7.6"
  }
 },
 "nbformat": 4,
 "nbformat_minor": 4
}
