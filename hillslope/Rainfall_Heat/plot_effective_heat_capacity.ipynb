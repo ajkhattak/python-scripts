{
 "cells": [
  {
   "cell_type": "code",
   "execution_count": 1,
   "metadata": {},
   "outputs": [
    {
     "name": "stdout",
     "output_type": "stream",
     "text": [
      "/Users/ajc/Core/codes/simulator/repos/amanzi/src/physics/ats/tools/utils/plot_water_table2D.py\n",
      "/Users/ajc/Core/codes/simulator/repos/amanzi/src/physics/ats/tools/utils/parse_ats.py\n"
     ]
    }
   ],
   "source": [
    "import numpy as np\n",
    "import os, sys\n",
    "import h5py\n",
    "import pandas as pd\n",
    "import matplotlib.pyplot as plt\n",
    "import matplotlib\n",
    "import datetime as DT\n",
    "import matplotlib.dates as mdates\n",
    "\n",
    "import plot_water_table2D\n",
    "\n",
    "import importlib as imp\n",
    "print (plot_water_table2D.__file__)\n",
    "font = {'family' : 'normal',\n",
    "        'weight' : 'normal',\n",
    "        'size'   : 12}\n",
    "matplotlib.rc('font', **font)\n",
    "import parse_ats\n",
    "print (parse_ats.__file__)\n",
    "\n",
    "import get_transect_data"
   ]
  },
  {
   "cell_type": "code",
   "execution_count": 2,
   "metadata": {},
   "outputs": [],
   "source": [
    "path = \"/Users/ajc/Core/simulations/hillslope/rain_advection/SIM_06/\""
   ]
  },
  {
   "cell_type": "code",
   "execution_count": 35,
   "metadata": {},
   "outputs": [],
   "source": [
    "#based on the amount of moisture, your soil takes more/less energy to change temperature as heat \n",
    "#capacity gets higher/lower as a response to moisture, right?\n",
    "#I calculated effective bulk heat capacity based on the respective fractions of\n",
    "#each substance (water, ice, air, rock), maybe that's exactly how ATS is doing it?\n",
    "#phi = 0.5 #porosity\n",
    "\n",
    "hc_w = 76 #[J mol^-1 K^-1]\n",
    "hc_i= 37\n",
    "hc_s = 620\n",
    "hc_g = 28\n",
    "def get_heat_capacity(sw, si, sg, phi):\n",
    "    wc = phi * sw\n",
    "    ic = phi * si\n",
    "    gc = phi * sg\n",
    "    HC = wc * hc_w  + ic * hc_i + gc * hc_g + (1-phi)*hc_s\n",
    "    return HC"
   ]
  },
  {
   "cell_type": "code",
   "execution_count": 32,
   "metadata": {},
   "outputs": [
    {
     "name": "stdout",
     "output_type": "stream",
     "text": [
      "[['S3_P20_1A'], ['S3_P20_3A'], ['S3_P20_1B'], ['S3_P20_3B']]\n"
     ]
    }
   ],
   "source": [
    "Simulations = [['S3_P20_%sA'%(i+1) for i in range(1)], ['S3_P20_%sA'%(i+3) for i in range(1)],\n",
    "              ['S3_P20_%sB'%(i+1) for i in range(1)], ['S3_P20_%sB'%(i+3) for i in range(1)]]\n",
    "\n",
    "print (Simulations)\n",
    "\n",
    "Sim_name = ['S3_P20_1A','S3_P20_3A', 'S3_P20_1B','S3_P20_3B']\n",
    "\n",
    "varnames = ['saturation_liquid', 'saturation_ice', 'saturation_gas', 'base_porosity']"
   ]
  },
  {
   "cell_type": "code",
   "execution_count": 33,
   "metadata": {},
   "outputs": [],
   "source": [
    "def getData(i):\n",
    "    Data = []\n",
    "    Time = []\n",
    "    for s in Simulations[i]:    \n",
    "        infile = os.path.join(path,s)\n",
    "        Tim1, Dat1 = get_transect_data.get2DMatrix(infile,varnames=varnames)\n",
    "        a1 = len(Dat1[0,:,0,0])%365\n",
    "        a2 = len(Dat1[0,:,0,0]) - a1\n",
    "        \n",
    "        Tim = Tim1[:a2]\n",
    "        Dat = Dat1[:,:a2,:,:]\n",
    "        Time.append(Tim)\n",
    "        Data.append(Dat)\n",
    "    d = dict()\n",
    "    d['data'] = Data\n",
    "    d['time'] = Time\n",
    "    \n",
    "    return d"
   ]
  },
  {
   "cell_type": "code",
   "execution_count": 34,
   "metadata": {},
   "outputs": [],
   "source": [
    "from multiprocessing import Pool\n",
    "num_processors = 4\n",
    "p=Pool(processes = num_processors)\n",
    "\n",
    "DataS1, DataS2, DataS3, DataS4 = p.map(getData,[i for i in range(len(Simulations))])"
   ]
  },
  {
   "cell_type": "code",
   "execution_count": 36,
   "metadata": {},
   "outputs": [],
   "source": [
    "#Data = [DataS1, DataS2, DataS3, DataS4, DataS5, DataS6,DataS7,DataS8]\n",
    "Data = [DataS1, DataS2, DataS3, DataS4]"
   ]
  },
  {
   "cell_type": "code",
   "execution_count": 37,
   "metadata": {},
   "outputs": [
    {
     "data": {
      "text/plain": [
       "(1, 6, 365, 300, 86)"
      ]
     },
     "execution_count": 37,
     "metadata": {},
     "output_type": "execute_result"
    }
   ],
   "source": [
    "np.array(DataS1['data']).shape\n",
    "#len(DataS1['data'])"
   ]
  },
  {
   "cell_type": "code",
   "execution_count": 91,
   "metadata": {},
   "outputs": [],
   "source": [
    "def get_temp_at_depth(dat,x0, x1,z0,z1=-1, yr_cyc=365,domain='entire'):\n",
    "    #25 * 2cm = 50 cm\n",
    "    sim_len = len(dat['data'])\n",
    "    x_pos = x0\n",
    "    data = []\n",
    "    times = []\n",
    "    HillslopeT = dict()\n",
    "    AvgTemp = [] # np.zeros(cycles)\n",
    "    for k in range(sim_len):\n",
    "        data = np.array(dat['data'][k])\n",
    "        time = dat['time'][k]\n",
    "        nvar, cycles, xnum, znum = data.shape\n",
    "     \n",
    "        zlen = len(data[1,0,0,:])-1\n",
    "        xlen = len(data[0,0,:,0])-1\n",
    "       \n",
    "        for cyc in range(cycles):\n",
    "            #sum1 = data[nvar-1,cyc,x_pos,zlen-depth_s]\n",
    "            sw = np.mean(data[2,cyc,:,zlen-z1:zlen-z0])\n",
    "            #print (zlen-z0,zlen-z1)\n",
    "            si = np.mean(data[3,cyc,:,zlen-z1:zlen-z0])\n",
    "            sg = np.mean(data[4,cyc,:,zlen-z1:zlen-z0])\n",
    "            phi = np.mean(data[5,cyc,:,zlen-z1:zlen-z0])\n",
    "            hc = get_heat_capacity(sw, si, sg, phi)\n",
    "            #print (hc,sw, si, sg, phi)\n",
    "            #break\n",
    "            AvgTemp.append(hc)\n",
    "        \n",
    "        times.append(time)\n",
    "        #break\n",
    "    L = len(AvgTemp)%int(yr_cyc)\n",
    "    times = np.concatenate(times)\n",
    "    \n",
    "    HillslopeT['times'] = np.array([t*365 - 365. for t in times])\n",
    "    HillslopeT_Avg = np.array(AvgTemp)\n",
    "    \n",
    "    HillslopeT['temp'] = HillslopeT_Avg\n",
    "    return HillslopeT\n",
    "\n"
   ]
  },
  {
   "cell_type": "code",
   "execution_count": 92,
   "metadata": {},
   "outputs": [],
   "source": [
    "depth1 = [[0,10]] # active layer, 0.5-2 m, 2-3.5m"
   ]
  },
  {
   "cell_type": "code",
   "execution_count": 136,
   "metadata": {},
   "outputs": [],
   "source": [
    "x0,x1 = 100,5\n",
    "z0,z1 = 1,25\n",
    "Data_X = dict()\n",
    "\n",
    "\n",
    "Names = ['S1', 'S2','S3', 'S4','S5', 'S6','S7', 'S8']\n",
    "\n",
    "for dat,name in zip(Data,Names):\n",
    "    #print (name)\n",
    "    d = get_temp_at_depth(dat,x0,x1,z0,z1,yr_cyc=365,domain='entire')\n",
    "    Data_X[name + '_temp'] = d['temp']\n",
    "    Data_X[name +'_time'] = d['times']\n",
    "    #break"
   ]
  },
  {
   "cell_type": "code",
   "execution_count": 137,
   "metadata": {},
   "outputs": [
    {
     "name": "stdout",
     "output_type": "stream",
     "text": [
      "dict_keys(['S1_temp', 'S1_time', 'S2_temp', 'S2_time', 'S3_temp', 'S3_time', 'S4_temp', 'S4_time'])\n"
     ]
    }
   ],
   "source": [
    "print (Data_X.keys())\n",
    "#print (Data_X['S1_top_temp'])\n",
    "outfile='/Users/ajc/Documents/MyPapers/RainWarming/figures/'"
   ]
  },
  {
   "cell_type": "code",
   "execution_count": null,
   "metadata": {},
   "outputs": [],
   "source": []
  },
  {
   "cell_type": "code",
   "execution_count": null,
   "metadata": {},
   "outputs": [],
   "source": []
  },
  {
   "cell_type": "code",
   "execution_count": 141,
   "metadata": {},
   "outputs": [],
   "source": [
    "# Three zones : Active layer, shallow permafrost, deep permafrost\n",
    "#%matplotlib qt\n",
    "\n",
    "def Plot_HeatCapacity():\n",
    "    fig, axs = plt.subplots(1,1, figsize=(6,4), facecolor='w', edgecolor='k',gridspec_kw={'width_ratios':[1]})\n",
    "    fig.subplots_adjust(hspace =.02, wspace=1.02)\n",
    "    plt.tight_layout()\n",
    "    #ax = ax.ravel()\n",
    "    Colors = ['k','r','g','c']\n",
    "    marks = ['solid', 'dashed', 'dotted']\n",
    "    X, T1 = [], []\n",
    "    \n",
    "    Names = ['S1', 'S2','S3', 'S4','S5', 'S6','S7', 'S8']\n",
    "    \n",
    "    for i in range(1):\n",
    "        S1 = [x for x in Data_X['S1_temp']]\n",
    "        S2 = [x  for x in Data_X['S2_temp']]\n",
    "        T = Data_X['S1_time']\n",
    "        DX =  S1 #np.array(S2) - np.array(S1)\n",
    "        #print (DX)\n",
    "        axs.plot(T,S1,color=Colors[0],label='Wetter soil (light rain)',linestyle=marks[0],linewidth=1.)\n",
    "        axs.plot(T,S2,color=Colors[0],label='Wetter soil (heavy rain)',linestyle=marks[1],linewidth=1.)\n",
    "\n",
    "        S1 = [x  for x in Data_X['S3_temp']]\n",
    "        S2 = [x  for x in Data_X['S4_temp']]\n",
    "        T = Data_X['S3_time']\n",
    "        DX =  S1 #np.array(S2) - np.array(S1)\n",
    "        \n",
    "        axs.plot(T,S1,color=Colors[1],label='Drier soil (light rain)',linestyle=marks[0],linewidth=1.)\n",
    "        axs.plot(T,S2,color=Colors[1],label='Drier soil (heavy rain)',linestyle=marks[1],linewidth=1.)\n",
    "    \n",
    "\n",
    "\n",
    "\n",
    "    axs.set_xlabel('Time [day]',fontsize=12, fontweight='normal')\n",
    "    #axs.set_xlim(233,260)\n",
    "    #axs.set_ylim(-0.25,.25)\n",
    "    #axs.axvline(235,ymin=0.3, ymax=0.7,color='b',linestyle='dashed')\n",
    "    #axs.axvline(260,ymin=0.3, ymax=0.7,color='b',linestyle='dashed')\n",
    "    #axs.text(234,-0.225,'$x$ = %s m'%lenx,fontsize=12, fontweight='normal')\n",
    "    axs.legend(loc='lower left',fontsize=8,labelspacing=0.5)\n",
    "    axs.set_ylabel('Bulk heat capacity [ J mol$^{-1}$ K$^{-1}$]',fontsize=12, fontweight='normal')\n",
    "    plt.tight_layout()\n",
    "    #plt.savefig(outfile+'heat_capacity-ALT-50cm.jpeg', bbox_inches='tight', dpi=300)\n",
    "    plt.show()\n",
    "\n",
    "\n"
   ]
  },
  {
   "cell_type": "code",
   "execution_count": 142,
   "metadata": {},
   "outputs": [
    {
     "data": {
      "image/png": "[encoded data removed]",
      "text/plain": [
       "<Figure size 432x288 with 1 Axes>"
      ]
     },
     "metadata": {},
     "output_type": "display_data"
    }
   ],
   "source": [
    "Plot_HeatCapacity()"
   ]
  },
  {
   "cell_type": "code",
   "execution_count": null,
   "metadata": {},
   "outputs": [],
   "source": []
  }
 ],
 "metadata": {
  "kernelspec": {
   "display_name": "Python 3",
   "language": "python",
   "name": "python3"
  },
  "language_info": {
   "codemirror_mode": {
    "name": "ipython",
    "version": 3
   },
   "file_extension": ".py",
   "mimetype": "text/x-python",
   "name": "python",
   "nbconvert_exporter": "python",
   "pygments_lexer": "ipython3",
   "version": "3.7.6"
  }
 },
 "nbformat": 4,
 "nbformat_minor": 4
}
