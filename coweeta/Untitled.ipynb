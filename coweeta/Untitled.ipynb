{
 "cells": [
  {
   "cell_type": "code",
   "execution_count": 3,
   "metadata": {},
   "outputs": [
    {
     "name": "stdout",
     "output_type": "stream",
     "text": [
      "Using matplotlib backend: MacOSX\n"
     ]
    }
   ],
   "source": [
    "%matplotlib"
   ]
  },
  {
   "cell_type": "code",
   "execution_count": 7,
   "metadata": {},
   "outputs": [],
   "source": [
    "import numpy as np\n",
    "import os, sys\n",
    "sys.path.append('/Users/ajc/Projects/ATS-Data/OR-CONDO/mytests-orhydra/python-scripts')\n",
    "import matplotlib.pylab as plt\n",
    "import readdata as rd\n"
   ]
  },
  {
   "cell_type": "code",
   "execution_count": 53,
   "metadata": {},
   "outputs": [
    {
     "name": "stdout",
     "output_type": "stream",
     "text": [
      "(20001, 2)\n"
     ]
    }
   ],
   "source": [
    "infile='/Users/ajc/Projects/ATS-Data/OR-CONDO/mytests-orhydra/CoweetaLTER/Integrated/Spinup1R0/surface_flux-outlet-day.dat'\n",
    "d = np.loadtxt(infile)\n",
    "den_ = 0.0180153/1000.\n",
    "flux = [x*den_ for x in d[:,1]] # [m^3/second]\n",
    "time = [t/86400. for t in d[:,0]]\n",
    "#print time\n",
    "print d.shape"
   ]
  },
  {
   "cell_type": "code",
   "execution_count": 59,
   "metadata": {},
   "outputs": [
    {
     "data": {
      "text/plain": [
       "(0, 8)"
      ]
     },
     "execution_count": 59,
     "metadata": {},
     "output_type": "execute_result"
    }
   ],
   "source": [
    "plt.plot(time[:1000], flux[:1000], color='r', linewidth=2)\n",
    "plt.xlabel('Day',fontsize=12, fontweight='normal')\n",
    "plt.ylabel('Discharge [m$^3$/s]' ,fontsize=12, fontweight='normal')\n",
    "\n",
    "plt.xlim((-10, 1000.))\n",
    "#plt.ticklabel_format(style='sci', axis='y',scilimits=(1,1),useMathText=True)\n",
    "plt.ylim((0, 8))"
   ]
  },
  {
   "cell_type": "code",
   "execution_count": null,
   "metadata": {},
   "outputs": [],
   "source": []
  }
 ],
 "metadata": {
  "kernelspec": {
   "display_name": "Python 2",
   "language": "python",
   "name": "python2"
  },
  "language_info": {
   "codemirror_mode": {
    "name": "ipython",
    "version": 2
   },
   "file_extension": ".py",
   "mimetype": "text/x-python",
   "name": "python",
   "nbconvert_exporter": "python",
   "pygments_lexer": "ipython2",
   "version": "2.7.14"
  }
 },
 "nbformat": 4,
 "nbformat_minor": 2
}
