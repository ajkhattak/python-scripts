{
 "cells": [
  {
   "cell_type": "code",
   "execution_count": null,
   "metadata": {},
   "outputs": [],
   "source": []
  },
  {
   "cell_type": "code",
   "execution_count": null,
   "metadata": {},
   "outputs": [],
   "source": []
  },
  {
   "cell_type": "code",
   "execution_count": 1,
   "metadata": {},
   "outputs": [],
   "source": [
    "import sys, os\n",
    "\n",
    "sys.path.append('/Users/ajc/codes/simulator/debug/ats-mesh/tools/meshing_ats/meshing_ats')\n",
    "import meshing_ats\n",
    "\n",
    "import numpy as np\n",
    "import pandas as pd\n",
    "from matplotlib import pyplot as plt\n",
    "import scipy.signal\n",
    "import importlib"
   ]
  },
  {
   "cell_type": "code",
   "execution_count": 2,
   "metadata": {},
   "outputs": [
    {
     "name": "stdout",
     "output_type": "stream",
     "text": [
      "/Users/ajc/codes/simulator/debug/ats-mesh/tools/meshing_ats/meshing_ats/meshing_ats.py\n"
     ]
    }
   ],
   "source": [
    "print(meshing_ats.__file__)"
   ]
  },
  {
   "cell_type": "code",
   "execution_count": 3,
   "metadata": {},
   "outputs": [],
   "source": [
    "import math\n",
    "def Distance(x,y):\n",
    "    d = np.zeros(len(x))\n",
    "    for i in range(len(x)):\n",
    "        d[i] = math.hypot(x[-1] - x[i], y[-1] - y[i])\n",
    "    return d"
   ]
  },
  {
   "cell_type": "code",
   "execution_count": 5,
   "metadata": {
    "scrolled": true
   },
   "outputs": [
    {
     "name": "stdout",
     "output_type": "stream",
     "text": [
      "C\n",
      "[0.         1.90171975 5.68200009 8.61462553] [4.968 5.321 5.169 5.099]\n",
      "11 29\n",
      "left 0.1901719748262033 11\n",
      "right 0.23974663502900206 29\n"
     ]
    },
    {
     "data": {
      "image/png": "[encoded data removed]",
      "text/plain": [
       "<Figure size 432x288 with 1 Axes>"
      ]
     },
     "metadata": {
      "needs_background": "light"
     },
     "output_type": "display_data"
    },
    {
     "name": "stdout",
     "output_type": "stream",
     "text": [
      "---------------------------------------------\n",
      "center [5.07949 5.04949 4.99949 4.94949 4.89949 4.84949 4.79949 4.74949 4.69949\n",
      " 4.67949 4.59949 4.49949 4.39949 4.29949 4.09949 3.84949 3.59949] 5.321\n",
      "5.09949 5.099\n"
     ]
    }
   ],
   "source": [
    "#Vladimir data\n",
    "site_area = 'C'\n",
    "if site_area == 'C': \n",
    "    print (site_area)\n",
    "    zv = np.array([5.099, 5.169, 5.321, 4.968])\n",
    "    zv =zv[::-1]\n",
    "    northing = [7910344.103,7910341.163,7910337.608, 7910335.845] #original\n",
    "    easting = [585907.153,585907.605,585908.893,585909.606]\n",
    "    distC = Distance(northing,easting)\n",
    "    distC = distC[::-1]\n",
    "    print (distC, zv)\n",
    "    numx1 = int((distC[1] - distC[0]) / 0.17)\n",
    "    numx2 = int((distC[-1] - distC[1]) / 0.23)\n",
    "    print (numx1, numx2)\n",
    "    xnew1 = np.linspace(distC[0],distC[1],numx1)\n",
    "    xnew2 = np.linspace(distC[1],distC[-1],numx2)\n",
    "    cs1 = scipy.interpolate.CubicSpline(distC[:2],zv[:2], bc_type='clamped')\n",
    "    cs2 = scipy.interpolate.CubicSpline(distC[1:],zv[1:], bc_type='clamped')\n",
    "    \n",
    "print ('left', xnew1[1] - xnew1[0], numx1)\n",
    "print ('right', xnew2[-1] - xnew2[-2], numx2)\n",
    "    \n",
    "plt.plot(xnew1, cs1(xnew1), '.-', color= 'r', label = 'fitted curve')\n",
    "plt.plot(xnew2, cs2(xnew2), '.-', color= 'r')\n",
    "plt.plot(distC, zv, '*', color= 'k', label='measured data')\n",
    "\n",
    "plt.show()\n",
    "\n",
    "if 'D' in site_area:\n",
    "    xnew = xnew1\n",
    "    zv = cs1(xnew1)\n",
    "else:\n",
    "    xnew = np.concatenate((xnew1,xnew2[1:]))\n",
    "    zv = np.concatenate((cs1(xnew1), cs2(xnew2[1:])))\n",
    " \n",
    "print ('---------------------------------------------')\n",
    "\n",
    "assert len(zv) == len(xnew)\n",
    "\n",
    "\n",
    "#trough\n",
    "observe = 'center'\n",
    "xloc = 0\n",
    "mid_pt = (zv[0] + zv[1])/2.\n",
    "\n",
    "depths_t = [0.02, 0.05, 0.1, 0.15, 0.2, 0.25, 0.30, 0.35, 0.4, 0.5, 0.6,0.7,0.8, 1.0, 1.25, 1.50]\n",
    "depths_r = [0.02, 0.05, 0.1, 0.15, 0.2, 0.25, 0.30, 0.35, 0.4, 0.5, 0.6,0.7,0.8, 1.0, 1.25, 1.50]\n",
    "depths_c = [0.02, 0.05, 0.1, 0.15, 0.2, 0.25, 0.30, 00.35, 0.4, 0.42, 0.5, 0.6,0.7,0.8, 1.0, 1.25, 1.50]\n",
    "if observe == 'trough':\n",
    "    z_location = [zv[1] - v for v in depths_t] #taking z at zv[1] to make sure the observed point lie within above cell\n",
    "    xloc = np.where(zv == zv[0])\n",
    "    xloc = xnew[xloc]\n",
    "elif observe == 'rim':\n",
    "    if 'B' in site_area: # max in polygon B is the center.. so we need to get the right location for rim\n",
    "        z_location = [zv[numx1] - v for v in depths_r]\n",
    "        print ('B')\n",
    "    else:\n",
    "        z_location = [max(zv) - v for v in depths_r]\n",
    "        print ('Not B')\n",
    "    xloc = np.where(zv == max(zv))\n",
    "elif observe == 'center':\n",
    "    if 'B' in site_area:\n",
    "        z_location = [zv[-1] - v for v in depths_c]\n",
    "    else:\n",
    "        z_location = [zv[-2] - v for v in depths_c]\n",
    "    \n",
    "zv = np.round(zv, 5)\n",
    "xnew = np.round(xnew,5)\n",
    "print (observe, np.round(z_location,5), max(zv))\n",
    "print (zv[-2], zv[-1])"
   ]
  },
  {
   "cell_type": "code",
   "execution_count": null,
   "metadata": {},
   "outputs": [],
   "source": []
  },
  {
   "cell_type": "code",
   "execution_count": 6,
   "metadata": {},
   "outputs": [
    {
     "name": "stdout",
     "output_type": "stream",
     "text": [
      "[0.      0.19017 0.38034 0.57052 0.76069 0.95086 1.14103 1.3312  1.52138\n",
      " 1.71155 1.90172 2.14147 2.38121 2.62096 2.86071 3.10045 3.3402  3.57995\n",
      " 3.81969 4.05944 4.29919 4.53893 4.77868 5.01843 5.25817 5.49792 5.73767\n",
      " 5.97741 6.21716 6.45691 6.69665 6.9364  7.17615 7.41589 7.65564 7.89539\n",
      " 8.13513 8.37488 8.61463] [4.968   4.97788 5.00471 5.04425 5.09226 5.1445  5.19674 5.24475 5.28429\n",
      " 5.31112 5.321   5.31991 5.31675 5.31174 5.30506 5.29691 5.28749 5.277\n",
      " 5.26562 5.25356 5.24101 5.22816 5.21522 5.20239 5.18984 5.17779 5.16643\n",
      " 5.1559  5.14622 5.13741 5.12947 5.12243 5.11628 5.11105 5.10674 5.10337\n",
      " 5.10095 5.09949 5.099  ]\n",
      "39 39\n",
      "Seepage face high at the center  0.35299999999999976\n"
     ]
    }
   ],
   "source": [
    "z_smooth = zv\n",
    "x = xnew\n",
    "print (x, z_smooth)\n",
    "print (len(x), len(z_smooth))\n",
    "print ('Seepage face high at the center ', max(z_smooth - z_smooth[0]))"
   ]
  },
  {
   "cell_type": "code",
   "execution_count": null,
   "metadata": {},
   "outputs": [],
   "source": []
  },
  {
   "cell_type": "code",
   "execution_count": 7,
   "metadata": {},
   "outputs": [
    {
     "name": "stdout",
     "output_type": "stream",
     "text": [
      "C 10\n"
     ]
    },
    {
     "data": {
      "image/png": "[encoded data removed]",
      "text/plain": [
       "<Figure size 432x288 with 1 Axes>"
      ]
     },
     "metadata": {
      "needs_background": "light"
     },
     "output_type": "display_data"
    }
   ],
   "source": [
    "importlib.reload(meshing_ats)\n",
    "\n",
    "if site_area == 'A':\n",
    "    arclen = 16\n",
    "elif site_area == 'B':\n",
    "    arclen = 6\n",
    "elif site_area == 'C':\n",
    "    arclen = 10\n",
    "elif site_area == 'D':\n",
    "    arclen = 10\n",
    "m2 = meshing_ats.Mesh2D.from_Transect_MakePieWedge(x,z_smooth, arclen, curved=False)\n",
    "\n",
    "print (site_area, arclen)\n",
    "m2.plot()"
   ]
  },
  {
   "cell_type": "code",
   "execution_count": null,
   "metadata": {},
   "outputs": [],
   "source": [
    "\n"
   ]
  },
  {
   "cell_type": "code",
   "execution_count": 8,
   "metadata": {},
   "outputs": [
    {
     "name": "stdout",
     "output_type": "stream",
     "text": [
      "4.968 4.468 1.40296789\n",
      "[1.40296789 1.91380657 2.42464526 2.93548395 3.44632263 3.95716131\n",
      " 4.468     ]\n"
     ]
    },
    {
     "data": {
      "image/png": "[encoded data removed]",
      "text/plain": [
       "<Figure size 432x288 with 1 Axes>"
      ]
     },
     "metadata": {
      "needs_background": "light"
     },
     "output_type": "display_data"
    }
   ],
   "source": [
    "x0,x1 = x[0], x[6]\n",
    "z_upper = z_smooth[0] - 0.5\n",
    "#z_lower = z_upper - 3.0\n",
    "z_lower = 1.40296789\n",
    "print (z_smooth[0], z_upper, z_lower)\n",
    "\n",
    "P = (x1,z_upper)\n",
    "Q = (x0, z_lower)\n",
    "\n",
    "P =(x[6],0)\n",
    "xx = np.linspace(0,x[6],7)\n",
    "Q = (z_upper,z_lower)\n",
    "\n",
    "slope = (z_upper-z_lower)/(x[6]-0)\n",
    "y = z_upper + slope*(xx-x[6])\n",
    "#print (m)\n",
    "plt.plot(xx,y,'.')\n",
    "print (y)#,x[6],x)"
   ]
  },
  {
   "cell_type": "code",
   "execution_count": 9,
   "metadata": {},
   "outputs": [
    {
     "name": "stdout",
     "output_type": "stream",
     "text": [
      "Upper mineral  [4.968 4.948 4.928 4.908 4.888 4.868 4.848 4.828 4.808 4.788 4.768 4.748\n",
      " 4.728 4.708 4.688 4.668 4.648 4.628 4.608 4.588 4.568 4.548 4.528 4.508\n",
      " 4.488 4.468 0.    0.    0.    0.    0.    0.    0.    0.    0.    0.\n",
      " 0.    0.    0.    0.    0.    0.    0.    0.    0.    0.    0.    0.\n",
      " 0.    0.    0.    0.    0.    0.    0.    0.    0.    0.    0.    0.   ] 4.468\n",
      "Ice rich new  3.065032111627836 [4.968      4.948      4.928      4.908      4.888      4.868\n",
      " 4.848      4.828      4.808      4.788      4.768      4.748\n",
      " 4.728      4.708      4.688      4.668      4.648      4.628\n",
      " 4.608      4.588      4.568      4.548      4.528      4.508\n",
      " 4.488      4.468      4.4465     4.4233875  4.39854156 4.37183218\n",
      " 4.34311959 4.31225356 4.27907258 4.24340302 4.20505825 4.16383762\n",
      " 4.11952544 4.07188985 4.02068159 3.96563271 3.90645516 3.8428393\n",
      " 3.77445224 3.70093616 3.62190637 3.53694935 3.44562055 3.34744209\n",
      " 3.24190025 3.12844277 3.00647598 2.87536168 2.7344138  2.58289484\n",
      " 2.42001195 2.24491285 2.05668131 1.85433241 1.63680734 1.40296789]\n",
      "Depth shape  (38, 60)\n",
      "[4.968   4.97788 5.00471 5.04425 5.09226 5.1445  5.19674 5.24475 5.28429\n",
      " 5.31112 5.321   5.31991 5.31675 5.31174 5.30506 5.29691 5.28749 5.277\n",
      " 5.26562 5.25356 5.24101 5.22816 5.21522 5.20239 5.18984 5.17779 5.16643\n",
      " 5.1559  5.14622 5.13741 5.12947 5.12243 5.11628 5.11105 5.10674 5.10337\n",
      " 5.10095 5.09949]\n",
      "(38, 34)\n",
      "7 [ 1010.  1010.  1010.  1010.  1010.  1010.  1010.  1010.  1010.  1010.\n",
      "  1010.  1010.  1010.  1010.  1010.  1010.  1010.  1010.  1010.  1010.\n",
      "  1010.  1010.  1010.  1010.  1010.  1010. -2000. -2000. -2000. -2000.\n",
      " -2000. -2000. -2000. -2000.] 34\n",
      "---------------\n"
     ]
    }
   ],
   "source": [
    "\n",
    "Depth = np.zeros((m2.num_cells(),60))\n",
    "DisX = np.zeros((m2.num_cells()+1,60))\n",
    "for i in range(60):\n",
    "    DisX[:,i] = x\n",
    "#print (DisX[6,:])\n",
    "z = 0\n",
    "dz=0.02\n",
    "for i in range(m2.num_cells()):\n",
    "    #z1 = z_smooth[i]\n",
    "    for j in range(26):\n",
    "        z1 = z_smooth[i] - dz*j\n",
    "        Depth[i,j] = z1\n",
    "print ('Upper mineral ', Depth[0],Depth[0][25])\n",
    "\n",
    "dz=0.02\n",
    "for i in range(m2.num_cells()):\n",
    "    #z1 = z + z_smooth[i]\n",
    "    z = 0\n",
    "    dz = .02\n",
    "    for j in range(26,26+34):\n",
    "        dz *= 1.075\n",
    "        z = z + dz\n",
    "        #print (z)\n",
    "        #z1 = z_smooth[i] - dz\n",
    "        Depth[i,j] = Depth[i,25] - z\n",
    "        #print (Depth[i,j])\n",
    "    #z = z1\n",
    "print ('Ice rich new ', z, Depth[0])\n",
    "l = np.where(Depth[0]>0)[0]\n",
    "l = l[-1]\n",
    "#print ('LL: ',l)\n",
    "X = 1.40296789\n",
    "\n",
    "print ('Depth shape ', Depth.shape)\n",
    "print (Depth[:,0])#,Depth[2,:])\n",
    "IRZ_layer=-2000*np.ones((m2.num_cells(), l-25))\n",
    "\n",
    "print (IRZ_layer.shape)\n",
    "\n",
    "\n",
    "for i in range(m2.num_cells()):\n",
    "    irz = []\n",
    "    #break\n",
    "    y1 = z_upper + slope*(x[i]-x[6])\n",
    "    if y1 >y[-1]:\n",
    "        #print (i,y1,y[-1])\n",
    "        break\n",
    "    for j in range(26,26+34):  \n",
    "        #print (y1,slope,x[i],x[7])\n",
    "        if (x[i] <= x1 and Depth[i][j]<= 4.468):\n",
    "            #IRZ_layer[i][j-26] = 1010\n",
    "            irz.append(1010)\n",
    "            if i>50:\n",
    "                print (i,j,x[i],Depth[i,j],y1)\n",
    "            #break\n",
    "        else:\n",
    "            irz.append(-2000)\n",
    "    IRZ_layer[i][:] = irz[::-1]\n",
    "    #print('+',i,IRZ_layer[i], len(IRZ_layer[i]))\n",
    "\n",
    "\n",
    "print (i,IRZ_layer[6],len(IRZ_layer[0]))\n",
    "print (\"---------------\")        \n",
    "\n"
   ]
  },
  {
   "cell_type": "code",
   "execution_count": null,
   "metadata": {},
   "outputs": [],
   "source": [
    "\n",
    "Depth = []#np.zeros(60)\n",
    "\n",
    "\n",
    "dz=0.02\n",
    "for j in range(25):\n",
    "    z1 = z_smooth[0] - dz*j\n",
    "    Depth.append(z1)\n",
    "#print ('Upper mineral ', Depth)\n",
    "dz=0.02\n",
    "z = 0\n",
    "for j in range(25,25+34):\n",
    "    dz *= 1.075\n",
    "    z = z + dz\n",
    "    Depth.append(Depth[24] - z)\n",
    "    #print (Depth[-1])\n",
    "#print ('Ice rich new ', z, Depth)\n",
    "\n",
    "l = len(Depth)\n",
    "print ('LL: ',l)\n",
    "X = 1.40296789\n",
    "\n",
    "IRZ_layer=-2000*np.ones((m2.num_cells(), l-25))\n",
    "\n",
    "print (IRZ_layer.shape)\n",
    "\n",
    "\n",
    "for i in range(m2.num_cells()):\n",
    "    irz = []\n",
    "    #break\n",
    "    y1 = z_upper + slope*(x[i]-x[7])\n",
    "    if y1 >y[-1]:\n",
    "        #print (i,y1,y[-1])\n",
    "        break\n",
    "    for j in range(25,25+34):\n",
    "        if i ==0 :\n",
    "            d = Depth[j]\n",
    "        else:\n",
    "            d = Depth[j] + 1*(z_smooth[i] - z_smooth[i-1])\n",
    "            #print (Depth[j],d)\n",
    "        if (x[i] <= x1 and d <= 4.468 and d>y1):\n",
    "            irz.append(1010)\n",
    "        else:\n",
    "            irz.append(-2000)\n",
    "    IRZ_layer[i][:] = irz#[::-1]\n",
    "\n",
    "print (i,IRZ_layer[6],len(IRZ_layer[0]))\n",
    "print (\"---------------\")        \n",
    "\n",
    "\n"
   ]
  },
  {
   "cell_type": "code",
   "execution_count": null,
   "metadata": {},
   "outputs": [],
   "source": []
  },
  {
   "cell_type": "code",
   "execution_count": null,
   "metadata": {},
   "outputs": [],
   "source": [
    "fig ,ax = plt.subplots(figsize=(12,8))\n",
    "im = plt.imshow(IRZ_layer.transpose())\n",
    "\n",
    "ax = plt.gca()\n",
    "ax.grid(color='r', linewidth=0.5)\n",
    "plt.colorbar()\n",
    "ax.set_aspect('equal')\n",
    "#for d in IRZ_layer:\n",
    "#    print (d,len(d),m2.num_cells())#IRZ_layer.shape,m2.num_cells())\n",
    "\n"
   ]
  },
  {
   "cell_type": "code",
   "execution_count": null,
   "metadata": {},
   "outputs": [],
   "source": [
    "outfile = \"/Users/ajc/FUSE2/simulations/hillslope/mesh/piewedges/\"\n",
    "layer_types = []\n",
    "layer_data = []\n",
    "layer_ncells = []\n",
    "layer_mat_ids = []\n",
    "\n",
    "z=0\n",
    "Z = []\n",
    "\n",
    "for i in range(25):\n",
    "    layer_types.append('constant')\n",
    "    layer_data.append(0.02)\n",
    "    layer_ncells.append(1)\n",
    "    if i <2:\n",
    "        layer_mat_ids.append(1001*np.ones((m2.num_cells(),),'i'))\n",
    "    elif (i <5):\n",
    "        layer_mat_ids.append(1002*np.ones((m2.num_cells(),),'i'))\n",
    "    else:\n",
    "        layer_mat_ids.append(1003*np.ones((m2.num_cells(),),'i'))\n",
    "    z = z + 0.02\n",
    "    Z.append(z)\n",
    "print ('Moss ', z)\n",
    "\n",
    "dz = .02\n",
    "for i in range(34):\n",
    "    dz *= 1.075\n",
    "    layer_types.append(\"constant\")\n",
    "    layer_data.append(dz)\n",
    "    layer_ncells.append(1)\n",
    "    layer_mat_ids.append(-1003*np.ones((m2.num_cells(),),'i'))\n",
    "    #layer_mat_ids.append(1003)\n",
    "    z = z + dz\n",
    "    Z.append(z)\n",
    "    #print (z,dz)\n",
    "print ('Ice rich', z,dz)\n",
    "\n",
    "for i in range(25):\n",
    "    dz *= 1.12\n",
    "    layer_types.append(\"constant\")\n",
    "    layer_data.append(dz)\n",
    "    layer_ncells.append(1)\n",
    "    layer_mat_ids.append(1003*np.ones((m2.num_cells(),),'i'))\n",
    "    #layer_mat_ids.append(1003)\n",
    "    z = z + dz\n",
    "    Z.append(z)\n",
    "print ('lower mineral', z)\n",
    "\n",
    "\n",
    "layer_types.append('snapped')\n",
    "layer_data.append(-45.0) # bottom location\n",
    "layer_ncells.append(1)\n",
    "layer_mat_ids.append(1003*np.ones((m2.num_cells(),),'i'))\n",
    "#layer_mat_ids.append(1003)\n",
    "print (l-25)\n",
    "mat_ids=np.zeros((m2.num_cells(), l-25),'i')\n",
    "for i in range(m2.num_cells()):\n",
    "    #print (i,IRZ_layer[i])\n",
    "    for j in range(0,34):\n",
    "        #print (j)\n",
    "        #print (IRZ_layer[0])\n",
    "        if IRZ_layer[i,j] == 1010:# and Depth[i,j]<= 4.468:\n",
    "            mat_ids[i,j]= 1010#1010\n",
    "            #print ('HERE')\n",
    "        else:\n",
    "            mat_ids[i,j]= 1003#1003\n",
    "\n",
    "\n",
    "\n",
    "for j in range(l-25):\n",
    "    layer_mat_ids[j+25] = mat_ids[:,j]\n",
    "    \n",
    "print (layer_mat_ids[25])\n",
    "print (layer_mat_ids[56])\n",
    "m3 = meshing_ats.Mesh3D.extruded_Mesh2D(m2, layer_types, \n",
    "                                        layer_data, \n",
    "                                        layer_ncells, \n",
    "                                        layer_mat_ids)\n",
    "file= \"areaC-3layers-Vladimir-om10cm-case1.exo\"\n",
    "m3.write_exodus(file.encode('utf8'))\n"
   ]
  },
  {
   "cell_type": "code",
   "execution_count": null,
   "metadata": {},
   "outputs": [],
   "source": []
  },
  {
   "cell_type": "code",
   "execution_count": null,
   "metadata": {},
   "outputs": [],
   "source": []
  },
  {
   "cell_type": "code",
   "execution_count": null,
   "metadata": {},
   "outputs": [],
   "source": []
  },
  {
   "cell_type": "code",
   "execution_count": null,
   "metadata": {},
   "outputs": [],
   "source": []
  },
  {
   "cell_type": "code",
   "execution_count": null,
   "metadata": {},
   "outputs": [],
   "source": []
  },
  {
   "cell_type": "code",
   "execution_count": null,
   "metadata": {},
   "outputs": [],
   "source": []
  },
  {
   "cell_type": "code",
   "execution_count": null,
   "metadata": {},
   "outputs": [],
   "source": []
  },
  {
   "cell_type": "code",
   "execution_count": null,
   "metadata": {},
   "outputs": [],
   "source": []
  },
  {
   "cell_type": "code",
   "execution_count": null,
   "metadata": {},
   "outputs": [],
   "source": []
  }
 ],
 "metadata": {
  "kernelspec": {
   "display_name": "Python 3",
   "language": "python",
   "name": "python3"
  },
  "language_info": {
   "codemirror_mode": {
    "name": "ipython",
    "version": 3
   },
   "file_extension": ".py",
   "mimetype": "text/x-python",
   "name": "python",
   "nbconvert_exporter": "python",
   "pygments_lexer": "ipython3",
   "version": "3.7.3"
  }
 },
 "nbformat": 4,
 "nbformat_minor": 2
}
