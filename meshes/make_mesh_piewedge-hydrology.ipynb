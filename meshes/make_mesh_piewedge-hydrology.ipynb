{
 "cells": [
  {
   "cell_type": "code",
   "execution_count": null,
   "metadata": {},
   "outputs": [],
   "source": [
    "#%matplotlib"
   ]
  },
  {
   "cell_type": "code",
   "execution_count": 1,
   "metadata": {},
   "outputs": [
    {
     "data": {
      "text/plain": [
       "32.8082236775"
      ]
     },
     "execution_count": 1,
     "metadata": {},
     "output_type": "execute_result"
    }
   ],
   "source": [
    "#Vertical resolution used : \n",
    "0.02\n",
    "0.1\n",
    "0.5\n",
    "1.25010428797\n",
    "8.33294983235\n",
    "32.8082236775"
   ]
  },
  {
   "cell_type": "code",
   "execution_count": 2,
   "metadata": {},
   "outputs": [],
   "source": [
    "import sys, os\n",
    "\n",
    "#sys.path.append(os.path.join(os.environ['ATS_SRC_DIR'],'tools','meshing_ats'))\n",
    "#sys.path.append('/codes/simulator/debug/ats-mesh/tools/meshing_ats/meshing_ats/')\n",
    "sys.path.append('/Users/ajc/codes/simulator/debug/ats-mesh/tools/meshing_ats/meshing_ats')\n",
    "import meshing_ats\n",
    "\n",
    "import numpy as np\n",
    "import pandas as pd\n",
    "from matplotlib import pyplot as plt\n",
    "import scipy.signal\n",
    "import importlib"
   ]
  },
  {
   "cell_type": "code",
   "execution_count": 3,
   "metadata": {},
   "outputs": [
    {
     "name": "stdout",
     "output_type": "stream",
     "text": [
      "/Users/ajc/codes/simulator/debug/ats-mesh/tools/meshing_ats/meshing_ats/meshing_ats.py\n"
     ]
    }
   ],
   "source": [
    "print(meshing_ats.__file__)"
   ]
  },
  {
   "cell_type": "code",
   "execution_count": 4,
   "metadata": {},
   "outputs": [],
   "source": [
    "import math\n",
    "def Distance(x,y):\n",
    "    d = np.zeros(len(x))\n",
    "    for i in range(len(x)):\n",
    "        d[i] = math.hypot(x[-1] - x[i], y[-1] - y[i])\n",
    "    return d"
   ]
  },
  {
   "cell_type": "code",
   "execution_count": 5,
   "metadata": {
    "scrolled": true
   },
   "outputs": [
    {
     "name": "stdout",
     "output_type": "stream",
     "text": [
      "[0.         1.90171975 5.68200009 8.61462553] [4.968 5.321 5.169 5.099]\n",
      "11 29\n",
      "left 0.1901719748262033 11\n",
      "right 0.23974663502900206 29\n"
     ]
    },
    {
     "data": {
      "image/png": "[encoded data removed]",
      "text/plain": [
       "<Figure size 432x288 with 1 Axes>"
      ]
     },
     "metadata": {
      "needs_background": "light"
     },
     "output_type": "display_data"
    },
    {
     "name": "stderr",
     "output_type": "stream",
     "text": [
      "No handles with labels found to put in legend.\n"
     ]
    },
    {
     "name": "stdout",
     "output_type": "stream",
     "text": [
      "---------------------------------------------\n",
      "center [5.07949 5.04949 4.99949 4.94949 4.89949 4.84949 4.79949 4.74949 4.69949\n",
      " 4.67949 4.59949 4.49949 4.39949 4.29949 4.09949 3.84949 3.59949] 5.321\n",
      "5.09949 5.099\n"
     ]
    },
    {
     "data": {
      "text/plain": [
       "<matplotlib.legend.Legend at 0x1c22168240>"
      ]
     },
     "execution_count": 5,
     "metadata": {},
     "output_type": "execute_result"
    },
    {
     "data": {
      "image/png": "[encoded data removed]",
      "text/plain": [
       "<Figure size 432x288 with 1 Axes>"
      ]
     },
     "metadata": {
      "needs_background": "light"
     },
     "output_type": "display_data"
    }
   ],
   "source": [
    "#Vladimir data\n",
    "site_area = 'C'\n",
    "case = 1\n",
    "if site_area == 'C': \n",
    "    if case == 1:\n",
    "        zv = np.array([5.099, 5.169, 5.321, 4.968])\n",
    "    elif case == 2:\n",
    "        zv = np.array([5.099, 5.169, 5.421, 4.968])\n",
    "    elif case == 3:\n",
    "        zv = np.array([5.099, 5.169, 5.521, 4.968])\n",
    "    zv =zv[::-1]\n",
    "    northing = [7910344.103,7910341.163,7910337.608, 7910335.845] #original\n",
    "    easting = [585907.153,585907.605,585908.893,585909.606]\n",
    "    distC = Distance(northing,easting)\n",
    "    distC = distC[::-1]\n",
    "    print (distC, zv)\n",
    "    numx1 = int((distC[1] - distC[0]) / 0.17)\n",
    "    numx2 = int((distC[-1] - distC[1]) / 0.23)\n",
    "    print (numx1, numx2)\n",
    "    xnew1 = np.linspace(distC[0],distC[1],numx1)\n",
    "    xnew2 = np.linspace(distC[1],distC[-1],numx2)\n",
    "    cs1 = scipy.interpolate.CubicSpline(distC[:2],zv[:2], bc_type='clamped')\n",
    "    cs2 = scipy.interpolate.CubicSpline(distC[1:],zv[1:], bc_type='clamped')\n",
    "\n",
    "    \n",
    "print ('left', xnew1[1] - xnew1[0], numx1)\n",
    "print ('right', xnew2[-1] - xnew2[-2], numx2)\n",
    "    \n",
    "plt.plot(xnew1, cs1(xnew1), '.-', color= 'r', label = 'fitted curve')\n",
    "plt.plot(xnew2, cs2(xnew2), '.-', color= 'r')\n",
    "plt.plot(distC, zv, '*', color= 'k', label='measured data')\n",
    "\n",
    "plt.show()\n",
    "\n",
    "if 'D' in site_area:\n",
    "    xnew = xnew1\n",
    "    zv = cs1(xnew1)\n",
    "else:\n",
    "    xnew = np.concatenate((xnew1,xnew2[1:]))\n",
    "    zv = np.concatenate((cs1(xnew1), cs2(xnew2[1:])))\n",
    " \n",
    "print ('---------------------------------------------')\n",
    "\n",
    "assert len(zv) == len(xnew)\n",
    "\n",
    "\n",
    "#trough\n",
    "observe = 'center'\n",
    "xloc = 0\n",
    "mid_pt = (zv[0] + zv[1])/2.\n",
    "\n",
    "depths_t = [0.02, 0.05, 0.1, 0.15, 0.2, 0.25, 0.30, 0.35, 0.4, 0.5, 0.6,0.7,0.8, 1.0, 1.25, 1.50]\n",
    "depths_r = [0.02, 0.05, 0.1, 0.15, 0.2, 0.25, 0.30, 0.35, 0.4, 0.5, 0.6,0.7,0.8, 1.0, 1.25, 1.50]\n",
    "depths_c = [0.02, 0.05, 0.1, 0.15, 0.2, 0.25, 0.30, 00.35, 0.4, 0.42, 0.5, 0.6,0.7,0.8, 1.0, 1.25, 1.50]\n",
    "if observe == 'trough':\n",
    "    z_location = [zv[1] - v for v in depths_t] #taking z at zv[1] to make sure the observed point lie within above cell\n",
    "    xloc = np.where(zv == zv[0])\n",
    "    xloc = xnew[xloc]\n",
    "elif observe == 'rim':\n",
    "    if 'B' in site_area: # max in polygon B is the center.. so we need to get the right location for rim\n",
    "        z_location = [zv[numx1] - v for v in depths_r]\n",
    "        print ('B')\n",
    "    else:\n",
    "        z_location = [max(zv) - v for v in depths_r]\n",
    "        print ('Not B')\n",
    "    xloc = np.where(zv == max(zv))\n",
    "elif observe == 'center':\n",
    "    if 'B' in site_area:\n",
    "        z_location = [zv[-1] - v for v in depths_c]\n",
    "    else:\n",
    "        z_location = [zv[-2] - v for v in depths_c]\n",
    "    \n",
    "zv = np.round(zv, 5)\n",
    "xnew = np.round(xnew,5)\n",
    "print (observe, np.round(z_location,5), max(zv))\n",
    "print (zv[-2], zv[-1])\n",
    "\n",
    "plt.xlabel('Distance [m]')\n",
    "plt.ylabel('Elevation [m]')\n",
    "plt.title('Polygon Area B')\n",
    "plt.legend()\n"
   ]
  },
  {
   "cell_type": "code",
   "execution_count": null,
   "metadata": {},
   "outputs": [],
   "source": []
  },
  {
   "cell_type": "code",
   "execution_count": 6,
   "metadata": {},
   "outputs": [
    {
     "name": "stdout",
     "output_type": "stream",
     "text": [
      "[0.      0.19017 0.38034 0.57052 0.76069 0.95086 1.14103 1.3312  1.52138\n",
      " 1.71155 1.90172 2.14147 2.38121 2.62096 2.86071 3.10045 3.3402  3.57995\n",
      " 3.81969 4.05944 4.29919 4.53893 4.77868 5.01843 5.25817 5.49792 5.73767\n",
      " 5.97741 6.21716 6.45691 6.69665 6.9364  7.17615 7.41589 7.65564 7.89539\n",
      " 8.13513 8.37488 8.61463] [4.968   4.97788 5.00471 5.04425 5.09226 5.1445  5.19674 5.24475 5.28429\n",
      " 5.31112 5.321   5.31991 5.31675 5.31174 5.30506 5.29691 5.28749 5.277\n",
      " 5.26562 5.25356 5.24101 5.22816 5.21522 5.20239 5.18984 5.17779 5.16643\n",
      " 5.1559  5.14622 5.13741 5.12947 5.12243 5.11628 5.11105 5.10674 5.10337\n",
      " 5.10095 5.09949 5.099  ]\n",
      "39 39\n",
      "Seepage face high at the center  0.35299999999999976\n"
     ]
    }
   ],
   "source": [
    "z_smooth = zv\n",
    "x = xnew\n",
    "print (x, z_smooth)\n",
    "print (len(x), len(z_smooth))\n",
    "print ('Seepage face high at the center ', max(z_smooth - z_smooth[0]))"
   ]
  },
  {
   "cell_type": "code",
   "execution_count": 30,
   "metadata": {},
   "outputs": [
    {
     "name": "stdout",
     "output_type": "stream",
     "text": [
      "[1.90172 2.14147] [5.321   5.31991] 4.81991 3.8499999999999996\n"
     ]
    }
   ],
   "source": [
    "print (x[10:12],z_smooth[10:12],5.31991-0.5, 5.35-1.5)"
   ]
  },
  {
   "cell_type": "code",
   "execution_count": 7,
   "metadata": {},
   "outputs": [
    {
     "name": "stdout",
     "output_type": "stream",
     "text": [
      "C 10\n"
     ]
    },
    {
     "data": {
      "image/png": "[encoded data removed]",
      "text/plain": [
       "<Figure size 432x288 with 1 Axes>"
      ]
     },
     "metadata": {
      "needs_background": "light"
     },
     "output_type": "display_data"
    }
   ],
   "source": [
    "importlib.reload(meshing_ats)\n",
    "\n",
    "if site_area == 'A':\n",
    "    arclen = 16\n",
    "elif site_area == 'B':\n",
    "    arclen = 6\n",
    "elif site_area == 'C':\n",
    "    arclen = 10\n",
    "elif site_area == 'D':\n",
    "    arclen = 10\n",
    "m2 = meshing_ats.Mesh2D.from_Transect_MakePieWedge(x,z_smooth, arclen, curved=False)\n",
    "\n",
    "print (site_area, arclen)\n",
    "m2.plot()"
   ]
  },
  {
   "cell_type": "code",
   "execution_count": 8,
   "metadata": {},
   "outputs": [],
   "source": [
    "x_layer = x[:7]#[0.      0.19017 0.38034 0.57052 0.76069 0.95086]\n",
    "#z_layer =  [i- for i in z_smooth[:6]]\n",
    "#print (x_layer, z_layer)\n"
   ]
  },
  {
   "cell_type": "code",
   "execution_count": 8,
   "metadata": {},
   "outputs": [
    {
     "name": "stdout",
     "output_type": "stream",
     "text": [
      "4.968 4.468 1.468\n",
      "[[1.14103 1.     ]\n",
      " [0.5     1.     ]]\n"
     ]
    },
    {
     "name": "stderr",
     "output_type": "stream",
     "text": [
      "/Users/ajc/codes/anaconda3/lib/python3.7/site-packages/ipykernel_launcher.py:18: FutureWarning: `rcond` parameter will change to the default of machine precision times ``max(M, N)`` where M and N are the input matrix dimensions.\n",
      "To use the future default and silence this warning we advise to pass `rcond=None`, to keep using the old, explicitly pass `rcond=-1`.\n"
     ]
    },
    {
     "data": {
      "text/plain": [
       "[<matplotlib.lines.Line2D at 0x1c2232e7b8>]"
      ]
     },
     "execution_count": 8,
     "metadata": {},
     "output_type": "execute_result"
    },
    {
     "data": {
      "image/png": "[encoded data removed]",
      "text/plain": [
       "<Figure size 432x288 with 1 Axes>"
      ]
     },
     "metadata": {
      "needs_background": "light"
     },
     "output_type": "display_data"
    }
   ],
   "source": [
    "x0,x1 = x[0], x[6]\n",
    "z_upper = z_smooth[0] - 0.5\n",
    "z_lower = z_upper - 3.0\n",
    "print (z_smooth[0], z_upper, z_lower)\n",
    "from numpy import ones,vstack\n",
    "from numpy.linalg import lstsq\n",
    "P = (x1,z_upper)\n",
    "Q = (x0, z_lower)\n",
    "\n",
    "P =(x[6],0)\n",
    "xx = np.linspace(0,x[6],7)\n",
    "Q = (0.5,3.5)\n",
    "points = [P,Q]\n",
    "x_coords, y_coords = zip(*points)\n",
    "\n",
    "A = vstack([x_coords,ones(len(x_coords))]).T\n",
    "print (A)\n",
    "m, c = lstsq(A, y_coords)[0]\n",
    "#print(\"Line Solution is y = {m}x + {c}\".format(m=m,c=c))\n",
    "#plt.plot(xx,m*xx+c)\n",
    "slope = (0.5-3.5)/(x[6]-0)\n",
    "y = 0.5 + slope*(xx-x[6])\n",
    "#print (m)\n",
    "plt.plot(xx,y,'.')"
   ]
  },
  {
   "cell_type": "code",
   "execution_count": 10,
   "metadata": {},
   "outputs": [
    {
     "name": "stdout",
     "output_type": "stream",
     "text": [
      "Upper mineral  0.5000000000000001 25\n",
      "Ice rich 3.5650321116278354 58\n",
      "(38, 34)\n",
      "38 [1010. 1010. 1010. 1010. 1010. 1010. 1010. 1010. 1010. 1010. 1010. 1010.\n",
      " 1010. 1010. 1010. 1010. 1010. 1010. 1010. 1010. 1010. 1010. 1010. 1010.\n",
      " 1010. 1010. 1010. 1010. 1010. 1010. 1010. 1010. 1010. 1010.]\n"
     ]
    }
   ],
   "source": [
    "\n",
    "Depth = []\n",
    "z = 0\n",
    "for i in range(25):\n",
    "    z = z + 0.02\n",
    "    Depth.append(z)\n",
    "\n",
    "print ('Upper mineral ', z, len(Depth))\n",
    "\n",
    "dz = .02\n",
    "for i in range(34):\n",
    "    dz *= 1.075\n",
    "    z = z + dz\n",
    "    if z <3.5:\n",
    "        Depth.append(z)\n",
    "    \n",
    "print ('Ice rich', z, len(Depth))\n",
    "\n",
    "#IRZ_layer = np.zeros((7,len(Depth)-25))\n",
    "IRZ_layer=np.zeros((m2.num_cells(), len(Depth)-24))\n",
    "print (IRZ_layer.shape)\n",
    "y = 0.5 + slope*(Depth-x[6])\n",
    "for i in range(m2.num_cells()):\n",
    "    \n",
    "    for j in range(24,len(Depth)):\n",
    "        #print (i)\n",
    "        #print (x[i])\n",
    "        #if x[i] < x1 and Depth[j] < 3.5 and Depth[j] >= 0.5:\n",
    "        if Depth[j] >= 0.5:\n",
    "            #print (Depth[j], x[i], y[i])\n",
    "            y1 = 0.5 + slope*(x[i]-x[7])\n",
    "            if x[i] <= x1 and Depth[j] <= y1:\n",
    "                #print (i,j, x[i],Depth[j],y1,x[6])\n",
    "                #break\n",
    "                IRZ_layer[i][j-24] = 1010#Depth[j]\n",
    "            else:\n",
    "                IRZ_layer[i][j-24] = -2000\n",
    "    #print ('-----------------------------------', y1,Depth[j],x1,x[i])\n",
    "    #break\n",
    "print (m2.num_cells(),IRZ_layer[0])\n",
    "#print (y)"
   ]
  },
  {
   "cell_type": "code",
   "execution_count": 11,
   "metadata": {},
   "outputs": [
    {
     "data": {
      "image/png": "[encoded data removed]",
      "text/plain": [
       "<Figure size 864x576 with 2 Axes>"
      ]
     },
     "metadata": {
      "needs_background": "light"
     },
     "output_type": "display_data"
    }
   ],
   "source": [
    "fig ,ax = plt.subplots(figsize=(12,8))\n",
    "im = plt.imshow(IRZ_layer.transpose())\n",
    "#plt.imshow([y,xx])\n",
    "ax = plt.gca()\n",
    "ax.grid(color='r', linewidth=0.5)\n",
    "plt.colorbar()\n",
    "ax.set_aspect('equal')"
   ]
  },
  {
   "cell_type": "code",
   "execution_count": null,
   "metadata": {},
   "outputs": [],
   "source": [
    "outfile = \"/Users/ajc/FUSE2/simulations/hillslope/mesh/piewedges/\"\n",
    "layer_types = []\n",
    "layer_data = []\n",
    "layer_ncells = []\n",
    "layer_mat_ids = []\n",
    "\n",
    "z=0\n",
    "Z = []\n",
    "\n",
    "for i in range(1):\n",
    "    layer_types.append('constant')\n",
    "    layer_data.append(0.02)\n",
    "    layer_ncells.append(1)\n",
    "    layer_mat_ids.append(1001*np.ones((m2.num_cells(),),'i'))\n",
    "    #layer_mat_ids.append(1001)\n",
    "    z = z + 0.02\n",
    "    Z.append(z)\n",
    "print ('Moss ', z)\n",
    "\n",
    "for i in range(4):\n",
    "    layer_types.append('constant')\n",
    "    layer_data.append(0.02)\n",
    "    layer_ncells.append(1)\n",
    "    layer_mat_ids.append(1002*np.ones((m2.num_cells(),),'i'))\n",
    "    #layer_mat_ids.append(1002)\n",
    "    z = z + 0.02\n",
    "    Z.append(z)\n",
    "print ('Peat ', z)\n",
    "\n",
    "for i in range(20): \n",
    "    layer_types.append('constant')\n",
    "    layer_data.append(0.02)\n",
    "    layer_ncells.append(1)\n",
    "    layer_mat_ids.append(1003*np.ones((m2.num_cells(),),'i'))\n",
    "    #layer_mat_ids.append(1003)\n",
    "    z = z + 0.02\n",
    "    Z.append(z)\n",
    "print ('Upper mineral ', z)\n",
    "\n",
    "dz = .02\n",
    "for i in range(34):\n",
    "    dz *= 1.075\n",
    "    layer_types.append(\"constant\")\n",
    "    layer_data.append(dz)\n",
    "    layer_ncells.append(1)\n",
    "    layer_mat_ids.append(-1003*np.ones((m2.num_cells(),),'i'))\n",
    "    #layer_mat_ids.append(1003)\n",
    "    z = z + dz\n",
    "    Z.append(z)\n",
    "print ('Ice rich', z)\n",
    "\n",
    "for i in range(25):\n",
    "    dz *= 1.12\n",
    "    layer_types.append(\"constant\")\n",
    "    layer_data.append(dz)\n",
    "    layer_ncells.append(1)\n",
    "    layer_mat_ids.append(1003*np.ones((m2.num_cells(),),'i'))\n",
    "    #layer_mat_ids.append(1003)\n",
    "    z = z + dz\n",
    "    Z.append(z)\n",
    "print (z)\n",
    "\n",
    "\n",
    "layer_types.append('snapped')\n",
    "layer_data.append(-45.0) # bottom location\n",
    "layer_ncells.append(1)\n",
    "layer_mat_ids.append(1003*np.ones((m2.num_cells(),),'i'))\n",
    "#layer_mat_ids.append(1003)\n",
    "\n",
    "mat_ids=np.zeros((m2.num_cells(), len(Depth)-24),'i')\n",
    "for i in range(m2.num_cells()):\n",
    "    for j in range(len(Depth)-24): # after layer 20 everything is bedrock\n",
    "        if IRZ_layer[i,j] == 1010:# (ex.layer_depth[j]<dzs_org_layer[i]):\n",
    "            mat_ids[i,j]=1010\n",
    "        else:\n",
    "            mat_ids[i,j]=1003\n",
    "print (len(Depth)-24)\n",
    "for j in range(len(Depth)-24):\n",
    "    layer_mat_ids[j+25] = mat_ids[:,j]\n",
    "#print (layer_mat_ids)\n",
    "m3 = meshing_ats.Mesh3D.extruded_Mesh2D(m2, layer_types, \n",
    "                                        layer_data, \n",
    "                                        layer_ncells, \n",
    "                                        layer_mat_ids)\n",
    "file= \"areaC-3layers-Vladimir-om10cm-case3.exo\"\n",
    "m3.write_exodus(file.encode('utf8'))\n"
   ]
  },
  {
   "cell_type": "code",
   "execution_count": null,
   "metadata": {},
   "outputs": [],
   "source": []
  },
  {
   "cell_type": "code",
   "execution_count": null,
   "metadata": {},
   "outputs": [],
   "source": []
  },
  {
   "cell_type": "code",
   "execution_count": null,
   "metadata": {},
   "outputs": [],
   "source": []
  },
  {
   "cell_type": "code",
   "execution_count": null,
   "metadata": {},
   "outputs": [],
   "source": []
  },
  {
   "cell_type": "code",
   "execution_count": null,
   "metadata": {},
   "outputs": [],
   "source": []
  },
  {
   "cell_type": "code",
   "execution_count": null,
   "metadata": {},
   "outputs": [],
   "source": []
  },
  {
   "cell_type": "code",
   "execution_count": null,
   "metadata": {},
   "outputs": [],
   "source": []
  },
  {
   "cell_type": "code",
   "execution_count": null,
   "metadata": {},
   "outputs": [],
   "source": []
  },
  {
   "cell_type": "code",
   "execution_count": null,
   "metadata": {},
   "outputs": [],
   "source": []
  }
 ],
 "metadata": {
  "kernelspec": {
   "display_name": "Python 3",
   "language": "python",
   "name": "python3"
  },
  "language_info": {
   "codemirror_mode": {
    "name": "ipython",
    "version": 3
   },
   "file_extension": ".py",
   "mimetype": "text/x-python",
   "name": "python",
   "nbconvert_exporter": "python",
   "pygments_lexer": "ipython3",
   "version": "3.7.3"
  }
 },
 "nbformat": 4,
 "nbformat_minor": 2
}
