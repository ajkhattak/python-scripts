{
 "cells": [
  {
   "cell_type": "markdown",
   "metadata": {},
   "source": [
    "## Script for generating 1D and 2D meshes \n",
    "#### The same workflow will work for generating 3D meshes\n",
    "#### We can read a 2D vtk file for surface elevation as well (not discussed here, but that would be a pretty simple change)\n",
    "#### Example: Uniform soil stratigraphy "
   ]
  },
  {
   "cell_type": "code",
   "execution_count": 1,
   "metadata": {},
   "outputs": [
    {
     "name": "stdout",
     "output_type": "stream",
     "text": [
      "/Users/ajc/Core/codes/simulator/repos/amanzi/src/physics/ats/tools/meshing_ats/meshing_ats/meshing_ats.py\n"
     ]
    }
   ],
   "source": [
    "import sys, os, math, scipy.signal\n",
    "sys.path.insert(0, os.path.join(os.environ['ATS_SRC_DIR'],'tools','meshing_ats', 'meshing_ats'))\n",
    "import meshing_ats\n",
    "print(meshing_ats.__file__)\n",
    "import numpy as np\n",
    "from matplotlib import pyplot as plt"
   ]
  },
  {
   "cell_type": "markdown",
   "metadata": {},
   "source": [
    "## Generate x and z coordinate of the 2D surface\n",
    "### In this example, we have a uniform slope uphill and parabolic-type topography downhill ( like a valley bottom)"
   ]
  },
  {
   "cell_type": "code",
   "execution_count": 20,
   "metadata": {},
   "outputs": [
    {
     "data": {
      "image/png": "[encoded data removed]",
      "text/plain": [
       "<Figure size 576x288 with 1 Axes>"
      ]
     },
     "metadata": {
      "needs_background": "light"
     },
     "output_type": "display_data"
    }
   ],
   "source": [
    "#%matplotlib qt\n",
    "plt.figure(figsize=(8,4))\n",
    "slope_pc = 3 #  <-------------------- specify slope for the transect (in percentage)\n",
    "slope = [slope_pc/100.]\n",
    "\n",
    "for slope in slope:\n",
    "    X_dn = np.arange(0,101,1)\n",
    "    X_up = np.arange(100,301,1)\n",
    "    z0, z1 = 0, 5 \n",
    "    z2 = 900* slope + z1\n",
    "    z_pt = [z0, z1,z2]\n",
    "    Z_up = z_pt[1] + slope * (X_up - X_up[0])\n",
    "\n",
    "    plt.plot(X_up,Z_up,'r')\n",
    "\n",
    "    Z_dn_pt = [z0,z0,2.5,z1]\n",
    "    X_dn_pt = [X_dn[0], X_dn[20], X_dn[75], X_dn[-1]]\n",
    "    cs1 = scipy.interpolate.CubicSpline(X_dn_pt,Z_dn_pt, bc_type='clamped')\n",
    "    Z_dn = np.round(cs1(X_dn),2)\n",
    "    plt.plot(X_dn,Z_dn,'g')\n",
    "    plt.xlabel('Distance [m]',fontsize=12,fontweight='normal')\n",
    "    plt.ylabel('Elevation [m]',fontsize=12,fontweight='normal')"
   ]
  },
  {
   "cell_type": "code",
   "execution_count": 21,
   "metadata": {},
   "outputs": [],
   "source": []
  },
  {
   "cell_type": "code",
   "execution_count": 24,
   "metadata": {},
   "outputs": [],
   "source": [
    "## Merging uphill and downhill coordinates to get a single vector\n",
    "Z = np.round((np.concatenate((Z_dn, Z_up[1:]))),4)\n",
    "X = np.round((np.concatenate((X_dn, X_up[1:]))),4)\n",
    "\n",
    "Z = [5,5]\n",
    "X = [0, 1]"
   ]
  },
  {
   "cell_type": "code",
   "execution_count": null,
   "metadata": {},
   "outputs": [],
   "source": []
  },
  {
   "cell_type": "code",
   "execution_count": 25,
   "metadata": {},
   "outputs": [
    {
     "data": {
      "image/png": "[encoded data removed]",
      "text/plain": [
       "<Figure size 432x288 with 1 Axes>"
      ]
     },
     "metadata": {
      "needs_background": "light"
     },
     "output_type": "display_data"
    }
   ],
   "source": [
    "# Generate 2D mesh object\n",
    "m2 = meshing_ats.Mesh2D.from_Transect(X,Z)\n",
    "m2.plot()"
   ]
  },
  {
   "cell_type": "code",
   "execution_count": null,
   "metadata": {},
   "outputs": [],
   "source": [
    "# Place for generating spatially variable subsurface structure (soil stratigraphy)"
   ]
  },
  {
   "cell_type": "code",
   "execution_count": 26,
   "metadata": {},
   "outputs": [
    {
     "name": "stdout",
     "output_type": "stream",
     "text": [
      "Moss  0.02\n",
      "Peat  0.19999999999999998\n",
      "Upper mineral 1 0.34\n",
      "Upper mineral 2 0.5000000000000001\n",
      "Ice rich 3.816409519999923\n",
      "41.3555869470643 85\n"
     ]
    }
   ],
   "source": [
    "# This can be done in many ways (depending on your personal style), here I use separate for loops to \n",
    "# generate/characterize soil layers\n",
    "\n",
    "layer_types = [] \n",
    "layer_data = []    # Depth container\n",
    "layer_ncells = []  # Number of cells\n",
    "layer_mat_ids = [] # Layer id\n",
    "bottom_z = -45.0   # depth at which the bottom boundary is specified when the bottom is flat\n",
    "z=0\n",
    "Z = []\n",
    "\n",
    "# Moss [2 cm], Z = 0.02 m\n",
    "for i in range(1):\n",
    "    layer_types.append('constant')\n",
    "    layer_data.append(0.02)       \n",
    "    layer_ncells.append(1) \n",
    "    layer_mat_ids.append(1001)\n",
    "    z = z + 0.02\n",
    "    Z.append(z)\n",
    "print ('Moss ', z)\n",
    "\n",
    "# Peat [18 cm], Z = 0.2 m\n",
    "for i in range(9):\n",
    "    layer_types.append('constant')\n",
    "    layer_data.append(0.02)\n",
    "    layer_ncells.append(1)\n",
    "    layer_mat_ids.append(1002)\n",
    "    z = z + 0.02\n",
    "    Z.append(z)\n",
    "print ('Peat ', z)\n",
    "\n",
    "# Upper mineral [14 cm], Z = 0.34 m\n",
    "for i in range(7): \n",
    "    layer_types.append('constant')\n",
    "    layer_data.append(0.02)\n",
    "    layer_ncells.append(1)\n",
    "    layer_mat_ids.append(1003)\n",
    "    z = z + 0.02\n",
    "    Z.append(z)\n",
    "print ('Upper mineral 1', z)\n",
    "\n",
    "# Upper mineral [16 cm], Z = 0.5 m\n",
    "for i in range(8): \n",
    "    layer_types.append('constant')\n",
    "    layer_data.append(0.02)\n",
    "    layer_ncells.append(1)\n",
    "    layer_mat_ids.append(1004)\n",
    "    z = z + 0.02\n",
    "    Z.append(z)\n",
    "print ('Upper mineral 2', z)\n",
    "\n",
    "dz = .02\n",
    "for i in range(35):\n",
    "    dz *= 1.075\n",
    "    layer_types.append(\"constant\")\n",
    "    layer_data.append(dz)\n",
    "    layer_ncells.append(1)\n",
    "    layer_mat_ids.append(1005)\n",
    "    z = z + dz\n",
    "    Z.append(z)\n",
    "print ('Ice rich', z)\n",
    "\n",
    "for i in range(25):\n",
    "    dz *= 1.12\n",
    "    layer_types.append(\"constant\")\n",
    "    layer_data.append(dz)\n",
    "    layer_ncells.append(1)\n",
    "    layer_mat_ids.append(1005)\n",
    "    z = z + dz\n",
    "    Z.append(z)\n",
    "print (z, len(Z))\n",
    "\n",
    "\n",
    "layer_types.append('snapped')\n",
    "layer_data.append(bottom_z)\n",
    "layer_ncells.append(1)\n",
    "layer_mat_ids.append(1005)\n",
    "\n",
    "m3 = meshing_ats.Mesh3D.extruded_Mesh2D(m2, layer_types, layer_data, layer_ncells, layer_mat_ids)\n",
    "\n"
   ]
  },
  {
   "cell_type": "code",
   "execution_count": 27,
   "metadata": {},
   "outputs": [
    {
     "name": "stdout",
     "output_type": "stream",
     "text": [
      "Opening exodus file: hs_testingC.exo\n",
      "Closing exodus file: hs_testingC.exo\n"
     ]
    }
   ],
   "source": [
    "outfile = \"/Users/ajc/Core/PreProcessing/data/meshes/hillslope/hs_rain_heat\"\n",
    "file=  \"hs_testingC.exo\"\n",
    "m3.write_exodus(file)"
   ]
  },
  {
   "cell_type": "code",
   "execution_count": null,
   "metadata": {},
   "outputs": [],
   "source": [
    "\n",
    "\n",
    "\n"
   ]
  },
  {
   "cell_type": "code",
   "execution_count": null,
   "metadata": {},
   "outputs": [],
   "source": []
  }
 ],
 "metadata": {
  "kernelspec": {
   "display_name": "Python 3",
   "language": "python",
   "name": "python3"
  },
  "language_info": {
   "codemirror_mode": {
    "name": "ipython",
    "version": 3
   },
   "file_extension": ".py",
   "mimetype": "text/x-python",
   "name": "python",
   "nbconvert_exporter": "python",
   "pygments_lexer": "ipython3",
   "version": "3.7.6"
  }
 },
 "nbformat": 4,
 "nbformat_minor": 4
}
