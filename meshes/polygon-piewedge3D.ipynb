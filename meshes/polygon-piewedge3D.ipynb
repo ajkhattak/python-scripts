{
 "cells": [
  {
   "cell_type": "code",
   "execution_count": 1,
   "metadata": {},
   "outputs": [
    {
     "name": "stdout",
     "output_type": "stream",
     "text": [
      "Using matplotlib backend: MacOSX\n"
     ]
    }
   ],
   "source": [
    "%matplotlib"
   ]
  },
  {
   "cell_type": "code",
   "execution_count": 2,
   "metadata": {},
   "outputs": [
    {
     "data": {
      "text/plain": [
       "32.8082236775"
      ]
     },
     "execution_count": 2,
     "metadata": {},
     "output_type": "execute_result"
    }
   ],
   "source": [
    "#Vertical resolution used : \n",
    "0.02\n",
    "0.1\n",
    "0.5\n",
    "1.25010428797\n",
    "8.33294983235\n",
    "32.8082236775"
   ]
  },
  {
   "cell_type": "code",
   "execution_count": 3,
   "metadata": {},
   "outputs": [],
   "source": [
    "import sys, os\n",
    "\n",
    "sys.path.append(os.path.join(os.environ['ATS_SRC_DIR'],'tools','meshing_ats'))\n",
    "import meshing_ats\n",
    "reload(meshing_ats)\n",
    "import numpy as np\n",
    "import pandas as pd\n",
    "from matplotlib import pyplot as plt\n",
    "import scipy.signal"
   ]
  },
  {
   "cell_type": "code",
   "execution_count": 4,
   "metadata": {},
   "outputs": [],
   "source": [
    "xl =pd.ExcelFile('Topo_Profiles_Barrow.xlsx')"
   ]
  },
  {
   "cell_type": "code",
   "execution_count": 5,
   "metadata": {},
   "outputs": [
    {
     "name": "stdout",
     "output_type": "stream",
     "text": [
      "[u'Transect A, Polygon near ERT', u'Transect B, Polygon near ERT', u'Transect Area B', u'Transect A, Area C', u'Transect B, Area C', u'Repeat ERT Transect']\n"
     ]
    }
   ],
   "source": [
    "xl.sheet_names\n",
    "print (xl.sheet_names)\n",
    "#data = xl.parse(sheet_name='Transect B, Polygon near ERT')\n",
    "#data = xl.parse(sheet_name='Transect Area B')\n",
    "data = xl.parse(sheet_name='Transect B, Area C')\n",
    "keys = data.keys()\n",
    "slice_at_right = False"
   ]
  },
  {
   "cell_type": "code",
   "execution_count": 6,
   "metadata": {},
   "outputs": [],
   "source": [
    "plt.plot(data['Distance_m'], data['Z'])\n",
    "plt.ylabel('Elevation')\n",
    "plt.title('Topography, Polygon Area C')\n",
    "plt.show()"
   ]
  },
  {
   "cell_type": "code",
   "execution_count": null,
   "metadata": {},
   "outputs": [],
   "source": []
  },
  {
   "cell_type": "code",
   "execution_count": 7,
   "metadata": {},
   "outputs": [],
   "source": [
    "# smooth the topographic data : September 24\n",
    "length = len(data['Distance_m'])\n",
    "x = []\n",
    "z = []\n",
    "\n",
    "if (slice_at_right):\n",
    "    x = np.array(data['Distance_m'][length/2:])\n",
    "    z = np.array(data['Z'][length/2:])\n",
    "else:\n",
    "    x = np.array(data['Distance_m'][:46])\n",
    "    z = np.array(data['Z'][:46])\n",
    "\n",
    "x1 = [x[0], x[10]]\n",
    "z1 = [z[0], z[10]]\n",
    "x2 = [x[10], x[22], x[-1]]\n",
    "z2 = [z[10], z[22], z[-1]]\n",
    "cs1 = scipy.interpolate.CubicSpline(x1,z1, bc_type='clamped')\n",
    "cs2 = scipy.interpolate.CubicSpline(x2,z2, bc_type='clamped')\n",
    "z_left = np.concatenate((cs1(x[:11]), cs2(x[11:])))\n",
    "#z_smooth = cs1(x)\n",
    "if (slice_at_right):\n",
    "    z = z[::-1]\n",
    "    z_left = z_left[::-1]\n",
    "    x = x[::-1]\n",
    "\n",
    "#print (len(z_smooth), z_smooth[len(z_smooth)-1], min(z_smooth), max(z_smooth))\n",
    "\n",
    "xx = x1 + x2\n",
    "zz = z1 + z2\n",
    "\n",
    "plt.plot(x, z, '.')\n",
    "plt.plot(xx,zz , '*')\n",
    "plt.plot(x, z_left, '-', color = 'g')\n",
    "plt.ylabel('Elevation')\n",
    "plt.title('Mesh, Polygon Area C')\n",
    "plt.show()\n"
   ]
  },
  {
   "cell_type": "code",
   "execution_count": 11,
   "metadata": {},
   "outputs": [
    {
     "name": "stdout",
     "output_type": "stream",
     "text": [
      "5.01\n",
      "[4.81504 4.78504 4.73504 4.68504 4.63504 4.58504 4.53504 4.48504 4.43504\n",
      " 4.33504 4.23504 4.13504 4.03504 3.83504 3.58504 3.33504]\n",
      "4.8772 [0.] 4.83503993225476\n"
     ]
    }
   ],
   "source": []
  },
  {
   "cell_type": "code",
   "execution_count": null,
   "metadata": {},
   "outputs": [],
   "source": []
  },
  {
   "cell_type": "code",
   "execution_count": 8,
   "metadata": {},
   "outputs": [],
   "source": [
    "import math\n",
    "def Distance(x,y):\n",
    "    d = np.zeros(len(x))\n",
    "    for i in range(len(x)):\n",
    "        d[i] = math.hypot(x[-1] - x[i], y[-1] - y[i])\n",
    "    return d"
   ]
  },
  {
   "cell_type": "code",
   "execution_count": 9,
   "metadata": {
    "scrolled": true
   },
   "outputs": [
    {
     "name": "stdout",
     "output_type": "stream",
     "text": [
      "C\n",
      "8 27\n",
      "---------------------------------------------\n"
     ]
    },
    {
     "data": {
      "text/plain": [
       "<matplotlib.legend.Legend at 0x1c1a13ccd0>"
      ]
     },
     "execution_count": 9,
     "metadata": {},
     "output_type": "execute_result"
    }
   ],
   "source": [
    "#Vladimir data\n",
    "site_area = 'C'\n",
    "if site_area == 'C': \n",
    "    print site_area\n",
    "    zv = np.array([5.099, 5.169, 5.321, 4.968])\n",
    "    zv =zv[::-1]\n",
    "    northing = [7910344.103,7910341.163,7910337.608, 7910335.845] #original\n",
    "    easting = [585907.153,585907.605,585908.893,585909.606]\n",
    "    distC = Distance(northing,easting)\n",
    "    distC = distC[::-1]\n",
    "    \n",
    "    #print distC, zv\n",
    "    numx1 = int((distC[1] - distC[0]) / 0.22)\n",
    "    numx2 = int((distC[-1] - distC[1]) / 0.24)\n",
    "    print numx1, numx2\n",
    "    xnew1 = np.linspace(distC[0],distC[1],numx1)\n",
    "    xnew2 = np.linspace(distC[1],distC[-1],numx2)\n",
    "    cs1 = scipy.interpolate.CubicSpline(distC[:2],zv[:2], bc_type='clamped')\n",
    "    cs2 = scipy.interpolate.CubicSpline(distC[1:],zv[1:], bc_type='clamped')\n",
    "\n",
    "plt.plot(xnew1, cs1(xnew1), '.-', color= 'r', label = 'fitted curve')\n",
    "plt.plot(xnew2, cs2(xnew2), '.-', color= 'r')\n",
    "plt.plot(distC, zv, '*', color= 'k', label='measured data')\n",
    "#plt.plot(x, z_left, 'k-')\n",
    "\n",
    "plt.show()\n",
    "\n",
    "\n",
    "xnew = np.concatenate((xnew1,xnew2[1:]))\n",
    "zv = np.concatenate((cs1(xnew1), cs2(xnew2[1:])))\n",
    "z_right = np.array(zv)\n",
    "print ('---------------------------------------------')\n",
    "\n",
    "assert len(zv) == len(xnew)\n",
    "\n",
    "#print xnew1\n",
    "#print xnew2\n",
    "#print len(xnew)\n",
    "#\n",
    "plt.xlabel('Distance [m]')\n",
    "plt.ylabel('Elevation [m]')\n",
    "plt.title('Polygon Area B')\n",
    "plt.legend()\n"
   ]
  },
  {
   "cell_type": "code",
   "execution_count": 28,
   "metadata": {},
   "outputs": [
    {
     "name": "stdout",
     "output_type": "stream",
     "text": [
      "4.920000076290001\n",
      "4.968 5.099\n",
      "[5.00899985 5.01403986 5.02771988 5.04787991 5.07235995 5.099\n",
      " 5.12564005 5.15012009 5.17028012 5.18396014 5.18900015 5.18839842\n",
      " 5.18668576 5.184001   5.18048298 5.1762705  5.17150241 5.16631752\n",
      " 5.16085465 5.15525264 5.1496503  5.14418647 5.13899996 5.13420359\n",
      " 5.12980609 5.12579019 5.12213861 5.11883407 5.1158593  5.11319701\n",
      " 5.11082993 5.10874078 5.10691229 5.10532717 5.10396815 5.10281795\n",
      " 5.10185929 5.1010749  5.10044749 5.0999598  5.09959454 5.09933443\n",
      " 5.0991622  5.09906057 5.09901226 5.099      5.09956802 5.10126227\n",
      " 5.10406799 5.10797044 5.1129549  5.11900661 5.12611083 5.13425283\n",
      " 5.14341786 5.15359118 5.16475806 5.17689361 5.18984373 5.20336517\n",
      " 5.21721292 5.23114196 5.24490728 5.25826386 5.27096668 5.28277073\n",
      " 5.293431   5.30270246 5.31034011 5.31609893 5.3197339  5.321\n",
      " 5.30144606 5.25101749 5.18206414 5.10693586 5.03798251 4.98755394\n",
      " 4.968     ] 46 34 79\n",
      "10.7335106265 20.9994454827741\n",
      "39 79 0.1789999237099993\n"
     ]
    }
   ],
   "source": [
    "print z_left[-1]\n",
    "print z_right[0],z_right[-1]\n",
    "d = z_right[-1] - z_left[-1]\n",
    "#z_left = z_left + d\n",
    "#print x\n",
    "#print xnew\n",
    "X = []\n",
    "for i in xnew[1:]:\n",
    "        #print i\n",
    "        X.append(x[-1] + i)\n",
    "\n",
    "#print X\n",
    "X = np.array(X)\n",
    "X = np.concatenate((x,X))\n",
    "Z = np.concatenate((z_left[:-1] ,z_right[::-1]))\n",
    "Z1 = np.concatenate((z_left[:-1] +d,z_right[::-1]))\n",
    "print Z1, len(z_left), len(z_right), len(Z1)\n",
    "assert len(Z) == len(X)\n",
    "plt.plot(X,Z, '.')\n",
    "plt.plot(X,Z1, '*-',color='r')\n",
    "plt.plot(X[int(79/2)], Z1[int(79/2)],'^', color='g')\n",
    "assert len(Z)%2 == 1\n",
    "radius_pos = int(79/2)\n",
    "#radius_pos = int(len(Z)/2)\n",
    "print X[int(79/2)], X[-1]\n",
    "print radius_pos, len(Z), d"
   ]
  },
  {
   "cell_type": "code",
   "execution_count": null,
   "metadata": {},
   "outputs": [],
   "source": []
  },
  {
   "cell_type": "code",
   "execution_count": 27,
   "metadata": {},
   "outputs": [
    {
     "name": "stdout",
     "output_type": "stream",
     "text": [
      "5.189\n",
      "[5.07996 5.04996 4.99996 4.94996 4.89996 4.84996 4.79996 4.74996 4.69996\n",
      " 4.59996 4.49996 4.39996 4.29996 4.09996 3.84996 3.59996]\n",
      "0 79\n"
     ]
    }
   ],
   "source": [
    "#trough\n",
    "observe = 'center'\n",
    "xloc = 0\n",
    "zv = Z1\n",
    "z_smooth = Z1\n",
    "mid_pt = (zv[0] + zv[1])/2.\n",
    "\n",
    "depths_t = [0.02, 0.05, 0.1, 0.15, 0.2, 0.25, 0.30, 0.35, 0.4, 0.5, 0.6,0.7,0.8, 1.0, 1.25, 1.50]\n",
    "depths_r = [0.02, 0.05, 0.1, 0.15, 0.2, 0.25, 0.30, 0.35, 0.4, 0.5, 0.6,0.7,0.8, 1.0, 1.25, 1.50]\n",
    "depths_c = [0.02, 0.05, 0.1, 0.15, 0.2, 0.25, 0.30, 00.35, 0.4, 0.5, 0.6,0.7,0.8, 1.0, 1.25, 1.50]\n",
    "if observe == 'trough':\n",
    "    z_location = [zv[-1] - v for v in depths_t] #taking z at zv[1] to make sure the observed point lie within above cell\n",
    "    xloc = np.where(zv == zv[0])\n",
    "    xloc = x[xloc]\n",
    "elif observe == 'rim':\n",
    "    z_location = [max(zv) - v for v in depths_r]\n",
    "    xloc = np.where(zv == max(zv))\n",
    "elif observe == 'center':\n",
    "    z_location = [zv[radius_pos] - v for v in depths_c]\n",
    "print round(z_smooth[10],5)\n",
    "print np.round(z_location,5)\n",
    "print  xloc, len(zv)\n"
   ]
  },
  {
   "cell_type": "code",
   "execution_count": null,
   "metadata": {},
   "outputs": [],
   "source": []
  },
  {
   "cell_type": "code",
   "execution_count": 15,
   "metadata": {
    "scrolled": true
   },
   "outputs": [
    {
     "name": "stdout",
     "output_type": "stream",
     "text": [
      "-0.4658308147248193 -0.4870477038868227\n",
      "[ 0.          0.27521822  0.55043644  0.82565466  1.10087288  1.37609111\n",
      "  1.65130933  1.92652755  2.20174577  2.47696399  2.75218221  3.02740043\n",
      "  3.30261865  3.57783688  3.8530551   4.12827332  4.40349154  4.67870976\n",
      "  4.95392798  5.2291462   5.50436442  5.77958265  6.05480087  6.33001909\n",
      "  6.60523731  6.88045553  7.15567375  7.43089197  7.70611019  7.98132841\n",
      "  8.25654664  8.53176486  8.80698308  9.0822013   9.35741952  9.63263774\n",
      "  9.90785596 10.18307418 10.45829241 10.73351063] [ 0.          0.27521822  0.55043644  0.82565466  1.10087288  1.37609111\n",
      "  1.65130933  1.92652755  2.20174577  2.47696399  2.75218221  3.02740043\n",
      "  3.30261865  3.57783688  3.8530551   4.12827332  4.40349154  4.67870976\n",
      "  4.95392798  5.2291462   5.50436442  5.77958265  6.05480087  6.33001909\n",
      "  6.60523731  6.88045553  7.15567375  7.43089197  7.70611019  7.98132841\n",
      "  8.25654664  8.53176486  8.80698308  9.0822013   9.35741952  9.63263774\n",
      "  9.90785596 10.18307418 10.45829241] [10.7335106265, 10.7335106265, 10.7335106265, 10.7335106265, 10.7335106265, 10.7335106265, 10.7335106265, 10.7335106265, 10.7335106265, 10.7335106265, 10.7335106265, 10.7335106265, 10.7335106265, 10.7335106265, 10.7335106265, 10.7335106265, 10.7335106265, 10.7335106265, 10.7335106265, 10.7335106265, 10.7335106265, 10.7335106265, 10.7335106265, 10.7335106265, 10.7335106265, 10.7335106265, 10.7335106265, 10.7335106265, 10.7335106265, 10.7335106265, 10.7335106265, 10.7335106265, 10.7335106265, 10.7335106265, 10.7335106265, 10.7335106265, 10.7335106265, 10.7335106265, 10.7335106265]\n",
      "--------------------- 3:\n",
      "z1  [5.00899985 5.01403986 5.02771988 5.04787991 5.07235995 5.099\n",
      " 5.12564005 5.15012009 5.17028012 5.18396014 5.18900015 5.18839842\n",
      " 5.18668576 5.184001   5.18048298 5.1762705  5.17150241 5.16631752\n",
      " 5.16085465 5.15525264 5.1496503  5.14418647 5.13899996 5.13420359\n",
      " 5.12980609 5.12579019 5.12213861 5.11883407 5.1158593  5.11319701\n",
      " 5.11082993 5.10874078 5.10691229 5.10532717 5.10396815 5.10281795\n",
      " 5.10185929 5.1010749  5.10044749 5.0999598 ] 40\n",
      "z2  [5.00899985 5.01403986 5.02771988 5.04787991 5.07235995 5.099\n",
      " 5.12564005 5.15012009 5.17028012 5.18396014 5.18900015 5.18839842\n",
      " 5.18668576 5.184001   5.18048298 5.1762705  5.17150241 5.16631752\n",
      " 5.16085465 5.15525264 5.1496503  5.14418647 5.13899996 5.13420359\n",
      " 5.12980609 5.12579019 5.12213861 5.11883407 5.1158593  5.11319701\n",
      " 5.11082993 5.10874078 5.10691229 5.10532717 5.10396815 5.10281795\n",
      " 5.10185929 5.1010749  5.10044749] 39\n",
      "z3  [4.98849992371, 5.0007968959124085, 5.032851193223124, 5.077407886697473, 5.127212047390671, 5.175008746357939, 5.213543054655145, 5.235560043336598, 5.24500700857083, 5.250029536448436, 5.249670132908568, 5.245550440844468, 5.240058379335876, 5.233385868601097, 5.225724828858371, 5.217267180326133, 5.208204843222636, 5.198729737766186, 5.189033784174992, 5.17930890266756, 5.169747013462101, 5.160540036776924, 5.1518790089745945, 5.14389738677982, 5.136611977248389, 5.13002151203011, 5.124124722774724, 5.118920341132164, 5.114407098752169, 5.11058372728454, 5.107448958379044, 5.10500152368557, 5.103240154853875, 5.102163583533766, 5.101490204465003, 5.100939257954219, 5.100510744001387, 5.100204662606533, 5.100021013769592] 39\n",
      "z4  [4.968      4.98755394 5.03798251 5.10693586 5.18206414 5.25101749\n",
      " 5.30144606 5.321      5.3197339  5.31609893 5.31034011 5.30270246\n",
      " 5.293431   5.28277073 5.27096668 5.25826386 5.24490728 5.23114196\n",
      " 5.21721292 5.20336517 5.18984373 5.17689361 5.16475806 5.15359118\n",
      " 5.14341786 5.13425283 5.12611083 5.11900661 5.1129549  5.10797044\n",
      " 5.10406799 5.10126227 5.09956802 5.099      5.09901226 5.09906057\n",
      " 5.0991622  5.09933443 5.09959454] 39\n",
      "Lengths:  40 39 39\n",
      "Lengths:  40 39 39\n",
      "------------------- 3:\n",
      "[5.00899985 5.01403986 5.02771988 5.04787991 5.07235995 5.099\n",
      " 5.12564005 5.15012009 5.17028012 5.18396014 5.18900015 5.18839842\n",
      " 5.18668576 5.184001   5.18048298 5.1762705  5.17150241 5.16631752\n",
      " 5.16085465 5.15525264 5.1496503  5.14418647 5.13899996 5.13420359\n",
      " 5.12980609 5.12579019 5.12213861 5.11883407 5.1158593  5.11319701\n",
      " 5.11082993 5.10874078 5.10691229 5.10532717 5.10396815 5.10281795\n",
      " 5.10185929 5.1010749  5.10044749 5.0999598  5.00899985 5.01403986\n",
      " 5.02771988 5.04787991 5.07235995 5.099      5.12564005 5.15012009\n",
      " 5.17028012 5.18396014 5.18900015 5.18839842 5.18668576 5.184001\n",
      " 5.18048298 5.1762705  5.17150241 5.16631752 5.16085465 5.15525264\n",
      " 5.1496503  5.14418647 5.13899996 5.13420359 5.12980609 5.12579019\n",
      " 5.12213861 5.11883407 5.1158593  5.11319701 5.11082993 5.10874078\n",
      " 5.10691229 5.10532717 5.10396815 5.10281795 5.10185929 5.1010749\n",
      " 5.10044749 4.98849992 5.0007969  5.03285119 5.07740789 5.12721205\n",
      " 5.17500875 5.21354305 5.23556004 5.24500701 5.25002954 5.24967013\n",
      " 5.24555044 5.24005838 5.23338587 5.22572483 5.21726718 5.20820484\n",
      " 5.19872974 5.18903378 5.1793089  5.16974701 5.16054004 5.15187901\n",
      " 5.14389739 5.13661198 5.13002151 5.12412472 5.11892034 5.1144071\n",
      " 5.11058373 5.10744896 5.10500152 5.10324015 5.10216358 5.1014902\n",
      " 5.10093926 5.10051074 5.10020466 5.10002101 4.968      4.98755394\n",
      " 5.03798251 5.10693586 5.18206414 5.25101749 5.30144606 5.321\n",
      " 5.3197339  5.31609893 5.31034011 5.30270246 5.293431   5.28277073\n",
      " 5.27096668 5.25826386 5.24490728 5.23114196 5.21721292 5.20336517\n",
      " 5.18984373 5.17689361 5.16475806 5.15359118 5.14341786 5.13425283\n",
      " 5.12611083 5.11900661 5.1129549  5.10797044 5.10406799 5.10126227\n",
      " 5.09956802 5.099      5.09901226 5.09906057 5.0991622  5.09933443\n",
      " 5.09959454 4.968      4.98755394 5.03798251 5.10693586 5.18206414\n",
      " 5.25101749 5.30144606 5.321      5.3197339  5.31609893 5.31034011\n",
      " 5.30270246 5.293431   5.28277073 5.27096668 5.25826386 5.24490728\n",
      " 5.23114196 5.21721292 5.20336517 5.18984373 5.17689361 5.16475806\n",
      " 5.15359118 5.14341786 5.13425283 5.12611083 5.11900661 5.1129549\n",
      " 5.10797044 5.10406799 5.10126227 5.09956802 5.099      5.09901226\n",
      " 5.09906057 5.0991622  5.09933443 5.09959454 4.98849992 5.0007969\n",
      " 5.03285119 5.07740789 5.12721205 5.17500875 5.21354305 5.23556004\n",
      " 5.24500701 5.25002954 5.24967013 5.24555044 5.24005838 5.23338587\n",
      " 5.22572483 5.21726718 5.20820484 5.19872974 5.18903378 5.1793089\n",
      " 5.16974701 5.16054004 5.15187901 5.14389739 5.13661198 5.13002151\n",
      " 5.12412472 5.11892034 5.1144071  5.11058373 5.10744896 5.10500152\n",
      " 5.10324015 5.10216358 5.1014902  5.10093926 5.10051074 5.10020466\n",
      " 5.10002101]\n",
      "0\n",
      "1\n",
      "2\n",
      "3\n",
      "4\n",
      "5\n",
      "(235, 3) 2\n"
     ]
    }
   ],
   "source": [
    "reload(meshing_ats)\n",
    "\n",
    "#m2 = meshing_ats.Mesh2D.from_Transect_Make3DPie1(X,Z1, radius_pos, curved=False)\n",
    "m2 = meshing_ats.Mesh2D.from_Transect_Make3DUp(X,Z1)\n",
    "m2.plot()\n"
   ]
  },
  {
   "cell_type": "code",
   "execution_count": null,
   "metadata": {},
   "outputs": [],
   "source": []
  },
  {
   "cell_type": "code",
   "execution_count": 16,
   "metadata": {},
   "outputs": [
    {
     "name": "stdout",
     "output_type": "stream",
     "text": [
      "('Moss ', 0.02)\n",
      "('Peat ', 0.1)\n",
      "('Upper mineral ', 0.4000000000000001)\n",
      "('Ice rich', 3.716409519999923)\n",
      "41.2555869471\n",
      "\n",
      "You are using exodus.py v 1.05 (beta-cmake), a python wrapper of some of the exodus II library.\n",
      "\n",
      "Copyright (c) 2013, 2014, 2015, 2016, 2017 National Technology &\n",
      "Engineering Solutions of Sandia, LLC (NTESS).  Under the terms of\n",
      "Contract DE-NA0003525 with NTESS, the U.S. Government retains certain\n",
      "rights in this software.  \n",
      "\n",
      "Opening exodus file: /Users/ajc/Desktop/ATS/meshes/barrow-pie-wedges/areaC-3layers-3D-om10cm.exo\n",
      "Closing exodus file: /Users/ajc/Desktop/ATS/meshes/barrow-pie-wedges/areaC-3layers-3D-om10cm.exo\n"
     ]
    }
   ],
   "source": [
    "outfile = \"/Users/ajc/Desktop/ATS/meshes/barrow-pie-wedges/\"\n",
    "layer_types = []\n",
    "layer_data = []\n",
    "layer_ncells = []\n",
    "layer_mat_ids = []\n",
    "\n",
    "z=0\n",
    "Z = []\n",
    "\n",
    "for i in range(1):\n",
    "    layer_types.append('constant')\n",
    "    layer_data.append(0.02)\n",
    "    layer_ncells.append(1)\n",
    "    layer_mat_ids.append(1001)\n",
    "    z = z + 0.02\n",
    "    Z.append(z)\n",
    "print ('Moss ', z)\n",
    "\n",
    "for i in range(4):\n",
    "    layer_types.append('constant')\n",
    "    layer_data.append(0.02)\n",
    "    layer_ncells.append(1)\n",
    "    layer_mat_ids.append(1002)\n",
    "    z = z + 0.02\n",
    "    Z.append(z)\n",
    "print ('Peat ', z)\n",
    "\n",
    "for i in range(15): \n",
    "    layer_types.append('constant')\n",
    "    layer_data.append(0.02)\n",
    "    layer_ncells.append(1)\n",
    "    layer_mat_ids.append(1003)\n",
    "    z = z + 0.02\n",
    "    Z.append(z)\n",
    "print ('Upper mineral ', z)\n",
    "\n",
    "dz = .02\n",
    "for i in range(35):\n",
    "    dz *= 1.075\n",
    "    layer_types.append(\"constant\")\n",
    "    layer_data.append(dz)\n",
    "    layer_ncells.append(1)\n",
    "    layer_mat_ids.append(1003)\n",
    "    z = z + dz\n",
    "    Z.append(z)\n",
    "print ('Ice rich', z)\n",
    "\n",
    "for i in range(25):\n",
    "    dz *= 1.12\n",
    "    layer_types.append(\"constant\")\n",
    "    layer_data.append(dz)\n",
    "    layer_ncells.append(1)\n",
    "    layer_mat_ids.append(1003)\n",
    "    z = z + dz\n",
    "    Z.append(z)\n",
    "print (z)\n",
    "\n",
    "\n",
    "layer_types.append('snapped')\n",
    "layer_data.append(-45.0) # bottom location\n",
    "layer_ncells.append(1)\n",
    "layer_mat_ids.append(1003)\n",
    "\n",
    "m3 = meshing_ats.Mesh3D.extruded_Mesh2D(m2, layer_types, \n",
    "                                        layer_data, \n",
    "                                        layer_ncells, \n",
    "                                        layer_mat_ids)\n",
    "\n",
    "\n",
    "#m3.write_exodus(outfile + \"areaC-updist-vladimir-om10cm.exo\")\n",
    "m3.write_exodus(outfile + \"areaC-3layers-3D-om10cm.exo\")"
   ]
  },
  {
   "cell_type": "code",
   "execution_count": null,
   "metadata": {},
   "outputs": [],
   "source": []
  },
  {
   "cell_type": "code",
   "execution_count": null,
   "metadata": {},
   "outputs": [],
   "source": [
    "0.02\n",
    "0.1\n",
    "0.5\n",
    "1.25010428797\n",
    "8.33294983235\n",
    "32.8082236775"
   ]
  },
  {
   "cell_type": "code",
   "execution_count": null,
   "metadata": {},
   "outputs": [],
   "source": []
  }
 ],
 "metadata": {
  "kernelspec": {
   "display_name": "Python 2",
   "language": "python",
   "name": "python2"
  },
  "language_info": {
   "codemirror_mode": {
    "name": "ipython",
    "version": 3
   },
   "file_extension": ".py",
   "mimetype": "text/x-python",
   "name": "python",
   "nbconvert_exporter": "python",
   "pygments_lexer": "ipython3",
   "version": "3.7.3"
  }
 },
 "nbformat": 4,
 "nbformat_minor": 2
}
