{
 "cells": [
  {
   "cell_type": "code",
   "execution_count": 1,
   "metadata": {},
   "outputs": [],
   "source": [
    "#Script used for pie-wedge mesh, Feb 03,2020"
   ]
  },
  {
   "cell_type": "code",
   "execution_count": null,
   "metadata": {},
   "outputs": [],
   "source": []
  },
  {
   "cell_type": "code",
   "execution_count": 2,
   "metadata": {},
   "outputs": [],
   "source": [
    "import sys, os\n",
    "\n",
    "sys.path.append('/Users/ajc/codes/simulator/debug/ats-mesh/tools/meshing_ats/meshing_ats')\n",
    "import meshing_ats\n",
    "\n",
    "import numpy as np\n",
    "import pandas as pd\n",
    "from matplotlib import pyplot as plt\n",
    "import scipy.signal\n",
    "import importlib"
   ]
  },
  {
   "cell_type": "code",
   "execution_count": 3,
   "metadata": {},
   "outputs": [
    {
     "name": "stdout",
     "output_type": "stream",
     "text": [
      "/Users/ajc/codes/simulator/debug/ats-mesh/tools/meshing_ats/meshing_ats/meshing_ats.py\n"
     ]
    }
   ],
   "source": [
    "print(meshing_ats.__file__)"
   ]
  },
  {
   "cell_type": "code",
   "execution_count": 4,
   "metadata": {},
   "outputs": [],
   "source": [
    "import math\n",
    "def Distance(x,y):\n",
    "    d = np.zeros(len(x))\n",
    "    for i in range(len(x)):\n",
    "        d[i] = math.hypot(x[-1] - x[i], y[-1] - y[i])\n",
    "    return d"
   ]
  },
  {
   "cell_type": "code",
   "execution_count": 57,
   "metadata": {
    "scrolled": true
   },
   "outputs": [
    {
     "name": "stdout",
     "output_type": "stream",
     "text": [
      "C\n",
      "[0.         1.90171975 5.68200009 8.61462553] [4.968 5.521 5.169 5.099]\n",
      "11 29\n",
      "left 0.1901719748262033 11\n",
      "right 0.23974663502900206 29\n"
     ]
    },
    {
     "data": {
      "image/png": "[encoded data removed]",
      "text/plain": [
       "<Figure size 432x288 with 1 Axes>"
      ]
     },
     "metadata": {
      "needs_background": "light"
     },
     "output_type": "display_data"
    },
    {
     "name": "stdout",
     "output_type": "stream",
     "text": [
      "---------------------------------------------\n",
      "center 5.521 4.521\n",
      "(array([10]),) 2.75218221193 46\n"
     ]
    }
   ],
   "source": [
    "#Vladimir data\n",
    "site_area = 'C'\n",
    "case = 3\n",
    "if site_area == 'C': \n",
    "    print (site_area)\n",
    "    if case == 1:\n",
    "        zv = np.array([5.099, 5.169, 5.321, 4.968])\n",
    "    elif case == 2:\n",
    "        zv = np.array([5.099, 5.169, 5.421, 4.968])\n",
    "    elif case == 3:\n",
    "        zv = np.array([5.099, 5.169, 5.521, 4.968])\n",
    "    elif case == 4:\n",
    "        zv = np.array([5.099, 5.169, 5.221, 4.968])\n",
    "    else:\n",
    "        print ('Cases should be: 1,2, 3, 4. Specified is',case)\n",
    "        \n",
    "    zv =zv[::-1]\n",
    "    northing = [7910344.103,7910341.163,7910337.608, 7910335.845] #original\n",
    "    easting = [585907.153,585907.605,585908.893,585909.606]\n",
    "    distC = Distance(northing,easting)\n",
    "    distC = distC[::-1]\n",
    "    print (distC, zv)\n",
    "    numx1 = int((distC[1] - distC[0]) / 0.17)\n",
    "    numx2 = int((distC[-1] - distC[1]) / 0.23)\n",
    "    print (numx1, numx2)\n",
    "    xnew1 = np.linspace(distC[0],distC[1],numx1)\n",
    "    xnew2 = np.linspace(distC[1],distC[-1],numx2)\n",
    "    cs1 = scipy.interpolate.CubicSpline(distC[:2],zv[:2], bc_type='clamped')\n",
    "    cs2 = scipy.interpolate.CubicSpline(distC[1:],zv[1:], bc_type='clamped')\n",
    "    \n",
    "print ('left', xnew1[1] - xnew1[0], numx1)\n",
    "print ('right', xnew2[-1] - xnew2[-2], numx2)\n",
    "    \n",
    "plt.plot(xnew1, cs1(xnew1), '.-', color= 'r', label = 'fitted curve')\n",
    "plt.plot(xnew2, cs2(xnew2), '.-', color= 'r')\n",
    "plt.plot(distC, zv, '*', color= 'k', label='measured data')\n",
    "\n",
    "plt.show()\n",
    "\n",
    "if 'D' in site_area:\n",
    "    xnew = xnew1\n",
    "    zv = cs1(xnew1)\n",
    "else:\n",
    "    xnew = np.concatenate((xnew1,xnew2[1:]))\n",
    "    zv = np.concatenate((cs1(xnew1), cs2(xnew2[1:])))\n",
    " \n",
    "print ('---------------------------------------------')\n",
    "\n",
    "assert len(zv) == len(xnew)\n",
    "\n",
    "\n",
    "\n",
    "    \n",
    "zv = np.round(zv, 5)\n",
    "xnew = np.round(xnew,5)\n",
    "print (observe,  max(zv),  max(zv)-1.0)\n",
    "print (np.where(zv == max(zv)), x[10],len(x))\n",
    "\n",
    "z_smooth = zv\n",
    "x = xnew"
   ]
  },
  {
   "cell_type": "code",
   "execution_count": null,
   "metadata": {},
   "outputs": [],
   "source": []
  },
  {
   "cell_type": "code",
   "execution_count": null,
   "metadata": {},
   "outputs": [],
   "source": []
  },
  {
   "cell_type": "code",
   "execution_count": 58,
   "metadata": {},
   "outputs": [
    {
     "name": "stdout",
     "output_type": "stream",
     "text": [
      "['Transect A, Polygon near ERT', 'Transect B, Polygon near ERT', 'Transect Area B', 'Transect A, Area C', 'Transect B, Area C', 'Repeat ERT Transect']\n"
     ]
    }
   ],
   "source": [
    "xl =pd.ExcelFile('Topo_Profiles_Barrow.xlsx')\n",
    "xl.sheet_names\n",
    "print (xl.sheet_names)\n",
    "data = xl.parse(sheet_name='Transect B, Area C')\n",
    "keys = data.keys()"
   ]
  },
  {
   "cell_type": "code",
   "execution_count": 59,
   "metadata": {},
   "outputs": [
    {
     "name": "stdout",
     "output_type": "stream",
     "text": [
      "N3\n"
     ]
    },
    {
     "data": {
      "text/plain": [
       "<matplotlib.legend.Legend at 0x1c20c68940>"
      ]
     },
     "execution_count": 59,
     "metadata": {},
     "output_type": "execute_result"
    },
    {
     "data": {
      "image/png": "[encoded data removed]",
      "text/plain": [
       "<Figure size 432x288 with 1 Axes>"
      ]
     },
     "metadata": {
      "needs_background": "light"
     },
     "output_type": "display_data"
    }
   ],
   "source": [
    "# smooth the topographic data : February 13 and trough cell inward oriented\n",
    "length = len(data['Distance_m'])\n",
    "x = []\n",
    "z = []\n",
    "\n",
    "x = np.array(data['Distance_m'][:46])\n",
    "z = np.array(data['Z'][:46])\n",
    "\n",
    "z = [z1 - 0.1127955 for z1 in z]\n",
    "N3 = True\n",
    "if (N3):\n",
    "    print ('N3')\n",
    "    rim = 4.9\n",
    "    x1 = [x[0], x[10]]\n",
    "    z1 = [4.71, rim]\n",
    "    x2 = [x[10], x[20], x[-1]]\n",
    "    z2 = [rim, rim-0.02, 4.78]\n",
    "    cs1 = scipy.interpolate.CubicSpline(x1,z1, bc_type='clamped')\n",
    "    cs2 = scipy.interpolate.CubicSpline(x2,z2, bc_type='clamped')\n",
    "    \n",
    "z_smooth = np.concatenate((cs1(x[:11]), cs2(x[11:])))\n",
    "\n",
    "z_smooth = np.array([round(s,4) for s in z_smooth])\n",
    "\n",
    "plt.plot(x, z_smooth, '.-', color = 'k',label = 'fitted curve')\n",
    "plt.plot(x1,z1,'*', color='r')\n",
    "plt.plot(x2,z2,'*', color='r',label='measured data')\n",
    "\n",
    "#print np.array(x), x1, x2\n",
    "#print z, z1,z2\n",
    "plt.ylabel('Elevation [m]', fontsize=12,fontweight='normal')\n",
    "plt.xlabel('Distance [m]',fontsize=12,fontweight='normal')\n",
    "plt.tick_params(axis='both', which='major', labelsize=13)\n",
    "#plt.title('Mesh, Polygon Area C (Mesh-N3)')\n",
    "plt.xlim(-0.1,12.5)\n",
    "plt.ylim(4.7,4.91)\n",
    "plt.yticks(np.linspace(4.7,4.91,4))\n",
    "\n",
    "plt.legend(fontsize=12)\n"
   ]
  },
  {
   "cell_type": "code",
   "execution_count": null,
   "metadata": {},
   "outputs": [],
   "source": []
  },
  {
   "cell_type": "code",
   "execution_count": 60,
   "metadata": {},
   "outputs": [
    {
     "name": "stdout",
     "output_type": "stream",
     "text": [
      "[ 0.          0.27521822  0.55043644  0.82565466  1.10087288  1.37609111\n",
      "  1.65130933  1.92652755  2.20174577  2.47696399  2.75218221  3.02740043\n",
      "  3.30261865  3.57783688  3.8530551   4.12827332  4.40349154  4.67870976\n",
      "  4.95392798  5.2291462   5.50436442  5.77958265  6.05480087  6.33001909\n",
      "  6.60523731  6.88045553  7.15567375  7.43089197  7.70611019  7.98132841\n",
      "  8.25654664  8.53176486  8.80698308  9.0822013   9.35741952  9.63263774\n",
      "  9.90785596 10.18307418 10.45829241 10.73351063 11.00872885 11.28394707\n",
      " 11.55916529 11.83438351 12.10960173 12.38481995] [4.71   4.7153 4.7298 4.751  4.7769 4.805  4.8331 4.859  4.8802 4.8947\n",
      " 4.9    4.8998 4.8992 4.8981 4.8967 4.8948 4.8926 4.89   4.887  4.8837\n",
      " 4.88   4.876  4.8717 4.8671 4.8623 4.8573 4.8521 4.8469 4.8416 4.8362\n",
      " 4.8309 4.8257 4.8205 4.8154 4.8106 4.8059 4.8016 4.7975 4.7937 4.7903\n",
      " 4.7873 4.7848 4.7828 4.7812 4.7803 4.78  ]\n",
      "46 46\n",
      "Seepage face high at the center  0.1900000000000004\n"
     ]
    }
   ],
   "source": [
    "print (x, z_smooth)\n",
    "print (len(x), len(z_smooth))\n",
    "print ('Seepage face high at the center ', max(z_smooth - z_smooth[0]))"
   ]
  },
  {
   "cell_type": "code",
   "execution_count": null,
   "metadata": {},
   "outputs": [],
   "source": []
  },
  {
   "cell_type": "code",
   "execution_count": 61,
   "metadata": {},
   "outputs": [
    {
     "name": "stdout",
     "output_type": "stream",
     "text": [
      "C 10\n"
     ]
    },
    {
     "data": {
      "image/png": "[encoded data removed]",
      "text/plain": [
       "<Figure size 432x288 with 1 Axes>"
      ]
     },
     "metadata": {
      "needs_background": "light"
     },
     "output_type": "display_data"
    }
   ],
   "source": [
    "importlib.reload(meshing_ats)\n",
    "\n",
    "if site_area == 'A':\n",
    "    arclen = 16\n",
    "elif site_area == 'B':\n",
    "    arclen = 6\n",
    "elif site_area == 'C':\n",
    "    arclen = 10\n",
    "elif site_area == 'D':\n",
    "    arclen = 10\n",
    "m2 = meshing_ats.Mesh2D.from_Transect_MakePieWedge(x,z_smooth, arclen, curved=False)\n",
    "\n",
    "print (site_area, arclen)\n",
    "m2.plot()"
   ]
  },
  {
   "cell_type": "code",
   "execution_count": null,
   "metadata": {},
   "outputs": [],
   "source": [
    "\n"
   ]
  },
  {
   "cell_type": "code",
   "execution_count": 62,
   "metadata": {},
   "outputs": [
    {
     "name": "stdout",
     "output_type": "stream",
     "text": [
      "4.71 4.21 1.40296789\n",
      "[1.40296789 1.87080658 2.33864526 2.80648395 3.27432263 3.74216132\n",
      " 4.21      ]\n"
     ]
    },
    {
     "data": {
      "image/png": "[encoded data removed]",
      "text/plain": [
       "<Figure size 432x288 with 1 Axes>"
      ]
     },
     "metadata": {
      "needs_background": "light"
     },
     "output_type": "display_data"
    }
   ],
   "source": [
    "x0,x1 = x[0], x[6]\n",
    "z_upper = z_smooth[0] - 0.5\n",
    "z_lower = 1.40296789\n",
    "print (z_smooth[0], z_upper, z_lower)\n",
    "\n",
    "P = (x1,z_upper)\n",
    "Q = (x0, z_lower)\n",
    "\n",
    "P =(x[6],0)\n",
    "xx = np.linspace(0,x[6],7)\n",
    "Q = (z_upper,z_lower)\n",
    "\n",
    "slope = (z_upper-z_lower)/(x[6]-0)\n",
    "y = z_upper + slope*(xx-x[6])\n",
    "#print (m)\n",
    "plt.plot(xx,y,'.')\n",
    "print (y)#,x[6],x)"
   ]
  },
  {
   "cell_type": "code",
   "execution_count": null,
   "metadata": {},
   "outputs": [],
   "source": [
    "\n"
   ]
  },
  {
   "cell_type": "code",
   "execution_count": 47,
   "metadata": {},
   "outputs": [
    {
     "name": "stdout",
     "output_type": "stream",
     "text": [
      "LL:  59\n",
      "(38, 34)\n",
      "8 [-2000. -2000.  1010.  1010.  1010.  1010.  1010.  1010.  1010.  1010.\n",
      "  1010.  1010.  1010.  1010.  1010. -2000. -2000. -2000. -2000. -2000.\n",
      " -2000. -2000. -2000. -2000. -2000. -2000. -2000. -2000. -2000. -2000.\n",
      " -2000. -2000. -2000. -2000.] 34\n",
      "---------------\n",
      "4.968 0.02\n",
      "4.948 0.02\n",
      "4.928 0.02\n",
      "4.908 0.02\n",
      "4.888 0.02\n",
      "4.868 0.02\n",
      "4.848 0.02\n",
      "4.828 0.02\n",
      "4.808 0.02\n",
      "4.788 0.02\n",
      "4.768 0.02\n",
      "4.748 0.02\n",
      "4.728 0.02\n",
      "4.708 0.02\n",
      "4.688 0.02\n",
      "4.668 0.02\n",
      "4.648 0.02\n",
      "4.628 0.02\n",
      "4.608 0.02\n",
      "4.588 0.02\n",
      "4.568 0.02\n",
      "4.548 0.02\n",
      "4.528 0.02\n",
      "4.508 0.02\n",
      "4.4879999999999995 0.02\n",
      "4.4665 0.0215\n",
      "4.443387499999999 0.023112499999999998\n",
      "4.4185415625 0.024845937499999995\n",
      "4.3918321796874995 0.026709382812499995\n",
      "4.363119593164062 0.028712586523437493\n",
      "4.332253562651367 0.030866030512695302\n",
      "4.299072579850219 0.03318098280114745\n",
      "4.263403023338986 0.03566955651123351\n",
      "4.225058250089409 0.038344773249576025\n",
      "4.183837618846115 0.041220631243294226\n",
      "4.1395254402595745 0.04431217858654129\n",
      "4.091889848279043 0.04763559198053188\n",
      "4.040681586899971 0.05120826137907177\n",
      "3.9856327059174683 0.05504888098250215\n",
      "3.9264551588612786 0.05917754705618981\n",
      "3.8628392957758746 0.06361586308540404\n",
      "3.794452242959065 0.06838705281680935\n",
      "3.7209361611809952 0.07351608177807005\n",
      "3.64190637326957 0.0790297879114253\n",
      "3.556949351264788 0.0849570220047822\n",
      "3.465620552609647 0.09132879865514086\n",
      "3.36744209405537 0.09817845855427643\n",
      "3.261900251109523 0.10554184294584715\n",
      "3.1484427699427373 0.11345748116678568\n",
      "3.0264759776884427 0.1219667922542946\n",
      "2.895361676015076 0.13111430167336668\n",
      "2.7544138017162068 0.14094787429886918\n",
      "2.6028948368449227 0.15151896487128436\n",
      "2.440011949608292 0.16288288723663066\n",
      "2.2649128458289143 0.17509910377937796\n",
      "2.076681309266083 0.1882315365628313\n",
      "1.8743324074610395 0.2023489018050436\n",
      "1.6568073380206174 0.21752506944042188\n",
      "1.4229678883721637 0.23383944964845352\n"
     ]
    }
   ],
   "source": [
    "\n",
    "Depth = []\n",
    "\n",
    "Zmesh_spacing = []\n",
    "dz=0.02\n",
    "for j in range(25):\n",
    "    z1 = z_smooth[0] - dz*j\n",
    "    Depth.append(z1)\n",
    "    Zmesh_spacing.append(dz)\n",
    "#print ('Upper mineral ', Depth)\n",
    "dz=0.02\n",
    "z = 0\n",
    "for j in range(25,25+34):\n",
    "    dz *= 1.075\n",
    "    z = z + dz\n",
    "    Depth.append(Depth[24] - z)\n",
    "    Zmesh_spacing.append(dz)\n",
    "    #print (Depth[-1])\n",
    "#print ('Ice rich new ', z, Depth)\n",
    "\n",
    "l = len(Depth)\n",
    "print ('LL: ',l)\n",
    "X = 1.40296789\n",
    "\n",
    "IRZ_layer=-2000*np.ones((m2.num_cells(), l-25))\n",
    "\n",
    "print (IRZ_layer.shape)\n",
    "\n",
    "\n",
    "for i in range(m2.num_cells()):\n",
    "    irz = []\n",
    "    #break\n",
    "    y1 = z_upper + slope*(x[i]-x[7])\n",
    "    if y1 >y[-1]:\n",
    "        #print (i,y1,y[-1])\n",
    "        break\n",
    "    for j in range(25,25+34):\n",
    "        if i ==0 :\n",
    "            d = Depth[j]\n",
    "        else:\n",
    "            d = Depth[j] + 1*(z_smooth[i] - z_smooth[i-1])\n",
    "            #print (Depth[j],d)\n",
    "        if (x[i] <= x1 and d <= 4.468 and d>y1):\n",
    "            irz.append(1010)\n",
    "        else:\n",
    "            irz.append(-2000)\n",
    "    IRZ_layer[i][:] = irz#[::-1]\n",
    "\n",
    "print (i,IRZ_layer[6],len(IRZ_layer[0]))\n",
    "print (\"---------------\")        \n",
    "\n",
    "\n"
   ]
  },
  {
   "cell_type": "code",
   "execution_count": null,
   "metadata": {},
   "outputs": [],
   "source": []
  },
  {
   "cell_type": "code",
   "execution_count": 25,
   "metadata": {},
   "outputs": [
    {
     "data": {
      "image/png": "[encoded data removed]",
      "text/plain": [
       "<Figure size 864x576 with 2 Axes>"
      ]
     },
     "metadata": {
      "needs_background": "light"
     },
     "output_type": "display_data"
    }
   ],
   "source": [
    "fig ,ax = plt.subplots(figsize=(12,8))\n",
    "im = plt.imshow(IRZ_layer.transpose())\n",
    "\n",
    "ax = plt.gca()\n",
    "ax.grid(color='r', linewidth=0.5)\n",
    "plt.colorbar()\n",
    "ax.set_aspect('equal')\n",
    "#for d in IRZ_layer:\n",
    "#    print (d,len(d),m2.num_cells())#IRZ_layer.shape,m2.num_cells())\n",
    "\n"
   ]
  },
  {
   "cell_type": "code",
   "execution_count": 26,
   "metadata": {},
   "outputs": [
    {
     "name": "stdout",
     "output_type": "stream",
     "text": [
      "Moss  0.5000000000000001\n",
      "Ice rich 3.5650321116278354 0.23383944964845352\n",
      "lower mineral 38.485197160059805\n",
      "34\n",
      "[1010 1003 1003 1003 1003 1003 1003 1003 1003 1003 1003 1003 1003 1003\n",
      " 1003 1003 1003 1003 1003 1003 1003 1003 1003 1003 1003 1003 1003 1003\n",
      " 1003 1003 1003 1003 1003 1003 1003 1003 1003 1003]\n",
      "[1010 1010 1003 1003 1003 1003 1003 1003 1003 1003 1003 1003 1003 1003\n",
      " 1003 1003 1003 1003 1003 1003 1003 1003 1003 1003 1003 1003 1003 1003\n",
      " 1003 1003 1003 1003 1003 1003 1003 1003 1003 1003]\n",
      "BASENAME_FILE_Exodus:  areaC-3layers-Vladimir-om10cm-case4.exo\n",
      "areaC-3layers-Vladimir-om10cm-case4\n",
      "Opening exodus file: areaC-3layers-Vladimir-om10cm-case4.exo\n",
      "Closing exodus file: areaC-3layers-Vladimir-om10cm-case4.exo\n"
     ]
    }
   ],
   "source": [
    "\n",
    "layer_types = []\n",
    "layer_data = []\n",
    "layer_ncells = []\n",
    "layer_mat_ids = []\n",
    "\n",
    "z=0\n",
    "Z = []\n",
    "\n",
    "for i in range(25):\n",
    "    layer_types.append('constant')\n",
    "    layer_data.append(0.02)\n",
    "    layer_ncells.append(1)\n",
    "    if i <2:\n",
    "        layer_mat_ids.append(1001*np.ones((m2.num_cells(),),'i'))\n",
    "    elif (i <5):\n",
    "        layer_mat_ids.append(1002*np.ones((m2.num_cells(),),'i'))\n",
    "    else:\n",
    "        layer_mat_ids.append(1003*np.ones((m2.num_cells(),),'i'))\n",
    "    z = z + 0.02\n",
    "    Z.append(z)\n",
    "print ('Moss ', z)\n",
    "\n",
    "dz = .02\n",
    "for i in range(34):\n",
    "    dz *= 1.075\n",
    "    layer_types.append(\"constant\")\n",
    "    layer_data.append(dz)\n",
    "    layer_ncells.append(1)\n",
    "    layer_mat_ids.append(-1003*np.ones((m2.num_cells(),),'i'))\n",
    "    #layer_mat_ids.append(1003)\n",
    "    z = z + dz\n",
    "    Z.append(z)\n",
    "    #print (z,dz)\n",
    "print ('Ice rich', z,dz)\n",
    "\n",
    "for i in range(25):\n",
    "    dz *= 1.12\n",
    "    layer_types.append(\"constant\")\n",
    "    layer_data.append(dz)\n",
    "    layer_ncells.append(1)\n",
    "    layer_mat_ids.append(1003*np.ones((m2.num_cells(),),'i'))\n",
    "    #layer_mat_ids.append(1003)\n",
    "    z = z + dz\n",
    "    Z.append(z)\n",
    "print ('lower mineral', z)\n",
    "\n",
    "\n",
    "layer_types.append('snapped')\n",
    "layer_data.append(-45.0) # bottom location\n",
    "layer_ncells.append(1)\n",
    "layer_mat_ids.append(1003*np.ones((m2.num_cells(),),'i'))\n",
    "#layer_mat_ids.append(1003)\n",
    "print (l-25)\n",
    "mat_ids=np.zeros((m2.num_cells(), l-25),'i')\n",
    "for i in range(m2.num_cells()):\n",
    "    #print (i,IRZ_layer[i])\n",
    "    for j in range(0,34):\n",
    "        #print (j)\n",
    "        #print (IRZ_layer[0])\n",
    "        if IRZ_layer[i,j] == 1010:# and Depth[i,j]<= 4.468:\n",
    "            mat_ids[i,j]= 1010#1010\n",
    "            #print ('HERE')\n",
    "        else:\n",
    "            mat_ids[i,j]= 1003#1003\n",
    "\n",
    "\n",
    "\n",
    "for j in range(l-25):\n",
    "    layer_mat_ids[j+25] = mat_ids[:,j]\n",
    "    \n",
    "print (layer_mat_ids[25])\n",
    "print (layer_mat_ids[56])\n",
    "m3 = meshing_ats.Mesh3D.extruded_Mesh2D(m2, layer_types, \n",
    "                                        layer_data, \n",
    "                                        layer_ncells, \n",
    "                                        layer_mat_ids)\n",
    "file= \"areaC-3layers-Vladimir-om10cm-case%g.exo\"%case\n",
    "m3.write_exodus(file.encode('utf8'))\n"
   ]
  },
  {
   "cell_type": "code",
   "execution_count": null,
   "metadata": {},
   "outputs": [],
   "source": []
  },
  {
   "cell_type": "code",
   "execution_count": null,
   "metadata": {},
   "outputs": [],
   "source": []
  },
  {
   "cell_type": "code",
   "execution_count": null,
   "metadata": {},
   "outputs": [],
   "source": []
  },
  {
   "cell_type": "code",
   "execution_count": null,
   "metadata": {},
   "outputs": [],
   "source": []
  },
  {
   "cell_type": "code",
   "execution_count": null,
   "metadata": {},
   "outputs": [],
   "source": []
  },
  {
   "cell_type": "code",
   "execution_count": null,
   "metadata": {},
   "outputs": [],
   "source": []
  },
  {
   "cell_type": "code",
   "execution_count": null,
   "metadata": {},
   "outputs": [],
   "source": []
  },
  {
   "cell_type": "code",
   "execution_count": null,
   "metadata": {},
   "outputs": [],
   "source": []
  },
  {
   "cell_type": "code",
   "execution_count": null,
   "metadata": {},
   "outputs": [],
   "source": []
  }
 ],
 "metadata": {
  "kernelspec": {
   "display_name": "Python 3",
   "language": "python",
   "name": "python3"
  },
  "language_info": {
   "codemirror_mode": {
    "name": "ipython",
    "version": 3
   },
   "file_extension": ".py",
   "mimetype": "text/x-python",
   "name": "python",
   "nbconvert_exporter": "python",
   "pygments_lexer": "ipython3",
   "version": "3.7.6"
  }
 },
 "nbformat": 4,
 "nbformat_minor": 2
}
