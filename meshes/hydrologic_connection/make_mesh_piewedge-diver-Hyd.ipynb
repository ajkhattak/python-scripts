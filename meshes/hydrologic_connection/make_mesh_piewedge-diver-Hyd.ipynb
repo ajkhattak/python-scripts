{
 "cells": [
  {
   "cell_type": "code",
   "execution_count": null,
   "metadata": {},
   "outputs": [],
   "source": [
    "#Script used for pie-wedge mesh, Feb 03,2020"
   ]
  },
  {
   "cell_type": "code",
   "execution_count": null,
   "metadata": {},
   "outputs": [],
   "source": []
  },
  {
   "cell_type": "code",
   "execution_count": 1,
   "metadata": {},
   "outputs": [],
   "source": [
    "import sys, os\n",
    "\n",
    "sys.path.append('/Users/ajc/Core/codes/simulator/debug/ats-mesh/tools/meshing_ats/meshing_ats')\n",
    "import meshing_ats\n",
    "\n",
    "import numpy as np\n",
    "import pandas as pd\n",
    "from matplotlib import pyplot as plt\n",
    "import scipy.signal\n",
    "import importlib"
   ]
  },
  {
   "cell_type": "code",
   "execution_count": 2,
   "metadata": {},
   "outputs": [
    {
     "name": "stdout",
     "output_type": "stream",
     "text": [
      "/Users/ajc/Core/codes/simulator/debug/ats-mesh/tools/meshing_ats/meshing_ats/meshing_ats.py\n"
     ]
    }
   ],
   "source": [
    "print(meshing_ats.__file__)"
   ]
  },
  {
   "cell_type": "code",
   "execution_count": null,
   "metadata": {},
   "outputs": [],
   "source": []
  },
  {
   "cell_type": "code",
   "execution_count": null,
   "metadata": {},
   "outputs": [],
   "source": []
  },
  {
   "cell_type": "code",
   "execution_count": 3,
   "metadata": {},
   "outputs": [
    {
     "name": "stdout",
     "output_type": "stream",
     "text": [
      "['Transect A, Polygon near ERT', 'Transect B, Polygon near ERT', 'Transect Area B', 'Transect A, Area C', 'Transect B, Area C', 'Repeat ERT Transect']\n"
     ]
    }
   ],
   "source": [
    "xl =pd.ExcelFile('../Topo_Profiles_Barrow.xlsx')\n",
    "xl.sheet_names\n",
    "print (xl.sheet_names)\n",
    "data = xl.parse(sheet_name='Transect B, Area C')\n",
    "keys = data.keys()"
   ]
  },
  {
   "cell_type": "code",
   "execution_count": 6,
   "metadata": {},
   "outputs": [
    {
     "name": "stdout",
     "output_type": "stream",
     "text": [
      "1\n"
     ]
    },
    {
     "data": {
      "image/png": "[encoded data removed]",
      "text/plain": [
       "<Figure size 432x288 with 1 Axes>"
      ]
     },
     "metadata": {
      "needs_background": "light"
     },
     "output_type": "display_data"
    }
   ],
   "source": [
    "# smooth the topographic data : February 13 and trough cell inward oriented\n",
    "length = len(data['Distance_m'])\n",
    "x = []\n",
    "z = []\n",
    "\n",
    "x = np.array(data['Distance_m'][:46])\n",
    "z = np.array(data['Z'][:46])\n",
    "\n",
    "z = [z1 - 0.1127955 for z1 in z]\n",
    "N3 = True\n",
    "case = 1\n",
    "if (case == 1):\n",
    "    print (case)\n",
    "    rim = 4.9\n",
    "    x1 = [x[0], x[10]]\n",
    "    z1 = [4.71, rim]\n",
    "    x2 = [x[10], x[20], x[-1]]\n",
    "    z2 = [rim, rim-0.02, 4.78]\n",
    "    cs1 = scipy.interpolate.CubicSpline(x1,z1, bc_type='clamped')\n",
    "    cs2 = scipy.interpolate.CubicSpline(x2,z2, bc_type='clamped')\n",
    "elif (case == 2):\n",
    "    print (case)\n",
    "    rim = 5.1\n",
    "    x1 = [x[0], x[10]]\n",
    "    z1 = [4.71, rim]\n",
    "    x2 = [x[10], x[20], x[-1]]\n",
    "    z2 = [rim, rim-0.04, 4.78]\n",
    "    cs1 = scipy.interpolate.CubicSpline(x1,z1, bc_type='clamped')\n",
    "    cs2 = scipy.interpolate.CubicSpline(x2,z2, bc_type='clamped')\n",
    "elif (case == 3):\n",
    "    print (case)\n",
    "    rim = 5.2\n",
    "    x1 = [x[0], x[10]]\n",
    "    z1 = [4.71, rim]\n",
    "    x2 = [x[10], x[20], x[-1]]\n",
    "    z2 = [rim, rim-0.06, 4.78]\n",
    "    cs1 = scipy.interpolate.CubicSpline(x1,z1, bc_type='clamped')\n",
    "    cs2 = scipy.interpolate.CubicSpline(x2,z2, bc_type='clamped')\n",
    "elif (case == 4):\n",
    "    print (case)\n",
    "    rim = 4.81\n",
    "    x1 = [x[0], x[10]]\n",
    "    z1 = [4.71, rim]\n",
    "    x2 = [x[10], x[20], x[-1]]\n",
    "    z2 = [rim, rim-0.01, 4.78]\n",
    "    cs1 = scipy.interpolate.CubicSpline(x1,z1, bc_type='clamped')\n",
    "    cs2 = scipy.interpolate.CubicSpline(x2,z2, bc_type='clamped')\n",
    "\n",
    "\n",
    "z_smooth = np.concatenate((cs1(x[:11]), cs2(x[11:])))\n",
    "\n",
    "z_smooth = np.array([round(s,4) for s in z_smooth])\n",
    "\n",
    "plt.plot(x, z_smooth, '.-', color = 'k',label = 'fitted curve')\n",
    "plt.plot(x1,z1,'*', color='r')\n",
    "plt.plot(x2,z2,'*', color='r',label='measured data')\n",
    "\n",
    "#print np.array(x), x1, x2\n",
    "#print z, z1,z2\n",
    "plt.ylabel('Elevation [m]', fontsize=12,fontweight='normal')\n",
    "plt.xlabel('Length [m]',fontsize=12,fontweight='normal')\n",
    "plt.tick_params(axis='both', which='major', labelsize=13)\n",
    "#plt.title('Mesh, Polygon Area C (Mesh-N3)')\n",
    "plt.xlim(-0.1,12.5)\n",
    "#plt.ylim(4.7,4.91)\n",
    "plt.yticks(np.linspace(4.7,4.91,4))\n",
    "\n",
    "plt.legend(fontsize=12)\n",
    "\n",
    "outfile='/Users/ajc/Documents/MyPapers/TroughHydrodynamics/figures/Dec22_uniform_om/'\n",
    "plt.savefig(outfile+'transect.pdf', bbox_inches='tight', dpi=500)"
   ]
  },
  {
   "cell_type": "code",
   "execution_count": null,
   "metadata": {},
   "outputs": [],
   "source": [
    "\n"
   ]
  },
  {
   "cell_type": "code",
   "execution_count": null,
   "metadata": {},
   "outputs": [],
   "source": [
    "print (x, z_smooth)\n",
    "#print (len(x), len(z_smooth))\n",
    "print (np.max(z_smooth)-0.5, z_smooth[10],x[10:12])"
   ]
  },
  {
   "cell_type": "code",
   "execution_count": null,
   "metadata": {},
   "outputs": [],
   "source": [
    "x1 = [x[0],x[-1]]\n",
    "z1 = [z_smooth[-1],z_smooth[-1]]\n",
    "print (x1,z1)"
   ]
  },
  {
   "cell_type": "code",
   "execution_count": null,
   "metadata": {},
   "outputs": [],
   "source": []
  },
  {
   "cell_type": "code",
   "execution_count": null,
   "metadata": {},
   "outputs": [],
   "source": [
    "importlib.reload(meshing_ats)\n",
    "site_area = 'C'\n",
    "if site_area == 'A':\n",
    "    arclen = 16\n",
    "elif site_area == 'B':\n",
    "    arclen = 6\n",
    "elif site_area == 'C':\n",
    "    arclen = 10\n",
    "elif site_area == 'D':\n",
    "    arclen = 10\n",
    "#m2 = meshing_ats.Mesh2D.from_Transect_MakePieWedge(x,z_smooth, arclen, curved=False)\n",
    "m2 = meshing_ats.Mesh2D.from_Transect_MakePieWedge(x1,z1, arclen, curved=False)\n",
    "\n",
    "print (site_area, arclen)\n",
    "m2.plot()"
   ]
  },
  {
   "cell_type": "code",
   "execution_count": null,
   "metadata": {},
   "outputs": [],
   "source": [
    "\n"
   ]
  },
  {
   "cell_type": "code",
   "execution_count": null,
   "metadata": {},
   "outputs": [],
   "source": [
    "x0,x1 = x[0], x[6]\n",
    "z_upper = z_smooth[0] - 0.5\n",
    "z_lower = z_smooth[0] - 3.5 #1.40296789\n",
    "print (z_smooth[0], z_upper, z_lower)\n",
    "\n",
    "P = (x1,z_upper)\n",
    "Q = (x0, z_lower)\n",
    "\n",
    "P =(x[6],0)\n",
    "xx = np.linspace(0,x[6],7)\n",
    "Q = (z_upper,z_lower)\n",
    "\n",
    "slope = (z_upper-z_lower)/(x[6]-0)\n",
    "y = z_upper + slope*(xx-x[6])\n",
    "#print (m)\n",
    "plt.plot(xx,y,'.')\n",
    "print (y)#,x[6],x)\n",
    "\n"
   ]
  },
  {
   "cell_type": "code",
   "execution_count": null,
   "metadata": {},
   "outputs": [],
   "source": [
    "\n"
   ]
  },
  {
   "cell_type": "code",
   "execution_count": null,
   "metadata": {},
   "outputs": [],
   "source": [
    "#puttin ice-wedge underneath the trough\n",
    "Depth = []\n",
    "\n",
    "Zmesh_spacing = []\n",
    "dz=0.02\n",
    "for j in range(25):\n",
    "    z1 = z_smooth[0] - dz*j\n",
    "    Depth.append(z1)\n",
    "    Zmesh_spacing.append(dz)\n",
    "#print ('Upper mineral ', Depth)\n",
    "dz=0.02\n",
    "z = 0\n",
    "for j in range(25,25+34):\n",
    "    dz *= 1.075\n",
    "    z = z + dz\n",
    "    Depth.append(Depth[24] - z)\n",
    "    Zmesh_spacing.append(dz)\n",
    "    #print (Depth[-1])\n",
    "#print ('Ice rich new ', z, Depth)\n",
    "\n",
    "l = len(Depth)\n",
    "print ('LL: ',l)\n",
    "X = z_lower #1.40296789\n",
    "\n",
    "IRZ_layer=-2000*np.ones((m2.num_cells(), l-25))\n",
    "\n",
    "print (IRZ_layer.shape)\n",
    "\n",
    "z_irz_start = z_smooth[0] - 0.5 # 50 cm deep\n",
    "\n",
    "for i in range(m2.num_cells()):\n",
    "    irz = []\n",
    "    #break\n",
    "    y1 = z_upper + slope*(x[i]-x[7])\n",
    "    if y1 >y[-1]:\n",
    "        #print (i,y1,y[-1])\n",
    "        break\n",
    "    for j in range(25,25+34):\n",
    "        if i ==0 :\n",
    "            d = Depth[j]\n",
    "        else:\n",
    "            d = Depth[j] + 1*(z_smooth[i] - z_smooth[i-1])\n",
    "            #print (Depth[j],d)\n",
    "        if (x[i] <= x1 and d <= z_irz_start and d>y1):\n",
    "            irz.append(1010)\n",
    "        else:\n",
    "            irz.append(-2000)\n",
    "    IRZ_layer[i][:] = irz#[::-1]\n",
    "\n",
    "#print (i,IRZ_layer[6],len(IRZ_layer[0]))\n",
    "#print (\"---------------\") \n",
    "c = 0\n",
    "for i,j in zip(Zmesh_spacing,Depth):\n",
    "    c = c + i\n",
    "    #print (i,j,c)\n"
   ]
  },
  {
   "cell_type": "code",
   "execution_count": null,
   "metadata": {},
   "outputs": [],
   "source": []
  },
  {
   "cell_type": "code",
   "execution_count": null,
   "metadata": {},
   "outputs": [],
   "source": [
    "fig ,ax = plt.subplots(figsize=(12,8))\n",
    "im = plt.imshow(IRZ_layer.transpose())\n",
    "\n",
    "ax = plt.gca()\n",
    "ax.grid(color='r', linewidth=0.5)\n",
    "plt.colorbar()\n",
    "ax.set_aspect('equal')\n",
    "#for d in IRZ_layer:\n",
    "#    print (d,len(d),m2.num_cells())#IRZ_layer.shape,m2.num_cells())\n",
    "\n"
   ]
  },
  {
   "cell_type": "code",
   "execution_count": null,
   "metadata": {},
   "outputs": [],
   "source": []
  },
  {
   "cell_type": "code",
   "execution_count": null,
   "metadata": {},
   "outputs": [],
   "source": [
    "#variable peat thickness\n",
    "peat_var = np.ones((m2.num_cells(), 9),int)\n",
    "print (m2.num_cells())\n",
    "peat_depth = 0.18 # 18 cm\n",
    "trough = 1.12 #m\n",
    "rim = 7\n",
    "center = z_smooth[-1]\n",
    "print \n",
    "dz=0.02\n",
    "d1 = []\n",
    "for i in range(m2.num_cells()):\n",
    "    \n",
    "   \n",
    "    for j in range(9):\n",
    "        d = (j+1)*0.02\n",
    "        d1.append(d)\n",
    "        #print (d)\n",
    "        if j == 0:\n",
    "            peat_var[i][j] = 1001\n",
    "        elif d <=0.06:\n",
    "            peat_var[i][j] = 1002\n",
    "        elif d <=0.12:\n",
    "            if (x[i] <= trough):\n",
    "                peat_var[i][j] = 1002 #10031\n",
    "            elif (x[i] <= rim):\n",
    "                peat_var[i][j] = 1003 #10032\n",
    "            else:\n",
    "                peat_var[i][j] = 1002#10033\n",
    "        elif d <=0.18:\n",
    "            if (x[i] <= trough):\n",
    "                peat_var[i][j] = 1002#10041\n",
    "            elif (x[i] <= rim):\n",
    "                peat_var[i][j] = 1003#10042\n",
    "            else:\n",
    "                peat_var[i][j] = 1003 #10043\n",
    "\n",
    "        #else:\n",
    "        #    #print(x[i])\n",
    "        #    peat_var[i][j] = 1003\n",
    "    #print (peat_var.transpose()) \n",
    "#print (peat_var.transpose())     \n"
   ]
  },
  {
   "cell_type": "code",
   "execution_count": null,
   "metadata": {},
   "outputs": [],
   "source": []
  },
  {
   "cell_type": "code",
   "execution_count": null,
   "metadata": {},
   "outputs": [],
   "source": [
    "\n",
    "layer_types = []\n",
    "layer_data = []\n",
    "layer_ncells = []\n",
    "layer_mat_ids = []\n",
    "\n",
    "z=0\n",
    "Z = []\n",
    "\n",
    "for i in range(25):\n",
    "    layer_types.append('constant')\n",
    "    layer_data.append(0.02)\n",
    "    layer_ncells.append(1)\n",
    "    if i <2:\n",
    "        layer_mat_ids.append(1001*np.ones((m2.num_cells(),),'i'))\n",
    "    elif (i <5):\n",
    "        layer_mat_ids.append(1002*np.ones((m2.num_cells(),),'i'))\n",
    "    else:\n",
    "        layer_mat_ids.append(1003*np.ones((m2.num_cells(),),'i'))\n",
    "    z = z + 0.02\n",
    "    Z.append(z)\n",
    "print ('Moss ', z)\n",
    "\n",
    "dz = .02\n",
    "for i in range(34):\n",
    "    dz *= 1.075\n",
    "    layer_types.append(\"constant\")\n",
    "    layer_data.append(dz)\n",
    "    layer_ncells.append(1)\n",
    "    layer_mat_ids.append(-1003*np.ones((m2.num_cells(),),'i'))\n",
    "    #layer_mat_ids.append(1003)\n",
    "    z = z + dz\n",
    "    Z.append(z)\n",
    "    #print (z,dz)\n",
    "print ('Ice rich', z,dz)\n",
    "\n",
    "for i in range(25):\n",
    "    dz *= 1.12\n",
    "    layer_types.append(\"constant\")\n",
    "    layer_data.append(dz)\n",
    "    layer_ncells.append(1)\n",
    "    layer_mat_ids.append(1003*np.ones((m2.num_cells(),),'i'))\n",
    "    #layer_mat_ids.append(1003)\n",
    "    z = z + dz\n",
    "    Z.append(z)\n",
    "print ('lower mineral', z)\n",
    "\n",
    "\n",
    "layer_types.append('snapped')\n",
    "layer_data.append(-45.0) # bottom location\n",
    "layer_ncells.append(1)\n",
    "layer_mat_ids.append(1003*np.ones((m2.num_cells(),),'i'))\n",
    "#layer_mat_ids.append(1003)\n",
    "print (l-25)\n",
    "mat_ids=np.zeros((m2.num_cells(), l-25),'i')\n",
    "for i in range(m2.num_cells()):\n",
    "    #print (i,IRZ_layer[i])\n",
    "    for j in range(0,34):\n",
    "        #print (j)\n",
    "        #print (IRZ_layer[0])\n",
    "        if IRZ_layer[i,j] == 1010:# and Depth[i,j]<= 4.468:\n",
    "            mat_ids[i,j]= 1010#1010\n",
    "            #print ('HERE')\n",
    "        else:\n",
    "            mat_ids[i,j]= 1003#1003\n",
    "\n",
    "\n",
    "\n",
    "for j in range(l-25):\n",
    "    layer_mat_ids[j+25] = mat_ids[:,j]\n",
    "    \n",
    "print (layer_mat_ids[25])\n",
    "print (layer_mat_ids[56])\n",
    "m3 = meshing_ats.Mesh3D.extruded_Mesh2D(m2, layer_types, \n",
    "                                        layer_data, \n",
    "                                        layer_ncells, \n",
    "                                        layer_mat_ids)\n",
    "file= \"areaC-3layers-diver-om10cm-case%g.exo\"%case\n",
    "m3.write_exodus(file.encode('utf8'))\n"
   ]
  },
  {
   "cell_type": "code",
   "execution_count": null,
   "metadata": {},
   "outputs": [],
   "source": []
  },
  {
   "cell_type": "code",
   "execution_count": null,
   "metadata": {},
   "outputs": [],
   "source": [
    "def mesh_peat_variable():\n",
    "    layer_types = []\n",
    "    layer_data = []\n",
    "    layer_ncells = []\n",
    "    layer_mat_ids = []\n",
    "\n",
    "    z=0\n",
    "    Z = []\n",
    "    \n",
    "    \n",
    "    for i in range(9):\n",
    "        layer_types.append('constant')\n",
    "        layer_data.append(0.02)\n",
    "        layer_ncells.append(1)\n",
    "        layer_mat_ids.append(-1001*np.ones((m2.num_cells(),),'i'))\n",
    "        z = z + 0.02\n",
    "        Z.append(z)\n",
    "    print ('Moss ', z)\n",
    "    \n",
    "    for i in range(9,25):\n",
    "        layer_types.append('constant')\n",
    "        layer_data.append(0.02)\n",
    "        layer_ncells.append(1)\n",
    "        if i <2:\n",
    "            layer_mat_ids.append(1001*np.ones((m2.num_cells(),),'i'))\n",
    "        elif (i <5):\n",
    "            layer_mat_ids.append(1002*np.ones((m2.num_cells(),),'i'))\n",
    "        else:\n",
    "            layer_mat_ids.append(1003*np.ones((m2.num_cells(),),'i'))\n",
    "        z = z + 0.02\n",
    "        Z.append(z)\n",
    "    print ('Moss ', z)\n",
    "\n",
    "    dz = .02\n",
    "    for i in range(34):\n",
    "        dz *= 1.075\n",
    "        layer_types.append(\"constant\")\n",
    "        layer_data.append(dz)\n",
    "        layer_ncells.append(1)\n",
    "        layer_mat_ids.append(-1003*np.ones((m2.num_cells(),),'i'))\n",
    "        #layer_mat_ids.append(1003)\n",
    "        z = z + dz\n",
    "        Z.append(z)\n",
    "        #print (z,dz)\n",
    "    print ('Ice rich', z,dz)\n",
    "\n",
    "    for i in range(25):\n",
    "        dz *= 1.12\n",
    "        layer_types.append(\"constant\")\n",
    "        layer_data.append(dz)\n",
    "        layer_ncells.append(1)\n",
    "        layer_mat_ids.append(1003*np.ones((m2.num_cells(),),'i'))\n",
    "        #layer_mat_ids.append(1003)\n",
    "        z = z + dz\n",
    "        Z.append(z)\n",
    "    print ('lower mineral', z)\n",
    "\n",
    "\n",
    "    layer_types.append('snapped')\n",
    "    layer_data.append(-45.0) # bottom location\n",
    "    layer_ncells.append(1)\n",
    "    layer_mat_ids.append(1003*np.ones((m2.num_cells(),),'i'))\n",
    "    #layer_mat_ids.append(1003)\n",
    "    print (l-25)\n",
    "    mat_ids=np.zeros((m2.num_cells(), l-25),'i')\n",
    "    for i in range(m2.num_cells()):\n",
    "        #print (i,IRZ_layer[i])\n",
    "        for j in range(0,34):\n",
    "            #print (j)\n",
    "            #print (IRZ_layer[0])\n",
    "            if IRZ_layer[i,j] == 1010:# and Depth[i,j]<= 4.468:\n",
    "                mat_ids[i,j]= 1010#1010\n",
    "                #print ('HERE')\n",
    "            else:\n",
    "                mat_ids[i,j]= 1003#1003\n",
    "\n",
    "\n",
    "\n",
    "    for j in range(l-25):\n",
    "        layer_mat_ids[j+25] = mat_ids[:,j]\n",
    "\n",
    "    for j in range(9):\n",
    "        layer_mat_ids[j] = peat_var[:,j]\n",
    "    \n",
    "    print (layer_mat_ids[25])\n",
    "    print (layer_mat_ids[56])\n",
    "    m3 = meshing_ats.Mesh3D.extruded_Mesh2D(m2, layer_types, \n",
    "                                            layer_data, \n",
    "                                            layer_ncells, \n",
    "                                            layer_mat_ids)\n",
    "    \n",
    "    file= \"areaC-3layers-diver-omvar-case%g.exo\"%case\n",
    "    m3.write_exodus(file.encode('utf8'))\n",
    "\n"
   ]
  },
  {
   "cell_type": "code",
   "execution_count": null,
   "metadata": {},
   "outputs": [],
   "source": [
    "mesh_peat_variable()"
   ]
  },
  {
   "cell_type": "code",
   "execution_count": null,
   "metadata": {},
   "outputs": [],
   "source": []
  },
  {
   "cell_type": "code",
   "execution_count": null,
   "metadata": {},
   "outputs": [],
   "source": [
    "import h5py\n",
    "forcing_data = h5py.File('/Users/ajc/FUSE/simulations/forcing_data/Barrow-Validation/Barrow-2010_2016-updated-smooth-30pc.h5','r')\n",
    "bc_data = h5py.File('/Users/ajc/FUSE/simulations/barrow_icewedges/NGEE/BCData/waterlevel-AreaC-wellC37-2012-2014-head.h5','r')\n",
    "                    #waterlevel-3D-wellC37-2012-2014.h5')"
   ]
  },
  {
   "cell_type": "code",
   "execution_count": null,
   "metadata": {},
   "outputs": [],
   "source": [
    "#print (bc_data.keys(),forcing_data.keys())\n",
    "f_time = [t/86400. for t in forcing_data['time [s]']]\n",
    "f_temp = forcing_data['air temperature [K]']"
   ]
  },
  {
   "cell_type": "code",
   "execution_count": null,
   "metadata": {},
   "outputs": [],
   "source": [
    "wt = bc_data['ponded depth C37 [m]']\n",
    "time_wt = [t/86400. for t in bc_data['time [s]']]\n",
    "print (len(wt),time_wt[100],wt[100])\n",
    "print (np.mean(wt[108:225]))"
   ]
  },
  {
   "cell_type": "code",
   "execution_count": null,
   "metadata": {},
   "outputs": [],
   "source": [
    "#plt.plot(time_wt[108:225],4.71 + wt[108:225],'.')\n",
    "plt.plot(time_wt,4.71 + wt[:],'.')\n",
    "\n",
    "plt.axhline(4.71,color='g')\n",
    "plt.axhline(4.81,color='r')\n",
    "plt.ylim(4.6,5.0)\n",
    "plt.xlim(1240,1360)\n",
    "plt.show()"
   ]
  },
  {
   "cell_type": "code",
   "execution_count": null,
   "metadata": {},
   "outputs": [],
   "source": [
    "plt.plot(f_time,f_temp)\n",
    "plt.axhline(273.15,color='g')\n",
    "plt.xlim(1240,1360)"
   ]
  },
  {
   "cell_type": "code",
   "execution_count": null,
   "metadata": {},
   "outputs": [],
   "source": []
  },
  {
   "cell_type": "code",
   "execution_count": null,
   "metadata": {},
   "outputs": [],
   "source": []
  }
 ],
 "metadata": {
  "kernelspec": {
   "display_name": "Python 3",
   "language": "python",
   "name": "python3"
  },
  "language_info": {
   "codemirror_mode": {
    "name": "ipython",
    "version": 3
   },
   "file_extension": ".py",
   "mimetype": "text/x-python",
   "name": "python",
   "nbconvert_exporter": "python",
   "pygments_lexer": "ipython3",
   "version": "3.7.6"
  }
 },
 "nbformat": 4,
 "nbformat_minor": 2
}
