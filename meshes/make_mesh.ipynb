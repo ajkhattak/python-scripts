{
 "cells": [
  {
   "cell_type": "code",
   "execution_count": 2,
   "metadata": {},
   "outputs": [],
   "source": [
    "import sys, os\n",
    "\n",
    "sys.path.append(os.path.join(os.environ['ATS_SRC_DIR'],'tools','meshing_ats'))\n",
    "import meshing_ats\n",
    "\n",
    "import numpy as np\n",
    "import pandas as pd\n",
    "from matplotlib import pyplot as plt\n"
   ]
  },
  {
   "cell_type": "code",
   "execution_count": 3,
   "metadata": {},
   "outputs": [
    {
     "name": "stdout",
     "output_type": "stream",
     "text": [
      "(12, 3) 2\n"
     ]
    }
   ],
   "source": [
    "#fname = '/Users/ajc/Desktop/ATS/meshes/SubgridModel/watershed/SPRUCE/2cm-resolution/SPRUCE_20_MAY_2017_DEM_2cm.vtk'\n",
    "#infile = '/Users/ajc/Desktop/ATS/meshes/SubgridModel/watershed/SPRUCE/coarse/spruce-6-may-2017-dem-2cm-coarse.vtk'\n",
    "\n",
    "\n",
    "infile =\"/Users/ajc/Desktop/ATS/meshes/four-polygons/four_polygon-surface.vtk\"\n",
    "outfile = \"/Users/ajc/Desktop/ATS/meshes/four-polygons/\"\n",
    "#m2 = meshing_ats.Mesh2D.read_VTK(fname)\n",
    "m2 =meshing_ats.Mesh2D.read_VTK_Unstructured(infile)\n"
   ]
  },
  {
   "cell_type": "code",
   "execution_count": 4,
   "metadata": {},
   "outputs": [
    {
     "name": "stdout",
     "output_type": "stream",
     "text": [
      "(4, 3) 2\n"
     ]
    }
   ],
   "source": [
    "# Single column\n",
    "infile= '/Users/ajc/Desktop/ATS/meshes/singlecolumns/column.vtk'\n",
    "outfile = \"/Users/ajc/Desktop/ATS/meshes/singlecolumns/\"\n",
    "m2 =meshing_ats.Mesh2D.read_VTK_Unstructured(infile)\n"
   ]
  },
  {
   "cell_type": "code",
   "execution_count": 15,
   "metadata": {},
   "outputs": [
    {
     "data": {
      "image/png": "[encoded data removed]",
      "text/plain": [
       "<matplotlib.figure.Figure at 0x11a0f7bd0>"
      ]
     },
     "metadata": {},
     "output_type": "display_data"
    },
    {
     "name": "stdout",
     "output_type": "stream",
     "text": [
      "('Moss ', 0.02)\n",
      "('Peat ', 0.1)\n",
      "('Upper mineral ', 0.4000000000000001)\n",
      "('Ice rich', 3.716409519999923)\n",
      "41.2555869471\n",
      "80\n",
      "\n",
      "You are using exodus.py v 1.05 (beta-cmake), a python wrapper of some of the exodus II library.\n",
      "\n",
      "Copyright (c) 2013, 2014, 2015, 2016, 2017 National Technology &\n",
      "Engineering Solutions of Sandia, LLC (NTESS).  Under the terms of\n",
      "Contract DE-NA0003525 with NTESS, the U.S. Government retains certain\n",
      "rights in this software.  \n",
      "\n",
      "Opening exodus file: /Users/ajc/Desktop/ATS/meshes/singlecolumns/column-5layers-om10cm.exo\n",
      "Closing exodus file: /Users/ajc/Desktop/ATS/meshes/singlecolumns/column-5layers-om10cm.exo\n"
     ]
    }
   ],
   "source": [
    "m2.plot()\n",
    "plt.show()\n",
    "# layer extrusion\n",
    "layer_types = []\n",
    "layer_data = []\n",
    "layer_ncells = []\n",
    "layer_mat_ids = []\n",
    "\n",
    "z=0\n",
    "Z = []\n",
    "\n",
    "for i in range(1):\n",
    "    layer_types.append('constant')\n",
    "    layer_data.append(0.02)\n",
    "    layer_ncells.append(1)\n",
    "    layer_mat_ids.append(1001)\n",
    "    z = z + 0.02\n",
    "    Z.append(z)\n",
    "print ('Moss ', z)\n",
    "\n",
    "for i in range(4): \n",
    "    layer_types.append('constant')\n",
    "    layer_data.append(0.02)\n",
    "    layer_ncells.append(1)\n",
    "    layer_mat_ids.append(1002)\n",
    "    z = z + 0.02\n",
    "    Z.append(z)\n",
    "print ('Peat ', z)  \n",
    "for i in range(15): #8cm peat, n=20, 20cm peat n = 14\n",
    "    layer_types.append('constant')\n",
    "    layer_data.append(0.02)\n",
    "    layer_ncells.append(1)\n",
    "    layer_mat_ids.append(1003)\n",
    "    z = z + 0.02\n",
    "    Z.append(z)\n",
    "print ('Upper mineral ', z)\n",
    "\n",
    "\n",
    "dz = .02\n",
    "for i in range(35):\n",
    "    dz *= 1.075\n",
    "    layer_types.append(\"constant\")\n",
    "    layer_data.append(dz)\n",
    "    layer_ncells.append(1)\n",
    "    layer_mat_ids.append(1004)\n",
    "    z = z + dz\n",
    "    Z.append(z)\n",
    "print ('Ice rich', z)\n",
    "\n",
    "for i in range(25):\n",
    "    dz *= 1.12\n",
    "    layer_types.append(\"constant\")\n",
    "    layer_data.append(dz)\n",
    "    layer_ncells.append(1)\n",
    "    layer_mat_ids.append(1005)\n",
    "    z = z + dz\n",
    "    Z.append(z)\n",
    "print (z)\n",
    "\n",
    "\n",
    "layer_types.append('snapped')\n",
    "layer_data.append(-45.0) # bottom location\n",
    "layer_ncells.append(1)\n",
    "layer_mat_ids.append(1005)\n",
    "\n",
    "#Z = [round(z*1,3) for z in Z]\n",
    "#for i in range(len(Z) -1):\n",
    "#    print Z[i+1] - Z[i], Z[i]\n",
    "\n",
    "print len(Z)\n",
    "\n",
    "m3 = meshing_ats.Mesh3D.extruded_Mesh2D(m2, layer_types, \n",
    "                                        layer_data, \n",
    "                                        layer_ncells, \n",
    "                                        layer_mat_ids)\n",
    "\n",
    "m3.write_exodus(outfile + \"column-5layers-om10cm.exo\")\n",
    "#m3.write_exodus(outfile + \"fourpolygons-5layers-om10cm.exo\")\n",
    "\n",
    "\n",
    "\n",
    "\n"
   ]
  },
  {
   "cell_type": "code",
   "execution_count": null,
   "metadata": {},
   "outputs": [],
   "source": []
  }
 ],
 "metadata": {
  "kernelspec": {
   "display_name": "Python 2",
   "language": "python",
   "name": "python2"
  },
  "language_info": {
   "codemirror_mode": {
    "name": "ipython",
    "version": 2
   },
   "file_extension": ".py",
   "mimetype": "text/x-python",
   "name": "python",
   "nbconvert_exporter": "python",
   "pygments_lexer": "ipython2",
   "version": "2.7.14"
  }
 },
 "nbformat": 4,
 "nbformat_minor": 2
}
