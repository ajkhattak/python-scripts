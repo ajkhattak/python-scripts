{
 "cells": [
  {
   "cell_type": "code",
   "execution_count": null,
   "metadata": {},
   "outputs": [],
   "source": []
  },
  {
   "cell_type": "code",
   "execution_count": null,
   "metadata": {},
   "outputs": [],
   "source": [
    "#Vertical resolution used : \n",
    "0.02\n",
    "0.1\n",
    "0.5\n",
    "1.25010428797\n",
    "8.33294983235\n",
    "32.8082236775"
   ]
  },
  {
   "cell_type": "code",
   "execution_count": 1,
   "metadata": {},
   "outputs": [],
   "source": [
    "import sys, os\n",
    "\n",
    "#sys.path.append(os.path.join(os.environ['ATS_SRC_DIR'],'tools','meshing_ats'))\n",
    "#sys.path.append('/Users/ajc/Core/SimDataInputs/ats-repo/ats/tools/utils/meshing_ats')\n",
    "#import meshing_ats\n",
    "\n",
    "import numpy as np\n",
    "import pandas as pd\n",
    "from matplotlib import pyplot as plt\n",
    "import scipy.signal"
   ]
  },
  {
   "cell_type": "code",
   "execution_count": null,
   "metadata": {},
   "outputs": [],
   "source": []
  },
  {
   "cell_type": "code",
   "execution_count": 2,
   "metadata": {},
   "outputs": [],
   "source": [
    "import math\n",
    "def Distance(x,y):\n",
    "    d = np.zeros(len(x))\n",
    "    for i in range(len(x)):\n",
    "        d[i] = math.hypot(x[-1] - x[i], y[-1] - y[i])\n",
    "    return d"
   ]
  },
  {
   "cell_type": "code",
   "execution_count": 4,
   "metadata": {
    "scrolled": true
   },
   "outputs": [
    {
     "name": "stdout",
     "output_type": "stream",
     "text": [
      "C\n",
      "left 0.1901719748262033 11\n",
      "right 0.23974663502900206 29\n"
     ]
    },
    {
     "data": {
      "image/png": "[encoded data removed]",
      "text/plain": [
       "<Figure size 432x288 with 1 Axes>"
      ]
     },
     "metadata": {
      "needs_background": "light"
     },
     "output_type": "display_data"
    },
    {
     "name": "stderr",
     "output_type": "stream",
     "text": [
      "No handles with labels found to put in legend.\n"
     ]
    },
    {
     "name": "stdout",
     "output_type": "stream",
     "text": [
      "---------------------------------------------\n",
      "center [5.07949 5.04949 4.99949 4.94949 4.89949 4.84949 4.79949 4.74949 4.69949\n",
      " 4.67949 4.59949 4.49949 4.39949 4.29949 4.09949 3.84949 3.59949] 5.321\n",
      "5.09949 5.099\n"
     ]
    },
    {
     "data": {
      "text/plain": [
       "<matplotlib.legend.Legend at 0x1c17287080>"
      ]
     },
     "execution_count": 4,
     "metadata": {},
     "output_type": "execute_result"
    },
    {
     "data": {
      "image/png": "[encoded data removed]",
      "text/plain": [
       "<Figure size 432x288 with 1 Axes>"
      ]
     },
     "metadata": {
      "needs_background": "light"
     },
     "output_type": "display_data"
    }
   ],
   "source": [
    "#Vladimir data\n",
    "site_area = 'C'\n",
    "if site_area == 'C': \n",
    "    print (site_area)\n",
    "    zv = np.array([5.099, 5.169, 5.321, 4.968])\n",
    "    zv =zv[::-1]\n",
    "    northing = [7910344.103,7910341.163,7910337.608, 7910335.845] #original\n",
    "    easting = [585907.153,585907.605,585908.893,585909.606]\n",
    "    distC = Distance(northing,easting)\n",
    "    distC = distC[::-1]\n",
    "    #print distC, zv\n",
    "    numx1 = int((distC[1] - distC[0]) / 0.17)\n",
    "    numx2 = int((distC[-1] - distC[1]) / 0.23)\n",
    "    #print numx1, numx2\n",
    "    xnew1 = np.linspace(distC[0],distC[1],numx1)\n",
    "    xnew2 = np.linspace(distC[1],distC[-1],numx2)\n",
    "    cs1 = scipy.interpolate.CubicSpline(distC[:2],zv[:2], bc_type='clamped')\n",
    "    cs2 = scipy.interpolate.CubicSpline(distC[1:],zv[1:], bc_type='clamped')\n",
    "elif site_area == 'A':\n",
    "    print (site_area)\n",
    "    zv = np.array([5.165, 5.389,5.412,5.200])\n",
    "    zv =zv[::-1]\n",
    "    north=[7910477.667,7910482.445,7910483.703,7910484.006] \n",
    "    east = [585548.618,585556.012,585559.316,585560.442]\n",
    "    distA = Distance(north,east)\n",
    "    distA = distA[::-1]\n",
    "    numx1 = int((distA[1] - distA[0]) / 0.2) + 4\n",
    "    numx2 = int((distA[-1] - distA[1]) / 0.24)\n",
    "    \n",
    "    xnew1 = np.linspace(distA[0],distA[1],numx1)\n",
    "    xnew2 = np.linspace(distA[1],distA[-1],numx2)\n",
    "    \n",
    "    cs1 = scipy.interpolate.CubicSpline(distA[:2],zv[:2], bc_type='clamped')\n",
    "    cs2 = scipy.interpolate.CubicSpline(distA[1:],zv[1:], bc_type='clamped')\n",
    "elif site_area == 'B':\n",
    "    print (site_area)\n",
    "    zv = np.array([5.586,5.580,5.307,5.209])\n",
    "    north=[7910300.761,7910298.338, 7910297.337,7910296.76]\n",
    "    east = [585826.986,585825.28,585824.741,585824.364] \n",
    "    distB = Distance(north,east)\n",
    "    distB = np.array(distB[::-1])\n",
    "    zv = np.array(zv[::-1])\n",
    "    distB = np.insert(distB,1, distB[0]+0.2)\n",
    "    zv = np.insert(zv,1, zv[0] + 0.0003)\n",
    "    \n",
    "    numx1 = int((distB[2+1] - distB[0]) / 0.1)\n",
    "    numx2 = int((distB[-1] - distB[2+1]) / 0.2)\n",
    "    \n",
    "    xnew1 = np.linspace(distB[0],distB[2+1],numx1)\n",
    "    xnew2 = np.linspace(distB[2+1],distB[-1],numx2)\n",
    "    \n",
    "    cs1 = scipy.interpolate.CubicSpline(distB[:3+1],zv[:3+1], bc_type='clamped')\n",
    "    cs2 = scipy.interpolate.CubicSpline(distB[2+1:],zv[2+1:], bc_type='clamped')\n",
    "    \n",
    "elif site_area == 'D':\n",
    "    print (site_area)\n",
    "    zv = np.array([5.241, 5.245,5.293,5.378])\n",
    "    zv =zv[::-1]\n",
    "    x1=[585912.144,585916.144,585918.711,585920.688]\n",
    "\n",
    "    x1 = [-i + x1[-1] for i in x1]\n",
    "    x1 =x1[::-1]\n",
    "    #print x1\n",
    "    numx1 = int((x1[-1] - x1[0]) / 0.25) + 2\n",
    "    numx2 = numx1\n",
    "    #print numx1\n",
    "    xnew1 = np.linspace(x1[0],x1[3],numx1)\n",
    "    xnew2 = xnew1\n",
    "    cs1 = scipy.interpolate.CubicSpline(x1,zv, bc_type='clamped')\n",
    "    #cs2 = scipy.interpolate.CubicSpline(x1,zv, bc_type=((1, 0.0), (1, .0)))\n",
    "    \n",
    "print ('left', xnew1[1] - xnew1[0], numx1)\n",
    "print ('right', xnew2[-1] - xnew2[-2], numx2)\n",
    "    \n",
    "plt.plot(xnew1, cs1(xnew1), '.-', color= 'r', label = 'fitted curve')\n",
    "plt.plot(xnew2, cs2(xnew2), '.-', color= 'r')\n",
    "plt.plot(distC, zv, '*', color= 'k', label='measured data')\n",
    "\n",
    "plt.show()\n",
    "\n",
    "if 'D' in site_area:\n",
    "    xnew = xnew1\n",
    "    zv = cs1(xnew1)\n",
    "else:\n",
    "    xnew = np.concatenate((xnew1,xnew2[1:]))\n",
    "    zv = np.concatenate((cs1(xnew1), cs2(xnew2[1:])))\n",
    " \n",
    "print ('---------------------------------------------')\n",
    "\n",
    "assert len(zv) == len(xnew)\n",
    "\n",
    "\n",
    "#trough\n",
    "observe = 'center'\n",
    "xloc = 0\n",
    "mid_pt = (zv[0] + zv[1])/2.\n",
    "\n",
    "depths_t = [0.02, 0.05, 0.1, 0.15, 0.2, 0.25, 0.30, 0.35, 0.4, 0.5, 0.6,0.7,0.8, 1.0, 1.25, 1.50]\n",
    "depths_r = [0.02, 0.05, 0.1, 0.15, 0.2, 0.25, 0.30, 0.35, 0.4, 0.5, 0.6,0.7,0.8, 1.0, 1.25, 1.50]\n",
    "depths_c = [0.02, 0.05, 0.1, 0.15, 0.2, 0.25, 0.30, 00.35, 0.4, 0.42, 0.5, 0.6,0.7,0.8, 1.0, 1.25, 1.50]\n",
    "if observe == 'trough':\n",
    "    z_location = [zv[1] - v for v in depths_t] #taking z at zv[1] to make sure the observed point lie within above cell\n",
    "    xloc = np.where(zv == zv[0])\n",
    "    xloc = xnew[xloc]\n",
    "elif observe == 'rim':\n",
    "    if 'B' in site_area: # max in polygon B is the center.. so we need to get the right location for rim\n",
    "        z_location = [zv[numx1] - v for v in depths_r]\n",
    "        print ('B')\n",
    "    else:\n",
    "        z_location = [max(zv) - v for v in depths_r]\n",
    "        print ('Not B')\n",
    "    xloc = np.where(zv == max(zv))\n",
    "elif observe == 'center':\n",
    "    if 'B' in site_area:\n",
    "        z_location = [zv[-1] - v for v in depths_c]\n",
    "    else:\n",
    "        z_location = [zv[-2] - v for v in depths_c]\n",
    "    \n",
    "zv = np.round(zv, 5)\n",
    "xnew = np.round(xnew,5)\n",
    "print (observe, np.round(z_location,5), max(zv))\n",
    "print (zv[-2], zv[-1])\n",
    "\n",
    "plt.xlabel('Distance [m]')\n",
    "plt.ylabel('Elevation [m]')\n",
    "plt.title('Polygon Area B')\n",
    "plt.legend()\n"
   ]
  },
  {
   "cell_type": "code",
   "execution_count": null,
   "metadata": {},
   "outputs": [],
   "source": []
  },
  {
   "cell_type": "code",
   "execution_count": null,
   "metadata": {},
   "outputs": [],
   "source": [
    "z_smooth = zv\n",
    "x = xnew\n",
    "print x, z_smooth\n",
    "print len(x), len(z_smooth)\n",
    "print 'Seepage face high at the center ', max(z_smooth - z_smooth[0])"
   ]
  },
  {
   "cell_type": "code",
   "execution_count": null,
   "metadata": {},
   "outputs": [],
   "source": [
    "#trough\n",
    "observe = 'center'\n",
    "xloc = 0\n",
    "zv = z_smooth\n",
    "mid_pt = (zv[0] + zv[1])/2.\n",
    "\n",
    "depths_t = [0.02, 0.05, 0.1, 0.15, 0.2, 0.25, 0.30, 0.35, 0.4, 0.5, 0.6,0.7,0.8, 1.0, 1.25, 1.50]\n",
    "depths_r = [0.02, 0.05, 0.08, 0.1, 0.15, 0.2, 0.25, 0.30, 0.34, 0.35, 0.4, 0.5, 0.6,0.7,0.8, 1.0, 1.25, 1.50]\n",
    "depths_c = [0.02, 0.05, 0.1, 0.15, 0.2, 0.25, 0.30, 0.35, 0.4, 0.42, 0.5, 0.6,0.7,0.8, 1.0, 1.25, 1.50]\n",
    "if observe == 'trough':\n",
    "    z_location = [zv[1] - v for v in depths_t] #taking z at zv[1] to make sure the observed point lie within above cell\n",
    "    xloc = np.where(zv == zv[0])\n",
    "    xloc = x[xloc]\n",
    "elif observe == 'rim':\n",
    "    z_location = [max(zv) - v for v in depths_r]\n",
    "    xloc = np.where(zv == max(zv))\n",
    "elif observe == 'center':\n",
    "    z_location = [zv[-2] - v for v in depths_c]\n",
    "print round(z_smooth[10],5), max(zv), xloc\n",
    "print np.round(z_location,3)\n",
    "print  4.8972 -0.02, xloc, z_smooth[1]"
   ]
  },
  {
   "cell_type": "code",
   "execution_count": null,
   "metadata": {},
   "outputs": [],
   "source": [
    "import meshing_ats\n",
    "\n",
    "if site_area == 'A':\n",
    "    arclen = 16\n",
    "elif site_area == 'B':\n",
    "    arclen = 6\n",
    "elif site_area == 'C':\n",
    "    arclen = 10\n",
    "elif site_area == 'D':\n",
    "    arclen = 10\n",
    "m2 = meshing_ats.Mesh2D.from_Transect_MakePieWedge(x,z_smooth, arclen, curved=False)\n",
    "\n",
    "print site_area, arclen\n",
    "m2.plot()"
   ]
  },
  {
   "cell_type": "code",
   "execution_count": null,
   "metadata": {},
   "outputs": [],
   "source": []
  },
  {
   "cell_type": "code",
   "execution_count": null,
   "metadata": {},
   "outputs": [],
   "source": [
    "outfile = \"/Users/ajc/Desktop/ATS/meshes/barrow-pie-wedges/\"\n",
    "layer_types = []\n",
    "layer_data = []\n",
    "layer_ncells = []\n",
    "layer_mat_ids = []\n",
    "\n",
    "z=0\n",
    "Z = []\n",
    "\n",
    "for i in range(1):\n",
    "    layer_types.append('constant')\n",
    "    layer_data.append(0.02)\n",
    "    layer_ncells.append(1)\n",
    "    layer_mat_ids.append(1001)\n",
    "    z = z + 0.02\n",
    "    Z.append(z)\n",
    "print ('Moss ', z)\n",
    "\n",
    "for i in range(4):\n",
    "    layer_types.append('constant')\n",
    "    layer_data.append(0.02)\n",
    "    layer_ncells.append(1)\n",
    "    layer_mat_ids.append(1002)\n",
    "    z = z + 0.02\n",
    "    Z.append(z)\n",
    "print ('Peat ', z)\n",
    "\n",
    "for i in range(15): \n",
    "    layer_types.append('constant')\n",
    "    layer_data.append(0.02)\n",
    "    layer_ncells.append(1)\n",
    "    layer_mat_ids.append(1003)\n",
    "    z = z + 0.02\n",
    "    Z.append(z)\n",
    "print ('Upper mineral ', z)\n",
    "\n",
    "dz = .02\n",
    "for i in range(35):\n",
    "    dz *= 1.075\n",
    "    layer_types.append(\"constant\")\n",
    "    layer_data.append(dz)\n",
    "    layer_ncells.append(1)\n",
    "    layer_mat_ids.append(1003)\n",
    "    z = z + dz\n",
    "    Z.append(z)\n",
    "print ('Ice rich', z)\n",
    "\n",
    "for i in range(25):\n",
    "    dz *= 1.12\n",
    "    layer_types.append(\"constant\")\n",
    "    layer_data.append(dz)\n",
    "    layer_ncells.append(1)\n",
    "    layer_mat_ids.append(1003)\n",
    "    z = z + dz\n",
    "    Z.append(z)\n",
    "print (z)\n",
    "\n",
    "\n",
    "layer_types.append('snapped')\n",
    "layer_data.append(-45.0) # bottom location\n",
    "layer_ncells.append(1)\n",
    "layer_mat_ids.append(1003)\n",
    "\n",
    "m3 = meshing_ats.Mesh3D.extruded_Mesh2D(m2, layer_types, \n",
    "                                        layer_data, \n",
    "                                        layer_ncells, \n",
    "                                        layer_mat_ids)\n",
    "\n",
    "m3.write_exodus(outfile + \"areaC-3layers-Vladimir-om10cm.exo\")\n"
   ]
  },
  {
   "cell_type": "code",
   "execution_count": null,
   "metadata": {},
   "outputs": [],
   "source": []
  },
  {
   "cell_type": "code",
   "execution_count": null,
   "metadata": {},
   "outputs": [],
   "source": [
    "0.02\n",
    "0.1\n",
    "0.5\n",
    "1.25010428797\n",
    "8.33294983235\n",
    "32.8082236775"
   ]
  }
 ],
 "metadata": {
  "kernelspec": {
   "display_name": "Python 2",
   "language": "python",
   "name": "python2"
  },
  "language_info": {
   "codemirror_mode": {
    "name": "ipython",
    "version": 3
   },
   "file_extension": ".py",
   "mimetype": "text/x-python",
   "name": "python",
   "nbconvert_exporter": "python",
   "pygments_lexer": "ipython3",
   "version": "3.7.3"
  }
 },
 "nbformat": 4,
 "nbformat_minor": 2
}
