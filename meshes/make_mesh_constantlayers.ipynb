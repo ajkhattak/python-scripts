{
 "cells": [
  {
   "cell_type": "code",
   "execution_count": 1,
   "metadata": {},
   "outputs": [
    {
     "name": "stdout",
     "output_type": "stream",
     "text": [
      "Using matplotlib backend: MacOSX\n"
     ]
    }
   ],
   "source": [
    "# Generates 2D and 3D mesh from a function or topography from a file/function\n",
    "# Organic layering have constant thickness\n",
    "%matplotlib"
   ]
  },
  {
   "cell_type": "code",
   "execution_count": null,
   "metadata": {},
   "outputs": [],
   "source": []
  },
  {
   "cell_type": "code",
   "execution_count": 2,
   "metadata": {},
   "outputs": [],
   "source": [
    "import sys, os\n",
    "\n",
    "sys.path.append(os.path.join(os.environ['ATS_SRC_DIR'],'tools','meshing_ats'))\n",
    "import meshing_ats\n",
    "\n",
    "import numpy as np\n",
    "import pandas as pd\n",
    "from matplotlib import pyplot as plt\n",
    "import scipy.signal\n",
    "import math"
   ]
  },
  {
   "cell_type": "code",
   "execution_count": 14,
   "metadata": {},
   "outputs": [],
   "source": [
    "topography_from_Excel = True\n",
    "topography_from_function1D = False\n",
    "topography_from_function2D = False"
   ]
  },
  {
   "cell_type": "code",
   "execution_count": 15,
   "metadata": {},
   "outputs": [],
   "source": [
    "# Plot the topography here so make sure data is read correctly\n",
    "# if topography is provided through Excel sheet\n",
    "if (topography_from_Excel):\n",
    "    xl =pd.ExcelFile('Topo_Profiles_Barrow.xlsx')\n",
    "    xl.sheet_names\n",
    "    data = xl.parse(sheet_name='Transect B, Area C')\n",
    "    keys = data.keys()\n",
    "    plt.plot(data['Distance_m'], data['Z'])\n",
    "    plt.ylabel('Elevation')\n",
    "    plt.title('Topography, Polygon Area C')\n",
    "    plt.xlabel('Distance [m] (trough-to-trough)')\n",
    "    plt.show()\n",
    "    \n",
    "# To get topography from a 1D function, define it here, e.g., z = sine(x)\n",
    "if(topography_from_function1D):\n",
    "    A = 0.15\n",
    "    k1 = math.pi - 100\n",
    "    m = .01\n",
    "    Xf_1d = np.linspace(0,100,101)\n",
    "    Zf_1d = A*np.sin(k1*Xf) + m*Xf\n",
    "    plt.plot(Xf,Zf)\n",
    "    \n",
    "# To get topography from a 2D function, define it here, e.g., z = sine(x,y)\n",
    "if(topography_from_function2D):\n",
    "    A = 0.15\n",
    "    k1 = math.pi\n",
    "    k2 = math.pi\n",
    "    m = 0.1\n",
    "    Xf_2d = np.linspace(0,2,101)\n",
    "    Yf_2d = np.linspace(0,2,101)\n",
    "    [Xf,Yf] = np.meshgrid(Xf_2d,Yf_2d)\n",
    "\n",
    "    Zf_2d = A*np.sin(k1*Xf)*np.sin(k2*Yf) + m*Xf\n",
    "\n",
    "    plt.contourf(Xf,Yf,Zf_2d)"
   ]
  },
  {
   "cell_type": "code",
   "execution_count": null,
   "metadata": {},
   "outputs": [],
   "source": []
  },
  {
   "cell_type": "code",
   "execution_count": null,
   "metadata": {},
   "outputs": [],
   "source": [
    "\n"
   ]
  },
  {
   "cell_type": "code",
   "execution_count": null,
   "metadata": {},
   "outputs": [],
   "source": []
  },
  {
   "cell_type": "code",
   "execution_count": 53,
   "metadata": {},
   "outputs": [],
   "source": [
    "# smooth the topographic data'\n",
    "\n",
    "def surface1D_topography():\n",
    "    assert topography_from_Excel or topography_from_function1D\n",
    "    global x \n",
    "    global z \n",
    "    global z_smooth\n",
    "    x_index = []\n",
    "    if topography_from_Excel:\n",
    "        x = np.array(data['Distance_m'])\n",
    "        z = np.array(data['Z'])\n",
    "        x_index = [0, 10, 25, len(x)-30] # indices for smoothing interval\n",
    "        l = x_index[3]\n",
    "        print l\n",
    "    elif (topography_from_function1D):\n",
    "        x = Xf_1d\n",
    "        z = Zf_1d\n",
    "        x_index = [0, 9, 26, len(x)-1] # indices for smoothing interval\n",
    "    \n",
    "    smoothed= True\n",
    "    \n",
    "    z_smooth = z\n",
    "    if (smoothed):\n",
    "        x1 = [x[x_index[0]], x[x_index[1]]]\n",
    "        z1 = [z[x_index[0]], z[x_index[1]]]\n",
    "\n",
    "        x2 = [x[x_index[1]], x[x_index[2]], x[x_index[3]]]\n",
    "        z2 = [z[x_index[1]], z[x_index[2]], z[x_index[3]]]\n",
    "\n",
    "        cs1 = scipy.interpolate.CubicSpline(x1,z1, bc_type='clamped')\n",
    "        cs2 = scipy.interpolate.CubicSpline(x2,z2, bc_type='clamped')\n",
    "\n",
    "\n",
    "        z_smooth = np.concatenate((cs1(x[:11]), cs2(x[11:l])))\n",
    "\n",
    "    z_smooth = np.array([round(s,4) for s in z_smooth])\n",
    "    x = x[:l]\n",
    "    plt.plot(x[:l], z_smooth, '-.', color = 'k')\n",
    "    plt.plot(x1,z1,'*', color='c')\n",
    "    plt.plot(x2,z2,'*', color='c')\n",
    "\n",
    "    plt.ylabel('Elevation [m]')\n",
    "    plt.xlabel('Distance [m]')\n",
    "    plt.title('Mesh, Polygon Area C')\n",
    "    plt.show()\n"
   ]
  },
  {
   "cell_type": "code",
   "execution_count": 54,
   "metadata": {},
   "outputs": [
    {
     "name": "stdout",
     "output_type": "stream",
     "text": [
      "47\n"
     ]
    }
   ],
   "source": [
    "surface1D_topography()"
   ]
  },
  {
   "cell_type": "code",
   "execution_count": 55,
   "metadata": {},
   "outputs": [
    {
     "name": "stdout",
     "output_type": "stream",
     "text": [
      "[ 0.          0.27521822  0.55043644  0.82565466  1.10087288  1.37609111\n",
      "  1.65130933  1.92652755  2.20174577  2.47696399  2.75218221  3.02740043\n",
      "  3.30261865  3.57783688  3.8530551   4.12827332  4.40349154  4.67870976\n",
      "  4.95392798  5.2291462   5.50436442  5.77958265  6.05480087  6.33001909\n",
      "  6.60523731  6.88045553  7.15567375  7.43089197  7.70611019  7.98132841\n",
      "  8.25654664  8.53176486  8.80698308  9.0822013   9.35741952  9.63263774\n",
      "  9.90785596 10.18307418 10.45829241 10.73351063 11.00872885 11.28394707\n",
      " 11.55916529 11.83438351 12.10960173 12.38481995 12.66003817]\n",
      "[4.83   4.835  4.8487 4.8689 4.8934 4.92   4.9466 4.9711 4.9913 5.005\n",
      " 5.01   5.0096 5.0084 5.0064 5.0038 5.0006 4.9968 4.9926 4.988  4.983\n",
      " 4.9778 4.9724 4.9668 4.9612 4.9556 4.95   4.9446 4.9393 4.9341 4.9292\n",
      " 4.9244 4.9198 4.9153 4.9111 4.9071 4.9034 4.8999 4.8966 4.8936 4.8909\n",
      " 4.8884 4.8862 4.8844 4.8828 4.8816 4.8807 4.8802]\n"
     ]
    }
   ],
   "source": [
    "print x\n",
    "print z_smooth"
   ]
  },
  {
   "cell_type": "code",
   "execution_count": 56,
   "metadata": {},
   "outputs": [
    {
     "name": "stdout",
     "output_type": "stream",
     "text": [
      "(94, 3) 2\n"
     ]
    }
   ],
   "source": [
    "reload(meshing_ats)\n",
    "if (topography_from_function1D or topography_from_Excel):\n",
    "    m2 = meshing_ats.Mesh2D.from_Transect(x,z_smooth)\n",
    "elif(topography_from_function2D):\n",
    "    m2 = meshing_ats.Mesh2D.from_2DSurface(Xf_2d,Yf_2d,Zf_2d) #1D x, 1D y, and 2D Z\n",
    "m2.plot()\n"
   ]
  },
  {
   "cell_type": "code",
   "execution_count": null,
   "metadata": {},
   "outputs": [],
   "source": []
  },
  {
   "cell_type": "code",
   "execution_count": 14,
   "metadata": {},
   "outputs": [
    {
     "name": "stdout",
     "output_type": "stream",
     "text": [
      "('Moss ', 0.02)\n",
      "('Peat ', 0.1)\n",
      "('Upper mineral ', 0.4000000000000001)\n",
      "('Ice rich', 3.716409519999923)\n",
      "41.2555869471\n",
      "\n",
      "You are using exodus.py v 1.05 (beta-cmake), a python wrapper of some of the exodus II library.\n",
      "\n",
      "Copyright (c) 2013, 2014, 2015, 2016, 2017 National Technology &\n",
      "Engineering Solutions of Sandia, LLC (NTESS).  Under the terms of\n",
      "Contract DE-NA0003525 with NTESS, the U.S. Government retains certain\n",
      "rights in this software.  \n",
      "\n",
      "Opening exodus file: /Users/ajc/Desktop/ATS/meshes/barrow-pie-wedges/areaC-3layers-om10cm-l0000.exo\n",
      "Closing exodus file: /Users/ajc/Desktop/ATS/meshes/barrow-pie-wedges/areaC-3layers-om10cm-l0000.exo\n"
     ]
    }
   ],
   "source": [
    "outfile = \"/Users/ajc/Desktop/ATS/meshes/barrow-pie-wedges/\"\n",
    "layer_types = []\n",
    "layer_data = []\n",
    "layer_ncells = []\n",
    "layer_mat_ids = []\n",
    "\n",
    "z=0\n",
    "Z = []\n",
    "\n",
    "for i in range(1):\n",
    "    layer_types.append('constant')\n",
    "    layer_data.append(0.02)\n",
    "    layer_ncells.append(1)\n",
    "    layer_mat_ids.append(1001)\n",
    "    z = z + 0.02\n",
    "    Z.append(z)\n",
    "print ('Moss ', z)\n",
    "\n",
    "for i in range(4):\n",
    "    layer_types.append('constant')\n",
    "    layer_data.append(0.02)\n",
    "    layer_ncells.append(1)\n",
    "    layer_mat_ids.append(1002)\n",
    "    z = z + 0.02\n",
    "    Z.append(z)\n",
    "print ('Peat ', z)\n",
    "\n",
    "for i in range(15): \n",
    "    layer_types.append('constant')\n",
    "    layer_data.append(0.02)\n",
    "    layer_ncells.append(1)\n",
    "    layer_mat_ids.append(1003)\n",
    "    z = z + 0.02\n",
    "    Z.append(z)\n",
    "print ('Upper mineral ', z)\n",
    "\n",
    "dz = .02\n",
    "for i in range(35):\n",
    "    dz *= 1.075\n",
    "    layer_types.append(\"constant\")\n",
    "    layer_data.append(dz)\n",
    "    layer_ncells.append(1)\n",
    "    layer_mat_ids.append(1003)\n",
    "    z = z + dz\n",
    "    Z.append(z)\n",
    "print ('Ice rich', z)\n",
    "\n",
    "for i in range(25):\n",
    "    dz *= 1.12\n",
    "    layer_types.append(\"constant\")\n",
    "    layer_data.append(dz)\n",
    "    layer_ncells.append(1)\n",
    "    layer_mat_ids.append(1003)\n",
    "    z = z + dz\n",
    "    Z.append(z)\n",
    "print (z)\n",
    "\n",
    "\n",
    "layer_types.append('snapped')\n",
    "layer_data.append(-45.0) # bottom location\n",
    "layer_ncells.append(1)\n",
    "layer_mat_ids.append(1003)\n",
    "\n",
    "m3 = meshing_ats.Mesh3D.extruded_Mesh2D(m2, layer_types, \n",
    "                                        layer_data, \n",
    "                                        layer_ncells, \n",
    "                                        layer_mat_ids)\n",
    "\n",
    "\n",
    "m3.write_exodus(outfile + \"areaC-3layers-om10cm-l.exo\")\n"
   ]
  },
  {
   "cell_type": "code",
   "execution_count": null,
   "metadata": {},
   "outputs": [],
   "source": []
  }
 ],
 "metadata": {
  "kernelspec": {
   "display_name": "Python 2",
   "language": "python",
   "name": "python2"
  },
  "language_info": {
   "codemirror_mode": {
    "name": "ipython",
    "version": 2
   },
   "file_extension": ".py",
   "mimetype": "text/x-python",
   "name": "python",
   "nbconvert_exporter": "python",
   "pygments_lexer": "ipython2",
   "version": "2.7.14"
  }
 },
 "nbformat": 4,
 "nbformat_minor": 2
}
