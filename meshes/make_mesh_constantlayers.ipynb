{
 "cells": [
  {
   "cell_type": "code",
   "execution_count": null,
   "metadata": {},
   "outputs": [],
   "source": [
    "# Generates 2D and 3D mesh from a function or topography from a file/function\n",
    "# Organic layering have constant thickness\n",
    "%matplotlib"
   ]
  },
  {
   "cell_type": "code",
   "execution_count": null,
   "metadata": {},
   "outputs": [],
   "source": []
  },
  {
   "cell_type": "code",
   "execution_count": 1,
   "metadata": {},
   "outputs": [],
   "source": [
    "import sys, os\n",
    "\n",
    "#sys.path.append(os.path.join(os.environ['ATS_SRC_DIR'],'tools','meshing_ats'))\n",
    "sys.path.append('/Users/ajc/Core/codes/simulator/debug/ats-mesh/tools/meshing_ats/meshing_ats')\n",
    "import meshing_ats\n",
    "\n",
    "import numpy as np\n",
    "import pandas as pd\n",
    "from matplotlib import pyplot as plt\n",
    "import scipy.signal\n",
    "import math"
   ]
  },
  {
   "cell_type": "code",
   "execution_count": 2,
   "metadata": {},
   "outputs": [
    {
     "name": "stdout",
     "output_type": "stream",
     "text": [
      "/Users/ajc/Core/codes/simulator/debug/ats-mesh/tools/meshing_ats/meshing_ats/meshing_ats.py\n"
     ]
    }
   ],
   "source": [
    "print(meshing_ats.__file__)"
   ]
  },
  {
   "cell_type": "code",
   "execution_count": 3,
   "metadata": {},
   "outputs": [],
   "source": [
    "topography_from_Excel = False\n",
    "topography_from_function1D = False\n",
    "topography_from_function2D = False\n",
    "topography_from_function1D_Tidal = True"
   ]
  },
  {
   "cell_type": "code",
   "execution_count": 4,
   "metadata": {},
   "outputs": [
    {
     "data": {
      "image/png": "[encoded data removed]",
      "text/plain": [
       "<Figure size 432x288 with 1 Axes>"
      ]
     },
     "metadata": {
      "needs_background": "light"
     },
     "output_type": "display_data"
    }
   ],
   "source": [
    "# Plot the topography here so make sure data is read correctly\n",
    "# if topography is provided through Excel sheet\n",
    "if (topography_from_Excel):\n",
    "    xl =pd.ExcelFile('Topo_Profiles_Barrow.xlsx')\n",
    "    xl.sheet_names\n",
    "    data = xl.parse(sheet_name='Transect B, Area C')\n",
    "    keys = data.keys()\n",
    "    plt.plot(data['Distance_m'], data['Z'])\n",
    "    plt.ylabel('Elevation')\n",
    "    plt.title('Topography, Polygon Area C')\n",
    "    plt.xlabel('Distance [m] (trough-to-trough)')\n",
    "    plt.show()\n",
    "    \n",
    "# To get topography from a 1D function, define it here, e.g., z = sine(x)\n",
    "if(topography_from_function1D):\n",
    "    A = 0.15\n",
    "    k1 = math.pi - 100\n",
    "    m = .01\n",
    "    Xf_1d = np.linspace(0,100,101)\n",
    "    Zf_1d = A*np.sin(k1*Xf_1d) + m*Xf_1d\n",
    "    plt.plot(Xf_1d,Zf_1d)\n",
    "    \n",
    "# To get topography from a 2D function, define it here, e.g., z = sine(x,y)\n",
    "if(topography_from_function2D):\n",
    "    A = 0.15\n",
    "    k1 = math.pi\n",
    "    k2 = math.pi\n",
    "    m = 0.1\n",
    "    Xf_2d = np.linspace(0,2,101)\n",
    "    Yf_2d = np.linspace(0,2,101)\n",
    "    [Xf,Yf] = np.meshgrid(Xf_2d,Yf_2d)\n",
    "\n",
    "    Zf_2d = A*np.sin(k1*Xf)*np.sin(k2*Yf) + m*Xf\n",
    "\n",
    "    plt.contourf(Xf,Yf,Zf_2d)\n",
    "    \n",
    "# To get topography from a 1D function, define it here, e.g., z = sine(x)\n",
    "if(topography_from_function1D_Tidal):\n",
    "    A = 0.5\n",
    "    k1 = math.pi - 100\n",
    "    m = .1\n",
    "    L = 10\n",
    "    Xf_1d = np.linspace(0,L,L+200)\n",
    "    #Zf_1d = A*np.sin(k1*Xf_1d) #+ m*Xf_1d\n",
    "    #Zf_1d = np.sin(2*np.pi*5*Xf_1d/L)\n",
    "    #plt.plot(Xf_1d,Zf_1d)\n",
    "    lambda1 = 1\n",
    "    omega =10* np.pi\n",
    "    phi = 0\n",
    "    A = 1\n",
    "    Zf_1d = 1 + np.exp(-Xf_1d) * np.cos(2 *np.pi * Xf_1d)\n",
    "    #m = \n",
    "    Zf_1d = 5 + np.cos(2 *np.pi * Xf_1d) - m*Xf_1d\n",
    "    plt.plot(Xf_1d,Zf_1d)\n",
    "    L = 10\n",
    "    Xf_1d_1 = np.linspace(Xf_1d[-11],Xf_1d[-11]+L,L+200)\n",
    "    Zf_1d_1 = Zf_1d[-11]-0.1*Xf_1d\n",
    "    \n",
    "    #plt.plot(Xf_1d_1,Zf_1d_1)\n",
    "    Zf_1d_2 = np.concatenate((Zf_1d[:-10], Zf_1d_1))\n",
    "    Xf_1d_2 = np.concatenate((Xf_1d[:-10], Xf_1d_1))\n",
    "    plt.plot(Xf_1d_2,Zf_1d_2,'r*')\n",
    "    Zf_1d = Zf_1d_2\n",
    "    Xf_1d = Xf_1d_2\n",
    "    "
   ]
  },
  {
   "cell_type": "code",
   "execution_count": null,
   "metadata": {},
   "outputs": [],
   "source": []
  },
  {
   "cell_type": "code",
   "execution_count": null,
   "metadata": {},
   "outputs": [],
   "source": [
    "\n"
   ]
  },
  {
   "cell_type": "code",
   "execution_count": null,
   "metadata": {},
   "outputs": [],
   "source": []
  },
  {
   "cell_type": "code",
   "execution_count": 5,
   "metadata": {},
   "outputs": [],
   "source": [
    "# smooth the topographic data'\n",
    "\n",
    "def surface1D_topography():\n",
    "    assert topography_from_Excel or topography_from_function1D or topography_from_function1D_Tidal\n",
    "    global x \n",
    "    global z \n",
    "    global z_smooth\n",
    "    x_index = []\n",
    "    if topography_from_Excel:\n",
    "        x = np.array(data['Distance_m'])\n",
    "        z = np.array(data['Z'])\n",
    "        x_index = [0, 10, 25, len(x)-30] # indices for smoothing interval\n",
    "        l = x_index[3]\n",
    "        #print l\n",
    "    elif (topography_from_function1D):\n",
    "        x = Xf_1d\n",
    "        z = Zf_1d\n",
    "        x_index = [0, 9, 26, len(x)-1] # indices for smoothing interval\n",
    "    elif (topography_from_function1D_Tidal):\n",
    "        x = Xf_1d\n",
    "        z = Zf_1d\n",
    "        #x_index = [0, 9, 26, len(x)-1] # indices for smoothing interval\n",
    "    \n",
    "    smoothed= True\n",
    "    if(topography_from_function1D_Tidal):\n",
    "        smoothed= False\n",
    "        l = -1\n",
    "    z_smooth = z\n",
    "    if (smoothed):\n",
    "        x1 = [x[x_index[0]], x[x_index[1]]]\n",
    "        z1 = [z[x_index[0]], z[x_index[1]]]\n",
    "\n",
    "        x2 = [x[x_index[1]], x[x_index[2]], x[x_index[3]]]\n",
    "        z2 = [z[x_index[1]], z[x_index[2]], z[x_index[3]]]\n",
    "\n",
    "        cs1 = scipy.interpolate.CubicSpline(x1,z1, bc_type='clamped')\n",
    "        cs2 = scipy.interpolate.CubicSpline(x2,z2, bc_type='clamped')\n",
    "\n",
    "\n",
    "        z_smooth = np.concatenate((cs1(x[:11]), cs2(x[11:l])))\n",
    "\n",
    "    z_smooth = np.array([round(s,4) for s in z_smooth])\n",
    "    x = x\n",
    "    plt.plot(x, z_smooth, '-.', color = 'k')\n",
    "    #plt.plot(x1,z1,'*', color='c')\n",
    "    #plt.plot(x2,z2,'*', color='c')\n",
    "\n",
    "    plt.ylabel('Elevation [m]')\n",
    "    plt.xlabel('Distance [m]')\n",
    "    plt.title('Mesh, Polygon Area C')\n",
    "    plt.show()\n"
   ]
  },
  {
   "cell_type": "code",
   "execution_count": 6,
   "metadata": {},
   "outputs": [
    {
     "data": {
      "image/png": "[encoded data removed]",
      "text/plain": [
       "<Figure size 432x288 with 1 Axes>"
      ]
     },
     "metadata": {
      "needs_background": "light"
     },
     "output_type": "display_data"
    }
   ],
   "source": [
    "surface1D_topography()"
   ]
  },
  {
   "cell_type": "code",
   "execution_count": 7,
   "metadata": {},
   "outputs": [
    {
     "name": "stdout",
     "output_type": "stream",
     "text": [
      "[ 0.          0.04784689  0.09569378  0.14354067  0.19138756  0.23923445\n",
      "  0.28708134  0.33492823  0.38277512  0.43062201  0.4784689   0.52631579\n",
      "  0.57416268  0.62200957  0.66985646  0.71770335  0.76555024  0.81339713\n",
      "  0.86124402  0.90909091  0.9569378   1.00478469  1.05263158  1.10047847\n",
      "  1.14832536  1.19617225  1.24401914  1.29186603  1.33971292  1.38755981\n",
      "  1.4354067   1.48325359  1.53110048  1.57894737  1.62679426  1.67464115\n",
      "  1.72248804  1.77033493  1.81818182  1.86602871  1.9138756   1.96172249\n",
      "  2.00956938  2.05741627  2.10526316  2.15311005  2.20095694  2.24880383\n",
      "  2.29665072  2.34449761  2.3923445   2.44019139  2.48803828  2.53588517\n",
      "  2.58373206  2.63157895  2.67942584  2.72727273  2.77511962  2.82296651\n",
      "  2.8708134   2.91866029  2.96650718  3.01435407  3.06220096  3.11004785\n",
      "  3.15789474  3.20574163  3.25358852  3.30143541  3.3492823   3.39712919\n",
      "  3.44497608  3.49282297  3.54066986  3.58851675  3.63636364  3.68421053\n",
      "  3.73205742  3.77990431  3.8277512   3.87559809  3.92344498  3.97129187\n",
      "  4.01913876  4.06698565  4.11483254  4.16267943  4.21052632  4.25837321\n",
      "  4.3062201   4.35406699  4.40191388  4.44976077  4.49760766  4.54545455\n",
      "  4.59330144  4.64114833  4.68899522  4.73684211  4.784689    4.83253589\n",
      "  4.88038278  4.92822967  4.97607656  5.02392344  5.07177033  5.11961722\n",
      "  5.16746411  5.215311    5.26315789  5.31100478  5.35885167  5.40669856\n",
      "  5.45454545  5.50239234  5.55023923  5.59808612  5.64593301  5.6937799\n",
      "  5.74162679  5.78947368  5.83732057  5.88516746  5.93301435  5.98086124\n",
      "  6.02870813  6.07655502  6.12440191  6.1722488   6.22009569  6.26794258\n",
      "  6.31578947  6.36363636  6.41148325  6.45933014  6.50717703  6.55502392\n",
      "  6.60287081  6.6507177   6.69856459  6.74641148  6.79425837  6.84210526\n",
      "  6.88995215  6.93779904  6.98564593  7.03349282  7.08133971  7.1291866\n",
      "  7.17703349  7.22488038  7.27272727  7.32057416  7.36842105  7.41626794\n",
      "  7.46411483  7.51196172  7.55980861  7.6076555   7.65550239  7.70334928\n",
      "  7.75119617  7.79904306  7.84688995  7.89473684  7.94258373  7.99043062\n",
      "  8.03827751  8.0861244   8.13397129  8.18181818  8.22966507  8.27751196\n",
      "  8.32535885  8.37320574  8.42105263  8.46889952  8.51674641  8.5645933\n",
      "  8.61244019  8.66028708  8.70813397  8.75598086  8.80382775  8.85167464\n",
      "  8.89952153  8.94736842  8.99521531  9.0430622   9.09090909  9.13875598\n",
      "  9.18660287  9.23444976  9.28229665  9.33014354  9.37799043  9.42583732\n",
      "  9.47368421  9.5215311   9.5215311   9.56937799  9.61722488  9.66507177\n",
      "  9.71291866  9.76076555  9.80861244  9.85645933  9.90430622  9.95215311\n",
      " 10.         10.04784689 10.09569378 10.14354067 10.19138756 10.23923445\n",
      " 10.28708134 10.33492823 10.38277512 10.43062201 10.4784689  10.52631579\n",
      " 10.57416268 10.62200957 10.66985646 10.71770335 10.76555024 10.81339713\n",
      " 10.86124402 10.90909091 10.9569378  11.00478469 11.05263158 11.10047847\n",
      " 11.14832536 11.19617225 11.24401914 11.29186603 11.33971292 11.38755981\n",
      " 11.4354067  11.48325359 11.53110048 11.57894737 11.62679426 11.67464115\n",
      " 11.72248804 11.77033493 11.81818182 11.86602871 11.9138756  11.96172249\n",
      " 12.00956938 12.05741627 12.10526316 12.15311005 12.20095694 12.24880383\n",
      " 12.29665072 12.34449761 12.3923445  12.44019139 12.48803828 12.53588517\n",
      " 12.58373206 12.63157895 12.67942584 12.72727273 12.77511962 12.82296651\n",
      " 12.8708134  12.91866029 12.96650718 13.01435407 13.06220096 13.11004785\n",
      " 13.15789474 13.20574163 13.25358852 13.30143541 13.3492823  13.39712919\n",
      " 13.44497608 13.49282297 13.54066986 13.58851675 13.63636364 13.68421053\n",
      " 13.73205742 13.77990431 13.8277512  13.87559809 13.92344498 13.97129187\n",
      " 14.01913876 14.06698565 14.11483254 14.16267943 14.21052632 14.25837321\n",
      " 14.3062201  14.35406699 14.40191388 14.44976077 14.49760766 14.54545455\n",
      " 14.59330144 14.64114833 14.68899522 14.73684211 14.784689   14.83253589\n",
      " 14.88038278 14.92822967 14.97607656 15.02392344 15.07177033 15.11961722\n",
      " 15.16746411 15.215311   15.26315789 15.31100478 15.35885167 15.40669856\n",
      " 15.45454545 15.50239234 15.55023923 15.59808612 15.64593301 15.6937799\n",
      " 15.74162679 15.78947368 15.83732057 15.88516746 15.93301435 15.98086124\n",
      " 16.02870813 16.07655502 16.12440191 16.1722488  16.22009569 16.26794258\n",
      " 16.31578947 16.36363636 16.41148325 16.45933014 16.50717703 16.55502392\n",
      " 16.60287081 16.6507177  16.69856459 16.74641148 16.79425837 16.84210526\n",
      " 16.88995215 16.93779904 16.98564593 17.03349282 17.08133971 17.1291866\n",
      " 17.17703349 17.22488038 17.27272727 17.32057416 17.36842105 17.41626794\n",
      " 17.46411483 17.51196172 17.55980861 17.6076555  17.65550239 17.70334928\n",
      " 17.75119617 17.79904306 17.84688995 17.89473684 17.94258373 17.99043062\n",
      " 18.03827751 18.0861244  18.13397129 18.18181818 18.22966507 18.27751196\n",
      " 18.32535885 18.37320574 18.42105263 18.46889952 18.51674641 18.5645933\n",
      " 18.61244019 18.66028708 18.70813397 18.75598086 18.80382775 18.85167464\n",
      " 18.89952153 18.94736842 18.99521531 19.0430622  19.09090909 19.13875598\n",
      " 19.18660287 19.23444976 19.28229665 19.33014354 19.37799043 19.42583732\n",
      " 19.47368421 19.5215311 ]\n",
      "[6.     5.9504 5.8151 5.6058 5.3409 5.0437 4.7404 4.4579 4.2209 4.0505\n",
      " 3.9613 3.961  4.0492 4.2175 4.4505 4.7267 5.021  5.3065 5.5573 5.7503\n",
      " 5.8679 5.8991 5.8406 5.6972 5.4814 5.2122 4.9132 4.6108 4.3317 4.1006\n",
      " 3.9377 3.8572 3.8659 3.9626 4.1382 4.3765 4.6557 4.9504 5.2336 5.4795\n",
      " 5.6657 5.775  5.7972 5.7299 5.5786 5.3566 5.0832 4.7826 4.4814 4.2061\n",
      " 3.9809 3.8258 3.754  3.7717 3.8769 4.0596 4.303  4.585  4.8797 5.1603\n",
      " 5.4012 5.5804 5.6813 5.6945 5.6184 5.4593 5.2312 4.9539 4.6521 4.3523\n",
      " 4.0809 3.862  3.7147 3.6517 3.6784 3.7919 3.9815 4.2299 4.5143 4.8088\n",
      " 5.0865 5.3222 5.4942 5.5866 5.5909 5.506  5.3393 5.1053 4.8244 4.5216\n",
      " 4.2234 3.9563 3.7438 3.6044 3.5504 3.586  3.7076 3.904  4.1571 4.4437\n",
      " 4.7378 5.0124 5.2426 5.4072 5.4911 5.4863 5.3929 5.2187 4.9789 4.6947\n",
      " 4.3911 4.0949 3.8323 3.6263 3.4951 3.4499 3.4944 3.6242 3.8271 4.0847\n",
      " 4.3733 4.6665 4.9378 5.1623 5.3194 5.3947 5.3809 5.2789 5.0973 4.8521\n",
      " 4.5648 4.2607 3.9667 3.7088 3.5096 3.3865 3.3503 3.4037 3.5414 3.7508\n",
      " 4.0126 4.3028 4.5951 4.8627 5.0813 5.2308 5.2974 5.2746 5.1641 4.9753\n",
      " 4.7249 4.4347 4.1304 3.8389 3.5859 3.3936 3.2789 3.2516 3.3138 3.4594\n",
      " 3.675  3.9407 4.2324 4.5234 4.7872 4.9997 5.1414 5.1991 5.1674 5.0485\n",
      " 4.8527 4.5972 4.3045 4.0002 3.7115 3.4636 3.2784 3.1721 3.1539 3.2248\n",
      " 3.3781 3.5997 3.8692 4.162  4.4514 4.7111 4.9173 5.0511 5.1    5.0593\n",
      " 4.9322 4.7296 4.4692 4.1741 3.8702 3.5844 3.3419 3.164  3.0663 3.057\n",
      " 3.057  3.0522 3.0474 3.0426 3.0378 3.0331 3.0283 3.0235 3.0187 3.0139\n",
      " 3.0091 3.0044 2.9996 2.9948 2.99   2.9852 2.9804 2.9756 2.9709 2.9661\n",
      " 2.9613 2.9565 2.9517 2.9469 2.9422 2.9374 2.9326 2.9278 2.923  2.9182\n",
      " 2.9134 2.9087 2.9039 2.8991 2.8943 2.8895 2.8847 2.88   2.8752 2.8704\n",
      " 2.8656 2.8608 2.856  2.8512 2.8465 2.8417 2.8369 2.8321 2.8273 2.8225\n",
      " 2.8177 2.813  2.8082 2.8034 2.7986 2.7938 2.789  2.7843 2.7795 2.7747\n",
      " 2.7699 2.7651 2.7603 2.7555 2.7508 2.746  2.7412 2.7364 2.7316 2.7268\n",
      " 2.7221 2.7173 2.7125 2.7077 2.7029 2.6981 2.6933 2.6886 2.6838 2.679\n",
      " 2.6742 2.6694 2.6646 2.6599 2.6551 2.6503 2.6455 2.6407 2.6359 2.6311\n",
      " 2.6264 2.6216 2.6168 2.612  2.6072 2.6024 2.5977 2.5929 2.5881 2.5833\n",
      " 2.5785 2.5737 2.5689 2.5642 2.5594 2.5546 2.5498 2.545  2.5402 2.5355\n",
      " 2.5307 2.5259 2.5211 2.5163 2.5115 2.5067 2.502  2.4972 2.4924 2.4876\n",
      " 2.4828 2.478  2.4733 2.4685 2.4637 2.4589 2.4541 2.4493 2.4445 2.4398\n",
      " 2.435  2.4302 2.4254 2.4206 2.4158 2.4111 2.4063 2.4015 2.3967 2.3919\n",
      " 2.3871 2.3823 2.3776 2.3728 2.368  2.3632 2.3584 2.3536 2.3488 2.3441\n",
      " 2.3393 2.3345 2.3297 2.3249 2.3201 2.3154 2.3106 2.3058 2.301  2.2962\n",
      " 2.2914 2.2866 2.2819 2.2771 2.2723 2.2675 2.2627 2.2579 2.2532 2.2484\n",
      " 2.2436 2.2388 2.234  2.2292 2.2244 2.2197 2.2149 2.2101 2.2053 2.2005\n",
      " 2.1957 2.191  2.1862 2.1814 2.1766 2.1718 2.167  2.1622 2.1575 2.1527\n",
      " 2.1479 2.1431 2.1383 2.1335 2.1288 2.124  2.1192 2.1144 2.1096 2.1048\n",
      " 2.1    2.0953 2.0905 2.0857 2.0809 2.0761 2.0713 2.0666 2.0618 2.057 ]\n"
     ]
    }
   ],
   "source": [
    "print (x)\n",
    "print (z_smooth)"
   ]
  },
  {
   "cell_type": "code",
   "execution_count": 8,
   "metadata": {},
   "outputs": [
    {
     "data": {
      "image/png": "[encoded data removed]",
      "text/plain": [
       "<Figure size 432x288 with 1 Axes>"
      ]
     },
     "metadata": {
      "needs_background": "light"
     },
     "output_type": "display_data"
    }
   ],
   "source": [
    "#reload(meshing_ats)\n",
    "if (topography_from_function1D or topography_from_Excel or topography_from_function1D_Tidal):\n",
    "    m2 = meshing_ats.Mesh2D.from_Transect(x,z_smooth)\n",
    "elif(topography_from_function2D):\n",
    "    m2 = meshing_ats.Mesh2D.from_2DSurface(Xf_2d,Yf_2d,Zf_2d) #1D x, 1D y, and 2D Z\n",
    "m2.plot()\n"
   ]
  },
  {
   "cell_type": "code",
   "execution_count": null,
   "metadata": {},
   "outputs": [],
   "source": []
  },
  {
   "cell_type": "code",
   "execution_count": 11,
   "metadata": {},
   "outputs": [
    {
     "name": "stdout",
     "output_type": "stream",
     "text": [
      "Moss  0.02\n",
      "Peat  0.1\n",
      "Upper mineral  0.4000000000000001\n",
      "Ice rich 3.716409519999923\n",
      "41.2555869470643\n",
      "\n",
      "You are using exodus.py v 1.19.1 (seacas-py3), a python wrapper of some of the exodus library.\n",
      "\n",
      "Copyright (c) 2013, 2014, 2015, 2016, 2017, 2018, 2019 National Technology &\n",
      "Engineering Solutions of Sandia, LLC (NTESS).  Under the terms of\n",
      "Contract DE-NA0003525 with NTESS, the U.S. Government retains certain\n",
      "rights in this software.\n",
      "\n",
      "Opening exodus file: topo_tidal_5layers.exo\n",
      "Closing exodus file: topo_tidal_5layers.exo\n"
     ]
    }
   ],
   "source": [
    "outfile = \"/Users/ajc/Desktop/ATS/meshes/barrow-pie-wedges/\"\n",
    "layer_types = []\n",
    "layer_data = []\n",
    "layer_ncells = []\n",
    "layer_mat_ids = []\n",
    "\n",
    "z=0\n",
    "Z = []\n",
    "\n",
    "for i in range(1):\n",
    "    layer_types.append('constant')\n",
    "    layer_data.append(0.02)\n",
    "    layer_ncells.append(1)\n",
    "    layer_mat_ids.append(1001)\n",
    "    z = z + 0.02\n",
    "    Z.append(z)\n",
    "print ('Moss ', z)\n",
    "\n",
    "for i in range(4):\n",
    "    layer_types.append('constant')\n",
    "    layer_data.append(0.02)\n",
    "    layer_ncells.append(1)\n",
    "    layer_mat_ids.append(1002)\n",
    "    z = z + 0.02\n",
    "    Z.append(z)\n",
    "print ('Peat ', z)\n",
    "\n",
    "for i in range(15): \n",
    "    layer_types.append('constant')\n",
    "    layer_data.append(0.02)\n",
    "    layer_ncells.append(1)\n",
    "    layer_mat_ids.append(1003)\n",
    "    z = z + 0.02\n",
    "    Z.append(z)\n",
    "print ('Upper mineral ', z)\n",
    "\n",
    "dz = .02\n",
    "for i in range(35):\n",
    "    dz *= 1.075\n",
    "    layer_types.append(\"constant\")\n",
    "    layer_data.append(dz)\n",
    "    layer_ncells.append(1)\n",
    "    layer_mat_ids.append(1003)\n",
    "    z = z + dz\n",
    "    Z.append(z)\n",
    "print ('Ice rich', z)\n",
    "\n",
    "for i in range(25):\n",
    "    dz *= 1.12\n",
    "    layer_types.append(\"constant\")\n",
    "    layer_data.append(dz)\n",
    "    layer_ncells.append(1)\n",
    "    layer_mat_ids.append(1003)\n",
    "    z = z + dz\n",
    "    Z.append(z)\n",
    "print (z)\n",
    "\n",
    "\n",
    "layer_types.append('snapped')\n",
    "layer_data.append(-45.0) # bottom location\n",
    "layer_ncells.append(1)\n",
    "layer_mat_ids.append(1003)\n",
    "\n",
    "m3 = meshing_ats.Mesh3D.extruded_Mesh2D(m2, layer_types, \n",
    "                                        layer_data, \n",
    "                                        layer_ncells, \n",
    "                                        layer_mat_ids)\n",
    "\n",
    "file= \"topo_tidal_5layers.exo\"\n",
    "m3.write_exodus(file.encode('utf8'))\n",
    "#m3.write_exodus( u\"topo_tidal_5layers.exo\")\n"
   ]
  },
  {
   "cell_type": "code",
   "execution_count": null,
   "metadata": {},
   "outputs": [],
   "source": []
  }
 ],
 "metadata": {
  "kernelspec": {
   "display_name": "Python 3",
   "language": "python",
   "name": "python3"
  },
  "language_info": {
   "codemirror_mode": {
    "name": "ipython",
    "version": 3
   },
   "file_extension": ".py",
   "mimetype": "text/x-python",
   "name": "python",
   "nbconvert_exporter": "python",
   "pygments_lexer": "ipython3",
   "version": "3.7.6"
  }
 },
 "nbformat": 4,
 "nbformat_minor": 2
}
