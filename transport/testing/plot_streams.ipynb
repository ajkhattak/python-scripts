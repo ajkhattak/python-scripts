{
 "cells": [
  {
   "cell_type": "code",
   "execution_count": 1,
   "metadata": {},
   "outputs": [],
   "source": [
    "import numpy as np\n",
    "import matplotlib\n",
    "import matplotlib.pyplot as plt\n",
    "import h5py\n",
    "\n",
    "from matplotlib import animation\n",
    "from matplotlib import cm\n",
    "from mpl_toolkits import mplot3d\n",
    "\n",
    "import os"
   ]
  },
  {
   "cell_type": "code",
   "execution_count": 2,
   "metadata": {},
   "outputs": [
    {
     "name": "stdout",
     "output_type": "stream",
     "text": [
      "1\n"
     ]
    }
   ],
   "source": [
    "#Comparison with Scott's data on a single reach\n",
    "#Scott's data\n",
    "single_reach = 1\n",
    "path = '/Users/ajc/Core/Projects/ATS-Data/OR-CONDO/mytests-orhydra/ats-transport-subgrid-testsuite/tests-new/logical-surface-twoway/'\n",
    "path_new = '/Users/ajc/Core/Projects/ATS-Data/OR-CONDO/mytests-orhydra/ats-transport-subgrid-testsuite/tests-updated/logical-surface-twoway/'\n",
    "\n",
    "path_cades='/Users/ajc/FUSE/simulations/tests/ats-tests/ats-transport-subgrid-testsuite/tests/logical-surface-twoway'\n",
    "\n",
    "Data_Scott = np.loadtxt(path+'/transport/ref_data.dat')\n",
    "if single_reach:\n",
    "    print (single_reach)\n",
    "    #Data_old = np.loadtxt(path_cades+'/transport-logical/test-old/surface-outlet.dat',skiprows=6)\n",
    "    #Data_new = np.loadtxt(path_cades+'/transport-logical/test-new/surface-outlet.dat',skiprows=6)\n",
    "    Data_updated = np.loadtxt(path_cades+'/transport-logical/test-updated1/surface-outlet.dat',skiprows=6)\n",
    "    \n",
    "    #Data_old = np.loadtxt(path_cades+'/transport-logical/trash/surface-outlet.dat',skiprows=6)\n",
    "else:\n",
    "    Data_old = np.loadtxt(path_cades+'/transport-logical_3streams/test-old/surface-outlet.dat',skiprows=6)\n",
    "    Data_new = np.loadtxt(path_new+'/transport-logical/test-new/surface-outlet.dat',skiprows=6)\n",
    "    Data_updated = np.loadtxt(path_cades+'/transport-logical_3streams/test-updated/surface-outlet.dat',skiprows=6)\n",
    "\n",
    "#Data_Time = np.array([x[0]/3600. for x in Data_old])\n",
    "Data_Time_up = np.array([x[0]/3600. for x in Data_updated])\n",
    "\n",
    "#Data_old = np.array([x[1] for x in Data_old])\n",
    "#Data_new = np.array([x[1] for x in Data_new])\n",
    "Data_updated = np.array([x[1] for x in Data_updated])\n",
    "\n",
    "l = len(Data_Time_up)\n",
    "#print (len(Data_Scott), len(Data_Time))\n"
   ]
  },
  {
   "cell_type": "code",
   "execution_count": null,
   "metadata": {},
   "outputs": [],
   "source": [
    "%matplotlib tk\n",
    "\"\"\"\n",
    "plt.plot(Data_Time,Data_old,'k', marker = \".\", label ='Logical mesh (v0.87)')\n",
    "#plt.plot(Data_Time,Data_new,'k', marker = \".\", label ='Logical mesh (v0.88)')\n",
    "plt.plot(Data_Time_up,Data_updated,'c', marker = \".\", label ='Logical mesh (v0.88,updated)')\n",
    "plt.plot(Data_Time,Data_Scott[:l],'r', marker = \".\", label ='Scott\\'s solution')\n",
    "\"\"\"\n",
    "\n",
    "#plt.plot(Data_Time,Data_old,'k', marker = \".\", label ='pd = 0.001')\n",
    "plt.plot(Data_Time_up,Data_updated,'c', marker = \".\", label ='pd = 1')\n",
    "plt.plot(Data_Time_up,Data_Scott[:l],'r', marker = \".\", label ='Scott\\'s solution')\n",
    "\n",
    "plt.legend()\n",
    "plt.xlabel('Time [hr]', fontsize=12,fontweight='normal')\n",
    "plt.ylabel('Concentration [kg/m$^3$]', fontsize=12,fontweight='normal')\n",
    "plt.title('1-Reach: Component concentration at x = 1000 m', fontsize = 14)\n",
    "#plt.title('3-Reach: Component concentration at downstream outlet', fontsize = 14)\n",
    "plt.ylim([-0.005 ,1.01])"
   ]
  },
  {
   "cell_type": "code",
   "execution_count": null,
   "metadata": {},
   "outputs": [],
   "source": [
    "# Transport only runs\n",
    "\n",
    "path_new = '/Users/ajc/Projects/ATS-Data/OR-CONDO/mytests-orhydra/ats-transport-subgrid-testsuite/tests-updated/'\n",
    "\n",
    "Data_Gen = np.loadtxt(path_new+'/transport/test0/surface-outlet.dat',skiprows=6)\n",
    "\n",
    "Data_Log1 = np.loadtxt(path_new+'/transport-logical/test0/surface-outlet-new.dat',skiprows=6)\n",
    "\n",
    "Data_Log2 = np.loadtxt(path_new+'/transport-logical/test0/surface-outlet.dat',skiprows=6)\n",
    "\n",
    "#Data_Log2 = np.loadtxt(path_new+'/logical-surface-twoway/transport-logical/test0/surface-outlet_pd0-5496.dat',skiprows=6)\n",
    "#Data_Log3 = np.loadtxt(path_new+'/logical-surface-twoway/transport-logical/test0/surface-outlet.dat',skiprows=6)\n",
    "\n",
    "Data_Gen = np.array([x[1] for x in Data_Gen])\n",
    "Data_Log1 = np.array([x[1] for x in Data_Log1])\n",
    "Data_Log2 = np.array([x[1] for x in Data_Log2])\n",
    "#Data_Log3 = np.array([x[1] for x in Data_Log3])\n",
    "plt.plot(Data_Time,Data_Gen,'c', marker = \".\", label ='Generated mesh')\n",
    "plt.plot(Data_Time,Data_Log1,'b.', marker = \".\", label ='Cross Area')\n",
    "plt.plot(Data_Time,Data_Log2,'k.', marker = \".\", label ='PD')\n",
    "#plt.plot(Data_Time,Data_Log3,'r', marker = \".\", label =' old ')"
   ]
  },
  {
   "cell_type": "code",
   "execution_count": null,
   "metadata": {},
   "outputs": [],
   "source": []
  }
 ],
 "metadata": {
  "kernelspec": {
   "display_name": "Python 3",
   "language": "python",
   "name": "python3"
  },
  "language_info": {
   "codemirror_mode": {
    "name": "ipython",
    "version": 3
   },
   "file_extension": ".py",
   "mimetype": "text/x-python",
   "name": "python",
   "nbconvert_exporter": "python",
   "pygments_lexer": "ipython3",
   "version": "3.7.3"
  }
 },
 "nbformat": 4,
 "nbformat_minor": 2
}
