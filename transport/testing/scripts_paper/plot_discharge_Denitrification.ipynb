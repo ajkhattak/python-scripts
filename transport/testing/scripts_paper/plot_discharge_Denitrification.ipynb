{
 "cells": [
  {
   "cell_type": "code",
   "execution_count": 1,
   "metadata": {},
   "outputs": [],
   "source": [
    "import numpy as np\n",
    "import matplotlib\n",
    "import matplotlib.pyplot as plt\n",
    "import h5py\n",
    "\n",
    "from matplotlib import animation\n",
    "from matplotlib import cm\n",
    "from mpl_toolkits import mplot3d\n",
    "\n",
    "import os,sys\n",
    "\n",
    "sys.path.append('/Users/ajc/Core/PreProcessing/PyScript')\n",
    "import readdata as rd\n",
    "import seaborn as sns"
   ]
  },
  {
   "cell_type": "code",
   "execution_count": null,
   "metadata": {},
   "outputs": [],
   "source": []
  },
  {
   "cell_type": "code",
   "execution_count": 2,
   "metadata": {},
   "outputs": [
    {
     "data": {
      "text/plain": [
       "array(['FarmForest_BGC_S1'], dtype='<U32')"
      ]
     },
     "execution_count": 2,
     "metadata": {},
     "output_type": "execute_result"
    }
   ],
   "source": [
    "#SimNBGC = ['FarmForest_NBGC_S%s'%(i+3) for i in range(2)]\n",
    "SimNBGC = ['FarmForest_NBGC_S%s'%(i+1) for i in range(0)]\n",
    "SimBGC = ['FarmForest_BGC_S%s'%(i+1) for i in range(1)]\n",
    "dir_name='SIM_10'\n",
    "#path = '/Users/ajc/Core/simulations/projections/stream_hz/SIM_02/'\n",
    "path='/Users/ajc/FUSE/simulations/production/stream_hz/%s/'%dir_name\n",
    "Simulations = np.concatenate([SimNBGC, SimBGC])\n",
    "#Simulations = np.concatenate([SimNBGC,]) \n",
    "Colors = ['r','k','b','g','gray']\n",
    "Sim_dis = [r'NBGC ($\\alpha$=1E-4)',r'NBGC ($\\alpha$=2.5E-4)',r'BGC ($\\alpha$=1E-4)',r\"BGC ($\\alpha$=2.5E-4)\"]\n",
    "outfile='/Users/ajc/Core/PostProcessing/2020/StreamHyporheic/Nov11/'\n",
    "Simulations"
   ]
  },
  {
   "cell_type": "code",
   "execution_count": 3,
   "metadata": {},
   "outputs": [],
   "source": [
    "components = [(1,'DOM1'), (3,'NO3-'),(2,'O2(aq)')]\n",
    "marks = ['solid','dashed', 'dotted', 'dashdot']"
   ]
  },
  {
   "cell_type": "code",
   "execution_count": 4,
   "metadata": {},
   "outputs": [],
   "source": [
    "#plt.ticklabel_format(style='sci', axis='y', scilimits=(0,0))\n",
    "%matplotlib qt\n",
    "outfile='/Users/ajc/Core/PostProcessing/2020/StreamHyporheic/Dec8/'\n",
    "def get_discharge_fromfile(comp=1):\n",
    "    fig, axs = plt.subplots(1,3, figsize=(8,3), facecolor='w', edgecolor='k',gridspec_kw={'width_ratios':[1,1,1]})\n",
    "    fig.subplots_adjust(hspace =.02, wspace=1.02)\n",
    "    plt.tight_layout()\n",
    "    axs = axs.ravel()\n",
    "    to_micro = 1e+6\n",
    "    for i,sim in enumerate(Simulations):\n",
    "\n",
    "        for j,Tc in enumerate(components):\n",
    "            print (sim,Tc)\n",
    "            infile = os.path.join(path,sim,'surface-outlet.dat')\n",
    "            time = np.loadtxt(infile,usecols=0,skiprows=6)/(3600.)\n",
    "            data = np.loadtxt(infile,usecols=Tc[0],skiprows=6)\n",
    "            if 'NBGC' in sim:\n",
    "                axs[j].plot(time,1e-3*data*to_micro,color=Colors[i], linestyle=marks[0], label = Sim_dis[i])\n",
    "            else:\n",
    "                axs[j].plot(time,1e-3*data*to_micro,color=Colors[i-2], linestyle=marks[1], label = Sim_dis[i])\n",
    "\n",
    "            axs[j].set_xlabel('Time [h]', fontsize=12,fontweight='normal')\n",
    "            axs[j].set_ylabel('Concentration [$\\mu$M]', fontsize=12,fontweight='normal')\n",
    "            if j ==0:\n",
    "                #axs[j].set_ylim(0,100)\n",
    "                axs[j].set_ylim(0,600)\n",
    "            elif (j==1):\n",
    "                #axs[j].set_ylim(0,50)\n",
    "                axs[j].set_ylim(0,300)\n",
    "            axs[j].set_xlim(0,72)\n",
    "            axs[j].set_title(Tc[1])\n",
    "            #axs[j].set_yticklabel_format(style='sci', axis='y', scilimits=(0,0),useMathText=True)\n",
    "            if j ==2:\n",
    "                axs[j].legend(loc='best',fontsize=4)\n",
    "    plt.tight_layout()\n",
    "    plt.savefig(outfile + '%s_dtmean5.png'%dir_name,dpi=200)\n",
    "    #plt.title('1-Reach: Component concentration at x = 1000 m', fontsize = 14)\n"
   ]
  },
  {
   "cell_type": "code",
   "execution_count": 5,
   "metadata": {},
   "outputs": [
    {
     "name": "stdout",
     "output_type": "stream",
     "text": [
      "FarmForest_BGC_S1 (1, 'DOM1')\n",
      "FarmForest_BGC_S1 (3, 'NO3-')\n",
      "FarmForest_BGC_S1 (2, 'O2(aq)')\n"
     ]
    }
   ],
   "source": [
    "get_discharge_fromfile(comp=1)"
   ]
  },
  {
   "cell_type": "code",
   "execution_count": null,
   "metadata": {},
   "outputs": [],
   "source": []
  },
  {
   "cell_type": "code",
   "execution_count": null,
   "metadata": {},
   "outputs": [],
   "source": [
    "#, 'O2(aq)'] #'N2(aq)']\n",
    "marks = ['solid','dotted', 'dashed', 'dashdot']\n",
    "marks = ['solid','dashed',]\n",
    "#marks = ['_','x','o','v']"
   ]
  },
  {
   "cell_type": "code",
   "execution_count": null,
   "metadata": {},
   "outputs": [],
   "source": [
    "def get_data(file,Tc='Tracer'):\n",
    "    C_data = rd.GetSurfVarFromVis(file,'surface-total_component_concentration',cellid=-1,suffix='.cell.%s conc'%Tc)\n",
    "    Concentration = C_data['surface-total_component_concentration']\n",
    "    return Concentration\n"
   ]
  },
  {
   "cell_type": "code",
   "execution_count": null,
   "metadata": {},
   "outputs": [],
   "source": [
    "#%matplotlib qt\n",
    "y_limits = [[0,600],[0,120]]\n",
    "def get_discharge_fromVis():\n",
    "    fig, axs = plt.subplots(2,1, figsize=(6,8), facecolor='w', edgecolor='k',gridspec_kw={'width_ratios':[1]})\n",
    "    fig.subplots_adjust(hspace =.02, wspace=1.02)\n",
    "    plt.tight_layout()\n",
    "    axs = axs.ravel()\n",
    "    \n",
    "\n",
    "    plt.ticklabel_format(style='sci', axis='y', scilimits=(0,0))\n",
    "\n",
    "    for i,sim in enumerate(Simulations):\n",
    "\n",
    "        for j,Tc in enumerate(components):\n",
    "            \n",
    "            #print (j, marks[j])\n",
    "            file = os.path.join(path,sim,'visdump_surface_data.h5')\n",
    "            \n",
    "            dat = get_data(file,Tc)\n",
    "            #data = [1e-3*1e+6*c for c in dat]\n",
    "            data = [1e-3*c for c in dat]\n",
    "            time = [t*360/3600 for t in range(len(data))]\n",
    "            if i < 2:\n",
    "                axs[j].plot(time,data, color=Colors[i], label = Sim_dis[i],linestyle=marks[0])\n",
    "            else:\n",
    "                axs[j].plot(time,data, color=Colors[i-2], label = Sim_dis[i],linestyle=marks[1])\n",
    "\n",
    "            axs[j].set_xlabel('Time [hr]', fontsize=12,fontweight='normal')\n",
    "            axs[j].ticklabel_format(style='sci', axis='y', scilimits=(0,0),useMathText=True)\n",
    "            #axs[j].set_ylabel(r'Concentration [$\\mu$ M]', fontsize=12,fontweight='normal')\n",
    "            axs[j].set_ylabel(r'Concentration [Moles/liter]', fontsize=12,fontweight='normal')\n",
    "            #axs[j].set_ylim(y_limits[j])\n",
    "\n",
    "            axs[j].legend(loc='best',fontsize=9)\n",
    "            axs[j].set_title('%s'%Tc)\n",
    "            \n",
    "            \n",
    "    plt.tight_layout()\n",
    "    print (outfile)\n",
    "    #plt.savefig(outfile + '/fig02-C_outlet-forest-farm.png',dpi=500)\n",
    "    \n"
   ]
  },
  {
   "cell_type": "code",
   "execution_count": null,
   "metadata": {},
   "outputs": [],
   "source": [
    "get_discharge_fromVis()"
   ]
  },
  {
   "cell_type": "code",
   "execution_count": null,
   "metadata": {},
   "outputs": [],
   "source": []
  }
 ],
 "metadata": {
  "kernelspec": {
   "display_name": "Python 3",
   "language": "python",
   "name": "python3"
  },
  "language_info": {
   "codemirror_mode": {
    "name": "ipython",
    "version": 3
   },
   "file_extension": ".py",
   "mimetype": "text/x-python",
   "name": "python",
   "nbconvert_exporter": "python",
   "pygments_lexer": "ipython3",
   "version": "3.7.6"
  }
 },
 "nbformat": 4,
 "nbformat_minor": 2
}
