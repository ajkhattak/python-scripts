{
 "cells": [
  {
   "cell_type": "code",
   "execution_count": null,
   "metadata": {},
   "outputs": [],
   "source": []
  },
  {
   "cell_type": "code",
   "execution_count": 101,
   "metadata": {},
   "outputs": [],
   "source": [
    "import numpy as np\n",
    "import matplotlib\n",
    "import matplotlib.pyplot as plt\n",
    "import h5py\n",
    "\n",
    "from matplotlib import animation\n",
    "from matplotlib import cm\n",
    "from mpl_toolkits import mplot3d\n",
    "\n",
    "import os,sys\n",
    "\n",
    "sys.path.append('/Users/ajc/Core/PreProcessing/PyScript')\n",
    "import readdata as rd\n",
    "import seaborn as sns"
   ]
  },
  {
   "cell_type": "code",
   "execution_count": 135,
   "metadata": {},
   "outputs": [
    {
     "name": "stdout",
     "output_type": "stream",
     "text": [
      "['/Users/ajc/Core/simulations/projections/streams/SIM_13']\n"
     ]
    }
   ],
   "source": [
    "path_root='/Users/ajc/Core/simulations/projections/streams/'\n",
    "dir_name=['SIM_13']\n",
    "path = [os.path.join(path_root,d) for d in dir_name]\n",
    "print (path)\n",
    "#SimNBGC = [os.path.join(d, 'FarmForest_NBGC_S2') for d in path]\n",
    "#SimBGC = [os.path.join(d, 'FarmForest_BGC_S2') for d in path]\n",
    "#SimNBGC = [os.path.join(path[1],'FarmForest_NBGC_S2_Noxy_dx100m'), os.path.join(path[1],'FarmForest_NBGC_S2_dx100m')]\n",
    "#SimBGC = [os.path.join(path[1],'FarmForest_BGC_S2_Noxy_dx100m'), os.path.join(path[1],'FarmForest_BGC_S2_dx100m')]\n",
    "SimNBGC = [os.path.join(path[0],'FarmForest_NBGC_S2_dx500m_surfacefull')]\n",
    "SimBGC = [os.path.join(path[0],'FarmForest_NBGC_S2_dx500m_surfacefull_A')]\n",
    "path1='/Users/ajc/Core/simulations/tests/ats-demos/13_reactive_transport/03_stream_subgrid/testN'\n",
    "path2='/Users/ajc/Core/simulations/tests/ats-transport-subgrid-testsuite/tests/logical-surface-subgrid/transport-logical/testN'\n",
    "SimNBGC = [path2]\n",
    "SimBGC = [path2]"
   ]
  },
  {
   "cell_type": "code",
   "execution_count": null,
   "metadata": {},
   "outputs": [],
   "source": []
  },
  {
   "cell_type": "code",
   "execution_count": 136,
   "metadata": {},
   "outputs": [
    {
     "data": {
      "text/plain": [
       "array(['/Users/ajc/Core/simulations/tests/ats-transport-subgrid-testsuite/tests/logical-surface-subgrid/transport-logical/testN',\n",
       "       '/Users/ajc/Core/simulations/tests/ats-transport-subgrid-testsuite/tests/logical-surface-subgrid/transport-logical/testN'],\n",
       "      dtype='<U119')"
      ]
     },
     "execution_count": 136,
     "metadata": {},
     "output_type": "execute_result"
    }
   ],
   "source": [
    "Simulations = np.concatenate([SimNBGC, SimBGC])\n",
    "Colors = ['r','k','b','g','gray']\n",
    "#Sim_dis = [r'NBGC ($\\alpha$=1E-4)',r'NBGC ($\\alpha$=2.5E-4)',r'BGC ($\\alpha$=1E-4)',r\"BGC ($\\alpha$=2.5E-4)\"]\n",
    "#Sim_dis = ['NBGC', r'NBGC ($O_2\\updownarrow$)','BGC',r'BGC ($O_2\\updownarrow$)']\n",
    "Sim_dis = ['NBGC', 'BGC']\n",
    "Simulations"
   ]
  },
  {
   "cell_type": "code",
   "execution_count": 137,
   "metadata": {},
   "outputs": [],
   "source": [
    "components = [(1,'DOM1'), (3,'NO3-'),(2,'O2(aq)')]\n",
    "components = [(1,'Tracer1')]\n",
    "marks = ['solid','dashed', 'dotted', 'dashdot']"
   ]
  },
  {
   "cell_type": "code",
   "execution_count": 138,
   "metadata": {},
   "outputs": [],
   "source": [
    "#plt.ticklabel_format(style='sci', axis='y', scilimits=(0,0))\n",
    "%matplotlib qt\n",
    "outfile='/Users/ajc/Core/PostProcessing/ReactiveTransport/2021/Q1/'\n",
    "def get_discharge_fromfile(comp=1):\n",
    "    fig, axs = plt.subplots(1,3, figsize=(8,3), facecolor='w', edgecolor='k',gridspec_kw={'width_ratios':[1,1,1]})\n",
    "    fig.subplots_adjust(hspace =.02, wspace=1.02)\n",
    "    plt.tight_layout()\n",
    "    axs = axs.ravel()\n",
    "    to_micro = 1#1e+6\n",
    "    for i,sim in enumerate(Simulations):\n",
    "\n",
    "        for j,Tc in enumerate(components):\n",
    "            print (sim,Tc)\n",
    "            infile = os.path.join(sim,'surface-outlet.dat')\n",
    "            if 'SIM_12' in sim:\n",
    "                time = np.loadtxt(infile,usecols=0,skiprows=11)/(3600.)\n",
    "                data = np.loadtxt(infile,usecols=Tc[0],skiprows=11)\n",
    "            else:\n",
    "                time = np.loadtxt(infile,usecols=0,skiprows=11)/(3600.)\n",
    "                data = np.loadtxt(infile,usecols=Tc[0],skiprows=11)\n",
    "            #print (data[0])\n",
    "            if 'NBGC' in sim:\n",
    "                axs[j].plot(time,1e-3*data*to_micro,color=Colors[i], linestyle=marks[0], label = Sim_dis[i])\n",
    "            else:\n",
    "                axs[j].plot(time,1e-3*data*to_micro,color=Colors[i-2], linestyle=marks[1], label = Sim_dis[i])\n",
    "\n",
    "            axs[j].set_xlabel('Time [h]', fontsize=12,fontweight='normal')\n",
    "            axs[j].set_ylabel('Concentration [$\\mu$M]', fontsize=12,fontweight='normal')\n",
    "            if j ==0-1:\n",
    "                axs[j].set_ylim(50,150)\n",
    "                #axs[j].set_ylim(0,600)\n",
    "            elif (j==1-3):\n",
    "                axs[j].set_ylim(0,100)\n",
    "                #axs[j].set_ylim(0,300)\n",
    "            elif (j==2-8):\n",
    "                axs[j].set_ylim(200,300)\n",
    "                #axs[j].set_ylim(0,300)\n",
    "            #axs[j].set_xlim(0,72)\n",
    "            axs[j].set_title(Tc[1])\n",
    "            #axs[j].set_yticklabel_format(style='sci', axis='y', scilimits=(0,0),useMathText=True)\n",
    "            if j ==0:\n",
    "                axs[j].legend(loc='upper left',fontsize=7)\n",
    "    plt.tight_layout()\n",
    "    #plt.savefig(outfile + '%s_%s_dtmean5.png'%(dir_name[0],dir_name[1]),dpi=200)\n",
    "    #plt.savefig(outfile + 'BTC-surfacefull.png',dpi=200)\n"
   ]
  },
  {
   "cell_type": "code",
   "execution_count": 139,
   "metadata": {},
   "outputs": [
    {
     "name": "stdout",
     "output_type": "stream",
     "text": [
      "/Users/ajc/Core/simulations/tests/ats-transport-subgrid-testsuite/tests/logical-surface-subgrid/transport-logical/testN (1, 'Tracer1')\n",
      "/Users/ajc/Core/simulations/tests/ats-transport-subgrid-testsuite/tests/logical-surface-subgrid/transport-logical/testN (1, 'Tracer1')\n"
     ]
    }
   ],
   "source": [
    "get_discharge_fromfile(comp=1)"
   ]
  },
  {
   "cell_type": "code",
   "execution_count": 127,
   "metadata": {},
   "outputs": [
    {
     "data": {
      "text/plain": [
       "345600"
      ]
     },
     "execution_count": 127,
     "metadata": {},
     "output_type": "execute_result"
    }
   ],
   "source": [
    "86400*4\n"
   ]
  },
  {
   "cell_type": "code",
   "execution_count": null,
   "metadata": {},
   "outputs": [],
   "source": []
  },
  {
   "cell_type": "code",
   "execution_count": null,
   "metadata": {},
   "outputs": [],
   "source": [
    "\n"
   ]
  },
  {
   "cell_type": "code",
   "execution_count": null,
   "metadata": {},
   "outputs": [],
   "source": []
  },
  {
   "cell_type": "code",
   "execution_count": null,
   "metadata": {},
   "outputs": [],
   "source": []
  },
  {
   "cell_type": "code",
   "execution_count": null,
   "metadata": {},
   "outputs": [],
   "source": []
  }
 ],
 "metadata": {
  "kernelspec": {
   "display_name": "Python 3",
   "language": "python",
   "name": "python3"
  },
  "language_info": {
   "codemirror_mode": {
    "name": "ipython",
    "version": 3
   },
   "file_extension": ".py",
   "mimetype": "text/x-python",
   "name": "python",
   "nbconvert_exporter": "python",
   "pygments_lexer": "ipython3",
   "version": "3.7.6"
  }
 },
 "nbformat": 4,
 "nbformat_minor": 2
}
