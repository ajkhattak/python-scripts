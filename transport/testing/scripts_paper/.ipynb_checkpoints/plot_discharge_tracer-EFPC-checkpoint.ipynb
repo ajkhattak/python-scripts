{
 "cells": [
  {
   "cell_type": "code",
   "execution_count": null,
   "metadata": {},
   "outputs": [],
   "source": []
  },
  {
   "cell_type": "code",
   "execution_count": 25,
   "metadata": {},
   "outputs": [],
   "source": [
    "import numpy as np\n",
    "import matplotlib\n",
    "import matplotlib.pyplot as plt\n",
    "import h5py\n",
    "\n",
    "from matplotlib import animation\n",
    "from matplotlib import cm\n",
    "from mpl_toolkits import mplot3d\n",
    "\n",
    "import os,sys\n",
    "\n",
    "sys.path.append('/Users/ajc/Core/PyScript')\n",
    "import readdata as rd\n",
    "import seaborn as sns"
   ]
  },
  {
   "cell_type": "code",
   "execution_count": 26,
   "metadata": {},
   "outputs": [],
   "source": [
    "path_root='/Users/ajc/Core/simulations/projections/streams/'\n",
    "path_root='/Users/ajc/FUSE/simulations/production/streams/'\n",
    "path = path_root"
   ]
  },
  {
   "cell_type": "code",
   "execution_count": 37,
   "metadata": {},
   "outputs": [
    {
     "name": "stdout",
     "output_type": "stream",
     "text": [
      "['/Users/ajc/FUSE/simulations/production/streams/SIM_13']\n"
     ]
    }
   ],
   "source": [
    "dir_name=['SIM_13']\n",
    "path = [os.path.join(path_root,d) for d in dir_name]\n",
    "print (path)\n",
    "#SimNBGC = [os.path.join(d, 'FarmForest_NBGC_S2') for d in path]\n",
    "#SimBGC = [os.path.join(d, 'FarmForest_BGC_S2') for d in path]\n",
    "#SimNBGC = [os.path.join(path[1],'FarmForest_NBGC_S2_Noxy_dx100m'), os.path.join(path[1],'FarmForest_NBGC_S2_dx100m')]\n",
    "#SimBGC = [os.path.join(path[1],'FarmForest_BGC_S2_Noxy_dx100m'), os.path.join(path[1],'FarmForest_BGC_S2_dx100m')]\n",
    "SimNBGC = [os.path.join(path[0],'FarmForest_NBGC_S2_dx500m_A')]\n",
    "SimBGC = [os.path.join(path[0],'FarmForest_NBGC_S2_dx500m_A')]"
   ]
  },
  {
   "cell_type": "code",
   "execution_count": null,
   "metadata": {},
   "outputs": [],
   "source": []
  },
  {
   "cell_type": "code",
   "execution_count": 38,
   "metadata": {},
   "outputs": [
    {
     "data": {
      "text/plain": [
       "array(['/Users/ajc/FUSE/simulations/production/streams/SIM_13/FarmForest_NBGC_S2_dx500m_A',\n",
       "       '/Users/ajc/FUSE/simulations/production/streams/SIM_13/FarmForest_NBGC_S2_dx500m_A'],\n",
       "      dtype='<U81')"
      ]
     },
     "execution_count": 38,
     "metadata": {},
     "output_type": "execute_result"
    }
   ],
   "source": [
    "Simulations = np.concatenate([SimNBGC, SimBGC])\n",
    "Colors = ['r','k','b','g','gray']\n",
    "#Sim_dis = [r'NBGC ($\\alpha$=1E-4)',r'NBGC ($\\alpha$=2.5E-4)',r'BGC ($\\alpha$=1E-4)',r\"BGC ($\\alpha$=2.5E-4)\"]\n",
    "#Sim_dis = ['NBGC', r'NBGC ($O_2\\updownarrow$)','BGC',r'BGC ($O_2\\updownarrow$)']\n",
    "Sim_dis = ['NBGC', 'BGC']\n",
    "Simulations"
   ]
  },
  {
   "cell_type": "code",
   "execution_count": 39,
   "metadata": {},
   "outputs": [],
   "source": [
    "components = [(1,'DOM1'), (3,'NO3-'),(2,'O2(aq)')]\n",
    "components = [(1,'DOM1'), (3,'NO3-'),(2,'O2(aq)'), (4,'HCO3-'),(5,'H+'), (6,'N2(aq)')]\n",
    "\n",
    "marks = ['solid','dashed', 'dotted', 'dashdot']"
   ]
  },
  {
   "cell_type": "code",
   "execution_count": 40,
   "metadata": {},
   "outputs": [],
   "source": [
    "#plt.ticklabel_format(style='sci', axis='y', scilimits=(0,0))\n",
    "%matplotlib qt\n",
    "outfile='/Users/ajc/Core/PostProcessing/ReactiveTransport/2021/Q1/'\n",
    "def get_discharge_fromfile(comp=1):\n",
    "    fig, axs = plt.subplots(2,3, figsize=(8,6), facecolor='w', edgecolor='k',gridspec_kw={'width_ratios':[1,1,1]})\n",
    "    fig.subplots_adjust(hspace =.02, wspace=1.02)\n",
    "    plt.tight_layout()\n",
    "    axs = axs.ravel()\n",
    "    to_micro = 1e+6\n",
    "    for i,sim in enumerate(Simulations):\n",
    "\n",
    "        for j,Tc in enumerate(components):\n",
    "            print (sim,Tc)\n",
    "            infile = os.path.join(sim,'surface-outlet.dat')\n",
    "            \n",
    "            time = np.loadtxt(infile,usecols=0,skiprows=11)/(3600.)\n",
    "            data = np.loadtxt(infile,usecols=Tc[0],skiprows=11)\n",
    "            print (data[:5])\n",
    "            if 'NBGC' in sim:\n",
    "                axs[j].plot(time,1e-3*data*to_micro,color=Colors[i], linestyle=marks[0], label = Sim_dis[i])\n",
    "            else:\n",
    "                axs[j].plot(time,1e-3*data*to_micro,color=Colors[i-2], linestyle=marks[1], label = Sim_dis[i])\n",
    "\n",
    "            axs[j].set_xlabel('Time [h]', fontsize=12,fontweight='normal')\n",
    "            axs[j].set_ylabel('Concentration [$\\mu$M]', fontsize=12,fontweight='normal')\n",
    "            if j ==0-1:\n",
    "                axs[j].set_ylim(50,150)\n",
    "                #axs[j].set_ylim(0,600)\n",
    "            elif (j==1-3):\n",
    "                axs[j].set_ylim(0,100)\n",
    "                #axs[j].set_ylim(0,300)\n",
    "            elif (j==2-8):\n",
    "                axs[j].set_ylim(200,300)\n",
    "                #axs[j].set_ylim(0,300)\n",
    "            elif (j==4):\n",
    "                axs[j].set_ylim(10,20)\n",
    "                #axs[j].set_ylim(0,300)\n",
    "            elif (j==3):\n",
    "                axs[j].set_ylim(10,30)\n",
    "            #axs[j].set_xlim(0,72)\n",
    "            axs[j].set_title(Tc[1])\n",
    "            #axs[j].set_yticklabel_format(style='sci', axis='y', scilimits=(0,0),useMathText=True)\n",
    "            if j ==0:\n",
    "                axs[j].legend(loc='upper left',fontsize=7)\n",
    "            \n",
    "    plt.tight_layout()\n",
    "    #plt.savefig(outfile + '%s_%s_dtmean5.png'%(dir_name[0],dir_name[1]),dpi=200)\n",
    "    #plt.savefig(outfile + 'BTC-surfacefull.png',dpi=200)\n"
   ]
  },
  {
   "cell_type": "code",
   "execution_count": 41,
   "metadata": {},
   "outputs": [
    {
     "name": "stdout",
     "output_type": "stream",
     "text": [
      "/Users/ajc/FUSE/simulations/production/streams/SIM_13/FarmForest_NBGC_S2_dx500m_A (1, 'DOM1')\n",
      "[0.1        0.0999753  0.09998852 0.10000504 0.10002165]\n",
      "/Users/ajc/FUSE/simulations/production/streams/SIM_13/FarmForest_NBGC_S2_dx500m_A (3, 'NO3-')\n",
      "[0.05       0.04998765 0.04999426 0.05000252 0.05001083]\n",
      "/Users/ajc/FUSE/simulations/production/streams/SIM_13/FarmForest_NBGC_S2_dx500m_A (2, 'O2(aq)')\n",
      "[0.26541123 0.2654439  0.26557355 0.26570829 0.26583978]\n",
      "/Users/ajc/FUSE/simulations/production/streams/SIM_13/FarmForest_NBGC_S2_dx500m_A (4, 'HCO3-')\n",
      "[0.01977079 0.0197659  0.01976852 0.01977178 0.01977507]\n",
      "/Users/ajc/FUSE/simulations/production/streams/SIM_13/FarmForest_NBGC_S2_dx500m_A (5, 'H+')\n",
      "[0.01458418 0.01458058 0.0145825  0.01458491 0.01458734]\n",
      "/Users/ajc/FUSE/simulations/production/streams/SIM_13/FarmForest_NBGC_S2_dx500m_A (6, 'N2(aq)')\n",
      "[26.5518388  26.54527979 26.54878942 26.55317681 26.55758755]\n",
      "/Users/ajc/FUSE/simulations/production/streams/SIM_13/FarmForest_NBGC_S2_dx500m_A (1, 'DOM1')\n",
      "[0.1        0.0999753  0.09998852 0.10000504 0.10002165]\n",
      "/Users/ajc/FUSE/simulations/production/streams/SIM_13/FarmForest_NBGC_S2_dx500m_A (3, 'NO3-')\n",
      "[0.05       0.04998765 0.04999426 0.05000252 0.05001083]\n",
      "/Users/ajc/FUSE/simulations/production/streams/SIM_13/FarmForest_NBGC_S2_dx500m_A (2, 'O2(aq)')\n",
      "[0.26541123 0.2654439  0.26557355 0.26570829 0.26583978]\n",
      "/Users/ajc/FUSE/simulations/production/streams/SIM_13/FarmForest_NBGC_S2_dx500m_A (4, 'HCO3-')\n",
      "[0.01977079 0.0197659  0.01976852 0.01977178 0.01977507]\n",
      "/Users/ajc/FUSE/simulations/production/streams/SIM_13/FarmForest_NBGC_S2_dx500m_A (5, 'H+')\n",
      "[0.01458418 0.01458058 0.0145825  0.01458491 0.01458734]\n",
      "/Users/ajc/FUSE/simulations/production/streams/SIM_13/FarmForest_NBGC_S2_dx500m_A (6, 'N2(aq)')\n",
      "[26.5518388  26.54527979 26.54878942 26.55317681 26.55758755]\n"
     ]
    }
   ],
   "source": [
    "get_discharge_fromfile(comp=1)"
   ]
  },
  {
   "cell_type": "code",
   "execution_count": null,
   "metadata": {},
   "outputs": [],
   "source": [
    "\n"
   ]
  },
  {
   "cell_type": "code",
   "execution_count": null,
   "metadata": {},
   "outputs": [],
   "source": []
  },
  {
   "cell_type": "code",
   "execution_count": null,
   "metadata": {},
   "outputs": [],
   "source": [
    "\n"
   ]
  },
  {
   "cell_type": "code",
   "execution_count": null,
   "metadata": {},
   "outputs": [],
   "source": []
  },
  {
   "cell_type": "code",
   "execution_count": null,
   "metadata": {},
   "outputs": [],
   "source": []
  },
  {
   "cell_type": "code",
   "execution_count": null,
   "metadata": {},
   "outputs": [],
   "source": []
  }
 ],
 "metadata": {
  "kernelspec": {
   "display_name": "Python 3",
   "language": "python",
   "name": "python3"
  },
  "language_info": {
   "codemirror_mode": {
    "name": "ipython",
    "version": 3
   },
   "file_extension": ".py",
   "mimetype": "text/x-python",
   "name": "python",
   "nbconvert_exporter": "python",
   "pygments_lexer": "ipython3",
   "version": "3.7.6"
  }
 },
 "nbformat": 4,
 "nbformat_minor": 2
}
