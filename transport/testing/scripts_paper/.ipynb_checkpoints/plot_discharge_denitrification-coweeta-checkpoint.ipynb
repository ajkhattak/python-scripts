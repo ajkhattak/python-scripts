{
 "cells": [
  {
   "cell_type": "code",
   "execution_count": null,
   "metadata": {},
   "outputs": [],
   "source": [
    "# Coweeta watershed \n",
    "# comparison of simualtions with and without oxygen exchange with air"
   ]
  },
  {
   "cell_type": "code",
   "execution_count": 136,
   "metadata": {},
   "outputs": [],
   "source": [
    "import numpy as np\n",
    "import matplotlib\n",
    "import matplotlib.pyplot as plt\n",
    "import h5py\n",
    "\n",
    "from matplotlib import animation\n",
    "from matplotlib import cm\n",
    "from mpl_toolkits import mplot3d\n",
    "\n",
    "import os,sys\n",
    "\n",
    "sys.path.append('/Users/ajc/Core/PreProcessing/PyScript')\n",
    "import readdata as rd\n",
    "import seaborn as sns"
   ]
  },
  {
   "cell_type": "code",
   "execution_count": null,
   "metadata": {},
   "outputs": [],
   "source": []
  },
  {
   "cell_type": "code",
   "execution_count": 143,
   "metadata": {},
   "outputs": [
    {
     "data": {
      "text/plain": [
       "array(['/Users/ajc/Core/simulations/projections/streams/SIM_13_coweeta/FarmForest_NBGC_S2_dx100m_coweeta',\n",
       "       '/Users/ajc/Core/simulations/projections/streams/SIM_13_coweeta/FarmForest_NBGC_S1_dx100m_coweeta',\n",
       "       '/Users/ajc/Core/simulations/projections/streams/SIM_13_coweeta/FarmForest_BGC_S2_dx100m_coweeta',\n",
       "       '/Users/ajc/Core/simulations/projections/streams/SIM_13_coweeta/FarmForest_BGC_S1_dx100m_coweeta'],\n",
       "      dtype='<U96')"
      ]
     },
     "execution_count": 143,
     "metadata": {},
     "output_type": "execute_result"
    }
   ],
   "source": [
    "path_root='/Users/ajc/FUSE/simulations/production/streams/'\n",
    "path_root = '/Users/ajc/Core/simulations/projections/streams/'\n",
    "dir_name=['SIM_09','SIM_12']\n",
    "dir_name=['SIM_13_coweeta']\n",
    "path = [os.path.join(path_root,d) for d in dir_name]\n",
    "SimNBGC = [os.path.join(path[0],'FarmForest_NBGC_S2_dx500m')]\n",
    "SimBGC = [os.path.join(path[0],'FarmForest_NBGC_S2_dx500m')]\n",
    "\n",
    "SimNBGC = [os.path.join(path[0],'FarmForest_NBGC_S2_dx100m_coweeta'), os.path.join(path[0],'FarmForest_NBGC_S1_dx100m_coweeta')]\n",
    "SimBGC = [os.path.join(path[0],'FarmForest_BGC_S2_dx100m_coweeta'), os.path.join(path[0],'FarmForest_BGC_S1_dx100m_coweeta')]\n",
    "\n",
    "\n",
    "Simulations = np.concatenate([SimNBGC, SimBGC])\n",
    "\n",
    "Colors = ['r','k','b','g','gray']\n",
    "#Sim_dis = [r'NBGC ($\\alpha$=1E-4)',r'NBGC ($\\alpha$=2.5E-4)',r'BGC ($\\alpha$=1E-4)',r\"BGC ($\\alpha$=2.5E-4)\"]\n",
    "#Sim_dis = ['NBGC', 'BGC']\n",
    "Sim_dis = ['NBGC', r'NBGC ($O_2\\updownarrow$)','BGC',r'BGC ($O_2\\updownarrow$)']\n",
    "Simulations"
   ]
  },
  {
   "cell_type": "code",
   "execution_count": 144,
   "metadata": {},
   "outputs": [],
   "source": [
    "components = [(1,'DOM1'), (3,'NO3-'),(2,'O2(aq)')]\n",
    "marks = ['solid','dashed', 'dotted', 'dashdot']"
   ]
  },
  {
   "cell_type": "code",
   "execution_count": 147,
   "metadata": {},
   "outputs": [],
   "source": [
    "#plt.ticklabel_format(style='sci', axis='y', scilimits=(0,0))\n",
    "%matplotlib qt\n",
    "outfile='/Users/ajc/Core/PostProcessing/ReactiveTransport/2021/Q1/'\n",
    "def get_discharge_fromfile(comp=1):\n",
    "    fig, axs = plt.subplots(1,3, figsize=(8,3), facecolor='w', edgecolor='k',gridspec_kw={'width_ratios':[1,1,1]})\n",
    "    fig.subplots_adjust(hspace =.02, wspace=1.02)\n",
    "    plt.tight_layout()\n",
    "    axs = axs.ravel()\n",
    "    to_micro = 1e+6\n",
    "    for i,sim in enumerate(Simulations):\n",
    "\n",
    "        for j,Tc in enumerate(components):\n",
    "            \n",
    "            infile = os.path.join(sim,'surface-outlet.dat')\n",
    "            #print (Tc, infile)\n",
    "            if 'SIM_13' in sim:\n",
    "                time = np.loadtxt(infile,usecols=0,skiprows=11)/(3600.)\n",
    "                data = np.loadtxt(infile,usecols=Tc[0],skiprows=11)\n",
    "            else:\n",
    "                time = np.loadtxt(infile,usecols=0,skiprows=11)/(3600.)\n",
    "                data = np.loadtxt(infile,usecols=Tc[0],skiprows=11)\n",
    "            #d = 1e-3*data*to_micro\n",
    "            #print (max(d))\n",
    "            if 'NBGC' in sim:\n",
    "                axs[j].plot(time,1e-3*data*to_micro,color=Colors[i], linestyle=marks[0], label = Sim_dis[i])\n",
    "            else:\n",
    "                axs[j].plot(time,1e-3*data*to_micro,color=Colors[i-2], linestyle=marks[1], label = Sim_dis[i])\n",
    "\n",
    "            axs[j].set_xlabel('Time [h]', fontsize=12,fontweight='normal')\n",
    "            axs[j].set_ylabel('Concentration [$\\mu$M]', fontsize=12,fontweight='normal')\n",
    "            if j ==0:\n",
    "                #axs[j].set_ylim(0,100)\n",
    "                axs[j].set_ylim(0,600)\n",
    "            elif (j==1):\n",
    "                #axs[j].set_ylim(0,50)\n",
    "                axs[j].set_ylim(0,300)\n",
    "            elif (j==2):\n",
    "                axs[j].set_ylim(50,300)\n",
    "            axs[j].set_xlim(0,120)\n",
    "            axs[j].set_title(Tc[1])\n",
    "            #axs[j].set_yticklabel_format(style='sci', axis='y', scilimits=(0,0),useMathText=True)\n",
    "            if j ==0:\n",
    "                axs[j].legend(loc='upper left',fontsize=7)\n",
    "    plt.tight_layout()\n",
    "    plt.savefig(outfile + '%s_alpha2.5_dtmean5.png'%dir_name[0],dpi=200)\n"
   ]
  },
  {
   "cell_type": "code",
   "execution_count": 148,
   "metadata": {},
   "outputs": [],
   "source": [
    "get_discharge_fromfile(comp=1)"
   ]
  },
  {
   "cell_type": "code",
   "execution_count": null,
   "metadata": {},
   "outputs": [],
   "source": []
  },
  {
   "cell_type": "code",
   "execution_count": null,
   "metadata": {},
   "outputs": [],
   "source": []
  },
  {
   "cell_type": "code",
   "execution_count": null,
   "metadata": {},
   "outputs": [],
   "source": [
    "\n"
   ]
  },
  {
   "cell_type": "code",
   "execution_count": null,
   "metadata": {},
   "outputs": [],
   "source": []
  },
  {
   "cell_type": "code",
   "execution_count": null,
   "metadata": {},
   "outputs": [],
   "source": []
  },
  {
   "cell_type": "code",
   "execution_count": null,
   "metadata": {},
   "outputs": [],
   "source": []
  }
 ],
 "metadata": {
  "kernelspec": {
   "display_name": "Python 3",
   "language": "python",
   "name": "python3"
  },
  "language_info": {
   "codemirror_mode": {
    "name": "ipython",
    "version": 3
   },
   "file_extension": ".py",
   "mimetype": "text/x-python",
   "name": "python",
   "nbconvert_exporter": "python",
   "pygments_lexer": "ipython3",
   "version": "3.7.6"
  }
 },
 "nbformat": 4,
 "nbformat_minor": 2
}
