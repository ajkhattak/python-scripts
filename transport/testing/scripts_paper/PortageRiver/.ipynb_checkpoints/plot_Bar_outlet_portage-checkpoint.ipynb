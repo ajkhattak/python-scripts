{
 "cells": [
  {
   "cell_type": "code",
   "execution_count": 1,
   "metadata": {},
   "outputs": [],
   "source": [
    "import numpy as np\n",
    "import matplotlib\n",
    "import matplotlib.pyplot as plt\n",
    "import h5py\n",
    "from matplotlib import animation\n",
    "from matplotlib import cm\n",
    "from mpl_toolkits import mplot3d\n",
    "import os,sys\n",
    "sys.path.append('/Users/ajc/Core/PyScript')\n",
    "import readdata as rd\n",
    "import seaborn as sns"
   ]
  },
  {
   "cell_type": "code",
   "execution_count": 2,
   "metadata": {},
   "outputs": [],
   "source": [
    "path_root='/Users/ajc/FUSE/simulations/production/streams/'\n",
    "#path_root='/Users/ajc/Core/simulations/production/streams/'\n",
    "path = path_root"
   ]
  },
  {
   "cell_type": "code",
   "execution_count": 80,
   "metadata": {},
   "outputs": [
    {
     "name": "stdout",
     "output_type": "stream",
     "text": [
      "['/Users/ajc/FUSE/simulations/production/streams/SIM_17']\n"
     ]
    }
   ],
   "source": [
    "dir_name=['SIM_17']\n",
    "path = [os.path.join(path_root,d) for d in dir_name]\n",
    "\n",
    "sim_no =  500\n",
    "SimNBGC = [os.path.join(path[0],'LE2_NBGC_dx%sm_min250m'%sim_no), os.path.join(path[0],'ME2_NBGC_dx%sm_min250m'%sim_no),\n",
    "            os.path.join(path[0],'HE2_NBGC_dx%sm_min250m'%sim_no)]\n",
    "SimBGC = [os.path.join(path[0],'LE2_BGC_dx%sm_min250m'%sim_no), os.path.join(path[0],'ME2_BGC_dx%sm_min250m'%sim_no),\n",
    "            os.path.join(path[0],'HE2_BGC_dx%sm_min250m'%sim_no)]\n",
    "\n",
    "print (path)"
   ]
  },
  {
   "cell_type": "code",
   "execution_count": 81,
   "metadata": {},
   "outputs": [
    {
     "data": {
      "text/plain": [
       "array(['/Users/ajc/FUSE/simulations/production/streams/SIM_17/LE2_NBGC_dx500m_min250m',\n",
       "       '/Users/ajc/FUSE/simulations/production/streams/SIM_17/ME2_NBGC_dx500m_min250m',\n",
       "       '/Users/ajc/FUSE/simulations/production/streams/SIM_17/HE2_NBGC_dx500m_min250m',\n",
       "       '/Users/ajc/FUSE/simulations/production/streams/SIM_17/LE2_BGC_dx500m_min250m',\n",
       "       '/Users/ajc/FUSE/simulations/production/streams/SIM_17/ME2_BGC_dx500m_min250m',\n",
       "       '/Users/ajc/FUSE/simulations/production/streams/SIM_17/HE2_BGC_dx500m_min250m'],\n",
       "      dtype='<U77')"
      ]
     },
     "execution_count": 81,
     "metadata": {},
     "output_type": "execute_result"
    }
   ],
   "source": [
    "Simulations = np.concatenate([SimNBGC, SimBGC])\n",
    "Colors = ['r','k','b','g','gray']\n",
    "#Sim_dis = [r'NBGC ($\\alpha$=1E-4)',r'NBGC ($\\alpha$=2.5E-4)',r'BGC ($\\alpha$=1E-4)',r\"BGC ($\\alpha$=2.5E-4)\"]\n",
    "#Sim_dis = ['NBGC', r'NBGC ($O_2\\updownarrow$)','BGC',r'BGC ($O_2\\updownarrow$)']\n",
    "#Sim_dis = ['NBGC', 'BGC']\n",
    "Sim_dis = ['noBGC_LE', 'noBGC_ME', 'noBGC_HE', 'BGC_LE', 'BGC_ME', 'BGC_HE']\n",
    "\n",
    "\n",
    "Simulations"
   ]
  },
  {
   "cell_type": "code",
   "execution_count": 95,
   "metadata": {},
   "outputs": [],
   "source": [
    "components = [(1,'DOC'), (3,'N'),(2,'O2')]\n",
    "#components = [(1,'DOM1'), (3,'NO3-'),(2,'O2(aq)'), (4,'HCO3-'),(5,'H+'), (6,'N2(aq)')]\n",
    "\n",
    "marks = ['solid','dashed', 'dotted', 'dashdot',':']\n",
    "comp_names = ['DOC', 'Nitrate', 'Dissolved oxygen']"
   ]
  },
  {
   "cell_type": "code",
   "execution_count": 96,
   "metadata": {},
   "outputs": [],
   "source": [
    "def get_perc_reduction(d_init,d_):\n",
    "    data_pc = [100*(dat[0][0] - d1 )/dat[0][0] for d1 in data] # Percentage reduction\n",
    "surf_files = ['surface_outlet_stream_1_2.dat', \n",
    "              'surface_outlet_stream_111_112.dat', 'surface_outlet_stream_198_199.dat',\n",
    "              'surface_outlet_stream_221_222.dat', 'surface_outlet_stream_24_44.dat', \n",
    "              'surface_outlet_stream_260_262.dat','surface_outlet_stream_74_75.dat']\n",
    "\n",
    "surf_loc = ['loc_1_2', 'loc_111_112', 'loc_198_199',\n",
    "              'loc_221_222', 'loc_24_44',  'loc_260_262','loc_74_75']"
   ]
  },
  {
   "cell_type": "code",
   "execution_count": 108,
   "metadata": {},
   "outputs": [],
   "source": [
    "#plt.ticklabel_format(style='sci', axis='y', scilimits=(0,0))\n",
    "#%matplotlib qt\n",
    "outfile='/Users/ajc/Core/PostProcessing/ReactiveTransport/2021/Q2/PR/SIM_17/BTC/'\n",
    "yLims = [[-10, 711], [0,150], [0,350], [0,200], [0,200], [26000,27000]]\n",
    "#yLims = [[-10, 650], [0,320], [0,350], [0,200], [0,200], [26000,27000]]\n",
    "#yLims = [[-10, 1010], [0,510], [0,350], [0,200], [0,200], [26000,27000]]\n",
    "to_micro = 1e+6\n",
    "def get_discharge_fromfile(comp=0):\n",
    "    fig, axs = plt.subplots(1,3, figsize=(8,3), facecolor='w', edgecolor='k',gridspec_kw={'width_ratios':[1,1,1]})\n",
    "    fig.subplots_adjust(hspace =.02, wspace=1.02)\n",
    "    plt.tight_layout()\n",
    "    axs = axs.ravel()\n",
    "    \n",
    "    for i,sim in enumerate(Simulations):\n",
    "\n",
    "        for j,Tc in enumerate(components):\n",
    "            print (sim,Tc)\n",
    "            infile = os.path.join(sim,surf_files[comp])\n",
    "            \n",
    "            time = np.loadtxt(infile,usecols=0,skiprows=11)/(86400.)\n",
    "            data = np.loadtxt(infile,usecols=Tc[0],skiprows=11)\n",
    "            l = int(min(len(data), len(time)))\n",
    "            if 'NBGC' in sim:\n",
    "                axs[j].plot(time,1e-3*data*to_micro,color=Colors[i], linestyle=marks[0], label = Sim_dis[i],linewidth=1.)\n",
    "            else:\n",
    "                axs[j].plot(time,1e-3*data*to_micro,color=Colors[i-3], linestyle=marks[1], label = Sim_dis[i], linewidth=1.)\n",
    "\n",
    "            axs[j].set_xlabel('Time [d]', fontsize=12,fontweight='normal')\n",
    "            \n",
    "            axs[j].set_ylim(yLims[j][0],yLims[j][1])\n",
    "            axs[j].set_title(comp_names[j])\n",
    "            print (data[-1]*1e-3*to_micro)\n",
    "            #axs[j].set_yticklabel_format(style='sci', axis='y', scilimits=(0,0),useMathText=True)\n",
    "            if j ==0:\n",
    "                axs[j].legend(loc='center right',fontsize=5)\n",
    "                axs[j].set_ylabel('Concentration [$\\mu$M]', fontsize=12,fontweight='normal')\n",
    "            \n",
    "    plt.tight_layout()\n",
    "    #plt.savefig(outfile + '%s_%s_dtmean5.png'%(dir_name[0],dir_name[1]),dpi=200)\n",
    "    #plt.savefig(outfile + 'BTC-S11_S12_S13_dx%sm_min250m_%s.png'%(sim_no, surf_loc[comp]),dpi=400)\n",
    "    #plt.savefig(outfile + 'BTC-S11_S15_dx%sm_min250m_%s.png'%(sim_no, surf_loc[comp]),dpi=400)\n",
    "    #plt.savefig(outfile + 'BTC_S14_S19_S20_S21_dx%sm_min250m_%s.png'%(sim_no, surf_loc[comp]),dpi=400)\n",
    "    plt.savefig(outfile + 'BTC_LE2_ME2_HE2_dx%sm_min250m_%s.png'%(sim_no, surf_loc[comp]),dpi=400)\n"
   ]
  },
  {
   "cell_type": "code",
   "execution_count": 109,
   "metadata": {},
   "outputs": [
    {
     "name": "stdout",
     "output_type": "stream",
     "text": [
      "/Users/ajc/FUSE/simulations/production/streams/SIM_17/LE2_NBGC_dx500m_min250m (1, 'DOC')\n",
      "701.5817041534\n",
      "/Users/ajc/FUSE/simulations/production/streams/SIM_17/LE2_NBGC_dx500m_min250m (3, 'N')\n",
      "148.1407533634\n",
      "/Users/ajc/FUSE/simulations/production/streams/SIM_17/LE2_NBGC_dx500m_min250m (2, 'O2')\n",
      "301.9804357393\n",
      "/Users/ajc/FUSE/simulations/production/streams/SIM_17/ME2_NBGC_dx500m_min250m (1, 'DOC')\n",
      "701.5817040017\n",
      "/Users/ajc/FUSE/simulations/production/streams/SIM_17/ME2_NBGC_dx500m_min250m (3, 'N')\n",
      "148.0815791606\n",
      "/Users/ajc/FUSE/simulations/production/streams/SIM_17/ME2_NBGC_dx500m_min250m (2, 'O2')\n",
      "301.9804337752\n",
      "/Users/ajc/FUSE/simulations/production/streams/SIM_17/HE2_NBGC_dx500m_min250m (1, 'DOC')\n",
      "701.5817045977\n",
      "/Users/ajc/FUSE/simulations/production/streams/SIM_17/HE2_NBGC_dx500m_min250m (3, 'N')\n",
      "147.9626372395\n",
      "/Users/ajc/FUSE/simulations/production/streams/SIM_17/HE2_NBGC_dx500m_min250m (2, 'O2')\n",
      "301.980428691\n",
      "/Users/ajc/FUSE/simulations/production/streams/SIM_17/LE2_BGC_dx500m_min250m (1, 'DOC')\n",
      "218.1250854628\n",
      "/Users/ajc/FUSE/simulations/production/streams/SIM_17/LE2_BGC_dx500m_min250m (3, 'N')\n",
      "49.74862112394\n",
      "/Users/ajc/FUSE/simulations/production/streams/SIM_17/LE2_BGC_dx500m_min250m (2, 'O2')\n",
      "118.7739228099\n",
      "/Users/ajc/FUSE/simulations/production/streams/SIM_17/ME2_BGC_dx500m_min250m (1, 'DOC')\n",
      "92.03061923564\n",
      "/Users/ajc/FUSE/simulations/production/streams/SIM_17/ME2_BGC_dx500m_min250m (3, 'N')\n",
      "32.47331993094\n",
      "/Users/ajc/FUSE/simulations/production/streams/SIM_17/ME2_BGC_dx500m_min250m (2, 'O2')\n",
      "74.5430482543\n",
      "/Users/ajc/FUSE/simulations/production/streams/SIM_17/HE2_BGC_dx500m_min250m (1, 'DOC')\n",
      "28.765435052650002\n",
      "/Users/ajc/FUSE/simulations/production/streams/SIM_17/HE2_BGC_dx500m_min250m (3, 'N')\n",
      "29.38657299946\n",
      "/Users/ajc/FUSE/simulations/production/streams/SIM_17/HE2_BGC_dx500m_min250m (2, 'O2')\n",
      "55.047081516380004\n"
     ]
    },
    {
     "data": {
      "image/png": "[encoded data removed]",
      "text/plain": [
       "<Figure size 576x216 with 3 Axes>"
      ]
     },
     "metadata": {},
     "output_type": "display_data"
    }
   ],
   "source": [
    "get_discharge_fromfile(comp=0)"
   ]
  },
  {
   "cell_type": "code",
   "execution_count": 106,
   "metadata": {},
   "outputs": [
    {
     "name": "stdout",
     "output_type": "stream",
     "text": [
      "[148.1407533634, 148.0815791606, 147.9626372395] [49.74862112394, 32.47331993094, 29.38657299946]\n"
     ]
    }
   ],
   "source": [
    "S1_NBGC = dict()\n",
    "S1_BGC = dict()\n",
    "S1_NBGC['DOM'] = [700, 700, 700]\n",
    "S1_NBGC['N'] = [148.14, 148.08, 147.96]\n",
    "S1_NBGC['O2']= [312.46, 312.46, 312.46]\n",
    "S1_BGC['DOM'] = [173.59, 51.71,9.89]\n",
    "S1_BGC['N'] = [72.24, 61.84,52.93]\n",
    "S1_BGC['O2'] = [170.03, 157.83, 180.72]\n",
    "Tc=components[1]\n",
    "\n",
    "S2_NBGC = dict()\n",
    "d = []\n",
    "for f in SimNBGC:\n",
    "    d1 = np.loadtxt(os.path.join(f,surf_files[0]),usecols=Tc[0],skiprows=11)[-1]\n",
    "    d.append(d1*1e-3*to_micro)\n",
    "S2_NBGC[Tc[1]] = d\n",
    "\n",
    "S2_BGC = dict()\n",
    "d = []\n",
    "for f in SimBGC:\n",
    "    d1 = np.loadtxt(os.path.join(f,surf_files[0]),usecols=Tc[0],skiprows=11)[-1]\n",
    "    d.append(d1*1e-3*to_micro)\n",
    "S2_BGC[Tc[1]] = d\n",
    "print (S2_NBGC['N'],S2_BGC['N'])"
   ]
  },
  {
   "cell_type": "code",
   "execution_count": 118,
   "metadata": {},
   "outputs": [
    {
     "data": {
      "text/plain": [
       "<matplotlib.legend.Legend at 0x7fdeafb06c90>"
      ]
     },
     "execution_count": 118,
     "metadata": {},
     "output_type": "execute_result"
    },
    {
     "data": {
      "image/png": "[encoded data removed]",
      "text/plain": [
       "<Figure size 576x288 with 2 Axes>"
      ]
     },
     "metadata": {
      "needs_background": "light"
     },
     "output_type": "display_data"
    }
   ],
   "source": [
    "fig, axs = plt.subplots(ncols=2,nrows=1,figsize=(8,4))\n",
    "sim_lbl = ['noBGC', 'BGC']\n",
    "sim_leg = ['LE', 'ME', 'HE']\n",
    "colors = ['r','k','b','g','gray']\n",
    "axs[0].bar(np.arange(0,3,1)-0.125 , S1_NBGC['N'],width= 0.25, color='grey', ec='k',alpha=1.0,label=sim_lbl[0])\n",
    "axs[0].bar(np.arange(0,3,1)+0.125 , S1_BGC['N'],width= 0.25, color='y', ec='k', alpha=1.0,label=sim_lbl[1])\n",
    "\n",
    "\n",
    "\n",
    "\n",
    "axs[1].bar(np.arange(0,3,1)-0.125 , S2_NBGC['N'],width= 0.25, color='grey', ec='k',alpha=1.0,label=sim_lbl[0])\n",
    "axs[1].bar(np.arange(0,3,1)+0.125 , S2_BGC['N'],width= 0.25, color='y', ec='k', alpha=1.0,label=sim_lbl[1])\n",
    "\n",
    "C = ['Nitrate', 'Dissolved oxygen']\n",
    "for i in range(2):\n",
    "    axs[i].set_xticks(np.arange(0,3,1))\n",
    "    axs[i].set_xticklabels(sim_leg)\n",
    "    plt.legend(loc='upper right', fontsize=6)#,borderpad=.1)\n",
    "\n",
    "    axs[i].set_xlabel('Numerical scenarios',fontsize=12,fontweight='normal')\n",
    "    axs[i].set_ylabel(\"%s [$\\mu$M]\"%C[i],fontsize=12,fontweight='normal')\n",
    "    axs[i].set_ylim(0,200)\n",
    "plt.tight_layout(h_pad=1)\n",
    "\n",
    "plt.legend()\n"
   ]
  },
  {
   "cell_type": "code",
   "execution_count": null,
   "metadata": {},
   "outputs": [],
   "source": []
  },
  {
   "cell_type": "code",
   "execution_count": null,
   "metadata": {},
   "outputs": [],
   "source": []
  }
 ],
 "metadata": {
  "kernelspec": {
   "display_name": "Python 3",
   "language": "python",
   "name": "python3"
  },
  "language_info": {
   "codemirror_mode": {
    "name": "ipython",
    "version": 3
   },
   "file_extension": ".py",
   "mimetype": "text/x-python",
   "name": "python",
   "nbconvert_exporter": "python",
   "pygments_lexer": "ipython3",
   "version": "3.7.6"
  }
 },
 "nbformat": 4,
 "nbformat_minor": 4
}
