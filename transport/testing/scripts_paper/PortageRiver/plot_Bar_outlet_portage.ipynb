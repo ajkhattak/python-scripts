{
 "cells": [
  {
   "cell_type": "code",
   "execution_count": 1,
   "metadata": {},
   "outputs": [],
   "source": [
    "import numpy as np\n",
    "import matplotlib\n",
    "import matplotlib.pyplot as plt\n",
    "import h5py\n",
    "from matplotlib import animation\n",
    "from matplotlib import cm\n",
    "from mpl_toolkits import mplot3d\n",
    "import os,sys\n",
    "sys.path.append('/Users/ajc/Core/PyScript')\n",
    "import readdata as rd\n",
    "import seaborn as sns"
   ]
  },
  {
   "cell_type": "code",
   "execution_count": 2,
   "metadata": {},
   "outputs": [],
   "source": [
    "path_root='/Users/ajc/FUSE/simulations/production/streams/'\n",
    "path = path_root"
   ]
  },
  {
   "cell_type": "code",
   "execution_count": 3,
   "metadata": {},
   "outputs": [],
   "source": [
    "dir_name=['SIM_17']\n",
    "path = [os.path.join(path_root,d) for d in dir_name]\n",
    "\n",
    "sim_no =  500\n"
   ]
  },
  {
   "cell_type": "code",
   "execution_count": 4,
   "metadata": {},
   "outputs": [],
   "source": [
    "surf_files = ['surface_outlet_stream_1_2.dat']\n",
    "components = [(1,'DOC'), (3,'N'),(2,'O2')]\n",
    "to_micro = 1e+6"
   ]
  },
  {
   "cell_type": "code",
   "execution_count": 5,
   "metadata": {},
   "outputs": [],
   "source": [
    "def get_data(infiles,comp):\n",
    "    d = []\n",
    "    for f in infiles:\n",
    "        d1 = np.loadtxt(os.path.join(f,surf_files[0]),usecols=comp,skiprows=11)[-1]\n",
    "        d.append(d1*1e-3*to_micro)\n",
    "    return d"
   ]
  },
  {
   "cell_type": "code",
   "execution_count": 6,
   "metadata": {},
   "outputs": [],
   "source": [
    "S1_NBGC = dict()\n",
    "S1_BGC = dict()\n",
    "S2_NBGC = dict()\n",
    "S2_BGC = dict()"
   ]
  },
  {
   "cell_type": "code",
   "execution_count": 7,
   "metadata": {},
   "outputs": [],
   "source": [
    "SimNBGC = [os.path.join(path[0],'LE1_NBGC_dx%sm_min250m'%sim_no), os.path.join(path[0],'ME1_NBGC_dx%sm_min250m'%sim_no),\n",
    "            os.path.join(path[0],'HE1_NBGC_dx%sm_min250m'%sim_no)]\n",
    "SimBGC = [os.path.join(path[0],'LE1_BGC_dx%sm_min250m'%sim_no), os.path.join(path[0],'ME1_BGC_dx%sm_min250m'%sim_no),\n",
    "            os.path.join(path[0],'HE1_BGC_dx%sm_min250m'%sim_no)]\n"
   ]
  },
  {
   "cell_type": "code",
   "execution_count": 8,
   "metadata": {},
   "outputs": [],
   "source": [
    "Tc=components[1]\n",
    "S1_NBGC[Tc[1]] = get_data(SimNBGC,Tc[0])\n",
    "S1_BGC[Tc[1]] = get_data(SimBGC,Tc[0])"
   ]
  },
  {
   "cell_type": "code",
   "execution_count": 9,
   "metadata": {},
   "outputs": [],
   "source": [
    "Tc=components[2]\n",
    "S1_NBGC[Tc[1]] = get_data(SimNBGC,Tc[0])\n",
    "S1_BGC[Tc[1]] = get_data(SimBGC,Tc[0])"
   ]
  },
  {
   "cell_type": "code",
   "execution_count": 10,
   "metadata": {},
   "outputs": [],
   "source": [
    "Tc=components[0]\n",
    "S1_NBGC[Tc[1]] = get_data(SimNBGC,Tc[0])\n",
    "S1_BGC[Tc[1]] = get_data(SimBGC,Tc[0])"
   ]
  },
  {
   "cell_type": "code",
   "execution_count": 11,
   "metadata": {},
   "outputs": [],
   "source": [
    "SimNBGC = [os.path.join(path[0],'LE2_NBGC_dx%sm_min250m'%sim_no), os.path.join(path[0],'ME2_NBGC_dx%sm_min250m'%sim_no),\n",
    "            os.path.join(path[0],'HE2_NBGC_dx%sm_min250m'%sim_no)]\n",
    "SimBGC = [os.path.join(path[0],'LE2_BGC_dx%sm_min250m'%sim_no), os.path.join(path[0],'ME2_BGC_dx%sm_min250m'%sim_no),\n",
    "            os.path.join(path[0],'HE2_BGC_dx%sm_min250m'%sim_no)]\n"
   ]
  },
  {
   "cell_type": "code",
   "execution_count": 12,
   "metadata": {},
   "outputs": [],
   "source": [
    "Tc=components[1]\n",
    "S2_NBGC[Tc[1]] = get_data(SimNBGC,Tc[0])\n",
    "S2_BGC[Tc[1]] = get_data(SimBGC,Tc[0])"
   ]
  },
  {
   "cell_type": "code",
   "execution_count": 13,
   "metadata": {},
   "outputs": [],
   "source": [
    "Tc=components[2]\n",
    "S2_NBGC[Tc[1]] = get_data(SimNBGC,Tc[0])\n",
    "S2_BGC[Tc[1]] = get_data(SimBGC,Tc[0])"
   ]
  },
  {
   "cell_type": "code",
   "execution_count": 14,
   "metadata": {},
   "outputs": [],
   "source": [
    "Tc=components[0]\n",
    "S2_NBGC[Tc[1]] = get_data(SimNBGC,Tc[0])\n",
    "S2_BGC[Tc[1]] = get_data(SimBGC,Tc[0])"
   ]
  },
  {
   "cell_type": "code",
   "execution_count": 15,
   "metadata": {},
   "outputs": [],
   "source": [
    "S2_NBGC\n",
    "outfile='/Users/ajc/Core/PostProcessing/ReactiveTransport/2021/Q2/PR/SIM_17/BTC/'"
   ]
  },
  {
   "cell_type": "code",
   "execution_count": null,
   "metadata": {},
   "outputs": [],
   "source": []
  },
  {
   "cell_type": "code",
   "execution_count": 17,
   "metadata": {},
   "outputs": [
    {
     "data": {
      "image/png": "[encoded data removed]",
      "text/plain": [
       "<Figure size 648x216 with 3 Axes>"
      ]
     },
     "metadata": {
      "needs_background": "light"
     },
     "output_type": "display_data"
    }
   ],
   "source": [
    "fig, axs = plt.subplots(ncols=3,nrows=1,figsize=(9,3))\n",
    "plt.tight_layout()\n",
    "#fig.tight_layout(h_pad=1)\n",
    "sim_lbl = ['noBGC', 'BGC, basecase', 'BGC, low reaeration rate']\n",
    "sim_leg = ['LE', 'ME', 'HE']\n",
    "colors = ['r','k','b','g','gray']\n",
    "axs[0].bar(np.arange(0,3,1)-0.125 , S1_NBGC['DOC'],width= 0.25, color='grey', ec='k',alpha=1.0,label=sim_lbl[0])\n",
    "axs[0].bar(np.arange(0,3,1)+0.125 , S1_BGC['DOC'],width= 0.25, color='y', ec='k', alpha=1.0,label=sim_lbl[1])\n",
    "axs[0].bar(np.arange(0,3,1)+0.375 , S2_BGC['DOC'],width= 0.25, color='g', ec='k', alpha=1.0,label=sim_lbl[2])\n",
    "\n",
    "axs[1].bar(np.arange(0,3,1)-0.125 , S1_NBGC['N'],width= 0.25, color='grey', ec='k',alpha=1.0,label=sim_lbl[0])\n",
    "axs[1].bar(np.arange(0,3,1)+0.125 , S1_BGC['N'],width= 0.25, color='y', ec='k', alpha=1.0,label=sim_lbl[1])\n",
    "axs[1].bar(np.arange(0,3,1)+0.375 , S2_BGC['N'],width= 0.25, color='g', ec='k', alpha=1.0,label=sim_lbl[2])\n",
    "\n",
    "\n",
    "axs[2].bar(np.arange(0,3,1)-0.125 , S1_NBGC['O2'],width= 0.25, color='grey', ec='k',alpha=1.0,label=sim_lbl[0])\n",
    "axs[2].bar(np.arange(0,3,1)+0.125 , S1_BGC['O2'],width= 0.25, color='y', ec='k', alpha=1.0,label=sim_lbl[1])\n",
    "axs[2].bar(np.arange(0,3,1)+0.375 , S2_BGC['O2'],width= 0.25, color='g', ec='k', alpha=1.0,label=sim_lbl[2])\n",
    "\n",
    "C = ['DOC','N', 'DO']\n",
    "\n",
    "for i in range(3):\n",
    "    axs[i].set_xticks(np.arange(0,3,1))\n",
    "    axs[i].set_xlabel('Numerical scenarios',fontsize=12,fontweight='normal')\n",
    "    \n",
    "    #axs[i].set_ylabel(\"%s [$\\mu$M]\"%C[i],fontsize=12,fontweight='normal')\n",
    "    axs[i].set_title(\"%s\"%C[i],fontsize=12,fontweight='normal')\n",
    "    axs[i].set_xticklabels(sim_leg)\n",
    "    axs[i].ticklabel_format(axis=\"y\", style=\"sci\", scilimits=(0,0),useMathText=True)\n",
    "axs[0].set_ylabel(\"Concentration [$\\mu$M]\",fontsize=12,fontweight='normal')\n",
    "axs[0].set_ylim(0,800)\n",
    "axs[0].set_yticks(np.arange(0,801,200))\n",
    "\n",
    "axs[1].set_ylim(0,200)\n",
    "axs[1].set_yticks(np.arange(0,201,100))\n",
    "axs[2].set_ylim(0,350)\n",
    "axs[2].set_yticks(np.arange(0,401,100))\n",
    "axs[2].legend(loc='upper right', fontsize=10, ncol=3, bbox_to_anchor=(0.9,-0.32, .1, .1))\n",
    "plt.savefig(outfile + 'nutrients_barplot-C.png',bbox_inches='tight',dpi=200)\n",
    "plt.show()"
   ]
  },
  {
   "cell_type": "code",
   "execution_count": null,
   "metadata": {},
   "outputs": [],
   "source": []
  }
 ],
 "metadata": {
  "kernelspec": {
   "display_name": "Python 3",
   "language": "python",
   "name": "python3"
  },
  "language_info": {
   "codemirror_mode": {
    "name": "ipython",
    "version": 3
   },
   "file_extension": ".py",
   "mimetype": "text/x-python",
   "name": "python",
   "nbconvert_exporter": "python",
   "pygments_lexer": "ipython3",
   "version": "3.7.6"
  }
 },
 "nbformat": 4,
 "nbformat_minor": 4
}
