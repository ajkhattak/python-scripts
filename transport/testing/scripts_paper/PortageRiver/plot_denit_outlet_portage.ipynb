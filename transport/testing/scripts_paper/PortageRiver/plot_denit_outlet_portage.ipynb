{
 "cells": [
  {
   "cell_type": "code",
   "execution_count": 2,
   "metadata": {},
   "outputs": [],
   "source": [
    "import numpy as np\n",
    "import matplotlib\n",
    "import matplotlib.pyplot as plt\n",
    "import h5py\n",
    "from matplotlib import animation\n",
    "from matplotlib import cm\n",
    "from mpl_toolkits import mplot3d\n",
    "import os,sys\n",
    "sys.path.append('/Users/ajc/Core/PyScript')\n",
    "import readdata as rd\n",
    "import seaborn as sns"
   ]
  },
  {
   "cell_type": "code",
   "execution_count": 3,
   "metadata": {},
   "outputs": [],
   "source": [
    "path_root='/Users/ajc/FUSE/simulations/production/streams/'\n",
    "path = path_root"
   ]
  },
  {
   "cell_type": "code",
   "execution_count": 4,
   "metadata": {},
   "outputs": [
    {
     "name": "stdout",
     "output_type": "stream",
     "text": [
      "['/Users/ajc/FUSE/simulations/production/streams/SIM_17']\n"
     ]
    }
   ],
   "source": [
    "dir_name=['SIM_17']\n",
    "path = [os.path.join(path_root,d) for d in dir_name]\n",
    "\n",
    "sim_no =  500\n",
    "SimNBGC = [os.path.join(path[0],'LE1_NBGC_dx%sm_min250m'%sim_no), os.path.join(path[0],'ME1_NBGC_dx%sm_min250m'%sim_no),\n",
    "            os.path.join(path[0],'HE1_NBGC_dx%sm_min250m'%sim_no)]\n",
    "SimBGC = [os.path.join(path[0],'LE1_BGC_dx%sm_min250m'%sim_no), os.path.join(path[0],'ME1_BGC_dx%sm_min250m'%sim_no),\n",
    "            os.path.join(path[0],'HE1_BGC_dx%sm_min250m'%sim_no)]\n",
    "\n",
    "print (path)"
   ]
  },
  {
   "cell_type": "code",
   "execution_count": 5,
   "metadata": {},
   "outputs": [
    {
     "data": {
      "text/plain": [
       "array(['/Users/ajc/FUSE/simulations/production/streams/SIM_17/LE1_NBGC_dx500m_min250m',\n",
       "       '/Users/ajc/FUSE/simulations/production/streams/SIM_17/ME1_NBGC_dx500m_min250m',\n",
       "       '/Users/ajc/FUSE/simulations/production/streams/SIM_17/HE1_NBGC_dx500m_min250m',\n",
       "       '/Users/ajc/FUSE/simulations/production/streams/SIM_17/LE1_BGC_dx500m_min250m',\n",
       "       '/Users/ajc/FUSE/simulations/production/streams/SIM_17/ME1_BGC_dx500m_min250m',\n",
       "       '/Users/ajc/FUSE/simulations/production/streams/SIM_17/HE1_BGC_dx500m_min250m'],\n",
       "      dtype='<U77')"
      ]
     },
     "execution_count": 5,
     "metadata": {},
     "output_type": "execute_result"
    }
   ],
   "source": [
    "Simulations = np.concatenate([SimNBGC, SimBGC])\n",
    "Colors = ['r','k','b','g','gray']\n",
    "Sim_dis = ['noBGC_LE', 'noBGC_ME', 'noBGC_HE', 'BGC_LE', 'BGC_ME', 'BGC_HE']\n",
    "Simulations"
   ]
  },
  {
   "cell_type": "code",
   "execution_count": 6,
   "metadata": {},
   "outputs": [],
   "source": [
    "components = [(1,'DOC'), (3,'N'),(2,'O2')]\n",
    "marks = ['solid','dashed', 'dotted', 'dashdot',':']\n",
    "comp_names = ['DOC', 'N', 'DO']"
   ]
  },
  {
   "cell_type": "code",
   "execution_count": 7,
   "metadata": {},
   "outputs": [],
   "source": [
    "surf_files = ['surface_outlet_stream_1_2.dat']\n",
    "\n",
    "surf_loc = ['loc_1_2', 'loc_111_112', 'loc_198_199',\n",
    "              'loc_221_222', 'loc_24_44',  'loc_260_262','loc_74_75']"
   ]
  },
  {
   "cell_type": "code",
   "execution_count": 9,
   "metadata": {},
   "outputs": [],
   "source": [
    "#%matplotlib qt\n",
    "outfile='/Users/ajc/Core/PostProcessing/ReactiveTransport/2021/Q2/PR/SIM_17/BTC/'\n",
    "yLims = [[0, 800], [0,200], [0,400], [0,200], [0,200], [26000,27000]]\n",
    "\n",
    "to_micro = 1e+6\n",
    "def get_discharge_fromfile(comp=0):\n",
    "    fig, axs = plt.subplots(1,3, figsize=(8,3), facecolor='w', edgecolor='k',gridspec_kw={'width_ratios':[1,1,1]})\n",
    "    fig.subplots_adjust(hspace =.02, wspace=1.02)\n",
    "    plt.tight_layout()\n",
    "    axs = axs.ravel()\n",
    "    \n",
    "    for i,sim in enumerate(Simulations):\n",
    "\n",
    "        for j,Tc in enumerate(components):\n",
    "            infile = os.path.join(sim,surf_files[comp])\n",
    "            \n",
    "            time = np.loadtxt(infile,usecols=0,skiprows=11)/(86400.)\n",
    "            data = np.loadtxt(infile,usecols=Tc[0],skiprows=11)\n",
    "            l = int(min(len(data), len(time)))\n",
    "            if 'NBGC' in sim:\n",
    "                axs[j].plot(time,1e-3*data*to_micro,color=Colors[i], linestyle=marks[0], label = Sim_dis[i],linewidth=1.)\n",
    "            else:\n",
    "                axs[j].plot(time,1e-3*data*to_micro,color=Colors[i-3], linestyle=marks[1], label = Sim_dis[i], linewidth=1.)\n",
    "\n",
    "            axs[j].set_xlabel('Time [d]', fontsize=12,fontweight='normal')\n",
    "            \n",
    "            axs[j].set_ylim(yLims[j][0],yLims[j][1])\n",
    "            axs[j].set_title(comp_names[j])\n",
    "            axs[j].ticklabel_format(axis=\"y\", style=\"sci\", scilimits=(0,0),useMathText=True)\n",
    "            \n",
    "            if j ==0:\n",
    "                axs[j].legend(loc='center right',fontsize=5)\n",
    "                axs[j].set_ylabel('Concentration [$\\mu$M]', fontsize=12,fontweight='normal')\n",
    "    axs[0].set_yticks(np.arange(0,801,200))\n",
    "    axs[1].set_yticks(np.arange(0,201,100))\n",
    "    axs[2].set_yticks(np.arange(0,401,100))\n",
    "    plt.tight_layout()\n",
    "    plt.savefig(outfile + 'BTC_LE1_ME1_HE1_dx%sm_min250m_%s-A1.png'%(sim_no, surf_loc[comp]),dpi=200)\n"
   ]
  },
  {
   "cell_type": "code",
   "execution_count": 10,
   "metadata": {},
   "outputs": [
    {
     "data": {
      "image/png": "[encoded data removed]",
      "text/plain": [
       "<Figure size 576x216 with 3 Axes>"
      ]
     },
     "metadata": {},
     "output_type": "display_data"
    }
   ],
   "source": [
    "get_discharge_fromfile(comp=0)"
   ]
  },
  {
   "cell_type": "code",
   "execution_count": null,
   "metadata": {},
   "outputs": [],
   "source": []
  }
 ],
 "metadata": {
  "kernelspec": {
   "display_name": "Python 3",
   "language": "python",
   "name": "python3"
  },
  "language_info": {
   "codemirror_mode": {
    "name": "ipython",
    "version": 3
   },
   "file_extension": ".py",
   "mimetype": "text/x-python",
   "name": "python",
   "nbconvert_exporter": "python",
   "pygments_lexer": "ipython3",
   "version": "3.7.6"
  }
 },
 "nbformat": 4,
 "nbformat_minor": 4
}
