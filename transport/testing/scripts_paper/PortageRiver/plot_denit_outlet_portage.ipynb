{
 "cells": [
  {
   "cell_type": "code",
   "execution_count": 1,
   "metadata": {},
   "outputs": [],
   "source": [
    "import numpy as np\n",
    "import matplotlib\n",
    "import matplotlib.pyplot as plt\n",
    "import h5py\n",
    "from matplotlib import animation\n",
    "from matplotlib import cm\n",
    "from mpl_toolkits import mplot3d\n",
    "import os,sys\n",
    "sys.path.append('/Users/ajc/Core/PyScript')\n",
    "import readdata as rd\n",
    "import seaborn as sns"
   ]
  },
  {
   "cell_type": "code",
   "execution_count": 2,
   "metadata": {},
   "outputs": [],
   "source": [
    "path_root='/Users/ajc/FUSE/simulations/production/streams/'\n",
    "#path_root='/Users/ajc/Core/simulations/production/streams/'\n",
    "path = path_root"
   ]
  },
  {
   "cell_type": "code",
   "execution_count": 69,
   "metadata": {},
   "outputs": [
    {
     "name": "stdout",
     "output_type": "stream",
     "text": [
      "['/Users/ajc/FUSE/simulations/production/streams/SIM_14']\n"
     ]
    }
   ],
   "source": [
    "dir_name=['SIM_14']\n",
    "path = [os.path.join(path_root,d) for d in dir_name]\n",
    "\n",
    "sim_no =  500\n",
    "SimNBGC = [os.path.join(path[0],'S3_NBGC_dx%sm_min250m'%sim_no), os.path.join(path[0],'S1_NBGC_dx%sm_min250m'%sim_no),\n",
    "            os.path.join(path[0],'S2_NBGC_dx%sm_min250m'%sim_no)]\n",
    "SimBGC = [os.path.join(path[0],'S3_BGC_dx%sm_min250m'%sim_no), os.path.join(path[0],'S1_BGC_dx%sm_min250m'%sim_no),\n",
    "            os.path.join(path[0],'S2_BGC_dx%sm_min250m'%sim_no)]\n",
    "\n",
    "                \n",
    "#SimNBGC = [os.path.join(path[0],'Srun1')]\n",
    "#SimBGC = [os.path.join(path[0],'Srun2')]\n",
    "print (path)"
   ]
  },
  {
   "cell_type": "code",
   "execution_count": 70,
   "metadata": {},
   "outputs": [
    {
     "data": {
      "text/plain": [
       "array(['/Users/ajc/FUSE/simulations/production/streams/SIM_14/S3_NBGC_dx500m_min250m',\n",
       "       '/Users/ajc/FUSE/simulations/production/streams/SIM_14/S1_NBGC_dx500m_min250m',\n",
       "       '/Users/ajc/FUSE/simulations/production/streams/SIM_14/S2_NBGC_dx500m_min250m',\n",
       "       '/Users/ajc/FUSE/simulations/production/streams/SIM_14/S3_BGC_dx500m_min250m',\n",
       "       '/Users/ajc/FUSE/simulations/production/streams/SIM_14/S1_BGC_dx500m_min250m',\n",
       "       '/Users/ajc/FUSE/simulations/production/streams/SIM_14/S2_BGC_dx500m_min250m'],\n",
       "      dtype='<U76')"
      ]
     },
     "execution_count": 70,
     "metadata": {},
     "output_type": "execute_result"
    }
   ],
   "source": [
    "Simulations = np.concatenate([SimNBGC, SimBGC])\n",
    "Colors = ['r','k','b','g','gray']\n",
    "#Sim_dis = [r'NBGC ($\\alpha$=1E-4)',r'NBGC ($\\alpha$=2.5E-4)',r'BGC ($\\alpha$=1E-4)',r\"BGC ($\\alpha$=2.5E-4)\"]\n",
    "#Sim_dis = ['NBGC', r'NBGC ($O_2\\updownarrow$)','BGC',r'BGC ($O_2\\updownarrow$)']\n",
    "#Sim_dis = ['NBGC', 'BGC']\n",
    "Sim_dis = ['noBGC_LE', 'noBGC_ME', 'noBGC_HE', 'BGC_LE', 'BGC_ME', 'BGC_HE']\n",
    "Simulations"
   ]
  },
  {
   "cell_type": "code",
   "execution_count": 71,
   "metadata": {},
   "outputs": [],
   "source": [
    "components = [(1,'DOM1'), (3,'NO3-'),(2,'O2(aq)')]\n",
    "#components = [(1,'DOM1'), (3,'NO3-'),(2,'O2(aq)'), (4,'HCO3-'),(5,'H+'), (6,'N2(aq)')]\n",
    "\n",
    "marks = ['solid','dashed', 'dotted', 'dashdot']"
   ]
  },
  {
   "cell_type": "code",
   "execution_count": 72,
   "metadata": {},
   "outputs": [],
   "source": [
    "def get_perc_reduction(d_init,d_):\n",
    "    data_pc = [100*(dat[0][0] - d1 )/dat[0][0] for d1 in data] # Percentage reduction\n",
    "surf_files = ['surface_outlet_stream_1_2.dat', \n",
    "              'surface_outlet_stream_111_112.dat', 'surface_outlet_stream_198_199.dat',\n",
    "              'surface_outlet_stream_221_222.dat', 'surface_outlet_stream_24_44.dat', \n",
    "              'surface_outlet_stream_260_262.dat','surface_outlet_stream_74_75.dat']\n",
    "\n",
    "surf_loc = ['loc_1_2', 'loc_111_112', 'loc_198_199',\n",
    "              'loc_221_222', 'loc_24_44',  'loc_260_262','loc_74_75']"
   ]
  },
  {
   "cell_type": "code",
   "execution_count": 82,
   "metadata": {},
   "outputs": [],
   "source": [
    "#plt.ticklabel_format(style='sci', axis='y', scilimits=(0,0))\n",
    "%matplotlib qt\n",
    "outfile='/Users/ajc/Core/PostProcessing/ReactiveTransport/2021/Q2/PR/BTC/'\n",
    "yLims = [[-10, 400], [0,200], [0,300], [0,200], [0,200], [26000,27000]]\n",
    "#yLims = [[-10, 650], [0,320], [0,350], [0,200], [0,200], [26000,27000]]\n",
    "#yLims = [[-10, 1010], [0,510], [0,350], [0,200], [0,200], [26000,27000]]\n",
    "def get_discharge_fromfile(comp=0):\n",
    "    fig, axs = plt.subplots(1,3, figsize=(8,3), facecolor='w', edgecolor='k',gridspec_kw={'width_ratios':[1,1,1]})\n",
    "    fig.subplots_adjust(hspace =.02, wspace=1.02)\n",
    "    plt.tight_layout()\n",
    "    axs = axs.ravel()\n",
    "    to_micro = 1e+6\n",
    "    for i,sim in enumerate(Simulations):\n",
    "\n",
    "        for j,Tc in enumerate(components):\n",
    "            print (sim,Tc)\n",
    "            infile = os.path.join(sim,surf_files[comp])\n",
    "            \n",
    "            time = np.loadtxt(infile,usecols=0,skiprows=11)/(86400.)\n",
    "            data = np.loadtxt(infile,usecols=Tc[0],skiprows=11)\n",
    "            #print (data[:5])\n",
    "            if 'NBGC' in sim:\n",
    "                axs[j].plot(time,1e-3*data*to_micro,color=Colors[i], linestyle=marks[0], label = Sim_dis[i],linewidth=1.)\n",
    "            else:\n",
    "                axs[j].plot(time,1e-3*data*to_micro,color=Colors[i-3], linestyle=marks[1], label = Sim_dis[i], linewidth=1.)\n",
    "\n",
    "            axs[j].set_xlabel('Time [d]', fontsize=12,fontweight='normal')\n",
    "            \n",
    "            axs[j].set_ylim(yLims[j][0],yLims[j][1])\n",
    "            axs[j].set_title(Tc[1])\n",
    "            print (data[-1])\n",
    "            #axs[j].set_yticklabel_format(style='sci', axis='y', scilimits=(0,0),useMathText=True)\n",
    "            if j ==0:\n",
    "                axs[j].legend(loc='center right',fontsize=5)\n",
    "                axs[j].set_ylabel('Concentration [$\\mu$M]', fontsize=12,fontweight='normal')\n",
    "            \n",
    "    plt.tight_layout()\n",
    "    #plt.savefig(outfile + '%s_%s_dtmean5.png'%(dir_name[0],dir_name[1]),dpi=200)\n",
    "    plt.savefig(outfile + 'BTC-S1_S2_S3_dx%sm_min250m_%s.png'%(sim_no, surf_loc[comp]),dpi=400)\n",
    "\n"
   ]
  },
  {
   "cell_type": "code",
   "execution_count": 83,
   "metadata": {},
   "outputs": [
    {
     "name": "stdout",
     "output_type": "stream",
     "text": [
      "/Users/ajc/FUSE/simulations/production/streams/SIM_14/S3_NBGC_dx500m_min250m (1, 'DOM1')\n",
      "0.3522227040376\n",
      "/Users/ajc/FUSE/simulations/production/streams/SIM_14/S3_NBGC_dx500m_min250m (3, 'NO3-')\n",
      "0.1761113520188\n",
      "/Users/ajc/FUSE/simulations/production/streams/SIM_14/S3_NBGC_dx500m_min250m (2, 'O2(aq)')\n",
      "0.2863355668996\n",
      "/Users/ajc/FUSE/simulations/production/streams/SIM_14/S1_NBGC_dx500m_min250m (1, 'DOM1')\n",
      "0.3519356492824\n",
      "/Users/ajc/FUSE/simulations/production/streams/SIM_14/S1_NBGC_dx500m_min250m (3, 'NO3-')\n",
      "0.1759678246412\n",
      "/Users/ajc/FUSE/simulations/production/streams/SIM_14/S1_NBGC_dx500m_min250m (2, 'O2(aq)')\n",
      "0.2863354462155\n",
      "/Users/ajc/FUSE/simulations/production/streams/SIM_14/S2_NBGC_dx500m_min250m (1, 'DOM1')\n",
      "0.3513623860809\n",
      "/Users/ajc/FUSE/simulations/production/streams/SIM_14/S2_NBGC_dx500m_min250m (3, 'NO3-')\n",
      "0.1756811930405\n",
      "/Users/ajc/FUSE/simulations/production/streams/SIM_14/S2_NBGC_dx500m_min250m (2, 'O2(aq)')\n",
      "0.2863350085484\n",
      "/Users/ajc/FUSE/simulations/production/streams/SIM_14/S3_BGC_dx500m_min250m (1, 'DOM1')\n",
      "0.01058355155173\n",
      "/Users/ajc/FUSE/simulations/production/streams/SIM_14/S3_BGC_dx500m_min250m (3, 'NO3-')\n",
      "0.08845339916731\n",
      "/Users/ajc/FUSE/simulations/production/streams/SIM_14/S3_BGC_dx500m_min250m (2, 'O2(aq)')\n",
      "0.131001979658\n",
      "/Users/ajc/FUSE/simulations/production/streams/SIM_14/S1_BGC_dx500m_min250m (1, 'DOM1')\n",
      "0.002255121989128\n",
      "/Users/ajc/FUSE/simulations/production/streams/SIM_14/S1_BGC_dx500m_min250m (3, 'NO3-')\n",
      "0.072204537079\n",
      "/Users/ajc/FUSE/simulations/production/streams/SIM_14/S1_BGC_dx500m_min250m (2, 'O2(aq)')\n",
      "0.1456314666069\n",
      "/Users/ajc/FUSE/simulations/production/streams/SIM_14/S2_BGC_dx500m_min250m (1, 'DOM1')\n",
      "0.0005901683429965\n",
      "/Users/ajc/FUSE/simulations/production/streams/SIM_14/S2_BGC_dx500m_min250m (3, 'NO3-')\n",
      "0.05721355524412\n",
      "/Users/ajc/FUSE/simulations/production/streams/SIM_14/S2_BGC_dx500m_min250m (2, 'O2(aq)')\n",
      "0.1603913965709\n"
     ]
    }
   ],
   "source": [
    "get_discharge_fromfile(comp=0)"
   ]
  },
  {
   "cell_type": "code",
   "execution_count": null,
   "metadata": {},
   "outputs": [],
   "source": []
  },
  {
   "cell_type": "code",
   "execution_count": null,
   "metadata": {},
   "outputs": [],
   "source": [
    "#plt.ticklabel_format(style='sci', axis='y', scilimits=(0,0))\n",
    "%matplotlib qt\n",
    "outfile='/Users/ajc/Core/PostProcessing/ReactiveTransport/2021/Q2/'\n",
    "yLims = [[-10, 600], [0,180], [100,350], [0,200], [0,200], [26000,27000]]\n",
    "SimNBGC = [os.path.join(path[0],'FF_NBGC_S1_dx10000m')]\n",
    "SimBGC = [os.path.join(path[0],'FF_BGC_S1_dx10000m')]\n",
    "Simulations_A = np.concatenate([SimNBGC, SimBGC])\n",
    "surf_files = ['surface_outlet_stream_198_199.dat', 'surface_outlet_stream_260_262.dat',\n",
    "              'surface_outlet_stream_111_112.dat', 'surface_outlet_stream_74_75.dat']\n",
    "def get_discharge_fromfile_all(comp=1):\n",
    "    #fig, axs = plt.subplots(1,2, figsize=(8,3), facecolor='w', edgecolor='k',gridspec_kw={'width_ratios':[1,1]})\n",
    "    #fig.subplots_adjust(hspace =.02, wspace=1.02)\n",
    "    #plt.tight_layout()\n",
    "    #axs = axs.ravel()\n",
    "    \n",
    "    to_micro = 1e+6\n",
    "    p_count = 1\n",
    "    for d_f in surf_files:\n",
    "        for i,sim in enumerate(Simulations_A):\n",
    "            axs = plt.subplot(4, 2,p_count)\n",
    "            for j,Tc in enumerate(components[:2]):\n",
    "                #print (sim,Tc)\n",
    "                infile = os.path.join(sim,d_f)\n",
    "\n",
    "                time = np.loadtxt(infile,usecols=0,skiprows=11)/(86400.)\n",
    "                data = np.loadtxt(infile,usecols=Tc[0],skiprows=11)\n",
    "                #print (data[:5])\n",
    "                if 'NBGC' in sim:\n",
    "                    axs.plot(time,1e-3*data*to_micro,color=Colors[i], linestyle=marks[0], label = Sim_dis[i])\n",
    "                else:\n",
    "                    axs.plot(time,1e-3*data*to_micro,color=Colors[i-2], linestyle=marks[1], label = Sim_dis[i])\n",
    "\n",
    "                #axs.set_xlabel('Time [d]', fontsize=12,fontweight='normal')\n",
    "                #axs.set_ylabel('Concentration [$\\mu$M]', fontsize=12,fontweight='normal')\n",
    "                #axs.set_ylim(yLims[j][0],yLims[j][1])\n",
    "                #axs.set_title(Tc[1])\n",
    "                #axs[j].set_yticklabel_format(style='sci', axis='y', scilimits=(0,0),useMathText=True)\n",
    "                if j ==0:\n",
    "                    axs.legend(loc='upper left',fontsize=7)\n",
    "            p_count = p_count + 1\n",
    "    plt.tight_layout()\n",
    "    #plt.savefig(outfile + '%s_%s_dtmean5.png'%(dir_name[0],dir_name[1]),dpi=200)\n",
    "    #plt.savefig(outfile + 'BTC-S2_min250m.png',dpi=200)\n",
    "\n",
    "\n"
   ]
  },
  {
   "cell_type": "code",
   "execution_count": null,
   "metadata": {},
   "outputs": [],
   "source": [
    "get_discharge_fromfile_all()"
   ]
  },
  {
   "cell_type": "code",
   "execution_count": null,
   "metadata": {},
   "outputs": [],
   "source": []
  }
 ],
 "metadata": {
  "kernelspec": {
   "display_name": "Python 3",
   "language": "python",
   "name": "python3"
  },
  "language_info": {
   "codemirror_mode": {
    "name": "ipython",
    "version": 3
   },
   "file_extension": ".py",
   "mimetype": "text/x-python",
   "name": "python",
   "nbconvert_exporter": "python",
   "pygments_lexer": "ipython3",
   "version": "3.7.6"
  }
 },
 "nbformat": 4,
 "nbformat_minor": 4
}
