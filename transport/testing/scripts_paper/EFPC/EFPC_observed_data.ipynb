{
 "cells": [
  {
   "cell_type": "code",
   "execution_count": 2,
   "metadata": {},
   "outputs": [],
   "source": [
    "import numpy as np\n",
    "import matplotlib\n",
    "import matplotlib.pyplot as plt\n",
    "import h5py\n",
    "\n",
    "from matplotlib import cm\n",
    "import os,sys\n",
    "\n",
    "sys.path.append('/Users/ajc/Core/PyScript')\n",
    "import readdata as rd\n",
    "import os\n",
    "import geopy.distance\n",
    "from matplotlib import cm\n",
    "import pandas as pd"
   ]
  },
  {
   "cell_type": "code",
   "execution_count": 15,
   "metadata": {},
   "outputs": [],
   "source": [
    "infile = \"/Users/ajc/Core/ObservedData/EFPC_SB/EFPC-HydrolProc-WaterQuality.csv\"\n"
   ]
  },
  {
   "cell_type": "code",
   "execution_count": 17,
   "metadata": {},
   "outputs": [],
   "source": [
    "data = pd.read_csv(infile,encoding='latin1', sep=',')"
   ]
  },
  {
   "cell_type": "code",
   "execution_count": 20,
   "metadata": {},
   "outputs": [
    {
     "data": {
      "text/plain": [
       "Index(['IndexNo', 'SamplingTeam', 'Site', 'EFKkm', 'Latitude', 'Longitude',\n",
       "       'Location', 'SampleDateTime', 'Season', 'SampleType', 'Media',\n",
       "       'SampleID', 'AnalysisDate', 'Analyst', 'Parameter', 'Prefix', 'Value',\n",
       "       'Uncertainty', 'ReportLimit', 'units', 'Filtered', 'Method',\n",
       "       'SampleContainer', 'Preservation', 'FlowCondition', 'Comment1',\n",
       "       'Comment2', 'PrefixGroup', 'FlowAug'],\n",
       "      dtype='object')"
      ]
     },
     "execution_count": 20,
     "metadata": {},
     "output_type": "execute_result"
    }
   ],
   "source": [
    "data.columns"
   ]
  },
  {
   "cell_type": "code",
   "execution_count": null,
   "metadata": {},
   "outputs": [],
   "source": []
  }
 ],
 "metadata": {
  "kernelspec": {
   "display_name": "Python 3",
   "language": "python",
   "name": "python3"
  },
  "language_info": {
   "codemirror_mode": {
    "name": "ipython",
    "version": 3
   },
   "file_extension": ".py",
   "mimetype": "text/x-python",
   "name": "python",
   "nbconvert_exporter": "python",
   "pygments_lexer": "ipython3",
   "version": "3.7.6"
  }
 },
 "nbformat": 4,
 "nbformat_minor": 4
}
