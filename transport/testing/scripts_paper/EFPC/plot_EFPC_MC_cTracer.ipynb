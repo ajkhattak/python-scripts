{
 "cells": [
  {
   "cell_type": "code",
   "execution_count": null,
   "metadata": {},
   "outputs": [],
   "source": []
  },
  {
   "cell_type": "code",
   "execution_count": 1,
   "metadata": {},
   "outputs": [],
   "source": [
    "import numpy as np\n",
    "import matplotlib\n",
    "import matplotlib.pyplot as plt\n",
    "import h5py\n",
    "from matplotlib import animation\n",
    "from matplotlib import cm\n",
    "from mpl_toolkits import mplot3d\n",
    "import os,sys\n",
    "sys.path.append('/Users/ajc/Core/PyScript')\n",
    "import readdata as rd\n",
    "import seaborn as sns"
   ]
  },
  {
   "cell_type": "code",
   "execution_count": 2,
   "metadata": {},
   "outputs": [],
   "source": [
    "path_root='/Users/ajc/Core/simulations/production/streams/'\n",
    "#path_root='/Users/ajc/FUSE/simulations/production/streams/'\n",
    "path = path_root"
   ]
  },
  {
   "cell_type": "code",
   "execution_count": 3,
   "metadata": {},
   "outputs": [
    {
     "data": {
      "text/plain": [
       "[['/Users/ajc/Core/simulations/production/streams/SIM_13/S2_dx250m_min100m',\n",
       "  '/Users/ajc/Core/simulations/production/streams/SIM_13/S2_dx10000m_min100m',\n",
       "  '/Users/ajc/Core/simulations/production/streams/SIM_13/S1_dx250m_min100m',\n",
       "  '/Users/ajc/Core/simulations/production/streams/SIM_13/S1_dx10000m_min100m'],\n",
       " ['/Users/ajc/Core/simulations/production/streams/SIM_19/HE1_BGC_dx250m_min200m',\n",
       "  '/Users/ajc/Core/simulations/production/streams/SIM_19/HE1_BGC_dx10000m_min200m']]"
      ]
     },
     "execution_count": 3,
     "metadata": {},
     "output_type": "execute_result"
    }
   ],
   "source": [
    "# Tracer\n",
    "\n",
    "dir_name=['SIM_13', 'SIM_19']\n",
    "path = [os.path.join(path_root,d) for d in dir_name]\n",
    "\n",
    "sim =['S1_dx250m_min100m', 'S1_dx500m_min100m', 'S1_dx1000m_min100m',  'S1_dx10000m_min100m']\n",
    "#sim =['S1_dx250m_min200m', 'S1_dx500m_min200m', 'S1_dx1000m_min200m',  'S1_dx10000m_min200m']\n",
    "sim =['S2_dx250m_min100m', 'S2_dx10000m_min100m', 'S1_dx250m_min100m', 'S1_dx10000m_min100m']\n",
    "\n",
    "\n",
    "T_Simulations = [os.path.join(path[0],s) for s in sim]\n",
    "\n",
    "\n",
    "# BGC\n",
    "sim =['HE1_BGC_dx250m_min200m', 'HE1_BGC_dx500m_min200m', 'HE1_BGC_dx1000m_min200m',  \n",
    "      'HE1_BGC_dx10000m_min200m']\n",
    "\n",
    "sim =['HE1_BGC_dx250m_min200m', 'HE1_BGC_dx10000m_min200m']\n",
    "\n",
    "T_components = [(1,'Tracer1'), (2,'Tracer2')]\n",
    "BGC_components = [(1,'DOM1'), (3,'NO3-'),(2,'O2(aq)')]\n",
    "\n",
    "BGC_Simulations = [os.path.join(path[1],s) for s in sim]\n",
    "\n",
    "Simulations = [T_Simulations , BGC_Simulations]\n",
    "\n",
    "Simulations"
   ]
  },
  {
   "cell_type": "code",
   "execution_count": null,
   "metadata": {},
   "outputs": [],
   "source": [
    "\n"
   ]
  },
  {
   "cell_type": "code",
   "execution_count": 4,
   "metadata": {},
   "outputs": [],
   "source": [
    "# = np.concatenate([SimNBGC, SimBGC])\n",
    "Colors = ['r','k','b','g','gray', 'm']\n",
    "#Sim_dis = [r'NBGC ($\\alpha$=1E-4)',r'NBGC ($\\alpha$=2.5E-4)',r'BGC ($\\alpha$=1E-4)',r\"BGC ($\\alpha$=2.5E-4)\"]\n",
    "Sim_dis = ['250 m', '500 m','1000 m ','segment length']\n",
    "T_Sim_label = [r'250 m,  $\\alpha$', r'seg. length, $\\alpha$', r'250 m,  = 2.5 $\\alpha$',\n",
    "           r'seg. length, 2.5 $\\alpha$']\n",
    "T_Sim_label = ['HR_LE', 'SL_LE', 'HR_HE', 'SL_HE']\n",
    "Sim_label = ['HR_HE', 'SL_HE']"
   ]
  },
  {
   "cell_type": "code",
   "execution_count": 5,
   "metadata": {},
   "outputs": [],
   "source": [
    "marks = ['solid','dashed', 'dotted', 'dashdot']\n",
    "\n"
   ]
  },
  {
   "cell_type": "code",
   "execution_count": 6,
   "metadata": {},
   "outputs": [],
   "source": [
    "#plt.ticklabel_format(style='sci', axis='y', scilimits=(0,0))\n",
    "#%matplotlib qt\n",
    "outfile='/Users/ajc/Core/PostProcessing/ReactiveTransport/2021/Q2/'\n",
    "def get_discharge_fromfile(comp=1):\n",
    "    fig, axs = plt.subplots(1,2, figsize=(4,3), facecolor='w', edgecolor='k',gridspec_kw={'width_ratios':[1,1]})\n",
    "    fig.subplots_adjust(hspace =.02, wspace=1.02)\n",
    "    plt.tight_layout()\n",
    "    axs = axs.ravel()\n",
    "    to_micro = 1#1e+6\n",
    "    for i,sim in enumerate(Simulations):\n",
    "\n",
    "        for j,Tc in enumerate(components):\n",
    "            print (sim,Tc)\n",
    "            infile = os.path.join(sim,'surface-outlet.dat')\n",
    "            \n",
    "            time = np.loadtxt(infile,usecols=0,skiprows=11)/(86400.)\n",
    "            data = np.loadtxt(infile,usecols=Tc[0],skiprows=11)\n",
    "            #print (data[:5])\n",
    "            \n",
    "            axs[j].plot(time,1e-3*data*to_micro,color=Colors[i], linestyle=marks[j], label = Sim_dis[i])\n",
    "\n",
    "            axs[j].set_xlabel('Time [d]', fontsize=12,fontweight='normal')\n",
    "            #axs[j].set_ylabel('Concentration [$\\mu$M]', fontsize=12,fontweight='normal')\n",
    "            axs[j].set_ylabel('Concentration [Moles/L]', fontsize=12,fontweight='normal')\n",
    "            axs[j].set_title(Tc[1])\n",
    "            #axs[j].set_yticklabel_format(style='sci', axis='y', scilimits=(0,0),useMathText=True)\n",
    "            if j ==0:\n",
    "                axs[j].legend(loc='upper left',fontsize=7)\n",
    "            \n",
    "    plt.tight_layout()\n",
    "    #plt.savefig(outfile + '%s_%s_dtmean5.png'%(dir_name[0],dir_name[1]),dpi=200)\n",
    "    #plt.savefig(outfile + 'BTC-surfacefull.png',dpi=200)\n"
   ]
  },
  {
   "cell_type": "code",
   "execution_count": 7,
   "metadata": {},
   "outputs": [],
   "source": [
    "#get_discharge_fromfile(comp=1)"
   ]
  },
  {
   "cell_type": "code",
   "execution_count": null,
   "metadata": {},
   "outputs": [],
   "source": [
    "\n"
   ]
  },
  {
   "cell_type": "code",
   "execution_count": 75,
   "metadata": {},
   "outputs": [],
   "source": [
    "\n",
    "#%matplotlib qt\n",
    "outfile='/Users/ajc/Core/PostProcessing/ReactiveTransport/2021/Q2/'\n",
    "def get_discharge_fromfile_singletracer():\n",
    "    fig, axs = plt.subplots(1,1,figsize=(6,4))\n",
    "    #fig, axs = plt.subplots(1,1, figsize=(6,5), facecolor='w', edgecolor='k',gridspec_kw={'width_ratios':[1]})\n",
    "    #fig.subplots_adjust(hspace =.02, wspace=1.02)\n",
    "    plt.tight_layout()\n",
    "    #axs = axs.ravel()\n",
    "    to_micro = 1e+6\n",
    "    components = [(1,'Tracer1')]\n",
    "    for i,sim in enumerate(T_Simulations):\n",
    "\n",
    "        for j,Tc in enumerate(components):\n",
    "            print (sim,Tc)\n",
    "            infile = os.path.join(sim,'surface-outlet.dat')\n",
    "            \n",
    "            time = np.loadtxt(infile,usecols=0,skiprows=11)/(86400.)\n",
    "            data = np.loadtxt(infile,usecols=Tc[0],skiprows=11)\n",
    "            #print (data[:5])\n",
    "            #l1, l2 = len(time), len(data)\n",
    "            #l = min(l1,l2)\n",
    "            if i < 2:\n",
    "                axs.plot(time,1e-3*data*to_micro,color=Colors[i], linestyle=marks[0], linewidth=1., label = T_Sim_label[i])\n",
    "            else:\n",
    "                axs.plot(time,1e-3*data*to_micro,color=Colors[i-2], linestyle=marks[1], linewidth=1.0, label = T_Sim_label[i])\n",
    "            plt.yscale('log')\n",
    "            #plt.xscale('log')\n",
    "            #axs.set_ylim(1E-8,1E6)\n",
    "            #axs.set_yticks(np.arange(10**-8,10**6,10))\n",
    "            plt.ylim( (10**-8,10**6) )\n",
    "            axs.set_xlabel('Time [d]', fontsize=12,fontweight='normal')\n",
    "            axs.set_ylabel('Concentration [$\\mu$M]', fontsize=12,fontweight='normal')\n",
    "            #axs.set_ylabel('Concentration [M/L]', fontsize=12,fontweight='normal')\n",
    "            #axs.set_title(Tc[1])\n",
    "            #axs.ticklabel_format(style='sci', axis='y', scilimits=(0,0),useMathText=True)\n",
    "            \n",
    "            axs.legend(loc='upper right',fontsize=10)\n",
    "            \n",
    "            #axs.axvspan(27, 30, ymin=1e-7, ymax=0.38, alpha=0.05, color='grey')\n",
    "            #axs.axvspan(19.5, 20.7, ymin=1e-7, ymax=0.38, alpha=0.05, color='grey')\n",
    "    plt.tight_layout()\n",
    "    #plt.savefig(outfile + '%s_%s_dtmean5.png'%(dir_name[0],dir_name[1]),dpi=200)\n",
    "    #plt.savefig(outfile + 'S1_btc-cT_selectedstreams_1.png',dpi=200)\n",
    "    plt.savefig(outfile + 'BTC-cT_SIM13.png',dpi=300)\n",
    "\n"
   ]
  },
  {
   "cell_type": "code",
   "execution_count": 76,
   "metadata": {},
   "outputs": [
    {
     "name": "stdout",
     "output_type": "stream",
     "text": [
      "/Users/ajc/Core/simulations/production/streams/SIM_13/S2_dx250m_min100m (1, 'Tracer1')\n",
      "/Users/ajc/Core/simulations/production/streams/SIM_13/S2_dx10000m_min100m (1, 'Tracer1')\n",
      "/Users/ajc/Core/simulations/production/streams/SIM_13/S1_dx250m_min100m (1, 'Tracer1')\n",
      "/Users/ajc/Core/simulations/production/streams/SIM_13/S1_dx10000m_min100m (1, 'Tracer1')\n"
     ]
    },
    {
     "data": {
      "image/png": "[encoded data removed]",
      "text/plain": [
       "<Figure size 432x288 with 1 Axes>"
      ]
     },
     "metadata": {
      "needs_background": "light"
     },
     "output_type": "display_data"
    }
   ],
   "source": [
    "get_discharge_fromfile_singletracer()"
   ]
  },
  {
   "cell_type": "code",
   "execution_count": 16,
   "metadata": {},
   "outputs": [
    {
     "data": {
      "text/plain": [
       "array([1.e-08, 2.e+05, 4.e+05, 6.e+05, 8.e+05])"
      ]
     },
     "execution_count": 16,
     "metadata": {},
     "output_type": "execute_result"
    }
   ],
   "source": []
  },
  {
   "cell_type": "code",
   "execution_count": null,
   "metadata": {},
   "outputs": [],
   "source": []
  },
  {
   "cell_type": "code",
   "execution_count": null,
   "metadata": {},
   "outputs": [],
   "source": []
  },
  {
   "cell_type": "code",
   "execution_count": null,
   "metadata": {},
   "outputs": [],
   "source": []
  },
  {
   "cell_type": "code",
   "execution_count": null,
   "metadata": {},
   "outputs": [],
   "source": []
  }
 ],
 "metadata": {
  "kernelspec": {
   "display_name": "Python 3",
   "language": "python",
   "name": "python3"
  },
  "language_info": {
   "codemirror_mode": {
    "name": "ipython",
    "version": 3
   },
   "file_extension": ".py",
   "mimetype": "text/x-python",
   "name": "python",
   "nbconvert_exporter": "python",
   "pygments_lexer": "ipython3",
   "version": "3.7.6"
  }
 },
 "nbformat": 4,
 "nbformat_minor": 2
}
