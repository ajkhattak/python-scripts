{
 "cells": [
  {
   "cell_type": "markdown",
   "metadata": {},
   "source": [
    "# Notebook for plotting integrated (surface+subgrid) reactive transport SINGLE REACH"
   ]
  },
  {
   "cell_type": "code",
   "execution_count": 1,
   "metadata": {},
   "outputs": [],
   "source": [
    "import sys, os, math, h5py, csv\n",
    "import matplotlib.pyplot as plt\n",
    "from scipy import integrate\n",
    "import numpy as np\n",
    "sys.path.append('/Users/ajc/Core/codes/simulator/debug/ats/tools/utils')\n",
    "import read_helper as read\n",
    "import seaborn as sns"
   ]
  },
  {
   "cell_type": "code",
   "execution_count": 2,
   "metadata": {},
   "outputs": [],
   "source": [
    "path = '/Users/ajc/FUSE1/simulations/tests/ats-demos/13_reactive_transport/04_hyporheic'"
   ]
  },
  {
   "cell_type": "code",
   "execution_count": null,
   "metadata": {},
   "outputs": [],
   "source": []
  },
  {
   "cell_type": "code",
   "execution_count": 3,
   "metadata": {},
   "outputs": [],
   "source": [
    "F= ['test'] \n",
    "Files = [os.path.join(path,f,'visdump_surface_data.h5') for f in F]\n",
    "vars = ['surface-total_component_concentration', 'surface-total_component_concentration','surface-total_component_concentration']\n",
    "Suffix = ['.cell.DOM1', '.cell.NO3-', '.cell.O2(aq)']\n",
    "Colors = ['r','k','m']\n",
    "F_L = ['DOM1', 'NO3', 'O2']"
   ]
  },
  {
   "cell_type": "code",
   "execution_count": null,
   "metadata": {},
   "outputs": [],
   "source": []
  },
  {
   "cell_type": "code",
   "execution_count": null,
   "metadata": {},
   "outputs": [],
   "source": [
    "#%matplotlib tk\n",
    "fig, axs = plt.subplots(1,1, figsize=(6,4), facecolor='w', edgecolor='k',gridspec_kw={'width_ratios':[1]})\n",
    "fig.subplots_adjust(hspace =.02, wspace=1.02)\n",
    "plt.tight_layout()\n",
    "#axs = axs.ravel()\n",
    "X = np.linspace(0,3000,60) # <-- mesh resolution\n",
    "\n",
    "for i, v in enumerate(vars):\n",
    "    plt.subplot(111)\n",
    "    for j,f in enumerate(Files):\n",
    "        dat = readdata.GetSurfVarFromVis_All(f,v,suffix=Suffix[i])[v]\n",
    "        \n",
    "        data = np.array(dat[-1])\n",
    "        data_pc = [100*(dat[0][0] - d1 )/dat[0][0] for d1 in data] # Percentage reduction\n",
    "        \n",
    "        #plt.semilogy(pflotran_data['X'],1e-3*data,color=Colors[i],label=F_L[i],linewidth=2)\n",
    "        plt.plot(X,data_pc,color=Colors[i],label=F_L[i],linewidth=2)\n",
    "        #plt.plot(1e-3*dat,'*',color=Colors[i],label=F_L[i],linewidth=2)\n",
    "    plt.ylabel('component removal [%]')    \n",
    "    #plt.ylabel(vars[i] + ' [M]') # Molarity = Moles/liter\n",
    "    plt.xlabel('Distance [m]')\n",
    "    \n",
    "#plt.semilogy(pflotran_data['X'],pflotran_data['DOM1'],'k',linestyle='--',label='Pflotran DOM1')\n",
    "#plt.semilogy(pflotran_data['X'], pflotran_data['NO3-'],'g',linestyle='--',label='Pflotran NO3-')\n",
    "#plt.semilogy(pflotran_data['X'], pflotran_data['O2(aq)'],'c',linestyle='--',label='Pflotran O2(aq)')\n",
    "\n",
    "#plt.title('Location = 1000 m')\n",
    "#plt.ylim(1e-6,1e-3)\n",
    "#plt.ylim(1e-6,15)\n",
    "#plt.xlim(0,50)\n",
    "\n",
    "\n",
    "plt.legend(loc='lower right',fontsize=10)\n",
    "plt.show()"
   ]
  },
  {
   "cell_type": "code",
   "execution_count": null,
   "metadata": {},
   "outputs": [],
   "source": []
  },
  {
   "cell_type": "code",
   "execution_count": null,
   "metadata": {},
   "outputs": [],
   "source": [
    "outfile=\"/Users/ajc/Core/PostProcessing/ReactiveTransport/Hyporheic/Coweeta/June4/\""
   ]
  },
  {
   "cell_type": "code",
   "execution_count": null,
   "metadata": {},
   "outputs": [],
   "source": [
    "import seaborn as sns\n",
    "\n",
    "def subgrid_C(sg_file,sg_var, suff):\n",
    "        sgC_data = readdata.GetSurfVarFromVis_All(sg_file,sg_var,suffix=suff)\n",
    "        sgConcentration = sgC_data[sg_var]\n",
    "        return sgConcentration\n",
    "    \n",
    "def plot_surface_subgrid(cycle):\n",
    "\n",
    "    X = np.linspace(0,3000,60+1,dtype='i')\n",
    "    X1 = np.linspace(0,len(X),len(X),dtype='i')\n",
    "    X1 = X1[0:1]\n",
    "    \n",
    "    n_taus = 20\n",
    "    fig, axs = plt.subplots(nrows=1, ncols=3, figsize=(12, 4))#,facecolor='w', edgecolor='k',gridspec_kw={'width_ratios':[1,1,1]})\n",
    "    fig.subplots_adjust(hspace =.5, wspace=.002)\n",
    "    plt.tight_layout()\n",
    "    axs = axs.ravel()\n",
    "   \n",
    "    for i,x1 in enumerate(X1):\n",
    "        for c1, c in enumerate(Suffix):\n",
    "            sg_infile = os.path.join(path,F[0],'visdump_subgrid_%s_data.h5'%x1)\n",
    "            \n",
    "            sg_var='subgrid_%s-total_component_concentration'%x1\n",
    "            print (sg_var)\n",
    "            dat1 = subgrid_C(sg_file=sg_infile,sg_var=sg_var, suff=c)\n",
    "            \n",
    "            dat11a = 1e-3*np.reshape(dat1,(-1,n_taus))\n",
    "            #print (dat11a.shape)\n",
    "            #for k in range(dat11a.shape[0]):\n",
    "            dat11 = dat11a[cycle]\n",
    "            print (dat11)\n",
    "            axs[3*i+c1].plot(dat11,'.',label='sg_%s_%s'%(x1,c))\n",
    "            axs[3*i+c1].set_xlabel('# cells in Tau space')\n",
    "            axs[3*i + c1].legend()\n",
    "            axs[3*i + c1].set_ylim(1e-4,4e-4)\n",
    "            #plt.legend(loc='best', fontsize=9)\n",
    "    plt.savefig(outfile + \"11-scott.png\",dpi=100)\n",
    "    plt.show()"
   ]
  },
  {
   "cell_type": "code",
   "execution_count": null,
   "metadata": {},
   "outputs": [],
   "source": [
    "plot_surface_subgrid(cycle = 1)"
   ]
  },
  {
   "cell_type": "code",
   "execution_count": null,
   "metadata": {},
   "outputs": [],
   "source": []
  },
  {
   "cell_type": "code",
   "execution_count": null,
   "metadata": {},
   "outputs": [],
   "source": []
  },
  {
   "cell_type": "code",
   "execution_count": null,
   "metadata": {},
   "outputs": [],
   "source": [
    "subgrid initial condition = 0\n",
    "Monon equation? --> Half_saturation_constant\n",
    "if C is low MONOD reaction is first order\n",
    "if C is high MONOD reaction is zero order"
   ]
  }
 ],
 "metadata": {
  "kernelspec": {
   "display_name": "Python 3",
   "language": "python",
   "name": "python3"
  },
  "language_info": {
   "codemirror_mode": {
    "name": "ipython",
    "version": 3
   },
   "file_extension": ".py",
   "mimetype": "text/x-python",
   "name": "python",
   "nbconvert_exporter": "python",
   "pygments_lexer": "ipython3",
   "version": "3.7.6"
  }
 },
 "nbformat": 4,
 "nbformat_minor": 2
}
