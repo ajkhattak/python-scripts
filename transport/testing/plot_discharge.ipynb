{
 "cells": [
  {
   "cell_type": "code",
   "execution_count": 3,
   "metadata": {},
   "outputs": [],
   "source": [
    "import numpy as np\n",
    "import matplotlib\n",
    "import matplotlib.pyplot as plt\n",
    "import h5py\n",
    "\n",
    "from matplotlib import animation\n",
    "from matplotlib import cm\n",
    "from mpl_toolkits import mplot3d\n",
    "\n",
    "import os"
   ]
  },
  {
   "cell_type": "code",
   "execution_count": 31,
   "metadata": {},
   "outputs": [],
   "source": [
    "\n",
    "%matplotlib tk\n",
    "\n",
    "path_cades='/Users/ajc/FUSE1/simulations/tests/ats-tests/ats-transport-subgrid-testsuite/tests/logical-surface-twoway/coweeta'\n",
    "\n",
    "Simulations =['Srun1A','Srun1B']#,'Srun3','Srun4','Srun5']\n",
    "Colors = ['r','k','c','b','r','m','grey']\n",
    "def plot_discharge(time,data,label='',color='k'):\n",
    "    plt.plot(time,data,'k', marker = \".\", color=color, label ='pd = 0.001')\n",
    "\n",
    "\n",
    "plt.ticklabel_format(style='sci', axis='y', scilimits=(0,0))\n",
    "Labels = ['Stream + hyporheic ', 'Stream']\n",
    "for i,sim in enumerate(Simulations):\n",
    "    infile = os.path.join(path_cades,sim,'surface-outlet1.dat')\n",
    "    time = np.loadtxt(infile,usecols=0,skiprows=6)/(3600.)\n",
    "    data = np.loadtxt(infile,usecols=1,skiprows=6)\n",
    "    plt.plot(time,data,'-', color=Colors[i], label = Labels[i])\n",
    "    #plot_discharge(time, data, label=sim,color=Colors[i])\n",
    "\n",
    "\n",
    "plt.xlabel('Time [hr]', fontsize=12,fontweight='normal')\n",
    "plt.ylabel('Concentration [kg/m$^3$]', fontsize=12,fontweight='normal')\n",
    "plt.xlim(0,12)\n",
    "plt.legend(loc='upper right',fontsize=9)\n",
    "\n",
    "path='/Users/ajc/Core/PostProcessData/2019/simulations/transport/Coweeta/'\n",
    "plt.savefig(path + 'Srun1A_Srun1B.png',dpi=100)\n",
    "#plt.title('1-Reach: Component concentration at x = 1000 m', fontsize = 14)\n"
   ]
  },
  {
   "cell_type": "code",
   "execution_count": null,
   "metadata": {},
   "outputs": [],
   "source": []
  },
  {
   "cell_type": "code",
   "execution_count": null,
   "metadata": {},
   "outputs": [],
   "source": []
  },
  {
   "cell_type": "code",
   "execution_count": null,
   "metadata": {},
   "outputs": [],
   "source": []
  }
 ],
 "metadata": {
  "kernelspec": {
   "display_name": "Python 3",
   "language": "python",
   "name": "python3"
  },
  "language_info": {
   "codemirror_mode": {
    "name": "ipython",
    "version": 3
   },
   "file_extension": ".py",
   "mimetype": "text/x-python",
   "name": "python",
   "nbconvert_exporter": "python",
   "pygments_lexer": "ipython3",
   "version": "3.7.3"
  }
 },
 "nbformat": 4,
 "nbformat_minor": 2
}
