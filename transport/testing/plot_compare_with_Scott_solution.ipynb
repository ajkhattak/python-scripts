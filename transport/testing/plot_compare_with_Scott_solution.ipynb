{
 "cells": [
  {
   "cell_type": "code",
   "execution_count": null,
   "metadata": {},
   "outputs": [],
   "source": []
  },
  {
   "cell_type": "code",
   "execution_count": 1,
   "metadata": {},
   "outputs": [],
   "source": [
    "import numpy as np\n",
    "import matplotlib\n",
    "import matplotlib.pyplot as plt\n",
    "import h5py\n",
    "\n",
    "from matplotlib import animation\n",
    "from matplotlib import cm\n",
    "from mpl_toolkits import mplot3d\n",
    "\n",
    "import os,sys\n",
    "\n",
    "sys.path.append('/Users/ajc/Core/PreProcessing/PyScript')\n",
    "import readdata as rd\n",
    "import seaborn as sns"
   ]
  },
  {
   "cell_type": "code",
   "execution_count": 18,
   "metadata": {},
   "outputs": [
    {
     "name": "stdout",
     "output_type": "stream",
     "text": [
      "['/Users/ajc/Core/simulations/tests/ats-transport-subgrid-testsuite/tests/logical-surface-subgrid/transport-logical/testN/']\n"
     ]
    }
   ],
   "source": [
    "\n",
    "path='/Users/ajc/Core/simulations/tests/ats-transport-subgrid-testsuite/tests/logical-surface-subgrid/transport-logical/'\n",
    "Simulations = [os.path.join(path, 'testN/')]\n",
    "print (Simulations)"
   ]
  },
  {
   "cell_type": "code",
   "execution_count": null,
   "metadata": {},
   "outputs": [],
   "source": []
  },
  {
   "cell_type": "code",
   "execution_count": 19,
   "metadata": {},
   "outputs": [],
   "source": [
    "\n",
    "Colors = ['r','k','b','g','gray']\n",
    "#Sim_dis = [r'NBGC ($\\alpha$=1E-4)',r'NBGC ($\\alpha$=2.5E-4)',r'BGC ($\\alpha$=1E-4)',r\"BGC ($\\alpha$=2.5E-4)\"]\n",
    "#Sim_dis = ['NBGC', r'NBGC ($O_2\\updownarrow$)','BGC',r'BGC ($O_2\\updownarrow$)']\n",
    "Sim_dis = ['ats v1.1', 'BGC']\n",
    "\n"
   ]
  },
  {
   "cell_type": "code",
   "execution_count": 20,
   "metadata": {},
   "outputs": [],
   "source": [
    "components = [(1,'Tracer1')]\n",
    "marks = ['solid','dashed', 'dotted', 'dashdot']"
   ]
  },
  {
   "cell_type": "code",
   "execution_count": 35,
   "metadata": {},
   "outputs": [],
   "source": [
    "%matplotlib qt\n",
    "outfile='/Users/ajc/Core/PostProcessing/ReactiveTransport/2021/Q1/'\n",
    "def get_discharge_fromfile(comp=1):\n",
    "    fig, axs = plt.subplots(1,1, figsize=(6,4), facecolor='w', edgecolor='k',gridspec_kw={'width_ratios':[1]})\n",
    "    fig.subplots_adjust(hspace =.02, wspace=1.02)\n",
    "    plt.tight_layout()\n",
    "    #axs = axs.ravel()\n",
    "    to_micro = 1#1e+6\n",
    "    for i,sim in enumerate(Simulations):\n",
    "        \n",
    "        infile = os.path.join(sim,'surface-outlet.dat')\n",
    "        print (sim, infile)\n",
    "        time = np.loadtxt(infile,usecols=0,skiprows=11)/(3600.)\n",
    "        data = np.loadtxt(infile,usecols=1,skiprows=11)\n",
    "        \n",
    "            \n",
    "        axs.plot(time,data,color=Colors[i], linestyle=marks[0], label = Sim_dis[i])\n",
    "            \n",
    "        axs.set_xlabel('Time [h]', fontsize=12,fontweight='normal')\n",
    "        axs.set_ylabel('Concentration [M]', fontsize=12,fontweight='normal')\n",
    "            \n",
    "        axs.set_ylim(0,1)\n",
    "        \n",
    "        axs.set_title('Comparison with Scott\\'s solution')\n",
    "\n",
    "        axs.legend(loc='upper right',fontsize=12)\n",
    "    plt.tight_layout()\n",
    "   \n",
    "    plt.savefig(outfile + 'ats_mathematica.png',dpi=200)\n"
   ]
  },
  {
   "cell_type": "code",
   "execution_count": 36,
   "metadata": {},
   "outputs": [
    {
     "name": "stdout",
     "output_type": "stream",
     "text": [
      "/Users/ajc/Core/simulations/tests/ats-transport-subgrid-testsuite/tests/logical-surface-subgrid/transport-logical/testN/ /Users/ajc/Core/simulations/tests/ats-transport-subgrid-testsuite/tests/logical-surface-subgrid/transport-logical/testN/surface-outlet.dat\n"
     ]
    }
   ],
   "source": [
    "get_discharge_fromfile(comp=1)"
   ]
  },
  {
   "cell_type": "code",
   "execution_count": 127,
   "metadata": {},
   "outputs": [
    {
     "data": {
      "text/plain": [
       "345600"
      ]
     },
     "execution_count": 127,
     "metadata": {},
     "output_type": "execute_result"
    }
   ],
   "source": [
    "86400*4\n"
   ]
  },
  {
   "cell_type": "code",
   "execution_count": null,
   "metadata": {},
   "outputs": [],
   "source": []
  },
  {
   "cell_type": "code",
   "execution_count": null,
   "metadata": {},
   "outputs": [],
   "source": [
    "\n"
   ]
  },
  {
   "cell_type": "code",
   "execution_count": null,
   "metadata": {},
   "outputs": [],
   "source": []
  },
  {
   "cell_type": "code",
   "execution_count": null,
   "metadata": {},
   "outputs": [],
   "source": []
  },
  {
   "cell_type": "code",
   "execution_count": null,
   "metadata": {},
   "outputs": [],
   "source": []
  }
 ],
 "metadata": {
  "kernelspec": {
   "display_name": "Python 3",
   "language": "python",
   "name": "python3"
  },
  "language_info": {
   "codemirror_mode": {
    "name": "ipython",
    "version": 3
   },
   "file_extension": ".py",
   "mimetype": "text/x-python",
   "name": "python",
   "nbconvert_exporter": "python",
   "pygments_lexer": "ipython3",
   "version": "3.7.6"
  }
 },
 "nbformat": 4,
 "nbformat_minor": 2
}
