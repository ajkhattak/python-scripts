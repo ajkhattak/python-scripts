{
 "cells": [
  {
   "cell_type": "code",
   "execution_count": 1,
   "metadata": {},
   "outputs": [],
   "source": [
    "#************************* MAIN SCRIPT **********************************\n",
    "import sys, os, math, h5py, csv\n",
    "import matplotlib.pyplot as plt\n",
    "from scipy import integrate\n",
    "import numpy as np\n",
    "sys.path.append('/Users/ajc/Core/PreProcessing/PyScript')\n",
    "import readdata"
   ]
  },
  {
   "cell_type": "code",
   "execution_count": 2,
   "metadata": {},
   "outputs": [],
   "source": [
    "#path of the simulation directory\n",
    "path = '/Users/ajc/FUSE/simulations/tests/ats-transport-subgrid-testsuite/tests/logical-surface-twoway/transport-logical/'"
   ]
  },
  {
   "cell_type": "code",
   "execution_count": 3,
   "metadata": {},
   "outputs": [],
   "source": [
    "# Read PFOTRAN standalone data\n",
    "#pflotran_file = os.path.join(path, 'data/pflotran_out/decay_ingrowth.tec')\n",
    "#pflotran_data = dict()\n",
    "#pflotran_data['time'] = np.loadtxt(pflotran_file,usecols=0,skiprows=6) #time in hours\n",
    "#pflotran_data['Tracer 1'] = np.loadtxt(pflotran_file,usecols=1,skiprows=6)  # Tracer 1"
   ]
  },
  {
   "cell_type": "code",
   "execution_count": null,
   "metadata": {},
   "outputs": [],
   "source": []
  },
  {
   "cell_type": "code",
   "execution_count": 4,
   "metadata": {},
   "outputs": [],
   "source": [
    "F= ['prun1','prun2','prun3']\n",
    "Files = [os.path.join(path,f,'visdump_surface_data.h5') for f in F]\n",
    "vars = ['surface-total_component_concentration']#, 'surface-total_component_concentration']\n",
    "#Suffix = ['.cell.Tracer1 conc', '.cell.Tracer2 conc']\n",
    "Suffix = ['.cell.Tracer1', '.cell.Tracer2']"
   ]
  },
  {
   "cell_type": "code",
   "execution_count": 6,
   "metadata": {},
   "outputs": [
    {
     "name": "stdout",
     "output_type": "stream",
     "text": [
      "/Users/ajc/FUSE/simulations/tests/ats-transport-subgrid-testsuite/tests/logical-surface-twoway/transport-logical/prun1/visdump_surface_data.h5\n",
      "/Users/ajc/FUSE/simulations/tests/ats-transport-subgrid-testsuite/tests/logical-surface-twoway/transport-logical/prun2/visdump_surface_data.h5\n",
      "/Users/ajc/FUSE/simulations/tests/ats-transport-subgrid-testsuite/tests/logical-surface-twoway/transport-logical/prun3/visdump_surface_data.h5\n"
     ]
    },
    {
     "data": {
      "image/png": "[encoded data removed]",
      "text/plain": [
       "<Figure size 432x288 with 1 Axes>"
      ]
     },
     "metadata": {},
     "output_type": "display_data"
    }
   ],
   "source": [
    "\n",
    "fig, axs = plt.subplots(1,1, figsize=(6,4), facecolor='w', edgecolor='k',gridspec_kw={'width_ratios':[1]})\n",
    "fig.subplots_adjust(hspace =.02, wspace=1.02)\n",
    "plt.tight_layout()\n",
    "#axs = axs.ravel()\n",
    "Colors = ['r','k','b','b','c','m']\n",
    "F_L = ['Tracer 1', 'Tracer 2']\n",
    "sum1 = 0\n",
    "marks = ['-.', '*']\n",
    "Taus = [10, 20, 30]\n",
    "for i, v in enumerate(vars):\n",
    "    plt.subplot(111)\n",
    "    for j,f in enumerate(Files):\n",
    "        print (f)\n",
    "        data = np.array(readdata.GetSurfVarFromVis(f,v,cellid=-1,suffix=Suffix[i])[v])\n",
    "        Time = np.array([120*i/3600. for i in range(len(data))])\n",
    "        #plt.plot(Time, 1.e0*data,color=Colors[i],label=F_L[i]) # convert ATS moles/second to Pflotran moles/litre\n",
    "        \n",
    "        plt.plot(Time, 1.e0*data,color=Colors[j],label=F[j] + ', Tau ' +str(Taus[j])) # convert ATS moles/second to Pflotran moles/litre\n",
    "\n",
    "    plt.ylabel(vars[i])\n",
    "    \n",
    "    plt.xlabel('Time [h]')\n",
    "\n",
    "#plt.plot(pflotran_data['time'], pflotran_data['Tracer 1'],'r',linestyle='--',label='PFLOTRAN Tracer 1')\n",
    "#plt.plot(pflotran_data['time'], pflotran_data['Tracer 2'],'k',linestyle='--',label='PFLOTRAN Tracer 2')\n",
    "plt.legend(loc='upper right',fontsize=10)\n",
    "#plt.title('Two identical tracers  (same exchange/external_sources)')\n",
    "#plt.title('Tracer1: (Q1 = 0.1, alpha_1 =1.7e-5),\\n Tracer2: (Q2 = 0.1, alpha_2 =1.7e-4)')\n",
    "\n",
    "plt.show()"
   ]
  },
  {
   "cell_type": "code",
   "execution_count": null,
   "metadata": {},
   "outputs": [],
   "source": []
  },
  {
   "cell_type": "code",
   "execution_count": null,
   "metadata": {},
   "outputs": [],
   "source": [
    "fig, axs = plt.subplots(1,2, figsize=(10,4), facecolor='w', edgecolor='k',gridspec_kw={'width_ratios':[1,1]})\n",
    "fig.subplots_adjust(hspace =.02, wspace=1.02)\n",
    "plt.tight_layout()\n",
    "Colors = ['r','k','b','b','c','m']\n",
    "Colors_sg = ['c','m','g']\n",
    "F_L = ['Tracer 1', 'Tracer 2']\n",
    "def subgrid_C(sg_file,sg_var, suff):\n",
    "    sgC_data = readdata.GetSurfVarFromVis_All(sg_file,sg_var,suffix=suff)\n",
    "    sgConcentration = sgC_data[sg_var]\n",
    "    #print ('subgrid C: ',sgConcentration)\n",
    "    return sgConcentration\n",
    "\n",
    "sum1 = 0\n",
    "ncells = 9\n",
    "for i, v in enumerate(vars):\n",
    "    #print (v)\n",
    "    #print (v, Suffix[i])\n",
    "    plt.subplot(121)\n",
    "    \n",
    "    dat1 = np.array(readdata.GetSurfVarFromVis(Files[0],v,cellid=ncells,suffix=Suffix[0])[v])\n",
    "    dat2 = np.array(readdata.GetSurfVarFromVis(Files[0],v,cellid=ncells,suffix=Suffix[1])[v])\n",
    "    data = dat1 + dat2\n",
    "    Time = np.array([900*i/3600. for i in range(len(data))])\n",
    "    if i ==0:\n",
    "        plt.plot(Time, 1.e-3*data,color=Colors[2],label='total concent. %s'%(np.round(1e-3*data[-1],5)))\n",
    "    plt.plot(Time, 1.e-3*dat1,color=Colors[0],label='%s: %s'%(F_L[0],np.round(1e-3*dat1[-1],5)))\n",
    "    plt.plot(Time, 1.e-3*dat2,color=Colors[1],label='%s: %s'%(F_L[1],np.round(1e-3*dat2[-1],5)))\n",
    "    sum1 = sum1 + 1e-3*data[-1]\n",
    "    print ('surface:', sum1,1e-3*data[-1])\n",
    "    plt.ylabel(vars[i])\n",
    "    \n",
    "    plt.xlabel('Time [h]')\n",
    "    plt.title('stream')\n",
    "    plt.legend()\n",
    "    break\n",
    "plt.subplot(122)\n",
    "xnum = 100\n",
    "R = [0, int(ncells/2),ncells]\n",
    "i = 0\n",
    "for x1 in R:\n",
    "    \n",
    "    sg_infile = os.path.join(path,F[0],'visdump_subgrid_%s_data.h5'%x1)\n",
    "    sg_var='subgrid_%s-total_component_concentration'%x1\n",
    "    dat1 = subgrid_C(sg_file=sg_infile,sg_var=sg_var, suff=Suffix[0])#[k][::-1]\n",
    "    dat2 = subgrid_C(sg_file=sg_infile,sg_var=sg_var, suff=Suffix[1])#[k][::-1]\n",
    "    dat = dat1 + dat2\n",
    "    data = 1e-3*np.reshape(dat,(-1,10)).mean(axis=1) #sum-up all subgrid cells\n",
    "    \n",
    "    print (sg_var, dat.shape, data[-1])\n",
    "    plt.plot(Time, data,color=Colors[i], label='subgrid_%s  (Concent. %s)'%(x1,np.round(data[-1],4)))\n",
    "    \n",
    "    if (i ==2):\n",
    "        dat11 = 1e-3*np.reshape(dat1,(-1,10)).mean(axis=1)\n",
    "        dat11a = 1e-3*np.reshape(dat1,(-1,10))\n",
    "        #print (dat11a)\n",
    "        dat11 = [d[0] for d in dat11a]\n",
    "        plt.plot(Time, dat11,'*',color=Colors_sg[i-1],label='subgrid_%s  (Tc1. %s)'%(x1,np.round(dat11[-1],4)))\n",
    "        dat21 = 1e-3*np.reshape(dat2,(-1,10)).mean(axis=1)\n",
    "        plt.plot(Time, dat21,'.',color=Colors_sg[i],label='subgrid_%s  (Tc2. %s)'%(x1,np.round(dat21[-1],4)))\n",
    "    i = i +1\n",
    "plt.title('subgrid')\n",
    "plt.legend(loc='lower right', fontsize=9)\n",
    "plt.show()\n"
   ]
  },
  {
   "cell_type": "code",
   "execution_count": null,
   "metadata": {},
   "outputs": [],
   "source": []
  },
  {
   "cell_type": "code",
   "execution_count": null,
   "metadata": {},
   "outputs": [],
   "source": [
    "fig, axs = plt.subplots(1,3, figsize=(14,4), facecolor='w', edgecolor='k',gridspec_kw={'width_ratios':[1,1,1]})\n",
    "fig.subplots_adjust(hspace =.02, wspace=1.02)\n",
    "plt.tight_layout()\n",
    "Colors = ['r','k','b','b','c','m']\n",
    "Colors_sg = ['r','k','g']\n",
    "F_L = ['Tracer 1', 'Tracer 2']\n",
    "def subgrid_C(sg_file,sg_var, suff):\n",
    "    sgC_data = readdata.GetSurfVarFromVis_All(sg_file,sg_var,suffix=suff)\n",
    "    sgConcentration = sgC_data[sg_var]\n",
    "    #print ('subgrid C: ',sgConcentration)\n",
    "    return sgConcentration\n",
    "\n",
    "sum1 = 0\n",
    "ncells = 9\n",
    "for i, v in enumerate(vars):\n",
    "    #print (v)\n",
    "    #print (v, Suffix[i])\n",
    "    plt.subplot(131)\n",
    "    \n",
    "    dat1 = np.array(readdata.GetSurfVarFromVis(Files[0],v,cellid=ncells,suffix=Suffix[0])[v])\n",
    "    dat2 = np.array(readdata.GetSurfVarFromVis(Files[0],v,cellid=ncells,suffix=Suffix[1])[v])\n",
    "    data = dat1 + dat2\n",
    "    Time = np.array([900*i/3600. for i in range(len(data))])\n",
    "    if i ==0:\n",
    "        plt.plot(Time, 1.e-3*data,color=Colors[2],label='total concent. %s'%(np.round(1e-3*data[-1],5)))\n",
    "    plt.plot(Time, 1.e-3*dat1,color=Colors[0],label='%s: %s'%(F_L[0],np.round(1e-3*dat1[-1],5)))\n",
    "    plt.plot(Time, 1.e-3*dat2,color=Colors[1],label='%s: %s'%(F_L[1],np.round(1e-3*dat2[-1],5)))\n",
    "    sum1 = sum1 + 1e-3*data[-1]\n",
    "    print ('surface:', sum1,1e-3*data[-1])\n",
    "    plt.ylabel(vars[i])\n",
    "    \n",
    "    plt.xlabel('Time [h]')\n",
    "    plt.title('stream')\n",
    "    plt.legend()\n",
    "    break\n",
    "plt.subplot(132)\n",
    "xnum = 100\n",
    "R = [0, ncells]\n",
    "i = 0\n",
    "n_taus = 10\n",
    "for x1 in R:\n",
    "    \n",
    "    sg_infile = os.path.join(path,F[0],'visdump_subgrid_%s_data.h5'%x1)\n",
    "    sg_var='subgrid_%s-total_component_concentration'%x1\n",
    "    dat1 = subgrid_C(sg_file=sg_infile,sg_var=sg_var, suff=Suffix[0])#[k][::-1]\n",
    "    dat2 = subgrid_C(sg_file=sg_infile,sg_var=sg_var, suff=Suffix[1])#[k][::-1]\n",
    "    dat = dat1 + dat2\n",
    "    data = 1e-3*np.reshape(dat,(-1,n_taus)).mean(axis=1) #sum-up all subgrid cells\n",
    "    \n",
    "    print (sg_var, dat.shape, data[-1])\n",
    "    plt.plot(Time, data,color=Colors[i], label='sg_%s  (Concent. %s)'%(x1,np.round(data[-1],4)))\n",
    "    \n",
    "    if (i ==1):\n",
    "        dat11 = 1e-3*np.reshape(dat1,(-1,n_taus)).mean(axis=1)\n",
    "        dat11a = 1e-3*np.reshape(dat1,(-1,n_taus))\n",
    "        #print (dat11a)\n",
    "        dat11 = [d[0] for d in dat11a]\n",
    "        plt.plot(Time, dat11,'*',color=Colors_sg[i-1],label='sg_%s  (Tc1. %s)'%(x1,np.round(dat11[-1],4)))\n",
    "        dat21 = 1e-3*np.reshape(dat2,(-1,n_taus)).mean(axis=1)\n",
    "        plt.plot(Time, dat21,'.',color=Colors_sg[i],label='sg_%s  (Tc2. %s)'%(x1,np.round(dat21[-1],4)))\n",
    "    i = i +1\n",
    "plt.title('subgrid. Tracer 1 and 2 at sg_cell 0')\n",
    "plt.legend(loc='lower right', fontsize=9)\n",
    "plt.subplot(133)\n",
    "i = 0\n",
    "for x1 in R:\n",
    "    \n",
    "    sg_infile = os.path.join(path,F[0],'visdump_subgrid_%s_data.h5'%x1)\n",
    "    sg_var='subgrid_%s-total_component_concentration'%x1\n",
    "    dat1 = subgrid_C(sg_file=sg_infile,sg_var=sg_var, suff=Suffix[0])#[-1][::-1]\n",
    "    dat2 = subgrid_C(sg_file=sg_infile,sg_var=sg_var, suff=Suffix[1])#[-1][::-1]\n",
    "    #dat = dat1 + dat2\n",
    "    #data = 1e-3*np.reshape(dat,(-1,10)).mean(axis=1) #sum-up all subgrid cells\n",
    "    \n",
    "    #print (sg_var, dat.shape, data[-1])\n",
    "    #plt.plot(Time, data,color=Colors[i], label='subgrid_%s  (Concent. %s)'%(x1,np.round(data[-1],4)))\n",
    "    \n",
    "    if (i ==1 or i ==0):\n",
    "        #dat11 = 1e-3*np.reshape(dat1,(-1,10)).mean(axis=1)\n",
    "        dat11a = 1e-3*np.reshape(dat1,(-1,n_taus))\n",
    "        #print (dat11a)\n",
    "        dat11 = dat11a[-1]\n",
    "        plt.plot(dat11,'*',color=Colors_sg[i],label='sg_%s  (Tc1. %s)'%(x1,np.round(np.max(dat11),4)))\n",
    "        #dat21 = 1e-3*np.reshape(dat2,(-1,10)).mean(axis=1)\n",
    "        dat21a = 1e-3*np.reshape(dat2,(-1,n_taus))\n",
    "        dat21 = dat21a[-1]\n",
    "        plt.plot(dat21,'.',color=Colors_sg[i],label='sg_%s  (Tc2. %s)'%(x1,np.round(np.max(dat21),4)))\n",
    "    i = i +1\n",
    "plt.title('subgrid')\n",
    "\n",
    "\n",
    "plt.legend(loc='best', fontsize=9)\n",
    "plt.show()\n"
   ]
  },
  {
   "cell_type": "code",
   "execution_count": null,
   "metadata": {},
   "outputs": [],
   "source": []
  },
  {
   "cell_type": "code",
   "execution_count": null,
   "metadata": {},
   "outputs": [],
   "source": []
  },
  {
   "cell_type": "code",
   "execution_count": null,
   "metadata": {},
   "outputs": [],
   "source": []
  },
  {
   "cell_type": "code",
   "execution_count": null,
   "metadata": {},
   "outputs": [],
   "source": []
  },
  {
   "cell_type": "code",
   "execution_count": null,
   "metadata": {},
   "outputs": [],
   "source": []
  },
  {
   "cell_type": "code",
   "execution_count": null,
   "metadata": {},
   "outputs": [],
   "source": []
  },
  {
   "cell_type": "code",
   "execution_count": null,
   "metadata": {},
   "outputs": [],
   "source": []
  },
  {
   "cell_type": "code",
   "execution_count": null,
   "metadata": {},
   "outputs": [],
   "source": []
  },
  {
   "cell_type": "code",
   "execution_count": null,
   "metadata": {},
   "outputs": [],
   "source": []
  },
  {
   "cell_type": "code",
   "execution_count": null,
   "metadata": {},
   "outputs": [],
   "source": []
  },
  {
   "cell_type": "code",
   "execution_count": null,
   "metadata": {},
   "outputs": [],
   "source": []
  },
  {
   "cell_type": "code",
   "execution_count": null,
   "metadata": {},
   "outputs": [],
   "source": [
    "What is your criterea for mcmc convergence\n",
    "\n",
    "Different initial values for parameters\n",
    "\n",
    "Predictive uncertainty.\n",
    "\n",
    "Did you pick all data from location 3 – are you matching \n",
    "\n",
    "Instead of using just one observed tracer, did you try \n",
    "\n",
    "Adam ward 2016\n"
   ]
  },
  {
   "cell_type": "code",
   "execution_count": null,
   "metadata": {},
   "outputs": [],
   "source": [
    "there is no reason to believe it will not work\n",
    "I will echo your comment\n",
    "We are working with one data set, but are not marry to it"
   ]
  }
 ],
 "metadata": {
  "kernelspec": {
   "display_name": "Python 3",
   "language": "python",
   "name": "python3"
  },
  "language_info": {
   "codemirror_mode": {
    "name": "ipython",
    "version": 3
   },
   "file_extension": ".py",
   "mimetype": "text/x-python",
   "name": "python",
   "nbconvert_exporter": "python",
   "pygments_lexer": "ipython3",
   "version": "3.7.6"
  }
 },
 "nbformat": 4,
 "nbformat_minor": 2
}
