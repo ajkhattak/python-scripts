{
 "cells": [
  {
   "cell_type": "code",
   "execution_count": 1,
   "metadata": {},
   "outputs": [],
   "source": [
    "#************************* MAIN SCRIPT **********************************\n",
    "import sys, os, math, h5py, csv\n",
    "import matplotlib.pyplot as plt\n",
    "from scipy import integrate\n",
    "import numpy as np\n",
    "\n",
    "sys.path.append('/Users/ajc/Core/PreProcessing/PyScript')\n",
    "import readdata"
   ]
  },
  {
   "cell_type": "code",
   "execution_count": 2,
   "metadata": {},
   "outputs": [],
   "source": [
    "#path of the simulation directory\n",
    "#path = '/Users/ajc/FUSE/simulations/tests/ats-demos/13_reactive_transport/01_surface'\n",
    "path = '/Users/ajc/FUSE/simulations/tests/ats-demos/13_reactive_transport/04_hyporheic'"
   ]
  },
  {
   "cell_type": "code",
   "execution_count": 3,
   "metadata": {},
   "outputs": [],
   "source": [
    "# Read PFOTRAN standalone data\n",
    "pflotran_file = os.path.join(path, 'data/pflotran_out/decay_ingrowth.tec')\n",
    "pflotran_data = dict()\n",
    "pflotran_data['time'] = np.loadtxt(pflotran_file,usecols=0,skiprows=6) #time in hours\n",
    "pflotran_data['Tracer 1'] = np.loadtxt(pflotran_file,usecols=1+2,skiprows=6)  # Tracer 1\n",
    "pflotran_data['Tracer 2'] = np.loadtxt(pflotran_file,usecols=2+2,skiprows=6)  # Tracer 1"
   ]
  },
  {
   "cell_type": "code",
   "execution_count": null,
   "metadata": {},
   "outputs": [],
   "source": []
  },
  {
   "cell_type": "code",
   "execution_count": 7,
   "metadata": {},
   "outputs": [],
   "source": [
    "\n",
    "F= ['srun1A']\n",
    "F= ['prun3']\n",
    "Files = [os.path.join(path,f,'visdump_surface_data.h5') for f in F]\n",
    "vars = ['surface-total_component_concentration', 'surface-total_component_concentration']#,'surface-total_component_concentration']\n",
    "Suffix = ['.cell.Tracer1 conc', '.cell.Tracer2 conc']\n",
    "Suffix_nochem = ['.cell.Tracer1', '.cell.Tracer2']"
   ]
  },
  {
   "cell_type": "code",
   "execution_count": null,
   "metadata": {},
   "outputs": [],
   "source": [
    "#%matplotlib tk\n",
    "fig, axs = plt.subplots(1,1, figsize=(6,4), facecolor='w', edgecolor='k',gridspec_kw={'width_ratios':[1]})\n",
    "fig.subplots_adjust(hspace =.02, wspace=1.02)\n",
    "plt.tight_layout()\n",
    "#axs = axs.ravel()\n",
    "Colors = ['r','k','b','b','c','m']\n",
    "F_L = ['Tracer 1', 'Tracer 2']\n",
    "sum1 = 0\n",
    "for i, v in enumerate(vars):\n",
    "    print (v)\n",
    "    print (v, Suffix[i])\n",
    "    plt.subplot(111)\n",
    "    for j,f in enumerate(Files):\n",
    "        data = np.array(readdata.GetSurfVarFromVis(f,v,cellid=9,suffix=Suffix[i])[v])\n",
    "        Time = np.array([1240*i/3600. for i in range(len(data))])\n",
    "        plt.plot(Time, 1.e-3*data,color=Colors[i],label=F_L[i]) # convert ATS moles/second to Pflotran moles/litre\n",
    "        sum1 = sum1 + 1e-3*data[-1]\n",
    "        print (sum1,1e-3*data[-1])\n",
    "    plt.ylabel(vars[i])\n",
    "    \n",
    "    plt.xlabel('Time [h]')\n",
    "\n",
    "#plt.plot(pflotran_data['time'], pflotran_data['Tracer 1'],'r',linestyle='--',label='PFLOTRAN Tracer 1')\n",
    "#plt.plot(pflotran_data['time'], pflotran_data['Tracer 2'],'k',linestyle='--',label='PFLOTRAN Tracer 2')\n",
    "plt.legend(loc='lower right',fontsize=10)\n",
    "#plt.title('Location = 1000 m, ')\n",
    "#plt.xlim(0,8)\n",
    "plt.show()"
   ]
  },
  {
   "cell_type": "code",
   "execution_count": null,
   "metadata": {},
   "outputs": [],
   "source": []
  },
  {
   "cell_type": "code",
   "execution_count": null,
   "metadata": {},
   "outputs": [],
   "source": [
    "fig, axs = plt.subplots(1,2, figsize=(10,4), facecolor='w', edgecolor='k',gridspec_kw={'width_ratios':[1,1]})\n",
    "fig.subplots_adjust(hspace =.02, wspace=1.02)\n",
    "plt.tight_layout()\n",
    "Colors = ['r','k','b','b','c','m']\n",
    "Colors_sg = ['c','m','g']\n",
    "F_L = ['Tracer 1', 'Tracer 2']\n",
    "def subgrid_C(sg_file,sg_var, suff):\n",
    "    sgC_data = readdata.GetSurfVarFromVis_All(sg_file,sg_var,suffix=suff)\n",
    "    sgConcentration = sgC_data[sg_var]\n",
    "    #print ('subgrid C: ',sgConcentration)\n",
    "    return sgConcentration\n",
    "\n",
    "sum1 = 0\n",
    "ncells = 9\n",
    "for i, v in enumerate(vars):\n",
    "    #print (v)\n",
    "    #print (v, Suffix[i])\n",
    "    plt.subplot(121)\n",
    "    \n",
    "    dat1 = np.array(readdata.GetSurfVarFromVis(Files[0],v,cellid=ncells,suffix=Suffix[0])[v])\n",
    "    dat2 = np.array(readdata.GetSurfVarFromVis(Files[0],v,cellid=ncells,suffix=Suffix[1])[v])\n",
    "    data = dat1 + dat2\n",
    "    Time = np.array([900*i/3600. for i in range(len(data))])\n",
    "    if i ==0:\n",
    "        plt.plot(Time, 1.e-3*data,color=Colors[2],label='total concent. %s'%(np.round(1e-3*data[-1],5)))\n",
    "    plt.plot(Time, 1.e-3*dat1,color=Colors[0],label='%s: %s'%(F_L[0],np.round(1e-3*dat1[-1],5)))\n",
    "    plt.plot(Time, 1.e-3*dat2,color=Colors[1],label='%s: %s'%(F_L[1],np.round(1e-3*dat2[-1],5)))\n",
    "    sum1 = sum1 + 1e-3*data[-1]\n",
    "    print ('surface:', sum1,1e-3*data[-1])\n",
    "    plt.ylabel(vars[i])\n",
    "    \n",
    "    plt.xlabel('Time [h]')\n",
    "    plt.title('stream')\n",
    "    plt.legend()\n",
    "    break\n",
    "plt.subplot(122)\n",
    "xnum = 100\n",
    "R = [0, int(ncells/2),ncells]\n",
    "i = 0\n",
    "for x1 in R:\n",
    "    \n",
    "    sg_infile = os.path.join(path,F[0],'visdump_subgrid_%s_data.h5'%x1)\n",
    "    sg_var='subgrid_%s-total_component_concentration'%x1\n",
    "    dat1 = subgrid_C(sg_file=sg_infile,sg_var=sg_var, suff=Suffix[0])#[k][::-1]\n",
    "    dat2 = subgrid_C(sg_file=sg_infile,sg_var=sg_var, suff=Suffix[1])#[k][::-1]\n",
    "    dat = dat1 + dat2\n",
    "    data = 1e-3*np.reshape(dat,(-1,10)).mean(axis=1) #sum-up all subgrid cells\n",
    "    \n",
    "    print (sg_var, dat.shape, data[-1])\n",
    "    plt.plot(Time, data,color=Colors[i], label='subgrid_%s  (Concent. %s)'%(x1,np.round(data[-1],4)))\n",
    "    \n",
    "    if (i ==2):\n",
    "        dat11 = 1e-3*np.reshape(dat1,(-1,10)).mean(axis=1)\n",
    "        dat11a = 1e-3*np.reshape(dat1,(-1,10))\n",
    "        #print (dat11a)\n",
    "        dat11 = [d[0] for d in dat11a]\n",
    "        plt.plot(Time, dat11,'*',color=Colors_sg[i-1],label='subgrid_%s  (Tc1. %s)'%(x1,np.round(dat11[-1],4)))\n",
    "        dat21 = 1e-3*np.reshape(dat2,(-1,10)).mean(axis=1)\n",
    "        plt.plot(Time, dat21,'.',color=Colors_sg[i],label='subgrid_%s  (Tc2. %s)'%(x1,np.round(dat21[-1],4)))\n",
    "    i = i +1\n",
    "plt.title('subgrid')\n",
    "plt.legend(loc='lower right', fontsize=9)\n",
    "plt.show()\n"
   ]
  },
  {
   "cell_type": "code",
   "execution_count": null,
   "metadata": {},
   "outputs": [],
   "source": []
  },
  {
   "cell_type": "code",
   "execution_count": 10,
   "metadata": {},
   "outputs": [
    {
     "name": "stdout",
     "output_type": "stream",
     "text": [
      "surface: 0.9840906572172109 0.9840906572172109\n",
      "subgrid_0-total_component_concentration (193, 10) 0.9974760245192269\n",
      "subgrid_9-total_component_concentration (193, 10) 0.983963358364108\n"
     ]
    },
    {
     "data": {
      "image/png": "[encoded data removed]",
      "text/plain": [
       "<Figure size 1008x288 with 3 Axes>"
      ]
     },
     "metadata": {},
     "output_type": "display_data"
    }
   ],
   "source": [
    "fig, axs = plt.subplots(1,3, figsize=(14,4), facecolor='w', edgecolor='k',gridspec_kw={'width_ratios':[1,1,1]})\n",
    "fig.subplots_adjust(hspace =.02, wspace=1.02)\n",
    "plt.tight_layout()\n",
    "Colors = ['r','k','b','b','c','m']\n",
    "Colors_sg = ['r','k','g']\n",
    "F_L = ['Tracer 1', 'Tracer 2']\n",
    "def subgrid_C(sg_file,sg_var, suff):\n",
    "    sgC_data = readdata.GetSurfVarFromVis_All(sg_file,sg_var,suffix=suff)\n",
    "    sgConcentration = sgC_data[sg_var]\n",
    "    #print ('subgrid C: ',sgConcentration)\n",
    "    return sgConcentration\n",
    "\n",
    "sum1 = 0\n",
    "ncells = 9\n",
    "for i, v in enumerate(vars):\n",
    "    #print (v)\n",
    "    #print (v, Suffix[i])\n",
    "    plt.subplot(131)\n",
    "    \n",
    "    dat1 = np.array(readdata.GetSurfVarFromVis(Files[0],v,cellid=ncells,suffix=Suffix[0])[v])\n",
    "    dat2 = np.array(readdata.GetSurfVarFromVis(Files[0],v,cellid=ncells,suffix=Suffix[1])[v])\n",
    "    data = dat1 + dat2\n",
    "    Time = np.array([900*i/3600. for i in range(len(data))])\n",
    "    if i ==0:\n",
    "        plt.plot(Time, 1.e-3*data,color=Colors[2],label='total concent. %s'%(np.round(1e-3*data[-1],5)))\n",
    "    plt.plot(Time, 1.e-3*dat1,color=Colors[0],label='%s: %s'%(F_L[0],np.round(1e-3*dat1[-1],5)))\n",
    "    plt.plot(Time, 1.e-3*dat2,color=Colors[1],label='%s: %s'%(F_L[1],np.round(1e-3*dat2[-1],5)))\n",
    "    sum1 = sum1 + 1e-3*data[-1]\n",
    "    print ('surface:', sum1,1e-3*data[-1])\n",
    "    plt.ylabel(vars[i])\n",
    "    \n",
    "    plt.xlabel('Time [h]')\n",
    "    plt.title('stream')\n",
    "    plt.legend()\n",
    "    break\n",
    "plt.subplot(132)\n",
    "xnum = 100\n",
    "R = [0, ncells]\n",
    "i = 0\n",
    "n_taus = 10\n",
    "for x1 in R:\n",
    "    \n",
    "    sg_infile = os.path.join(path,F[0],'visdump_subgrid_%s_data.h5'%x1)\n",
    "    sg_var='subgrid_%s-total_component_concentration'%x1\n",
    "    dat1 = subgrid_C(sg_file=sg_infile,sg_var=sg_var, suff=Suffix[0])#[k][::-1]\n",
    "    dat2 = subgrid_C(sg_file=sg_infile,sg_var=sg_var, suff=Suffix[1])#[k][::-1]\n",
    "    dat = dat1 + dat2\n",
    "    data = 1e-3*np.reshape(dat,(-1,n_taus)).mean(axis=1) #sum-up all subgrid cells\n",
    "    \n",
    "    print (sg_var, dat.shape, data[-1])\n",
    "    plt.plot(Time, data,color=Colors[i], label='sg_%s  (Concent. %s)'%(x1,np.round(data[-1],4)))\n",
    "    \n",
    "    if (i ==1):\n",
    "        dat11 = 1e-3*np.reshape(dat1,(-1,n_taus)).mean(axis=1)\n",
    "        dat11a = 1e-3*np.reshape(dat1,(-1,n_taus))\n",
    "        #print (dat11a)\n",
    "        dat11 = [d[0] for d in dat11a]\n",
    "        plt.plot(Time, dat11,'*',color=Colors_sg[i-1],label='sg_%s  (Tc1. %s)'%(x1,np.round(dat11[-1],4)))\n",
    "        dat21 = 1e-3*np.reshape(dat2,(-1,n_taus)).mean(axis=1)\n",
    "        plt.plot(Time, dat21,'.',color=Colors_sg[i],label='sg_%s  (Tc2. %s)'%(x1,np.round(dat21[-1],4)))\n",
    "    i = i +1\n",
    "plt.title('subgrid. Tracer 1 and 2 at sg_cell 0')\n",
    "plt.legend(loc='lower right', fontsize=9)\n",
    "plt.subplot(133)\n",
    "i = 0\n",
    "for x1 in R:\n",
    "    \n",
    "    sg_infile = os.path.join(path,F[0],'visdump_subgrid_%s_data.h5'%x1)\n",
    "    sg_var='subgrid_%s-total_component_concentration'%x1\n",
    "    dat1 = subgrid_C(sg_file=sg_infile,sg_var=sg_var, suff=Suffix[0])#[-1][::-1]\n",
    "    dat2 = subgrid_C(sg_file=sg_infile,sg_var=sg_var, suff=Suffix[1])#[-1][::-1]\n",
    "    #dat = dat1 + dat2\n",
    "    #data = 1e-3*np.reshape(dat,(-1,10)).mean(axis=1) #sum-up all subgrid cells\n",
    "    \n",
    "    #print (sg_var, dat.shape, data[-1])\n",
    "    #plt.plot(Time, data,color=Colors[i], label='subgrid_%s  (Concent. %s)'%(x1,np.round(data[-1],4)))\n",
    "    \n",
    "    if (i ==1 or i ==0):\n",
    "        #dat11 = 1e-3*np.reshape(dat1,(-1,10)).mean(axis=1)\n",
    "        dat11a = 1e-3*np.reshape(dat1,(-1,n_taus))\n",
    "        #print (dat11a)\n",
    "        dat11 = dat11a[-1]\n",
    "        plt.plot(dat11,'*',color=Colors_sg[i],label='sg_%s  (Tc1. %s)'%(x1,np.round(np.max(dat11),4)))\n",
    "        #dat21 = 1e-3*np.reshape(dat2,(-1,10)).mean(axis=1)\n",
    "        dat21a = 1e-3*np.reshape(dat2,(-1,n_taus))\n",
    "        dat21 = dat21a[-1]\n",
    "        plt.plot(dat21,'.',color=Colors_sg[i],label='sg_%s  (Tc2. %s)'%(x1,np.round(np.max(dat21),4)))\n",
    "    i = i +1\n",
    "plt.title('subgrid')\n",
    "\n",
    "\n",
    "plt.legend(loc='best', fontsize=9)\n",
    "plt.show()\n"
   ]
  },
  {
   "cell_type": "code",
   "execution_count": null,
   "metadata": {},
   "outputs": [],
   "source": [
    "# Test1: surface only with two tracers\n",
    "# Test2: (surface + subgrid) with two tracers ---> if this is same as Test1, then that means our alpha's are no"
   ]
  },
  {
   "cell_type": "code",
   "execution_count": null,
   "metadata": {},
   "outputs": [],
   "source": [
    "#0.3271177 0.64186220\n",
    "\n",
    "#Srun2A: original tau's: , at x = 49 [0.9164], at x=99 [0.8716]\n",
    "#Srun2B: original tau's, refine=5: , at x = 49 [0.9168], at x=99 [0.8722]"
   ]
  },
  {
   "cell_type": "code",
   "execution_count": null,
   "metadata": {},
   "outputs": [],
   "source": [
    "#Srun1 : 0.3072 + 0.6558 = 0.9631 (old 20 taus)\n",
    "#Srun1 : 0.3158 + 0.6796 = 0.9955 (new 10 taus)\n",
    "\n",
    "#New 10 taus\n",
    "#Srun2A: 0.2843 + 0.5908 = 0.8752 (refine = 1) dt = 20 seconds, taus = 10\n",
    "#Srun2B: 0.2849 + 0.5927 = 0.8777 (refine= 10) dt = 20 seconds, taus = 10\n",
    "#Srun2C: 0.2841 + 0.5902 = 0.8743 (refine = 1) dt = 5 seconds, taus = 10\n",
    "#Srun2D: 0.2850 + 0.5929 = 0.8780 (refine = 50) dt = 20 seconds, taus = 10\n",
    "\n",
    "\n",
    "#Srun2E: 0.3067 + 0.6541 = 0.9608 (refine=1) dt = 20, taus=1\n",
    "#Srun2E: 0.3032 + 0.6443 = 0.9476 (refine=1) dt=20, taus = 2\n",
    "#Srun2E: 0.3002 + 0.6359 = 0.9362 (refine=1) dt=20, taus = 3\n",
    "\n",
    "#Srun2E:  0.3105 + 0.6648 = 0.9754 (refine=10) dt = 20, taus=1\n",
    "#Srun2E:  0.3060 + 0.6523 = 0.9583 (refine=10) dt=20, taus = 2\n",
    "#Srun2E:  0.3024 + 0.6421 = 0.9445 (refine=10) dt=20, taus = 3\n",
    "#Srun2E:  0.3110 + 0.6661 = 0.9771 (refine=100) dt = 20, taus=1\n",
    "\n",
    "#Srun2E: 0.2767 + 0.5690 = 0.8457 (refine=5), dt =20, taus=10, return with 5 cells interval\n",
    "#-----------------\n",
    "# Try different kinetic rates\n",
    "#Srun2E: 0.5186 + 0.3628 = 0.8814, rate = rate_orig/2\n",
    "#Srun2E: 0.7103 + 0.1987 = 0.9091, rate = rate_orig/4\n",
    "#Srun2E:  0.8375 + 0.1019 = 0.9394, rate = rate_orig/8\n",
    "\n",
    "# stream discretization only, length = 1000 m\n",
    "#Srun2E: 0.3170  + 0.6826 = 0.9997, dx = 10 m\n",
    "#Srun2E: 0.3190 + 0.6806 = 0.9997, dx = 20 m\n",
    "#Srun2E: 0.3232 + 0.6765 = 0.9997, dx = 40 m \n",
    "#Srun2E: 0.3351 + 0.6646 = 0.9997, dx = 100 m \n",
    "#Srun2E: 0.4017 + 0.5979 = 0.9997, dx = 500 m\n",
    "\n",
    "# stream discretization only, length = 4000 m\n",
    "#Srun2E: 0.09124 + 0.8381 = 0.9293, dx = 2000 m\n",
    "#Srun2E: 0.022 +  0.9752 = 0.9976, dx = 400 m\n",
    "#Srun2E: 0.0156 + 0.9827  = 0.9984 , dx = 200 m\n",
    "\n",
    "#halflife 0.5 day\n",
    "# 0.3087 + 0.6596 = 0.9683, taus = 10\n",
    "# 0.28372 + 0.5891 = 0.87288, taus = 20 \n",
    "# 0.2834 + 0.5885 = 0.8720, taus = 30"
   ]
  },
  {
   "cell_type": "code",
   "execution_count": null,
   "metadata": {},
   "outputs": [],
   "source": [
    "# With increasing grid (dx) size, we need to inject for longer to get state-state."
   ]
  },
  {
   "cell_type": "code",
   "execution_count": null,
   "metadata": {},
   "outputs": [],
   "source": [
    "# is there a residual of Tracer 1"
   ]
  },
  {
   "cell_type": "code",
   "execution_count": null,
   "metadata": {},
   "outputs": [],
   "source": []
  },
  {
   "cell_type": "code",
   "execution_count": null,
   "metadata": {},
   "outputs": [],
   "source": []
  },
  {
   "cell_type": "code",
   "execution_count": null,
   "metadata": {},
   "outputs": [],
   "source": []
  },
  {
   "cell_type": "code",
   "execution_count": null,
   "metadata": {},
   "outputs": [],
   "source": []
  },
  {
   "cell_type": "code",
   "execution_count": null,
   "metadata": {},
   "outputs": [],
   "source": []
  },
  {
   "cell_type": "code",
   "execution_count": null,
   "metadata": {},
   "outputs": [],
   "source": []
  },
  {
   "cell_type": "code",
   "execution_count": null,
   "metadata": {},
   "outputs": [],
   "source": [
    "What is your criterea for mcmc convergence\n",
    "\n",
    "Different initial values for parameters\n",
    "\n",
    "Predictive uncertainty.\n",
    "\n",
    "Did you pick all data from location 3 – are you matching \n",
    "\n",
    "Instead of using just one observed tracer, did you try \n",
    "\n",
    "Adam ward 2016\n"
   ]
  },
  {
   "cell_type": "code",
   "execution_count": null,
   "metadata": {},
   "outputs": [],
   "source": [
    "there is no reason to believe it will not work\n",
    "I will echo your comment\n",
    "We are working with one data set, but are not marry to it"
   ]
  }
 ],
 "metadata": {
  "kernelspec": {
   "display_name": "Python 3",
   "language": "python",
   "name": "python3"
  },
  "language_info": {
   "codemirror_mode": {
    "name": "ipython",
    "version": 3
   },
   "file_extension": ".py",
   "mimetype": "text/x-python",
   "name": "python",
   "nbconvert_exporter": "python",
   "pygments_lexer": "ipython3",
   "version": "3.7.6"
  }
 },
 "nbformat": 4,
 "nbformat_minor": 2
}
