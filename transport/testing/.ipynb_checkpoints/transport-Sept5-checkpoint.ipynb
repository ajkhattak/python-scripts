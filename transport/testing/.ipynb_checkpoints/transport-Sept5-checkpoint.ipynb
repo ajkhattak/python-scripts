{
 "cells": [
  {
   "cell_type": "code",
   "execution_count": null,
   "metadata": {},
   "outputs": [],
   "source": [
    "import numpy as np\n",
    "import matplotlib\n",
    "import matplotlib.pyplot as plt\n",
    "import h5py\n",
    "\n",
    "from matplotlib import animation\n",
    "from matplotlib import cm\n",
    "from mpl_toolkits import mplot3d\n",
    "import os,sys\n",
    "sys.path.append(\"/Users/ajc/Core/Projects/ATS-Data/OR-CONDO/PyScript\")\n",
    "import readdata as rd\n",
    "import os"
   ]
  },
  {
   "cell_type": "code",
   "execution_count": null,
   "metadata": {},
   "outputs": [],
   "source": [
    "#mesh_file=\"/Users/ajc/Core/Projects/ATS-Data/OR-CONDO/ats-tests/transport/test2n/\"\n",
    "mesh_file= \"/Users/ajc/Core/Projects/ATS-Data/OR-CONDO/mytests-orhydra/ats-transport-subgrid-testsuite/testing/transport-coweeta/test0/\"\n",
    "\n",
    "mesh_file='/Users/ajc/FUSE/ats-tests/ats-transport-subgrid-testsuite/testing/transport-coweeta/test0/'\n",
    "\n",
    "infile = [os.path.join(mesh_file,'visdump_surface_data.h5'), os.path.join(mesh_file,'visdump_surface_mesh.h5') ]\n",
    "\n",
    "mesh = h5py.File(infile[1],'r')\n",
    "mesh_data = list(mesh['0']['Mesh']['Nodes'])\n",
    "\n",
    "C_data = rd.GetSurfVarFromVis_All(infile[0],'surface-total_component_concentration',suffix='.cell.Tc-99')\n",
    "Concentration = C_data['surface-total_component_concentration']\n",
    "cycles = len(Concentration)\n",
    "print (len(Concentration))"
   ]
  },
  {
   "cell_type": "code",
   "execution_count": null,
   "metadata": {},
   "outputs": [],
   "source": [
    "X_mesh = []\n",
    "Y_mesh = []\n",
    "Z_mesh = []\n",
    "\n",
    "for m in mesh_data:#[:30]:\n",
    "    #print (m)\n",
    "    X_mesh.append(m[0])\n",
    "    Y_mesh.append(m[1])\n",
    "    Z_mesh.append(m[2])\n",
    "print (len(Concentration))\n"
   ]
  },
  {
   "cell_type": "code",
   "execution_count": null,
   "metadata": {},
   "outputs": [],
   "source": [
    "#Discharge_m = [0.9080831404970909, 0.374545887545661, 0.43239644141179195, 0.33837020936405693, 0.025871319142538998, 0.204746066590533, 0.128745291619659, 0.03380683234581899, 0.07169457541389,  0.06670998915332699, 0.031497253670805,  0.36350613999000597,  0.265706376594204,  0.09174899121199499,  0.041822935295661,  0.22223661842756398,  0.17922055278355797,  0.016846145349851998,  0.07235466943430699,  0.061198907756493, 0.019760430292550996, 0.054590237053091996]\n",
    "#Discharge_m = [round(d,4) for d in Discharge_m]\n",
    "#Discharge = [d*100 for d in Discharge_m]"
   ]
  },
  {
   "cell_type": "code",
   "execution_count": null,
   "metadata": {},
   "outputs": [],
   "source": [
    "\"\"\"\n",
    "import xml.etree.ElementTree as ET\n",
    "tree = ET.parse('/Users/ajc/Core/SimDataInputs/WorkSpace/ats-88/ats_meshing/examples/coweeta_river-centriod1.xml')\n",
    "root = tree.getroot()\n",
    "#print (root.attrib)\n",
    "Ncells = []\n",
    "for child in root:\n",
    "    seg = child.attrib['name']\n",
    "    if 'segment' in seg:\n",
    "        for c1 in child.iter():\n",
    "            if 'number of cells' in c1.attrib['name']:\n",
    "                #print ('OUT',c1.keys(), c1.attrib['name'],c1.get('value'))\n",
    "                Ncells.append(int(c1.get('value')))\n",
    "\"\"\""
   ]
  },
  {
   "cell_type": "code",
   "execution_count": null,
   "metadata": {},
   "outputs": [],
   "source": [
    "#Discharge_stream = [[d,]*c for d,c in zip(Discharge,Ncells)]\n",
    "#Discharge_stream = np.concatenate(Discharge_stream)\n"
   ]
  },
  {
   "cell_type": "code",
   "execution_count": null,
   "metadata": {},
   "outputs": [],
   "source": []
  },
  {
   "cell_type": "code",
   "execution_count": null,
   "metadata": {},
   "outputs": [],
   "source": [
    "%matplotlib tk\n",
    "\n",
    "#fig = plt.figure()\n",
    "#ax = fig.gca(projection='3d')\n",
    "fig, ax = plt.subplots(1,1,figsize=(8,4))\n",
    "x_orig = X_mesh\n",
    "y_orig = Y_mesh\n",
    "\n",
    "centroid = []\n",
    "thick = [1,1,1]\n",
    "\n",
    "for k in range(1):\n",
    "    y1 = y_orig#[i + 0.5*thick[k] for i in y_orig[k]]\n",
    "    y2 = [i + 0.000001 for i in y1]#[i - 0.5*thick[k] for i in y_orig[k]]\n",
    "    X = [x_orig,x_orig]\n",
    "    Y = [y1,y2]\n",
    "    \n",
    "    z = np.ones(len(x_orig))*0\n",
    "\n",
    "    Z = np.array([z,z])\n",
    "    data = np.linspace(1,0,len(x_orig))\n",
    "    Z_data = np.array([data,data])\n",
    "    \n",
    "    data_color = cm.jet(Z_data/np.amax(Z_data))\n",
    "    ran = [f*100 for f in flux_interpolate] #Discharge_stream\n",
    "    #ran = Concentration[1]\n",
    "    ran = [r if r>0 else 1e-12 for r in ran]\n",
    "    sc = ax.scatter(X_mesh,Y_mesh,marker=\".\",c=ran,cmap=cm.coolwarm,vmin=1e-1,vmax=100,norm=matplotlib.colors.LogNorm())\n",
    "    #sc = ax.scatter(X_mesh,Y_mesh,marker=\".\",c=ran,cmap=cm.tab10,vmin=0,vmax=100)\n",
    "    #,vmin=0,vmax=10) map=plt.cm.get_cmap('prism', 5)) cm.tab10\n",
    "    \n",
    "    plt.colorbar(sc, label='Discharge [cm$^3$/sec]',shrink=.96)#,aspect=10)\n",
    "   \n",
    "    #ax.set_zlim(0,0.0)\n",
    "    #ax.set_zticks([])\n",
    "\n",
    "    xmin, xmax = ax.get_xlim()\n",
    "    ax.set_xticks(np.round(np.linspace(xmin, xmax, 5), 2))\n",
    "    ax.set_xticklabels(np.round(np.linspace(xmin, xmax, 5), 2), rotation=45, fontsize=10)\n",
    "    \n",
    "    xmin, xmax = ax.get_ylim()\n",
    "    ax.set_yticks(np.round(np.linspace(xmin, xmax, 5), 2))\n",
    "    ax.set_yticklabels(np.round(np.linspace(xmin, xmax, 5), 2), rotation=0, fontsize=10)\n",
    "    ax.grid(False)\n",
    "    plt.tight_layout(h_pad=1)\n",
    "   \n",
    "    #plt.savefig('/Users/ajc/Core/PostProcessData/2019/simulations/transport/plots_1002_%s.png'%k,dpi=500)"
   ]
  },
  {
   "cell_type": "code",
   "execution_count": null,
   "metadata": {},
   "outputs": [],
   "source": [
    "path='/Users/ajc/Core/PostProcessData/2019/simulations/transport/plots_1002/'"
   ]
  },
  {
   "cell_type": "code",
   "execution_count": null,
   "metadata": {},
   "outputs": [],
   "source": [
    "%matplotlib tk\n",
    "x_orig = X_mesh\n",
    "y_orig = Y_mesh\n",
    "\n",
    "centroid = []\n",
    "thick = [1,1,1]\n",
    "\n",
    "for k in range(cycles):\n",
    "    fig, ax = plt.subplots(1,1,figsize=(8,4))\n",
    "    y1 = y_orig\n",
    "    y2 = [i + 0.000001 for i in y1]\n",
    "    X = [x_orig,x_orig]\n",
    "    Y = [y1,y2]\n",
    "    \n",
    "    z = np.ones(len(x_orig))*0\n",
    "\n",
    "    Z = np.array([z,z])\n",
    "    data = np.linspace(1,0,len(x_orig))\n",
    "    Z_data = np.array([data,data])\n",
    "    \n",
    "    data_color = cm.jet(Z_data/np.amax(Z_data))\n",
    "    #ran = Discharge_stream\n",
    "    ran = Concentration[140]#[k+120]\n",
    "    ran = [r if r>0 else 1e-12 for r in ran]\n",
    "    #print (ran)\n",
    "    sc = ax.scatter(X_mesh,Y_mesh,marker=\".\",c=ran,cmap=cm.coolwarm,vmin=1e-3,vmax=1,norm=matplotlib.colors.LogNorm())\n",
    "    #sc = ax.scatter(X_mesh,Y_mesh,marker=\".\",c=ran,cmap=cm.tab10,vmin=0,vmax=1)# map=plt.cm.get_cmap('prism', 5))\n",
    "    #plt.colorbar(sc, label='Discharge [cm$^3$/sec]',shrink=.96)#,aspect=10)\n",
    "    plt.colorbar(sc, label='Concentration [kg/m$^3$]',shrink=.96)#,aspect=10)\n",
    "    \n",
    "    xmin, xmax = ax.get_xlim()\n",
    "    ax.set_xticks(np.round(np.linspace(xmin, xmax, 5), 2))\n",
    "    ax.set_xticklabels(np.round(np.linspace(xmin, xmax, 5), 2), rotation=45, fontsize=10)\n",
    "    \n",
    "    xmin, xmax = ax.get_ylim()\n",
    "    ax.set_yticks(np.round(np.linspace(xmin, xmax, 5), 2))\n",
    "    ax.set_yticklabels(np.round(np.linspace(xmin, xmax, 5), 2), rotation=0, fontsize=10)\n",
    "    ax.grid(False)\n",
    "    plt.tight_layout(h_pad=1)\n",
    "   \n",
    "    #plt.savefig(path + 'figs_%s.png'%k,dpi=500)\n",
    "    break\n",
    "    plt.close()\n",
    "    #break"
   ]
  },
  {
   "cell_type": "code",
   "execution_count": null,
   "metadata": {},
   "outputs": [],
   "source": []
  },
  {
   "cell_type": "code",
   "execution_count": null,
   "metadata": {},
   "outputs": [],
   "source": [
    "import re, os\n",
    "path='/Users/ajc/Core/PostProcessData/2019/simulations/transport/plots_1002/'\n",
    "def sorted_nicely( l ):\n",
    "    convert = lambda text: int(text) if text.isdigit() else text\n",
    "    alphanum_key = lambda key: [convert(c) for c in re.split('([0-9]+)', key)]\n",
    "    return sorted(l, key = alphanum_key)\n",
    "\n",
    "dir_files = os.listdir(path)\n",
    "\n",
    "Files = sorted_nicely(dir_files)\n",
    "\n",
    "Files = [f for f in Files if f.endswith('.png')]\n",
    "import cv2\n",
    "import numpy as np\n",
    "\n",
    "#print (Files)\n",
    "img_array = []\n",
    "for filename in Files[::5]:\n",
    "    filename = path + filename\n",
    "    print (filename)\n",
    "    img = cv2.imread(filename)\n",
    "    height, width, layers = img.shape\n",
    "    size = (width,height)\n",
    "    img_array.append(img)\n",
    "    \n"
   ]
  },
  {
   "cell_type": "code",
   "execution_count": null,
   "metadata": {},
   "outputs": [],
   "source": [
    "out = cv2.VideoWriter(path + 'stream-transport-coweerta.mp4',cv2.VideoWriter_fourcc(*'DIVX'), 15, size)\n",
    " \n",
    "for i in range(len(img_array)):\n",
    "    out.write(img_array[i])\n",
    "out.release()"
   ]
  },
  {
   "cell_type": "code",
   "execution_count": null,
   "metadata": {},
   "outputs": [],
   "source": []
  },
  {
   "cell_type": "code",
   "execution_count": null,
   "metadata": {},
   "outputs": [],
   "source": [
    "\n",
    "\n",
    "import cv2\n",
    "import numpy as np\n",
    "import glob\n",
    " \n",
    "img_array = []\n",
    "for filename in glob.glob(path+'*.png'):\n",
    "    img = cv2.imread(filename)\n",
    "    height, width, layers = img.shape\n",
    "    size = (width,height)\n",
    "    img_array.append(img)\n",
    " \n",
    "\"\"\"\n",
    "out = cv2.VideoWriter(path + 'stream-transport-coweerta.mp4',cv2.VideoWriter_fourcc(*'DIVX'), 4, size)\n",
    " \n",
    "for i in range(len(img_array)):\n",
    "    out.write(img_array[i])\n",
    "out.release()\n",
    "\"\"\""
   ]
  },
  {
   "cell_type": "code",
   "execution_count": null,
   "metadata": {},
   "outputs": [],
   "source": []
  },
  {
   "cell_type": "code",
   "execution_count": null,
   "metadata": {},
   "outputs": [],
   "source": [
    "#Discharge_stream = [[d,]*(c+1) for d,c in zip(Discharge_m,Ncells)]\n",
    "flux_interpolate = np.loadtxt('/Users/ajc/Core/PostProcessData/2019/simulations/transport/flux_velocity_interpolate1.dat')\n",
    "#Discharge_stream = -np.concatenate(Discharge_stream)\n",
    "Discharge_stream = [-f for f in flux_interpolate]\n",
    "cross_section_area = [0.8163, 0.3662, 0.4004, 0.3363, 0.0301, 0.1924, 0.1265, 0.0394, 0.0724, 0.0685, 0.0356, \n",
    "                      0.3395, 0.2495, 0.091 , 0.0462, 0.2025, 0.1641, 0.0206, 0.072 , 0.0651, 0.025 , 0.0628]\n",
    "file='/Users/ajc/Core/PostProcessData/2019/simulations/transport/facefluxesVel_coweeta.h5'\n",
    "\n",
    "if os.path.exists(file):\n",
    "    print (file)\n",
    "    os.remove(file)\n",
    "outfile = h5py.File(file,'w')\n",
    "outfile.create_dataset(\"time\", data=np.array([0.,]))\n",
    "#cs_area = outfile.create_group('cross-sectional area [m^2]')\n",
    "flux = outfile.create_group(\"surface-mass_flux.face.0\")\n",
    "\n",
    "flux.create_dataset(\"0\",data=Discharge_stream)\n",
    "#cs_area.create_dataset(\"0\",data=cross_section_area)\n",
    "\n",
    "outfile.close()\n",
    "#print (len(Discharge_m))\n",
    "#print (len(Discharge_stream), len(Ncells), sum(Ncells))"
   ]
  },
  {
   "cell_type": "code",
   "execution_count": null,
   "metadata": {},
   "outputs": [],
   "source": [
    "\n"
   ]
  },
  {
   "cell_type": "code",
   "execution_count": null,
   "metadata": {},
   "outputs": [],
   "source": []
  }
 ],
 "metadata": {
  "kernelspec": {
   "display_name": "Python 3",
   "language": "python",
   "name": "python3"
  },
  "language_info": {
   "codemirror_mode": {
    "name": "ipython",
    "version": 3
   },
   "file_extension": ".py",
   "mimetype": "text/x-python",
   "name": "python",
   "nbconvert_exporter": "python",
   "pygments_lexer": "ipython3",
   "version": "3.7.6"
  }
 },
 "nbformat": 4,
 "nbformat_minor": 2
}
