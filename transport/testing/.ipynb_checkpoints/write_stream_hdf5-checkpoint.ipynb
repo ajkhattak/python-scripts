{
 "cells": [
  {
   "cell_type": "code",
   "execution_count": 1,
   "metadata": {},
   "outputs": [],
   "source": [
    "import numpy as np\n",
    "import matplotlib\n",
    "import matplotlib.pyplot as plt\n",
    "import h5py\n",
    "\n",
    "from matplotlib import animation\n",
    "from matplotlib import cm\n",
    "from mpl_toolkits import mplot3d\n",
    "import os,sys\n",
    "#sys.path.append(\"/Users/ajc/Core/Projects/ATS-Data/OR-CONDO/PyScript\")\n",
    "#import readdata as rd\n",
    "import os"
   ]
  },
  {
   "cell_type": "code",
   "execution_count": null,
   "metadata": {},
   "outputs": [],
   "source": []
  },
  {
   "cell_type": "code",
   "execution_count": null,
   "metadata": {},
   "outputs": [],
   "source": [
    "flux_interpolate = np.loadtxt('/Users/ajc/Core/PostProcessData/2019/simulations/transport/flux_interpolate2.dat')\n",
    "Discharge_stream = [f for f in flux_interpolate]\n",
    "\n",
    "file='/Users/ajc/Core/PostProcessData/2019/simulations/transport/facefluxes_allstreams_t.h5'\n",
    "\n",
    "if os.path.exists(file):\n",
    "    os.remove(file)\n",
    "outfile = h5py.File(file,'w')\n",
    "outfile.create_dataset(\"time\", data=np.array([0.,]))\n",
    "\n",
    "flux = outfile.create_group(\"surface-mass_flux.face.0\")\n",
    "\n",
    "flux.create_dataset(\"0\",data=Discharge_stream)\n",
    "\n",
    "outfile.close()\n",
    "\n",
    "\n",
    "implied_source = np.loadtxt('/Users/ajc/Core/PostProcessData/2019/simulations/transport/implied_source.dat')\n",
    "sourcefile=h5py.File('/Users/ajc/Core/PostProcessData/2019/simulations/transport/implied_source.h5','w')\n",
    "source = sourcefile.create_group('implied_source.cell.0')\n",
    "source.create_dataset('0',data=implied_source)\n",
    "sourcefile.create_dataset('time',data=np.array([0]))\n",
    "sourcefile.close()\n"
   ]
  },
  {
   "cell_type": "code",
   "execution_count": null,
   "metadata": {},
   "outputs": [],
   "source": [
    "\n",
    "\"\"\"\n",
    "import xml.etree.ElementTree as ET\n",
    "tree = ET.parse('/Users/ajc/Core/SimDataInputs/WorkSpace/ats-88/ats_meshing/examples/coweeta_river-centriod1.xml')\n",
    "root = tree.getroot()\n",
    "#print (root.attrib)\n",
    "Ncells = []\n",
    "for child in root:\n",
    "    seg = child.attrib['name']\n",
    "    if 'segment' in seg:\n",
    "        for c1 in child.iter():\n",
    "            if 'number of cells' in c1.attrib['name']:\n",
    "                #print ('OUT',c1.keys(), c1.attrib['name'],c1.get('value'))\n",
    "                Ncells.append(int(c1.get('value')))\n",
    "\"\"\""
   ]
  },
  {
   "cell_type": "code",
   "execution_count": null,
   "metadata": {},
   "outputs": [],
   "source": []
  }
 ],
 "metadata": {
  "kernelspec": {
   "display_name": "Python 3",
   "language": "python",
   "name": "python3"
  },
  "language_info": {
   "codemirror_mode": {
    "name": "ipython",
    "version": 3
   },
   "file_extension": ".py",
   "mimetype": "text/x-python",
   "name": "python",
   "nbconvert_exporter": "python",
   "pygments_lexer": "ipython3",
   "version": "3.7.10"
  }
 },
 "nbformat": 4,
 "nbformat_minor": 2
}
