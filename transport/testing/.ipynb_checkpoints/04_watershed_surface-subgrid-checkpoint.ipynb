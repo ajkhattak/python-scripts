{
 "cells": [
  {
   "cell_type": "code",
   "execution_count": 2,
   "metadata": {},
   "outputs": [],
   "source": [
    "import numpy as np\n",
    "import matplotlib\n",
    "import matplotlib.pyplot as plt\n",
    "import h5py\n",
    "\n",
    "from matplotlib import animation\n",
    "from matplotlib import cm\n",
    "from mpl_toolkits import mplot3d\n",
    "import os,sys\n",
    "\n",
    "sys.path.append('/Users/ajc/Core/PreProcessing/PyScript')\n",
    "import readdata as rd\n",
    "import os\n",
    "import seaborn as sns"
   ]
  },
  {
   "cell_type": "code",
   "execution_count": 30,
   "metadata": {},
   "outputs": [],
   "source": [
    "sim = 'Wrun1B'\n",
    "path = '/Users/ajc/FUSE1/simulations/tests/ats-demos/13_reactive_transport/04_hyporheic_watershed/%s/'%sim"
   ]
  },
  {
   "cell_type": "code",
   "execution_count": 31,
   "metadata": {},
   "outputs": [],
   "source": [
    "infile = [os.path.join(path,'visdump_surface_data.h5'), os.path.join(path,'visdump_surface_mesh.h5') ]\n",
    "mesh = h5py.File(infile[1],'r')\n",
    "mesh_data = list(mesh['0']['Mesh']['Nodes'])\n",
    "variables = ['DOM1', 'NO3-', 'N2(aq)','O2(aq)']\n",
    "var = variables[1]\n",
    "C_data = rd.GetSurfVarFromVis_All(infile[0],'surface-total_component_concentration',suffix='.cell.%s'%var)\n",
    "Concentration = C_data['surface-total_component_concentration']\n",
    "cycles = len(Concentration)\n",
    "#print (len(Concentration))\n"
   ]
  },
  {
   "cell_type": "code",
   "execution_count": 32,
   "metadata": {},
   "outputs": [],
   "source": [
    "implied_s = h5py.File('/Users/ajc/FUSE1/simulations/tests/ats-demos/13_reactive_transport/04_hyporheic_watershed/coweeta_data/implied_source/coweeta-cellsource-100m.h5','r')\n",
    "#print (implied_s.keys())\n",
    "implied_src = np.concatenate(implied_s['surface-mass_src.cell.0']['0'])\n",
    "#print (implied_src)\n",
    "\n",
    "discharge_s = h5py.File('/Users/ajc/FUSE1/simulations/tests/ats-demos/13_reactive_transport/04_hyporheic_watershed/coweeta_data/discharge/coweeta-faceQ-100m.h5','r')\n",
    "discharge = np.concatenate(discharge_s['surface-mass_flux.face.0']['0'])\n",
    "discharge = [d for d in discharge if d >0]"
   ]
  },
  {
   "cell_type": "code",
   "execution_count": 33,
   "metadata": {},
   "outputs": [
    {
     "name": "stdout",
     "output_type": "stream",
     "text": [
      "4\n",
      "260 260 260\n"
     ]
    }
   ],
   "source": [
    "X_mesh, Y_mesh,Z_mesh = [],[], []\n",
    "\n",
    "for m in mesh_data:\n",
    "    \n",
    "    X_mesh.append(m[0])\n",
    "    Y_mesh.append(m[1])\n",
    "    Z_mesh.append(m[2])\n",
    "print (len(Concentration))\n",
    "print (len(X_mesh), len(Y_mesh),len(Z_mesh))\n"
   ]
  },
  {
   "cell_type": "code",
   "execution_count": null,
   "metadata": {},
   "outputs": [],
   "source": []
  },
  {
   "cell_type": "code",
   "execution_count": 34,
   "metadata": {},
   "outputs": [],
   "source": [
    "outfile='/Users/ajc/Core/PostProcessing/ReactiveTransport/Hyporheic/Coweeta/June11/%s/'%sim\n",
    "#os.mkdir(outfile)"
   ]
  },
  {
   "cell_type": "code",
   "execution_count": null,
   "metadata": {},
   "outputs": [],
   "source": []
  },
  {
   "cell_type": "code",
   "execution_count": 36,
   "metadata": {},
   "outputs": [
    {
     "name": "stdout",
     "output_type": "stream",
     "text": [
      "------------------------\n",
      "/Users/ajc/Core/PostProcessing/ReactiveTransport/Hyporheic/Coweeta/June11/Wrun1B/ NO3-\n",
      "------------------------\n",
      "/Users/ajc/Core/PostProcessing/ReactiveTransport/Hyporheic/Coweeta/June11/Wrun1B/ NO3-\n",
      "------------------------\n",
      "/Users/ajc/Core/PostProcessing/ReactiveTransport/Hyporheic/Coweeta/June11/Wrun1B/ NO3-\n",
      "------------------------\n",
      "/Users/ajc/Core/PostProcessing/ReactiveTransport/Hyporheic/Coweeta/June11/Wrun1B/ NO3-\n"
     ]
    }
   ],
   "source": [
    "#Write solute concentration images to a directory\n",
    "#%matplotlib qt\n",
    "\n",
    "#fig = plt.figure()\n",
    "#ax = fig.gca(projection='3d')\n",
    "\n",
    "x_orig = X_mesh\n",
    "y_orig = Y_mesh\n",
    "\n",
    "centroid = []\n",
    "thick = [1,1,1]\n",
    "count = 0\n",
    "\n",
    "for k in range(cycles):\n",
    "    fig, ax = plt.subplots(1,1,figsize=(8,4))\n",
    "    y1 = y_orig\n",
    "    y2 = [i + 0.000001 for i in y1]\n",
    "    X = [x_orig,x_orig]\n",
    "    Y = [y1,y2]\n",
    "    \n",
    "    z = np.ones(len(x_orig))*0\n",
    "\n",
    "    Z = np.array([z,z])\n",
    "    data = np.linspace(1,0,len(x_orig))\n",
    "    Z_data = np.array([data,data])\n",
    "    \n",
    "    data_color = cm.jet(Z_data/np.amax(Z_data))\n",
    "    #ran = [f*1 for f in flux_interpolate] #Discharge_stream\n",
    "    ran = Concentration[k]\n",
    "    print ('------------------------')\n",
    "    mx = np.max(ran)\n",
    "    mx1 = np.where(ran == mx)\n",
    "    \n",
    "    #ran1 = np.array([r*1e-3*1e+6 if r1 >0 else 0 for r,r1 in zip(ran,implied_src)])\n",
    "    \n",
    "    ran = [r*1e-3*1e+6 if r>0 else 1e-12 for r in ran]\n",
    "    # ran = [r1 if r > 0.0 else 0 for r,r1 in zip(implied_src,discharge)] # plottting first order streams discharge\n",
    "    \n",
    "    #print (ran)\n",
    "   \n",
    "    sc = ax.scatter(X_mesh,Y_mesh,marker=\".\",c=ran,cmap=plt.get_cmap('rainbow'),vmin=1.0e-1,vmax=2.0,norm=matplotlib.colors.LogNorm())\n",
    "    \n",
    "    \n",
    "    plt.colorbar(sc, label=r'%s Concentration [$\\mu$ M]'%var,shrink=.96)#,aspect=10)\n",
    "    \n",
    "    #ax.set_zlim(0,0.0)\n",
    "    #ax.set_zticks([])\n",
    "\n",
    "    xmin, xmax = ax.get_xlim()\n",
    "    ax.set_xticks(np.round(np.linspace(xmin, xmax, 5), 2))\n",
    "    ax.set_xticklabels(np.round(np.linspace(xmin, xmax, 5), 2), rotation=45, fontsize=10)\n",
    "    \n",
    "    xmin, xmax = ax.get_ylim()\n",
    "    ax.set_yticks(np.round(np.linspace(xmin, xmax, 5), 2))\n",
    "    ax.set_yticklabels(np.round(np.linspace(xmin, xmax, 5), 2), rotation=0, fontsize=10)\n",
    "    ax.grid(False)\n",
    "    plt.tight_layout(h_pad=1)\n",
    "    #break\n",
    "    print (outfile,var)\n",
    "    plt.savefig(outfile + '/%s/fig-%s.png'%(var,k),dpi=100)\n",
    "    count +=1\n",
    "    if count >200:\n",
    "        break\n",
    "    plt.close()"
   ]
  },
  {
   "cell_type": "code",
   "execution_count": null,
   "metadata": {},
   "outputs": [],
   "source": [
    "\n"
   ]
  },
  {
   "cell_type": "code",
   "execution_count": 27,
   "metadata": {},
   "outputs": [
    {
     "name": "stdout",
     "output_type": "stream",
     "text": [
      "/Users/ajc/Core/PostProcessing/ReactiveTransport/Hyporheic/Coweeta/June11/Wrun1A/NO3-/ /Users/ajc/Core/PostProcessing/ReactiveTransport/Hyporheic/Coweeta/June11/Wrun1A/\n",
      "['fig-0.png', 'fig-1.png']\n"
     ]
    }
   ],
   "source": [
    "import re, os\n",
    "\n",
    "def sorted_nicely( l ):\n",
    "    convert = lambda text: int(text) if text.isdigit() else text\n",
    "    alphanum_key = lambda key: [convert(c) for c in re.split('([0-9]+)', key)]\n",
    "    return sorted(l, key = alphanum_key)\n",
    "\n",
    "path_anim = os.path.join(outfile,var) + '/'\n",
    "dir_files = os.listdir(path_anim)\n",
    "\n",
    "Files = sorted_nicely(dir_files)\n",
    "print (path_anim,outfile)\n",
    "Files = [f for f in Files if f.endswith('.png')]\n",
    "print (Files[:2])\n",
    "import cv2\n",
    "import numpy as np\n",
    "#Files = Files[:60] + Files[450:520] #+ Files[37:70]\n",
    "img_array = []\n",
    "for filename in Files[::1]:\n",
    "    #print (filename)\n",
    "    filename = path_anim + filename\n",
    "    #print (filename)\n",
    "    img = cv2.imread(filename)\n",
    "    height, width, layers = img.shape\n",
    "    size = (width,height)\n",
    "    img_array.append(img)\n",
    "    \n"
   ]
  },
  {
   "cell_type": "code",
   "execution_count": null,
   "metadata": {},
   "outputs": [],
   "source": []
  },
  {
   "cell_type": "code",
   "execution_count": 29,
   "metadata": {},
   "outputs": [],
   "source": [
    "out = cv2.VideoWriter(path_anim + 'RT-coweeta.mp4',cv2.VideoWriter_fourcc(*'DIVX'), 5, size)\n",
    " \n",
    "for i in range(len(img_array)):\n",
    "    out.write(img_array[i])\n",
    "out.release()"
   ]
  },
  {
   "cell_type": "code",
   "execution_count": null,
   "metadata": {},
   "outputs": [],
   "source": []
  },
  {
   "cell_type": "code",
   "execution_count": null,
   "metadata": {},
   "outputs": [],
   "source": []
  },
  {
   "cell_type": "code",
   "execution_count": null,
   "metadata": {},
   "outputs": [],
   "source": []
  },
  {
   "cell_type": "code",
   "execution_count": null,
   "metadata": {},
   "outputs": [],
   "source": []
  },
  {
   "cell_type": "code",
   "execution_count": null,
   "metadata": {},
   "outputs": [],
   "source": []
  }
 ],
 "metadata": {
  "kernelspec": {
   "display_name": "Python 3",
   "language": "python",
   "name": "python3"
  },
  "language_info": {
   "codemirror_mode": {
    "name": "ipython",
    "version": 3
   },
   "file_extension": ".py",
   "mimetype": "text/x-python",
   "name": "python",
   "nbconvert_exporter": "python",
   "pygments_lexer": "ipython3",
   "version": "3.7.6"
  }
 },
 "nbformat": 4,
 "nbformat_minor": 2
}
