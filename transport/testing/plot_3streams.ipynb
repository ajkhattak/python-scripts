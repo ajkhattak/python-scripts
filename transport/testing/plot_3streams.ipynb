{
 "cells": [
  {
   "cell_type": "code",
   "execution_count": 1,
   "metadata": {},
   "outputs": [],
   "source": [
    "import numpy as np\n",
    "import matplotlib\n",
    "import matplotlib.pyplot as plt\n",
    "import h5py\n",
    "\n",
    "from matplotlib import animation\n",
    "from matplotlib import cm\n",
    "from mpl_toolkits import mplot3d\n",
    "\n",
    "import os"
   ]
  },
  {
   "cell_type": "code",
   "execution_count": 2,
   "metadata": {},
   "outputs": [],
   "source": [
    "\n",
    "\n",
    "path_cades='/Users/ajc/FUSE/ats-tests/ats-transport-subgrid-testsuite/testing/logical-surface-twoway/transport-logical'#_3streams'\n",
    "                           \n",
    "\n",
    "Data_test01_c = np.loadtxt(path_cades+'/test2/surface-outlet1.dat',skiprows=6)\n",
    "Data_test02 = np.loadtxt(path_cades+'/test2/surface-outlet2.dat',skiprows=6,usecols=1)\n",
    "Data_test03 = np.loadtxt(path_cades+'/test2/surface-outlet3.dat',skiprows=6,usecols=1)\n",
    "\n",
    "Data_Time = np.array([x[0]/3600. for x in Data_test01_c])\n",
    "Data_test01 = np.array([x[1] for x in Data_test01_c])\n"
   ]
  },
  {
   "cell_type": "code",
   "execution_count": 4,
   "metadata": {},
   "outputs": [
    {
     "data": {
      "text/plain": [
       "Text(0, 0.5, 'Concentration [kg/m$^3$]')"
      ]
     },
     "execution_count": 4,
     "metadata": {},
     "output_type": "execute_result"
    }
   ],
   "source": [
    "%matplotlib tk\n",
    "\n",
    "fig, axs = plt.subplots(1,1,figsize=(6,4),facecolor='w', edgecolor='k',gridspec_kw={'width_ratios':[1]})\n",
    "fig.subplots_adjust(hspace =.02, wspace=.02)\n",
    "plt.tight_layout()\n",
    "\n",
    "ax1=plt.subplot(111)\n",
    "plt.plot(Data_Time,Data_test01,'r', marker = \".\", label ='main (Q3=1)')\n",
    "plt.plot(Data_Time,Data_test02,'k', marker = \"*\", label ='up (Q2=0.5)')\n",
    "plt.plot(Data_Time,Data_test03,'g', marker = \".\", label ='up (Q1=0.25)')\n",
    "#plt.title('Test0: Q$_3$ = Q$_1$ + Q$_2$, Q$_2$ = Q$_1$')\n",
    "#plt.title('Test1: Q$_3$ = Q$_1$ + Q$_2$, Q$_2$ > Q$_1$')\n",
    "plt.title('Test2: Q$_3$ > Q$_1$ + Q$_2$, Q$_2$ > Q$_1$')\n",
    "\n",
    "\n",
    "plt.legend()\n",
    "plt.xlabel('Time [hr]', fontsize=12,fontweight='normal')\n",
    "plt.ylabel('Concentration [kg/m$^3$]', fontsize=12,fontweight='normal')\n",
    "#plt.ylim([-0.005 ,1.01])"
   ]
  },
  {
   "cell_type": "code",
   "execution_count": null,
   "metadata": {},
   "outputs": [],
   "source": [
    "# Transport only runs\n",
    "\n",
    "path_new = '/Users/ajc/Projects/ATS-Data/OR-CONDO/mytests-orhydra/ats-transport-subgrid-testsuite/tests-updated/'\n",
    "\n",
    "Data_Gen = np.loadtxt(path_new+'/transport/test0/surface-outlet.dat',skiprows=6)\n",
    "\n",
    "Data_Log1 = np.loadtxt(path_new+'/transport-logical/test0/surface-outlet-new.dat',skiprows=6)\n",
    "\n",
    "Data_Log2 = np.loadtxt(path_new+'/transport-logical/test0/surface-outlet.dat',skiprows=6)\n",
    "\n",
    "#Data_Log2 = np.loadtxt(path_new+'/logical-surface-twoway/transport-logical/test0/surface-outlet_pd0-5496.dat',skiprows=6)\n",
    "#Data_Log3 = np.loadtxt(path_new+'/logical-surface-twoway/transport-logical/test0/surface-outlet.dat',skiprows=6)\n",
    "\n",
    "Data_Gen = np.array([x[1] for x in Data_Gen])\n",
    "Data_Log1 = np.array([x[1] for x in Data_Log1])\n",
    "Data_Log2 = np.array([x[1] for x in Data_Log2])\n",
    "#Data_Log3 = np.array([x[1] for x in Data_Log3])\n",
    "plt.plot(Data_Time,Data_Gen,'c', marker = \".\", label ='Generated mesh')\n",
    "plt.plot(Data_Time,Data_Log1,'b.', marker = \".\", label ='Cross Area')\n",
    "plt.plot(Data_Time,Data_Log2,'k.', marker = \".\", label ='PD')\n",
    "#plt.plot(Data_Time,Data_Log3,'r', marker = \".\", label =' old ')"
   ]
  },
  {
   "cell_type": "code",
   "execution_count": null,
   "metadata": {},
   "outputs": [],
   "source": []
  }
 ],
 "metadata": {
  "kernelspec": {
   "display_name": "Python 3",
   "language": "python",
   "name": "python3"
  },
  "language_info": {
   "codemirror_mode": {
    "name": "ipython",
    "version": 3
   },
   "file_extension": ".py",
   "mimetype": "text/x-python",
   "name": "python",
   "nbconvert_exporter": "python",
   "pygments_lexer": "ipython3",
   "version": "3.7.3"
  }
 },
 "nbformat": 4,
 "nbformat_minor": 2
}
