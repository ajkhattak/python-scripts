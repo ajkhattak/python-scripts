{
 "cells": [
  {
   "cell_type": "code",
   "execution_count": null,
   "metadata": {},
   "outputs": [],
   "source": [
    "import numpy as np\n",
    "import matplotlib\n",
    "import matplotlib.pyplot as plt\n",
    "import h5py\n",
    "\n",
    "from matplotlib import animation\n",
    "from matplotlib import cm\n",
    "from mpl_toolkits import mplot3d\n",
    "import os,sys\n",
    "sys.path.append('/Users/ajc/Core/PyScript')\n",
    "import readdata as rd\n",
    "import os\n",
    "import geopy.distance"
   ]
  },
  {
   "cell_type": "code",
   "execution_count": null,
   "metadata": {},
   "outputs": [],
   "source": [
    "mesh_resfile= '/Users/ajc/Core/simulations/production/streams/SIM_13/mesh_coords_10m_min100m/ats_vis_surface_mesh.h5'\n",
    "mesh_hres = rd.get_mesh_coords(mesh_resfile)"
   ]
  },
  {
   "cell_type": "code",
   "execution_count": null,
   "metadata": {},
   "outputs": [],
   "source": [
    "folder='EFPC'#'portage_river'\n",
    "\n",
    "path_high_res = path='/Users/ajc/Core/simulations/production/streams/SIM_13/mesh_coords_10m_min100m'\n",
    "\n",
    "name = '10m_min100m'\n",
    "sim = 'mesh_coords_%s'%name \n",
    "path='/Users/ajc/Core/simulations/production/streams/SIM_13/%s'%sim\n",
    "\n",
    "infile = [os.path.join(path,'ats_vis_surface_data.h5'), os.path.join(path,'ats_vis_surface_mesh.h5'),\n",
    "          os.path.join(path_high_res,'ats_vis_surface_mesh.h5') ]\n",
    "\n",
    "\n",
    "outfile='/Users/ajc/Core/PostProcessing/ReactiveTransport/2021/Q2/'"
   ]
  },
  {
   "cell_type": "code",
   "execution_count": null,
   "metadata": {},
   "outputs": [],
   "source": [
    "# read non-boundary and boundary cells\n",
    "cells_file = np.loadtxt('/Users/ajc/Core/PreProcessing/ReactiveTransport/data/%s/reach_cells/vector_cells-%s.dat'%(folder,name),usecols=0,delimiter=',')\n",
    "cells_file = np.array(cells_file,dtype=int)\n",
    "bccells_file = np.loadtxt('/Users/ajc/Core/PreProcessing/ReactiveTransport/data/%s/reach_cells/vector_cells-%s.dat'%(folder,name),usecols=1,delimiter=',')\n",
    "bccells_file = np.array(bccells_file,dtype=int)\n",
    "\n",
    "\n",
    "c_merge_file = np.loadtxt('/Users/ajc/Core/PreProcessing/ReactiveTransport/data/%s/centriods_merged/centriods_merged-%s.dat'%(folder,name),usecols=0,delimiter=',',dtype=str)\n",
    "cent_merge = np.array(c_merge_file,dtype=str)\n",
    "\n",
    "# Read discharge\n",
    "Q_file = h5py.File('/Users/ajc/Core/PreProcessing/ReactiveTransport/data/%s/discharge/discharge-%s.h5'%(folder,name),'r')\n",
    "discharge = np.concatenate(Q_file['surface-mass_flux.face.0']['0'][:])\n",
    "\n",
    "#Read source\n",
    "Src_file = h5py.File('/Users/ajc/Core/PreProcessing/ReactiveTransport/data/%s/implied_source/implied_watersource-%s.h5'%(folder,name),'r')\n",
    "source = np.concatenate(Src_file['surface-water_mass_source.cell.0']['0'][:])\n",
    "\n"
   ]
  },
  {
   "cell_type": "code",
   "execution_count": null,
   "metadata": {},
   "outputs": [],
   "source": []
  },
  {
   "cell_type": "code",
   "execution_count": null,
   "metadata": {},
   "outputs": [],
   "source": [
    "def get_coarseres_cells(cells_file):\n",
    "    csum = np.cumsum(cells_file)\n",
    "    for c in csum:\n",
    "        yield c\n",
    "        \n",
    "ptr = get_coarseres_cells(cells_file)\n",
    "Q = []\n",
    "xprev = 0\n",
    "bc_count = 0\n",
    "for i,p in enumerate(ptr):\n",
    "    if bccells_file[i] == 0:\n",
    "        Q.append(discharge[xprev+bc_count:p+bc_count])\n",
    "        bc_count = bc_count + 1\n",
    "        xprev = p \n",
    "    else:\n",
    "        Q.append(discharge[xprev+bc_count:p+bc_count])\n",
    "        xprev = p\n",
    "\n",
    "Q =  np.concatenate(Q)\n",
    "\n",
    "print (len(Q), len(source), len(discharge))"
   ]
  },
  {
   "cell_type": "code",
   "execution_count": null,
   "metadata": {},
   "outputs": [],
   "source": [
    "mesh = rd.get_mesh_coords(infile[1])"
   ]
  },
  {
   "cell_type": "code",
   "execution_count": null,
   "metadata": {},
   "outputs": [],
   "source": [
    "variables = [(0,'DOM1'), (1,'O2(aq)'), (2,'NO3-'), (3,'HCO3-'),(4,'H+'),(5,'N2(aq)')]\n",
    "#var = 'DOM1 conc'\n",
    "var_c = 0\n",
    "var = variables[var_c][0]\n",
    "C_data = rd.GetSurfVarFromVis_All(infile[0],'surface-total_component_concentration',suffix='.cell.%s'%var)\n",
    "Concentration = C_data['surface-total_component_concentration']\n",
    "cycles = len(Concentration)"
   ]
  },
  {
   "cell_type": "code",
   "execution_count": null,
   "metadata": {},
   "outputs": [],
   "source": []
  },
  {
   "cell_type": "code",
   "execution_count": null,
   "metadata": {},
   "outputs": [],
   "source": []
  },
  {
   "cell_type": "code",
   "execution_count": null,
   "metadata": {},
   "outputs": [],
   "source": [
    "\n",
    "EFPC= True#False\n",
    "def get_limits():\n",
    "    fig, ax = plt.subplots(2,1,figsize=(6,8))#,subplot_kw={\"projection\": \"3d\"})\n",
    "    #fig = plt.figure(figsize=(20,8))\n",
    "    #ax = fig.add_subplot(121)\n",
    "\n",
    "    ax[0].scatter(mesh['x'],mesh['y'],marker=\".\",c=mesh['z'],s=0.1)\n",
    "    #ax.set_xlim(xmin-0.0005,xmax)\n",
    "    xmin, xmax = ax[0].get_xlim()\n",
    "    ymin, ymax = ax[0].get_ylim()\n",
    "    #EFPC:\n",
    "    xmin, ymin =-84.40676658316265, 35.92218408032078\n",
    "    xmax, ymax = -84.23017702238597, 36.0329686150259\n",
    "    print(xmin,xmax)\n",
    "    print(ymin,ymax)\n",
    "    # Coweeta\n",
    "    #X0 = [-83.48, -83.40]\n",
    "    #Y0 = [35.03, 35.08]\n",
    "    \n",
    "    if EFPC:\n",
    "        #X0 = [-84.22, -84.405]\n",
    "        #Y0 = [35.92, 36.04]\n",
    "        X0 = [xmin, xmax]\n",
    "        Y0 = [ymin, ymax]\n",
    "    else:#Portage\n",
    "        X0 = [-83.68, -83.40]\n",
    "        Y0 = [41.02, 41.41]\n",
    "    \n",
    "    #ax[0].set_xlim(X0)\n",
    "    #ax[0].set_ylim(Y0)\n",
    "    #xmin, xmax = ax[0].get_xlim()\n",
    "    #ymin, ymax = ax[0].get_ylim()\n",
    "\n",
    "    xx = geopy.distance.geodesic(xmin,xmax).km #+ 0.07\n",
    "    yy = geopy.distance.geodesic(ymin,ymax).km #+ 0.455\n",
    "    print (xx,yy)\n",
    "    Xlabels = np.round(np.linspace(0,xx,10),0)\n",
    "    Ylabels = np.round(np.linspace(0,yy,8),0)\n",
    "    Xlabels = [int(i) for i in Xlabels]\n",
    "    Ylabels = [int(i) for i in Ylabels]\n",
    "    print (Xlabels)\n",
    "    #ax = fig.add_subplot(122)\n",
    "    #ax[1].scatter(mesh['x'],mesh['y'],marker=\".\",c=mesh['z'])\n",
    "    ax[1].scatter(mesh['x'],mesh['y'],marker=\".\",c=Q,s=.1,cmap=cm.coolwarm,vmin=1e-3,vmax=1,norm=matplotlib.colors.LogNorm())\n",
    "    #print (len(X_mesh),len(Y_mesh),len(Z_mesh))\n",
    "    #ax[1].plot_surface(X_mesh, Y_mesh, [Z_mesh,Z_mesh], cmap=cm.coolwarm,linewidth=0, antialiased=False)\n",
    "    ax[1].set_xticklabels(Xlabels)\n",
    "    ax[1].set_yticklabels(Ylabels)\n",
    "    ax[1].set_xticklabels(Xlabels)\n",
    "    ax[1].set_yticklabels(Ylabels)\n",
    "    ax[1].set_xlabel('Distance [km]',fontsize=12,fontweight='normal')\n",
    "    ax[1].set_ylabel('Distance [km]',fontsize=12,fontweight='normal')\n",
    "    #ax[1].set_xlim(xmin,xmax)\n",
    "    #ax[1].set_ylim(ymin,ymax)\n",
    "    #plt.gca().invert_xaxis()\n",
    "    plt.show()\n",
    "    return X0, Y0, Xlabels, Ylabels\n",
    "    \n",
    "X0, Y0, Xlabels,Ylabels = get_limits()\n",
    "\n"
   ]
  },
  {
   "cell_type": "code",
   "execution_count": null,
   "metadata": {},
   "outputs": [],
   "source": [
    "\n"
   ]
  },
  {
   "cell_type": "code",
   "execution_count": null,
   "metadata": {},
   "outputs": [],
   "source": [
    "#%matplotlib qt\n",
    "\n",
    "fig, ax = plt.subplots(1,1,figsize=(8,4))\n",
    "#fig, ax = plt.subplots(2,2,figsize=(10,3),gridspec_kw={'width_ratios': [1, 1.2]})\n",
    "centroid = []\n",
    "thick = [1,1,1]\n",
    "kk = -1#282 + 63 + 28 + 198 + 82 + 166 + 291 + 117 + 95 + 900 \n",
    "for k in range(1):\n",
    "    ran = Q[:kk]\n",
    "    \n",
    "    #sc1 = ax.scatter(mesh_hres['x'][:kk],mesh_hres['y'][:kk],marker='.',c='lightgrey',s=0.1)\n",
    "    #ax.scatter(mesh['x'],mesh['y'],marker=\".\",c=mesh['z'],s=0.1)\n",
    "    sc = ax.scatter(mesh['x'][:kk],mesh['y'][:kk],marker='.',c=ran,s=0.1,cmap=cm.coolwarm,vmin=1e-3,vmax=1,norm=matplotlib.colors.LogNorm())\n",
    "    \n",
    "    #sc = ax.scatter(X_mesh[:kk],Y_mesh[:kk],marker='.',c=source[:kk],s=20,cmap=cm.coolwarm,vmin=5e-4,vmax=1e-2,norm=matplotlib.colors.LogNorm())\n",
    "    \n",
    "    #sc = plt.plot_surface(X_mesh[:kk],Y_mesh[:kk],z=ran,linestyle='solid')#,s=6,plotnonfinite=True,cmap=cm.coolwarm,vmin=5e-4,vmax=1,norm=matplotlib.colors.LogNorm())\n",
    "    \n",
    "    cbar = plt.colorbar(sc, label='Discharge [m$^3$/sec]',shrink=0.8,aspect=30)\n",
    "    cbar.set_label('Discharge [m$^3$/sec]',size=12)\n",
    "    cbar.ax.tick_params(labelsize=10) \n",
    "    plt.tight_layout(h_pad=1)\n",
    "    #ax[0].set_xlim(X0)\n",
    "    \n",
    "    #ax[0].set_ylim(Y0)\n",
    "    #xmin, xmax = ax.get_xlim()\n",
    "    #ymin, ymax = ax.get_ylim()\n",
    "    #plt.gca().invert_xaxis()\n",
    "    ax.set_xticklabels(Xlabels)\n",
    "    ax.set_yticklabels(Ylabels)\n",
    "    ax.set_xlabel('Distance [km]',fontsize=12,fontweight='normal')\n",
    "    ax.set_ylabel('Distance [km]',fontsize=12,fontweight='normal')\n",
    "    plt.tight_layout()\n",
    "    plt.savefig('/Users/ajc/Core/PostProcessing/ReactiveTransport/2021/Q2/efpc-10m_merge.png',dpi=400)"
   ]
  },
  {
   "cell_type": "code",
   "execution_count": null,
   "metadata": {},
   "outputs": [],
   "source": []
  },
  {
   "cell_type": "code",
   "execution_count": null,
   "metadata": {},
   "outputs": [],
   "source": []
  }
 ],
 "metadata": {
  "kernelspec": {
   "display_name": "Python 3",
   "language": "python",
   "name": "python3"
  },
  "language_info": {
   "codemirror_mode": {
    "name": "ipython",
    "version": 3
   },
   "file_extension": ".py",
   "mimetype": "text/x-python",
   "name": "python",
   "nbconvert_exporter": "python",
   "pygments_lexer": "ipython3",
   "version": "3.7.6"
  }
 },
 "nbformat": 4,
 "nbformat_minor": 2
}
