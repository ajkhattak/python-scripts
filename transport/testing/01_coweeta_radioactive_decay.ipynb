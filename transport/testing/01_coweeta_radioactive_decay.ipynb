{
 "cells": [
  {
   "cell_type": "code",
   "execution_count": 1,
   "metadata": {},
   "outputs": [],
   "source": [
    "#************************* MAIN SCRIPT **********************************\n",
    "import sys, os, math, h5py, csv\n",
    "import matplotlib.pyplot as plt\n",
    "from scipy import integrate\n",
    "import numpy as np\n",
    "\n",
    "sys.path.append('/Users/ajc/Core/PreProcessing/PyScript')\n",
    "import readdata"
   ]
  },
  {
   "cell_type": "code",
   "execution_count": 2,
   "metadata": {},
   "outputs": [],
   "source": [
    "#path of the simulation directory\n",
    "#path = '/Users/ajc/FUSE/simulations/tests/ats-demos/13_reactive_transport/01_surface'\n",
    "path = '/Users/ajc/FUSE4/simulations/tests/ats-demos/13_reactive_transport/04_hyporheic'\n",
    "path = '/Users/ajc/FUSE/simulations/tests/ats-demos/13_reactive_transport/04_hyporheic_watershed/'\n",
    "\n",
    "#path='/Users/ajc/FUSE4/simulations/tests/ats-transport-subgrid-testsuite/tests/logical-surface-twoway/coweeta/'\n"
   ]
  },
  {
   "cell_type": "code",
   "execution_count": null,
   "metadata": {},
   "outputs": [],
   "source": []
  },
  {
   "cell_type": "code",
   "execution_count": null,
   "metadata": {},
   "outputs": [],
   "source": []
  },
  {
   "cell_type": "code",
   "execution_count": null,
   "metadata": {},
   "outputs": [],
   "source": [
    "F= ['srun1B','srun2B','srun3B','srun4B']\n",
    "#F= ['srun5B','srun6B','srun7B','srun8B']\n",
    "\n",
    "F = ['drun-base','drun1000','drun500','drun100','drun50']\n",
    "F = [c + 'C' for c in F]\n",
    "Files = [os.path.join(path,f,'visdump_surface_data.h5') for f in F]\n",
    "vars = ['surface-total_component_concentration', 'surface-total_component_concentration']\n",
    "Suffix = ['.cell.Tracer1', '.cell.Tracer2']\n"
   ]
  },
  {
   "cell_type": "code",
   "execution_count": null,
   "metadata": {},
   "outputs": [],
   "source": [
    "#Colors = ['r','k','b','c','m']\n",
    "Colors = ['k','c','b','g','r','grey','y']\n",
    "F_L = ['Tracer 1', 'Tracer 2']\n",
    "Taus = ['10','20', '30','40']\n",
    "Labels = ['stream length', '1000m','500m', '100m', '50m']\n",
    "#Labels = Labels[::-1]"
   ]
  },
  {
   "cell_type": "code",
   "execution_count": null,
   "metadata": {},
   "outputs": [],
   "source": []
  },
  {
   "cell_type": "code",
   "execution_count": null,
   "metadata": {},
   "outputs": [],
   "source": [
    "%matplotlib qt\n",
    "outfile=\"/Users/ajc/Core/PostProcessing/ReactiveTransport/Hyporheic/Coweeta/June4/\"\n",
    "\n",
    "def plot_surface_outlet(cell_id=-1,fig_name='fig'):\n",
    "    fig, axs = plt.subplots(1,2, figsize=(10,4), facecolor='w', edgecolor='k',gridspec_kw={'width_ratios':[1,1]})\n",
    "    fig.subplots_adjust(hspace =.02, wspace=1.02)\n",
    "    plt.tight_layout()\n",
    "    \n",
    "    axs = axs.ravel()\n",
    "    \n",
    "    for i, v in enumerate(vars):\n",
    "        #plt.subplot(111)\n",
    "        for j,f in enumerate(Files):\n",
    "            print(j,f)\n",
    "            data = np.array(readdata.GetSurfVarFromVis(f,v,cellid=cell_id,suffix=Suffix[i])[v])\n",
    "            \n",
    "            Time = np.array([120*i/3600. for i in range(len(data))])\n",
    "            #axs[i].plot(Time, 1.e-3*data,color=Colors[j],label=F_L[i]) # convert ATS moles/second to Pflotran moles/litre\n",
    "            axs[i].plot(Time, 1.e-3*data,color=Colors[j],label=Labels[j])#Taus[j]) # convert ATS moles/second to Pflotran moles/litre\n",
    "        axs[i].set_ylabel(vars[i],fontsize=12)\n",
    "\n",
    "        axs[i].set_xlabel('Time [h]',fontsize=12)\n",
    "\n",
    "        axs[i].legend(loc='best',fontsize=10)\n",
    "        print (F_L[i])\n",
    "        axs[i].set_title(\"Radioactive decay : %s\"%F_L[i],fontsize=12)\n",
    "        axs[i].ticklabel_format(style='sci', axis='y', scilimits=(0,0),useMathText=True)\n",
    "        \n",
    "        #axs[i].set_ylim(0,2e-2)\n",
    "\n",
    "    plt.tight_layout(h_pad=1)\n",
    "    \n",
    "    plt.savefig(outfile + fig_name  + \"-outlet.png\",dpi=100)\n",
    "    plt.show()"
   ]
  },
  {
   "cell_type": "code",
   "execution_count": null,
   "metadata": {
    "scrolled": true
   },
   "outputs": [],
   "source": [
    "plot_surface_outlet(cell_id=0, fig_name='fig3')"
   ]
  },
  {
   "cell_type": "code",
   "execution_count": null,
   "metadata": {},
   "outputs": [],
   "source": []
  },
  {
   "cell_type": "code",
   "execution_count": null,
   "metadata": {},
   "outputs": [],
   "source": [
    "\n",
    "# alpha = 1.7e-5 : inputfile = decay_ingrowth_coweeta_1.xml\n",
    "#srun1A: stream rate = 0 , subgrid with rate = 1 * 1.155e-4 , mean = 0.5, taus = 10\n",
    "#srun2A: stream rate = 0 , subgrid with rate = 1 * 1.155e-4 , mean = 0.5, taus = 20\n",
    "#srun3A: stream rate = 0 , subgrid with rate = 1 * 1.155e-4 , mean = 0.5, taus = 30\n",
    "#srun4A: stream rate = 0 , subgrid with rate = 1 * 1.155e-4 , mean = 0.5, taus = 40\n",
    "\n",
    "# alpha = 1.7e-5 : inputfile = decay_ingrowth_coweeta_2.xml\n",
    "#srun1B: stream rate = 1.155e-4 , subgrid with rate = 1.155e-4 , mean = 0.5, taus = 10\n",
    "#srun2B: stream rate = 1.155e-4 , subgrid with rate = 1.155e-4 , mean = 0.5, taus = 20\n",
    "#srun3B: stream rate = 1.155e-4 , subgrid with rate = 1.155e-4 , mean = 0.5, taus = 30\n",
    "#srun4B: stream rate = 1.155e-4 , subgrid with rate = 1.155e-4 , mean = 0.5, taus = 40\n",
    "\n",
    "\n",
    "#*************\n",
    "# alpha = 1.7e-5 : inputfile = decay_ingrowth_coweeta_3.xml\n",
    "#srun5B: stream rate = 1.155e-4 , subgrid with rate = 1 * 1.155e-4 , mean = 5, taus = 10\n",
    "#srun6B: stream rate = 1.155e-4 , subgrid with rate = 1 * 1.155e-4 , mean = 5, taus = 20\n",
    "#srun7B: stream rate = 1.155e-4 , subgrid with rate = 1 * 1.155e-4 , mean = 5, taus = 30\n",
    "#srun8B: stream rate = 1.155e-4 , subgrid with rate = 1 * 1.155e-4 , mean = 5, taus = 40\n"
   ]
  },
  {
   "cell_type": "code",
   "execution_count": null,
   "metadata": {},
   "outputs": [],
   "source": []
  },
  {
   "cell_type": "code",
   "execution_count": null,
   "metadata": {},
   "outputs": [],
   "source": [
    "def subgrid_C(sg_file,sg_var, suff):\n",
    "        sgC_data = readdata.GetSurfVarFromVis_All(sg_file,sg_var,suffix=suff)\n",
    "        sgConcentration = sgC_data[sg_var]\n",
    "        return sgConcentration\n",
    "    \n",
    "def plot_surface_subgrid(ncells=-1):\n",
    "    fig, axs = plt.subplots(1,3, figsize=(14,4), facecolor='w', edgecolor='k',gridspec_kw={'width_ratios':[1,1,1]})\n",
    "    fig.subplots_adjust(hspace =.02, wspace=1.02)\n",
    "    plt.tight_layout()\n",
    "    \n",
    "    sum1 = 0\n",
    "    \n",
    "    for i, v in enumerate(vars):\n",
    "        plt.subplot(131)\n",
    "\n",
    "        dat1 = np.array(readdata.GetSurfVarFromVis(Files[0],v,cellid=ncells,suffix=Suffix[0])[v])\n",
    "        dat2 = np.array(readdata.GetSurfVarFromVis(Files[0],v,cellid=ncells,suffix=Suffix[1])[v])\n",
    "        data = dat1 + dat2\n",
    "        Time = np.array([900*i/3600. for i in range(len(data))])\n",
    "        if i ==0:\n",
    "            plt.plot(Time, 1.e-3*data,color=Colors[2],label='total concent. %s'%(np.round(1e-3*data[-1],5)))\n",
    "        plt.plot(Time, 1.e-3*dat1,color=Colors[0],label='%s: %s'%(F_L[0],np.round(1e-3*dat1[-1],5)))\n",
    "        plt.plot(Time, 1.e-3*dat2,color=Colors[1],label='%s: %s'%(F_L[1],np.round(1e-3*dat2[-1],5)))\n",
    "        sum1 = sum1 + 1e-3*data[-1]\n",
    "        print ('surface:', sum1, 1e-3*data[-1])\n",
    "        plt.ylabel(vars[i])\n",
    "\n",
    "        plt.xlabel('Time [h]')\n",
    "        plt.title('stream outlet, x = %s'%ncells)\n",
    "        plt.legend()\n",
    "        break\n",
    "    plt.subplot(132)\n",
    "    xnum = 100\n",
    "    R = [0, ncells]\n",
    "\n",
    "    n_taus = 20\n",
    "    for i,x1 in enumerate(R):\n",
    "\n",
    "        sg_infile = os.path.join(path,F[0],'visdump_subgrid_%s_data.h5'%x1)\n",
    "        sg_var='subgrid_%s-total_component_concentration'%x1\n",
    "\n",
    "        dat1 = subgrid_C(sg_file=sg_infile,sg_var=sg_var, suff=Suffix[0])\n",
    "        dat2 = subgrid_C(sg_file=sg_infile,sg_var=sg_var, suff=Suffix[1])\n",
    "\n",
    "        if (i ==1):\n",
    "            dat11a = 1e-3*np.reshape(dat1,(-1,n_taus))\n",
    "            dat11b = [d[0] for d in dat11a] #first cell in Tau space\n",
    "            dat11c = [d[-1] for d in dat11a] # last cell in Tau space\n",
    "            \n",
    "            plt.plot(Time, dat11b,'-',color=Colors_sg[i-1],label='sg_%s[0]_Tc1 =%s)'%(R[i],np.round(dat11b[-1],4)))\n",
    "            plt.plot(Time, dat11c,'-',color=Colors_sg[i],label='sg_%s[19]_Tc1 = %s)'%(R[i],np.round(dat11c[0],4)))\n",
    "\n",
    "\n",
    "            dat21a = 1e-3*np.reshape(dat2,(-1,n_taus))\n",
    "            dat21b = [d[0] for d in dat21a]\n",
    "            dat21c = [d[-1] for d in dat21a]\n",
    "            \n",
    "            plt.plot(Time, dat21b,'-',color=Colors_sg[i+1],label='sg_%s[0]_Tc2 = %s)'%(R[i],np.round(dat21b[-1],4)))\n",
    "            plt.plot(Time, dat21c,'-',color=Colors_sg[i+2],label='sg_%s[19]_Tc2 = %s)'%(R[i],np.round(dat21c[0],4)))\n",
    "\n",
    "    plt.title('subgrid. Tracer 1 and 2 at sg_cell 0')\n",
    "    plt.legend(loc='best', fontsize=9)\n",
    "    plt.subplot(133)\n",
    "    \n",
    "    for i,x1 in enumerate(R):\n",
    "\n",
    "        sg_infile = os.path.join(path,F[0],'visdump_subgrid_%s_data.h5'%x1)\n",
    "        sg_var='subgrid_%s-total_component_concentration'%x1\n",
    "        dat1 = subgrid_C(sg_file=sg_infile,sg_var=sg_var, suff=Suffix[0])#[-1][::-1]\n",
    "        dat2 = subgrid_C(sg_file=sg_infile,sg_var=sg_var, suff=Suffix[1])#[-1][::-1]\n",
    "\n",
    "        if (i ==1 or i ==0):\n",
    "            dat11a = 1e-3*np.reshape(dat1,(-1,n_taus))\n",
    "            dat11 = dat11a[-1]\n",
    "            \n",
    "            dat21a = 1e-3*np.reshape(dat2,(-1,n_taus))\n",
    "            dat21 = dat21a[-1]\n",
    "            \n",
    "            plt.plot(dat11,'*',color=Colors_sg[i],label='sg_%s  (Tc1. %s)'%(x1,np.round(np.max(dat11),4)))\n",
    "            plt.plot(dat21,'.',color=Colors_sg[i],label='sg_%s  (Tc2. %s)'%(x1,np.round(np.max(dat21),4)))\n",
    "            plt.xlabel('# cells in Tau space')\n",
    "        \n",
    "    plt.title('subgrid')\n",
    "\n",
    "\n",
    "    plt.legend(loc='best', fontsize=9)\n",
    "    plt.show()\n"
   ]
  },
  {
   "cell_type": "code",
   "execution_count": null,
   "metadata": {},
   "outputs": [],
   "source": [
    "plot_surface_subgrid(ncells=9)"
   ]
  },
  {
   "cell_type": "code",
   "execution_count": null,
   "metadata": {},
   "outputs": [],
   "source": []
  },
  {
   "cell_type": "code",
   "execution_count": null,
   "metadata": {},
   "outputs": [],
   "source": []
  },
  {
   "cell_type": "code",
   "execution_count": null,
   "metadata": {},
   "outputs": [],
   "source": []
  },
  {
   "cell_type": "code",
   "execution_count": null,
   "metadata": {},
   "outputs": [],
   "source": []
  },
  {
   "cell_type": "code",
   "execution_count": null,
   "metadata": {},
   "outputs": [],
   "source": []
  },
  {
   "cell_type": "code",
   "execution_count": null,
   "metadata": {},
   "outputs": [],
   "source": []
  },
  {
   "cell_type": "code",
   "execution_count": null,
   "metadata": {},
   "outputs": [],
   "source": []
  },
  {
   "cell_type": "code",
   "execution_count": null,
   "metadata": {},
   "outputs": [],
   "source": []
  },
  {
   "cell_type": "code",
   "execution_count": null,
   "metadata": {},
   "outputs": [],
   "source": []
  },
  {
   "cell_type": "code",
   "execution_count": null,
   "metadata": {},
   "outputs": [],
   "source": []
  },
  {
   "cell_type": "code",
   "execution_count": null,
   "metadata": {},
   "outputs": [],
   "source": [
    "\n"
   ]
  },
  {
   "cell_type": "code",
   "execution_count": null,
   "metadata": {},
   "outputs": [],
   "source": [
    "there is no reason to believe it will not work\n",
    "I will echo your comment\n",
    "We are working with one data set, but are not marry to it\n",
    "\n",
    "we could not do it without your help\n",
    "\n",
    "there will be bumps along the road\n",
    "\n",
    "research has shown groundwater is an important link to the lower atmosphere.  \n",
    "Both projects seem like a great opportunity to study this— are there plans for this?"
   ]
  }
 ],
 "metadata": {
  "kernelspec": {
   "display_name": "Python 3",
   "language": "python",
   "name": "python3"
  },
  "language_info": {
   "codemirror_mode": {
    "name": "ipython",
    "version": 3
   },
   "file_extension": ".py",
   "mimetype": "text/x-python",
   "name": "python",
   "nbconvert_exporter": "python",
   "pygments_lexer": "ipython3",
   "version": "3.7.6"
  }
 },
 "nbformat": 4,
 "nbformat_minor": 2
}
