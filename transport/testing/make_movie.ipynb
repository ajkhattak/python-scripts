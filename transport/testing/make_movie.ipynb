{
 "cells": [
  {
   "cell_type": "code",
   "execution_count": 2,
   "metadata": {},
   "outputs": [],
   "source": [
    "import numpy as np\n",
    "import matplotlib\n",
    "import matplotlib.pyplot as plt\n",
    "import h5py\n",
    "\n",
    "from matplotlib import animation\n",
    "from matplotlib import cm\n",
    "from mpl_toolkits import mplot3d\n",
    "import os,sys\n",
    "sys.path.append(\"/Users/ajc/Core/PostProcessData/PyScript\")\n",
    "import readdata as rd\n",
    "import os"
   ]
  },
  {
   "cell_type": "code",
   "execution_count": 3,
   "metadata": {},
   "outputs": [
    {
     "name": "stdout",
     "output_type": "stream",
     "text": [
      "811\n"
     ]
    }
   ],
   "source": [
    "#mesh_file='/Users/ajc/FUSE/ats-tests/ats-transport-subgrid-testsuite/tests/logical-surface-twoway/coweeta/test2'\n",
    "path_cades='/Users/ajc/FUSE/simulations/tests/ats-tests/ats-transport-subgrid-testsuite/tests/logical-surface-twoway/coweeta/Srun2'\n",
    "path_cades='/Users/ajc/FUSE/tests/ats-tests/ats-transport-subgrid-testsuite/tests/logical-surface-twoway/coweeta/Srun2'\n",
    "infile = [os.path.join(path_cades,'visdump_surface_data.h5'), os.path.join(path_cades,'visdump_surface_mesh.h5') ]\n",
    "\n",
    "mesh = h5py.File(infile[1],'r')\n",
    "mesh_data = list(mesh['0']['Mesh']['Nodes'])\n",
    "\n",
    "C_data = rd.GetSurfVarFromVis_All(infile[0],'surface-total_component_concentration',suffix='.cell.Tc-99')\n",
    "Concentration = C_data['surface-total_component_concentration']\n",
    "cycles = len(Concentration)\n",
    "print (len(Concentration))"
   ]
  },
  {
   "cell_type": "code",
   "execution_count": 4,
   "metadata": {},
   "outputs": [
    {
     "name": "stdout",
     "output_type": "stream",
     "text": [
      "811\n"
     ]
    }
   ],
   "source": [
    "X_mesh = []\n",
    "Y_mesh = []\n",
    "Z_mesh = []\n",
    "\n",
    "for m in mesh_data:#[:30]:\n",
    "    X_mesh.append(m[0])\n",
    "    Y_mesh.append(m[1])\n",
    "    Z_mesh.append(m[2])\n",
    "print (len(Concentration))\n"
   ]
  },
  {
   "cell_type": "code",
   "execution_count": null,
   "metadata": {},
   "outputs": [],
   "source": []
  },
  {
   "cell_type": "code",
   "execution_count": 5,
   "metadata": {},
   "outputs": [],
   "source": [
    "path='/Users/ajc/Core/PostProcessData/2019/simulations/transport/Srun2/'"
   ]
  },
  {
   "cell_type": "code",
   "execution_count": 6,
   "metadata": {},
   "outputs": [],
   "source": [
    "#Write solute concentration images to a directory\n",
    "%matplotlib tk\n",
    "\n",
    "#fig = plt.figure()\n",
    "#ax = fig.gca(projection='3d')\n",
    "\n",
    "x_orig = X_mesh\n",
    "y_orig = Y_mesh\n",
    "\n",
    "centroid = []\n",
    "thick = [1,1,1]\n",
    "\n",
    "for k in range(cycles):\n",
    "    fig, ax = plt.subplots(1,1,figsize=(8,4))\n",
    "    y1 = y_orig\n",
    "    y2 = [i + 0.000001 for i in y1]\n",
    "    X = [x_orig,x_orig]\n",
    "    Y = [y1,y2]\n",
    "    \n",
    "    z = np.ones(len(x_orig))*0\n",
    "\n",
    "    Z = np.array([z,z])\n",
    "    data = np.linspace(1,0,len(x_orig))\n",
    "    Z_data = np.array([data,data])\n",
    "    \n",
    "    data_color = cm.jet(Z_data/np.amax(Z_data))\n",
    "    #ran = [f*1 for f in flux_interpolate] #Discharge_stream\n",
    "    ran = Concentration[k]\n",
    "    #print (ran)\n",
    "    ran = [r if r>0 else 1e-12 for r in ran]\n",
    "    sc = ax.scatter(X_mesh,Y_mesh,marker=\".\",c=ran,cmap=cm.coolwarm,vmin=1e-4,vmax=1,norm=matplotlib.colors.LogNorm())\n",
    "    #sc = ax.scatter(X_mesh,Y_mesh,marker=\".\",c=ran,cmap=cm.tab10,vmin=0,vmax=1)\n",
    "    #,vmin=0,vmax=10) map=plt.cm.get_cmap('prism', 5)) cm.tab10\n",
    "    \n",
    "    plt.colorbar(sc, label='Discharge [cm$^3$/sec]',shrink=.96)#,aspect=10)\n",
    "   \n",
    "    #ax.set_zlim(0,0.0)\n",
    "    #ax.set_zticks([])\n",
    "\n",
    "    xmin, xmax = ax.get_xlim()\n",
    "    ax.set_xticks(np.round(np.linspace(xmin, xmax, 5), 2))\n",
    "    ax.set_xticklabels(np.round(np.linspace(xmin, xmax, 5), 2), rotation=45, fontsize=10)\n",
    "    \n",
    "    xmin, xmax = ax.get_ylim()\n",
    "    ax.set_yticks(np.round(np.linspace(xmin, xmax, 5), 2))\n",
    "    ax.set_yticklabels(np.round(np.linspace(xmin, xmax, 5), 2), rotation=0, fontsize=10)\n",
    "    ax.grid(False)\n",
    "    plt.tight_layout(h_pad=1)\n",
    "    #break\n",
    "    plt.savefig(path + 'fig_%s.png'%k,dpi=100)\n",
    "    plt.close()"
   ]
  },
  {
   "cell_type": "code",
   "execution_count": null,
   "metadata": {},
   "outputs": [],
   "source": [
    "\n"
   ]
  },
  {
   "cell_type": "code",
   "execution_count": 16,
   "metadata": {},
   "outputs": [],
   "source": [
    "import re, os\n",
    "\n",
    "def sorted_nicely( l ):\n",
    "    convert = lambda text: int(text) if text.isdigit() else text\n",
    "    alphanum_key = lambda key: [convert(c) for c in re.split('([0-9]+)', key)]\n",
    "    return sorted(l, key = alphanum_key)\n",
    "\n",
    "dir_files = os.listdir(path)\n",
    "\n",
    "Files = sorted_nicely(dir_files)\n",
    "\n",
    "Files = [f for f in Files if f.endswith('.png')]\n",
    "import cv2\n",
    "import numpy as np\n",
    "Files = Files[:60] + Files[450:520] #+ Files[37:70]\n",
    "img_array = []\n",
    "for filename in Files[::1]:\n",
    "    filename = path + filename\n",
    "    img = cv2.imread(filename)\n",
    "    height, width, layers = img.shape\n",
    "    size = (width,height)\n",
    "    img_array.append(img)\n",
    "    \n"
   ]
  },
  {
   "cell_type": "code",
   "execution_count": null,
   "metadata": {},
   "outputs": [],
   "source": []
  },
  {
   "cell_type": "code",
   "execution_count": 17,
   "metadata": {},
   "outputs": [],
   "source": [
    "out = cv2.VideoWriter(path + 'stream-transport-coweeta.mp4',cv2.VideoWriter_fourcc(*'DIVX'), 5, size)\n",
    " \n",
    "for i in range(len(img_array)):\n",
    "    out.write(img_array[i])\n",
    "out.release()"
   ]
  },
  {
   "cell_type": "code",
   "execution_count": null,
   "metadata": {},
   "outputs": [],
   "source": []
  },
  {
   "cell_type": "code",
   "execution_count": null,
   "metadata": {},
   "outputs": [],
   "source": [
    "path='/Users/ajc/Core/PostProcessData/2019/simulations/transport/plots_1014/'\n",
    "%matplotlib tk\n",
    "x_orig = X_mesh\n",
    "y_orig = Y_mesh\n",
    "\n",
    "centroid = []\n",
    "thick = [1,1,1]\n",
    "\n",
    "for k in range(cycles):\n",
    "    fig, ax = plt.subplots(1,1,figsize=(8,4))\n",
    "    y1 = y_orig\n",
    "    y2 = [i + 0.000001 for i in y1]\n",
    "    X = [x_orig,x_orig]\n",
    "    Y = [y1,y2]\n",
    "    \n",
    "    z = np.ones(len(x_orig))*0\n",
    "\n",
    "    Z = np.array([z,z])\n",
    "    data = np.linspace(1,0,len(x_orig))\n",
    "    Z_data = np.array([data,data])\n",
    "    \n",
    "    data_color = cm.jet(Z_data/np.amax(Z_data))\n",
    "    #ran = Discharge_stream\n",
    "    ran = Concentration[140]#[k+120]\n",
    "    ran = [r if r>0 else 1e-12 for r in ran]\n",
    "    #print (ran)\n",
    "    sc = ax.scatter(X_mesh,Y_mesh,marker=\".\",c=ran,cmap=cm.coolwarm,vmin=1e-3,vmax=1,norm=matplotlib.colors.LogNorm())\n",
    "    #sc = ax.scatter(X_mesh,Y_mesh,marker=\".\",c=ran,cmap=cm.tab10,vmin=0,vmax=1)# map=plt.cm.get_cmap('prism', 5))\n",
    "    #plt.colorbar(sc, label='Discharge [cm$^3$/sec]',shrink=.96)#,aspect=10)\n",
    "    plt.colorbar(sc, label='Concentration [kg/m$^3$]',shrink=.96)#,aspect=10)\n",
    "    \n",
    "    xmin, xmax = ax.get_xlim()\n",
    "    ax.set_xticks(np.round(np.linspace(xmin, xmax, 5), 2))\n",
    "    ax.set_xticklabels(np.round(np.linspace(xmin, xmax, 5), 2), rotation=45, fontsize=10)\n",
    "    \n",
    "    xmin, xmax = ax.get_ylim()\n",
    "    ax.set_yticks(np.round(np.linspace(xmin, xmax, 5), 2))\n",
    "    ax.set_yticklabels(np.round(np.linspace(xmin, xmax, 5), 2), rotation=0, fontsize=10)\n",
    "    ax.grid(False)\n",
    "    plt.tight_layout(h_pad=1)\n",
    "   \n",
    "    #plt.savefig(path + 'figs_%s.png'%k,dpi=500)\n",
    "    break\n",
    "    plt.close()\n",
    "    #break"
   ]
  },
  {
   "cell_type": "code",
   "execution_count": null,
   "metadata": {},
   "outputs": [],
   "source": [
    "\n"
   ]
  },
  {
   "cell_type": "code",
   "execution_count": null,
   "metadata": {},
   "outputs": [],
   "source": [
    "#Load all images\n",
    "\"\"\"\n",
    "import cv2\n",
    "import numpy as np\n",
    "import glob\n",
    " \n",
    "img_array = []\n",
    "for filename in glob.glob(path+'*.png'):\n",
    "    img = cv2.imread(filename)\n",
    "    height, width, layers = img.shape\n",
    "    size = (width,height)\n",
    "    img_array.append(img)\n",
    "\"\"\""
   ]
  }
 ],
 "metadata": {
  "kernelspec": {
   "display_name": "Python 3",
   "language": "python",
   "name": "python3"
  },
  "language_info": {
   "codemirror_mode": {
    "name": "ipython",
    "version": 3
   },
   "file_extension": ".py",
   "mimetype": "text/x-python",
   "name": "python",
   "nbconvert_exporter": "python",
   "pygments_lexer": "ipython3",
   "version": "3.7.3"
  }
 },
 "nbformat": 4,
 "nbformat_minor": 2
}
