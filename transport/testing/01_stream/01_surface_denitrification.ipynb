{
 "cells": [
  {
   "cell_type": "code",
   "execution_count": 1,
   "metadata": {},
   "outputs": [],
   "source": [
    "import sys, os, math, h5py, csv\n",
    "import matplotlib.pyplot as plt\n",
    "from scipy import integrate\n",
    "import numpy as np\n",
    "sys.path.append('/Users/ajc/Core/PreProcessing/PyScript')\n",
    "import readdata"
   ]
  },
  {
   "cell_type": "code",
   "execution_count": 2,
   "metadata": {},
   "outputs": [],
   "source": [
    "#path = '/Users/ajc/FUSE/simulations/tests/ats-demos/13_reactive_transport/01_surface'\n",
    "path = '/Users/ajc/FUSE/simulations/tests/ats-demos/13_reactive_transport/04_hyporheic'"
   ]
  },
  {
   "cell_type": "code",
   "execution_count": 3,
   "metadata": {},
   "outputs": [],
   "source": [
    "# Read PFOTRAN standalone data\n",
    "pflotran_file = os.path.join(path, 'data/pflotran_out/denitrification.tec')\n",
    "plfotran_data = dict()\n",
    "plfotran_data['time'] = np.loadtxt(pflotran_file,usecols=0,skiprows=1) #time in hours\n",
    "plfotran_data['DOM1'] = np.loadtxt(pflotran_file,usecols=1,skiprows=1)  # Tracer 1\n",
    "plfotran_data['O2(aq)'] = np.loadtxt(pflotran_file,usecols=2,skiprows=1)  # Tracer 1\n",
    "plfotran_data['NO3-'] = np.loadtxt(pflotran_file,usecols=3,skiprows=1)  # Tracer 1"
   ]
  },
  {
   "cell_type": "code",
   "execution_count": 9,
   "metadata": {},
   "outputs": [],
   "source": [
    "F= ['srun2'] # logical run\n",
    "#F= ['srun4e']\n",
    "Files = [os.path.join(path,f,'visdump_surface_data.h5') for f in F]\n",
    "vars = ['surface-total_component_concentration', 'surface-total_component_concentration','surface-total_component_concentration']\n",
    "Suffix = ['.cell.Tracer1 conc']#,'.cell.DOM1 conc', '.cell.NO3- conc', '.cell.O2(aq) conc']\n",
    "Suffix = ['.cell.DOM1 conc', '.cell.NO3- conc', '.cell.O2(aq) conc']"
   ]
  },
  {
   "cell_type": "code",
   "execution_count": null,
   "metadata": {},
   "outputs": [],
   "source": []
  },
  {
   "cell_type": "code",
   "execution_count": 14,
   "metadata": {},
   "outputs": [
    {
     "name": "stdout",
     "output_type": "stream",
     "text": [
      "0.5\n",
      "0.1\n"
     ]
    },
    {
     "name": "stderr",
     "output_type": "stream",
     "text": [
      "/Users/ajc/opt/anaconda3/lib/python3.7/site-packages/ipykernel_launcher.py:11: MatplotlibDeprecationWarning: Adding an axes using the same arguments as a previous axes currently reuses the earlier instance.  In a future version, a new instance will always be created and returned.  Meanwhile, this warning can be suppressed, and the future behavior ensured, by passing a unique label to each axes instance.\n",
      "  # This is added back by InteractiveShellApp.init_path()\n",
      "/Users/ajc/opt/anaconda3/lib/python3.7/site-packages/ipykernel_launcher.py:11: MatplotlibDeprecationWarning: Adding an axes using the same arguments as a previous axes currently reuses the earlier instance.  In a future version, a new instance will always be created and returned.  Meanwhile, this warning can be suppressed, and the future behavior ensured, by passing a unique label to each axes instance.\n",
      "  # This is added back by InteractiveShellApp.init_path()\n"
     ]
    },
    {
     "name": "stdout",
     "output_type": "stream",
     "text": [
      "0.2654112300516755\n"
     ]
    },
    {
     "data": {
      "image/png": "[encoded data removed]",
      "text/plain": [
       "<Figure size 288x288 with 1 Axes>"
      ]
     },
     "metadata": {},
     "output_type": "display_data"
    }
   ],
   "source": [
    "#%matplotlib tk\n",
    "fig, axs = plt.subplots(1,1, figsize=(4,4), facecolor='w', edgecolor='k',gridspec_kw={'width_ratios':[1]})\n",
    "fig.subplots_adjust(hspace =.02, wspace=1.02)\n",
    "plt.tight_layout()\n",
    "#axs = axs.ravel()\n",
    "\n",
    "Colors = ['r','m','c']\n",
    "F_L = ['DOM1', 'NO3', 'O2']\n",
    "for i, v in enumerate(vars):\n",
    "\n",
    "    plt.subplot(111)\n",
    "    for j,f in enumerate(Files):\n",
    "        data = np.array(readdata.GetSurfVarFromVis(f,v,cellid=0,suffix=Suffix[i])[v])\n",
    "        Time = np.array([240*i/3600. for i in range(len(data))])\n",
    "        plt.semilogy(Time, 1e-3*data,color=Colors[i],label=F_L[i])\n",
    "        print (data[0])\n",
    "        #plt.plot(Time, 1e0*data,color=Colors[i],label=F_L[i]) # plot conservative tracer\n",
    "    plt.ylabel(vars[i] + ' [M]') # Molarity = Moles/liter\n",
    "    plt.xlabel('Time [h]')\n",
    "    \n",
    "plt.semilogy(plfotran_data['time'], plfotran_data['DOM1'],'k',linestyle='--',label='Pflotran DOM1')\n",
    "plt.semilogy(plfotran_data['time'], plfotran_data['NO3-'],'b',linestyle='--',label='Pflotran NO3-')\n",
    "plt.semilogy(plfotran_data['time'], plfotran_data['O2(aq)'],'r',linestyle='--',label='Pflotran O2(aq)')\n",
    "plt.legend(loc='lower right',fontsize=10)\n",
    "plt.title('Srun4e - conservative tracer')\n",
    "plt.ylim(1e-6,1e-3)\n",
    "plt.xlim(0,10)\n",
    "\n",
    "plt.show()"
   ]
  },
  {
   "cell_type": "code",
   "execution_count": null,
   "metadata": {},
   "outputs": [],
   "source": []
  },
  {
   "cell_type": "code",
   "execution_count": null,
   "metadata": {},
   "outputs": [],
   "source": [
    "\n",
    "# Srun4a : velocity = 0.000001 -- > same as point test, replicating point test at 100 cells, bc = no specified \n",
    "# **** Passed\n",
    "#NOTE mass_density_liquid=1 --> resutls in singular value \n",
    "#---------------\n",
    "\n",
    "\n",
    "# Srun4b : velocity = 0.000001 -- > same as point test, replicating point test at 100 cells, bc = specified, \n",
    "# updated pflotran.in file\n",
    "# **** Passed\n",
    "#---------------\n",
    "\n",
    "\n",
    "\n",
    "# Srun4c : velocity = 0.1, ~Srun4b\n",
    "\n",
    "# Srun4d : velocity = 0.1, ~Srun4b, + Tracer1\n",
    "\n"
   ]
  },
  {
   "cell_type": "code",
   "execution_count": null,
   "metadata": {},
   "outputs": [],
   "source": []
  }
 ],
 "metadata": {
  "kernelspec": {
   "display_name": "Python 3",
   "language": "python",
   "name": "python3"
  },
  "language_info": {
   "codemirror_mode": {
    "name": "ipython",
    "version": 3
   },
   "file_extension": ".py",
   "mimetype": "text/x-python",
   "name": "python",
   "nbconvert_exporter": "python",
   "pygments_lexer": "ipython3",
   "version": "3.7.6"
  }
 },
 "nbformat": 4,
 "nbformat_minor": 2
}
