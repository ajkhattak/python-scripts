{
 "cells": [
  {
   "cell_type": "code",
   "execution_count": null,
   "metadata": {},
   "outputs": [],
   "source": [
    "#### model domain : single stream:  Length = 1000 m, Width = 1 m, dx = 10 m, dy= 1 m, Q = 0.1 m$^3$/sec\n",
    "#### Diffusion = 0.2 m$^2$/sec, Dispersion = 0\n",
    "#### bondary condition : prescribed concentration at the inlet boundary face (x=0 m)\n",
    "#### initial condition : zero concentration\n",
    "#### chemsitry: radioactive decay\n",
    "#### Comparison with PFloTran radioactive decay test at the middle (x=49 m) of the stream "
   ]
  },
  {
   "cell_type": "code",
   "execution_count": null,
   "metadata": {},
   "outputs": [],
   "source": [
    "import sys, os, math, h5py, csv\n",
    "import matplotlib.pyplot as plt\n",
    "from scipy import integrate\n",
    "import numpy as np\n",
    "sys.path.append('/Users/ajc/Core/codes/simulator/debug/ats/tools/utils')\n",
    "import read_helper as read\n",
    "#sys.path.append('/Users/ajc/Core/PreProcessing/PyScript')\n",
    "#import readdata"
   ]
  },
  {
   "cell_type": "code",
   "execution_count": null,
   "metadata": {},
   "outputs": [],
   "source": [
    "path = '/Users/ajc/FUSE/simulations/tests/ats-demos/13_reactive_transport/01_stream'"
   ]
  },
  {
   "cell_type": "code",
   "execution_count": null,
   "metadata": {},
   "outputs": [],
   "source": [
    "# Read PFOTRAN standalone data\n",
    "pflotran_file = os.path.join(path, 'data/pflotran_out/denitrification_reach.tec')\n",
    "pflotran_data = dict()\n",
    "#plfotran_data['time'] = np.loadtxt(pflotran_file,usecols=3,skiprows=3) #time in hours\n",
    "pflotran_data['X'] = np.loadtxt(pflotran_file,usecols=0,skiprows=3)  # Tracer 1\n",
    "pflotran_data['DOM1'] = np.loadtxt(pflotran_file,usecols=3,skiprows=3)  # Tracer 1\n",
    "pflotran_data['O2(aq)'] = np.loadtxt(pflotran_file,usecols=4,skiprows=3)  # Tracer 1\n",
    "pflotran_data['NO3-'] = np.loadtxt(pflotran_file,usecols=5,skiprows=3)  # Tracer 1\n"
   ]
  },
  {
   "cell_type": "code",
   "execution_count": null,
   "metadata": {},
   "outputs": [],
   "source": []
  },
  {
   "cell_type": "code",
   "execution_count": null,
   "metadata": {},
   "outputs": [],
   "source": [
    "F= ['srun3C'] # Logical mesh\n",
    "F=['test1']\n",
    "Files = [os.path.join(path,f,'visdump_surface_data.h5') for f in F]\n",
    "vars = ['surface-total_component_concentration', 'surface-total_component_concentration','surface-total_component_concentration']\n",
    "Suffix = ['.cell.DOM1 conc', '.cell.NO3- conc', '.cell.O2(aq) conc']"
   ]
  },
  {
   "cell_type": "code",
   "execution_count": null,
   "metadata": {},
   "outputs": [],
   "source": []
  },
  {
   "cell_type": "code",
   "execution_count": null,
   "metadata": {},
   "outputs": [],
   "source": [
    "#%matplotlib qt\n",
    "fig, axs = plt.subplots(1,1, figsize=(6,4), facecolor='w', edgecolor='k',gridspec_kw={'width_ratios':[1]})\n",
    "fig.subplots_adjust(hspace =.02, wspace=1.02)\n",
    "plt.tight_layout()\n",
    "#axs = axs.ravel()\n",
    "\n",
    "Colors = ['r','k','m']\n",
    "F_L = ['DOM1', 'NO3', 'O2']\n",
    "X = np.linspace(0,1000,100)\n",
    "\n",
    "for i, v in enumerate(vars):\n",
    "\n",
    "    plt.subplot(111)\n",
    "    for j,f in enumerate(Files):\n",
    "        dat = read.GetSurfVarFromVis_All(f,v,suffix=Suffix[i])[v]\n",
    "        \n",
    "        data = np.array(dat[-1])\n",
    "        plt.semilogy(X,1e-3*data,'-',color=Colors[i],label=F_L[i],linewidth=2)\n",
    "        \n",
    "        #percentage removal of a species\n",
    "        #data_pc = [100*(dat[0][0] - d1 )/dat[0][0] for d1 in data]\n",
    "        #plt.plot(X,data_pc,color=Colors[i],label=F_L[i],linewidth=2)\n",
    "        \n",
    "    #plt.ylabel('component removal [%]')    \n",
    "    plt.ylabel(vars[i] + ' [M]') # Molarity = Moles/liter\n",
    "    plt.xlabel('Distance [m]')\n",
    "    \n",
    "plt.semilogy(pflotran_data['X'],pflotran_data['DOM1'],'k',linestyle='--',label='Pflotran DOM1')\n",
    "plt.semilogy(pflotran_data['X'], pflotran_data['NO3-'],'g',linestyle='--',label='Pflotran NO3-')\n",
    "plt.semilogy(pflotran_data['X'], pflotran_data['O2(aq)'],'c',linestyle='--',label='Pflotran O2(aq)')\n",
    "plt.legend(loc='lower right',fontsize=10)\n",
    "\n",
    "plt.ylim(1e-6,1e-3)\n",
    "\n",
    "plt.show()"
   ]
  },
  {
   "cell_type": "code",
   "execution_count": null,
   "metadata": {},
   "outputs": [],
   "source": []
  },
  {
   "cell_type": "code",
   "execution_count": null,
   "metadata": {},
   "outputs": [],
   "source": [
    "outfile=\"/Users/ajc/Core/PostProcessing/ReactiveTransport/Hyporheic/Coweeta/June4/\""
   ]
  },
  {
   "cell_type": "code",
   "execution_count": null,
   "metadata": {},
   "outputs": [],
   "source": [
    "import seaborn as sns\n",
    "\n",
    "def subgrid_C(sg_file,sg_var, suff):\n",
    "        sgC_data = readdata.GetSurfVarFromVis_All(sg_file,sg_var,suffix=suff)\n",
    "        sgConcentration = sgC_data[sg_var]\n",
    "        return sgConcentration\n",
    "    \n",
    "def plot_surface_subgrid(cycle,suff):\n",
    "\n",
    "    X = np.linspace(0,3000,60+1,dtype='i')\n",
    "    X1 = np.linspace(0,len(X),len(X),dtype='i')\n",
    "    X1 = X1[0:1]\n",
    "    \n",
    "    n_taus = 20\n",
    "    fig, axs = plt.subplots(nrows=1, ncols=3, figsize=(12, 4))#,facecolor='w', edgecolor='k',gridspec_kw={'width_ratios':[1,1,1]})\n",
    "    fig.subplots_adjust(hspace =.5, wspace=.002)\n",
    "    plt.tight_layout()\n",
    "    axs = axs.ravel()\n",
    "   \n",
    "    for i,x1 in enumerate(X1):\n",
    "        for c1, c in enumerate(Suffix):\n",
    "            sg_infile = os.path.join(path,F[0],'visdump_subgrid_%s_data.h5'%x1)\n",
    "            \n",
    "            sg_var='subgrid_%s-total_component_concentration'%x1\n",
    "            print (sg_var)\n",
    "            dat1 = subgrid_C(sg_file=sg_infile,sg_var=sg_var, suff=c)\n",
    "            \n",
    "            dat11a = 1e-3*np.reshape(dat1,(-1,n_taus))\n",
    "            #print (dat11a.shape)\n",
    "            #for k in range(dat11a.shape[0]):\n",
    "            dat11 = dat11a[cycle]\n",
    "            print (dat11)\n",
    "            axs[3*i+c1].plot(dat11,'.',label='sg_%s_%s'%(x1,c))\n",
    "            axs[3*i+c1].set_xlabel('# cells in Tau space')\n",
    "            axs[3*i + c1].legend()\n",
    "            axs[3*i + c1].set_ylim(1e-4,4e-4)\n",
    "            #plt.legend(loc='best', fontsize=9)\n",
    "    plt.savefig(outfile + \"11-scott.png\",dpi=100)\n",
    "    plt.show()"
   ]
  },
  {
   "cell_type": "code",
   "execution_count": null,
   "metadata": {},
   "outputs": [],
   "source": [
    "plot_surface_subgrid(cycle = 1, suff=Suffix[1])"
   ]
  },
  {
   "cell_type": "code",
   "execution_count": null,
   "metadata": {},
   "outputs": [],
   "source": []
  },
  {
   "cell_type": "code",
   "execution_count": null,
   "metadata": {},
   "outputs": [],
   "source": []
  },
  {
   "cell_type": "code",
   "execution_count": null,
   "metadata": {},
   "outputs": [],
   "source": [
    "subgrid initial condition = 0\n",
    "Monon equation? --> Half_saturation_constant\n",
    "if C is low MONOD reaction is first order\n",
    "if C is high MONOD reaction is zero order"
   ]
  }
 ],
 "metadata": {
  "kernelspec": {
   "display_name": "Python 3",
   "language": "python",
   "name": "python3"
  },
  "language_info": {
   "codemirror_mode": {
    "name": "ipython",
    "version": 3
   },
   "file_extension": ".py",
   "mimetype": "text/x-python",
   "name": "python",
   "nbconvert_exporter": "python",
   "pygments_lexer": "ipython3",
   "version": "3.7.6"
  }
 },
 "nbformat": 4,
 "nbformat_minor": 2
}
