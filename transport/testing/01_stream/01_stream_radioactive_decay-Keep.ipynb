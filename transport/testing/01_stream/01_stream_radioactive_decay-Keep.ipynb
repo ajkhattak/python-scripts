{
 "cells": [
  {
   "cell_type": "markdown",
   "metadata": {},
   "source": [
    "#### model domain : single stream\n",
    "### chemsitry: radioactive decay\n",
    "### bondary condition\n",
    "### initial condition"
   ]
  },
  {
   "cell_type": "code",
   "execution_count": 1,
   "metadata": {},
   "outputs": [],
   "source": [
    "#************************* MAIN SCRIPT **********************************\n",
    "import sys, os, math, h5py, csv\n",
    "import matplotlib.pyplot as plt\n",
    "from scipy import integrate\n",
    "import numpy as np\n",
    "\n",
    "#sys.path.append('/Users/ajc/Core/PreProcessing/PyScript') #this should be append ats tools,\n",
    "#import readdata\n",
    "\n",
    "sys.path.append('/Users/ajc/Core/codes/simulator/debug/ats/tools/utils')\n",
    "import read_helper as read"
   ]
  },
  {
   "cell_type": "code",
   "execution_count": 6,
   "metadata": {},
   "outputs": [],
   "source": [
    "#path of the simulation directory\n",
    "path = '/Users/ajc/FUSE/simulations/tests/ats-demos/13_reactive_transport/01_stream'\n",
    "#path = '/Users/ajc/FUSE/simulations/tests/ats-demos/13_reactive_transport/04_hyporheic'\n",
    "path1 ='/Users/ajc/FUSE/simulations/tests/ats-regression-tests/07_reactive_transport/'\n"
   ]
  },
  {
   "cell_type": "code",
   "execution_count": 7,
   "metadata": {},
   "outputs": [],
   "source": [
    "# Read PFOTRAN standalone data\n",
    "pflotran_file = os.path.join(path, 'data/pflotran_out/decay_ingrowth.tec')\n",
    "pflotran_data = dict()\n",
    "pflotran_data['time'] = np.loadtxt(pflotran_file,usecols=0,skiprows=6) #time in hours\n",
    "pflotran_data['Tracer 1'] = np.loadtxt(pflotran_file,usecols=1,skiprows=6)  # Tracer 1\n",
    "pflotran_data['Tracer 2'] = np.loadtxt(pflotran_file,usecols=2,skiprows=6)  # Tracer 1"
   ]
  },
  {
   "cell_type": "code",
   "execution_count": null,
   "metadata": {},
   "outputs": [],
   "source": []
  },
  {
   "cell_type": "code",
   "execution_count": 12,
   "metadata": {},
   "outputs": [],
   "source": [
    "F= ['prun2']\n",
    "F =['test']\n",
    "Files = [os.path.join(path1,f,'visdump_surface_data.h5') for f in F]\n",
    "vars = ['surface-total_component_concentration', 'surface-total_component_concentration']\n",
    "Suffix = ['.cell.Tracer1 conc', '.cell.Tracer2 conc']\n"
   ]
  },
  {
   "cell_type": "code",
   "execution_count": 13,
   "metadata": {},
   "outputs": [],
   "source": [
    "Colors = ['r','k','b','b','c','m']\n",
    "Colors_sg = ['r','k','g','m']\n",
    "F_L = ['Tracer 1', 'Tracer 2']"
   ]
  },
  {
   "cell_type": "code",
   "execution_count": 16,
   "metadata": {},
   "outputs": [],
   "source": [
    "#%matplotlib tk\n",
    "def plot_surface_outlet(cell_id=-1):\n",
    "    fig, axs = plt.subplots(1,1, figsize=(6,4), facecolor='w', edgecolor='k',gridspec_kw={'width_ratios':[1]})\n",
    "    fig.subplots_adjust(hspace =.02, wspace=1.02)\n",
    "    plt.tight_layout()\n",
    "    #axs = axs.ravel()\n",
    "    \n",
    "    sum1 = 0\n",
    "    for i, v in enumerate(vars):\n",
    "        plt.subplot(111)\n",
    "        for j,f in enumerate(Files):\n",
    "            data = np.array(read.GetSurfVarFromVis(f,v,cellid=cell_id,suffix=Suffix[i])[v])\n",
    "            Time = np.array([240*i/3600. for i in range(len(data))])\n",
    "            plt.plot(Time, 1.e-3*data,color=Colors[i],label=F_L[i]) # convert ATS moles/second to Pflotran moles/litre\n",
    "            sum1 = sum1 + 1e-3*data[-1]\n",
    "        plt.ylabel(vars[i])\n",
    "\n",
    "        plt.xlabel('Time [h]')\n",
    "\n",
    "    plt.plot(pflotran_data['time'], pflotran_data['Tracer 1'],'r',linestyle='--',label='PFLOTRAN Tracer 1')\n",
    "    plt.plot(pflotran_data['time'], pflotran_data['Tracer 2'],'k',linestyle='--',label='PFLOTRAN Tracer 2')\n",
    "    plt.legend(loc='lower right',fontsize=10)\n",
    "    #plt.xlim(0,8)\n",
    "    plt.show()"
   ]
  },
  {
   "cell_type": "code",
   "execution_count": 17,
   "metadata": {},
   "outputs": [
    {
     "name": "stderr",
     "output_type": "stream",
     "text": [
      "/Users/ajc/opt/anaconda3/lib/python3.7/site-packages/ipykernel_launcher.py:10: MatplotlibDeprecationWarning: Adding an axes using the same arguments as a previous axes currently reuses the earlier instance.  In a future version, a new instance will always be created and returned.  Meanwhile, this warning can be suppressed, and the future behavior ensured, by passing a unique label to each axes instance.\n",
      "  # Remove the CWD from sys.path while we load stuff.\n"
     ]
    },
    {
     "data": {
      "image/png": "[encoded data removed]",
      "text/plain": [
       "<Figure size 432x288 with 1 Axes>"
      ]
     },
     "metadata": {},
     "output_type": "display_data"
    }
   ],
   "source": [
    "plot_surface_outlet(cell_id=49)"
   ]
  },
  {
   "cell_type": "code",
   "execution_count": null,
   "metadata": {},
   "outputs": [],
   "source": []
  },
  {
   "cell_type": "code",
   "execution_count": null,
   "metadata": {},
   "outputs": [],
   "source": []
  },
  {
   "cell_type": "code",
   "execution_count": null,
   "metadata": {},
   "outputs": [],
   "source": [
    "def subgrid_C(sg_file,sg_var, suff):\n",
    "        sgC_data = readdata.GetSurfVarFromVis_All(sg_file,sg_var,suffix=suff)\n",
    "        sgConcentration = sgC_data[sg_var]\n",
    "        return sgConcentration\n",
    "    \n",
    "def plot_surface_subgrid(ncells=-1):\n",
    "    fig, axs = plt.subplots(1,3, figsize=(14,4), facecolor='w', edgecolor='k',gridspec_kw={'width_ratios':[1,1,1]})\n",
    "    fig.subplots_adjust(hspace =.02, wspace=1.02)\n",
    "    plt.tight_layout()\n",
    "    \n",
    "    sum1 = 0\n",
    "    \n",
    "    for i, v in enumerate(vars):\n",
    "        plt.subplot(131)\n",
    "\n",
    "        dat1 = np.array(readdata.GetSurfVarFromVis(Files[0],v,cellid=ncells,suffix=Suffix[0])[v])\n",
    "        dat2 = np.array(readdata.GetSurfVarFromVis(Files[0],v,cellid=ncells,suffix=Suffix[1])[v])\n",
    "        data = dat1 + dat2\n",
    "        Time = np.array([900*i/3600. for i in range(len(data))])\n",
    "        if i ==0:\n",
    "            plt.plot(Time, 1.e-3*data,color=Colors[2],label='total concent. %s'%(np.round(1e-3*data[-1],5)))\n",
    "        plt.plot(Time, 1.e-3*dat1,color=Colors[0],label='%s: %s'%(F_L[0],np.round(1e-3*dat1[-1],5)))\n",
    "        plt.plot(Time, 1.e-3*dat2,color=Colors[1],label='%s: %s'%(F_L[1],np.round(1e-3*dat2[-1],5)))\n",
    "        sum1 = sum1 + 1e-3*data[-1]\n",
    "        print ('surface:', sum1, 1e-3*data[-1])\n",
    "        plt.ylabel(vars[i])\n",
    "\n",
    "        plt.xlabel('Time [h]')\n",
    "        plt.title('stream outlet, x = %s'%ncells)\n",
    "        plt.legend()\n",
    "        break\n",
    "    plt.subplot(132)\n",
    "    xnum = 100\n",
    "    R = [0, ncells]\n",
    "\n",
    "    n_taus = 20\n",
    "    for i,x1 in enumerate(R):\n",
    "\n",
    "        sg_infile = os.path.join(path,F[0],'visdump_subgrid_%s_data.h5'%x1)\n",
    "        sg_var='subgrid_%s-total_component_concentration'%x1\n",
    "\n",
    "        dat1 = subgrid_C(sg_file=sg_infile,sg_var=sg_var, suff=Suffix[0])\n",
    "        dat2 = subgrid_C(sg_file=sg_infile,sg_var=sg_var, suff=Suffix[1])\n",
    "\n",
    "        if (i ==1):\n",
    "            dat11a = 1e-3*np.reshape(dat1,(-1,n_taus))\n",
    "            dat11b = [d[0] for d in dat11a] #first cell in Tau space\n",
    "            dat11c = [d[-1] for d in dat11a] # last cell in Tau space\n",
    "            \n",
    "            plt.plot(Time, dat11b,'-',color=Colors_sg[i-1],label='sg_%s[0]_Tc1 =%s)'%(R[i],np.round(dat11b[-1],4)))\n",
    "            plt.plot(Time, dat11c,'-',color=Colors_sg[i],label='sg_%s[19]_Tc1 = %s)'%(R[i],np.round(dat11c[0],4)))\n",
    "\n",
    "\n",
    "            dat21a = 1e-3*np.reshape(dat2,(-1,n_taus))\n",
    "            dat21b = [d[0] for d in dat21a]\n",
    "            dat21c = [d[-1] for d in dat21a]\n",
    "            \n",
    "            plt.plot(Time, dat21b,'-',color=Colors_sg[i+1],label='sg_%s[0]_Tc2 = %s)'%(R[i],np.round(dat21b[-1],4)))\n",
    "            plt.plot(Time, dat21c,'-',color=Colors_sg[i+2],label='sg_%s[19]_Tc2 = %s)'%(R[i],np.round(dat21c[0],4)))\n",
    "\n",
    "    plt.title('subgrid. Tracer 1 and 2 at sg_cell 0')\n",
    "    plt.legend(loc='best', fontsize=9)\n",
    "    plt.subplot(133)\n",
    "    \n",
    "    for i,x1 in enumerate(R):\n",
    "\n",
    "        sg_infile = os.path.join(path,F[0],'visdump_subgrid_%s_data.h5'%x1)\n",
    "        sg_var='subgrid_%s-total_component_concentration'%x1\n",
    "        dat1 = subgrid_C(sg_file=sg_infile,sg_var=sg_var, suff=Suffix[0])#[-1][::-1]\n",
    "        dat2 = subgrid_C(sg_file=sg_infile,sg_var=sg_var, suff=Suffix[1])#[-1][::-1]\n",
    "\n",
    "        if (i ==1 or i ==0):\n",
    "            dat11a = 1e-3*np.reshape(dat1,(-1,n_taus))\n",
    "            dat11 = dat11a[-1]\n",
    "            \n",
    "            dat21a = 1e-3*np.reshape(dat2,(-1,n_taus))\n",
    "            dat21 = dat21a[-1]\n",
    "            \n",
    "            plt.plot(dat11,'*',color=Colors_sg[i],label='sg_%s  (Tc1. %s)'%(x1,np.round(np.max(dat11),4)))\n",
    "            plt.plot(dat21,'.',color=Colors_sg[i],label='sg_%s  (Tc2. %s)'%(x1,np.round(np.max(dat21),4)))\n",
    "            plt.xlabel('# cells in Tau space')\n",
    "        \n",
    "    plt.title('subgrid')\n",
    "\n",
    "\n",
    "    plt.legend(loc='best', fontsize=9)\n",
    "    plt.show()\n"
   ]
  },
  {
   "cell_type": "code",
   "execution_count": null,
   "metadata": {},
   "outputs": [],
   "source": [
    "plot_surface_subgrid(ncells=9)"
   ]
  },
  {
   "cell_type": "code",
   "execution_count": null,
   "metadata": {},
   "outputs": [],
   "source": []
  },
  {
   "cell_type": "code",
   "execution_count": null,
   "metadata": {},
   "outputs": [],
   "source": []
  },
  {
   "cell_type": "code",
   "execution_count": null,
   "metadata": {},
   "outputs": [],
   "source": []
  },
  {
   "cell_type": "code",
   "execution_count": null,
   "metadata": {},
   "outputs": [],
   "source": []
  },
  {
   "cell_type": "code",
   "execution_count": null,
   "metadata": {},
   "outputs": [],
   "source": []
  },
  {
   "cell_type": "code",
   "execution_count": null,
   "metadata": {},
   "outputs": [],
   "source": []
  },
  {
   "cell_type": "code",
   "execution_count": null,
   "metadata": {},
   "outputs": [],
   "source": []
  },
  {
   "cell_type": "code",
   "execution_count": null,
   "metadata": {},
   "outputs": [],
   "source": []
  },
  {
   "cell_type": "code",
   "execution_count": null,
   "metadata": {},
   "outputs": [],
   "source": []
  },
  {
   "cell_type": "code",
   "execution_count": null,
   "metadata": {},
   "outputs": [],
   "source": []
  },
  {
   "cell_type": "code",
   "execution_count": null,
   "metadata": {},
   "outputs": [],
   "source": [
    "What is your criterea for mcmc convergence\n",
    "\n",
    "Different initial values for parameters\n",
    "\n",
    "Predictive uncertainty.\n",
    "\n",
    "Did you pick all data from location 3 – are you matching \n",
    "\n",
    "Instead of using just one observed tracer, did you try \n",
    "\n",
    "Adam ward 2016\n"
   ]
  },
  {
   "cell_type": "code",
   "execution_count": null,
   "metadata": {},
   "outputs": [],
   "source": [
    "there is no reason to believe it will not work\n",
    "I will echo your comment\n",
    "We are working with one data set, but are not marry to it\n",
    "\n",
    "we could not do it without your help\n",
    "\n",
    "there will be bumps along the road\n",
    "\n",
    "research has shown groundwater is an important link to the lower atmosphere.  \n",
    "Both projects seem like a great opportunity to study this— are there plans for this?\n",
    "\n",
    "his video is off to converse bandwidth\n",
    "reduce fregmentation"
   ]
  }
 ],
 "metadata": {
  "kernelspec": {
   "display_name": "Python 3",
   "language": "python",
   "name": "python3"
  },
  "language_info": {
   "codemirror_mode": {
    "name": "ipython",
    "version": 3
   },
   "file_extension": ".py",
   "mimetype": "text/x-python",
   "name": "python",
   "nbconvert_exporter": "python",
   "pygments_lexer": "ipython3",
   "version": "3.7.6"
  }
 },
 "nbformat": 4,
 "nbformat_minor": 2
}
