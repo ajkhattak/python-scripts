{
 "cells": [
  {
   "cell_type": "markdown",
   "metadata": {},
   "source": [
    "# River Tree\n",
    "\n",
    "An example workflow for gathering NHD Plus data and generating a tree."
   ]
  },
  {
   "cell_type": "code",
   "execution_count": 1,
   "metadata": {},
   "outputs": [],
   "source": [
    "import os,sys\n",
    "sys.path.append('/Users/ajc/Desktop/SimDataInputs/WorkSpace/ats-88/ats_meshing/workflow/')\n",
    "import numpy as np\n",
    "from matplotlib import pyplot as plt\n",
    "import shapely\n",
    "import logging\n",
    "sys.path.append('/Users/ajc/anaconda3/envs/ats_meshing/')\n",
    "import workflow\n",
    "import workflow.source_list\n",
    "import workflow.conf\n",
    "import workflow.ui\n",
    "import workflow.utils\n",
    "import workflow.plot\n",
    "\n",
    "workflow.conf.rcParams['data dir'] = os.path.join(os.getcwd(),'..','data')\n",
    "\n",
    "workflow.ui.setup_logging(1,None)"
   ]
  },
  {
   "cell_type": "code",
   "execution_count": 2,
   "metadata": {},
   "outputs": [],
   "source": [
    "# open a shapefile for use here\n",
    "#use fiona to read shape file\n",
    "manager_shp = workflow.source_list.FileManagerShape('../data/hydrologic_units/others/coweeta_basin/coweeta_basin.shp')\n",
    "shp_profile,shp = manager_shp.get_shape()\n",
    "shply = workflow.utils.shply(shp)"
   ]
  },
  {
   "cell_type": "code",
   "execution_count": 3,
   "metadata": {},
   "outputs": [
    {
     "name": "stderr",
     "output_type": "stream",
     "text": [
      "2019-08-29 11:36:56,501 - root - INFO: \n",
      "2019-08-29 11:36:56,502 - root - INFO: Preprocessing Hydrography\n",
      "2019-08-29 11:36:56,503 - root - INFO: ------------------------------\n",
      "2019-08-29 11:36:56,504 - root - INFO: loading streams in bounds (273971.0911428096, 3878839.6361173145, 279140.9150949494, 3883953.7853134344)\n",
      "2019-08-29 11:36:56,505 - root - INFO: Using Hydrography file \"/Users/ajc/Desktop/SimDataInputs/WorkSpace/ats-88/ats_meshing/examples/../data/hydrography/NHDPlus_H_0601_GDB/NHDPlus_H_0601.gdb\"\n",
      "2019-08-29 11:37:02,962 - root - INFO:   ...filtering\n"
     ]
    }
   ],
   "source": [
    "# find the rivers in this shape\n",
    "#call to hilev.py\n",
    "reaches, _ = workflow.get_rivers_by_bounds(workflow.source_list.hydrography_sources['NHD Plus'],\n",
    "                                               shply.bounds, shp_profile['crs'], '0601', merge=False)\n",
    "\n",
    "# filter the list to only those that intersect the shape\n",
    "reaches = workflow.hydrography.filter_rivers_to_shape(shply, reaches, 10)\n",
    "\n",
    "# make the global tree\n",
    "rivers = workflow.hydrography.make_global_tree(reaches)\n",
    "\n",
    "# check that only one tree was formed (this means al)\n",
    "assert(len(rivers) is 1)\n",
    "river = rivers[0]\n"
   ]
  },
  {
   "cell_type": "code",
   "execution_count": 4,
   "metadata": {
    "scrolled": true
   },
   "outputs": [
    {
     "name": "stdout",
     "output_type": "stream",
     "text": [
      "Using matplotlib backend: MacOSX\n"
     ]
    }
   ],
   "source": [
    "%matplotlib\n",
    "HSV_tuples=['#e6194b', '#3cb44b', '#ffe119', '#4363d8', '#f58231', '#911eb4', '#46f0f0', '#f032e6', '#bcf60c', \n",
    "            '#fabebe', '#008080', '#e6beff', '#9a6324', '#a9a9a9', '#800000', '#aaffc3', '#808000', '#ffd8b1', \n",
    "            '#000075', '#808080', '#000000', '#009090', '#090770']\n",
    "workflow.plot.rivers([river,], shp_profile['crs'],color=HSV_tuples)\n",
    "#print (river)\n",
    "#for r in river:\n",
    "#    print (r,len(river))\n",
    "#    break"
   ]
  },
  {
   "cell_type": "code",
   "execution_count": 5,
   "metadata": {},
   "outputs": [],
   "source": [
    "import colorsys\n",
    "N = 22\n",
    "HSV_tuples = [(x*1.0/N, x*.1/N, 1.0) for x in range(N)]\n",
    "RGB_tuples = map(lambda x: colorsys.hsv_to_rgb(*x), HSV_tuples)"
   ]
  },
  {
   "cell_type": "code",
   "execution_count": null,
   "metadata": {},
   "outputs": [],
   "source": []
  },
  {
   "cell_type": "code",
   "execution_count": 6,
   "metadata": {},
   "outputs": [
    {
     "name": "stdout",
     "output_type": "stream",
     "text": [
      "[25000400040729.0, 25000400108020.0, 25000400040724.0, 25000400007107.0, 25000400007106.0, 25000400175089.0, 25000400074075.0, 25000400107798.0, 25000400108019.0, 25000400175304.0, 25000400040725.0, 25000400007320.0, 25000400074306.0, 25000400007109.0, 25000400074076.0, 25000400007108.0, 25000400040325.0, 25000400141373.0, 25000400175091.0, 25000400175090.0, 25000400208871.0, 25000400242778.0]\n"
     ]
    }
   ],
   "source": [
    "i = 0 \n",
    "river_NHDPlusID = []\n",
    "for r in river:\n",
    "    #print (r.properties)\n",
    "    river_NHDPlusID.append(r.properties['NHDPlusID'])\n",
    "    #print(r.properties['LengthKM'], r.properties['Shape_Length'])\n",
    "    #print (river['OderedDict']['Shape_Length'])\n",
    "    #break\n",
    "    \n",
    "#Shape_Length: Feature length in decimal degrees \n",
    "#LengthKM: length in km\n",
    "print (river_NHDPlusID)"
   ]
  },
  {
   "cell_type": "code",
   "execution_count": null,
   "metadata": {},
   "outputs": [],
   "source": []
  },
  {
   "cell_type": "code",
   "execution_count": 7,
   "metadata": {},
   "outputs": [
    {
     "data": {
      "text/plain": [
       "['ExternalCrosswalk',\n",
       " 'FeatureToMetadata',\n",
       " 'HUMod',\n",
       " 'NHDFCode',\n",
       " 'NHDFeatureToMetadata',\n",
       " 'NHDMetadata',\n",
       " 'NHDPlusDivFracMP',\n",
       " 'NHDPlusEROMMA',\n",
       " 'NHDPlusEROMQAMA',\n",
       " 'NHDPlusEROMQARPT',\n",
       " 'NHDPlusFlow',\n",
       " 'NHDPlusFlowlineVAA',\n",
       " 'NHDPlusIncrLat',\n",
       " 'NHDPlusIncrPrecipMA',\n",
       " 'NHDPlusIncrPrecipMM01',\n",
       " 'NHDPlusIncrPrecipMM02',\n",
       " 'NHDPlusIncrPrecipMM03',\n",
       " 'NHDPlusIncrPrecipMM04',\n",
       " 'NHDPlusIncrPrecipMM05',\n",
       " 'NHDPlusIncrPrecipMM06',\n",
       " 'NHDPlusIncrPrecipMM07',\n",
       " 'NHDPlusIncrPrecipMM08',\n",
       " 'NHDPlusIncrPrecipMM09',\n",
       " 'NHDPlusIncrPrecipMM10',\n",
       " 'NHDPlusIncrPrecipMM11',\n",
       " 'NHDPlusIncrPrecipMM12',\n",
       " 'NHDPlusIncrROMA',\n",
       " 'NHDPlusIncrTempMA',\n",
       " 'NHDPlusIncrTempMM01',\n",
       " 'NHDPlusIncrTempMM02',\n",
       " 'NHDPlusIncrTempMM03',\n",
       " 'NHDPlusIncrTempMM04',\n",
       " 'NHDPlusIncrTempMM05',\n",
       " 'NHDPlusIncrTempMM06',\n",
       " 'NHDPlusIncrTempMM07',\n",
       " 'NHDPlusIncrTempMM08',\n",
       " 'NHDPlusIncrTempMM09',\n",
       " 'NHDPlusIncrTempMM10',\n",
       " 'NHDPlusIncrTempMM11',\n",
       " 'NHDPlusIncrTempMM12',\n",
       " 'NHDPlusMegaDiv',\n",
       " 'NHDPlusNHDPlusIDGridCode',\n",
       " 'NHDProcessingParameters',\n",
       " 'NHDReachCodeMaintenance',\n",
       " 'NHDReachCrossReference',\n",
       " 'NHDSourceCitation',\n",
       " 'NHDVerticalRelationship',\n",
       " 'ProcessingParameters',\n",
       " 'NHDPlusBurnLineEvent',\n",
       " 'NHDPlusBurnWaterbody',\n",
       " 'NHDPlusCatchment',\n",
       " 'NHDPlusLandSea',\n",
       " 'NHDPlusSink',\n",
       " 'NHDPlusWall',\n",
       " 'NHDArea',\n",
       " 'NHDFlowline',\n",
       " 'NHDLine',\n",
       " 'NHDPoint',\n",
       " 'NHDWaterbody',\n",
       " 'MetaProcessDetail',\n",
       " 'MetaSourceDetail',\n",
       " 'NonContributingDrainageArea',\n",
       " 'NonContributingDrainageLine',\n",
       " 'NWISDrainageArea',\n",
       " 'NWISDrainageLine',\n",
       " 'WBDHU10',\n",
       " 'WBDHU12',\n",
       " 'WBDHU14',\n",
       " 'WBDHU16',\n",
       " 'WBDHU2',\n",
       " 'WBDHU4',\n",
       " 'WBDHU6',\n",
       " 'WBDHU8',\n",
       " 'WBDLine',\n",
       " 'HYDRO_NET_Junctions']"
      ]
     },
     "execution_count": 7,
     "metadata": {},
     "output_type": "execute_result"
    }
   ],
   "source": [
    "import fiona\n",
    "fiona.listlayers('../data/hydrography/NHDPlus_H_0601_GDB/NHDPlus_H_0601.gdb')"
   ]
  },
  {
   "cell_type": "code",
   "execution_count": 8,
   "metadata": {},
   "outputs": [],
   "source": [
    "FlowlineVAA = fiona.open('../data/hydrography/NHDPlus_H_0601_GDB/NHDPlus_H_0601.gdb', 'r', layer='NHDPlusFlowlineVAA')\n",
    "Flowline = fiona.open('../data/hydrography/NHDPlus_H_0601_GDB/NHDPlus_H_0601.gdb', 'r', layer='NHDFlowline')\n",
    "Flow = fiona.open('../data/hydrography/NHDPlus_H_0601_GDB/NHDPlus_H_0601.gdb', 'r', layer='NHDPlusFlow')\n",
    "Line = fiona.open('../data/hydrography/NHDPlus_H_0601_GDB/NHDPlus_H_0601.gdb', 'r', layer='NHDLine')\n",
    "NHDArea = fiona.open('../data/hydrography/NHDPlus_H_0601_GDB/NHDPlus_H_0601.gdb', 'r', layer='NHDArea')\n",
    "\n",
    "#FlowlineVAA[2] \n",
    "#Line[1]\n",
    "#NHDArea[1]['properties']['AreaSqKm']\n",
    "#print ('---------------')\n",
    "#Waterbody[1]\n",
    "#XX[1]\n",
    "#FlowlineVAA[10]\n",
    "#Flow[1]\n",
    "\n",
    "#print (len(Flowline), len(FlowlineVAA), len(NHDArea),len(Waterbody), len(Flow))"
   ]
  },
  {
   "cell_type": "code",
   "execution_count": null,
   "metadata": {},
   "outputs": [],
   "source": []
  },
  {
   "cell_type": "code",
   "execution_count": 9,
   "metadata": {},
   "outputs": [],
   "source": [
    "NHDPLusEROMMA = fiona.open('../data/hydrography/NHDPlus_H_0601_GDB/NHDPlus_H_0601.gdb', 'r', layer='NHDPlusEROMMA')\n",
    "#NHDPLusEROMMA[1]"
   ]
  },
  {
   "cell_type": "code",
   "execution_count": 10,
   "metadata": {},
   "outputs": [],
   "source": [
    "import math\n",
    "\n",
    "f_vector = lambda p,q: [q[0] - p[0], q[1] - p[1],  q[2] - p[2]]\n",
    "#f_distance = lambda p,q: np.sqrt ((p[0] - q[0])**2 + (p[1] - q[1])**2 (p[2] - q[2])**2)\n",
    "f_normal = lambda v,d: [v[0]/d, v[1]/d, v[2]/d]\n",
    "\n",
    "def get_normal(coords):\n",
    "    pos_v = f_vector(coords[0], coords[1])\n",
    "    distance = math.sqrt(pos_v[0]**2 + pos_v[1]**2 + pos_v[2]**2)\n",
    "    normal = f_normal(pos_v, distance)\n",
    "    normal = [round(n,6) for n in normal]\n",
    "    #print (normal)\n",
    "    return normal\n",
    "\n"
   ]
  },
  {
   "cell_type": "code",
   "execution_count": null,
   "metadata": {},
   "outputs": [],
   "source": []
  },
  {
   "cell_type": "code",
   "execution_count": null,
   "metadata": {},
   "outputs": [],
   "source": []
  },
  {
   "cell_type": "code",
   "execution_count": 11,
   "metadata": {},
   "outputs": [],
   "source": [
    "km_to_m = 1000.\n",
    "def River_stream_length():\n",
    "    #d = np.zeros((len(river),2))\n",
    "    d2 = []\n",
    "    for r in river:\n",
    "        d1 = [('NHDPlusID',r.properties['NHDPlusID']), \n",
    "              ('LengthKM',r.properties['LengthKM']*km_to_m)]\n",
    "        d2.append(d1)\n",
    "    \n",
    "    d3 = dict()\n",
    "    d3['stream_lengthKM'] = d2\n",
    "    return d3"
   ]
  },
  {
   "cell_type": "code",
   "execution_count": 12,
   "metadata": {},
   "outputs": [],
   "source": [
    "DataLength = River_stream_length()\n",
    "#print (len(DataLength))"
   ]
  },
  {
   "cell_type": "code",
   "execution_count": 20,
   "metadata": {},
   "outputs": [],
   "source": [
    "#QAMA : Flow from runoff, MA: Mean Annual\n",
    "#VANA : Velocity for QAMA\n",
    "#TotDASqKm: TotalDrainageAreaSqKm [may not be what we want??]\n",
    "\n",
    "def rating_curve(q_cfs,v_fs):\n",
    "    b, f, m = 0.26, 0.40, 0.34\n",
    "    w = x1 * q_cfs**b\n",
    "    d = x2 * q_cfs**f\n",
    "    v = x3 * q_cfs**m"
   ]
  },
  {
   "cell_type": "code",
   "execution_count": 63,
   "metadata": {},
   "outputs": [],
   "source": [
    "DataFlow = dict()\n",
    "discharge = []\n",
    "velocity = []\n",
    "\n",
    "Normal = []\n",
    "segment_depth = []\n",
    "segment_length = []\n",
    "segment_width = []\n",
    "\n",
    "km_to_m = 1000.\n",
    "cfs_to_ms = 0.028316847 # QAMA is in cfs, convert cfs to m/s\n",
    "fs_to_ms = 0.3048\n",
    "\n",
    "# get discharge, velocity, depth, and orientation\n",
    "\n",
    "def River_Characteristics():\n",
    "    d4 = []\n",
    "    for r in river:\n",
    "        for i in range(len(NHDPLusEROMMA)):\n",
    "            if NHDPLusEROMMA[i+1]['properties']['NHDPlusID'] == r.properties['NHDPlusID']:\n",
    "                \n",
    "                id = r.properties['NHDPlusID']\n",
    "                \n",
    "                value_q = NHDPLusEROMMA[i+1]['properties']['QAMA']*cfs_to_ms\n",
    "                discharge.append([('NHDPlusID',id), ('Discharge [m^3/s]',value_q)])\n",
    "                \n",
    "                value_v = NHDPLusEROMMA[i+1]['properties']['VAMA']*fs_to_ms\n",
    "                velocity.append([('NHDPlusID',id), ('Velocity [m/s]',value_v)])\n",
    "                \n",
    "                length = r.properties['LengthKM']*km_to_m\n",
    "                \n",
    "                #c = rating_curve(value_q,value_v)\n",
    "                #break\n",
    "                area = value_q/value_v#FlowlineVAA[i+1]['properties']['TotDASqKm']\n",
    "                                \n",
    "                \n",
    "                width = 1.0 #area/length*km_to_m\n",
    "                height = area * fs_to_ms #value_q/(value_v * width) \n",
    "                \n",
    "                segment_length.append([('NHDPlusID',id), ('segment length [m]', length)])\n",
    "                segment_depth.append([('NHDPlusID',id), ('segment depth [m]', height)])\n",
    "                segment_width.append([('NHDPlusID',id), ('segment width [m]', width)])\n",
    "                \n",
    "                # orientation\n",
    "                #if Flowline[i+1]['properties']['NHDPlusID'] == r.properties['NHDPlusID']:\n",
    "                p = Flowline[i+1]['geometry']['coordinates'][0][0]\n",
    "                q = Flowline[i+1]['geometry']['coordinates'][0][-1] #note coord are in reverse order in NHD \n",
    "                print (r.properties['NHDPlusID'],p,q)\n",
    "                n = get_normal([p,q])\n",
    "                Normal.append([n[0],n[1],n[2]])\n",
    "                \n",
    "                d4.append([('NHDPlusID',id), ('Discharge [m^3/s]',value_q),\n",
    "                           ('Velocity [m/s]',value_v), ('segment length [m]', length),\n",
    "                          ('segment depth [m]', height),('segment width [m]', width), \n",
    "                           ('orientation', [n[0],n[1],n[2]] )])\n",
    "        d3 = dict()\n",
    "        d3['stream_discharge'] = discharge\n",
    "        d3['stream_velocity'] = velocity\n",
    "        d3['stream_depth'] = segment_depth\n",
    "        d3['stream_width'] = segment_width\n",
    "        d3['stream_length'] = segment_length\n",
    "        #d3['stream_area'] = segment_area\n",
    "        d3['orientation'] = Normal \n",
    "    \n",
    "    return d4\n"
   ]
  },
  {
   "cell_type": "code",
   "execution_count": 64,
   "metadata": {
    "scrolled": false
   },
   "outputs": [
    {
     "name": "stdout",
     "output_type": "stream",
     "text": [
      "25000400040729.0 (-82.71182299559666, 35.67919499982713, 0.0) (-82.71173239455516, 35.67942909357674, 0.0)\n",
      "25000400108020.0 (-83.70029158052068, 35.77817707779849, 0.0) (-83.69383398053071, 35.77354761113901, 0.0)\n",
      "25000400040724.0 (-84.58805971247602, 36.20889867712992, 0.0) (-84.58759151247676, 36.207410277132226, 0.0)\n",
      "25000400007107.0 (-83.3519605143947, 36.69010687638297, 0.0) (-83.35265578106032, 36.68963440971703, 0.0)\n",
      "25000400007106.0 (-83.35726791438651, 36.65943480976392, 0.0) (-83.35946418104976, 36.65037667644464, 0.0)\n",
      "25000400175089.0 (-82.80022124233449, 35.25069418174223, 0.0) (-82.79942460171071, 35.25056111611747, 0.0)\n",
      "25000400074075.0 (-82.70622912477205, 35.89326530366151, 0.0) (-82.70714398831228, 35.89374045261911, 0.0)\n",
      "25000400107798.0 (-82.30322338268923, 35.843553211030326, 0.0) (-82.30363531602194, 35.84449981102887, 0.0)\n",
      "25000400108019.0 (-81.7963859168093, 36.640792476459524, 0.0) (-81.79807711680667, 36.64181087645795, 0.0)\n",
      "25000400175304.0 (-82.59874508014718, 35.19675942661763, 0.0) (-82.59905344160507, 35.196859166200795, 0.0)\n",
      "25000400040725.0 (-84.58842171247551, 36.19533107715097, 0.0) (-84.58739077914373, 36.19263421048851, 0.0)\n",
      "25000400007320.0 (-82.47432828867363, 35.6920316612655, 0.0) (-82.47556595950505, 35.69124794355844, 0.0)\n",
      "25000400074306.0 (-82.6154887780379, 35.38582432944918, 0.0) (-82.61436101866462, 35.385823836740826, 0.0)\n",
      "25000400007109.0 (-82.65287261860487, 35.28750078793513, 0.0) (-82.65255020193865, 35.28494705148074, 0.0)\n",
      "25000400074076.0 (-83.00771658159573, 35.998246610790204, 0.0) (-83.00837271492804, 35.99627061079326, 0.0)\n",
      "25000400007108.0 (-85.00949211182188, 35.86121787766956, 0.0) (-85.01436391181431, 35.85312161101547, 0.0)\n",
      "25000400040325.0 (-82.71904861537712, 35.22276744116061, 0.0) (-82.71632810392299, 35.225867392197415, 0.0)\n",
      "25000400141373.0 (-83.57156538072053, 36.62229647648826, 0.0) (-83.57353358071748, 36.618797809827015, 0.0)\n",
      "25000400175091.0 (-83.22749201354628, 35.710855565402994, 0.0) (-83.22217318542954, 35.71145354456871, 0.0)\n",
      "25000400175090.0 (-81.7816791168321, 36.793194809556326, 0.0) (-81.76634438352261, 36.79190660955828, 0.0)\n",
      "25000400208871.0 (-82.34287874616933, 35.4439109533173, 0.0) (-82.34285850033604, 35.4438709616507, 0.0)\n",
      "25000400242778.0 (-82.58394263746186, 35.35862808469972, 0.0) (-82.58140025725743, 35.35903878053239, 0.0)\n"
     ]
    }
   ],
   "source": [
    "Data_NHD_ATS = River_Characteristics()"
   ]
  },
  {
   "cell_type": "code",
   "execution_count": null,
   "metadata": {},
   "outputs": [],
   "source": []
  },
  {
   "cell_type": "code",
   "execution_count": 65,
   "metadata": {},
   "outputs": [
    {
     "data": {
      "text/plain": [
       "[('NHDPlusID', 25000400040729.0),\n",
       " ('Discharge [m^3/s]', 0.9080831404970909),\n",
       " ('Velocity [m/s]', 0.339061961448),\n",
       " ('segment length [m]', 2825.0),\n",
       " ('segment depth [m]', 0.8163220080526847),\n",
       " ('segment width [m]', 1.0),\n",
       " ('orientation', [0.360939, 0.932589, 0.0])]"
      ]
     },
     "execution_count": 65,
     "metadata": {},
     "output_type": "execute_result"
    }
   ],
   "source": [
    "Data_NHD_ATS[0]"
   ]
  },
  {
   "cell_type": "code",
   "execution_count": 66,
   "metadata": {},
   "outputs": [
    {
     "data": {
      "text/plain": [
       "2.678221811196472"
      ]
     },
     "execution_count": 66,
     "metadata": {},
     "output_type": "execute_result"
    }
   ],
   "source": [
    "0.9080831404970909/0.339061961448"
   ]
  },
  {
   "cell_type": "code",
   "execution_count": 27,
   "metadata": {},
   "outputs": [],
   "source": [
    "\n",
    "def Streams_connectivity():\n",
    "    Node = []\n",
    "    for r in river:\n",
    "        for i in range(len(FlowlineVAA)):\n",
    "            if FlowlineVAA[i+1]['properties']['NHDPlusID'] == r.properties['NHDPlusID']:\n",
    "                id = r.properties['NHDPlusID']\n",
    "                from_node = FlowlineVAA[i+1]['properties']['FromNode']\n",
    "                to_node = FlowlineVAA[i+1]['properties']['ToNode']\n",
    "                \n",
    "                Node.append([('NHDPlusID',id), ('FromNode',from_node),('ToNode',to_node)])\n",
    "    Nodes = dict()\n",
    "    Nodes['connectivity'] = Node\n",
    "    return Nodes\n",
    "\n"
   ]
  },
  {
   "cell_type": "code",
   "execution_count": 28,
   "metadata": {},
   "outputs": [],
   "source": [
    "Connectivity = dict()\n",
    "Connectivity_Orig = Streams_connectivity()"
   ]
  },
  {
   "cell_type": "code",
   "execution_count": 29,
   "metadata": {},
   "outputs": [],
   "source": [
    "import copy\n",
    "Connectivity =copy.deepcopy(Connectivity_Orig)\n",
    "import networkx as nx"
   ]
  },
  {
   "cell_type": "code",
   "execution_count": 30,
   "metadata": {},
   "outputs": [
    {
     "name": "stdout",
     "output_type": "stream",
     "text": [
      "[1, 2, 3, 4, 5, 9, 7, 8, 10, 11]\n"
     ]
    }
   ],
   "source": [
    "pairs = [(1, 2),(2, 3),(3, 4), (3, 5),(5, 9),(5, 7), (2, 8), (8,10), (8,11)]\n",
    "\n",
    "graph_syn = nx.from_edgelist(pairs)\n",
    "print (graph_syn.nodes)\n",
    "#print (list(graph.neighbors(2)))\n",
    "#print (len(graph))\n",
    "#print(graph.number_of_edges())\n",
    "#print(nx.node_boundary(graph, [2]))\n",
    "#print(list(nx.edge_boundary(graph, [2])))\n",
    "#list(nx.connected_components(graph))\n",
    "\n"
   ]
  },
  {
   "cell_type": "code",
   "execution_count": null,
   "metadata": {},
   "outputs": [],
   "source": []
  },
  {
   "cell_type": "code",
   "execution_count": null,
   "metadata": {},
   "outputs": [],
   "source": []
  },
  {
   "cell_type": "code",
   "execution_count": null,
   "metadata": {},
   "outputs": [],
   "source": [
    "\n"
   ]
  },
  {
   "cell_type": "code",
   "execution_count": 31,
   "metadata": {
    "scrolled": false
   },
   "outputs": [
    {
     "name": "stdout",
     "output_type": "stream",
     "text": [
      "[[25000400040729.0, 1], [25000400108020.0, 2], [25000400040724.0, 3], [25000400007107.0, 4], [25000400007106.0, 5], [25000400175089.0, 6], [25000400074075.0, 7], [25000400107798.0, 8], [25000400108019.0, 9], [25000400175304.0, 10], [25000400040725.0, 11], [25000400007320.0, 12], [25000400074306.0, 13], [25000400007109.0, 14], [25000400074076.0, 15], [25000400007108.0, 16], [25000400040325.0, 17], [25000400141373.0, 18], [25000400175091.0, 19], [25000400175090.0, 20], [25000400208871.0, 21], [25000400242778.0, 22]]\n",
      "----------------------------\n"
     ]
    }
   ],
   "source": [
    "coweeta_pairs = []\n",
    "#Coweeta_Graph=nx.Graph()\n",
    "NHD_Id_Index = []\n",
    "for i,n in enumerate(Connectivity_Orig['connectivity']):\n",
    "    NHD_Id_Index.append([n[0][1],i+1])\n",
    "    coweeta_pairs.append((int(n[2][1]),int(n[1][1])))\n",
    "    #Coweeta_Graph.add_nodes_from([int(n[2][1]),int(n[1][1])])\n",
    "Coweeta_Graph = nx.from_edgelist(coweeta_pairs)\n",
    "\n",
    "coweeta_pairs_index = []\n",
    "node_index_pair = []\n",
    "#print (Coweeta_Graph.node)\n",
    "for i,node in enumerate(Coweeta_Graph):\n",
    "    node_index_pair.append((node,i+1))\n",
    "\n",
    "#print (node_index_pair)\n",
    "print (NHD_Id_Index)\n",
    "print ('----------------------------')\n",
    "def get_index_from_node(node):\n",
    "    for n in node_index_pair:\n",
    "        if node == n[0]:\n",
    "            #print ('from node', node,n)\n",
    "            break\n",
    "    return n[1]\n",
    "\n",
    "def get_node_from_index(index):\n",
    "    for n in node_index_pair:\n",
    "        if index == n[1]:\n",
    "            print ('from index', index,n)\n",
    "            break\n",
    "    return n[0]\n",
    "\n",
    "for n in Connectivity_Orig['connectivity']:\n",
    "    x1 = get_index_from_node(int(n[2][1]))\n",
    "    x2 = get_index_from_node(int(n[1][1]))\n",
    "    coweeta_pairs_index.append((x1,x2))\n",
    "    #print (n)\n",
    "    \n",
    "Coweeta_Graph1 = nx.from_edgelist(coweeta_pairs_index)\n",
    "\n",
    "#for i,node in enumerate(Coweeta_Graph):\n",
    "#    get_index_from_node(node)\n",
    "#Coweeta_Graph1 = nx.from_edgelist(coweeta_pairs_index)\n",
    "#print (Coweeta_Graph1.nodes)"
   ]
  },
  {
   "cell_type": "code",
   "execution_count": 32,
   "metadata": {},
   "outputs": [],
   "source": [
    "#25000400040725.0\n",
    "#for i,node in enumerate(Coweeta_Graph1):\n",
    "    \n",
    "#get_node_from_index(3)"
   ]
  },
  {
   "cell_type": "code",
   "execution_count": null,
   "metadata": {},
   "outputs": [],
   "source": []
  },
  {
   "cell_type": "code",
   "execution_count": 33,
   "metadata": {},
   "outputs": [
    {
     "name": "stdout",
     "output_type": "stream",
     "text": [
      "25000400040729.0\n",
      "25000400108020.0\n",
      "25000400040724.0\n",
      "---- 25000400040724.0\n"
     ]
    }
   ],
   "source": [
    "for node in Connectivity['connectivity']:\n",
    "    print (node[0][1])\n",
    "   \n",
    "    if node[0][1] == 25000400040724.0:\n",
    "        print ('----',node[0][1])\n",
    "        break\n",
    "    "
   ]
  },
  {
   "cell_type": "code",
   "execution_count": null,
   "metadata": {},
   "outputs": [],
   "source": []
  },
  {
   "cell_type": "code",
   "execution_count": 34,
   "metadata": {},
   "outputs": [],
   "source": [
    "def treeDiagnostic(graph):\n",
    "    for node in graph:\n",
    "        edges,_ = node_get_upstream_edges(graph,[node])\n",
    "        for edge in edges:\n",
    "            print (edge)\n",
    "            assert edge[0] < edge[1]\n",
    "\n",
    "def numNodes(graph):\n",
    "    return len(graph.nodes)\n",
    "\n",
    "\n",
    "def isNeighborNode(graph,node):\n",
    "    ngh_nodes = list(graph.neighbors(node))\n",
    "    return  True if len(ngh_nodes) > 0 else False\n",
    "\n",
    "def node_get_edges(graph, node):\n",
    "    \n",
    "    edges = list(nx.edge_boundary(graph, node))\n",
    "    return edges\n",
    "\n",
    "def node_get_upstream_edges(graph, node):\n",
    "    edges = list(nx.edge_boundary(graph, node))\n",
    "    #print (graph.nodes, node)\n",
    "    parent = -100\n",
    "    for i,edge in enumerate(edges):\n",
    "        if edge[0] > edge[1]:\n",
    "            parent = edges[i]\n",
    "            edges.pop(i)\n",
    "    return edges, parent\n",
    "\n",
    "def isNeighborBoundaryNode(graph, edge):\n",
    "    ngh = list(graph.neighbors(edge[1]))\n",
    "    return False if len(ngh) > 1 else True\n",
    "\n",
    "def isBoundaryNode(graph, node):\n",
    "    assert (node != 1)\n",
    "    #print (node)\n",
    "    ngh = list(graph.neighbors(node))\n",
    "    return False if len(ngh) > 1 else True\n",
    "\n",
    "def get_node_index(graph, node):\n",
    "    #node1 = int(node)\n",
    "    print (node)\n",
    "    x = np.where(np.array(graph.nodes) == node)[0][0] + 1\n",
    "    return x\n",
    "\n",
    "def index_based_graph(graph):\n",
    "    Nodes_new_ids = np.linspace(1,len(graph),len(graph), dtype='i')\n",
    "    Nodes = graph.nodes\n",
    "\n",
    "\n",
    "    "
   ]
  },
  {
   "cell_type": "code",
   "execution_count": null,
   "metadata": {},
   "outputs": [],
   "source": []
  },
  {
   "cell_type": "code",
   "execution_count": null,
   "metadata": {},
   "outputs": [],
   "source": []
  },
  {
   "cell_type": "code",
   "execution_count": null,
   "metadata": {},
   "outputs": [],
   "source": []
  },
  {
   "cell_type": "code",
   "execution_count": null,
   "metadata": {},
   "outputs": [],
   "source": []
  },
  {
   "cell_type": "code",
   "execution_count": null,
   "metadata": {},
   "outputs": [],
   "source": [
    "from lxml import etree\n",
    "import lxml.builder\n",
    "import lxml.etree as ET\n",
    "Data = [10, 10, 10,10,10,10,10,10,10]\n",
    "EnumNodes = []\n",
    "\n",
    "def WriteXML3StreamSynthetic(data=Data):\n",
    "    root = ET.Element(\"ParameterList\", name=\"Main\")\n",
    "    segments = ET.SubElement(root,\"ParameterList\", name=\"segments\")\n",
    "    nam = ''\n",
    "    node_id_root = 0\n",
    "    for i,node in enumerate(graph_syn):\n",
    "        print ('Main LOOP: ',node)\n",
    "        depth = Data_NHD_ATS['stream_depth'][i]\n",
    "        length = Data_NHD_ATS['stream_length'][i]\n",
    "        if i ==0:\n",
    "            node_id_root = node\n",
    "                       \n",
    "            edges = node_get_edges(graph_syn,[node])[0]\n",
    "            print ('Edges', edges)\n",
    "            nam = 'stream_' + str(edges[0]) + '_' + str(edges[1]) \n",
    "            #print ('NODE main: ', node, edges, nam)\n",
    "            streams = ET.SubElement(segments,\"ParameterList\", name=\"%s\"%nam)\n",
    "            ET.SubElement(streams, \"Parameter\", name=\"segment length [m]\", type=\"double\", value=\"%s\"%length)#['total length'][i])\n",
    "            ET.SubElement(streams,\"Parameter\",name=\"number of cells\", type=\"int\", value=\"10\")\n",
    "            ET.SubElement(streams,\"Parameter\",name=\"orientation\", type=\"Array(double)\", value=\"{-1,0,0}\")\n",
    "            ET.SubElement(streams,\"Parameter\",name=\"cross sectional area [m^2]\", type=\"double\", value=\"%s\"%depth)\n",
    "            ET.SubElement(streams,\"Parameter\",name=\"first tip\", type=\"Array(double)\", value=\"{0.0,0.0,0.0}\")\n",
    "            ET.SubElement(streams,\"Parameter\",name=\"first tip type\", type=\"string\", value=\"boundary\")\n",
    "            ET.SubElement(streams,\"Parameter\",name=\"last tip type\", type=\"string\", value=\"junction\")\n",
    "        else:\n",
    "            nam = 'stream_' + str(node)\n",
    "            edges, parent = node_get_upstream_edges(graph_syn,[node])\n",
    "           \n",
    "            edge_len = len(edges)\n",
    "            \n",
    "            if edge_len == 0: #boundary edge\n",
    "                continue\n",
    "                \n",
    "            for j, child_node in enumerate(edges):\n",
    "                \n",
    "                if child_node[1] != node_id_root:\n",
    "                    nam = 'stream_' + str(child_node[0]) + '_' + str(child_node[1])\n",
    "                    streams = ET.SubElement(segments,\"ParameterList\", name=\"%s\"%nam)\n",
    "                    print ('ChildNode: ', child_node)\n",
    "                    ET.SubElement(streams,\"Parameter\",name=\"first tip type\", type=\"string\", value=\"branch\")\n",
    "                    ET.SubElement(streams,\"Parameter\",name=\"first tip branch segment\", type=\"string\", value=\"stream_%s_%s\"%(parent[1],parent[0]))\n",
    "                    ET.SubElement(streams,\"Parameter\",name=\"first tip branch segment tip\", type=\"string\", value=\"last\")\n",
    "                    \n",
    "                    if isBoundaryNode(graph_syn,child_node[1]):\n",
    "                        ET.SubElement(streams,\"Parameter\",name=\"last tip type\", type=\"string\", value=\"boundary\")\n",
    "                    else:\n",
    "                        ET.SubElement(streams,\"Parameter\",name=\"last tip type\", type=\"string\", value=\"junction\")\n",
    "\n",
    "                    \n",
    "                    ET.SubElement(streams,\"Parameter\",name=\"orientation\", type=\"Array(double)\", value=\"{-1,0,0}\")\n",
    "                    ET.SubElement(streams, \"Parameter\", name=\"segment length [m]\", type=\"double\", value=\"%s\"%length)\n",
    "                    ET.SubElement(streams,\"Parameter\",name=\"number of cells\", type=\"int\", value=\"10\") \n",
    "                    ET.SubElement(streams,\"Parameter\",name=\"cross sectional area [m^2]\", type=\"double\", value=\"%s\"%depth)\n",
    "                    \n",
    "                    i = i + j\n",
    "        \n",
    "        if (i >= len(graph_syn)):\n",
    "            break\n",
    "\n",
    "    Data= etree.tostring(segments,encoding=\"unicode\",pretty_print=True)\n",
    "    outfile= open('river.xml','w')\n",
    "\n",
    "    outfile.write(Data)\n",
    "\n"
   ]
  },
  {
   "cell_type": "code",
   "execution_count": null,
   "metadata": {},
   "outputs": [],
   "source": [
    "#WriteXML3StreamSynthetic(Data)"
   ]
  },
  {
   "cell_type": "code",
   "execution_count": null,
   "metadata": {},
   "outputs": [],
   "source": []
  },
  {
   "cell_type": "code",
   "execution_count": 56,
   "metadata": {},
   "outputs": [],
   "source": [
    "from lxml import etree\n",
    "import lxml.builder\n",
    "import lxml.etree as ET\n",
    "Data = np.ones(100)*19.\n",
    "num_nodes = numNodes(Coweeta_Graph1)\n",
    "fine_roots = []\n",
    "\n",
    "\n",
    "def WriteXML3StreamNHD(data=Data):\n",
    "    index = 0\n",
    "    root = ET.Element(\"ParameterList\", name=\"Main\")\n",
    "    ET.SubElement(root,\"Parameter\",name=\"infer cell centroids\",type=\"bool\", value=\"true\")\n",
    "    segments = ET.SubElement(root,\"ParameterList\", name=\"segments\")\n",
    "    nam = ''\n",
    "    node_id_root = 0\n",
    "    for i,node in enumerate(Coweeta_Graph1):\n",
    "        if i ==1:\n",
    "            break\n",
    "        #print ('Main LOOP: ', node)\n",
    "        \n",
    "        \n",
    "        length = Data_NHD_ATS[i][3][1]\n",
    "        width = Data_NHD_ATS[i][5][1]\n",
    "        orientation = Data_NHD_ATS[i][6][1]\n",
    "        print (width)\n",
    "        if i ==0:\n",
    "            index = 0\n",
    "            node_id_root = node\n",
    "                       \n",
    "            edges = node_get_edges(Coweeta_Graph1,[node])[0]\n",
    "            \n",
    "            nam = 'stream_' + str(edges[0]) + '_' + str(edges[1])\n",
    "            print ('Edges ', edges,nam)\n",
    "            streams = ET.SubElement(segments,\"ParameterList\", name=\"%s\"%nam)\n",
    "            ET.SubElement(streams, \"Parameter\", name=\"segment length [m]\", type=\"double\", value=\"%s\"%length)\n",
    "            #['total length'][i])\n",
    "            ET.SubElement(streams,\"Parameter\",name=\"number of cells\", type=\"int\", value=\"10\")\n",
    "            \n",
    "            n1,n2 = orientation[0],orientation[1]\n",
    "            #Data_NHD_ATS['orientation'][index][0], Data_NHD_ATS['orientation'][index][1]\n",
    "            ET.SubElement(streams,\"Parameter\",name=\"orientation\", type=\"Array(double)\", value=\"{%s,%s,0}\"%(n1,n2))\n",
    "            ET.SubElement(streams,\"Parameter\",name=\"cross sectional area [m^2]\", type=\"double\", value=\"%s\"%width)\n",
    "            ET.SubElement(streams,\"Parameter\",name=\"first tip\", type=\"Array(double)\", value=\"{0.0,0.0,0.0}\")\n",
    "            ET.SubElement(streams,\"Parameter\",name=\"first tip type\", type=\"string\", value=\"boundary\")\n",
    "            ET.SubElement(streams,\"Parameter\",name=\"last tip type\", type=\"string\", value=\"junction\")\n",
    "        else:\n",
    "            edges, parent = node_get_upstream_edges(Coweeta_Graph1,[node])\n",
    "           \n",
    "            edge_len = len(edges)\n",
    "            \n",
    "            if edge_len == 0: #boundary edge\n",
    "                continue\n",
    "                \n",
    "            for j, child_node in enumerate(edges):\n",
    "                \n",
    "                if child_node[1] != node_id_root:\n",
    "                    index = child_node[1] - 2 #index + 1\n",
    "                    nam = 'stream_' + str(child_node[0]) + '_' + str(child_node[1])\n",
    "                    streams = ET.SubElement(segments,\"ParameterList\", name=\"%s\"%nam)\n",
    "                    #print ('ChildNode: ', child_node, parent)\n",
    "                    ET.SubElement(streams,\"Parameter\",name=\"first tip type\", type=\"string\", value=\"branch\")\n",
    "                    ET.SubElement(streams,\"Parameter\",name=\"first tip branch segment\", type=\"string\", value=\"stream_%s_%s\"%(parent[1],parent[0]))\n",
    "                    ET.SubElement(streams,\"Parameter\",name=\"first tip branch segment tip\", type=\"string\", value=\"last\")\n",
    "                    \n",
    "                    if isBoundaryNode(Coweeta_Graph1,child_node[1]):\n",
    "                        ET.SubElement(streams,\"Parameter\",name=\"last tip type\", type=\"string\", value=\"boundary\")\n",
    "\n",
    "                    else:\n",
    "                        ET.SubElement(streams,\"Parameter\",name=\"last tip type\", type=\"string\", value=\"junction\")\n",
    "                    print (index,len(Data_NHD_ATS['orientation']))\n",
    "                    n1,n2 = orientation[0],orientation[1]\n",
    "                    #Data_NHD_ATS['orientation'][index][0], Data_NHD_ATS['orientation'][index][1]\n",
    "                    ET.SubElement(streams,\"Parameter\",name=\"orientation\", type=\"Array(double)\", value=\"{%s,%s,0}\"%(n1,n2))\n",
    "                    ET.SubElement(streams, \"Parameter\", name=\"segment length [m]\", type=\"double\", value=\"%s\"%length)\n",
    "                    ET.SubElement(streams,\"Parameter\",name=\"number of cells\", type=\"int\", value=\"10\") \n",
    "                    ET.SubElement(streams,\"Parameter\",name=\"cross sectional area [m^2]\", type=\"double\", value=\"%s\"%width)\n",
    "                    \n",
    "                    fine_roots.append(nam)\n",
    "                    \n",
    "                    i = i + j\n",
    "                \n",
    "        if (i >= len(Coweeta_Graph1)):   \n",
    "            break\n",
    "    sets = ET.SubElement(root,\"ParameterList\",name=\"sets\",type=\"bool\", value=\"true\")\n",
    "    ET.SubElement(sets,\"Parameter\",name=\"fine_root\",type=\"Array(string)\", value=\"%s\"%fine_roots)\n",
    "    Data= etree.tostring(root,encoding=\"unicode\",pretty_print=True)\n",
    "    #outfile= open('coweeta_river-1.xml','w')\n",
    "    outfile= open('one_segment.xml','w')\n",
    "\n",
    "    outfile.write(Data)\n",
    "\n",
    "\n"
   ]
  },
  {
   "cell_type": "code",
   "execution_count": 57,
   "metadata": {},
   "outputs": [
    {
     "name": "stdout",
     "output_type": "stream",
     "text": [
      "1.0\n",
      "Edges  (1, 2) stream_1_2\n"
     ]
    }
   ],
   "source": [
    "WriteXML3StreamNHD()"
   ]
  },
  {
   "cell_type": "code",
   "execution_count": null,
   "metadata": {},
   "outputs": [],
   "source": [
    "import h5py\n",
    "outfile='flux_pdepth.h5'\n",
    "d=h5py.File(outfile,'w')"
   ]
  },
  {
   "cell_type": "code",
   "execution_count": null,
   "metadata": {},
   "outputs": [],
   "source": []
  },
  {
   "cell_type": "code",
   "execution_count": null,
   "metadata": {},
   "outputs": [],
   "source": []
  },
  {
   "cell_type": "code",
   "execution_count": null,
   "metadata": {},
   "outputs": [],
   "source": [
    "\n",
    "\n"
   ]
  },
  {
   "cell_type": "code",
   "execution_count": null,
   "metadata": {},
   "outputs": [],
   "source": []
  },
  {
   "cell_type": "code",
   "execution_count": null,
   "metadata": {},
   "outputs": [],
   "source": []
  },
  {
   "cell_type": "code",
   "execution_count": null,
   "metadata": {},
   "outputs": [],
   "source": []
  },
  {
   "cell_type": "code",
   "execution_count": null,
   "metadata": {},
   "outputs": [],
   "source": []
  },
  {
   "cell_type": "code",
   "execution_count": null,
   "metadata": {},
   "outputs": [],
   "source": [
    "from lxml import etree\n",
    "import lxml.builder\n",
    "import lxml.etree as ET\n",
    "\n",
    "def WriteXML(data=Data):\n",
    "    root = ET.Element(\"ParameterList\", name=\"Main\")\n",
    "    segments = ET.SubElement(root,\"ParameterList\", name=\"segments\")\n",
    "    nam = ''\n",
    "    for i in range(22):\n",
    "        if i ==0:\n",
    "            nam = 'main_stream'\n",
    "        else:\n",
    "            nam = 'stream_' + str(i)\n",
    "        streams = ET.SubElement(segments,\"ParameterList\", name=\"%s\"%nam)\n",
    "        ET.SubElement(streams, \"Parameter\", name=\"total length\", type=\"double\", value=\"%s\"%data['total length'][i])\n",
    "        ET.SubElement(streams,\"Parameter\",name=\"number of cells\", type=\"int\", value=\"10\")\n",
    "        ET.SubElement(streams,\"Parameter\",name=\"cross sectional area [m^2]\", type=\"double\", value=\"6.87\")\n",
    "        ET.SubElement(streams,\"Parameter\",name=\"first tip\", type=\"Array(double)\", value=\"{0.0,0.0,0.0}\")\n",
    "        ET.SubElement(streams,\"Parameter\",name=\"first tip type\", type=\"string\", value=\"boundary\")\n",
    "        ET.SubElement(streams,\"Parameter\",name=\"last tip\", type=\"Array(double)\", value=\"{1000.0,0.0,0.0}\")\n",
    "        ET.SubElement(streams,\"Parameter\",name=\"last tip type\", type=\"string\", value=\"boundary\")\n",
    "\n",
    "    Data= etree.tostring(segments,encoding=\"unicode\",pretty_print=True)\n",
    "    outfile= open('river.xml','w')\n",
    "\n",
    "    outfile.write(Data)\n",
    "\n",
    "\n",
    "WriteXML(Data)"
   ]
  }
 ],
 "metadata": {
  "kernelspec": {
   "display_name": "Python 3",
   "language": "python",
   "name": "python3"
  },
  "language_info": {
   "codemirror_mode": {
    "name": "ipython",
    "version": 3
   },
   "file_extension": ".py",
   "mimetype": "text/x-python",
   "name": "python",
   "nbconvert_exporter": "python",
   "pygments_lexer": "ipython3",
   "version": "3.7.3"
  }
 },
 "nbformat": 4,
 "nbformat_minor": 2
}
